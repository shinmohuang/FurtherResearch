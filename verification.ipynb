{
 "cells": [
  {
   "cell_type": "code",
   "execution_count": 1,
   "id": "10416d8ed5597a6c",
   "metadata": {
    "collapsed": true,
    "ExecuteTime": {
     "end_time": "2023-12-11T22:37:39.783845805Z",
     "start_time": "2023-12-11T22:37:39.667553264Z"
    }
   },
   "outputs": [
    {
     "ename": "ModuleNotFoundError",
     "evalue": "No module named 'maraboupy'",
     "output_type": "error",
     "traceback": [
      "\u001B[0;31m---------------------------------------------------------------------------\u001B[0m",
      "\u001B[0;31mModuleNotFoundError\u001B[0m                       Traceback (most recent call last)",
      "Cell \u001B[0;32mIn[1], line 1\u001B[0m\n\u001B[0;32m----> 1\u001B[0m \u001B[38;5;28;01mfrom\u001B[39;00m \u001B[38;5;21;01mmaraboupy\u001B[39;00m \u001B[38;5;28;01mimport\u001B[39;00m Marabou, MarabouCore\n\u001B[1;32m      2\u001B[0m \u001B[38;5;28;01mimport\u001B[39;00m \u001B[38;5;21;01mnumpy\u001B[39;00m \u001B[38;5;28;01mas\u001B[39;00m \u001B[38;5;21;01mnp\u001B[39;00m\n\u001B[1;32m      3\u001B[0m \u001B[38;5;28;01mimport\u001B[39;00m \u001B[38;5;21;01mpandas\u001B[39;00m \u001B[38;5;28;01mas\u001B[39;00m \u001B[38;5;21;01mpd\u001B[39;00m\n",
      "\u001B[0;31mModuleNotFoundError\u001B[0m: No module named 'maraboupy'"
     ]
    }
   ],
   "source": [
    "from maraboupy import Marabou, MarabouCore\n",
    "import numpy as np\n",
    "import pandas as pd\n",
    "import csv\n",
    "import os\n",
    "import sys"
   ]
  },
  {
   "cell_type": "code",
   "execution_count": 2,
   "outputs": [],
   "source": [
    "def write_values_to_csv(values_dict, filename):\n",
    "    # 获取当前脚本的目录\n",
    "    current_directory = os.path.dirname(os.path.abspath(__file__))\n",
    "\n",
    "    # 将文件名与当前目录连接起来\n",
    "    full_path = os.path.join(current_directory, filename)\n",
    "\n",
    "    # 打开文件进行追加\n",
    "    with open(full_path, 'a', newline='') as csvfile:\n",
    "        writer = csv.writer(csvfile)\n",
    "\n",
    "        # 提取字典中的值并写入一行\n",
    "        values = list(values_dict.values())\n",
    "        writer.writerow(values)\n",
    "\n",
    "    print(f\"Values written to {full_path}\")\n"
   ],
   "metadata": {
    "collapsed": false,
    "ExecuteTime": {
     "end_time": "2023-12-01T21:28:52.294138941Z",
     "start_time": "2023-12-01T21:28:52.290204259Z"
    }
   },
   "id": "812ff60b0936ace3"
  },
  {
   "cell_type": "markdown",
   "source": [],
   "metadata": {
    "collapsed": false
   },
   "id": "aefa200d877ff721"
  },
  {
   "cell_type": "code",
   "execution_count": 3,
   "outputs": [],
   "source": [
    "    # bounds = pd.read_csv(\n",
    "    #     '/Code/Marabou/Behaviour_analysis_misclassification/bounds_3std.csv')\n",
    "    # bounds = pd.read_csv(\n",
    "    #     '/home/adam/Experiment/Code/Marabou/Behaviour_analysis_misclassification/bounds_fuzz90.csv'\n",
    "    # )"
   ],
   "metadata": {
    "collapsed": false,
    "ExecuteTime": {
     "end_time": "2023-12-01T21:28:54.034446921Z",
     "start_time": "2023-12-01T21:28:54.028793788Z"
    }
   },
   "id": "89d65f4c49df1a0b"
  },
  {
   "cell_type": "code",
   "execution_count": 4,
   "outputs": [],
   "source": [
    "# bounds = pd.read_csv(\n",
    "#     '/home/adam/Experiment/Code/Marabou/Behaviour_analysis_misclassification/Bounds/HR-STS/bounds_mixed_inputspacetop90.csv'\n",
    "#     )\n",
    "# high_fatigue = pd.DataFrame(bounds)\n",
    "\n",
    "file_name = 'model_without_softmax.onnx'\n",
    "# network = Marabou.read_onnx(file_name, inputNames='dense_0_input', outputNames='dense_62', reindexOutputVars=True)\n",
    "network = Marabou.read_onnx(file_name)"
   ],
   "metadata": {
    "collapsed": false,
    "ExecuteTime": {
     "end_time": "2023-12-01T21:28:55.081988833Z",
     "start_time": "2023-12-01T21:28:55.029187052Z"
    }
   },
   "id": "bcf72b1c839ab72d"
  },
  {
   "cell_type": "code",
   "execution_count": 3,
   "outputs": [
    {
     "ename": "NameError",
     "evalue": "name 'network' is not defined",
     "output_type": "error",
     "traceback": [
      "\u001B[0;31m---------------------------------------------------------------------------\u001B[0m",
      "\u001B[0;31mNameError\u001B[0m                                 Traceback (most recent call last)",
      "Cell \u001B[0;32mIn[3], line 2\u001B[0m\n\u001B[1;32m      1\u001B[0m \u001B[38;5;66;03m# 获取输入和输出变量\u001B[39;00m\n\u001B[0;32m----> 2\u001B[0m inputVars \u001B[38;5;241m=\u001B[39m \u001B[43mnetwork\u001B[49m\u001B[38;5;241m.\u001B[39minputVars[\u001B[38;5;241m0\u001B[39m][\u001B[38;5;241m0\u001B[39m]\n\u001B[1;32m      3\u001B[0m outputVars \u001B[38;5;241m=\u001B[39m network\u001B[38;5;241m.\u001B[39moutputVars[\u001B[38;5;241m0\u001B[39m]\n\u001B[1;32m      5\u001B[0m low_fatigue_idx \u001B[38;5;241m=\u001B[39m \u001B[38;5;241m0\u001B[39m\n",
      "\u001B[0;31mNameError\u001B[0m: name 'network' is not defined"
     ]
    }
   ],
   "source": [
    "# 获取输入和输出变量\n",
    "inputVars = network.inputVars[0][0]\n",
    "outputVars = network.outputVars[0]\n",
    "\n",
    "low_fatigue_idx = 0\n",
    "medium_fatigue_idx = 1\n",
    "high_fatigue_idx = 2\n",
    "len(outputVars)"
   ],
   "metadata": {
    "collapsed": false,
    "ExecuteTime": {
     "end_time": "2023-12-06T00:23:51.685919088Z",
     "start_time": "2023-12-06T00:23:51.525134810Z"
    }
   },
   "id": "f40624f5e5223dfe"
  },
  {
   "cell_type": "code",
   "execution_count": 11,
   "outputs": [],
   "source": [
    "high_fatigue = (\n",
    "    pd.read_csv('statistic_analysis/dataset_statistics_fatigue_level_2.csv'))\n",
    "high_fatigue= high_fatigue['mean'][:-1]\n"
   ],
   "metadata": {
    "collapsed": false,
    "ExecuteTime": {
     "end_time": "2023-12-01T21:32:26.946894969Z",
     "start_time": "2023-12-01T21:32:26.896080921Z"
    }
   },
   "id": "f749a64cd3b4672b"
  },
  {
   "cell_type": "code",
   "execution_count": 16,
   "outputs": [],
   "source": [
    "# 定义特定的输入点\n",
    "specific_input = high_fatigue  # 示例输入\n",
    "for i in range(len(specific_input)):\n",
    "    network.setLowerBound(inputVars[i], specific_input[i])\n",
    "    network.setUpperBound(inputVars[i], specific_input[i])\n",
    "\n",
    "# 定义输出条件\n",
    "# 例如，验证模型是否预测特定类别\n",
    "desired_output_class = 2  # 假设的类别索引\n",
    "for i in range(len(outputVars)):\n",
    "    if i != desired_output_class:\n",
    "        network.addInequality([outputVars[0][i], outputVars[0][desired_output_class]], [1, -1], 0)"
   ],
   "metadata": {
    "collapsed": false,
    "ExecuteTime": {
     "end_time": "2023-12-01T21:33:41.587490583Z",
     "start_time": "2023-12-01T21:33:41.579960833Z"
    }
   },
   "id": "c410be69844eed14"
  },
  {
   "cell_type": "code",
   "execution_count": 24,
   "outputs": [
    {
     "name": "stdout",
     "output_type": "stream",
     "text": [
      "unsat\n",
      "不存在满足条件的解\n"
     ]
    },
    {
     "data": {
      "text/plain": "'unsat'"
     },
     "execution_count": 24,
     "metadata": {},
     "output_type": "execute_result"
    }
   ],
   "source": [
    "\n",
    "# 运行验证\n",
    "vals = network.solve()[0] \n",
    "\n",
    "# 检查结果\n",
    "if vals == \"unsat\":\n",
    "    print(\"不存在满足条件的解\")\n",
    "else:\n",
    "    print(\"存在满足条件的解\")\n"
   ],
   "metadata": {
    "collapsed": false,
    "ExecuteTime": {
     "end_time": "2023-12-01T21:40:41.636904655Z",
     "start_time": "2023-12-01T21:40:41.610429696Z"
    }
   },
   "id": "3226433f3c500071"
  },
  {
   "cell_type": "code",
   "execution_count": 4,
   "outputs": [
    {
     "data": {
      "text/plain": "array([ 2.87564234e-01,  1.03989920e+03,  1.03844205e+03,  3.59398501e+03,\n       -1.33749575e+00,  3.52671006e+02,  3.56375051e+02,  1.36696022e+03,\n        1.14736151e+00,  2.86948715e+02,  2.89249768e+02,  1.14529116e+03,\n       -4.10519649e+00,  2.76937636e+01,  2.90917263e+01,  1.18546829e+02,\n       -5.61075626e+00,  3.58450226e+01,  3.68410393e+01,  1.44625599e+02,\n        8.88118063e+00,  3.86188563e+01,  4.02740673e+01,  1.54906283e+02,\n       -1.21770815e-01,  1.91183015e+02,  1.90969519e+02,  7.14631719e+02,\n        1.14417581e+00,  1.98848577e+02,  1.98954343e+02,  7.75410274e+02,\n        3.03383502e-02,  1.66570347e+02,  1.66442206e+02,  6.21980042e+02,\n        1.09594369e+01,  1.27089047e+01,  1.79387647e+01,  4.95351278e+01,\n       -8.67715588e-01,  1.07164921e+01,  1.10934212e+01,  4.10168183e+01,\n        1.03108644e+01,  1.05339402e+01,  1.65371107e+01,  4.42941513e+01,\n        1.43951356e+02,  4.92844821e+01, -2.21041797e+01,  1.72357162e+02,\n        1.35425866e+02,  3.54190692e-01,  2.58683344e-01,  1.00635472e+00,\n        7.44579588e+00,  4.28776293e+00,  8.70008273e+00,  1.58806130e+01,\n        3.68522837e-01,  1.82863387e-01,  8.18956408e+00])"
     },
     "execution_count": 4,
     "metadata": {},
     "output_type": "execute_result"
    }
   ],
   "source": [
    "# 加载模型和数据\n",
    "file_name = 'model_without_softmax.onnx'\n",
    "network = Marabou.read_onnx(file_name)\n",
    "\n",
    "# 获取输入和输出变量\n",
    "inputVars = network.inputVars[0][0]\n",
    "outputVars = network.outputVars[0]\n",
    "\n",
    "# 加载高疲劳统计数据\n",
    "high_fatigue = pd.read_csv('statistic_analysis/dataset_statistics_fatigue_level_2.csv')\n",
    "mean_values = high_fatigue['mean'][:-1].values\n",
    "mean_values"
   ],
   "metadata": {
    "collapsed": false,
    "ExecuteTime": {
     "end_time": "2023-12-06T00:24:11.827776581Z",
     "start_time": "2023-12-06T00:24:11.770037971Z"
    }
   },
   "id": "a2f56e434f38dccc"
  },
  {
   "cell_type": "code",
   "execution_count": 5,
   "outputs": [
    {
     "data": {
      "text/plain": "array([4.44794211e+00, 8.83514402e+01, 8.82712858e+01, 2.49604403e+02,\n       3.58706738e+00, 2.20770955e+01, 2.19121127e+01, 7.19718668e+01,\n       3.00096817e+00, 1.68120730e+01, 1.67660009e+01, 5.31858076e+01,\n       9.33380288e-01, 8.66402388e-01, 1.02444169e+00, 3.44423875e+00,\n       7.90206983e-01, 1.46185193e+00, 1.51469557e+00, 5.56763651e+00,\n       1.02754951e+00, 1.47756543e+00, 1.63049226e+00, 5.00706192e+00,\n       6.14657923e-01, 1.22856052e+01, 1.22664158e+01, 4.22478042e+01,\n       1.02552951e+00, 1.19568224e+01, 1.19199492e+01, 4.73920078e+01,\n       6.21643990e-01, 1.17666330e+01, 1.17512276e+01, 4.13997933e+01,\n       9.95621235e-01, 5.44015246e-01, 9.38211803e-01, 2.23323470e+00,\n       2.71490587e-01, 5.76685414e-01, 5.73056282e-01, 2.01561808e+00,\n       1.47111590e+00, 3.77706428e-01, 1.31912494e+00, 2.38458950e+00,\n       6.08012904e+00, 1.24991538e+00, 3.84836836e+01, 3.48430587e+01,\n       3.43174754e+00, 4.15005170e-02, 1.98186287e-02, 4.30879316e-02,\n       1.46492697e+00, 1.06934013e+00, 1.80838116e+00, 3.86445752e+00,\n       2.54413521e-02, 8.46581406e-03, 4.67146181e-01])"
     },
     "execution_count": 5,
     "metadata": {},
     "output_type": "execute_result"
    }
   ],
   "source": [
    "# 定义初始输入范围（以均值为中心的小范围）\n",
    "initial_range= [0.01] * 63  # 初始范围\n",
    "step_size = high_fatigue['std'][:-1].values * 0.1      # 每次迭代增加的范围\n",
    "step_size"
   ],
   "metadata": {
    "collapsed": false,
    "ExecuteTime": {
     "end_time": "2023-12-06T00:24:39.178362948Z",
     "start_time": "2023-12-06T00:24:39.169385793Z"
    }
   },
   "id": "aea639edd598c0bd"
  },
  {
   "cell_type": "code",
   "execution_count": null,
   "outputs": [],
   "source": [
    "options = Marabou.createOptions(numWorkers=20, initialTimeout=5, initialSplits=100, onlineSplits=100,\n",
    "                                    timeoutInSeconds=1800, timeoutFactor=1.5,\n",
    "                                    verbosity=2, snc=True, splittingStrategy='auto',\n",
    "                                    sncSplittingStrategy='auto', restoreTreeStates=False,\n",
    "                                    splitThreshold=20, solveWithMILP=True, dumpBounds=True)\n",
    "# 迭代过程\n",
    "unsat = True\n",
    "while unsat:\n",
    "    # 重置网络\n",
    "    network = Marabou.read_onnx(file_name)\n",
    "\n",
    "    # 设置输入范围\n",
    "    for i, mean_val in enumerate(mean_values):\n",
    "        network.setLowerBound(inputVars[i], mean_val - initial_range[i])\n",
    "        network.setUpperBound(inputVars[i], mean_val + initial_range[i])\n",
    "\n",
    "    # 定义输出条件\n",
    "    desired_output_class = 2  # 高疲劳类别索引\n",
    "    for i in range(len(outputVars)):\n",
    "        if i != desired_output_class:\n",
    "            network.addInequality([outputVars[0][i], outputVars[0][desired_output_class]], [1, -1], 0)\n",
    "\n",
    "    # 运行验证\n",
    "    vals = network.solve(verbose=True,options=options)[0]\n",
    "\n",
    "    # 检查结果\n",
    "    if vals == \"unsat\":\n",
    "        # 如果是 UNSAT，增加输入范围\n",
    "        for i in range(len(initial_range)):\n",
    "            initial_range[i] += step_size[i]\n",
    "    else:\n",
    "        # 如果不是 UNSAT，停止迭代\n",
    "        unsat = False\n",
    "\n",
    "# 输出最小 UNSAT 范围\n",
    "print(f\"最小 UNSAT 范围: {initial_range - step_size}\")"
   ],
   "metadata": {
    "collapsed": false
   },
   "id": "95ae5d805d760621"
  },
  {
   "cell_type": "code",
   "execution_count": null,
   "outputs": [],
   "source": [
    "\n",
    "# 定义输入范围（如果有特定的输入范围）\n",
    "# 例如，为每个输入变量设置范围\n",
    "for var in inputVars:\n",
    "    network.setLowerBound(var, lower_bound)  # 输入变量的下界\n",
    "    network.setUpperBound(var, upper_bound)  # 输入变量的上界\n",
    "\n",
    "# 定义输出约束\n",
    "# 确保 'high fatigue' 的输出总是高于 'low' 和 'medium' fatigue\n",
    "network.addInequality([outputVars[high_fatigue_idx], outputVars[low_fatigue_idx]], [1, -1], 0)   # high > low\n",
    "network.addInequality([outputVars[high_fatigue_idx], outputVars[medium_fatigue_idx]], [1, -1], 0) # high > medium\n",
    "\n",
    "# 解决验证问题\n",
    "options = Marabou.createOptions(solveWithMILP=True)  # 使用MILP解决更复杂的问题\n",
    "vals, stats = network.solve(options=options)\n",
    "\n",
    "# 检查是否找到解 \n",
    "if len(vals) > 0:\n",
    "    print(\"找到满足条件的解\")\n",
    "else:\n",
    "    print(\"未找到满足条件的解，可能意味着在指定条件下不存在违反约束的情况\")"
   ],
   "metadata": {
    "collapsed": false
   },
   "id": "4274ed9e56b3be29"
  },
  {
   "cell_type": "code",
   "execution_count": null,
   "outputs": [],
   "source": [
    "\n",
    "    # High fatigue query\n",
    "    inputVars = network.inputVars[0][0]\n",
    "\n",
    "    # Set the upper bound of each input variable to the high_fatigue upper bound\n",
    "    for i, (var_name, bounds) in enumerate(high_fatigue.iterrows()):\n",
    "        network.setUpperBound(inputVars[i], bounds['upper_bound'])\n",
    "        network.setLowerBound(inputVars[i], bounds['lower_bound'])\n",
    "\n",
    "    # Set the lower and upper bounds for the output variable(0-6 means low or medium fatigue)\n",
    "    outputVars = network.outputVars[0]\n",
    "    for i in range(len(outputVars)):\n",
    "        for j in range(len(outputVars[i])):\n",
    "            network.setLowerBound(outputVars[i][j], 0)\n",
    "            network.setUpperBound(outputVars[i][j], 6)\n",
    "\n",
    "    options = Marabou.createOptions(numWorkers=20, initialTimeout=5, initialSplits=100, onlineSplits=100,\n",
    "                                    timeoutInSeconds=1800, timeoutFactor=1.5,\n",
    "                                    verbosity=2, snc=True, splittingStrategy='auto',\n",
    "                                    sncSplittingStrategy='auto', restoreTreeStates=False,\n",
    "                                    splitThreshold=20, solveWithMILP=False, dumpBounds=True)\n",
    "    # Execute query in a loop\n",
    "    try:\n",
    "\n",
    "        while True:\n",
    "            result = network.solve(\n",
    "                filename='/home/adam/Experiment/Code/Marabou/logs/Behviour_analysis_mixedtop90.log',\n",
    "                options=options)\n",
    "            status, values, stats = result\n",
    "            write_values_to_csv(values, 'HR-STSmixed_results/highfatigue_mixedtop90_005.csv')\n",
    "            time += stats.getTotalTimeInMicro()\n",
    "            count += 1\n",
    "\n",
    "            # if time > 180000000:\n",
    "            #     print(\"Timeout.\")\n",
    "            #     print(\"Time:\", time)\n",
    "            #     break\n",
    "\n",
    "            # If return 'sat', which means there are some high fatigue data in the dataset is classified as low or medium fatigue\n",
    "            if status == \"sat\":\n",
    "                print(\"Solution: \", count, \" found!\")\n",
    "                # print(\"Values:\", values)\n",
    "\n",
    "                print(\"Time:\", time)\n",
    "\n",
    "                # If result is SAT, add a new constraint to exclude the current solution\n",
    "                for i in range(len(inputVars)):\n",
    "                    # Create a constraint that the variable is less than the current solution\n",
    "                    eq1 = MarabouCore.Equation(MarabouCore.Equation.LE)\n",
    "                    eq1.addAddend(1, inputVars[i])\n",
    "                    # Subtract a small value to avoid the current solution\n",
    "                    eq1.setScalar(values[inputVars[i].item()] - 0.05)\n",
    "\n",
    "                    # Create a constraint that the variable is greater than the current solution\n",
    "                    eq2 = MarabouCore.Equation(MarabouCore.Equation.GE)\n",
    "                    eq2.addAddend(1, inputVars[i])\n",
    "                    # Add a small value to avoid the current solution\n",
    "                    eq2.setScalar(values[inputVars[i].item()] + 0.05)\n",
    "\n",
    "                    # Add the disjunction of the two constraints to the network\n",
    "                    network.addDisjunctionConstraint([[eq1], [eq2]])\n",
    "\n",
    "            elif status == \"unsat\":\n",
    "                print(\"No solution found.\")\n",
    "                print(\"Time:\", time)\n",
    "                break\n",
    "\n",
    "            pass\n",
    "\n",
    "    except KeyboardInterrupt:\n",
    "        print(\"Interrupted\")\n",
    "        sys.exit()\n",
    "\n",
    "\n",
    "if __name__ == \"__main__\":\n",
    "    main()\n"
   ],
   "metadata": {
    "collapsed": false
   },
   "id": "initial_id"
  }
 ],
 "metadata": {
  "kernelspec": {
   "display_name": "Python 3",
   "language": "python",
   "name": "python3"
  },
  "language_info": {
   "codemirror_mode": {
    "name": "ipython",
    "version": 2
   },
   "file_extension": ".py",
   "mimetype": "text/x-python",
   "name": "python",
   "nbconvert_exporter": "python",
   "pygments_lexer": "ipython2",
   "version": "2.7.6"
  }
 },
 "nbformat": 4,
 "nbformat_minor": 5
}
