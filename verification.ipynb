{
 "cells": [
  {
   "cell_type": "code",
   "execution_count": 1,
   "id": "10416d8ed5597a6c",
   "metadata": {
    "collapsed": true,
    "ExecuteTime": {
     "end_time": "2023-12-01T21:28:51.339801264Z",
     "start_time": "2023-12-01T21:28:49.090737111Z"
    }
   },
   "outputs": [
    {
     "name": "stdout",
     "output_type": "stream",
     "text": [
      "WARNING:tensorflow:From /home/adam/miniconda3/envs/marabou_env/lib/python3.10/site-packages/tensorflow/python/compat/v2_compat.py:107: disable_resource_variables (from tensorflow.python.ops.variable_scope) is deprecated and will be removed in a future version.\n",
      "Instructions for updating:\n",
      "non-resource variables are not supported in the long term\n"
     ]
    }
   ],
   "source": [
    "from maraboupy import Marabou, MarabouCore\n",
    "import numpy as np\n",
    "import pandas as pd\n",
    "import csv\n",
    "import os\n",
    "import sys"
   ]
  },
  {
   "cell_type": "code",
   "execution_count": 2,
   "outputs": [],
   "source": [
    "def write_values_to_csv(values_dict, filename):\n",
    "    # 获取当前脚本的目录\n",
    "    current_directory = os.path.dirname(os.path.abspath(__file__))\n",
    "\n",
    "    # 将文件名与当前目录连接起来\n",
    "    full_path = os.path.join(current_directory, filename)\n",
    "\n",
    "    # 打开文件进行追加\n",
    "    with open(full_path, 'a', newline='') as csvfile:\n",
    "        writer = csv.writer(csvfile)\n",
    "\n",
    "        # 提取字典中的值并写入一行\n",
    "        values = list(values_dict.values())\n",
    "        writer.writerow(values)\n",
    "\n",
    "    print(f\"Values written to {full_path}\")\n"
   ],
   "metadata": {
    "collapsed": false,
    "ExecuteTime": {
     "end_time": "2023-12-01T21:28:52.294138941Z",
     "start_time": "2023-12-01T21:28:52.290204259Z"
    }
   },
   "id": "812ff60b0936ace3"
  },
  {
   "cell_type": "markdown",
   "source": [],
   "metadata": {
    "collapsed": false
   },
   "id": "aefa200d877ff721"
  },
  {
   "cell_type": "code",
   "execution_count": 3,
   "outputs": [],
   "source": [
    "    # bounds = pd.read_csv(\n",
    "    #     '/Code/Marabou/Behaviour_analysis_misclassification/bounds_3std.csv')\n",
    "    # bounds = pd.read_csv(\n",
    "    #     '/home/adam/Experiment/Code/Marabou/Behaviour_analysis_misclassification/bounds_fuzz90.csv'\n",
    "    # )"
   ],
   "metadata": {
    "collapsed": false,
    "ExecuteTime": {
     "end_time": "2023-12-01T21:28:54.034446921Z",
     "start_time": "2023-12-01T21:28:54.028793788Z"
    }
   },
   "id": "89d65f4c49df1a0b"
  },
  {
   "cell_type": "code",
   "execution_count": 4,
   "outputs": [],
   "source": [
    "# bounds = pd.read_csv(\n",
    "#     '/home/adam/Experiment/Code/Marabou/Behaviour_analysis_misclassification/Bounds/HR-STS/bounds_mixed_inputspacetop90.csv'\n",
    "#     )\n",
    "# high_fatigue = pd.DataFrame(bounds)\n",
    "\n",
    "file_name = 'model_without_softmax.onnx'\n",
    "# network = Marabou.read_onnx(file_name, inputNames='dense_0_input', outputNames='dense_62', reindexOutputVars=True)\n",
    "network = Marabou.read_onnx(file_name)"
   ],
   "metadata": {
    "collapsed": false,
    "ExecuteTime": {
     "end_time": "2023-12-01T21:28:55.081988833Z",
     "start_time": "2023-12-01T21:28:55.029187052Z"
    }
   },
   "id": "bcf72b1c839ab72d"
  },
  {
   "cell_type": "code",
   "execution_count": 14,
   "outputs": [
    {
     "data": {
      "text/plain": "1"
     },
     "execution_count": 14,
     "metadata": {},
     "output_type": "execute_result"
    }
   ],
   "source": [
    "# 获取输入和输出变量\n",
    "inputVars = network.inputVars[0][0]\n",
    "outputVars = network.outputVars[0]\n",
    "\n",
    "low_fatigue_idx = 0\n",
    "medium_fatigue_idx = 1\n",
    "high_fatigue_idx = 2\n",
    "len(outputVars)"
   ],
   "metadata": {
    "collapsed": false,
    "ExecuteTime": {
     "end_time": "2023-12-01T21:33:11.488293736Z",
     "start_time": "2023-12-01T21:33:11.470984498Z"
    }
   },
   "id": "f40624f5e5223dfe"
  },
  {
   "cell_type": "code",
   "execution_count": 11,
   "outputs": [],
   "source": [
    "high_fatigue = (\n",
    "    pd.read_csv('statistic_analysis/dataset_statistics_fatigue_level_2.csv'))\n",
    "high_fatigue= high_fatigue['mean'][:-1]\n"
   ],
   "metadata": {
    "collapsed": false,
    "ExecuteTime": {
     "end_time": "2023-12-01T21:32:26.946894969Z",
     "start_time": "2023-12-01T21:32:26.896080921Z"
    }
   },
   "id": "f749a64cd3b4672b"
  },
  {
   "cell_type": "code",
   "execution_count": 16,
   "outputs": [],
   "source": [
    "# 定义特定的输入点\n",
    "specific_input = high_fatigue  # 示例输入\n",
    "for i in range(len(specific_input)):\n",
    "    network.setLowerBound(inputVars[i], specific_input[i])\n",
    "    network.setUpperBound(inputVars[i], specific_input[i])\n",
    "\n",
    "# 定义输出条件\n",
    "# 例如，验证模型是否预测特定类别\n",
    "desired_output_class = 2  # 假设的类别索引\n",
    "for i in range(len(outputVars)):\n",
    "    if i != desired_output_class:\n",
    "        network.addInequality([outputVars[0][i], outputVars[0][desired_output_class]], [1, -1], 0)"
   ],
   "metadata": {
    "collapsed": false,
    "ExecuteTime": {
     "end_time": "2023-12-01T21:33:41.587490583Z",
     "start_time": "2023-12-01T21:33:41.579960833Z"
    }
   },
   "id": "c410be69844eed14"
  },
  {
   "cell_type": "code",
   "execution_count": 24,
   "outputs": [
    {
     "name": "stdout",
     "output_type": "stream",
     "text": [
      "unsat\n",
      "不存在满足条件的解\n"
     ]
    },
    {
     "data": {
      "text/plain": "'unsat'"
     },
     "execution_count": 24,
     "metadata": {},
     "output_type": "execute_result"
    }
   ],
   "source": [
    "\n",
    "# 运行验证\n",
    "vals = network.solve()[0] \n",
    "\n",
    "# 检查结果\n",
    "if vals == \"unsat\":\n",
    "    print(\"不存在满足条件的解\")\n",
    "else:\n",
    "    print(\"存在满足条件的解\")\n"
   ],
   "metadata": {
    "collapsed": false,
    "ExecuteTime": {
     "end_time": "2023-12-01T21:40:41.636904655Z",
     "start_time": "2023-12-01T21:40:41.610429696Z"
    }
   },
   "id": "3226433f3c500071"
  },
  {
   "cell_type": "code",
   "execution_count": null,
   "outputs": [],
   "source": [
    "\n",
    "# 定义输入范围（如果有特定的输入范围）\n",
    "# 例如，为每个输入变量设置范围\n",
    "for var in inputVars:\n",
    "    network.setLowerBound(var, lower_bound)  # 输入变量的下界\n",
    "    network.setUpperBound(var, upper_bound)  # 输入变量的上界\n",
    "\n",
    "# 定义输出约束\n",
    "# 确保 'high fatigue' 的输出总是高于 'low' 和 'medium' fatigue\n",
    "network.addInequality([outputVars[high_fatigue_idx], outputVars[low_fatigue_idx]], [1, -1], 0)   # high > low\n",
    "network.addInequality([outputVars[high_fatigue_idx], outputVars[medium_fatigue_idx]], [1, -1], 0) # high > medium\n",
    "\n",
    "# 解决验证问题\n",
    "options = Marabou.createOptions(solveWithMILP=True)  # 使用MILP解决更复杂的问题\n",
    "vals, stats = network.solve(options=options)\n",
    "\n",
    "# 检查是否找到解 \n",
    "if len(vals) > 0:\n",
    "    print(\"找到满足条件的解\")\n",
    "else:\n",
    "    print(\"未找到满足条件的解，可能意味着在指定条件下不存在违反约束的情况\")"
   ],
   "metadata": {
    "collapsed": false
   },
   "id": "4274ed9e56b3be29"
  },
  {
   "cell_type": "code",
   "execution_count": null,
   "outputs": [],
   "source": [
    "\n",
    "    # High fatigue query\n",
    "    inputVars = network.inputVars[0][0]\n",
    "\n",
    "    # Set the upper bound of each input variable to the high_fatigue upper bound\n",
    "    for i, (var_name, bounds) in enumerate(high_fatigue.iterrows()):\n",
    "        network.setUpperBound(inputVars[i], bounds['upper_bound'])\n",
    "        network.setLowerBound(inputVars[i], bounds['lower_bound'])\n",
    "\n",
    "    # Set the lower and upper bounds for the output variable(0-6 means low or medium fatigue)\n",
    "    outputVars = network.outputVars[0]\n",
    "    for i in range(len(outputVars)):\n",
    "        for j in range(len(outputVars[i])):\n",
    "            network.setLowerBound(outputVars[i][j], 0)\n",
    "            network.setUpperBound(outputVars[i][j], 6)\n",
    "\n",
    "    options = Marabou.createOptions(numWorkers=20, initialTimeout=5, initialSplits=100, onlineSplits=100,\n",
    "                                    timeoutInSeconds=1800, timeoutFactor=1.5,\n",
    "                                    verbosity=2, snc=True, splittingStrategy='auto',\n",
    "                                    sncSplittingStrategy='auto', restoreTreeStates=False,\n",
    "                                    splitThreshold=20, solveWithMILP=False, dumpBounds=True)\n",
    "    # Execute query in a loop\n",
    "    try:\n",
    "\n",
    "        while True:\n",
    "            result = network.solve(\n",
    "                filename='/home/adam/Experiment/Code/Marabou/logs/Behviour_analysis_mixedtop90.log',\n",
    "                options=options)\n",
    "            status, values, stats = result\n",
    "            write_values_to_csv(values, 'HR-STSmixed_results/highfatigue_mixedtop90_005.csv')\n",
    "            time += stats.getTotalTimeInMicro()\n",
    "            count += 1\n",
    "\n",
    "            # if time > 180000000:\n",
    "            #     print(\"Timeout.\")\n",
    "            #     print(\"Time:\", time)\n",
    "            #     break\n",
    "\n",
    "            # If return 'sat', which means there are some high fatigue data in the dataset is classified as low or medium fatigue\n",
    "            if status == \"sat\":\n",
    "                print(\"Solution: \", count, \" found!\")\n",
    "                # print(\"Values:\", values)\n",
    "\n",
    "                print(\"Time:\", time)\n",
    "\n",
    "                # If result is SAT, add a new constraint to exclude the current solution\n",
    "                for i in range(len(inputVars)):\n",
    "                    # Create a constraint that the variable is less than the current solution\n",
    "                    eq1 = MarabouCore.Equation(MarabouCore.Equation.LE)\n",
    "                    eq1.addAddend(1, inputVars[i])\n",
    "                    # Subtract a small value to avoid the current solution\n",
    "                    eq1.setScalar(values[inputVars[i].item()] - 0.05)\n",
    "\n",
    "                    # Create a constraint that the variable is greater than the current solution\n",
    "                    eq2 = MarabouCore.Equation(MarabouCore.Equation.GE)\n",
    "                    eq2.addAddend(1, inputVars[i])\n",
    "                    # Add a small value to avoid the current solution\n",
    "                    eq2.setScalar(values[inputVars[i].item()] + 0.05)\n",
    "\n",
    "                    # Add the disjunction of the two constraints to the network\n",
    "                    network.addDisjunctionConstraint([[eq1], [eq2]])\n",
    "\n",
    "            elif status == \"unsat\":\n",
    "                print(\"No solution found.\")\n",
    "                print(\"Time:\", time)\n",
    "                break\n",
    "\n",
    "            pass\n",
    "\n",
    "    except KeyboardInterrupt:\n",
    "        print(\"Interrupted\")\n",
    "        sys.exit()\n",
    "\n",
    "\n",
    "if __name__ == \"__main__\":\n",
    "    main()\n"
   ],
   "metadata": {
    "collapsed": false
   },
   "id": "initial_id"
  }
 ],
 "metadata": {
  "kernelspec": {
   "display_name": "Python 3",
   "language": "python",
   "name": "python3"
  },
  "language_info": {
   "codemirror_mode": {
    "name": "ipython",
    "version": 2
   },
   "file_extension": ".py",
   "mimetype": "text/x-python",
   "name": "python",
   "nbconvert_exporter": "python",
   "pygments_lexer": "ipython2",
   "version": "2.7.6"
  }
 },
 "nbformat": 4,
 "nbformat_minor": 5
}
