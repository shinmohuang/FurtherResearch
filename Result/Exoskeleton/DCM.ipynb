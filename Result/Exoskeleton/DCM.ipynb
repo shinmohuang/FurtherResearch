{
 "cells": [
  {
   "cell_type": "code",
   "execution_count": 4,
   "id": "initial_id",
   "metadata": {
    "collapsed": true,
    "ExecuteTime": {
     "end_time": "2024-03-26T21:35:01.547366Z",
     "start_time": "2024-03-26T21:35:01.543817Z"
    }
   },
   "outputs": [],
   "source": [
    "import numpy as np\n",
    "import pandas as pd\n",
    "import matplotlib.pyplot as plt\n"
   ]
  },
  {
   "cell_type": "code",
   "outputs": [],
   "source": [
    "# read the first 63 colum counter example and dataset\n",
    "Baseline_ce = pd.read_csv('/home/adam/FurtherResearch/Result/Exoskeleton/Baseline/counterExample.csv', header=None, usecols=range(63))\n",
    "BMI_ce = pd.read_csv('/home/adam/FurtherResearch/Result/Exoskeleton/BMI/counterExample.csv', header=None, usecols=range(65))\n",
    "\n",
    "Baseline_dataset = pd.read_csv('/home/adam/FurtherResearch/Dataset/Exoskeleton/Original_Normalized.csv', usecols=range(63))\n",
    "BMI_dataset = pd.read_csv('/home/adam/FurtherResearch/Dataset/Exoskeleton/Original+age+BMI_Normalized.csv', usecols=range(65))"
   ],
   "metadata": {
    "collapsed": false,
    "ExecuteTime": {
     "end_time": "2024-03-26T21:35:03.587995Z",
     "start_time": "2024-03-26T21:35:03.522712Z"
    }
   },
   "id": "765f4e491fdd3d05",
   "execution_count": 5
  },
  {
   "cell_type": "code",
   "outputs": [
    {
     "data": {
      "text/plain": "      IMU1_GyroX_Mean  IMU1_GyroX_StdDev  IMU1_GyroX_RMS  IMU1_GyroX_Amp  \\\n0            0.060205           1.600175        1.580405        1.482825   \n1            0.005207          -0.355646       -0.353418       -0.268892   \n2            0.013564          -0.360963       -0.358499       -0.617468   \n3            0.001029          -0.380835       -0.380480       -0.686132   \n4            0.003832          -0.393587       -0.391205       -0.518997   \n...               ...                ...             ...             ...   \n1828        -0.191094           0.003310        0.005981       -0.187727   \n1829         0.006145          -0.310686       -0.308496       -0.093801   \n1830         0.001828          -0.368291       -0.368424       -0.679880   \n1831         0.004051          -0.385957       -0.383644       -0.490703   \n1832        -0.032306          -0.065337       -0.062681       -0.272709   \n\n      IMU1_GyroY_Mean  IMU1_GyroY_StdDev  IMU1_GyroY_RMS  IMU1_GyroY_Amp  \\\n0            0.243487           0.784506        0.782552        0.506155   \n1            0.001427          -0.468684       -0.469208       -0.551906   \n2           -0.014257           0.078832        0.076034       -0.058071   \n3           -0.013484          -0.319083       -0.321037       -0.541032   \n4            0.001857          -0.468375       -0.468949       -0.520815   \n...               ...                ...             ...             ...   \n1828        -0.013479           0.125478        0.117992       -0.002989   \n1829        -0.000152          -0.364182       -0.364814       -0.089957   \n1830        -0.000216          -0.338638       -0.340269       -0.541742   \n1831         0.001972          -0.411847       -0.412519       -0.304951   \n1832        -0.005254           0.081267        0.074235       -0.029270   \n\n      IMU1_GyroZ_Mean  IMU1_GyroZ_StdDev  ...  OFS_FIB_IMNF  EMG_EMG_Mean  \\\n0            0.161605           1.461694  ...     -0.421944      0.971489   \n1            0.025909          -0.508283  ...     -0.542974     -0.413871   \n2           -0.015228          -0.279963  ...     -0.606860     -0.158965   \n3            0.012003          -0.330383  ...     -0.709230      0.067545   \n4            0.025464          -0.478001  ...      1.085494     -0.413103   \n...               ...                ...  ...           ...           ...   \n1828         0.268696           0.111833  ...      3.631204     -0.077827   \n1829         0.024601          -0.467105  ...      1.033988     -0.411082   \n1830         0.022319          -0.360214  ...     -0.720431     -0.058197   \n1831         0.026078          -0.528243  ...     -0.358072     -0.413801   \n1832        -0.022380          -0.027978  ...     -0.444779     -0.180708   \n\n      EMG_EMG_StdDev  EMG_EMG_RMS  EMG_EMG_Amp  EMG_EMG_MNF  EMG_EMG_MDF  \\\n0           0.461614     0.824085     0.352014    -0.478368    -0.383219   \n1          -0.326746    -0.392839    -0.344575    -0.087070    -0.197721   \n2          -0.199052    -0.171472    -0.205983    -0.350451    -0.070816   \n3          -0.137647     0.002724    -0.116573     0.115849    -0.482322   \n4          -0.325732    -0.391145    -0.340646     0.111783     0.335197   \n...              ...          ...          ...          ...          ...   \n1828       -0.212697    -0.127664    -0.183016    -0.141219    -0.198315   \n1829       -0.327097    -0.390855    -0.345345    -0.629152    -0.553599   \n1830       -0.178229    -0.096772    -0.117243     0.419082    -0.639039   \n1831       -0.326984    -0.392998    -0.345335    -0.285879     0.139345   \n1832       -0.239221    -0.205048    -0.247961    -0.132951    -0.295007   \n\n      EMG_EMG_IMNF       Age       BMI  \n0        -0.236133 -0.623988 -0.257250  \n1        -0.444717 -1.025452 -0.164176  \n2        -0.371881 -0.623988  0.515171  \n3        -0.300795 -0.623988 -0.622782  \n4        -0.373682  2.186259  2.601307  \n...            ...       ...       ...  \n1828     -0.224025 -0.623988 -0.550005  \n1829     -0.164610 -0.222525  0.609808  \n1830     -0.372279 -0.623988 -0.622782  \n1831      0.008841 -0.623988  1.792315  \n1832     -0.329383 -0.623988 -0.550005  \n\n[1833 rows x 65 columns]",
      "text/html": "<div>\n<style scoped>\n    .dataframe tbody tr th:only-of-type {\n        vertical-align: middle;\n    }\n\n    .dataframe tbody tr th {\n        vertical-align: top;\n    }\n\n    .dataframe thead th {\n        text-align: right;\n    }\n</style>\n<table border=\"1\" class=\"dataframe\">\n  <thead>\n    <tr style=\"text-align: right;\">\n      <th></th>\n      <th>IMU1_GyroX_Mean</th>\n      <th>IMU1_GyroX_StdDev</th>\n      <th>IMU1_GyroX_RMS</th>\n      <th>IMU1_GyroX_Amp</th>\n      <th>IMU1_GyroY_Mean</th>\n      <th>IMU1_GyroY_StdDev</th>\n      <th>IMU1_GyroY_RMS</th>\n      <th>IMU1_GyroY_Amp</th>\n      <th>IMU1_GyroZ_Mean</th>\n      <th>IMU1_GyroZ_StdDev</th>\n      <th>...</th>\n      <th>OFS_FIB_IMNF</th>\n      <th>EMG_EMG_Mean</th>\n      <th>EMG_EMG_StdDev</th>\n      <th>EMG_EMG_RMS</th>\n      <th>EMG_EMG_Amp</th>\n      <th>EMG_EMG_MNF</th>\n      <th>EMG_EMG_MDF</th>\n      <th>EMG_EMG_IMNF</th>\n      <th>Age</th>\n      <th>BMI</th>\n    </tr>\n  </thead>\n  <tbody>\n    <tr>\n      <th>0</th>\n      <td>0.060205</td>\n      <td>1.600175</td>\n      <td>1.580405</td>\n      <td>1.482825</td>\n      <td>0.243487</td>\n      <td>0.784506</td>\n      <td>0.782552</td>\n      <td>0.506155</td>\n      <td>0.161605</td>\n      <td>1.461694</td>\n      <td>...</td>\n      <td>-0.421944</td>\n      <td>0.971489</td>\n      <td>0.461614</td>\n      <td>0.824085</td>\n      <td>0.352014</td>\n      <td>-0.478368</td>\n      <td>-0.383219</td>\n      <td>-0.236133</td>\n      <td>-0.623988</td>\n      <td>-0.257250</td>\n    </tr>\n    <tr>\n      <th>1</th>\n      <td>0.005207</td>\n      <td>-0.355646</td>\n      <td>-0.353418</td>\n      <td>-0.268892</td>\n      <td>0.001427</td>\n      <td>-0.468684</td>\n      <td>-0.469208</td>\n      <td>-0.551906</td>\n      <td>0.025909</td>\n      <td>-0.508283</td>\n      <td>...</td>\n      <td>-0.542974</td>\n      <td>-0.413871</td>\n      <td>-0.326746</td>\n      <td>-0.392839</td>\n      <td>-0.344575</td>\n      <td>-0.087070</td>\n      <td>-0.197721</td>\n      <td>-0.444717</td>\n      <td>-1.025452</td>\n      <td>-0.164176</td>\n    </tr>\n    <tr>\n      <th>2</th>\n      <td>0.013564</td>\n      <td>-0.360963</td>\n      <td>-0.358499</td>\n      <td>-0.617468</td>\n      <td>-0.014257</td>\n      <td>0.078832</td>\n      <td>0.076034</td>\n      <td>-0.058071</td>\n      <td>-0.015228</td>\n      <td>-0.279963</td>\n      <td>...</td>\n      <td>-0.606860</td>\n      <td>-0.158965</td>\n      <td>-0.199052</td>\n      <td>-0.171472</td>\n      <td>-0.205983</td>\n      <td>-0.350451</td>\n      <td>-0.070816</td>\n      <td>-0.371881</td>\n      <td>-0.623988</td>\n      <td>0.515171</td>\n    </tr>\n    <tr>\n      <th>3</th>\n      <td>0.001029</td>\n      <td>-0.380835</td>\n      <td>-0.380480</td>\n      <td>-0.686132</td>\n      <td>-0.013484</td>\n      <td>-0.319083</td>\n      <td>-0.321037</td>\n      <td>-0.541032</td>\n      <td>0.012003</td>\n      <td>-0.330383</td>\n      <td>...</td>\n      <td>-0.709230</td>\n      <td>0.067545</td>\n      <td>-0.137647</td>\n      <td>0.002724</td>\n      <td>-0.116573</td>\n      <td>0.115849</td>\n      <td>-0.482322</td>\n      <td>-0.300795</td>\n      <td>-0.623988</td>\n      <td>-0.622782</td>\n    </tr>\n    <tr>\n      <th>4</th>\n      <td>0.003832</td>\n      <td>-0.393587</td>\n      <td>-0.391205</td>\n      <td>-0.518997</td>\n      <td>0.001857</td>\n      <td>-0.468375</td>\n      <td>-0.468949</td>\n      <td>-0.520815</td>\n      <td>0.025464</td>\n      <td>-0.478001</td>\n      <td>...</td>\n      <td>1.085494</td>\n      <td>-0.413103</td>\n      <td>-0.325732</td>\n      <td>-0.391145</td>\n      <td>-0.340646</td>\n      <td>0.111783</td>\n      <td>0.335197</td>\n      <td>-0.373682</td>\n      <td>2.186259</td>\n      <td>2.601307</td>\n    </tr>\n    <tr>\n      <th>...</th>\n      <td>...</td>\n      <td>...</td>\n      <td>...</td>\n      <td>...</td>\n      <td>...</td>\n      <td>...</td>\n      <td>...</td>\n      <td>...</td>\n      <td>...</td>\n      <td>...</td>\n      <td>...</td>\n      <td>...</td>\n      <td>...</td>\n      <td>...</td>\n      <td>...</td>\n      <td>...</td>\n      <td>...</td>\n      <td>...</td>\n      <td>...</td>\n      <td>...</td>\n      <td>...</td>\n    </tr>\n    <tr>\n      <th>1828</th>\n      <td>-0.191094</td>\n      <td>0.003310</td>\n      <td>0.005981</td>\n      <td>-0.187727</td>\n      <td>-0.013479</td>\n      <td>0.125478</td>\n      <td>0.117992</td>\n      <td>-0.002989</td>\n      <td>0.268696</td>\n      <td>0.111833</td>\n      <td>...</td>\n      <td>3.631204</td>\n      <td>-0.077827</td>\n      <td>-0.212697</td>\n      <td>-0.127664</td>\n      <td>-0.183016</td>\n      <td>-0.141219</td>\n      <td>-0.198315</td>\n      <td>-0.224025</td>\n      <td>-0.623988</td>\n      <td>-0.550005</td>\n    </tr>\n    <tr>\n      <th>1829</th>\n      <td>0.006145</td>\n      <td>-0.310686</td>\n      <td>-0.308496</td>\n      <td>-0.093801</td>\n      <td>-0.000152</td>\n      <td>-0.364182</td>\n      <td>-0.364814</td>\n      <td>-0.089957</td>\n      <td>0.024601</td>\n      <td>-0.467105</td>\n      <td>...</td>\n      <td>1.033988</td>\n      <td>-0.411082</td>\n      <td>-0.327097</td>\n      <td>-0.390855</td>\n      <td>-0.345345</td>\n      <td>-0.629152</td>\n      <td>-0.553599</td>\n      <td>-0.164610</td>\n      <td>-0.222525</td>\n      <td>0.609808</td>\n    </tr>\n    <tr>\n      <th>1830</th>\n      <td>0.001828</td>\n      <td>-0.368291</td>\n      <td>-0.368424</td>\n      <td>-0.679880</td>\n      <td>-0.000216</td>\n      <td>-0.338638</td>\n      <td>-0.340269</td>\n      <td>-0.541742</td>\n      <td>0.022319</td>\n      <td>-0.360214</td>\n      <td>...</td>\n      <td>-0.720431</td>\n      <td>-0.058197</td>\n      <td>-0.178229</td>\n      <td>-0.096772</td>\n      <td>-0.117243</td>\n      <td>0.419082</td>\n      <td>-0.639039</td>\n      <td>-0.372279</td>\n      <td>-0.623988</td>\n      <td>-0.622782</td>\n    </tr>\n    <tr>\n      <th>1831</th>\n      <td>0.004051</td>\n      <td>-0.385957</td>\n      <td>-0.383644</td>\n      <td>-0.490703</td>\n      <td>0.001972</td>\n      <td>-0.411847</td>\n      <td>-0.412519</td>\n      <td>-0.304951</td>\n      <td>0.026078</td>\n      <td>-0.528243</td>\n      <td>...</td>\n      <td>-0.358072</td>\n      <td>-0.413801</td>\n      <td>-0.326984</td>\n      <td>-0.392998</td>\n      <td>-0.345335</td>\n      <td>-0.285879</td>\n      <td>0.139345</td>\n      <td>0.008841</td>\n      <td>-0.623988</td>\n      <td>1.792315</td>\n    </tr>\n    <tr>\n      <th>1832</th>\n      <td>-0.032306</td>\n      <td>-0.065337</td>\n      <td>-0.062681</td>\n      <td>-0.272709</td>\n      <td>-0.005254</td>\n      <td>0.081267</td>\n      <td>0.074235</td>\n      <td>-0.029270</td>\n      <td>-0.022380</td>\n      <td>-0.027978</td>\n      <td>...</td>\n      <td>-0.444779</td>\n      <td>-0.180708</td>\n      <td>-0.239221</td>\n      <td>-0.205048</td>\n      <td>-0.247961</td>\n      <td>-0.132951</td>\n      <td>-0.295007</td>\n      <td>-0.329383</td>\n      <td>-0.623988</td>\n      <td>-0.550005</td>\n    </tr>\n  </tbody>\n</table>\n<p>1833 rows × 65 columns</p>\n</div>"
     },
     "execution_count": 6,
     "metadata": {},
     "output_type": "execute_result"
    }
   ],
   "source": [
    "BMI_dataset"
   ],
   "metadata": {
    "collapsed": false,
    "ExecuteTime": {
     "end_time": "2024-03-26T21:35:04.677922Z",
     "start_time": "2024-03-26T21:35:04.657921Z"
    }
   },
   "id": "68e2f4c6672dd5b5",
   "execution_count": 6
  },
  {
   "cell_type": "code",
   "outputs": [
    {
     "data": {
      "text/plain": "                                             |          | [  0%]   00:00 -> (? left)",
      "application/vnd.jupyter.widget-view+json": {
       "version_major": 2,
       "version_minor": 0,
       "model_id": "c2aa3b20efdb4381b59804b18e56b1a3"
      }
     },
     "metadata": {},
     "output_type": "display_data"
    },
    {
     "name": "stdout",
     "output_type": "stream",
     "text": [
      "Report /home/adam/FurtherResearch/Result/Exoskeleton/BMI/EDA.html was generated! NOTEBOOK/COLAB USERS: the web browser MAY not pop up, regardless, the report IS saved in your notebook/colab files.\n"
     ]
    }
   ],
   "source": [
    "import sweetviz as sv\n",
    "# feature_config = sv.FeatureConfig(force_num=[\"Fatigue_level\"])\n",
    "report = sv.analyze(BMI_dataset, pairwise_analysis='on')\n",
    "report.show_html('/home/adam/FurtherResearch/Result/Exoskeleton/BMI/EDA.html')"
   ],
   "metadata": {
    "collapsed": false,
    "ExecuteTime": {
     "end_time": "2024-03-26T21:35:37.196621Z",
     "start_time": "2024-03-26T21:35:05.856948Z"
    }
   },
   "id": "76daae1c4abf8b7c",
   "execution_count": 7
  },
  {
   "cell_type": "code",
   "outputs": [
    {
     "data": {
      "text/plain": "                  Within 1 Std\nIMU1_GyroX_Mean            NaN\nIMU1_GyroX_StdDev          NaN\nIMU1_GyroX_RMS             NaN\nIMU1_GyroX_Amp             NaN\nIMU1_GyroY_Mean            NaN\n...                        ...\n58                   74.285714\n59                   74.285714\n60                        60.0\n61                   91.428571\n62                   54.285714\n\n[126 rows x 1 columns]",
      "text/html": "<div>\n<style scoped>\n    .dataframe tbody tr th:only-of-type {\n        vertical-align: middle;\n    }\n\n    .dataframe tbody tr th {\n        vertical-align: top;\n    }\n\n    .dataframe thead th {\n        text-align: right;\n    }\n</style>\n<table border=\"1\" class=\"dataframe\">\n  <thead>\n    <tr style=\"text-align: right;\">\n      <th></th>\n      <th>Within 1 Std</th>\n    </tr>\n  </thead>\n  <tbody>\n    <tr>\n      <th>IMU1_GyroX_Mean</th>\n      <td>NaN</td>\n    </tr>\n    <tr>\n      <th>IMU1_GyroX_StdDev</th>\n      <td>NaN</td>\n    </tr>\n    <tr>\n      <th>IMU1_GyroX_RMS</th>\n      <td>NaN</td>\n    </tr>\n    <tr>\n      <th>IMU1_GyroX_Amp</th>\n      <td>NaN</td>\n    </tr>\n    <tr>\n      <th>IMU1_GyroY_Mean</th>\n      <td>NaN</td>\n    </tr>\n    <tr>\n      <th>...</th>\n      <td>...</td>\n    </tr>\n    <tr>\n      <th>58</th>\n      <td>74.285714</td>\n    </tr>\n    <tr>\n      <th>59</th>\n      <td>74.285714</td>\n    </tr>\n    <tr>\n      <th>60</th>\n      <td>60.0</td>\n    </tr>\n    <tr>\n      <th>61</th>\n      <td>91.428571</td>\n    </tr>\n    <tr>\n      <th>62</th>\n      <td>54.285714</td>\n    </tr>\n  </tbody>\n</table>\n<p>126 rows × 1 columns</p>\n</div>"
     },
     "execution_count": 8,
     "metadata": {},
     "output_type": "execute_result"
    }
   ],
   "source": [
    "# Calculate mean and std for the larger dataset\n",
    "Baseline_dataset_mean = Baseline_dataset.mean()\n",
    "Baseline_dataset_std = Baseline_dataset.std()\n",
    "\n",
    "BMI_dataset_mean = BMI_dataset.mean()\n",
    "BMI_dataset_std = BMI_dataset.std()\n",
    "\n",
    "# Initialize a summary DataFrame\n",
    "summary_df = pd.DataFrame(index=Baseline_dataset.columns, columns=['Within 1 Std'])\n",
    "\n",
    "# Analyze distribution of each feature in the smaller dataset\n",
    "for feature in Baseline_ce.columns:\n",
    "    # Calculate how many values fall within 1 std of the larger dataset's mean\n",
    "    within_1_std = Baseline_ce[feature].apply(lambda x: (x > Baseline_dataset_mean[feature] - Baseline_dataset_std[feature]) and (x < Baseline_dataset_mean[feature] + Baseline_dataset_std[feature])).mean()\n",
    "    \n",
    "    # Update the summary DataFrame\n",
    "    summary_df.loc[feature, 'Within 1 Std'] = within_1_std * 100  # Convert to percentage\n",
    "\n",
    "# Print summary metrics\n",
    "summary_df"
   ],
   "metadata": {
    "collapsed": false,
    "ExecuteTime": {
     "end_time": "2024-03-26T21:35:40.929423Z",
     "start_time": "2024-03-26T21:35:40.882068Z"
    }
   },
   "id": "ce7587ede16fde91",
   "execution_count": 8
  },
  {
   "cell_type": "code",
   "outputs": [],
   "source": [
    "from scipy.spatial.distance import mahalanobis\n",
    "from scipy.linalg import inv\n",
    "\n",
    "# 计算大数据集的均值向量和协方差矩阵\n",
    "mean_vector = Baseline_dataset.mean(axis=0)\n",
    "cov_matrix = Baseline_dataset.cov()\n",
    "cov_matrix_inv = inv(cov_matrix)\n",
    "\n",
    "# 计算大数据集中每个点的马氏距离\n",
    "large_mahalanobis_distances = [mahalanobis(row, mean_vector, cov_matrix_inv) for index, row in Baseline_dataset.iterrows()]\n",
    "\n",
    "# # 筛选出位于一个标准差内的点\n",
    "# within_one_std = [d for d in large_mahalanobis_distances if d <= 1]\n",
    "# \n",
    "# # 在尝试计算平均值前检查是否为空切片\n",
    "# if not within_one_std:\n",
    "#     print(\"No points within one standard deviation. Returning empty DataFrame.\")\n",
    "#     return pd.DataFrame()  # 返回一个空的DataFrame\n",
    "\n",
    "average_mahalanobis_distance = np.mean(large_mahalanobis_distances)\n",
    "\n",
    "# 计算小数据集中每个点的马氏距离\n",
    "small_mahalanobis_distances = [mahalanobis(row, mean_vector, cov_matrix_inv) for index, row in Baseline_ce.iterrows()]\n",
    "\n",
    "# 创建一个新的DataFrame来存储马氏距离\n",
    "distances_df = pd.DataFrame(small_mahalanobis_distances, columns=['Mahalanobis_Distance'])\n",
    "\n",
    "# 筛选出小于平均马氏距离的点\n",
    "filtered_indices = distances_df['Mahalanobis_Distance'] < average_mahalanobis_distance\n",
    "filtered_df = Baseline_ce[filtered_indices].copy()\n",
    "filtered_df['Mahalanobis_Distance'] = distances_df['Mahalanobis_Distance'][filtered_indices]\n",
    "\n"
   ],
   "metadata": {
    "collapsed": false,
    "ExecuteTime": {
     "end_time": "2024-03-26T21:50:15.197643Z",
     "start_time": "2024-03-26T21:50:15.125199Z"
    }
   },
   "id": "96b72b2f04808c78",
   "execution_count": 15
  },
  {
   "cell_type": "code",
   "outputs": [
    {
     "data": {
      "text/plain": "6.716038988859681"
     },
     "execution_count": 17,
     "metadata": {},
     "output_type": "execute_result"
    }
   ],
   "source": [
    "average_mahalanobis_distance"
   ],
   "metadata": {
    "collapsed": false,
    "ExecuteTime": {
     "end_time": "2024-03-26T21:50:40.033708Z",
     "start_time": "2024-03-26T21:50:40.030913Z"
    }
   },
   "id": "5d9f970dd41cc7c2",
   "execution_count": 17
  },
  {
   "cell_type": "code",
   "outputs": [
    {
     "data": {
      "text/plain": "[389.8212573907083,\n 577.7081660097067,\n 99.85018463341108,\n 112.8087423744371,\n 377.85159473915314,\n 179.67424353654653,\n 1487.2345764823547,\n 168.9026078528993,\n 203.40158593012035,\n 263.81250739640205,\n 61.47461437467791,\n 344.5894115041321,\n 740.8265828813663,\n 397.40881721342214,\n 653.4834744738635,\n 228.07840666113395,\n 174.03296731755128,\n 162.096138999513,\n 289.4119215537785,\n 139.34463471966944,\n 2507.9681072342555,\n 365.55588959393344,\n 909.559859954282,\n 175.2069022091123,\n 265.0001259310193,\n 414.7245862544932,\n 256.5639595577882,\n 1219.9241919247243,\n 105.53143992192398,\n 735.0184842124999,\n 1143.5780712938233,\n 784.3647331075829,\n 208.09338355679265,\n 967.9922648168426,\n 1197.1621622092466]"
     },
     "execution_count": 19,
     "metadata": {},
     "output_type": "execute_result"
    }
   ],
   "source": [
    "small_mahalanobis_distances"
   ],
   "metadata": {
    "collapsed": false,
    "ExecuteTime": {
     "end_time": "2024-03-26T21:51:08.919347Z",
     "start_time": "2024-03-26T21:51:08.916101Z"
    }
   },
   "id": "cef419e2027dec89",
   "execution_count": 19
  },
  {
   "cell_type": "code",
   "outputs": [],
   "source": [],
   "metadata": {
    "collapsed": false
   },
   "id": "f3fcf612e3bef347"
  }
 ],
 "metadata": {
  "kernelspec": {
   "display_name": "Python 3",
   "language": "python",
   "name": "python3"
  },
  "language_info": {
   "codemirror_mode": {
    "name": "ipython",
    "version": 2
   },
   "file_extension": ".py",
   "mimetype": "text/x-python",
   "name": "python",
   "nbconvert_exporter": "python",
   "pygments_lexer": "ipython2",
   "version": "2.7.6"
  }
 },
 "nbformat": 4,
 "nbformat_minor": 5
}
