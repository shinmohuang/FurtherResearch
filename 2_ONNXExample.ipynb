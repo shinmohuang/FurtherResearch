{
 "cells": [
  {
   "cell_type": "code",
   "execution_count": null,
   "source": [
    "%matplotlib inline"
   ],
   "outputs": [],
   "metadata": {
    "collapsed": false
   }
  },
  {
   "cell_type": "markdown",
   "source": [
    "\n",
    "ONNX Example\n",
    "====================\n",
    "\n",
    "Top contributors (to current version):\n",
    "  - Kyle Julian\n",
    "  \n",
    "This file is part of the Marabou project.\n",
    "Copyright (c) 2017-2019 by the authors listed in the file AUTHORS\n",
    "in the top-level source directory) and their institutional affiliations.\n",
    "All rights reserved. See the file COPYING in the top-level source\n",
    "directory for licensing information.\n",
    "\n"
   ],
   "metadata": {}
  },
  {
   "cell_type": "code",
   "execution_count": null,
   "source": [
    "from maraboupy import Marabou\n",
    "import numpy as np"
   ],
   "outputs": [],
   "metadata": {
    "collapsed": false
   }
  },
  {
   "cell_type": "markdown",
   "source": [
    "Set the Marabou option to restrict printing\n",
    "\n"
   ],
   "metadata": {}
  },
  {
   "cell_type": "code",
   "execution_count": null,
   "source": [
    "options = Marabou.createOptions(verbosity = 0)"
   ],
   "outputs": [],
   "metadata": {
    "collapsed": false
   }
  },
  {
   "cell_type": "markdown",
   "source": [
    "Fully-connected network example\n",
    "-------------------------------\n",
    "\n",
    "This network has inputs x0, x1, and was trained to create outputs that approximate\n",
    "y0 = abs(x0) + abs(x1), y1 = x0^2 + x1^2\n",
    "\n"
   ],
   "metadata": {}
  },
  {
   "cell_type": "code",
   "execution_count": null,
   "source": [
    "print(\"Fully Connected Network Example\")\n",
    "filename = \"../../resources/onnx/fc1.onnx\"\n",
    "network = Marabou.read_onnx(filename)"
   ],
   "outputs": [],
   "metadata": {
    "collapsed": false
   }
  },
  {
   "cell_type": "markdown",
   "source": [
    "Or, you can specify the operation names of the input and output operations.\n",
    "The default chooses the placeholder operations as inputs and the last operation as output\n",
    "\n"
   ],
   "metadata": {}
  },
  {
   "cell_type": "code",
   "execution_count": null,
   "source": [
    "inputName = 'Placeholder:0'\n",
    "outputName = 'y_out:0'\n",
    "network = Marabou.read_onnx(filename=filename, inputNames=[inputName], outputName = outputName)"
   ],
   "outputs": [],
   "metadata": {
    "collapsed": false
   }
  },
  {
   "cell_type": "markdown",
   "source": [
    "Get the input and output variable numbers; [0] since first dimension is batch size\n",
    "\n"
   ],
   "metadata": {}
  },
  {
   "cell_type": "code",
   "execution_count": null,
   "source": [
    "inputVars = network.inputVars[0][0]\n",
    "outputVars = network.outputVars[0]"
   ],
   "outputs": [],
   "metadata": {
    "collapsed": false
   }
  },
  {
   "cell_type": "markdown",
   "source": [
    "Set input bounds\n",
    "\n"
   ],
   "metadata": {}
  },
  {
   "cell_type": "code",
   "execution_count": null,
   "source": [
    "network.setLowerBound(inputVars[0],-10.0)\n",
    "network.setUpperBound(inputVars[0], 10.0)\n",
    "network.setLowerBound(inputVars[1],-10.0)\n",
    "network.setUpperBound(inputVars[1], 10.0)"
   ],
   "outputs": [],
   "metadata": {
    "collapsed": false
   }
  },
  {
   "cell_type": "markdown",
   "source": [
    "Set output bounds\n",
    "\n"
   ],
   "metadata": {}
  },
  {
   "cell_type": "code",
   "execution_count": null,
   "source": [
    "network.setLowerBound(outputVars[1], 194.0)\n",
    "network.setUpperBound(outputVars[1], 210.0)"
   ],
   "outputs": [],
   "metadata": {
    "collapsed": false
   }
  },
  {
   "cell_type": "markdown",
   "source": [
    "Call to Marabou solver\n",
    "\n"
   ],
   "metadata": {}
  },
  {
   "cell_type": "code",
   "execution_count": null,
   "source": [
    "vals, stats = network.solve(options = options)"
   ],
   "outputs": [],
   "metadata": {
    "collapsed": false
   }
  },
  {
   "cell_type": "markdown",
   "source": [
    "Convolutional neural network example\n",
    "------------------------------------\n",
    "\n",
    "Network maps 8x16 grayscale images two values\n",
    "\n"
   ],
   "metadata": {}
  },
  {
   "cell_type": "code",
   "execution_count": null,
   "source": [
    "print(\"\\nConvolutional Network Example\")\n",
    "filename = '../../resources/onnx/KJ_TinyTaxiNet.onnx'\n",
    "network = Marabou.read_onnx(filename)"
   ],
   "outputs": [],
   "metadata": {
    "collapsed": false
   }
  },
  {
   "cell_type": "markdown",
   "source": [
    "Get the input and output variable numbers; [0] since first dimension is batch size\n",
    "\n"
   ],
   "metadata": {}
  },
  {
   "cell_type": "code",
   "execution_count": null,
   "source": [
    "inputVars = network.inputVars[0][0]\n",
    "outputVars = network.outputVars[0]"
   ],
   "outputs": [],
   "metadata": {
    "collapsed": false
   }
  },
  {
   "cell_type": "markdown",
   "source": [
    "Setup a local robustness query\n",
    "\n"
   ],
   "metadata": {}
  },
  {
   "cell_type": "code",
   "execution_count": null,
   "source": [
    "delta = 0.03\n",
    "for h in range(inputVars.shape[0]):\n",
    "    for w in range(inputVars.shape[1]):\n",
    "        network.setLowerBound(inputVars[h][w][0], 0.5-delta)\n",
    "        network.setUpperBound(inputVars[h][w][0], 0.5+delta)"
   ],
   "outputs": [],
   "metadata": {
    "collapsed": false
   }
  },
  {
   "cell_type": "markdown",
   "source": [
    "Set output bounds\n",
    "\n"
   ],
   "metadata": {}
  },
  {
   "cell_type": "code",
   "execution_count": null,
   "source": [
    "network.setLowerBound(outputVars[0], 6.0)"
   ],
   "outputs": [],
   "metadata": {
    "collapsed": false
   }
  },
  {
   "cell_type": "markdown",
   "source": [
    "Call to Marabou solver (should be SAT)\n",
    "\n"
   ],
   "metadata": {}
  },
  {
   "cell_type": "code",
   "execution_count": null,
   "source": [
    "print(\"Check query with less restrictive output constraint (Should be SAT)\")\n",
    "vals, stats = network.solve(options = options)\n",
    "assert len(vals) > 0"
   ],
   "outputs": [],
   "metadata": {
    "collapsed": false
   }
  },
  {
   "cell_type": "markdown",
   "source": [
    "Set more restrictive output bounds\n",
    "\n"
   ],
   "metadata": {}
  },
  {
   "cell_type": "code",
   "execution_count": null,
   "source": [
    "network.setLowerBound(outputVars[0], 7.0)"
   ],
   "outputs": [],
   "metadata": {
    "collapsed": false
   }
  },
  {
   "cell_type": "markdown",
   "source": [
    "Call to Marabou solver (should be UNSAT)\n",
    "\n"
   ],
   "metadata": {}
  },
  {
   "cell_type": "code",
   "execution_count": null,
   "source": [
    "print(\"Check query with more restrictive output constraint (Should be UNSAT)\")\n",
    "vals, stats = network.solve(options = options)\n",
    "assert len(vals) == 0"
   ],
   "outputs": [],
   "metadata": {
    "collapsed": false
   }
  },
  {
   "cell_type": "markdown",
   "source": [
    "Convolutional network with max-pool example\n",
    "-------------------------------------------\n",
    "\n"
   ],
   "metadata": {}
  },
  {
   "cell_type": "code",
   "execution_count": null,
   "source": [
    "print(\"\\nConvolutional Network with Max Pool Example\")\n",
    "filename = '../../resources/onnx/conv_mp1.onnx'\n",
    "network = Marabou.read_onnx(filename)"
   ],
   "outputs": [],
   "metadata": {
    "collapsed": false
   }
  },
  {
   "cell_type": "markdown",
   "source": [
    "Get the input and output variable numbers; [0] since first dimension is batch size\n",
    "\n"
   ],
   "metadata": {}
  },
  {
   "cell_type": "code",
   "execution_count": null,
   "source": [
    "inputVars = network.inputVars[0]\n",
    "outputVars = network.outputVars"
   ],
   "outputs": [],
   "metadata": {
    "collapsed": false
   }
  },
  {
   "cell_type": "markdown",
   "source": [
    "Test Marabou equations against onnxruntime at an example input point\n",
    "\n"
   ],
   "metadata": {}
  },
  {
   "cell_type": "code",
   "execution_count": null,
   "source": [
    "inputPoint = np.ones(inputVars.shape)\n",
    "marabouEval = network.evaluateWithMarabou([inputPoint], options = options)\n",
    "onnxEval = network.evaluateWithoutMarabou([inputPoint])"
   ],
   "outputs": [],
   "metadata": {
    "collapsed": false
   }
  },
  {
   "cell_type": "markdown",
   "source": [
    "The two evaluations should produce the same result\n",
    "\n"
   ],
   "metadata": {}
  },
  {
   "cell_type": "code",
   "execution_count": null,
   "source": [
    "print(\"Marabou Evaluation:\")\n",
    "print(marabouEval)\n",
    "print(\"\\nONNX Evaluation:\")\n",
    "print(onnxEval)\n",
    "print(\"\\nDifference:\")\n",
    "print(onnxEval - marabouEval)\n",
    "assert max(abs(onnxEval - marabouEval)) < 1e-6"
   ],
   "outputs": [],
   "metadata": {
    "collapsed": false
   }
  }
 ],
 "nbformat": 4,
 "nbformat_minor": 0,
 "metadata": {
  "kernelspec": {
   "language": "python",
   "name": "python3",
   "display_name": "Python 3"
  },
  "language_info": {
   "mimetype": "text/x-python",
   "pygments_lexer": "ipython3",
   "codemirror_mode": {
    "version": 3,
    "name": "ipython"
   },
   "file_extension": ".py",
   "version": "3.5.2",
   "name": "python",
   "nbconvert_exporter": "python"
  }
 }
}
