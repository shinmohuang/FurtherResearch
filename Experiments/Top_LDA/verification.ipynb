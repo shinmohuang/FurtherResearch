{
 "cells": [
  {
   "cell_type": "code",
   "outputs": [],
   "source": [
    "from maraboupy import Marabou\n",
    "from Scripts.my_deco import running_time, debug, suppress_error\n",
    "from Scripts import my_func as mf\n",
    "import pandas as pd"
   ],
   "metadata": {
    "collapsed": false
   },
   "id": "14c2ecce91079e2f"
  },
  {
   "cell_type": "code",
   "outputs": [],
   "source": [
    "# Main function\n",
    "@running_time\n",
    "@suppress_error\n",
    "def main():\n",
    "    file_name = '/home/adam/FurtherResearch/Model/Top_LDA/exo_model_top10_without_softmax.onnx'\n",
    "    network = Marabou.read_onnx(file_name)\n",
    "\n",
    "    inputVars = network.inputVars[0][0]\n",
    "    outputVars = network.outputVars[0]\n",
    "\n",
    "    high_fatigue = pd.read_csv(\n",
    "        '/home/adam/FurtherResearch/Experiments/Top_LDA/dataset_statistics_mapped_fatigue_level_high.csv')\n",
    "    mean_values = high_fatigue['mean'][:-1].values\n",
    "\n",
    "    initial_range = [0.01] * 63\n",
    "    step_size = high_fatigue['std'][:-1].values * 0.1\n",
    "\n",
    "    options = Marabou.createOptions(numWorkers=20, initialTimeout=5, initialSplits=100, onlineSplits=100,\n",
    "                                    timeoutInSeconds=1800, timeoutFactor=1.5,\n",
    "                                    verbosity=2, snc=True, splittingStrategy='auto',\n",
    "                                    sncSplittingStrategy='auto', restoreTreeStates=False,\n",
    "                                    splitThreshold=20, solveWithMILP=True, dumpBounds=False)\n",
    "    sat_counter = 0  # Initialize sat counter\n",
    "    unsat = True\n",
    "    while unsat:\n",
    "        network = Marabou.read_onnx(file_name)\n",
    "        mf.set_input_range(network, inputVars, mean_values, initial_range)\n",
    "        mf.define_output_conditions(network, outputVars, 2)\n",
    "        result = network.solve(verbose=True, options=options)\n",
    "        status, values, stats = result\n",
    "        unsat, initial_range = mf.check_results(status, initial_range, step_size)\n",
    "        if status == \"sat\":\n",
    "            print(\"Solution found!\")\n",
    "        elif status == \"unsat\":\n",
    "            print(\"No solution found.\")\n",
    "            print(\"Time:\", stats.getTotalTimeInMicro())\n",
    "\n",
    "    range = [ir - ss for ir, ss in zip(initial_range, step_size)]\n",
    "    print(f\"最小 UNSAT 范围: {range}\")\n",
    "    mf.write_values_to_csv(range, 'top10_range.csv', __file__)\n",
    "    mf.write_values_to_csv(values, 'top10_values.csv', __file__)\n",
    "\n",
    "\n",
    "if __name__ == \"__main__\":\n",
    "    main()\n"
   ],
   "metadata": {
    "collapsed": false
   },
   "id": "215fb08eeac10949"
  }
 ],
 "metadata": {
  "kernelspec": {
   "display_name": "Python 3",
   "language": "python",
   "name": "python3"
  },
  "language_info": {
   "codemirror_mode": {
    "name": "ipython",
    "version": 2
   },
   "file_extension": ".py",
   "mimetype": "text/x-python",
   "name": "python",
   "nbconvert_exporter": "python",
   "pygments_lexer": "ipython2",
   "version": "2.7.6"
  }
 },
 "nbformat": 4,
 "nbformat_minor": 5
}
