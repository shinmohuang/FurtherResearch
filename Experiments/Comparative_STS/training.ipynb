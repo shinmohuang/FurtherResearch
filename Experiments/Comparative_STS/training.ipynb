{
 "cells": [
  {
   "cell_type": "code",
   "execution_count": 1,
   "id": "a5127012b09865db",
   "metadata": {
    "collapsed": false,
    "ExecuteTime": {
     "end_time": "2024-01-15T12:33:15.717870500Z",
     "start_time": "2024-01-15T12:33:14.964968700Z"
    }
   },
   "outputs": [
    {
     "data": {
      "text/plain": "   Stand-to-stand time  Sit-to-stand time  Stand-to-sit time  \\\n0               1.1494             1.0219             1.0460   \n1               1.2150             1.0994             1.0804   \n2               1.0712             0.9929             1.0965   \n3               1.3106             1.3771             1.2195   \n4               1.2767             1.2298             1.2643   \n\n   M_hip vertical range  M_hip depth range  M_hip max vertical velocity  \\\n0               1.01510            0.96060                      0.98215   \n1               0.87648            0.89024                      0.99210   \n2               0.89684            0.95366                      1.00890   \n3               1.08700            1.10530                      1.00650   \n4               1.12390            1.15170                      0.95774   \n\n   M_hip min vertical velocity  M_hip max depth velocity  \\\n0                       1.3183                   0.91062   \n1                       1.3177                   0.93530   \n2                       1.1206                   0.95903   \n3                       1.4565                   1.07270   \n4                       1.3920                   1.03950   \n\n   M_hip min depth velocity  Knee flexo-extension range  ...  \\\n0                   0.92036                     1.00250  ...   \n1                   0.92490                     0.98812  ...   \n2                   0.93991                     1.06500  ...   \n3                   1.15530                     1.07220  ...   \n4                   1.06770                     1.00600  ...   \n\n   M_shoulder min vertical velocity  M_shoulder max depth velocity  \\\n0                           0.97932                        1.00380   \n1                           0.94320                        1.07840   \n2                           0.97629                        1.03280   \n3                           1.14290                        0.94031   \n4                           1.08630                        1.15530   \n\n   Spine flexo-extension range  Spine flexo-extension max velocity  \\\n0                       1.2178                             0.97569   \n1                       1.3523                             0.95966   \n2                       1.3074                             0.88624   \n3                       1.4270                             1.00150   \n4                       1.5117                             1.03520   \n\n   Spine flexo-extension min velocity  Spine abduction-adduction range  \\\n0                             0.98219                          0.99926   \n1                             0.94077                          0.96024   \n2                             0.92409                          0.94021   \n3                             1.01930                          1.01720   \n4                             1.01060                          1.01600   \n\n   Spine abduction-adduction max velocity  \\\n0                                 1.28480   \n1                                 1.13840   \n2                                 0.96528   \n3                                 1.41930   \n4                                 1.16110   \n\n   Spine abduction-adduction min velocity  Heart Rate  Fatigue Condition  \n0                                 1.06290      1.2469                  1  \n1                                 1.01810      1.2537                  1  \n2                                 0.85533      1.2622                  1  \n3                                 1.06020      1.2677                  2  \n4                                 1.04280      1.3722                  2  \n\n[5 rows x 34 columns]",
      "text/html": "<div>\n<style scoped>\n    .dataframe tbody tr th:only-of-type {\n        vertical-align: middle;\n    }\n\n    .dataframe tbody tr th {\n        vertical-align: top;\n    }\n\n    .dataframe thead th {\n        text-align: right;\n    }\n</style>\n<table border=\"1\" class=\"dataframe\">\n  <thead>\n    <tr style=\"text-align: right;\">\n      <th></th>\n      <th>Stand-to-stand time</th>\n      <th>Sit-to-stand time</th>\n      <th>Stand-to-sit time</th>\n      <th>M_hip vertical range</th>\n      <th>M_hip depth range</th>\n      <th>M_hip max vertical velocity</th>\n      <th>M_hip min vertical velocity</th>\n      <th>M_hip max depth velocity</th>\n      <th>M_hip min depth velocity</th>\n      <th>Knee flexo-extension range</th>\n      <th>...</th>\n      <th>M_shoulder min vertical velocity</th>\n      <th>M_shoulder max depth velocity</th>\n      <th>Spine flexo-extension range</th>\n      <th>Spine flexo-extension max velocity</th>\n      <th>Spine flexo-extension min velocity</th>\n      <th>Spine abduction-adduction range</th>\n      <th>Spine abduction-adduction max velocity</th>\n      <th>Spine abduction-adduction min velocity</th>\n      <th>Heart Rate</th>\n      <th>Fatigue Condition</th>\n    </tr>\n  </thead>\n  <tbody>\n    <tr>\n      <th>0</th>\n      <td>1.1494</td>\n      <td>1.0219</td>\n      <td>1.0460</td>\n      <td>1.01510</td>\n      <td>0.96060</td>\n      <td>0.98215</td>\n      <td>1.3183</td>\n      <td>0.91062</td>\n      <td>0.92036</td>\n      <td>1.00250</td>\n      <td>...</td>\n      <td>0.97932</td>\n      <td>1.00380</td>\n      <td>1.2178</td>\n      <td>0.97569</td>\n      <td>0.98219</td>\n      <td>0.99926</td>\n      <td>1.28480</td>\n      <td>1.06290</td>\n      <td>1.2469</td>\n      <td>1</td>\n    </tr>\n    <tr>\n      <th>1</th>\n      <td>1.2150</td>\n      <td>1.0994</td>\n      <td>1.0804</td>\n      <td>0.87648</td>\n      <td>0.89024</td>\n      <td>0.99210</td>\n      <td>1.3177</td>\n      <td>0.93530</td>\n      <td>0.92490</td>\n      <td>0.98812</td>\n      <td>...</td>\n      <td>0.94320</td>\n      <td>1.07840</td>\n      <td>1.3523</td>\n      <td>0.95966</td>\n      <td>0.94077</td>\n      <td>0.96024</td>\n      <td>1.13840</td>\n      <td>1.01810</td>\n      <td>1.2537</td>\n      <td>1</td>\n    </tr>\n    <tr>\n      <th>2</th>\n      <td>1.0712</td>\n      <td>0.9929</td>\n      <td>1.0965</td>\n      <td>0.89684</td>\n      <td>0.95366</td>\n      <td>1.00890</td>\n      <td>1.1206</td>\n      <td>0.95903</td>\n      <td>0.93991</td>\n      <td>1.06500</td>\n      <td>...</td>\n      <td>0.97629</td>\n      <td>1.03280</td>\n      <td>1.3074</td>\n      <td>0.88624</td>\n      <td>0.92409</td>\n      <td>0.94021</td>\n      <td>0.96528</td>\n      <td>0.85533</td>\n      <td>1.2622</td>\n      <td>1</td>\n    </tr>\n    <tr>\n      <th>3</th>\n      <td>1.3106</td>\n      <td>1.3771</td>\n      <td>1.2195</td>\n      <td>1.08700</td>\n      <td>1.10530</td>\n      <td>1.00650</td>\n      <td>1.4565</td>\n      <td>1.07270</td>\n      <td>1.15530</td>\n      <td>1.07220</td>\n      <td>...</td>\n      <td>1.14290</td>\n      <td>0.94031</td>\n      <td>1.4270</td>\n      <td>1.00150</td>\n      <td>1.01930</td>\n      <td>1.01720</td>\n      <td>1.41930</td>\n      <td>1.06020</td>\n      <td>1.2677</td>\n      <td>2</td>\n    </tr>\n    <tr>\n      <th>4</th>\n      <td>1.2767</td>\n      <td>1.2298</td>\n      <td>1.2643</td>\n      <td>1.12390</td>\n      <td>1.15170</td>\n      <td>0.95774</td>\n      <td>1.3920</td>\n      <td>1.03950</td>\n      <td>1.06770</td>\n      <td>1.00600</td>\n      <td>...</td>\n      <td>1.08630</td>\n      <td>1.15530</td>\n      <td>1.5117</td>\n      <td>1.03520</td>\n      <td>1.01060</td>\n      <td>1.01600</td>\n      <td>1.16110</td>\n      <td>1.04280</td>\n      <td>1.3722</td>\n      <td>2</td>\n    </tr>\n  </tbody>\n</table>\n<p>5 rows × 34 columns</p>\n</div>"
     },
     "execution_count": 1,
     "metadata": {},
     "output_type": "execute_result"
    }
   ],
   "source": [
    "import pandas as pd\n",
    "import numpy as np\n",
    "import matplotlib.pyplot as plt\n",
    "\n",
    "feature_names = pd.read_csv('../../Dataset/STS/Data_Names.csv')\n",
    "header = feature_names['features'].tolist()\n",
    "#set header for the dataset\n",
    "dataset = pd.read_csv('../../Dataset/STS/Data_STS.csv')\n",
    "dataset.columns = header\n",
    "dataset.head()"
   ]
  },
  {
   "cell_type": "code",
   "outputs": [],
   "source": [
    "import tensorflow as tf\n",
    "from sklearn.model_selection import train_test_split\n",
    "from sklearn.preprocessing import StandardScaler\n",
    "from tensorflow.keras.models import Sequential\n",
    "from tensorflow.keras.layers import Dense\n",
    "from tensorflow.keras.utils import to_categorical\n",
    "from sklearn.utils import shuffle\n",
    "\n",
    "from tensorflow.keras.callbacks import EarlyStopping\n",
    "from tensorflow.keras.optimizers import Adam\n",
    "from tensorflow.keras.callbacks import ReduceLROnPlateau"
   ],
   "metadata": {
    "collapsed": false,
    "ExecuteTime": {
     "end_time": "2024-01-15T12:33:18.302087800Z",
     "start_time": "2024-01-15T12:33:15.721185500Z"
    }
   },
   "id": "6a6abe7a1597c2fc",
   "execution_count": 2
  },
  {
   "cell_type": "code",
   "outputs": [],
   "source": [
    "dataset.iloc[:, -1] = dataset.iloc[:, -1]\n",
    "X = dataset.iloc[:, :-1]  # Features\n",
    "y = dataset.iloc[:, -1] -1   # Target"
   ],
   "metadata": {
    "collapsed": false,
    "ExecuteTime": {
     "end_time": "2024-01-15T12:33:18.317352200Z",
     "start_time": "2024-01-15T12:33:18.305080900Z"
    }
   },
   "id": "6dd29ef37f8855db",
   "execution_count": 3
  },
  {
   "cell_type": "code",
   "outputs": [
    {
     "data": {
      "text/plain": "array([[1., 0., 0.],\n       [1., 0., 0.],\n       [1., 0., 0.],\n       ...,\n       [0., 0., 1.],\n       [0., 0., 1.],\n       [0., 0., 1.]], dtype=float32)"
     },
     "execution_count": 4,
     "metadata": {},
     "output_type": "execute_result"
    }
   ],
   "source": [
    "# Normalize the features\n",
    "scaler = StandardScaler()\n",
    "X_scaled = scaler.fit_transform(X)\n",
    "\n",
    "# Convert labels to categorical\n",
    "y_categorical = to_categorical(y)\n",
    "y_categorical"
   ],
   "metadata": {
    "collapsed": false,
    "ExecuteTime": {
     "end_time": "2024-01-15T12:33:18.335810100Z",
     "start_time": "2024-01-15T12:33:18.322338700Z"
    }
   },
   "id": "85ceabedc9a972d3",
   "execution_count": 4
  },
  {
   "cell_type": "code",
   "outputs": [],
   "source": [
    "# Shuffle the data\n",
    "X_scaled, y_categorical = shuffle(X_scaled, y_categorical, random_state=42)\n",
    "\n",
    "# Split the data\n",
    "X_train, X_test, y_train, y_test = train_test_split(\n",
    "    X_scaled, y_categorical, test_size=0.2, random_state=42)\n",
    "\n",
    "# Number of unique classes in the target variable\n",
    "num_classes = y_train.shape[1]\n",
    "\n",
    "\n",
    "# Building the DNN model\n",
    "model = Sequential([\n",
    "    Dense(64, activation='relu', input_shape=(X_train.shape[1],), name='dense_0'),\n",
    "    Dense(32, activation='relu', name='dense_1'),\n",
    "    Dense(3, activation='relu', name='dense_2'),\n",
    "    # Dense(3, activation='relu', name='dense_3'),\n",
    "    Dense(num_classes, activation='softmax')  # Output layer\n",
    "])"
   ],
   "metadata": {
    "collapsed": false,
    "ExecuteTime": {
     "end_time": "2024-01-15T12:33:18.380689900Z",
     "start_time": "2024-01-15T12:33:18.336807200Z"
    }
   },
   "id": "e91781fba69e6dd1",
   "execution_count": 5
  },
  {
   "cell_type": "code",
   "outputs": [],
   "source": [
    "# Define the early stopping callback\n",
    "early_stopping = EarlyStopping(\n",
    "    monitor='val_loss',\n",
    "    min_delta=0.001,  # minimium amount of change to count as an improvement\n",
    "    patience=100,  # how many epochs to wait before stopping\n",
    "    verbose=1,\n",
    "    mode='min',\n",
    "    restore_best_weights=True\n",
    ")\n",
    "\n",
    "# Set the learning rate\n",
    "learning_rate = 0.01\n",
    "\n",
    "# Create the ReduceLROnPlateau callback\n",
    "reduce_lr = ReduceLROnPlateau(\n",
    "    monitor='val_loss',\n",
    "    factor=0.9,  # factor by which the learning rate will be reduced\n",
    "    patience=10,  # number of epochs with no improvement after which learning rate will be reduced\n",
    "    min_lr=0.00001,  # lower bound on the learning rate\n",
    "    verbose=1\n",
    ")\n",
    "lr_callback = tf.keras.callbacks.LearningRateScheduler(reduce_lr)\n",
    "\n",
    "class PrintLR(tf.keras.callbacks.Callback):\n",
    "    def __init__(self):\n",
    "        super().__init__()\n",
    "        self.learning_rates = []\n",
    "        \n",
    "    def on_epoch_begin(self, epoch, logs=None):\n",
    "        lr = self.model.optimizer.lr\n",
    "        if hasattr(lr, 'numpy'):\n",
    "            lr = lr.numpy()\n",
    "        elif hasattr(lr, 'eval'):\n",
    "            lr = lr.eval(session=tf.compat.v1.Session())\n",
    "        print(f'Epoch {epoch+1}: Learning rate is {lr}.')\n",
    "    \n",
    "    def on_epoch_end(self, epoch, logs=None):\n",
    "        # Retrieve the current learning rate from the optimizer\n",
    "        current_lr = tf.keras.backend.get_value(self.model.optimizer.lr)\n",
    "        # Append the current learning rate to the list\n",
    "        self.learning_rates.append(current_lr)\n",
    "\n",
    "lr_tracker = PrintLR()\n",
    "callbacks = [lr_tracker, early_stopping, reduce_lr]\n",
    "\n",
    "\n",
    "# Initialize the optimizer with the learning rate\n",
    "optimizer = Adam(learning_rate=learning_rate)\n",
    "\n",
    "# Compiling the model\n",
    "model.compile(optimizer=optimizer,\n",
    "              loss='categorical_crossentropy',\n",
    "              metrics=['accuracy'])"
   ],
   "metadata": {
    "collapsed": false,
    "ExecuteTime": {
     "end_time": "2024-01-15T12:33:18.397644600Z",
     "start_time": "2024-01-15T12:33:18.385676500Z"
    }
   },
   "id": "73088c6a6342dfa1",
   "execution_count": 6
  },
  {
   "cell_type": "code",
   "outputs": [
    {
     "name": "stdout",
     "output_type": "stream",
     "text": [
      "Epoch 1: Learning rate is 0.009999999776482582.\n",
      "Epoch 1/1000\n",
      "27/27 [==============================] - 0s 6ms/step - loss: 0.9668 - accuracy: 0.5938 - val_loss: 0.7372 - val_accuracy: 0.7642\n",
      "Epoch 2: Learning rate is 0.009999999776482582.\n",
      "Epoch 2/1000\n",
      "27/27 [==============================] - 0s 960us/step - loss: 0.6717 - accuracy: 0.7506 - val_loss: 0.7451 - val_accuracy: 0.7547\n",
      "Epoch 3: Learning rate is 0.009999999776482582.\n",
      "Epoch 3/1000\n",
      "27/27 [==============================] - 0s 1ms/step - loss: 0.4841 - accuracy: 0.8432 - val_loss: 0.5074 - val_accuracy: 0.8302\n",
      "Epoch 4: Learning rate is 0.009999999776482582.\n",
      "Epoch 4/1000\n",
      "27/27 [==============================] - 0s 961us/step - loss: 0.4208 - accuracy: 0.8480 - val_loss: 0.7146 - val_accuracy: 0.7642\n",
      "Epoch 5: Learning rate is 0.009999999776482582.\n",
      "Epoch 5/1000\n",
      "27/27 [==============================] - 0s 942us/step - loss: 0.2812 - accuracy: 0.8955 - val_loss: 0.4082 - val_accuracy: 0.8396\n",
      "Epoch 6: Learning rate is 0.009999999776482582.\n",
      "Epoch 6/1000\n",
      "27/27 [==============================] - 0s 960us/step - loss: 0.2220 - accuracy: 0.9169 - val_loss: 0.3580 - val_accuracy: 0.8491\n",
      "Epoch 7: Learning rate is 0.009999999776482582.\n",
      "Epoch 7/1000\n",
      "27/27 [==============================] - 0s 960us/step - loss: 0.2172 - accuracy: 0.9264 - val_loss: 0.3601 - val_accuracy: 0.8396\n",
      "Epoch 8: Learning rate is 0.009999999776482582.\n",
      "Epoch 8/1000\n",
      "27/27 [==============================] - 0s 1ms/step - loss: 0.1729 - accuracy: 0.9382 - val_loss: 0.4405 - val_accuracy: 0.8491\n",
      "Epoch 9: Learning rate is 0.009999999776482582.\n",
      "Epoch 9/1000\n",
      "27/27 [==============================] - 0s 960us/step - loss: 0.1533 - accuracy: 0.9454 - val_loss: 0.3394 - val_accuracy: 0.8868\n",
      "Epoch 10: Learning rate is 0.009999999776482582.\n",
      "Epoch 10/1000\n",
      "27/27 [==============================] - 0s 813us/step - loss: 0.1909 - accuracy: 0.9311 - val_loss: 0.4249 - val_accuracy: 0.8491\n",
      "Epoch 11: Learning rate is 0.009999999776482582.\n",
      "Epoch 11/1000\n",
      "27/27 [==============================] - 0s 850us/step - loss: 0.2180 - accuracy: 0.9311 - val_loss: 0.4452 - val_accuracy: 0.8679\n",
      "Epoch 12: Learning rate is 0.009999999776482582.\n",
      "Epoch 12/1000\n",
      "27/27 [==============================] - 0s 795us/step - loss: 0.1783 - accuracy: 0.9169 - val_loss: 0.3445 - val_accuracy: 0.8396\n",
      "Epoch 13: Learning rate is 0.009999999776482582.\n",
      "Epoch 13/1000\n",
      "27/27 [==============================] - 0s 850us/step - loss: 0.1108 - accuracy: 0.9549 - val_loss: 0.3728 - val_accuracy: 0.8396\n",
      "Epoch 14: Learning rate is 0.009999999776482582.\n",
      "Epoch 14/1000\n",
      "27/27 [==============================] - 0s 850us/step - loss: 0.1245 - accuracy: 0.9572 - val_loss: 0.3492 - val_accuracy: 0.8679\n",
      "Epoch 15: Learning rate is 0.009999999776482582.\n",
      "Epoch 15/1000\n",
      "27/27 [==============================] - 0s 850us/step - loss: 0.0848 - accuracy: 0.9691 - val_loss: 0.4076 - val_accuracy: 0.8774\n",
      "Epoch 16: Learning rate is 0.009999999776482582.\n",
      "Epoch 16/1000\n",
      "27/27 [==============================] - 0s 869us/step - loss: 0.1311 - accuracy: 0.9406 - val_loss: 0.3730 - val_accuracy: 0.8679\n",
      "Epoch 17: Learning rate is 0.009999999776482582.\n",
      "Epoch 17/1000\n",
      "27/27 [==============================] - 0s 813us/step - loss: 0.1399 - accuracy: 0.9525 - val_loss: 0.4402 - val_accuracy: 0.8491\n",
      "Epoch 18: Learning rate is 0.009999999776482582.\n",
      "Epoch 18/1000\n",
      "27/27 [==============================] - 0s 887us/step - loss: 0.1384 - accuracy: 0.9525 - val_loss: 0.5623 - val_accuracy: 0.8585\n",
      "Epoch 19: Learning rate is 0.009999999776482582.\n",
      "Epoch 19/1000\n",
      " 1/27 [>.............................] - ETA: 0s - loss: 0.0177 - accuracy: 1.0000\n",
      "Epoch 00019: ReduceLROnPlateau reducing learning rate to 0.008999999798834325.\n",
      "27/27 [==============================] - 0s 923us/step - loss: 0.1701 - accuracy: 0.9525 - val_loss: 0.5708 - val_accuracy: 0.8679\n",
      "Epoch 20: Learning rate is 0.008999999612569809.\n",
      "Epoch 20/1000\n",
      "27/27 [==============================] - 0s 942us/step - loss: 0.1082 - accuracy: 0.9477 - val_loss: 0.4365 - val_accuracy: 0.8868\n",
      "Epoch 21: Learning rate is 0.008999999612569809.\n",
      "Epoch 21/1000\n",
      "27/27 [==============================] - 0s 1ms/step - loss: 0.0696 - accuracy: 0.9667 - val_loss: 0.5799 - val_accuracy: 0.8774\n",
      "Epoch 22: Learning rate is 0.008999999612569809.\n",
      "Epoch 22/1000\n",
      "27/27 [==============================] - 0s 1ms/step - loss: 0.0478 - accuracy: 0.9715 - val_loss: 0.5611 - val_accuracy: 0.8962\n",
      "Epoch 23: Learning rate is 0.008999999612569809.\n",
      "Epoch 23/1000\n",
      "27/27 [==============================] - 0s 1ms/step - loss: 0.0385 - accuracy: 0.9786 - val_loss: 0.5551 - val_accuracy: 0.8585\n",
      "Epoch 24: Learning rate is 0.008999999612569809.\n",
      "Epoch 24/1000\n",
      "27/27 [==============================] - 0s 923us/step - loss: 0.0254 - accuracy: 0.9834 - val_loss: 0.5750 - val_accuracy: 0.8774\n",
      "Epoch 25: Learning rate is 0.008999999612569809.\n",
      "Epoch 25/1000\n",
      "27/27 [==============================] - 0s 997us/step - loss: 0.0237 - accuracy: 0.9834 - val_loss: 0.5522 - val_accuracy: 0.8774\n",
      "Epoch 26: Learning rate is 0.008999999612569809.\n",
      "Epoch 26/1000\n",
      "27/27 [==============================] - 0s 924us/step - loss: 0.0225 - accuracy: 0.9834 - val_loss: 0.5798 - val_accuracy: 0.8868\n",
      "Epoch 27: Learning rate is 0.008999999612569809.\n",
      "Epoch 27/1000\n",
      "27/27 [==============================] - 0s 942us/step - loss: 0.0209 - accuracy: 0.9834 - val_loss: 0.6154 - val_accuracy: 0.8868\n",
      "Epoch 28: Learning rate is 0.008999999612569809.\n",
      "Epoch 28/1000\n",
      "27/27 [==============================] - 0s 960us/step - loss: 0.0198 - accuracy: 0.9834 - val_loss: 0.6337 - val_accuracy: 0.8868\n",
      "Epoch 29: Learning rate is 0.008999999612569809.\n",
      "Epoch 29/1000\n",
      " 1/27 [>.............................] - ETA: 0s - loss: 0.0017 - accuracy: 1.0000\n",
      "Epoch 00029: ReduceLROnPlateau reducing learning rate to 0.008099999651312828.\n",
      "27/27 [==============================] - 0s 997us/step - loss: 0.0192 - accuracy: 0.9834 - val_loss: 0.6475 - val_accuracy: 0.8774\n",
      "Epoch 30: Learning rate is 0.008099999278783798.\n",
      "Epoch 30/1000\n",
      "27/27 [==============================] - 0s 942us/step - loss: 0.0193 - accuracy: 0.9834 - val_loss: 0.6228 - val_accuracy: 0.8774\n",
      "Epoch 31: Learning rate is 0.008099999278783798.\n",
      "Epoch 31/1000\n",
      "27/27 [==============================] - 0s 960us/step - loss: 0.0187 - accuracy: 0.9834 - val_loss: 0.6641 - val_accuracy: 0.8774\n",
      "Epoch 32: Learning rate is 0.008099999278783798.\n",
      "Epoch 32/1000\n",
      "27/27 [==============================] - 0s 960us/step - loss: 0.0178 - accuracy: 0.9834 - val_loss: 0.6845 - val_accuracy: 0.8774\n",
      "Epoch 33: Learning rate is 0.008099999278783798.\n",
      "Epoch 33/1000\n",
      "27/27 [==============================] - 0s 923us/step - loss: 0.0173 - accuracy: 0.9834 - val_loss: 0.7018 - val_accuracy: 0.8774\n",
      "Epoch 34: Learning rate is 0.008099999278783798.\n",
      "Epoch 34/1000\n",
      "27/27 [==============================] - 0s 832us/step - loss: 0.0169 - accuracy: 0.9952 - val_loss: 0.7129 - val_accuracy: 0.8774\n",
      "Epoch 35: Learning rate is 0.008099999278783798.\n",
      "Epoch 35/1000\n",
      "27/27 [==============================] - 0s 850us/step - loss: 0.0166 - accuracy: 0.9952 - val_loss: 0.7241 - val_accuracy: 0.8774\n",
      "Epoch 36: Learning rate is 0.008099999278783798.\n",
      "Epoch 36/1000\n",
      "27/27 [==============================] - 0s 887us/step - loss: 0.0287 - accuracy: 0.9905 - val_loss: 0.6725 - val_accuracy: 0.8491\n",
      "Epoch 37: Learning rate is 0.008099999278783798.\n",
      "Epoch 37/1000\n",
      "27/27 [==============================] - 0s 813us/step - loss: 0.0185 - accuracy: 0.9952 - val_loss: 0.6939 - val_accuracy: 0.8585\n",
      "Epoch 38: Learning rate is 0.008099999278783798.\n",
      "Epoch 38/1000\n",
      "27/27 [==============================] - 0s 869us/step - loss: 0.0162 - accuracy: 0.9952 - val_loss: 0.7177 - val_accuracy: 0.8679\n",
      "Epoch 39: Learning rate is 0.008099999278783798.\n",
      "Epoch 39/1000\n",
      " 1/27 [>.............................] - ETA: 0s - loss: 0.0555 - accuracy: 0.9375\n",
      "Epoch 00039: ReduceLROnPlateau reducing learning rate to 0.007289999350905419.\n",
      "27/27 [==============================] - 0s 887us/step - loss: 0.0157 - accuracy: 0.9952 - val_loss: 0.7306 - val_accuracy: 0.8679\n",
      "Epoch 40: Learning rate is 0.0072899991646409035.\n",
      "Epoch 40/1000\n",
      "27/27 [==============================] - 0s 821us/step - loss: 0.0153 - accuracy: 0.9952 - val_loss: 0.7425 - val_accuracy: 0.8679\n",
      "Epoch 41: Learning rate is 0.0072899991646409035.\n",
      "Epoch 41/1000\n",
      "27/27 [==============================] - 0s 850us/step - loss: 0.0150 - accuracy: 0.9952 - val_loss: 0.7549 - val_accuracy: 0.8679\n",
      "Epoch 42: Learning rate is 0.0072899991646409035.\n",
      "Epoch 42/1000\n",
      "27/27 [==============================] - 0s 833us/step - loss: 0.0148 - accuracy: 0.9952 - val_loss: 0.7632 - val_accuracy: 0.8774\n",
      "Epoch 43: Learning rate is 0.0072899991646409035.\n",
      "Epoch 43/1000\n",
      "27/27 [==============================] - 0s 923us/step - loss: 0.0145 - accuracy: 0.9952 - val_loss: 0.7705 - val_accuracy: 0.8774\n",
      "Epoch 44: Learning rate is 0.0072899991646409035.\n",
      "Epoch 44/1000\n",
      "27/27 [==============================] - 0s 813us/step - loss: 0.0143 - accuracy: 0.9952 - val_loss: 0.7779 - val_accuracy: 0.8774\n",
      "Epoch 45: Learning rate is 0.0072899991646409035.\n",
      "Epoch 45/1000\n",
      "27/27 [==============================] - 0s 923us/step - loss: 0.0142 - accuracy: 0.9952 - val_loss: 0.7839 - val_accuracy: 0.8774\n",
      "Epoch 46: Learning rate is 0.0072899991646409035.\n",
      "Epoch 46/1000\n",
      "27/27 [==============================] - 0s 963us/step - loss: 0.0140 - accuracy: 0.9952 - val_loss: 0.7938 - val_accuracy: 0.8679\n",
      "Epoch 47: Learning rate is 0.0072899991646409035.\n",
      "Epoch 47/1000\n",
      "27/27 [==============================] - 0s 887us/step - loss: 0.0139 - accuracy: 0.9952 - val_loss: 0.8004 - val_accuracy: 0.8679\n",
      "Epoch 48: Learning rate is 0.0072899991646409035.\n",
      "Epoch 48/1000\n",
      "27/27 [==============================] - 0s 813us/step - loss: 0.0137 - accuracy: 0.9952 - val_loss: 0.8102 - val_accuracy: 0.8679\n",
      "Epoch 49: Learning rate is 0.0072899991646409035.\n",
      "Epoch 49/1000\n",
      " 1/27 [>.............................] - ETA: 0s - loss: 3.2948e-04 - accuracy: 1.0000\n",
      "Epoch 00049: ReduceLROnPlateau reducing learning rate to 0.006560999248176813.\n",
      "27/27 [==============================] - 0s 924us/step - loss: 0.0136 - accuracy: 0.9952 - val_loss: 0.8141 - val_accuracy: 0.8774\n",
      "Epoch 50: Learning rate is 0.006560999434441328.\n",
      "Epoch 50/1000\n",
      "27/27 [==============================] - 0s 832us/step - loss: 0.0135 - accuracy: 0.9952 - val_loss: 0.7921 - val_accuracy: 0.8585\n",
      "Epoch 51: Learning rate is 0.006560999434441328.\n",
      "Epoch 51/1000\n",
      "27/27 [==============================] - 0s 850us/step - loss: 0.0137 - accuracy: 0.9952 - val_loss: 0.7948 - val_accuracy: 0.8585\n",
      "Epoch 52: Learning rate is 0.006560999434441328.\n",
      "Epoch 52/1000\n",
      "27/27 [==============================] - 0s 850us/step - loss: 0.0134 - accuracy: 0.9952 - val_loss: 0.8173 - val_accuracy: 0.8491\n",
      "Epoch 53: Learning rate is 0.006560999434441328.\n",
      "Epoch 53/1000\n",
      "27/27 [==============================] - 0s 850us/step - loss: 0.0132 - accuracy: 0.9952 - val_loss: 0.8296 - val_accuracy: 0.8491\n",
      "Epoch 54: Learning rate is 0.006560999434441328.\n",
      "Epoch 54/1000\n",
      "27/27 [==============================] - 0s 869us/step - loss: 0.0133 - accuracy: 0.9952 - val_loss: 0.8382 - val_accuracy: 0.8679\n",
      "Epoch 55: Learning rate is 0.006560999434441328.\n",
      "Epoch 55/1000\n",
      "27/27 [==============================] - 0s 960us/step - loss: 0.0364 - accuracy: 0.9952 - val_loss: 0.8130 - val_accuracy: 0.8679\n",
      "Epoch 56: Learning rate is 0.006560999434441328.\n",
      "Epoch 56/1000\n",
      "27/27 [==============================] - 0s 997us/step - loss: 0.0470 - accuracy: 0.9834 - val_loss: 0.6988 - val_accuracy: 0.8679\n",
      "Epoch 57: Learning rate is 0.006560999434441328.\n",
      "Epoch 57/1000\n",
      "27/27 [==============================] - 0s 1ms/step - loss: 0.1722 - accuracy: 0.9525 - val_loss: 0.6652 - val_accuracy: 0.8113\n",
      "Epoch 58: Learning rate is 0.006560999434441328.\n",
      "Epoch 58/1000\n",
      "27/27 [==============================] - 0s 887us/step - loss: 0.2373 - accuracy: 0.9216 - val_loss: 0.5499 - val_accuracy: 0.8962\n",
      "Epoch 59: Learning rate is 0.006560999434441328.\n",
      "Epoch 59/1000\n",
      " 1/27 [>.............................] - ETA: 0s - loss: 0.1864 - accuracy: 0.9375\n",
      "Epoch 00059: ReduceLROnPlateau reducing learning rate to 0.005904899490997195.\n",
      "27/27 [==============================] - 0s 886us/step - loss: 0.2021 - accuracy: 0.9525 - val_loss: 0.4973 - val_accuracy: 0.8019\n",
      "Epoch 60: Learning rate is 0.0059048994444310665.\n",
      "Epoch 60/1000\n",
      "27/27 [==============================] - 0s 887us/step - loss: 0.0697 - accuracy: 0.9834 - val_loss: 0.4496 - val_accuracy: 0.8774\n",
      "Epoch 61: Learning rate is 0.0059048994444310665.\n",
      "Epoch 61/1000\n",
      "27/27 [==============================] - 0s 905us/step - loss: 0.0276 - accuracy: 0.9929 - val_loss: 0.4688 - val_accuracy: 0.8962\n",
      "Epoch 62: Learning rate is 0.0059048994444310665.\n",
      "Epoch 62/1000\n",
      "27/27 [==============================] - 0s 813us/step - loss: 0.0204 - accuracy: 0.9976 - val_loss: 0.4786 - val_accuracy: 0.9057\n",
      "Epoch 63: Learning rate is 0.0059048994444310665.\n",
      "Epoch 63/1000\n",
      "27/27 [==============================] - 0s 886us/step - loss: 0.0141 - accuracy: 1.0000 - val_loss: 0.5380 - val_accuracy: 0.9151\n",
      "Epoch 64: Learning rate is 0.0059048994444310665.\n",
      "Epoch 64/1000\n",
      "27/27 [==============================] - 0s 776us/step - loss: 0.0119 - accuracy: 1.0000 - val_loss: 0.5220 - val_accuracy: 0.8962\n",
      "Epoch 65: Learning rate is 0.0059048994444310665.\n",
      "Epoch 65/1000\n",
      "27/27 [==============================] - 0s 943us/step - loss: 0.0103 - accuracy: 1.0000 - val_loss: 0.5336 - val_accuracy: 0.8962\n",
      "Epoch 66: Learning rate is 0.0059048994444310665.\n",
      "Epoch 66/1000\n",
      "27/27 [==============================] - 0s 923us/step - loss: 0.0101 - accuracy: 1.0000 - val_loss: 0.5504 - val_accuracy: 0.8962\n",
      "Epoch 67: Learning rate is 0.0059048994444310665.\n",
      "Epoch 67/1000\n",
      "27/27 [==============================] - 0s 960us/step - loss: 0.0095 - accuracy: 1.0000 - val_loss: 0.5632 - val_accuracy: 0.8962\n",
      "Epoch 68: Learning rate is 0.0059048994444310665.\n",
      "Epoch 68/1000\n",
      "27/27 [==============================] - 0s 850us/step - loss: 0.0086 - accuracy: 1.0000 - val_loss: 0.5731 - val_accuracy: 0.8962\n",
      "Epoch 69: Learning rate is 0.0059048994444310665.\n",
      "Epoch 69/1000\n",
      " 1/27 [>.............................] - ETA: 0s - loss: 0.0016 - accuracy: 1.0000\n",
      "Epoch 00069: ReduceLROnPlateau reducing learning rate to 0.00531440949998796.\n",
      "27/27 [==============================] - 0s 942us/step - loss: 0.0081 - accuracy: 1.0000 - val_loss: 0.5818 - val_accuracy: 0.9057\n",
      "Epoch 70: Learning rate is 0.0053144097328186035.\n",
      "Epoch 70/1000\n",
      "27/27 [==============================] - 0s 923us/step - loss: 0.0077 - accuracy: 1.0000 - val_loss: 0.5875 - val_accuracy: 0.9057\n",
      "Epoch 71: Learning rate is 0.0053144097328186035.\n",
      "Epoch 71/1000\n",
      "27/27 [==============================] - 0s 924us/step - loss: 0.0074 - accuracy: 1.0000 - val_loss: 0.5938 - val_accuracy: 0.9057\n",
      "Epoch 72: Learning rate is 0.0053144097328186035.\n",
      "Epoch 72/1000\n",
      "27/27 [==============================] - 0s 924us/step - loss: 0.0071 - accuracy: 1.0000 - val_loss: 0.5995 - val_accuracy: 0.9057\n",
      "Epoch 73: Learning rate is 0.0053144097328186035.\n",
      "Epoch 73/1000\n",
      "27/27 [==============================] - 0s 905us/step - loss: 0.0070 - accuracy: 1.0000 - val_loss: 0.5963 - val_accuracy: 0.9151\n",
      "Epoch 74: Learning rate is 0.0053144097328186035.\n",
      "Epoch 74/1000\n",
      "27/27 [==============================] - 0s 923us/step - loss: 0.0067 - accuracy: 1.0000 - val_loss: 0.5912 - val_accuracy: 0.9151\n",
      "Epoch 75: Learning rate is 0.0053144097328186035.\n",
      "Epoch 75/1000\n",
      "27/27 [==============================] - 0s 813us/step - loss: 0.0065 - accuracy: 1.0000 - val_loss: 0.5958 - val_accuracy: 0.9057\n",
      "Epoch 76: Learning rate is 0.0053144097328186035.\n",
      "Epoch 76/1000\n",
      "27/27 [==============================] - 0s 924us/step - loss: 0.0063 - accuracy: 1.0000 - val_loss: 0.5999 - val_accuracy: 0.9057\n",
      "Epoch 77: Learning rate is 0.0053144097328186035.\n",
      "Epoch 77/1000\n",
      "27/27 [==============================] - 0s 942us/step - loss: 0.0157 - accuracy: 0.9976 - val_loss: 0.5925 - val_accuracy: 0.9057\n",
      "Epoch 78: Learning rate is 0.0053144097328186035.\n",
      "Epoch 78/1000\n",
      "27/27 [==============================] - 0s 923us/step - loss: 0.0067 - accuracy: 1.0000 - val_loss: 0.6076 - val_accuracy: 0.9151\n",
      "Epoch 79: Learning rate is 0.0053144097328186035.\n",
      "Epoch 79/1000\n",
      " 1/27 [>.............................] - ETA: 0s - loss: 0.0179 - accuracy: 1.0000\n",
      "Epoch 00079: ReduceLROnPlateau reducing learning rate to 0.004782968759536744.\n",
      "27/27 [==============================] - 0s 923us/step - loss: 0.0060 - accuracy: 1.0000 - val_loss: 0.6121 - val_accuracy: 0.9151\n",
      "Epoch 80: Learning rate is 0.004782968666404486.\n",
      "Epoch 80/1000\n",
      "27/27 [==============================] - 0s 832us/step - loss: 0.0057 - accuracy: 1.0000 - val_loss: 0.6156 - val_accuracy: 0.9151\n",
      "Epoch 81: Learning rate is 0.004782968666404486.\n",
      "Epoch 81/1000\n",
      "27/27 [==============================] - 0s 887us/step - loss: 0.0055 - accuracy: 1.0000 - val_loss: 0.6178 - val_accuracy: 0.9151\n",
      "Epoch 82: Learning rate is 0.004782968666404486.\n",
      "Epoch 82/1000\n",
      "27/27 [==============================] - 0s 813us/step - loss: 0.0054 - accuracy: 1.0000 - val_loss: 0.6199 - val_accuracy: 0.9245\n",
      "Epoch 83: Learning rate is 0.004782968666404486.\n",
      "Epoch 83/1000\n",
      "27/27 [==============================] - 0s 923us/step - loss: 0.0052 - accuracy: 1.0000 - val_loss: 0.6241 - val_accuracy: 0.9151\n",
      "Epoch 84: Learning rate is 0.004782968666404486.\n",
      "Epoch 84/1000\n",
      "27/27 [==============================] - 0s 906us/step - loss: 0.0050 - accuracy: 1.0000 - val_loss: 0.6275 - val_accuracy: 0.9151\n",
      "Epoch 85: Learning rate is 0.004782968666404486.\n",
      "Epoch 85/1000\n",
      "27/27 [==============================] - 0s 923us/step - loss: 0.0049 - accuracy: 1.0000 - val_loss: 0.6310 - val_accuracy: 0.9151\n",
      "Epoch 86: Learning rate is 0.004782968666404486.\n",
      "Epoch 86/1000\n",
      "27/27 [==============================] - 0s 886us/step - loss: 0.0047 - accuracy: 1.0000 - val_loss: 0.6339 - val_accuracy: 0.9151\n",
      "Epoch 87: Learning rate is 0.004782968666404486.\n",
      "Epoch 87/1000\n",
      "27/27 [==============================] - 0s 850us/step - loss: 0.0046 - accuracy: 1.0000 - val_loss: 0.6364 - val_accuracy: 0.9151\n",
      "Epoch 88: Learning rate is 0.004782968666404486.\n",
      "Epoch 88/1000\n",
      "27/27 [==============================] - 0s 905us/step - loss: 0.0045 - accuracy: 1.0000 - val_loss: 0.6398 - val_accuracy: 0.9151\n",
      "Epoch 89: Learning rate is 0.004782968666404486.\n",
      "Epoch 89/1000\n",
      " 1/27 [>.............................] - ETA: 0s - loss: 0.0273 - accuracy: 1.0000\n",
      "Epoch 00089: ReduceLROnPlateau reducing learning rate to 0.0043046717997640375.\n",
      "27/27 [==============================] - 0s 923us/step - loss: 0.0043 - accuracy: 1.0000 - val_loss: 0.6424 - val_accuracy: 0.9151\n",
      "Epoch 90: Learning rate is 0.004304671660065651.\n",
      "Epoch 90/1000\n",
      "27/27 [==============================] - 0s 960us/step - loss: 0.0042 - accuracy: 1.0000 - val_loss: 0.6450 - val_accuracy: 0.9151\n",
      "Epoch 91: Learning rate is 0.004304671660065651.\n",
      "Epoch 91/1000\n",
      "27/27 [==============================] - 0s 850us/step - loss: 0.0041 - accuracy: 1.0000 - val_loss: 0.6472 - val_accuracy: 0.9151\n",
      "Epoch 92: Learning rate is 0.004304671660065651.\n",
      "Epoch 92/1000\n",
      "27/27 [==============================] - 0s 877us/step - loss: 0.0040 - accuracy: 1.0000 - val_loss: 0.6496 - val_accuracy: 0.9151\n",
      "Epoch 93: Learning rate is 0.004304671660065651.\n",
      "Epoch 93/1000\n",
      "27/27 [==============================] - 0s 960us/step - loss: 0.0039 - accuracy: 1.0000 - val_loss: 0.6501 - val_accuracy: 0.9151\n",
      "Epoch 94: Learning rate is 0.004304671660065651.\n",
      "Epoch 94/1000\n",
      "27/27 [==============================] - 0s 923us/step - loss: 0.0038 - accuracy: 1.0000 - val_loss: 0.6492 - val_accuracy: 0.9151\n",
      "Epoch 95: Learning rate is 0.004304671660065651.\n",
      "Epoch 95/1000\n",
      "27/27 [==============================] - 0s 887us/step - loss: 0.0037 - accuracy: 1.0000 - val_loss: 0.6513 - val_accuracy: 0.9151\n",
      "Epoch 96: Learning rate is 0.004304671660065651.\n",
      "Epoch 96/1000\n",
      "27/27 [==============================] - 0s 935us/step - loss: 0.0037 - accuracy: 1.0000 - val_loss: 0.6535 - val_accuracy: 0.9151\n",
      "Epoch 97: Learning rate is 0.004304671660065651.\n",
      "Epoch 97/1000\n",
      "27/27 [==============================] - 0s 923us/step - loss: 0.0036 - accuracy: 1.0000 - val_loss: 0.6552 - val_accuracy: 0.9151\n",
      "Epoch 98: Learning rate is 0.004304671660065651.\n",
      "Epoch 98/1000\n",
      "27/27 [==============================] - 0s 923us/step - loss: 0.0035 - accuracy: 1.0000 - val_loss: 0.6568 - val_accuracy: 0.9151\n",
      "Epoch 99: Learning rate is 0.004304671660065651.\n",
      "Epoch 99/1000\n",
      " 1/27 [>.............................] - ETA: 0s - loss: 2.2157e-05 - accuracy: 1.0000\n",
      "Epoch 00099: ReduceLROnPlateau reducing learning rate to 0.0038742044940590858.\n",
      "27/27 [==============================] - 0s 850us/step - loss: 0.0034 - accuracy: 1.0000 - val_loss: 0.6598 - val_accuracy: 0.9151\n",
      "Epoch 100: Learning rate is 0.0038742045871913433.\n",
      "Epoch 100/1000\n",
      "27/27 [==============================] - 0s 813us/step - loss: 0.0033 - accuracy: 1.0000 - val_loss: 0.6613 - val_accuracy: 0.9151\n",
      "Epoch 101: Learning rate is 0.0038742045871913433.\n",
      "Epoch 101/1000\n",
      "27/27 [==============================] - 0s 850us/step - loss: 0.0033 - accuracy: 1.0000 - val_loss: 0.6630 - val_accuracy: 0.9151\n",
      "Epoch 102: Learning rate is 0.0038742045871913433.\n",
      "Epoch 102/1000\n",
      "27/27 [==============================] - 0s 813us/step - loss: 0.0032 - accuracy: 1.0000 - val_loss: 0.6648 - val_accuracy: 0.9151\n",
      "Epoch 103: Learning rate is 0.0038742045871913433.\n",
      "Epoch 103/1000\n",
      "27/27 [==============================] - 0s 850us/step - loss: 0.0031 - accuracy: 1.0000 - val_loss: 0.6667 - val_accuracy: 0.9151\n",
      "Epoch 104: Learning rate is 0.0038742045871913433.\n",
      "Epoch 104/1000\n",
      "27/27 [==============================] - 0s 896us/step - loss: 0.0031 - accuracy: 1.0000 - val_loss: 0.6680 - val_accuracy: 0.9151\n",
      "Epoch 105: Learning rate is 0.0038742045871913433.\n",
      "Epoch 105/1000\n",
      "27/27 [==============================] - 0s 813us/step - loss: 0.0030 - accuracy: 1.0000 - val_loss: 0.6697 - val_accuracy: 0.9151\n",
      "Epoch 106: Learning rate is 0.0038742045871913433.\n",
      "Epoch 106/1000\n",
      "27/27 [==============================] - 0s 886us/step - loss: 0.0029 - accuracy: 1.0000 - val_loss: 0.6710 - val_accuracy: 0.9151\n",
      "Epoch 107: Learning rate is 0.0038742045871913433.\n",
      "Epoch 107/1000\n",
      "27/27 [==============================] - 0s 850us/step - loss: 0.0029 - accuracy: 1.0000 - val_loss: 0.6731 - val_accuracy: 0.9151\n",
      "Epoch 108: Learning rate is 0.0038742045871913433.\n",
      "Epoch 108/1000\n",
      "27/27 [==============================] - 0s 934us/step - loss: 0.0028 - accuracy: 1.0000 - val_loss: 0.6746 - val_accuracy: 0.9151\n",
      "Epoch 109: Learning rate is 0.0038742045871913433.\n",
      "Epoch 109/1000\n",
      " 1/27 [>.............................] - ETA: 0s - loss: 0.0088 - accuracy: 1.0000Restoring model weights from the end of the best epoch.\n",
      "\n",
      "Epoch 00109: ReduceLROnPlateau reducing learning rate to 0.003486784128472209.\n",
      "27/27 [==============================] - 0s 997us/step - loss: 0.0028 - accuracy: 1.0000 - val_loss: 0.6763 - val_accuracy: 0.9151\n",
      "Epoch 00109: early stopping\n"
     ]
    }
   ],
   "source": [
    "# Pass the callback to the fit method\n",
    "history = model.fit(\n",
    "    X_train,\n",
    "    y_train,\n",
    "    validation_split=0.2,\n",
    "    epochs=1000,\n",
    "    batch_size=16,\n",
    "    callbacks=callbacks  # include it here\n",
    ")"
   ],
   "metadata": {
    "collapsed": false,
    "ExecuteTime": {
     "end_time": "2024-01-15T12:33:21.898671300Z",
     "start_time": "2024-01-15T12:33:18.397644600Z"
    }
   },
   "id": "9b3987282a3908cb",
   "execution_count": 7
  },
  {
   "cell_type": "code",
   "outputs": [
    {
     "name": "stdout",
     "output_type": "stream",
     "text": [
      "1/5 [=====>........................] - ETA: 0s - loss: 0.4038 - accuracy: 0.8125WARNING:tensorflow:Callbacks method `on_test_batch_end` is slow compared to the batch time (batch time: 0.0000s vs `on_test_batch_end` time: 0.0010s). Check your callbacks.\n",
      "5/5 [==============================] - 0s 605us/step - loss: 0.3586 - accuracy: 0.8788\n",
      "Test accuracy: 0.8787878751754761\n",
      "Test loss: 0.3585723042488098\n"
     ]
    }
   ],
   "source": [
    "# Evaluating the model\n",
    "test_loss, test_acc = model.evaluate(X_test, y_test)\n",
    "print('Test accuracy:', test_acc)\n",
    "print('Test loss:', test_loss)"
   ],
   "metadata": {
    "collapsed": false,
    "ExecuteTime": {
     "end_time": "2024-01-15T12:33:21.945837300Z",
     "start_time": "2024-01-15T12:33:21.898671300Z"
    }
   },
   "id": "579ff12f8e7af30a",
   "execution_count": 8
  },
  {
   "cell_type": "code",
   "outputs": [
    {
     "data": {
      "text/plain": "array([[41,  0,  0],\n       [ 2, 45,  4],\n       [ 0, 10, 30]], dtype=int64)"
     },
     "execution_count": 9,
     "metadata": {},
     "output_type": "execute_result"
    }
   ],
   "source": [
    "#confusion matrix\n",
    "from sklearn.metrics import confusion_matrix\n",
    "import numpy as np\n",
    "y_pred = model.predict(X_test)\n",
    "y_pred = np.argmax(y_pred, axis=1)\n",
    "y_test = np.argmax(y_test, axis=1)\n",
    "confusion_matrix(y_test, y_pred)"
   ],
   "metadata": {
    "collapsed": false,
    "ExecuteTime": {
     "end_time": "2024-01-15T12:33:22.040202100Z",
     "start_time": "2024-01-15T12:33:21.948831200Z"
    }
   },
   "id": "676b42028a4e62bf",
   "execution_count": 9
  },
  {
   "cell_type": "code",
   "outputs": [
    {
     "data": {
      "text/plain": "<Figure size 640x480 with 1 Axes>",
      "image/png": "[encoded data removed]"
     },
     "metadata": {},
     "output_type": "display_data"
    },
    {
     "data": {
      "text/plain": "<Figure size 640x480 with 1 Axes>",
      "image/png": "[encoded data removed]"
     },
     "metadata": {},
     "output_type": "display_data"
    },
    {
     "data": {
      "text/plain": "<Figure size 640x480 with 1 Axes>",
      "image/png": "[encoded data removed]"
     },
     "metadata": {},
     "output_type": "display_data"
    }
   ],
   "source": [
    "# Plotting the training and validation loss\n",
    "import matplotlib.pyplot as plt\n",
    "\n",
    "plt.plot(history.history['loss'])\n",
    "plt.plot(history.history['val_loss'])\n",
    "plt.title('Model loss')\n",
    "plt.ylabel('Loss')\n",
    "plt.xlabel('Epochs')\n",
    "plt.legend(['Train', 'Validation'], loc='upper right')\n",
    "plt.show()\n",
    "\n",
    "plt.plot(history.history['accuracy'])\n",
    "plt.plot(history.history['val_accuracy'])\n",
    "plt.title('Model accuracy')\n",
    "plt.ylabel('Accuracy')\n",
    "plt.xlabel('Epochs')\n",
    "plt.legend(['Train', 'Validation'], loc='lower right')\n",
    "plt.show()\n",
    "\n",
    "# Plotting\n",
    "# plt.figure(figsize=(8, 8))\n",
    "plt.plot(lr_tracker.learning_rates)\n",
    "plt.title(\"Learning Rate over Epochs\")\n",
    "plt.xlabel(\"Epoch\")\n",
    "plt.ylabel(\"Learning Rate\")\n",
    "plt.grid(True)"
   ],
   "metadata": {
    "collapsed": false,
    "ExecuteTime": {
     "end_time": "2024-01-15T12:33:22.376971500Z",
     "start_time": "2024-01-15T12:33:22.044191300Z"
    }
   },
   "id": "941163c55133977c",
   "execution_count": 10
  },
  {
   "cell_type": "code",
   "outputs": [
    {
     "name": "stdout",
     "output_type": "stream",
     "text": [
      "WARNING:tensorflow:From C:\\Users\\shinm\\miniconda3\\envs\\FurtherResearch\\lib\\site-packages\\tensorflow\\python\\training\\tracking\\tracking.py:111: Model.state_updates (from tensorflow.python.keras.engine.training) is deprecated and will be removed in a future version.\n",
      "Instructions for updating:\n",
      "This property should not be used in TensorFlow 2.0, as updates are applied automatically.\n",
      "WARNING:tensorflow:From C:\\Users\\shinm\\miniconda3\\envs\\FurtherResearch\\lib\\site-packages\\tensorflow\\python\\training\\tracking\\tracking.py:111: Layer.updates (from tensorflow.python.keras.engine.base_layer) is deprecated and will be removed in a future version.\n",
      "Instructions for updating:\n",
      "This property should not be used in TensorFlow 2.0, as updates are applied automatically.\n",
      "INFO:tensorflow:Assets written to: ../../Model/STS/sts_model\\assets\n"
     ]
    }
   ],
   "source": [
    "# Save the model\n",
    "tf.keras.models.save_model(model, '../../Model/STS/sts_model')"
   ],
   "metadata": {
    "collapsed": false,
    "ExecuteTime": {
     "end_time": "2024-01-15T12:35:17.382204500Z",
     "start_time": "2024-01-15T12:35:15.903497100Z"
    }
   },
   "id": "3a1e8ff4353cdec7",
   "execution_count": 11
  },
  {
   "cell_type": "code",
   "outputs": [
    {
     "name": "stdout",
     "output_type": "stream",
     "text": [
      "Model: \"sequential\"\n",
      "_________________________________________________________________\n",
      "Layer (type)                 Output Shape              Param #   \n",
      "=================================================================\n",
      "dense_0 (Dense)              (None, 64)                2176      \n",
      "_________________________________________________________________\n",
      "dense_1 (Dense)              (None, 32)                2080      \n",
      "_________________________________________________________________\n",
      "dense_2 (Dense)              (None, 3)                 99        \n",
      "_________________________________________________________________\n",
      "dense (Dense)                (None, 3)                 12        \n",
      "=================================================================\n",
      "Total params: 4,367\n",
      "Trainable params: 4,367\n",
      "Non-trainable params: 0\n",
      "_________________________________________________________________\n"
     ]
    }
   ],
   "source": [
    "from tensorflow.keras.models import Model\n",
    "\n",
    "model.summary()"
   ],
   "metadata": {
    "collapsed": false,
    "ExecuteTime": {
     "end_time": "2024-01-15T12:35:45.466304400Z",
     "start_time": "2024-01-15T12:35:45.442282Z"
    }
   },
   "id": "233a25c124c0d837",
   "execution_count": 12
  },
  {
   "cell_type": "code",
   "outputs": [
    {
     "name": "stdout",
     "output_type": "stream",
     "text": [
      "Model: \"functional_1\"\n",
      "_________________________________________________________________\n",
      "Layer (type)                 Output Shape              Param #   \n",
      "=================================================================\n",
      "dense_0_input (InputLayer)   [(None, 33)]              0         \n",
      "_________________________________________________________________\n",
      "dense_0 (Dense)              (None, 64)                2176      \n",
      "_________________________________________________________________\n",
      "dense_1 (Dense)              (None, 32)                2080      \n",
      "_________________________________________________________________\n",
      "dense_2 (Dense)              (None, 3)                 99        \n",
      "=================================================================\n",
      "Total params: 4,355\n",
      "Trainable params: 4,355\n",
      "Non-trainable params: 0\n",
      "_________________________________________________________________\n"
     ]
    }
   ],
   "source": [
    "# Assume 'original_model' is your pre-trained model\n",
    "model_without_softmax = Model(inputs=model.input, \n",
    "                              outputs=model.get_layer(\"dense_2\").output)\n",
    "model_without_softmax.summary()\n"
   ],
   "metadata": {
    "collapsed": false,
    "ExecuteTime": {
     "end_time": "2024-01-15T12:36:04.451504800Z",
     "start_time": "2024-01-15T12:36:04.429553Z"
    }
   },
   "id": "f083e2813f643fed",
   "execution_count": 13
  },
  {
   "cell_type": "code",
   "outputs": [
    {
     "name": "stdout",
     "output_type": "stream",
     "text": [
      "INFO:tensorflow:Assets written to: ../../Model/STS/sts_model_without_softmax\\assets\n"
     ]
    }
   ],
   "source": [
    "# Save the model\n",
    "tf.keras.models.save_model(model_without_softmax, '../../Model/STS/sts_model_without_softmax')"
   ],
   "metadata": {
    "collapsed": false,
    "ExecuteTime": {
     "end_time": "2024-01-15T12:36:45.664527400Z",
     "start_time": "2024-01-15T12:36:44.390843800Z"
    }
   },
   "id": "2d3c1b1ebbbee2e3",
   "execution_count": 14
  },
  {
   "cell_type": "code",
   "outputs": [],
   "source": [],
   "metadata": {
    "collapsed": false
   },
   "id": "753cca8915ed60d2"
  }
 ],
 "metadata": {
  "kernelspec": {
   "display_name": "Python 3",
   "language": "python",
   "name": "python3"
  },
  "language_info": {
   "codemirror_mode": {
    "name": "ipython",
    "version": 2
   },
   "file_extension": ".py",
   "mimetype": "text/x-python",
   "name": "python",
   "nbconvert_exporter": "python",
   "pygments_lexer": "ipython2",
   "version": "2.7.6"
  }
 },
 "nbformat": 4,
 "nbformat_minor": 5
}
