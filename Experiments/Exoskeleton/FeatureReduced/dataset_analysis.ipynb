{
 "cells": [
  {
   "cell_type": "code",
   "execution_count": 2,
   "id": "initial_id",
   "metadata": {
    "collapsed": true,
    "ExecuteTime": {
     "end_time": "2024-02-29T15:04:32.078172Z",
     "start_time": "2024-02-29T15:04:32.075897Z"
    }
   },
   "outputs": [],
   "source": [
    "import pandas as pd"
   ]
  },
  {
   "cell_type": "code",
   "outputs": [
    {
     "data": {
      "text/plain": "      OFS_FIB_MNF  OFS_FIB_MDF  EMG_EMG_MDF  IMU2_AccX_Mean  EMG_EMG_IMNF  \\\n0        0.002432     0.204083     0.230724      100.000000     22.334139   \n1        0.313588     0.214659     0.181664       89.830555      8.384712   \n2        0.576482     0.247898     0.234438       81.878233      8.372799   \n3        0.170905     0.195446     0.192446       88.058375      7.684195   \n4        0.172522     0.198108     0.220765       90.980290      7.496121   \n...           ...          ...          ...             ...           ...   \n1828     0.000087     0.156739     0.208658        2.747222      8.023430   \n1829     0.000129     0.213413     0.210199        2.757767      9.214335   \n1830     0.000100     0.156943     0.214340        2.699114      7.786317   \n1831     0.000063     0.124892     0.217625        2.772969      8.059900   \n1832     0.000065     0.119490     0.345457        2.901382     39.071400   \n\n      EMG_EMG_MNF  OFS_FIB_IMNF  IMU2_AccZ_Mean  IMU2_AccZ_RMS  \\\n0        0.293036      1.282506      100.000000     100.000000   \n1        0.142451      1.147393       87.215910      95.060985   \n2        0.385845      0.989183       80.322407      93.423653   \n3        0.426387      0.912529       94.426002     104.269905   \n4        0.501780      0.880923       98.265519     114.053725   \n...           ...           ...             ...            ...   \n1828     0.407665      0.808654        1.957816      11.241130   \n1829     0.395226      0.807963        2.058811      11.797109   \n1830     0.400278      0.806151        2.158858      12.102531   \n1831     0.440773      1.029054        2.098931      12.336496   \n1832     1.456003      3.783479        2.314731      13.119013   \n\n      IMU2_AccZ_StdDev  fatigue_level  \n0           100.000000              1  \n1            97.623449              1  \n2            97.518917              1  \n3           107.432588              1  \n4           119.005683              1  \n...                ...            ...  \n1828         11.091271              3  \n1829         11.638002              3  \n1830         11.928677              3  \n1831         12.178948              3  \n1832         12.958581              3  \n\n[1833 rows x 11 columns]",
      "text/html": "<div>\n<style scoped>\n    .dataframe tbody tr th:only-of-type {\n        vertical-align: middle;\n    }\n\n    .dataframe tbody tr th {\n        vertical-align: top;\n    }\n\n    .dataframe thead th {\n        text-align: right;\n    }\n</style>\n<table border=\"1\" class=\"dataframe\">\n  <thead>\n    <tr style=\"text-align: right;\">\n      <th></th>\n      <th>OFS_FIB_MNF</th>\n      <th>OFS_FIB_MDF</th>\n      <th>EMG_EMG_MDF</th>\n      <th>IMU2_AccX_Mean</th>\n      <th>EMG_EMG_IMNF</th>\n      <th>EMG_EMG_MNF</th>\n      <th>OFS_FIB_IMNF</th>\n      <th>IMU2_AccZ_Mean</th>\n      <th>IMU2_AccZ_RMS</th>\n      <th>IMU2_AccZ_StdDev</th>\n      <th>fatigue_level</th>\n    </tr>\n  </thead>\n  <tbody>\n    <tr>\n      <th>0</th>\n      <td>0.002432</td>\n      <td>0.204083</td>\n      <td>0.230724</td>\n      <td>100.000000</td>\n      <td>22.334139</td>\n      <td>0.293036</td>\n      <td>1.282506</td>\n      <td>100.000000</td>\n      <td>100.000000</td>\n      <td>100.000000</td>\n      <td>1</td>\n    </tr>\n    <tr>\n      <th>1</th>\n      <td>0.313588</td>\n      <td>0.214659</td>\n      <td>0.181664</td>\n      <td>89.830555</td>\n      <td>8.384712</td>\n      <td>0.142451</td>\n      <td>1.147393</td>\n      <td>87.215910</td>\n      <td>95.060985</td>\n      <td>97.623449</td>\n      <td>1</td>\n    </tr>\n    <tr>\n      <th>2</th>\n      <td>0.576482</td>\n      <td>0.247898</td>\n      <td>0.234438</td>\n      <td>81.878233</td>\n      <td>8.372799</td>\n      <td>0.385845</td>\n      <td>0.989183</td>\n      <td>80.322407</td>\n      <td>93.423653</td>\n      <td>97.518917</td>\n      <td>1</td>\n    </tr>\n    <tr>\n      <th>3</th>\n      <td>0.170905</td>\n      <td>0.195446</td>\n      <td>0.192446</td>\n      <td>88.058375</td>\n      <td>7.684195</td>\n      <td>0.426387</td>\n      <td>0.912529</td>\n      <td>94.426002</td>\n      <td>104.269905</td>\n      <td>107.432588</td>\n      <td>1</td>\n    </tr>\n    <tr>\n      <th>4</th>\n      <td>0.172522</td>\n      <td>0.198108</td>\n      <td>0.220765</td>\n      <td>90.980290</td>\n      <td>7.496121</td>\n      <td>0.501780</td>\n      <td>0.880923</td>\n      <td>98.265519</td>\n      <td>114.053725</td>\n      <td>119.005683</td>\n      <td>1</td>\n    </tr>\n    <tr>\n      <th>...</th>\n      <td>...</td>\n      <td>...</td>\n      <td>...</td>\n      <td>...</td>\n      <td>...</td>\n      <td>...</td>\n      <td>...</td>\n      <td>...</td>\n      <td>...</td>\n      <td>...</td>\n      <td>...</td>\n    </tr>\n    <tr>\n      <th>1828</th>\n      <td>0.000087</td>\n      <td>0.156739</td>\n      <td>0.208658</td>\n      <td>2.747222</td>\n      <td>8.023430</td>\n      <td>0.407665</td>\n      <td>0.808654</td>\n      <td>1.957816</td>\n      <td>11.241130</td>\n      <td>11.091271</td>\n      <td>3</td>\n    </tr>\n    <tr>\n      <th>1829</th>\n      <td>0.000129</td>\n      <td>0.213413</td>\n      <td>0.210199</td>\n      <td>2.757767</td>\n      <td>9.214335</td>\n      <td>0.395226</td>\n      <td>0.807963</td>\n      <td>2.058811</td>\n      <td>11.797109</td>\n      <td>11.638002</td>\n      <td>3</td>\n    </tr>\n    <tr>\n      <th>1830</th>\n      <td>0.000100</td>\n      <td>0.156943</td>\n      <td>0.214340</td>\n      <td>2.699114</td>\n      <td>7.786317</td>\n      <td>0.400278</td>\n      <td>0.806151</td>\n      <td>2.158858</td>\n      <td>12.102531</td>\n      <td>11.928677</td>\n      <td>3</td>\n    </tr>\n    <tr>\n      <th>1831</th>\n      <td>0.000063</td>\n      <td>0.124892</td>\n      <td>0.217625</td>\n      <td>2.772969</td>\n      <td>8.059900</td>\n      <td>0.440773</td>\n      <td>1.029054</td>\n      <td>2.098931</td>\n      <td>12.336496</td>\n      <td>12.178948</td>\n      <td>3</td>\n    </tr>\n    <tr>\n      <th>1832</th>\n      <td>0.000065</td>\n      <td>0.119490</td>\n      <td>0.345457</td>\n      <td>2.901382</td>\n      <td>39.071400</td>\n      <td>1.456003</td>\n      <td>3.783479</td>\n      <td>2.314731</td>\n      <td>13.119013</td>\n      <td>12.958581</td>\n      <td>3</td>\n    </tr>\n  </tbody>\n</table>\n<p>1833 rows × 11 columns</p>\n</div>"
     },
     "execution_count": 13,
     "metadata": {},
     "output_type": "execute_result"
    }
   ],
   "source": [
    "# Load the data\n",
    "data = pd.read_csv('/home/adam/FurtherResearch/Dataset/Exoskeleton/Top_LDA_dataset.csv')\n",
    "data"
   ],
   "metadata": {
    "collapsed": false,
    "ExecuteTime": {
     "end_time": "2024-02-29T15:12:04.486397Z",
     "start_time": "2024-02-29T15:12:04.475470Z"
    }
   },
   "id": "f0ab9745a3d4e2c6",
   "execution_count": 13
  },
  {
   "cell_type": "code",
   "outputs": [
    {
     "data": {
      "text/plain": "                                             |          | [  0%]   00:00 -> (? left)",
      "application/vnd.jupyter.widget-view+json": {
       "version_major": 2,
       "version_minor": 0,
       "model_id": "8f1c47c4b8b24344b9da5d414e7f56b6"
      }
     },
     "metadata": {},
     "output_type": "display_data"
    },
    {
     "name": "stdout",
     "output_type": "stream",
     "text": [
      "Report /home/adam/FurtherResearch/Experiments/Exoskeleton/BMI/EDA.html was generated! NOTEBOOK/COLAB USERS: the web browser MAY not pop up, regardless, the report IS saved in your notebook/colab files.\n"
     ]
    }
   ],
   "source": [
    "import sweetviz as sv\n",
    "feature_config = sv.FeatureConfig(force_num=[\"fatigue_level\"])\n",
    "report = sv.analyze(data, pairwise_analysis='on',feat_cfg=feature_config, target_feat='fatigue_level')\n",
    "report.show_html('/home/adam/FurtherResearch/Experiments/Exoskeleton/BMI/EDA.html')"
   ],
   "metadata": {
    "collapsed": false,
    "ExecuteTime": {
     "end_time": "2024-02-29T15:05:15.070960Z",
     "start_time": "2024-02-29T15:05:09.199640Z"
    }
   },
   "id": "ac7aa4eab5ccfa41",
   "execution_count": 8
  },
  {
   "cell_type": "code",
   "outputs": [
    {
     "ename": "ValueError",
     "evalue": "Could not interpret input 'Subject'",
     "output_type": "error",
     "traceback": [
      "\u001B[0;31m---------------------------------------------------------------------------\u001B[0m",
      "\u001B[0;31mValueError\u001B[0m                                Traceback (most recent call last)",
      "Cell \u001B[0;32mIn[9], line 15\u001B[0m\n\u001B[1;32m     12\u001B[0m plt\u001B[38;5;241m.\u001B[39mfigure(figsize\u001B[38;5;241m=\u001B[39m(\u001B[38;5;241m20\u001B[39m, \u001B[38;5;241m10\u001B[39m))\n\u001B[1;32m     14\u001B[0m \u001B[38;5;66;03m# 使用seaborn的violinplot来显示不同subject的特征分布\u001B[39;00m\n\u001B[0;32m---> 15\u001B[0m \u001B[43msns\u001B[49m\u001B[38;5;241;43m.\u001B[39;49m\u001B[43mviolinplot\u001B[49m\u001B[43m(\u001B[49m\u001B[43mx\u001B[49m\u001B[38;5;241;43m=\u001B[39;49m\u001B[38;5;124;43m'\u001B[39;49m\u001B[38;5;124;43mSubject\u001B[39;49m\u001B[38;5;124;43m'\u001B[39;49m\u001B[43m,\u001B[49m\u001B[43m \u001B[49m\u001B[43my\u001B[49m\u001B[38;5;241;43m=\u001B[39;49m\u001B[43mfeature\u001B[49m\u001B[43m,\u001B[49m\u001B[43m \u001B[49m\u001B[43mdata\u001B[49m\u001B[38;5;241;43m=\u001B[39;49m\u001B[43mdata\u001B[49m\u001B[43m)\u001B[49m\n\u001B[1;32m     17\u001B[0m plt\u001B[38;5;241m.\u001B[39mtitle(\u001B[38;5;124mf\u001B[39m\u001B[38;5;124m'\u001B[39m\u001B[38;5;124mDistribution of \u001B[39m\u001B[38;5;132;01m{\u001B[39;00mfeature\u001B[38;5;132;01m}\u001B[39;00m\u001B[38;5;124m Across Subjects\u001B[39m\u001B[38;5;124m'\u001B[39m)\n\u001B[1;32m     18\u001B[0m plt\u001B[38;5;241m.\u001B[39mxlabel(\u001B[38;5;124m'\u001B[39m\u001B[38;5;124mSubject\u001B[39m\u001B[38;5;124m'\u001B[39m)\n",
      "File \u001B[0;32m~/.conda/envs/marabou/lib/python3.9/site-packages/seaborn/categorical.py:2305\u001B[0m, in \u001B[0;36mviolinplot\u001B[0;34m(data, x, y, hue, order, hue_order, bw, cut, scale, scale_hue, gridsize, width, inner, split, dodge, orient, linewidth, color, palette, saturation, ax, **kwargs)\u001B[0m\n\u001B[1;32m   2297\u001B[0m \u001B[38;5;28;01mdef\u001B[39;00m \u001B[38;5;21mviolinplot\u001B[39m(\n\u001B[1;32m   2298\u001B[0m     data\u001B[38;5;241m=\u001B[39m\u001B[38;5;28;01mNone\u001B[39;00m, \u001B[38;5;241m*\u001B[39m, x\u001B[38;5;241m=\u001B[39m\u001B[38;5;28;01mNone\u001B[39;00m, y\u001B[38;5;241m=\u001B[39m\u001B[38;5;28;01mNone\u001B[39;00m, hue\u001B[38;5;241m=\u001B[39m\u001B[38;5;28;01mNone\u001B[39;00m, order\u001B[38;5;241m=\u001B[39m\u001B[38;5;28;01mNone\u001B[39;00m, hue_order\u001B[38;5;241m=\u001B[39m\u001B[38;5;28;01mNone\u001B[39;00m,\n\u001B[1;32m   2299\u001B[0m     bw\u001B[38;5;241m=\u001B[39m\u001B[38;5;124m\"\u001B[39m\u001B[38;5;124mscott\u001B[39m\u001B[38;5;124m\"\u001B[39m, cut\u001B[38;5;241m=\u001B[39m\u001B[38;5;241m2\u001B[39m, scale\u001B[38;5;241m=\u001B[39m\u001B[38;5;124m\"\u001B[39m\u001B[38;5;124marea\u001B[39m\u001B[38;5;124m\"\u001B[39m, scale_hue\u001B[38;5;241m=\u001B[39m\u001B[38;5;28;01mTrue\u001B[39;00m, gridsize\u001B[38;5;241m=\u001B[39m\u001B[38;5;241m100\u001B[39m,\n\u001B[0;32m   (...)\u001B[0m\n\u001B[1;32m   2302\u001B[0m     ax\u001B[38;5;241m=\u001B[39m\u001B[38;5;28;01mNone\u001B[39;00m, \u001B[38;5;241m*\u001B[39m\u001B[38;5;241m*\u001B[39mkwargs,\n\u001B[1;32m   2303\u001B[0m ):\n\u001B[0;32m-> 2305\u001B[0m     plotter \u001B[38;5;241m=\u001B[39m \u001B[43m_ViolinPlotter\u001B[49m\u001B[43m(\u001B[49m\u001B[43mx\u001B[49m\u001B[43m,\u001B[49m\u001B[43m \u001B[49m\u001B[43my\u001B[49m\u001B[43m,\u001B[49m\u001B[43m \u001B[49m\u001B[43mhue\u001B[49m\u001B[43m,\u001B[49m\u001B[43m \u001B[49m\u001B[43mdata\u001B[49m\u001B[43m,\u001B[49m\u001B[43m \u001B[49m\u001B[43morder\u001B[49m\u001B[43m,\u001B[49m\u001B[43m \u001B[49m\u001B[43mhue_order\u001B[49m\u001B[43m,\u001B[49m\n\u001B[1;32m   2306\u001B[0m \u001B[43m                             \u001B[49m\u001B[43mbw\u001B[49m\u001B[43m,\u001B[49m\u001B[43m \u001B[49m\u001B[43mcut\u001B[49m\u001B[43m,\u001B[49m\u001B[43m \u001B[49m\u001B[43mscale\u001B[49m\u001B[43m,\u001B[49m\u001B[43m \u001B[49m\u001B[43mscale_hue\u001B[49m\u001B[43m,\u001B[49m\u001B[43m \u001B[49m\u001B[43mgridsize\u001B[49m\u001B[43m,\u001B[49m\n\u001B[1;32m   2307\u001B[0m \u001B[43m                             \u001B[49m\u001B[43mwidth\u001B[49m\u001B[43m,\u001B[49m\u001B[43m \u001B[49m\u001B[43minner\u001B[49m\u001B[43m,\u001B[49m\u001B[43m \u001B[49m\u001B[43msplit\u001B[49m\u001B[43m,\u001B[49m\u001B[43m \u001B[49m\u001B[43mdodge\u001B[49m\u001B[43m,\u001B[49m\u001B[43m \u001B[49m\u001B[43morient\u001B[49m\u001B[43m,\u001B[49m\u001B[43m \u001B[49m\u001B[43mlinewidth\u001B[49m\u001B[43m,\u001B[49m\n\u001B[1;32m   2308\u001B[0m \u001B[43m                             \u001B[49m\u001B[43mcolor\u001B[49m\u001B[43m,\u001B[49m\u001B[43m \u001B[49m\u001B[43mpalette\u001B[49m\u001B[43m,\u001B[49m\u001B[43m \u001B[49m\u001B[43msaturation\u001B[49m\u001B[43m)\u001B[49m\n\u001B[1;32m   2310\u001B[0m     \u001B[38;5;28;01mif\u001B[39;00m ax \u001B[38;5;129;01mis\u001B[39;00m \u001B[38;5;28;01mNone\u001B[39;00m:\n\u001B[1;32m   2311\u001B[0m         ax \u001B[38;5;241m=\u001B[39m plt\u001B[38;5;241m.\u001B[39mgca()\n",
      "File \u001B[0;32m~/.conda/envs/marabou/lib/python3.9/site-packages/seaborn/categorical.py:901\u001B[0m, in \u001B[0;36m_ViolinPlotter.__init__\u001B[0;34m(self, x, y, hue, data, order, hue_order, bw, cut, scale, scale_hue, gridsize, width, inner, split, dodge, orient, linewidth, color, palette, saturation)\u001B[0m\n\u001B[1;32m    896\u001B[0m \u001B[38;5;28;01mdef\u001B[39;00m \u001B[38;5;21m__init__\u001B[39m(\u001B[38;5;28mself\u001B[39m, x, y, hue, data, order, hue_order,\n\u001B[1;32m    897\u001B[0m              bw, cut, scale, scale_hue, gridsize,\n\u001B[1;32m    898\u001B[0m              width, inner, split, dodge, orient, linewidth,\n\u001B[1;32m    899\u001B[0m              color, palette, saturation):\n\u001B[0;32m--> 901\u001B[0m     \u001B[38;5;28;43mself\u001B[39;49m\u001B[38;5;241;43m.\u001B[39;49m\u001B[43mestablish_variables\u001B[49m\u001B[43m(\u001B[49m\u001B[43mx\u001B[49m\u001B[43m,\u001B[49m\u001B[43m \u001B[49m\u001B[43my\u001B[49m\u001B[43m,\u001B[49m\u001B[43m \u001B[49m\u001B[43mhue\u001B[49m\u001B[43m,\u001B[49m\u001B[43m \u001B[49m\u001B[43mdata\u001B[49m\u001B[43m,\u001B[49m\u001B[43m \u001B[49m\u001B[43morient\u001B[49m\u001B[43m,\u001B[49m\u001B[43m \u001B[49m\u001B[43morder\u001B[49m\u001B[43m,\u001B[49m\u001B[43m \u001B[49m\u001B[43mhue_order\u001B[49m\u001B[43m)\u001B[49m\n\u001B[1;32m    902\u001B[0m     \u001B[38;5;28mself\u001B[39m\u001B[38;5;241m.\u001B[39mestablish_colors(color, palette, saturation)\n\u001B[1;32m    903\u001B[0m     \u001B[38;5;28mself\u001B[39m\u001B[38;5;241m.\u001B[39mestimate_densities(bw, cut, scale, scale_hue, gridsize)\n",
      "File \u001B[0;32m~/.conda/envs/marabou/lib/python3.9/site-packages/seaborn/categorical.py:541\u001B[0m, in \u001B[0;36m_CategoricalPlotter.establish_variables\u001B[0;34m(self, x, y, hue, data, orient, order, hue_order, units)\u001B[0m\n\u001B[1;32m    539\u001B[0m     \u001B[38;5;28;01mif\u001B[39;00m \u001B[38;5;28misinstance\u001B[39m(var, \u001B[38;5;28mstr\u001B[39m):\n\u001B[1;32m    540\u001B[0m         err \u001B[38;5;241m=\u001B[39m \u001B[38;5;124mf\u001B[39m\u001B[38;5;124m\"\u001B[39m\u001B[38;5;124mCould not interpret input \u001B[39m\u001B[38;5;124m'\u001B[39m\u001B[38;5;132;01m{\u001B[39;00mvar\u001B[38;5;132;01m}\u001B[39;00m\u001B[38;5;124m'\u001B[39m\u001B[38;5;124m\"\u001B[39m\n\u001B[0;32m--> 541\u001B[0m         \u001B[38;5;28;01mraise\u001B[39;00m \u001B[38;5;167;01mValueError\u001B[39;00m(err)\n\u001B[1;32m    543\u001B[0m \u001B[38;5;66;03m# Figure out the plotting orientation\u001B[39;00m\n\u001B[1;32m    544\u001B[0m orient \u001B[38;5;241m=\u001B[39m infer_orient(\n\u001B[1;32m    545\u001B[0m     x, y, orient, require_numeric\u001B[38;5;241m=\u001B[39m\u001B[38;5;28mself\u001B[39m\u001B[38;5;241m.\u001B[39mrequire_numeric\n\u001B[1;32m    546\u001B[0m )\n",
      "\u001B[0;31mValueError\u001B[0m: Could not interpret input 'Subject'"
     ]
    },
    {
     "data": {
      "text/plain": "<Figure size 2000x1000 with 0 Axes>"
     },
     "metadata": {},
     "output_type": "display_data"
    }
   ],
   "source": [
    "import matplotlib.pyplot as plt\n",
    "import seaborn as sns\n",
    "\n",
    "# 选择要分析的特征，这里以传感器数据的几个统计量和身体测量数据为例\n",
    "features_to_analyze = data.columns\n",
    "\n",
    "# 设定绘图风格\n",
    "sns.set(style=\"whitegrid\")\n",
    "\n",
    "# 为每个特征绘制分布图\n",
    "for feature in features_to_analyze:\n",
    "    plt.figure(figsize=(20, 10))\n",
    "    \n",
    "    # 使用seaborn的violinplot来显示不同subject的特征分布\n",
    "    sns.violinplot(x='Subject', y=feature, data=data)\n",
    "    \n",
    "    plt.title(f'Distribution of {feature} Across Subjects')\n",
    "    plt.xlabel('Subject')\n",
    "    plt.ylabel(feature)\n",
    "    \n",
    "    plt.show()\n"
   ],
   "metadata": {
    "collapsed": false,
    "ExecuteTime": {
     "end_time": "2024-02-29T15:05:30.431925Z",
     "start_time": "2024-02-29T15:05:29.685591Z"
    }
   },
   "id": "238713d58c5bf62d",
   "execution_count": 9
  },
  {
   "cell_type": "code",
   "outputs": [
    {
     "data": {
      "text/plain": "['dataset_statistics_mapped_fatigue_level_low.csv',\n 'dataset_statistics_mapped_fatigue_level_medium.csv',\n 'dataset_statistics_mapped_fatigue_level_high.csv']"
     },
     "execution_count": 11,
     "metadata": {},
     "output_type": "execute_result"
    }
   ],
   "source": [
    "# Split the dataset based on fatigue level\n",
    "# Re-classifying the dataset based on the new fatigue level definitions\n",
    "# Mapping 0 to low fatigue, 1 to medium fatigue, and 2 to high fatigue\n",
    "mapped_fatigue_levels = {1: \"low\", 2: \"medium\", 3: \"high\"}\n",
    "data['Mapped_Fatigue_Level'] = data['fatigue_level'].map(mapped_fatigue_levels)\n",
    "\n",
    "# Paths for the new output files\n",
    "new_output_paths = []\n",
    "\n",
    "for level, level_name in mapped_fatigue_levels.items():\n",
    "    level_stats = data[data['fatigue_level'] == level].describe().transpose()[['min', 'max', 'mean', 'std']]\n",
    "    new_output_file_path = f'dataset_statistics_mapped_fatigue_level_{level_name}.csv'\n",
    "    level_stats.to_csv(new_output_file_path)\n",
    "    new_output_paths.append(new_output_file_path)\n",
    "\n",
    "new_output_paths\n"
   ],
   "metadata": {
    "collapsed": false,
    "ExecuteTime": {
     "end_time": "2024-02-29T15:06:12.860275Z",
     "start_time": "2024-02-29T15:06:12.797816Z"
    }
   },
   "id": "52f598a62dc328d0",
   "execution_count": 11
  },
  {
   "cell_type": "code",
   "outputs": [],
   "source": [],
   "metadata": {
    "collapsed": false
   },
   "id": "85645e039cd18db4"
  }
 ],
 "metadata": {
  "kernelspec": {
   "display_name": "Python 3",
   "language": "python",
   "name": "python3"
  },
  "language_info": {
   "codemirror_mode": {
    "name": "ipython",
    "version": 2
   },
   "file_extension": ".py",
   "mimetype": "text/x-python",
   "name": "python",
   "nbconvert_exporter": "python",
   "pygments_lexer": "ipython2",
   "version": "2.7.6"
  }
 },
 "nbformat": 4,
 "nbformat_minor": 5
}
