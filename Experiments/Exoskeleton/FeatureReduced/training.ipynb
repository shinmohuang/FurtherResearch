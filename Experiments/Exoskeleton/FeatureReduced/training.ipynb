{
 "cells": [
  {
   "cell_type": "code",
   "execution_count": 1,
   "id": "2ebdbe21c431b276",
   "metadata": {
    "collapsed": true,
    "ExecuteTime": {
     "end_time": "2024-02-14T15:47:41.377583332Z",
     "start_time": "2024-02-14T15:47:40.176418331Z"
    }
   },
   "outputs": [
    {
     "name": "stderr",
     "output_type": "stream",
     "text": [
      "2024-02-14 15:47:40.445054: I tensorflow/stream_executor/platform/default/dso_loader.cc:49] Successfully opened dynamic library libcudart.so.10.1\n"
     ]
    },
    {
     "name": "stdout",
     "output_type": "stream",
     "text": [
      "Physical devices: [PhysicalDevice(name='/physical_device:CPU:0', device_type='CPU'), PhysicalDevice(name='/physical_device:GPU:0', device_type='GPU')]\n",
      "GPU is available.\n"
     ]
    },
    {
     "name": "stderr",
     "output_type": "stream",
     "text": [
      "2024-02-14 15:47:41.335746: I tensorflow/compiler/jit/xla_cpu_device.cc:41] Not creating XLA devices, tf_xla_enable_xla_devices not set\n",
      "2024-02-14 15:47:41.336231: I tensorflow/stream_executor/platform/default/dso_loader.cc:49] Successfully opened dynamic library libcuda.so.1\n",
      "2024-02-14 15:47:41.367183: I tensorflow/stream_executor/cuda/cuda_gpu_executor.cc:941] successful NUMA node read from SysFS had negative value (-1), but there must be at least one NUMA node, so returning NUMA node zero\n",
      "2024-02-14 15:47:41.367300: I tensorflow/core/common_runtime/gpu/gpu_device.cc:1720] Found device 0 with properties: \n",
      "pciBusID: 0000:01:00.0 name: NVIDIA GeForce RTX 2060 SUPER computeCapability: 7.5\n",
      "coreClock: 1.65GHz coreCount: 34 deviceMemorySize: 7.78GiB deviceMemoryBandwidth: 417.29GiB/s\n",
      "2024-02-14 15:47:41.367315: I tensorflow/stream_executor/platform/default/dso_loader.cc:49] Successfully opened dynamic library libcudart.so.10.1\n",
      "2024-02-14 15:47:41.368415: I tensorflow/stream_executor/platform/default/dso_loader.cc:49] Successfully opened dynamic library libcublas.so.10\n",
      "2024-02-14 15:47:41.368448: I tensorflow/stream_executor/platform/default/dso_loader.cc:49] Successfully opened dynamic library libcublasLt.so.10\n",
      "2024-02-14 15:47:41.369422: I tensorflow/stream_executor/platform/default/dso_loader.cc:49] Successfully opened dynamic library libcufft.so.10\n",
      "2024-02-14 15:47:41.369598: I tensorflow/stream_executor/platform/default/dso_loader.cc:49] Successfully opened dynamic library libcurand.so.10\n",
      "2024-02-14 15:47:41.370611: I tensorflow/stream_executor/platform/default/dso_loader.cc:49] Successfully opened dynamic library libcusolver.so.10\n",
      "2024-02-14 15:47:41.371206: I tensorflow/stream_executor/platform/default/dso_loader.cc:49] Successfully opened dynamic library libcusparse.so.10\n",
      "2024-02-14 15:47:41.373438: I tensorflow/stream_executor/platform/default/dso_loader.cc:49] Successfully opened dynamic library libcudnn.so.7\n",
      "2024-02-14 15:47:41.373530: I tensorflow/stream_executor/cuda/cuda_gpu_executor.cc:941] successful NUMA node read from SysFS had negative value (-1), but there must be at least one NUMA node, so returning NUMA node zero\n",
      "2024-02-14 15:47:41.373664: I tensorflow/stream_executor/cuda/cuda_gpu_executor.cc:941] successful NUMA node read from SysFS had negative value (-1), but there must be at least one NUMA node, so returning NUMA node zero\n",
      "2024-02-14 15:47:41.373731: I tensorflow/core/common_runtime/gpu/gpu_device.cc:1862] Adding visible gpu devices: 0\n"
     ]
    }
   ],
   "source": [
    "import pandas as pd\n",
    "import tensorflow as tf\n",
    "from sklearn.model_selection import train_test_split\n",
    "from sklearn.preprocessing import StandardScaler\n",
    "from tensorflow.keras.models import Sequential\n",
    "from tensorflow.keras.layers import Dense\n",
    "from tensorflow.keras.utils import to_categorical\n",
    "from sklearn.utils import shuffle\n",
    "\n",
    "from tensorflow.keras.callbacks import EarlyStopping\n",
    "from tensorflow.keras.optimizers import Adam\n",
    "from tensorflow.keras.callbacks import ReduceLROnPlateau\n",
    "\n",
    "# List all physical devices\n",
    "physical_devices = tf.config.list_physical_devices()\n",
    "print(\"Physical devices:\", physical_devices)\n",
    "\n",
    "# Check for GPU specifically\n",
    "gpus = tf.config.list_physical_devices('GPU')\n",
    "if gpus:\n",
    "    print(\"GPU is available.\")\n",
    "else:\n",
    "    print(\"GPU is NOT available.\")"
   ]
  },
  {
   "cell_type": "code",
   "execution_count": 2,
   "outputs": [
    {
     "data": {
      "text/plain": "0       0\n1       0\n2       0\n3       0\n4       0\n       ..\n1234    1\n1235    1\n1236    1\n1237    2\n1238    2\nName: Fatigue_level, Length: 1239, dtype: int64"
     },
     "execution_count": 2,
     "metadata": {},
     "output_type": "execute_result"
    }
   ],
   "source": [
    "# Load your dataset\n",
    "dataset = pd.read_csv('../../../Dataset/Exoskeleton/Top_LDA_dataset.csv')\n",
    "dataset.iloc[:, -1] = dataset.iloc[:, -1]\n",
    "X = dataset.iloc[:, :-1]  # Features\n",
    "y = dataset.iloc[:, -1]   # Target\n",
    "y"
   ],
   "metadata": {
    "collapsed": false,
    "ExecuteTime": {
     "end_time": "2024-02-14T15:47:47.047355911Z",
     "start_time": "2024-02-14T15:47:46.956895736Z"
    }
   },
   "id": "d0786d20bcf5eef8"
  },
  {
   "cell_type": "code",
   "outputs": [
    {
     "data": {
      "text/plain": "array([[ 0.09851303,  0.80087399,  0.25942827, ..., -0.02482904,\n         0.33530813, -0.41903458],\n       [-0.23318669, -0.37741365, -0.0498718 , ..., -0.15478628,\n         0.46839543, -0.32696519],\n       [-0.21635255, -0.37271592,  0.15871719, ..., -0.19028066,\n         0.58844632, -0.26294256],\n       ...,\n       [-0.64729279, -0.87374607,  1.60636998, ...,  5.25482269,\n        -0.7110569 , -0.47864871],\n       [-0.64481383, -0.87371121, -0.07498144, ..., -0.13368694,\n        -0.71121852, -0.47332395],\n       [-0.64772914, -0.87374317,  0.54811178, ..., -0.18257235,\n        -0.70357352, -0.47382495]])"
     },
     "execution_count": 3,
     "metadata": {},
     "output_type": "execute_result"
    }
   ],
   "source": [
    "# Normalize the features\n",
    "scaler = StandardScaler()\n",
    "X_scaled = scaler.fit_transform(X)\n",
    "\n",
    "# Convert labels to categorical\n",
    "y_categorical = to_categorical(y)\n",
    "X_scaled"
   ],
   "metadata": {
    "collapsed": false,
    "ExecuteTime": {
     "end_time": "2024-02-14T15:47:56.385028785Z",
     "start_time": "2024-02-14T15:47:56.378950050Z"
    }
   },
   "id": "e2c47182b59e5b58",
   "execution_count": 3
  },
  {
   "cell_type": "code",
   "outputs": [
    {
     "name": "stderr",
     "output_type": "stream",
     "text": [
      "2024-02-14 15:48:01.279212: I tensorflow/core/platform/cpu_feature_guard.cc:142] This TensorFlow binary is optimized with oneAPI Deep Neural Network Library (oneDNN) to use the following CPU instructions in performance-critical operations:  SSE4.1 SSE4.2 AVX AVX2 FMA\n",
      "To enable them in other operations, rebuild TensorFlow with the appropriate compiler flags.\n",
      "2024-02-14 15:48:01.279839: I tensorflow/compiler/jit/xla_gpu_device.cc:99] Not creating XLA devices, tf_xla_enable_xla_devices not set\n",
      "2024-02-14 15:48:01.279982: I tensorflow/stream_executor/cuda/cuda_gpu_executor.cc:941] successful NUMA node read from SysFS had negative value (-1), but there must be at least one NUMA node, so returning NUMA node zero\n",
      "2024-02-14 15:48:01.280091: I tensorflow/core/common_runtime/gpu/gpu_device.cc:1720] Found device 0 with properties: \n",
      "pciBusID: 0000:01:00.0 name: NVIDIA GeForce RTX 2060 SUPER computeCapability: 7.5\n",
      "coreClock: 1.65GHz coreCount: 34 deviceMemorySize: 7.78GiB deviceMemoryBandwidth: 417.29GiB/s\n",
      "2024-02-14 15:48:01.280116: I tensorflow/stream_executor/platform/default/dso_loader.cc:49] Successfully opened dynamic library libcudart.so.10.1\n",
      "2024-02-14 15:48:01.280139: I tensorflow/stream_executor/platform/default/dso_loader.cc:49] Successfully opened dynamic library libcublas.so.10\n",
      "2024-02-14 15:48:01.280152: I tensorflow/stream_executor/platform/default/dso_loader.cc:49] Successfully opened dynamic library libcublasLt.so.10\n",
      "2024-02-14 15:48:01.280164: I tensorflow/stream_executor/platform/default/dso_loader.cc:49] Successfully opened dynamic library libcufft.so.10\n",
      "2024-02-14 15:48:01.280175: I tensorflow/stream_executor/platform/default/dso_loader.cc:49] Successfully opened dynamic library libcurand.so.10\n",
      "2024-02-14 15:48:01.280187: I tensorflow/stream_executor/platform/default/dso_loader.cc:49] Successfully opened dynamic library libcusolver.so.10\n",
      "2024-02-14 15:48:01.280199: I tensorflow/stream_executor/platform/default/dso_loader.cc:49] Successfully opened dynamic library libcusparse.so.10\n",
      "2024-02-14 15:48:01.280210: I tensorflow/stream_executor/platform/default/dso_loader.cc:49] Successfully opened dynamic library libcudnn.so.7\n",
      "2024-02-14 15:48:01.280270: I tensorflow/stream_executor/cuda/cuda_gpu_executor.cc:941] successful NUMA node read from SysFS had negative value (-1), but there must be at least one NUMA node, so returning NUMA node zero\n",
      "2024-02-14 15:48:01.280378: I tensorflow/stream_executor/cuda/cuda_gpu_executor.cc:941] successful NUMA node read from SysFS had negative value (-1), but there must be at least one NUMA node, so returning NUMA node zero\n",
      "2024-02-14 15:48:01.280445: I tensorflow/core/common_runtime/gpu/gpu_device.cc:1862] Adding visible gpu devices: 0\n",
      "2024-02-14 15:48:01.280465: I tensorflow/stream_executor/platform/default/dso_loader.cc:49] Successfully opened dynamic library libcudart.so.10.1\n",
      "2024-02-14 15:48:01.640984: I tensorflow/core/common_runtime/gpu/gpu_device.cc:1261] Device interconnect StreamExecutor with strength 1 edge matrix:\n",
      "2024-02-14 15:48:01.641002: I tensorflow/core/common_runtime/gpu/gpu_device.cc:1267]      0 \n",
      "2024-02-14 15:48:01.641006: I tensorflow/core/common_runtime/gpu/gpu_device.cc:1280] 0:   N \n",
      "2024-02-14 15:48:01.641162: I tensorflow/stream_executor/cuda/cuda_gpu_executor.cc:941] successful NUMA node read from SysFS had negative value (-1), but there must be at least one NUMA node, so returning NUMA node zero\n",
      "2024-02-14 15:48:01.641304: I tensorflow/stream_executor/cuda/cuda_gpu_executor.cc:941] successful NUMA node read from SysFS had negative value (-1), but there must be at least one NUMA node, so returning NUMA node zero\n",
      "2024-02-14 15:48:01.641408: I tensorflow/stream_executor/cuda/cuda_gpu_executor.cc:941] successful NUMA node read from SysFS had negative value (-1), but there must be at least one NUMA node, so returning NUMA node zero\n",
      "2024-02-14 15:48:01.641488: I tensorflow/core/common_runtime/gpu/gpu_device.cc:1406] Created TensorFlow device (/job:localhost/replica:0/task:0/device:GPU:0 with 151 MB memory) -> physical GPU (device: 0, name: NVIDIA GeForce RTX 2060 SUPER, pci bus id: 0000:01:00.0, compute capability: 7.5)\n",
      "2024-02-14 15:48:01.643001: I tensorflow/stream_executor/cuda/cuda_driver.cc:789] failed to allocate 151.00M (158334976 bytes) from device: CUDA_ERROR_OUT_OF_MEMORY: out of memory\n",
      "2024-02-14 15:48:01.643077: I tensorflow/stream_executor/cuda/cuda_driver.cc:789] failed to allocate 135.90M (142501632 bytes) from device: CUDA_ERROR_OUT_OF_MEMORY: out of memory\n",
      "2024-02-14 15:48:01.643138: I tensorflow/stream_executor/cuda/cuda_driver.cc:789] failed to allocate 122.31M (128251648 bytes) from device: CUDA_ERROR_OUT_OF_MEMORY: out of memory\n",
      "2024-02-14 15:48:01.643200: I tensorflow/stream_executor/cuda/cuda_driver.cc:789] failed to allocate 110.08M (115426560 bytes) from device: CUDA_ERROR_OUT_OF_MEMORY: out of memory\n"
     ]
    }
   ],
   "source": [
    "\n",
    "# Shuffle the data\n",
    "X_scaled, y_categorical = shuffle(X_scaled, y_categorical, random_state=42)\n",
    "\n",
    "# Split the data\n",
    "X_train, X_test, y_train, y_test = train_test_split(\n",
    "    X_scaled, y_categorical, test_size=0.2, random_state=42)\n",
    "\n",
    "# Number of unique classes in the target variable\n",
    "num_classes = y_train.shape[1]\n",
    "\n",
    "\n",
    "# Building the DNN model\n",
    "model = Sequential([\n",
    "    Dense(32, activation='relu', input_shape=(X_train.shape[1],), name='dense_0'),\n",
    "    Dense(16, activation='relu', name='dense_1'),\n",
    "    Dense(3, activation='relu', name='dense_2'),\n",
    "    # Dense(3, activation='relu', name='dense_3'),\n",
    "    Dense(num_classes, activation='softmax')  # Output layer\n",
    "])"
   ],
   "metadata": {
    "collapsed": false,
    "ExecuteTime": {
     "end_time": "2024-02-14T15:48:01.662800727Z",
     "start_time": "2024-02-14T15:48:01.273942992Z"
    }
   },
   "id": "1e58074cece23a2d",
   "execution_count": 4
  },
  {
   "cell_type": "code",
   "execution_count": 5,
   "outputs": [],
   "source": [
    "# Define the early stopping callback\n",
    "early_stopping = EarlyStopping(\n",
    "    monitor='val_loss',\n",
    "    min_delta=0.001,  # minimium amount of change to count as an improvement\n",
    "    patience=100,  # how many epochs to wait before stopping\n",
    "    verbose=1,\n",
    "    mode='min',\n",
    "    restore_best_weights=True\n",
    ")\n",
    "\n",
    "# Set the learning rate\n",
    "learning_rate = 0.01\n",
    "\n",
    "# Create the ReduceLROnPlateau callback\n",
    "reduce_lr = ReduceLROnPlateau(\n",
    "    monitor='val_loss',\n",
    "    factor=0.9,  # factor by which the learning rate will be reduced\n",
    "    patience=10,  # number of epochs with no improvement after which learning rate will be reduced\n",
    "    min_lr=0.00001,  # lower bound on the learning rate\n",
    "    verbose=1\n",
    ")\n",
    "lr_callback = tf.keras.callbacks.LearningRateScheduler(reduce_lr)\n",
    "\n",
    "class PrintLR(tf.keras.callbacks.Callback):\n",
    "    def __init__(self):\n",
    "        super().__init__()\n",
    "        self.learning_rates = []\n",
    "        \n",
    "    def on_epoch_begin(self, epoch, logs=None):\n",
    "        lr = self.model.optimizer.lr\n",
    "        if hasattr(lr, 'numpy'):\n",
    "            lr = lr.numpy()\n",
    "        elif hasattr(lr, 'eval'):\n",
    "            lr = lr.eval(session=tf.compat.v1.Session())\n",
    "        print(f'Epoch {epoch+1}: Learning rate is {lr}.')\n",
    "    \n",
    "    def on_epoch_end(self, epoch, logs=None):\n",
    "        # Retrieve the current learning rate from the optimizer\n",
    "        current_lr = tf.keras.backend.get_value(self.model.optimizer.lr)\n",
    "        # Append the current learning rate to the list\n",
    "        self.learning_rates.append(current_lr)\n",
    "\n",
    "lr_tracker = PrintLR()\n",
    "callbacks = [lr_tracker, early_stopping, reduce_lr]\n",
    "\n",
    "\n",
    "# Initialize the optimizer with the learning rate\n",
    "optimizer = Adam(learning_rate=learning_rate)\n",
    "\n",
    "# Compiling the model\n",
    "model.compile(optimizer=optimizer,\n",
    "              loss='categorical_crossentropy',\n",
    "              metrics=['accuracy'])"
   ],
   "metadata": {
    "collapsed": false,
    "ExecuteTime": {
     "end_time": "2024-02-14T15:56:14.296184395Z",
     "start_time": "2024-02-14T15:56:14.250204030Z"
    }
   },
   "id": "111da32ccd0d31d1"
  },
  {
   "cell_type": "code",
   "execution_count": 6,
   "outputs": [
    {
     "name": "stderr",
     "output_type": "stream",
     "text": [
      "2024-02-14 15:56:15.516820: I tensorflow/compiler/mlir/mlir_graph_optimization_pass.cc:116] None of the MLIR optimization passes are enabled (registered 2)\n",
      "2024-02-14 15:56:15.517100: I tensorflow/core/platform/profile_utils/cpu_utils.cc:112] CPU Frequency: 2899885000 Hz\n"
     ]
    },
    {
     "name": "stdout",
     "output_type": "stream",
     "text": [
      "Epoch 1/1000\n",
      "Epoch 1: Learning rate is 0.009999999776482582.\n"
     ]
    },
    {
     "name": "stderr",
     "output_type": "stream",
     "text": [
      "2024-02-14 15:56:15.796247: I tensorflow/stream_executor/platform/default/dso_loader.cc:49] Successfully opened dynamic library libcublas.so.10\n"
     ]
    },
    {
     "name": "stdout",
     "output_type": "stream",
     "text": [
      "50/50 [==============================] - 1s 16ms/step - loss: 0.7192 - accuracy: 0.6395 - val_loss: 0.4883 - val_accuracy: 0.7688\n",
      "Epoch 2/1000\n",
      "Epoch 2: Learning rate is 0.009999999776482582.\n",
      "50/50 [==============================] - 0s 2ms/step - loss: 0.4561 - accuracy: 0.7401 - val_loss: 0.4592 - val_accuracy: 0.7588\n",
      "Epoch 3/1000\n",
      "Epoch 3: Learning rate is 0.009999999776482582.\n",
      "50/50 [==============================] - 0s 2ms/step - loss: 0.4819 - accuracy: 0.7388 - val_loss: 0.4693 - val_accuracy: 0.7638\n",
      "Epoch 4/1000\n",
      "Epoch 4: Learning rate is 0.009999999776482582.\n",
      "50/50 [==============================] - 0s 2ms/step - loss: 0.4302 - accuracy: 0.7544 - val_loss: 0.4540 - val_accuracy: 0.7588\n",
      "Epoch 5/1000\n",
      "Epoch 5: Learning rate is 0.009999999776482582.\n",
      "50/50 [==============================] - 0s 2ms/step - loss: 0.4198 - accuracy: 0.7581 - val_loss: 0.4663 - val_accuracy: 0.7437\n",
      "Epoch 6/1000\n",
      "Epoch 6: Learning rate is 0.009999999776482582.\n",
      "50/50 [==============================] - 0s 2ms/step - loss: 0.3970 - accuracy: 0.7987 - val_loss: 0.4848 - val_accuracy: 0.7688\n",
      "Epoch 7/1000\n",
      "Epoch 7: Learning rate is 0.009999999776482582.\n",
      "50/50 [==============================] - 0s 2ms/step - loss: 0.4120 - accuracy: 0.7912 - val_loss: 0.4402 - val_accuracy: 0.7638\n",
      "Epoch 8/1000\n",
      "Epoch 8: Learning rate is 0.009999999776482582.\n",
      "50/50 [==============================] - 0s 2ms/step - loss: 0.3737 - accuracy: 0.7885 - val_loss: 0.4370 - val_accuracy: 0.7688\n",
      "Epoch 9/1000\n",
      "Epoch 9: Learning rate is 0.009999999776482582.\n",
      "50/50 [==============================] - 0s 1ms/step - loss: 0.3737 - accuracy: 0.7931 - val_loss: 0.4399 - val_accuracy: 0.7487\n",
      "Epoch 10/1000\n",
      "Epoch 10: Learning rate is 0.009999999776482582.\n",
      "50/50 [==============================] - 0s 2ms/step - loss: 0.3762 - accuracy: 0.8004 - val_loss: 0.4292 - val_accuracy: 0.7688\n",
      "Epoch 11/1000\n",
      "Epoch 11: Learning rate is 0.009999999776482582.\n",
      "50/50 [==============================] - 0s 1ms/step - loss: 0.3385 - accuracy: 0.8166 - val_loss: 0.4321 - val_accuracy: 0.8040\n",
      "Epoch 12/1000\n",
      "Epoch 12: Learning rate is 0.009999999776482582.\n",
      "50/50 [==============================] - 0s 1ms/step - loss: 0.3644 - accuracy: 0.8111 - val_loss: 0.4084 - val_accuracy: 0.7839\n",
      "Epoch 13/1000\n",
      "Epoch 13: Learning rate is 0.009999999776482582.\n",
      "50/50 [==============================] - 0s 1ms/step - loss: 0.3528 - accuracy: 0.8267 - val_loss: 0.4318 - val_accuracy: 0.7638\n",
      "Epoch 14/1000\n",
      "Epoch 14: Learning rate is 0.009999999776482582.\n",
      "50/50 [==============================] - 0s 1ms/step - loss: 0.3351 - accuracy: 0.8450 - val_loss: 0.4277 - val_accuracy: 0.7739\n",
      "Epoch 15/1000\n",
      "Epoch 15: Learning rate is 0.009999999776482582.\n",
      "50/50 [==============================] - 0s 1ms/step - loss: 0.3370 - accuracy: 0.8289 - val_loss: 0.4636 - val_accuracy: 0.7839\n",
      "Epoch 16/1000\n",
      "Epoch 16: Learning rate is 0.009999999776482582.\n",
      "50/50 [==============================] - 0s 2ms/step - loss: 0.3136 - accuracy: 0.8600 - val_loss: 0.4296 - val_accuracy: 0.7839\n",
      "Epoch 17/1000\n",
      "Epoch 17: Learning rate is 0.009999999776482582.\n",
      "50/50 [==============================] - 0s 2ms/step - loss: 0.3496 - accuracy: 0.8026 - val_loss: 0.4136 - val_accuracy: 0.8090\n",
      "Epoch 18/1000\n",
      "Epoch 18: Learning rate is 0.009999999776482582.\n",
      "50/50 [==============================] - 0s 1ms/step - loss: 0.3439 - accuracy: 0.8445 - val_loss: 0.4652 - val_accuracy: 0.7789\n",
      "Epoch 19/1000\n",
      "Epoch 19: Learning rate is 0.009999999776482582.\n",
      "50/50 [==============================] - 0s 2ms/step - loss: 0.3559 - accuracy: 0.8264 - val_loss: 0.4677 - val_accuracy: 0.7990\n",
      "Epoch 20/1000\n",
      "Epoch 20: Learning rate is 0.009999999776482582.\n",
      "50/50 [==============================] - 0s 2ms/step - loss: 0.3312 - accuracy: 0.8094 - val_loss: 0.4383 - val_accuracy: 0.7940\n",
      "Epoch 21/1000\n",
      "Epoch 21: Learning rate is 0.009999999776482582.\n",
      "50/50 [==============================] - 0s 1ms/step - loss: 0.3485 - accuracy: 0.8276 - val_loss: 0.3935 - val_accuracy: 0.7588\n",
      "Epoch 22/1000\n",
      "Epoch 22: Learning rate is 0.009999999776482582.\n",
      "50/50 [==============================] - 0s 1ms/step - loss: 0.3380 - accuracy: 0.8206 - val_loss: 0.3672 - val_accuracy: 0.8040\n",
      "Epoch 23/1000\n",
      "Epoch 23: Learning rate is 0.009999999776482582.\n",
      "50/50 [==============================] - 0s 1ms/step - loss: 0.3209 - accuracy: 0.8240 - val_loss: 0.4257 - val_accuracy: 0.8191\n",
      "Epoch 24/1000\n",
      "Epoch 24: Learning rate is 0.009999999776482582.\n",
      "50/50 [==============================] - 0s 2ms/step - loss: 0.3457 - accuracy: 0.8332 - val_loss: 0.3823 - val_accuracy: 0.8040\n",
      "Epoch 25/1000\n",
      "Epoch 25: Learning rate is 0.009999999776482582.\n",
      "50/50 [==============================] - 0s 1ms/step - loss: 0.3216 - accuracy: 0.8429 - val_loss: 0.4565 - val_accuracy: 0.7940\n",
      "Epoch 26/1000\n",
      "Epoch 26: Learning rate is 0.009999999776482582.\n",
      "50/50 [==============================] - 0s 2ms/step - loss: 0.3047 - accuracy: 0.8538 - val_loss: 0.4261 - val_accuracy: 0.8241\n",
      "Epoch 27/1000\n",
      "Epoch 27: Learning rate is 0.009999999776482582.\n",
      "50/50 [==============================] - 0s 1ms/step - loss: 0.3123 - accuracy: 0.8378 - val_loss: 0.4329 - val_accuracy: 0.8040\n",
      "Epoch 28/1000\n",
      "Epoch 28: Learning rate is 0.009999999776482582.\n",
      "50/50 [==============================] - 0s 2ms/step - loss: 0.2962 - accuracy: 0.8501 - val_loss: 0.4310 - val_accuracy: 0.8090\n",
      "Epoch 29/1000\n",
      "Epoch 29: Learning rate is 0.009999999776482582.\n",
      "50/50 [==============================] - 0s 1ms/step - loss: 0.2924 - accuracy: 0.8542 - val_loss: 0.3925 - val_accuracy: 0.8442\n",
      "Epoch 30/1000\n",
      "Epoch 30: Learning rate is 0.009999999776482582.\n",
      "50/50 [==============================] - 0s 1ms/step - loss: 0.2977 - accuracy: 0.8606 - val_loss: 0.4024 - val_accuracy: 0.8191\n",
      "Epoch 31/1000\n",
      "Epoch 31: Learning rate is 0.009999999776482582.\n",
      "50/50 [==============================] - 0s 1ms/step - loss: 0.3087 - accuracy: 0.8434 - val_loss: 0.4350 - val_accuracy: 0.7990\n",
      "Epoch 32/1000\n",
      "Epoch 32: Learning rate is 0.009999999776482582.\n",
      "50/50 [==============================] - 0s 1ms/step - loss: 0.3087 - accuracy: 0.8583 - val_loss: 0.4396 - val_accuracy: 0.8141\n",
      "\n",
      "Epoch 00032: ReduceLROnPlateau reducing learning rate to 0.008999999798834325.\n",
      "Epoch 33/1000\n",
      "Epoch 33: Learning rate is 0.008999999612569809.\n",
      "50/50 [==============================] - 0s 2ms/step - loss: 0.3224 - accuracy: 0.8337 - val_loss: 0.3739 - val_accuracy: 0.8342\n",
      "Epoch 34/1000\n",
      "Epoch 34: Learning rate is 0.008999999612569809.\n",
      "50/50 [==============================] - 0s 2ms/step - loss: 0.2683 - accuracy: 0.8761 - val_loss: 0.4032 - val_accuracy: 0.8241\n",
      "Epoch 35/1000\n",
      "Epoch 35: Learning rate is 0.008999999612569809.\n",
      "50/50 [==============================] - 0s 2ms/step - loss: 0.2775 - accuracy: 0.8679 - val_loss: 0.4289 - val_accuracy: 0.8342\n",
      "Epoch 36/1000\n",
      "Epoch 36: Learning rate is 0.008999999612569809.\n",
      "50/50 [==============================] - 0s 1ms/step - loss: 0.2588 - accuracy: 0.8699 - val_loss: 0.3848 - val_accuracy: 0.8392\n",
      "Epoch 37/1000\n",
      "Epoch 37: Learning rate is 0.008999999612569809.\n",
      "50/50 [==============================] - 0s 2ms/step - loss: 0.2457 - accuracy: 0.8836 - val_loss: 0.4075 - val_accuracy: 0.8442\n",
      "Epoch 38/1000\n",
      "Epoch 38: Learning rate is 0.008999999612569809.\n",
      "50/50 [==============================] - 0s 2ms/step - loss: 0.2810 - accuracy: 0.8783 - val_loss: 0.4174 - val_accuracy: 0.8492\n",
      "Epoch 39/1000\n",
      "Epoch 39: Learning rate is 0.008999999612569809.\n",
      "50/50 [==============================] - 0s 2ms/step - loss: 0.2667 - accuracy: 0.8853 - val_loss: 0.4141 - val_accuracy: 0.8241\n",
      "Epoch 40/1000\n",
      "Epoch 40: Learning rate is 0.008999999612569809.\n",
      "50/50 [==============================] - 0s 2ms/step - loss: 0.3090 - accuracy: 0.8373 - val_loss: 0.4335 - val_accuracy: 0.8191\n",
      "Epoch 41/1000\n",
      "Epoch 41: Learning rate is 0.008999999612569809.\n",
      "50/50 [==============================] - 0s 2ms/step - loss: 0.2513 - accuracy: 0.8931 - val_loss: 0.4002 - val_accuracy: 0.8643\n",
      "Epoch 42/1000\n",
      "Epoch 42: Learning rate is 0.008999999612569809.\n",
      "50/50 [==============================] - 0s 2ms/step - loss: 0.2310 - accuracy: 0.9098 - val_loss: 0.3952 - val_accuracy: 0.8643\n",
      "\n",
      "Epoch 00042: ReduceLROnPlateau reducing learning rate to 0.008099999651312828.\n",
      "Epoch 43/1000\n",
      "Epoch 43: Learning rate is 0.008099999278783798.\n",
      "50/50 [==============================] - 0s 1ms/step - loss: 0.2549 - accuracy: 0.8753 - val_loss: 0.3929 - val_accuracy: 0.8342\n",
      "Epoch 44/1000\n",
      "Epoch 44: Learning rate is 0.008099999278783798.\n",
      "50/50 [==============================] - 0s 2ms/step - loss: 0.2459 - accuracy: 0.8940 - val_loss: 0.4706 - val_accuracy: 0.7990\n",
      "Epoch 45/1000\n",
      "Epoch 45: Learning rate is 0.008099999278783798.\n",
      "50/50 [==============================] - 0s 2ms/step - loss: 0.2542 - accuracy: 0.8730 - val_loss: 0.3835 - val_accuracy: 0.8744\n",
      "Epoch 46/1000\n",
      "Epoch 46: Learning rate is 0.008099999278783798.\n",
      "50/50 [==============================] - 0s 2ms/step - loss: 0.2130 - accuracy: 0.9203 - val_loss: 0.3813 - val_accuracy: 0.8643\n",
      "Epoch 47/1000\n",
      "Epoch 47: Learning rate is 0.008099999278783798.\n",
      "50/50 [==============================] - 0s 2ms/step - loss: 0.2326 - accuracy: 0.9054 - val_loss: 0.4837 - val_accuracy: 0.8442\n",
      "Epoch 48/1000\n",
      "Epoch 48: Learning rate is 0.008099999278783798.\n",
      "50/50 [==============================] - 0s 2ms/step - loss: 0.2350 - accuracy: 0.8886 - val_loss: 0.4740 - val_accuracy: 0.8291\n",
      "Epoch 49/1000\n",
      "Epoch 49: Learning rate is 0.008099999278783798.\n",
      "50/50 [==============================] - 0s 2ms/step - loss: 0.2287 - accuracy: 0.8964 - val_loss: 0.4337 - val_accuracy: 0.8643\n",
      "Epoch 50/1000\n",
      "Epoch 50: Learning rate is 0.008099999278783798.\n",
      "50/50 [==============================] - 0s 2ms/step - loss: 0.2100 - accuracy: 0.9054 - val_loss: 0.5008 - val_accuracy: 0.8291\n",
      "Epoch 51/1000\n",
      "Epoch 51: Learning rate is 0.008099999278783798.\n",
      "50/50 [==============================] - 0s 2ms/step - loss: 0.2555 - accuracy: 0.8774 - val_loss: 0.4524 - val_accuracy: 0.8090\n",
      "Epoch 52/1000\n",
      "Epoch 52: Learning rate is 0.008099999278783798.\n",
      "50/50 [==============================] - 0s 1ms/step - loss: 0.2365 - accuracy: 0.8909 - val_loss: 0.4781 - val_accuracy: 0.8442\n",
      "\n",
      "Epoch 00052: ReduceLROnPlateau reducing learning rate to 0.007289999350905419.\n",
      "Epoch 53/1000\n",
      "Epoch 53: Learning rate is 0.0072899991646409035.\n",
      "50/50 [==============================] - 0s 1ms/step - loss: 0.2178 - accuracy: 0.9158 - val_loss: 0.4787 - val_accuracy: 0.8442\n",
      "Epoch 54/1000\n",
      "Epoch 54: Learning rate is 0.0072899991646409035.\n",
      "50/50 [==============================] - 0s 2ms/step - loss: 0.2345 - accuracy: 0.9062 - val_loss: 0.4692 - val_accuracy: 0.8492\n",
      "Epoch 55/1000\n",
      "Epoch 55: Learning rate is 0.0072899991646409035.\n",
      "50/50 [==============================] - 0s 1ms/step - loss: 0.2152 - accuracy: 0.9073 - val_loss: 0.4831 - val_accuracy: 0.8492\n",
      "Epoch 56/1000\n",
      "Epoch 56: Learning rate is 0.0072899991646409035.\n",
      "50/50 [==============================] - 0s 1ms/step - loss: 0.2110 - accuracy: 0.9108 - val_loss: 0.4618 - val_accuracy: 0.8543\n",
      "Epoch 57/1000\n",
      "Epoch 57: Learning rate is 0.0072899991646409035.\n",
      "50/50 [==============================] - 0s 1ms/step - loss: 0.1954 - accuracy: 0.9228 - val_loss: 0.4810 - val_accuracy: 0.8693\n",
      "Epoch 58/1000\n",
      "Epoch 58: Learning rate is 0.0072899991646409035.\n",
      "50/50 [==============================] - 0s 1ms/step - loss: 0.2309 - accuracy: 0.9004 - val_loss: 0.5200 - val_accuracy: 0.8442\n",
      "Epoch 59/1000\n",
      "Epoch 59: Learning rate is 0.0072899991646409035.\n",
      "50/50 [==============================] - 0s 1ms/step - loss: 0.2208 - accuracy: 0.8883 - val_loss: 0.4754 - val_accuracy: 0.8492\n",
      "Epoch 60/1000\n",
      "Epoch 60: Learning rate is 0.0072899991646409035.\n",
      "50/50 [==============================] - 0s 2ms/step - loss: 0.1951 - accuracy: 0.9163 - val_loss: 0.4702 - val_accuracy: 0.8342\n",
      "Epoch 61/1000\n",
      "Epoch 61: Learning rate is 0.0072899991646409035.\n",
      "50/50 [==============================] - 0s 2ms/step - loss: 0.2250 - accuracy: 0.9005 - val_loss: 0.4891 - val_accuracy: 0.8392\n",
      "Epoch 62/1000\n",
      "Epoch 62: Learning rate is 0.0072899991646409035.\n",
      "50/50 [==============================] - 0s 2ms/step - loss: 0.2069 - accuracy: 0.9047 - val_loss: 0.5122 - val_accuracy: 0.8492\n",
      "\n",
      "Epoch 00062: ReduceLROnPlateau reducing learning rate to 0.006560999248176813.\n",
      "Epoch 63/1000\n",
      "Epoch 63: Learning rate is 0.006560999434441328.\n",
      "50/50 [==============================] - 0s 2ms/step - loss: 0.1936 - accuracy: 0.9153 - val_loss: 0.5422 - val_accuracy: 0.8543\n",
      "Epoch 64/1000\n",
      "Epoch 64: Learning rate is 0.006560999434441328.\n",
      "50/50 [==============================] - 0s 2ms/step - loss: 0.1928 - accuracy: 0.9232 - val_loss: 0.5421 - val_accuracy: 0.8593\n",
      "Epoch 65/1000\n",
      "Epoch 65: Learning rate is 0.006560999434441328.\n",
      "50/50 [==============================] - 0s 2ms/step - loss: 0.1574 - accuracy: 0.9343 - val_loss: 0.5257 - val_accuracy: 0.8442\n",
      "Epoch 66/1000\n",
      "Epoch 66: Learning rate is 0.006560999434441328.\n",
      "50/50 [==============================] - 0s 2ms/step - loss: 0.1749 - accuracy: 0.9109 - val_loss: 0.5897 - val_accuracy: 0.8241\n",
      "Epoch 67/1000\n",
      "Epoch 67: Learning rate is 0.006560999434441328.\n",
      "50/50 [==============================] - 0s 1ms/step - loss: 0.2126 - accuracy: 0.9081 - val_loss: 0.5628 - val_accuracy: 0.8593\n",
      "Epoch 68/1000\n",
      "Epoch 68: Learning rate is 0.006560999434441328.\n",
      "50/50 [==============================] - 0s 1ms/step - loss: 0.1634 - accuracy: 0.9298 - val_loss: 0.5467 - val_accuracy: 0.8442\n",
      "Epoch 69/1000\n",
      "Epoch 69: Learning rate is 0.006560999434441328.\n",
      "50/50 [==============================] - 0s 2ms/step - loss: 0.2269 - accuracy: 0.8913 - val_loss: 0.4801 - val_accuracy: 0.8593\n",
      "Epoch 70/1000\n",
      "Epoch 70: Learning rate is 0.006560999434441328.\n",
      "50/50 [==============================] - 0s 1ms/step - loss: 0.1820 - accuracy: 0.9167 - val_loss: 0.5238 - val_accuracy: 0.8442\n",
      "Epoch 71/1000\n",
      "Epoch 71: Learning rate is 0.006560999434441328.\n",
      "50/50 [==============================] - 0s 1ms/step - loss: 0.1914 - accuracy: 0.9226 - val_loss: 0.5064 - val_accuracy: 0.8291\n",
      "Epoch 72/1000\n",
      "Epoch 72: Learning rate is 0.006560999434441328.\n",
      "50/50 [==============================] - 0s 2ms/step - loss: 0.2118 - accuracy: 0.8946 - val_loss: 0.4874 - val_accuracy: 0.8593\n",
      "\n",
      "Epoch 00072: ReduceLROnPlateau reducing learning rate to 0.005904899490997195.\n",
      "Epoch 73/1000\n",
      "Epoch 73: Learning rate is 0.0059048994444310665.\n",
      "50/50 [==============================] - 0s 2ms/step - loss: 0.1769 - accuracy: 0.9198 - val_loss: 0.5047 - val_accuracy: 0.8492\n",
      "Epoch 74/1000\n",
      "Epoch 74: Learning rate is 0.0059048994444310665.\n",
      "50/50 [==============================] - 0s 2ms/step - loss: 0.1723 - accuracy: 0.9252 - val_loss: 0.4939 - val_accuracy: 0.8342\n",
      "Epoch 75/1000\n",
      "Epoch 75: Learning rate is 0.0059048994444310665.\n",
      "50/50 [==============================] - 0s 1ms/step - loss: 0.1592 - accuracy: 0.9323 - val_loss: 0.5099 - val_accuracy: 0.8543\n",
      "Epoch 76/1000\n",
      "Epoch 76: Learning rate is 0.0059048994444310665.\n",
      "50/50 [==============================] - 0s 1ms/step - loss: 0.1463 - accuracy: 0.9412 - val_loss: 0.5150 - val_accuracy: 0.8643\n",
      "Epoch 77/1000\n",
      "Epoch 77: Learning rate is 0.0059048994444310665.\n",
      "50/50 [==============================] - 0s 2ms/step - loss: 0.2108 - accuracy: 0.9262 - val_loss: 0.5167 - val_accuracy: 0.8593\n",
      "Epoch 78/1000\n",
      "Epoch 78: Learning rate is 0.0059048994444310665.\n",
      "50/50 [==============================] - 0s 2ms/step - loss: 0.1551 - accuracy: 0.9334 - val_loss: 0.5825 - val_accuracy: 0.8241\n",
      "Epoch 79/1000\n",
      "Epoch 79: Learning rate is 0.0059048994444310665.\n",
      "50/50 [==============================] - 0s 1ms/step - loss: 0.1720 - accuracy: 0.9217 - val_loss: 0.5833 - val_accuracy: 0.8442\n",
      "Epoch 80/1000\n",
      "Epoch 80: Learning rate is 0.0059048994444310665.\n",
      "50/50 [==============================] - 0s 1ms/step - loss: 0.1498 - accuracy: 0.9286 - val_loss: 0.6025 - val_accuracy: 0.8543\n",
      "Epoch 81/1000\n",
      "Epoch 81: Learning rate is 0.0059048994444310665.\n",
      "50/50 [==============================] - 0s 1ms/step - loss: 0.1461 - accuracy: 0.9326 - val_loss: 0.5579 - val_accuracy: 0.8593\n",
      "Epoch 82/1000\n",
      "Epoch 82: Learning rate is 0.0059048994444310665.\n",
      "50/50 [==============================] - 0s 1ms/step - loss: 0.1927 - accuracy: 0.9270 - val_loss: 0.5385 - val_accuracy: 0.8543\n",
      "\n",
      "Epoch 00082: ReduceLROnPlateau reducing learning rate to 0.00531440949998796.\n",
      "Epoch 83/1000\n",
      "Epoch 83: Learning rate is 0.0053144097328186035.\n",
      "50/50 [==============================] - 0s 1ms/step - loss: 0.1673 - accuracy: 0.9314 - val_loss: 0.5753 - val_accuracy: 0.8442\n",
      "Epoch 84/1000\n",
      "Epoch 84: Learning rate is 0.0053144097328186035.\n",
      "50/50 [==============================] - 0s 2ms/step - loss: 0.1373 - accuracy: 0.9436 - val_loss: 0.5701 - val_accuracy: 0.8442\n",
      "Epoch 85/1000\n",
      "Epoch 85: Learning rate is 0.0053144097328186035.\n",
      "50/50 [==============================] - 0s 2ms/step - loss: 0.1544 - accuracy: 0.9318 - val_loss: 0.5555 - val_accuracy: 0.8543\n",
      "Epoch 86/1000\n",
      "Epoch 86: Learning rate is 0.0053144097328186035.\n",
      "50/50 [==============================] - 0s 2ms/step - loss: 0.1681 - accuracy: 0.9194 - val_loss: 0.5522 - val_accuracy: 0.8492\n",
      "Epoch 87/1000\n",
      "Epoch 87: Learning rate is 0.0053144097328186035.\n",
      "50/50 [==============================] - 0s 2ms/step - loss: 0.1884 - accuracy: 0.9153 - val_loss: 0.5746 - val_accuracy: 0.8342\n",
      "Epoch 88/1000\n",
      "Epoch 88: Learning rate is 0.0053144097328186035.\n",
      "50/50 [==============================] - 0s 2ms/step - loss: 0.1831 - accuracy: 0.9208 - val_loss: 0.6141 - val_accuracy: 0.8543\n",
      "Epoch 89/1000\n",
      "Epoch 89: Learning rate is 0.0053144097328186035.\n",
      "50/50 [==============================] - 0s 1ms/step - loss: 0.1808 - accuracy: 0.9331 - val_loss: 0.5280 - val_accuracy: 0.8392\n",
      "Epoch 90/1000\n",
      "Epoch 90: Learning rate is 0.0053144097328186035.\n",
      "50/50 [==============================] - 0s 2ms/step - loss: 0.1661 - accuracy: 0.9295 - val_loss: 0.5287 - val_accuracy: 0.8492\n",
      "Epoch 91/1000\n",
      "Epoch 91: Learning rate is 0.0053144097328186035.\n",
      "50/50 [==============================] - 0s 2ms/step - loss: 0.1653 - accuracy: 0.9238 - val_loss: 0.5334 - val_accuracy: 0.8543\n",
      "Epoch 92/1000\n",
      "Epoch 92: Learning rate is 0.0053144097328186035.\n",
      "50/50 [==============================] - 0s 2ms/step - loss: 0.1543 - accuracy: 0.9271 - val_loss: 0.5760 - val_accuracy: 0.8492\n",
      "\n",
      "Epoch 00092: ReduceLROnPlateau reducing learning rate to 0.004782968759536744.\n",
      "Epoch 93/1000\n",
      "Epoch 93: Learning rate is 0.004782968666404486.\n",
      "50/50 [==============================] - 0s 1ms/step - loss: 0.1466 - accuracy: 0.9243 - val_loss: 0.5978 - val_accuracy: 0.8593\n",
      "Epoch 94/1000\n",
      "Epoch 94: Learning rate is 0.004782968666404486.\n",
      "50/50 [==============================] - 0s 1ms/step - loss: 0.1421 - accuracy: 0.9373 - val_loss: 0.6347 - val_accuracy: 0.8643\n",
      "Epoch 95/1000\n",
      "Epoch 95: Learning rate is 0.004782968666404486.\n",
      "50/50 [==============================] - 0s 1ms/step - loss: 0.1526 - accuracy: 0.9398 - val_loss: 0.6640 - val_accuracy: 0.8593\n",
      "Epoch 96/1000\n",
      "Epoch 96: Learning rate is 0.004782968666404486.\n",
      "50/50 [==============================] - 0s 1ms/step - loss: 0.1444 - accuracy: 0.9312 - val_loss: 0.6907 - val_accuracy: 0.8241\n",
      "Epoch 97/1000\n",
      "Epoch 97: Learning rate is 0.004782968666404486.\n",
      "50/50 [==============================] - 0s 1ms/step - loss: 0.1557 - accuracy: 0.9317 - val_loss: 0.4885 - val_accuracy: 0.8543\n",
      "Epoch 98/1000\n",
      "Epoch 98: Learning rate is 0.004782968666404486.\n",
      "50/50 [==============================] - 0s 1ms/step - loss: 0.1842 - accuracy: 0.9171 - val_loss: 0.5431 - val_accuracy: 0.8593\n",
      "Epoch 99/1000\n",
      "Epoch 99: Learning rate is 0.004782968666404486.\n",
      "50/50 [==============================] - 0s 1ms/step - loss: 0.1672 - accuracy: 0.9300 - val_loss: 0.5120 - val_accuracy: 0.8693\n",
      "Epoch 100/1000\n",
      "Epoch 100: Learning rate is 0.004782968666404486.\n",
      "50/50 [==============================] - 0s 1ms/step - loss: 0.1660 - accuracy: 0.9288 - val_loss: 0.5108 - val_accuracy: 0.8643\n",
      "Epoch 101/1000\n",
      "Epoch 101: Learning rate is 0.004782968666404486.\n",
      "50/50 [==============================] - 0s 1ms/step - loss: 0.1433 - accuracy: 0.9420 - val_loss: 0.5178 - val_accuracy: 0.8643\n",
      "Epoch 102/1000\n",
      "Epoch 102: Learning rate is 0.004782968666404486.\n",
      "50/50 [==============================] - 0s 2ms/step - loss: 0.1531 - accuracy: 0.9339 - val_loss: 0.4936 - val_accuracy: 0.8744\n",
      "\n",
      "Epoch 00102: ReduceLROnPlateau reducing learning rate to 0.0043046717997640375.\n",
      "Epoch 103/1000\n",
      "Epoch 103: Learning rate is 0.004304671660065651.\n",
      "50/50 [==============================] - 0s 2ms/step - loss: 0.1298 - accuracy: 0.9374 - val_loss: 0.4787 - val_accuracy: 0.8744\n",
      "Epoch 104/1000\n",
      "Epoch 104: Learning rate is 0.004304671660065651.\n",
      "50/50 [==============================] - 0s 1ms/step - loss: 0.1273 - accuracy: 0.9412 - val_loss: 0.4963 - val_accuracy: 0.8693\n",
      "Epoch 105/1000\n",
      "Epoch 105: Learning rate is 0.004304671660065651.\n",
      "50/50 [==============================] - 0s 2ms/step - loss: 0.1445 - accuracy: 0.9375 - val_loss: 0.5292 - val_accuracy: 0.8593\n",
      "Epoch 106/1000\n",
      "Epoch 106: Learning rate is 0.004304671660065651.\n",
      "50/50 [==============================] - 0s 1ms/step - loss: 0.1265 - accuracy: 0.9465 - val_loss: 0.5379 - val_accuracy: 0.8693\n",
      "Epoch 107/1000\n",
      "Epoch 107: Learning rate is 0.004304671660065651.\n",
      "50/50 [==============================] - 0s 1ms/step - loss: 0.1484 - accuracy: 0.9353 - val_loss: 0.5194 - val_accuracy: 0.8342\n",
      "Epoch 108/1000\n",
      "Epoch 108: Learning rate is 0.004304671660065651.\n",
      "50/50 [==============================] - 0s 2ms/step - loss: 0.1531 - accuracy: 0.9405 - val_loss: 0.5510 - val_accuracy: 0.8593\n",
      "Epoch 109/1000\n",
      "Epoch 109: Learning rate is 0.004304671660065651.\n",
      "50/50 [==============================] - 0s 1ms/step - loss: 0.1510 - accuracy: 0.9186 - val_loss: 0.5489 - val_accuracy: 0.8693\n",
      "Epoch 110/1000\n",
      "Epoch 110: Learning rate is 0.004304671660065651.\n",
      "50/50 [==============================] - 0s 1ms/step - loss: 0.1311 - accuracy: 0.9442 - val_loss: 0.5000 - val_accuracy: 0.8794\n",
      "Epoch 111/1000\n",
      "Epoch 111: Learning rate is 0.004304671660065651.\n",
      "50/50 [==============================] - 0s 1ms/step - loss: 0.1312 - accuracy: 0.9521 - val_loss: 0.4837 - val_accuracy: 0.8643\n",
      "Epoch 112/1000\n",
      "Epoch 112: Learning rate is 0.004304671660065651.\n",
      "50/50 [==============================] - 0s 1ms/step - loss: 0.1465 - accuracy: 0.9242 - val_loss: 0.5375 - val_accuracy: 0.8543\n",
      "\n",
      "Epoch 00112: ReduceLROnPlateau reducing learning rate to 0.0038742044940590858.\n",
      "Epoch 113/1000\n",
      "Epoch 113: Learning rate is 0.0038742045871913433.\n",
      "50/50 [==============================] - 0s 2ms/step - loss: 0.1162 - accuracy: 0.9456 - val_loss: 0.5155 - val_accuracy: 0.8744\n",
      "Epoch 114/1000\n",
      "Epoch 114: Learning rate is 0.0038742045871913433.\n",
      "50/50 [==============================] - 0s 2ms/step - loss: 0.1445 - accuracy: 0.9382 - val_loss: 0.5422 - val_accuracy: 0.8442\n",
      "Epoch 115/1000\n",
      "Epoch 115: Learning rate is 0.0038742045871913433.\n",
      "50/50 [==============================] - 0s 2ms/step - loss: 0.1505 - accuracy: 0.9278 - val_loss: 0.6032 - val_accuracy: 0.8593\n",
      "Epoch 116/1000\n",
      "Epoch 116: Learning rate is 0.0038742045871913433.\n",
      "50/50 [==============================] - 0s 2ms/step - loss: 0.1251 - accuracy: 0.9482 - val_loss: 0.5301 - val_accuracy: 0.8643\n",
      "Epoch 117/1000\n",
      "Epoch 117: Learning rate is 0.0038742045871913433.\n",
      "50/50 [==============================] - 0s 1ms/step - loss: 0.1199 - accuracy: 0.9460 - val_loss: 0.5689 - val_accuracy: 0.8543\n",
      "Epoch 118/1000\n",
      "Epoch 118: Learning rate is 0.0038742045871913433.\n",
      "50/50 [==============================] - 0s 2ms/step - loss: 0.1569 - accuracy: 0.9248 - val_loss: 0.5577 - val_accuracy: 0.8593\n",
      "Epoch 119/1000\n",
      "Epoch 119: Learning rate is 0.0038742045871913433.\n",
      "50/50 [==============================] - 0s 1ms/step - loss: 0.1628 - accuracy: 0.9391 - val_loss: 0.5442 - val_accuracy: 0.8492\n",
      "Epoch 120/1000\n",
      "Epoch 120: Learning rate is 0.0038742045871913433.\n",
      "50/50 [==============================] - 0s 1ms/step - loss: 0.1453 - accuracy: 0.9470 - val_loss: 0.5872 - val_accuracy: 0.8543\n",
      "Epoch 121/1000\n",
      "Epoch 121: Learning rate is 0.0038742045871913433.\n",
      "50/50 [==============================] - 0s 2ms/step - loss: 0.1303 - accuracy: 0.9359 - val_loss: 0.5486 - val_accuracy: 0.8593\n",
      "Epoch 122/1000\n",
      "Epoch 122: Learning rate is 0.0038742045871913433.\n",
      "50/50 [==============================] - 0s 2ms/step - loss: 0.1660 - accuracy: 0.9293 - val_loss: 0.6202 - val_accuracy: 0.8392\n",
      "Restoring model weights from the end of the best epoch.\n",
      "\n",
      "Epoch 00122: ReduceLROnPlateau reducing learning rate to 0.003486784128472209.\n",
      "Epoch 00122: early stopping\n"
     ]
    }
   ],
   "source": [
    "# Pass the callback to the fit method\n",
    "history = model.fit(\n",
    "    X_train,\n",
    "    y_train,\n",
    "    validation_split=0.2,\n",
    "    epochs=1000,\n",
    "    batch_size=16,\n",
    "    callbacks=callbacks  # include it here\n",
    ")"
   ],
   "metadata": {
    "collapsed": false,
    "ExecuteTime": {
     "end_time": "2024-02-14T15:56:26.415156780Z",
     "start_time": "2024-02-14T15:56:15.491605536Z"
    }
   },
   "id": "bd3f41f1f688e43"
  },
  {
   "cell_type": "code",
   "execution_count": 7,
   "outputs": [
    {
     "name": "stdout",
     "output_type": "stream",
     "text": [
      "8/8 [==============================] - 0s 2ms/step - loss: 0.3570 - accuracy: 0.7863\n",
      "Test accuracy: 0.7862903475761414\n",
      "Test loss: 0.35702282190322876\n"
     ]
    }
   ],
   "source": [
    "# Evaluating the model\n",
    "test_loss, test_acc = model.evaluate(X_test, y_test)\n",
    "print('Test accuracy:', test_acc)\n",
    "print('Test loss:', test_loss)"
   ],
   "metadata": {
    "collapsed": false,
    "ExecuteTime": {
     "end_time": "2024-02-14T15:56:34.462211635Z",
     "start_time": "2024-02-14T15:56:34.419193451Z"
    }
   },
   "id": "initial_id"
  },
  {
   "cell_type": "code",
   "outputs": [
    {
     "data": {
      "text/plain": "array([[99,  0,  0],\n       [ 3, 27, 44],\n       [ 0,  6, 69]])"
     },
     "execution_count": 8,
     "metadata": {},
     "output_type": "execute_result"
    }
   ],
   "source": [
    "#confusion matrix\n",
    "from sklearn.metrics import confusion_matrix\n",
    "import numpy as np\n",
    "y_pred = model.predict(X_test)\n",
    "y_pred = np.argmax(y_pred, axis=1)\n",
    "y_test = np.argmax(y_test, axis=1)\n",
    "confusion_matrix(y_test, y_pred)"
   ],
   "metadata": {
    "collapsed": false,
    "ExecuteTime": {
     "end_time": "2024-02-14T15:56:38.883921015Z",
     "start_time": "2024-02-14T15:56:38.819418413Z"
    }
   },
   "id": "c057b29eba7b9144",
   "execution_count": 8
  },
  {
   "cell_type": "code",
   "execution_count": 9,
   "outputs": [
    {
     "data": {
      "text/plain": "<Figure size 640x480 with 1 Axes>",
      "image/png": "[encoded data removed]"
     },
     "metadata": {},
     "output_type": "display_data"
    },
    {
     "data": {
      "text/plain": "<Figure size 640x480 with 1 Axes>",
      "image/png": "[encoded data removed]"
     },
     "metadata": {},
     "output_type": "display_data"
    },
    {
     "data": {
      "text/plain": "<Figure size 640x480 with 1 Axes>",
      "image/png": "[encoded data removed]"
     },
     "metadata": {},
     "output_type": "display_data"
    }
   ],
   "source": [
    "# Plotting the training and validation loss\n",
    "import matplotlib.pyplot as plt\n",
    "\n",
    "plt.plot(history.history['loss'])\n",
    "plt.plot(history.history['val_loss'])\n",
    "plt.title('Model loss')\n",
    "plt.ylabel('Loss')\n",
    "plt.xlabel('Epochs')\n",
    "plt.legend(['Train', 'Validation'], loc='upper right')\n",
    "plt.show()\n",
    "\n",
    "plt.plot(history.history['accuracy'])\n",
    "plt.plot(history.history['val_accuracy'])\n",
    "plt.title('Model accuracy')\n",
    "plt.ylabel('Accuracy')\n",
    "plt.xlabel('Epochs')\n",
    "plt.legend(['Train', 'Validation'], loc='lower right')\n",
    "plt.show()\n",
    "\n",
    "# Plotting\n",
    "# plt.figure(figsize=(8, 8))\n",
    "plt.plot(lr_tracker.learning_rates)\n",
    "plt.title(\"Learning Rate over Epochs\")\n",
    "plt.xlabel(\"Epoch\")\n",
    "plt.ylabel(\"Learning Rate\")\n",
    "plt.grid(True)"
   ],
   "metadata": {
    "collapsed": false,
    "ExecuteTime": {
     "end_time": "2024-02-14T15:56:45.348935726Z",
     "start_time": "2024-02-14T15:56:44.418104741Z"
    }
   },
   "id": "1d82547b5da98e0"
  },
  {
   "cell_type": "code",
   "execution_count": 11,
   "outputs": [
    {
     "name": "stderr",
     "output_type": "stream",
     "text": [
      "WARNING:absl:Found untraced functions such as _update_step_xla while saving (showing 1 of 1). These functions will not be directly callable after loading.\n"
     ]
    },
    {
     "name": "stdout",
     "output_type": "stream",
     "text": [
      "INFO:tensorflow:Assets written to: ../../../Model/Exoskeleton/FeatureReduced/exo_model_top10/assets\n"
     ]
    },
    {
     "name": "stderr",
     "output_type": "stream",
     "text": [
      "INFO:tensorflow:Assets written to: ../../../Model/Exoskeleton/FeatureReduced/exo_model_top10/assets\n"
     ]
    }
   ],
   "source": [
    "# Save the model\n",
    "tf.keras.models.save_model(model, '../../../Model/Exoskeleton/FeatureReduced/exo_model_top10')"
   ],
   "metadata": {
    "collapsed": false,
    "ExecuteTime": {
     "end_time": "2024-02-08T12:46:42.698426352Z",
     "start_time": "2024-02-08T12:46:42.118761297Z"
    }
   },
   "id": "971afc8f1ecd8193"
  },
  {
   "cell_type": "code",
   "execution_count": 12,
   "outputs": [
    {
     "name": "stdout",
     "output_type": "stream",
     "text": [
      "Model: \"sequential\"\n",
      "_________________________________________________________________\n",
      " Layer (type)                Output Shape              Param #   \n",
      "=================================================================\n",
      " dense_0 (Dense)             (None, 32)                352       \n",
      "                                                                 \n",
      " dense_1 (Dense)             (None, 16)                528       \n",
      "                                                                 \n",
      " dense_2 (Dense)             (None, 3)                 51        \n",
      "                                                                 \n",
      " dense (Dense)               (None, 3)                 12        \n",
      "                                                                 \n",
      "=================================================================\n",
      "Total params: 943\n",
      "Trainable params: 943\n",
      "Non-trainable params: 0\n",
      "_________________________________________________________________\n"
     ]
    }
   ],
   "source": [
    "from tensorflow.keras.models import Model\n",
    "\n",
    "model.summary()"
   ],
   "metadata": {
    "collapsed": false,
    "ExecuteTime": {
     "end_time": "2024-02-08T12:46:57.936826697Z",
     "start_time": "2024-02-08T12:46:57.926305072Z"
    }
   },
   "id": "e9eb90f45dcaeaf4"
  },
  {
   "cell_type": "code",
   "outputs": [
    {
     "name": "stdout",
     "output_type": "stream",
     "text": [
      "Model: \"model\"\n",
      "_________________________________________________________________\n",
      " Layer (type)                Output Shape              Param #   \n",
      "=================================================================\n",
      " dense_0_input (InputLayer)  [(None, 10)]              0         \n",
      "                                                                 \n",
      " dense_0 (Dense)             (None, 32)                352       \n",
      "                                                                 \n",
      " dense_1 (Dense)             (None, 16)                528       \n",
      "                                                                 \n",
      " dense_2 (Dense)             (None, 3)                 51        \n",
      "                                                                 \n",
      "=================================================================\n",
      "Total params: 931\n",
      "Trainable params: 931\n",
      "Non-trainable params: 0\n",
      "_________________________________________________________________\n"
     ]
    }
   ],
   "source": [
    "# Assume 'original_model' is your pre-trained model\n",
    "model_without_softmax = Model(inputs=model.input, \n",
    "                              outputs=model.get_layer(\"dense_2\").output)\n",
    "model_without_softmax.summary()\n"
   ],
   "metadata": {
    "collapsed": false,
    "ExecuteTime": {
     "end_time": "2024-02-08T12:47:03.803277711Z",
     "start_time": "2024-02-08T12:47:03.755874585Z"
    }
   },
   "id": "9445a32c75176e7b",
   "execution_count": 13
  },
  {
   "cell_type": "code",
   "execution_count": 14,
   "outputs": [
    {
     "name": "stdout",
     "output_type": "stream",
     "text": [
      "WARNING:tensorflow:Compiled the loaded model, but the compiled metrics have yet to be built. `model.compile_metrics` will be empty until you train or evaluate the model.\n"
     ]
    },
    {
     "name": "stderr",
     "output_type": "stream",
     "text": [
      "WARNING:tensorflow:Compiled the loaded model, but the compiled metrics have yet to be built. `model.compile_metrics` will be empty until you train or evaluate the model.\n"
     ]
    },
    {
     "name": "stdout",
     "output_type": "stream",
     "text": [
      "INFO:tensorflow:Assets written to: ../../../Model/Exoskeleton/FeatureReduced/exo_model_top10_without_softmax/assets\n"
     ]
    },
    {
     "name": "stderr",
     "output_type": "stream",
     "text": [
      "INFO:tensorflow:Assets written to: ../../../Model/Exoskeleton/FeatureReduced/exo_model_top10_without_softmax/assets\n"
     ]
    }
   ],
   "source": [
    "# Save the model\n",
    "tf.keras.models.save_model(model_without_softmax, '../../../Model/Exoskeleton/FeatureReduced/exo_model_top10_without_softmax')"
   ],
   "metadata": {
    "collapsed": false,
    "ExecuteTime": {
     "end_time": "2024-02-08T12:47:43.589363715Z",
     "start_time": "2024-02-08T12:47:43.329681961Z"
    }
   },
   "id": "61da15b78744777b"
  },
  {
   "cell_type": "code",
   "outputs": [],
   "source": [],
   "metadata": {
    "collapsed": false
   },
   "id": "3385f913d0893823"
  }
 ],
 "metadata": {
  "kernelspec": {
   "display_name": "Python 3",
   "language": "python",
   "name": "python3"
  },
  "language_info": {
   "codemirror_mode": {
    "name": "ipython",
    "version": 2
   },
   "file_extension": ".py",
   "mimetype": "text/x-python",
   "name": "python",
   "nbconvert_exporter": "python",
   "pygments_lexer": "ipython2",
   "version": "2.7.6"
  }
 },
 "nbformat": 4,
 "nbformat_minor": 5
}
