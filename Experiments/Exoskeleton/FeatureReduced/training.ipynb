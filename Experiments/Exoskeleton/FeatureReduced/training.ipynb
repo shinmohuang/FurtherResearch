{
 "cells": [
  {
   "cell_type": "code",
   "execution_count": 1,
   "id": "2ebdbe21c431b276",
   "metadata": {
    "collapsed": true,
    "ExecuteTime": {
     "end_time": "2024-03-04T22:58:30.716819Z",
     "start_time": "2024-03-04T22:58:29.887067Z"
    }
   },
   "outputs": [
    {
     "name": "stderr",
     "output_type": "stream",
     "text": [
      "2024-03-04 22:58:29.957282: I tensorflow/stream_executor/platform/default/dso_loader.cc:49] Successfully opened dynamic library libcudart.so.10.1\n"
     ]
    },
    {
     "name": "stdout",
     "output_type": "stream",
     "text": [
      "Physical devices: [PhysicalDevice(name='/physical_device:CPU:0', device_type='CPU'), PhysicalDevice(name='/physical_device:GPU:0', device_type='GPU')]\n",
      "GPU is available.\n"
     ]
    },
    {
     "name": "stderr",
     "output_type": "stream",
     "text": [
      "2024-03-04 22:58:30.672227: I tensorflow/compiler/jit/xla_cpu_device.cc:41] Not creating XLA devices, tf_xla_enable_xla_devices not set\n",
      "2024-03-04 22:58:30.672716: I tensorflow/stream_executor/platform/default/dso_loader.cc:49] Successfully opened dynamic library libcuda.so.1\n",
      "2024-03-04 22:58:30.708505: I tensorflow/stream_executor/cuda/cuda_gpu_executor.cc:941] successful NUMA node read from SysFS had negative value (-1), but there must be at least one NUMA node, so returning NUMA node zero\n",
      "2024-03-04 22:58:30.708607: I tensorflow/core/common_runtime/gpu/gpu_device.cc:1720] Found device 0 with properties: \n",
      "pciBusID: 0000:01:00.0 name: NVIDIA GeForce RTX 2060 SUPER computeCapability: 7.5\n",
      "coreClock: 1.65GHz coreCount: 34 deviceMemorySize: 7.78GiB deviceMemoryBandwidth: 417.29GiB/s\n",
      "2024-03-04 22:58:30.708628: I tensorflow/stream_executor/platform/default/dso_loader.cc:49] Successfully opened dynamic library libcudart.so.10.1\n",
      "2024-03-04 22:58:30.709696: I tensorflow/stream_executor/platform/default/dso_loader.cc:49] Successfully opened dynamic library libcublas.so.10\n",
      "2024-03-04 22:58:30.709727: I tensorflow/stream_executor/platform/default/dso_loader.cc:49] Successfully opened dynamic library libcublasLt.so.10\n",
      "2024-03-04 22:58:30.710696: I tensorflow/stream_executor/platform/default/dso_loader.cc:49] Successfully opened dynamic library libcufft.so.10\n",
      "2024-03-04 22:58:30.710875: I tensorflow/stream_executor/platform/default/dso_loader.cc:49] Successfully opened dynamic library libcurand.so.10\n",
      "2024-03-04 22:58:30.711975: I tensorflow/stream_executor/platform/default/dso_loader.cc:49] Successfully opened dynamic library libcusolver.so.10\n",
      "2024-03-04 22:58:30.712556: I tensorflow/stream_executor/platform/default/dso_loader.cc:49] Successfully opened dynamic library libcusparse.so.10\n",
      "2024-03-04 22:58:30.714714: I tensorflow/stream_executor/platform/default/dso_loader.cc:49] Successfully opened dynamic library libcudnn.so.7\n",
      "2024-03-04 22:58:30.714811: I tensorflow/stream_executor/cuda/cuda_gpu_executor.cc:941] successful NUMA node read from SysFS had negative value (-1), but there must be at least one NUMA node, so returning NUMA node zero\n",
      "2024-03-04 22:58:30.714942: I tensorflow/stream_executor/cuda/cuda_gpu_executor.cc:941] successful NUMA node read from SysFS had negative value (-1), but there must be at least one NUMA node, so returning NUMA node zero\n",
      "2024-03-04 22:58:30.715009: I tensorflow/core/common_runtime/gpu/gpu_device.cc:1862] Adding visible gpu devices: 0\n"
     ]
    }
   ],
   "source": [
    "import pandas as pd\n",
    "import tensorflow as tf\n",
    "from sklearn.model_selection import train_test_split\n",
    "from sklearn.preprocessing import StandardScaler\n",
    "from tensorflow.keras.models import Sequential\n",
    "from tensorflow.keras.layers import Dense\n",
    "from tensorflow.keras.utils import to_categorical\n",
    "from sklearn.utils import shuffle\n",
    "\n",
    "from tensorflow.keras.callbacks import EarlyStopping\n",
    "from tensorflow.keras.optimizers import Adam\n",
    "from tensorflow.keras.callbacks import ReduceLROnPlateau\n",
    "\n",
    "# List all physical devices\n",
    "physical_devices = tf.config.list_physical_devices()\n",
    "print(\"Physical devices:\", physical_devices)\n",
    "\n",
    "# Check for GPU specifically\n",
    "gpus = tf.config.list_physical_devices('GPU')\n",
    "if gpus:\n",
    "    print(\"GPU is available.\")\n",
    "else:\n",
    "    print(\"GPU is NOT available.\")"
   ]
  },
  {
   "cell_type": "code",
   "execution_count": 2,
   "outputs": [
    {
     "data": {
      "text/plain": "0       0\n1       0\n2       0\n3       0\n4       0\n       ..\n1828    2\n1829    2\n1830    2\n1831    2\n1832    2\nName: fatigue_level, Length: 1833, dtype: int64"
     },
     "execution_count": 2,
     "metadata": {},
     "output_type": "execute_result"
    }
   ],
   "source": [
    "# Load your dataset\n",
    "dataset = pd.read_csv('../../../Dataset/Exoskeleton/Top_LDA_dataset.csv')\n",
    "dataset.iloc[:, -1] = dataset.iloc[:, -1]\n",
    "X = dataset.iloc[:, :-1]  # Features\n",
    "y = dataset.iloc[:, -1] -1  # Target\n",
    "y"
   ],
   "metadata": {
    "collapsed": false,
    "ExecuteTime": {
     "end_time": "2024-03-04T22:58:33.027207Z",
     "start_time": "2024-03-04T22:58:33.018550Z"
    }
   },
   "id": "d0786d20bcf5eef8"
  },
  {
   "cell_type": "code",
   "outputs": [
    {
     "data": {
      "text/plain": "array([[-0.88253618, -0.17465001,  0.1676802 , ...,  1.09937536,\n         0.34128161,  0.24996466],\n       [ 0.03366521, -0.10762837, -0.12990283, ...,  0.83031045,\n         0.28636473,  0.22695286],\n       [ 0.80775874,  0.10301201,  0.1902082 , ...,  0.68522387,\n         0.26815925,  0.22594069],\n       ...,\n       [-0.88940277, -0.47338305,  0.06829984, ..., -0.95987318,\n        -0.63604986, -0.60281746],\n       [-0.88951171, -0.67649489,  0.08822565, ..., -0.96113445,\n        -0.6334484 , -0.60039413],\n       [-0.88950583, -0.71072815,  0.86361568, ..., -0.95659254,\n        -0.6247476 , -0.59284505]])"
     },
     "execution_count": 3,
     "metadata": {},
     "output_type": "execute_result"
    }
   ],
   "source": [
    "# Normalize the features\n",
    "scaler = StandardScaler()\n",
    "X_scaled = scaler.fit_transform(X)\n",
    "\n",
    "# Convert labels to categorical\n",
    "y_categorical = to_categorical(y)\n",
    "X_scaled"
   ],
   "metadata": {
    "collapsed": false,
    "ExecuteTime": {
     "end_time": "2024-03-04T22:58:35.270261Z",
     "start_time": "2024-03-04T22:58:35.263991Z"
    }
   },
   "id": "e2c47182b59e5b58",
   "execution_count": 3
  },
  {
   "cell_type": "code",
   "outputs": [
    {
     "data": {
      "text/plain": "array([[-0.5591, -0.7197, -0.6346, ..., -0.9449, -0.7028, -0.6662],\n       [ 0.2159, -0.2301, -0.6022, ...,  1.1477,  0.3792,  0.2873],\n       [ 0.7767,  0.2974, -0.0166, ..., -0.9306, -0.6237, -0.5948],\n       ...,\n       [-0.3112, -0.174 , -0.3454, ...,  0.6248,  0.1173,  0.1108],\n       [ 2.6948,  2.5197,  0.8586, ..., -0.7925, -0.6581, -0.7137],\n       [-0.5247, -0.6554, -0.635 , ...,  1.1443,  0.3664,  0.2774]])"
     },
     "execution_count": 4,
     "metadata": {},
     "output_type": "execute_result"
    }
   ],
   "source": [
    "\n",
    "# Shuffle the data\n",
    "X_scaled, y_categorical = shuffle(X_scaled, y_categorical, random_state=42)\n",
    "\n",
    "# Split the data\n",
    "X_train, X_test, y_train, y_test = train_test_split(\n",
    "    X_scaled.round(4), y_categorical, test_size=0.2, random_state=42)\n",
    "\n",
    "# Number of unique classes in the target variable\n",
    "num_classes = y_train.shape[1]\n",
    "X_train"
   ],
   "metadata": {
    "collapsed": false,
    "ExecuteTime": {
     "end_time": "2024-03-04T22:58:54.155577Z",
     "start_time": "2024-03-04T22:58:54.150699Z"
    }
   },
   "id": "faa304ef6f2699f9",
   "execution_count": 4
  },
  {
   "cell_type": "code",
   "outputs": [
    {
     "name": "stderr",
     "output_type": "stream",
     "text": [
      "2024-03-04 22:58:56.754909: I tensorflow/core/platform/cpu_feature_guard.cc:142] This TensorFlow binary is optimized with oneAPI Deep Neural Network Library (oneDNN) to use the following CPU instructions in performance-critical operations:  SSE4.1 SSE4.2 AVX AVX2 FMA\n",
      "To enable them in other operations, rebuild TensorFlow with the appropriate compiler flags.\n",
      "2024-03-04 22:58:56.755417: I tensorflow/compiler/jit/xla_gpu_device.cc:99] Not creating XLA devices, tf_xla_enable_xla_devices not set\n",
      "2024-03-04 22:58:56.755567: I tensorflow/stream_executor/cuda/cuda_gpu_executor.cc:941] successful NUMA node read from SysFS had negative value (-1), but there must be at least one NUMA node, so returning NUMA node zero\n",
      "2024-03-04 22:58:56.755673: I tensorflow/core/common_runtime/gpu/gpu_device.cc:1720] Found device 0 with properties: \n",
      "pciBusID: 0000:01:00.0 name: NVIDIA GeForce RTX 2060 SUPER computeCapability: 7.5\n",
      "coreClock: 1.65GHz coreCount: 34 deviceMemorySize: 7.78GiB deviceMemoryBandwidth: 417.29GiB/s\n",
      "2024-03-04 22:58:56.755710: I tensorflow/stream_executor/platform/default/dso_loader.cc:49] Successfully opened dynamic library libcudart.so.10.1\n",
      "2024-03-04 22:58:56.755728: I tensorflow/stream_executor/platform/default/dso_loader.cc:49] Successfully opened dynamic library libcublas.so.10\n",
      "2024-03-04 22:58:56.755742: I tensorflow/stream_executor/platform/default/dso_loader.cc:49] Successfully opened dynamic library libcublasLt.so.10\n",
      "2024-03-04 22:58:56.755755: I tensorflow/stream_executor/platform/default/dso_loader.cc:49] Successfully opened dynamic library libcufft.so.10\n",
      "2024-03-04 22:58:56.755768: I tensorflow/stream_executor/platform/default/dso_loader.cc:49] Successfully opened dynamic library libcurand.so.10\n",
      "2024-03-04 22:58:56.755780: I tensorflow/stream_executor/platform/default/dso_loader.cc:49] Successfully opened dynamic library libcusolver.so.10\n",
      "2024-03-04 22:58:56.755793: I tensorflow/stream_executor/platform/default/dso_loader.cc:49] Successfully opened dynamic library libcusparse.so.10\n",
      "2024-03-04 22:58:56.755807: I tensorflow/stream_executor/platform/default/dso_loader.cc:49] Successfully opened dynamic library libcudnn.so.7\n",
      "2024-03-04 22:58:56.755863: I tensorflow/stream_executor/cuda/cuda_gpu_executor.cc:941] successful NUMA node read from SysFS had negative value (-1), but there must be at least one NUMA node, so returning NUMA node zero\n",
      "2024-03-04 22:58:56.755968: I tensorflow/stream_executor/cuda/cuda_gpu_executor.cc:941] successful NUMA node read from SysFS had negative value (-1), but there must be at least one NUMA node, so returning NUMA node zero\n",
      "2024-03-04 22:58:56.756031: I tensorflow/core/common_runtime/gpu/gpu_device.cc:1862] Adding visible gpu devices: 0\n",
      "2024-03-04 22:58:56.756055: I tensorflow/stream_executor/platform/default/dso_loader.cc:49] Successfully opened dynamic library libcudart.so.10.1\n",
      "2024-03-04 22:58:57.108572: I tensorflow/core/common_runtime/gpu/gpu_device.cc:1261] Device interconnect StreamExecutor with strength 1 edge matrix:\n",
      "2024-03-04 22:58:57.108591: I tensorflow/core/common_runtime/gpu/gpu_device.cc:1267]      0 \n",
      "2024-03-04 22:58:57.108595: I tensorflow/core/common_runtime/gpu/gpu_device.cc:1280] 0:   N \n",
      "2024-03-04 22:58:57.108765: I tensorflow/stream_executor/cuda/cuda_gpu_executor.cc:941] successful NUMA node read from SysFS had negative value (-1), but there must be at least one NUMA node, so returning NUMA node zero\n",
      "2024-03-04 22:58:57.108907: I tensorflow/stream_executor/cuda/cuda_gpu_executor.cc:941] successful NUMA node read from SysFS had negative value (-1), but there must be at least one NUMA node, so returning NUMA node zero\n",
      "2024-03-04 22:58:57.109010: I tensorflow/stream_executor/cuda/cuda_gpu_executor.cc:941] successful NUMA node read from SysFS had negative value (-1), but there must be at least one NUMA node, so returning NUMA node zero\n",
      "2024-03-04 22:58:57.109087: I tensorflow/core/common_runtime/gpu/gpu_device.cc:1406] Created TensorFlow device (/job:localhost/replica:0/task:0/device:GPU:0 with 6851 MB memory) -> physical GPU (device: 0, name: NVIDIA GeForce RTX 2060 SUPER, pci bus id: 0000:01:00.0, compute capability: 7.5)\n"
     ]
    }
   ],
   "source": [
    "\n",
    "\n",
    "# Building the DNN model\n",
    "model = Sequential([\n",
    "    Dense(32, activation='relu', input_shape=(X_train.shape[1],), name='dense_0'),\n",
    "    Dense(16, activation='relu', name='dense_1'),\n",
    "    Dense(3, activation='relu', name='dense_2'),\n",
    "    # Dense(3, activation='relu', name='dense_3'),\n",
    "    Dense(num_classes, activation='softmax')  # Output layer\n",
    "])"
   ],
   "metadata": {
    "collapsed": false,
    "ExecuteTime": {
     "end_time": "2024-03-04T22:58:57.184295Z",
     "start_time": "2024-03-04T22:58:56.748672Z"
    }
   },
   "id": "1e58074cece23a2d",
   "execution_count": 5
  },
  {
   "cell_type": "code",
   "execution_count": 6,
   "outputs": [],
   "source": [
    "# Define the early stopping callback\n",
    "early_stopping = EarlyStopping(\n",
    "    monitor='val_loss',\n",
    "    min_delta=0.001,  # minimium amount of change to count as an improvement\n",
    "    patience=100,  # how many epochs to wait before stopping\n",
    "    verbose=1,\n",
    "    mode='min',\n",
    "    restore_best_weights=True\n",
    ")\n",
    "\n",
    "# Set the learning rate\n",
    "learning_rate = 0.01\n",
    "\n",
    "# Create the ReduceLROnPlateau callback\n",
    "reduce_lr = ReduceLROnPlateau(\n",
    "    monitor='val_loss',\n",
    "    factor=0.9,  # factor by which the learning rate will be reduced\n",
    "    patience=10,  # number of epochs with no improvement after which learning rate will be reduced\n",
    "    min_lr=0.00001,  # lower bound on the learning rate\n",
    "    verbose=1\n",
    ")\n",
    "lr_callback = tf.keras.callbacks.LearningRateScheduler(reduce_lr)\n",
    "\n",
    "class PrintLR(tf.keras.callbacks.Callback):\n",
    "    def __init__(self):\n",
    "        super().__init__()\n",
    "        self.learning_rates = []\n",
    "        \n",
    "    def on_epoch_begin(self, epoch, logs=None):\n",
    "        lr = self.model.optimizer.lr\n",
    "        if hasattr(lr, 'numpy'):\n",
    "            lr = lr.numpy()\n",
    "        elif hasattr(lr, 'eval'):\n",
    "            lr = lr.eval(session=tf.compat.v1.Session())\n",
    "        print(f'Epoch {epoch+1}: Learning rate is {lr}.')\n",
    "    \n",
    "    def on_epoch_end(self, epoch, logs=None):\n",
    "        # Retrieve the current learning rate from the optimizer\n",
    "        current_lr = tf.keras.backend.get_value(self.model.optimizer.lr)\n",
    "        # Append the current learning rate to the list\n",
    "        self.learning_rates.append(current_lr)\n",
    "\n",
    "lr_tracker = PrintLR()\n",
    "callbacks = [lr_tracker, early_stopping, reduce_lr]\n",
    "\n",
    "\n",
    "# Initialize the optimizer with the learning rate\n",
    "optimizer = Adam(learning_rate=learning_rate)\n",
    "\n",
    "# Compiling the model\n",
    "model.compile(optimizer=optimizer,\n",
    "              loss='categorical_crossentropy',\n",
    "              metrics=['accuracy'])"
   ],
   "metadata": {
    "collapsed": false,
    "ExecuteTime": {
     "end_time": "2024-03-04T22:58:58.100337Z",
     "start_time": "2024-03-04T22:58:58.087781Z"
    }
   },
   "id": "111da32ccd0d31d1"
  },
  {
   "cell_type": "code",
   "execution_count": 7,
   "outputs": [
    {
     "name": "stderr",
     "output_type": "stream",
     "text": [
      "2024-03-04 22:58:59.264600: I tensorflow/compiler/mlir/mlir_graph_optimization_pass.cc:116] None of the MLIR optimization passes are enabled (registered 2)\n",
      "2024-03-04 22:58:59.264847: I tensorflow/core/platform/profile_utils/cpu_utils.cc:112] CPU Frequency: 2899885000 Hz\n"
     ]
    },
    {
     "name": "stdout",
     "output_type": "stream",
     "text": [
      "Epoch 1/1000\n",
      "Epoch 1: Learning rate is 0.009999999776482582.\n",
      " 1/74 [..............................] - ETA: 28s - loss: 1.0893 - accuracy: 0.0625"
     ]
    },
    {
     "name": "stderr",
     "output_type": "stream",
     "text": [
      "2024-03-04 22:58:59.502460: I tensorflow/stream_executor/platform/default/dso_loader.cc:49] Successfully opened dynamic library libcublas.so.10\n"
     ]
    },
    {
     "name": "stdout",
     "output_type": "stream",
     "text": [
      "74/74 [==============================] - 1s 5ms/step - loss: 0.8190 - accuracy: 0.5283 - val_loss: 0.4049 - val_accuracy: 0.8095\n",
      "Epoch 2/1000\n",
      "Epoch 2: Learning rate is 0.009999999776482582.\n",
      "74/74 [==============================] - 0s 2ms/step - loss: 0.4220 - accuracy: 0.7758 - val_loss: 0.3796 - val_accuracy: 0.8129\n",
      "Epoch 3/1000\n",
      "Epoch 3: Learning rate is 0.009999999776482582.\n",
      "74/74 [==============================] - 0s 2ms/step - loss: 0.3723 - accuracy: 0.8215 - val_loss: 0.3716 - val_accuracy: 0.8299\n",
      "Epoch 4/1000\n",
      "Epoch 4: Learning rate is 0.009999999776482582.\n",
      "74/74 [==============================] - 0s 2ms/step - loss: 0.3649 - accuracy: 0.8206 - val_loss: 0.3720 - val_accuracy: 0.8299\n",
      "Epoch 5/1000\n",
      "Epoch 5: Learning rate is 0.009999999776482582.\n",
      "74/74 [==============================] - 0s 2ms/step - loss: 0.3558 - accuracy: 0.8241 - val_loss: 0.3912 - val_accuracy: 0.8129\n",
      "Epoch 6/1000\n",
      "Epoch 6: Learning rate is 0.009999999776482582.\n",
      "74/74 [==============================] - 0s 2ms/step - loss: 0.3611 - accuracy: 0.8386 - val_loss: 0.3823 - val_accuracy: 0.8163\n",
      "Epoch 7/1000\n",
      "Epoch 7: Learning rate is 0.009999999776482582.\n",
      "74/74 [==============================] - 0s 2ms/step - loss: 0.3551 - accuracy: 0.8325 - val_loss: 0.3687 - val_accuracy: 0.8231\n",
      "Epoch 8/1000\n",
      "Epoch 8: Learning rate is 0.009999999776482582.\n",
      "74/74 [==============================] - 0s 2ms/step - loss: 0.3371 - accuracy: 0.8310 - val_loss: 0.3862 - val_accuracy: 0.8231\n",
      "Epoch 9/1000\n",
      "Epoch 9: Learning rate is 0.009999999776482582.\n",
      "74/74 [==============================] - 0s 1ms/step - loss: 0.3439 - accuracy: 0.8289 - val_loss: 0.3651 - val_accuracy: 0.8061\n",
      "Epoch 10/1000\n",
      "Epoch 10: Learning rate is 0.009999999776482582.\n",
      "74/74 [==============================] - 0s 1ms/step - loss: 0.3619 - accuracy: 0.8197 - val_loss: 0.3805 - val_accuracy: 0.8163\n",
      "Epoch 11/1000\n",
      "Epoch 11: Learning rate is 0.009999999776482582.\n",
      "74/74 [==============================] - 0s 2ms/step - loss: 0.3627 - accuracy: 0.8271 - val_loss: 0.3922 - val_accuracy: 0.8231\n",
      "Epoch 12/1000\n",
      "Epoch 12: Learning rate is 0.009999999776482582.\n",
      "74/74 [==============================] - 0s 1ms/step - loss: 0.3502 - accuracy: 0.8143 - val_loss: 0.3757 - val_accuracy: 0.8231\n",
      "Epoch 13/1000\n",
      "Epoch 13: Learning rate is 0.009999999776482582.\n",
      "74/74 [==============================] - 0s 2ms/step - loss: 0.3508 - accuracy: 0.8330 - val_loss: 0.3790 - val_accuracy: 0.8197\n",
      "Epoch 14/1000\n",
      "Epoch 14: Learning rate is 0.009999999776482582.\n",
      "74/74 [==============================] - 0s 2ms/step - loss: 0.3388 - accuracy: 0.8432 - val_loss: 0.3515 - val_accuracy: 0.8197\n",
      "Epoch 15/1000\n",
      "Epoch 15: Learning rate is 0.009999999776482582.\n",
      "74/74 [==============================] - 0s 1ms/step - loss: 0.3165 - accuracy: 0.8506 - val_loss: 0.3619 - val_accuracy: 0.8435\n",
      "Epoch 16/1000\n",
      "Epoch 16: Learning rate is 0.009999999776482582.\n",
      "74/74 [==============================] - 0s 1ms/step - loss: 0.3284 - accuracy: 0.8531 - val_loss: 0.3424 - val_accuracy: 0.8231\n",
      "Epoch 17/1000\n",
      "Epoch 17: Learning rate is 0.009999999776482582.\n",
      "74/74 [==============================] - 0s 1ms/step - loss: 0.3126 - accuracy: 0.8451 - val_loss: 0.3304 - val_accuracy: 0.8299\n",
      "Epoch 18/1000\n",
      "Epoch 18: Learning rate is 0.009999999776482582.\n",
      "74/74 [==============================] - 0s 1ms/step - loss: 0.3247 - accuracy: 0.8438 - val_loss: 0.3388 - val_accuracy: 0.8333\n",
      "Epoch 19/1000\n",
      "Epoch 19: Learning rate is 0.009999999776482582.\n",
      "74/74 [==============================] - 0s 1ms/step - loss: 0.2930 - accuracy: 0.8564 - val_loss: 0.3503 - val_accuracy: 0.8163\n",
      "Epoch 20/1000\n",
      "Epoch 20: Learning rate is 0.009999999776482582.\n",
      "74/74 [==============================] - 0s 1ms/step - loss: 0.2794 - accuracy: 0.8602 - val_loss: 0.3548 - val_accuracy: 0.8299\n",
      "Epoch 21/1000\n",
      "Epoch 21: Learning rate is 0.009999999776482582.\n",
      "74/74 [==============================] - 0s 1ms/step - loss: 0.2974 - accuracy: 0.8401 - val_loss: 0.3427 - val_accuracy: 0.8367\n",
      "Epoch 22/1000\n",
      "Epoch 22: Learning rate is 0.009999999776482582.\n",
      "74/74 [==============================] - 0s 1ms/step - loss: 0.2726 - accuracy: 0.8722 - val_loss: 0.3409 - val_accuracy: 0.8299\n",
      "Epoch 23/1000\n",
      "Epoch 23: Learning rate is 0.009999999776482582.\n",
      "74/74 [==============================] - 0s 1ms/step - loss: 0.3212 - accuracy: 0.8324 - val_loss: 0.3433 - val_accuracy: 0.8435\n",
      "Epoch 24/1000\n",
      "Epoch 24: Learning rate is 0.009999999776482582.\n",
      "74/74 [==============================] - 0s 1ms/step - loss: 0.2639 - accuracy: 0.8740 - val_loss: 0.3562 - val_accuracy: 0.8299\n",
      "Epoch 25/1000\n",
      "Epoch 25: Learning rate is 0.009999999776482582.\n",
      "74/74 [==============================] - 0s 1ms/step - loss: 0.2799 - accuracy: 0.8654 - val_loss: 0.3643 - val_accuracy: 0.8265\n",
      "Epoch 26/1000\n",
      "Epoch 26: Learning rate is 0.009999999776482582.\n",
      "74/74 [==============================] - 0s 1ms/step - loss: 0.2760 - accuracy: 0.8591 - val_loss: 0.3498 - val_accuracy: 0.8299\n",
      "Epoch 27/1000\n",
      "Epoch 27: Learning rate is 0.009999999776482582.\n",
      "74/74 [==============================] - 0s 1ms/step - loss: 0.2899 - accuracy: 0.8479 - val_loss: 0.3603 - val_accuracy: 0.8129\n",
      "\n",
      "Epoch 00027: ReduceLROnPlateau reducing learning rate to 0.008999999798834325.\n",
      "Epoch 28/1000\n",
      "Epoch 28: Learning rate is 0.008999999612569809.\n",
      "74/74 [==============================] - 0s 1ms/step - loss: 0.3118 - accuracy: 0.8432 - val_loss: 0.3681 - val_accuracy: 0.7857\n",
      "Epoch 29/1000\n",
      "Epoch 29: Learning rate is 0.008999999612569809.\n",
      "74/74 [==============================] - 0s 1ms/step - loss: 0.2951 - accuracy: 0.8574 - val_loss: 0.3379 - val_accuracy: 0.8435\n",
      "Epoch 30/1000\n",
      "Epoch 30: Learning rate is 0.008999999612569809.\n",
      "74/74 [==============================] - 0s 1ms/step - loss: 0.2909 - accuracy: 0.8560 - val_loss: 0.3405 - val_accuracy: 0.8129\n",
      "Epoch 31/1000\n",
      "Epoch 31: Learning rate is 0.008999999612569809.\n",
      "74/74 [==============================] - 0s 1ms/step - loss: 0.3082 - accuracy: 0.8311 - val_loss: 0.3483 - val_accuracy: 0.8333\n",
      "Epoch 32/1000\n",
      "Epoch 32: Learning rate is 0.008999999612569809.\n",
      "74/74 [==============================] - 0s 1ms/step - loss: 0.2981 - accuracy: 0.8487 - val_loss: 0.3353 - val_accuracy: 0.8231\n",
      "Epoch 33/1000\n",
      "Epoch 33: Learning rate is 0.008999999612569809.\n",
      "74/74 [==============================] - 0s 2ms/step - loss: 0.2841 - accuracy: 0.8524 - val_loss: 0.3493 - val_accuracy: 0.7993\n",
      "Epoch 34/1000\n",
      "Epoch 34: Learning rate is 0.008999999612569809.\n",
      "74/74 [==============================] - 0s 1ms/step - loss: 0.2479 - accuracy: 0.8926 - val_loss: 0.3454 - val_accuracy: 0.8231\n",
      "Epoch 35/1000\n",
      "Epoch 35: Learning rate is 0.008999999612569809.\n",
      "74/74 [==============================] - 0s 1ms/step - loss: 0.2743 - accuracy: 0.8477 - val_loss: 0.3492 - val_accuracy: 0.8265\n",
      "Epoch 36/1000\n",
      "Epoch 36: Learning rate is 0.008999999612569809.\n",
      "74/74 [==============================] - 0s 1ms/step - loss: 0.2574 - accuracy: 0.8787 - val_loss: 0.3598 - val_accuracy: 0.8197\n",
      "Epoch 37/1000\n",
      "Epoch 37: Learning rate is 0.008999999612569809.\n",
      "74/74 [==============================] - 0s 1ms/step - loss: 0.2653 - accuracy: 0.8684 - val_loss: 0.3571 - val_accuracy: 0.8231\n",
      "\n",
      "Epoch 00037: ReduceLROnPlateau reducing learning rate to 0.008099999651312828.\n",
      "Epoch 38/1000\n",
      "Epoch 38: Learning rate is 0.008099999278783798.\n",
      "74/74 [==============================] - 0s 1ms/step - loss: 0.2538 - accuracy: 0.8748 - val_loss: 0.3730 - val_accuracy: 0.8367\n",
      "Epoch 39/1000\n",
      "Epoch 39: Learning rate is 0.008099999278783798.\n",
      "74/74 [==============================] - 0s 1ms/step - loss: 0.2803 - accuracy: 0.8600 - val_loss: 0.3497 - val_accuracy: 0.8163\n",
      "Epoch 40/1000\n",
      "Epoch 40: Learning rate is 0.008099999278783798.\n",
      "74/74 [==============================] - 0s 2ms/step - loss: 0.2642 - accuracy: 0.8597 - val_loss: 0.3523 - val_accuracy: 0.8333\n",
      "Epoch 41/1000\n",
      "Epoch 41: Learning rate is 0.008099999278783798.\n",
      "74/74 [==============================] - 0s 1ms/step - loss: 0.2400 - accuracy: 0.8803 - val_loss: 0.3872 - val_accuracy: 0.8163\n",
      "Epoch 42/1000\n",
      "Epoch 42: Learning rate is 0.008099999278783798.\n",
      "74/74 [==============================] - 0s 1ms/step - loss: 0.2626 - accuracy: 0.8779 - val_loss: 0.3522 - val_accuracy: 0.8503\n",
      "Epoch 43/1000\n",
      "Epoch 43: Learning rate is 0.008099999278783798.\n",
      "74/74 [==============================] - 0s 1ms/step - loss: 0.2650 - accuracy: 0.8578 - val_loss: 0.3683 - val_accuracy: 0.8333\n",
      "Epoch 44/1000\n",
      "Epoch 44: Learning rate is 0.008099999278783798.\n",
      "74/74 [==============================] - 0s 1ms/step - loss: 0.2571 - accuracy: 0.8736 - val_loss: 0.3570 - val_accuracy: 0.8469\n",
      "Epoch 45/1000\n",
      "Epoch 45: Learning rate is 0.008099999278783798.\n",
      "74/74 [==============================] - 0s 1ms/step - loss: 0.2520 - accuracy: 0.8907 - val_loss: 0.3512 - val_accuracy: 0.8333\n",
      "Epoch 46/1000\n",
      "Epoch 46: Learning rate is 0.008099999278783798.\n",
      "74/74 [==============================] - 0s 1ms/step - loss: 0.2619 - accuracy: 0.8541 - val_loss: 0.3376 - val_accuracy: 0.8435\n",
      "Epoch 47/1000\n",
      "Epoch 47: Learning rate is 0.008099999278783798.\n",
      "74/74 [==============================] - 0s 1ms/step - loss: 0.2420 - accuracy: 0.8654 - val_loss: 0.3633 - val_accuracy: 0.8469\n",
      "\n",
      "Epoch 00047: ReduceLROnPlateau reducing learning rate to 0.007289999350905419.\n",
      "Epoch 48/1000\n",
      "Epoch 48: Learning rate is 0.0072899991646409035.\n",
      "74/74 [==============================] - 0s 1ms/step - loss: 0.2274 - accuracy: 0.8857 - val_loss: 0.3584 - val_accuracy: 0.8435\n",
      "Epoch 49/1000\n",
      "Epoch 49: Learning rate is 0.0072899991646409035.\n",
      "74/74 [==============================] - 0s 1ms/step - loss: 0.2184 - accuracy: 0.8966 - val_loss: 0.4021 - val_accuracy: 0.8571\n",
      "Epoch 50/1000\n",
      "Epoch 50: Learning rate is 0.0072899991646409035.\n",
      "74/74 [==============================] - 0s 1ms/step - loss: 0.2517 - accuracy: 0.8681 - val_loss: 0.3549 - val_accuracy: 0.8605\n",
      "Epoch 51/1000\n",
      "Epoch 51: Learning rate is 0.0072899991646409035.\n",
      "74/74 [==============================] - 0s 1ms/step - loss: 0.2511 - accuracy: 0.8811 - val_loss: 0.3325 - val_accuracy: 0.8435\n",
      "Epoch 52/1000\n",
      "Epoch 52: Learning rate is 0.0072899991646409035.\n",
      "74/74 [==============================] - 0s 1ms/step - loss: 0.2630 - accuracy: 0.8716 - val_loss: 0.3971 - val_accuracy: 0.8537\n",
      "Epoch 53/1000\n",
      "Epoch 53: Learning rate is 0.0072899991646409035.\n",
      "74/74 [==============================] - 0s 1ms/step - loss: 0.2531 - accuracy: 0.8806 - val_loss: 0.3985 - val_accuracy: 0.8571\n",
      "Epoch 54/1000\n",
      "Epoch 54: Learning rate is 0.0072899991646409035.\n",
      "74/74 [==============================] - 0s 1ms/step - loss: 0.2384 - accuracy: 0.8870 - val_loss: 0.3760 - val_accuracy: 0.8605\n",
      "Epoch 55/1000\n",
      "Epoch 55: Learning rate is 0.0072899991646409035.\n",
      "74/74 [==============================] - 0s 1ms/step - loss: 0.2343 - accuracy: 0.8873 - val_loss: 0.3876 - val_accuracy: 0.8367\n",
      "Epoch 56/1000\n",
      "Epoch 56: Learning rate is 0.0072899991646409035.\n",
      "74/74 [==============================] - 0s 1ms/step - loss: 0.2434 - accuracy: 0.8821 - val_loss: 0.3774 - val_accuracy: 0.8469\n",
      "Epoch 57/1000\n",
      "Epoch 57: Learning rate is 0.0072899991646409035.\n",
      "74/74 [==============================] - 0s 1ms/step - loss: 0.2176 - accuracy: 0.9003 - val_loss: 0.3763 - val_accuracy: 0.8537\n",
      "\n",
      "Epoch 00057: ReduceLROnPlateau reducing learning rate to 0.006560999248176813.\n",
      "Epoch 58/1000\n",
      "Epoch 58: Learning rate is 0.006560999434441328.\n",
      "74/74 [==============================] - 0s 1ms/step - loss: 0.2165 - accuracy: 0.8980 - val_loss: 0.4266 - val_accuracy: 0.8469\n",
      "Epoch 59/1000\n",
      "Epoch 59: Learning rate is 0.006560999434441328.\n",
      "74/74 [==============================] - 0s 1ms/step - loss: 0.2354 - accuracy: 0.8986 - val_loss: 0.4094 - val_accuracy: 0.8469\n",
      "Epoch 60/1000\n",
      "Epoch 60: Learning rate is 0.006560999434441328.\n",
      "74/74 [==============================] - 0s 1ms/step - loss: 0.1987 - accuracy: 0.9069 - val_loss: 0.3645 - val_accuracy: 0.8503\n",
      "Epoch 61/1000\n",
      "Epoch 61: Learning rate is 0.006560999434441328.\n",
      "74/74 [==============================] - 0s 1ms/step - loss: 0.2378 - accuracy: 0.8814 - val_loss: 0.4174 - val_accuracy: 0.8503\n",
      "Epoch 62/1000\n",
      "Epoch 62: Learning rate is 0.006560999434441328.\n",
      "74/74 [==============================] - 0s 1ms/step - loss: 0.2373 - accuracy: 0.8915 - val_loss: 0.3839 - val_accuracy: 0.8537\n",
      "Epoch 63/1000\n",
      "Epoch 63: Learning rate is 0.006560999434441328.\n",
      "74/74 [==============================] - 0s 1ms/step - loss: 0.2343 - accuracy: 0.8862 - val_loss: 0.3793 - val_accuracy: 0.8503\n",
      "Epoch 64/1000\n",
      "Epoch 64: Learning rate is 0.006560999434441328.\n",
      "74/74 [==============================] - 0s 1ms/step - loss: 0.2254 - accuracy: 0.8893 - val_loss: 0.4050 - val_accuracy: 0.8503\n",
      "Epoch 65/1000\n",
      "Epoch 65: Learning rate is 0.006560999434441328.\n",
      "74/74 [==============================] - 0s 1ms/step - loss: 0.2253 - accuracy: 0.9051 - val_loss: 0.4020 - val_accuracy: 0.8401\n",
      "Epoch 66/1000\n",
      "Epoch 66: Learning rate is 0.006560999434441328.\n",
      "74/74 [==============================] - 0s 1ms/step - loss: 0.2322 - accuracy: 0.8903 - val_loss: 0.3794 - val_accuracy: 0.8469\n",
      "Epoch 67/1000\n",
      "Epoch 67: Learning rate is 0.006560999434441328.\n",
      "74/74 [==============================] - 0s 1ms/step - loss: 0.1981 - accuracy: 0.9183 - val_loss: 0.3947 - val_accuracy: 0.8673\n",
      "\n",
      "Epoch 00067: ReduceLROnPlateau reducing learning rate to 0.005904899490997195.\n",
      "Epoch 68/1000\n",
      "Epoch 68: Learning rate is 0.0059048994444310665.\n",
      "74/74 [==============================] - 0s 1ms/step - loss: 0.2159 - accuracy: 0.8939 - val_loss: 0.4047 - val_accuracy: 0.8571\n",
      "Epoch 69/1000\n",
      "Epoch 69: Learning rate is 0.0059048994444310665.\n",
      "74/74 [==============================] - 0s 1ms/step - loss: 0.2138 - accuracy: 0.9011 - val_loss: 0.3805 - val_accuracy: 0.8605\n",
      "Epoch 70/1000\n",
      "Epoch 70: Learning rate is 0.0059048994444310665.\n",
      "74/74 [==============================] - 0s 1ms/step - loss: 0.1953 - accuracy: 0.9137 - val_loss: 0.3981 - val_accuracy: 0.8401\n",
      "Epoch 71/1000\n",
      "Epoch 71: Learning rate is 0.0059048994444310665.\n",
      "74/74 [==============================] - 0s 1ms/step - loss: 0.2191 - accuracy: 0.8899 - val_loss: 0.3726 - val_accuracy: 0.8639\n",
      "Epoch 72/1000\n",
      "Epoch 72: Learning rate is 0.0059048994444310665.\n",
      "74/74 [==============================] - 0s 1ms/step - loss: 0.1973 - accuracy: 0.9212 - val_loss: 0.4274 - val_accuracy: 0.8469\n",
      "Epoch 73/1000\n",
      "Epoch 73: Learning rate is 0.0059048994444310665.\n",
      "74/74 [==============================] - 0s 1ms/step - loss: 0.2116 - accuracy: 0.9006 - val_loss: 0.3621 - val_accuracy: 0.8401\n",
      "Epoch 74/1000\n",
      "Epoch 74: Learning rate is 0.0059048994444310665.\n",
      "74/74 [==============================] - 0s 1ms/step - loss: 0.2038 - accuracy: 0.9006 - val_loss: 0.4685 - val_accuracy: 0.8707\n",
      "Epoch 75/1000\n",
      "Epoch 75: Learning rate is 0.0059048994444310665.\n",
      "74/74 [==============================] - 0s 1ms/step - loss: 0.2108 - accuracy: 0.9105 - val_loss: 0.5123 - val_accuracy: 0.8367\n",
      "Epoch 76/1000\n",
      "Epoch 76: Learning rate is 0.0059048994444310665.\n",
      "74/74 [==============================] - 0s 1ms/step - loss: 0.2377 - accuracy: 0.8786 - val_loss: 0.4175 - val_accuracy: 0.8810\n",
      "Epoch 77/1000\n",
      "Epoch 77: Learning rate is 0.0059048994444310665.\n",
      "74/74 [==============================] - 0s 1ms/step - loss: 0.1949 - accuracy: 0.9113 - val_loss: 0.4061 - val_accuracy: 0.8844\n",
      "\n",
      "Epoch 00077: ReduceLROnPlateau reducing learning rate to 0.00531440949998796.\n",
      "Epoch 78/1000\n",
      "Epoch 78: Learning rate is 0.0053144097328186035.\n",
      "74/74 [==============================] - 0s 1ms/step - loss: 0.2073 - accuracy: 0.8967 - val_loss: 0.4461 - val_accuracy: 0.8605\n",
      "Epoch 79/1000\n",
      "Epoch 79: Learning rate is 0.0053144097328186035.\n",
      "74/74 [==============================] - 0s 2ms/step - loss: 0.2100 - accuracy: 0.9021 - val_loss: 0.4182 - val_accuracy: 0.8673\n",
      "Epoch 80/1000\n",
      "Epoch 80: Learning rate is 0.0053144097328186035.\n",
      "74/74 [==============================] - 0s 1ms/step - loss: 0.2098 - accuracy: 0.9041 - val_loss: 0.4312 - val_accuracy: 0.8810\n",
      "Epoch 81/1000\n",
      "Epoch 81: Learning rate is 0.0053144097328186035.\n",
      "74/74 [==============================] - 0s 1ms/step - loss: 0.1923 - accuracy: 0.9161 - val_loss: 0.4968 - val_accuracy: 0.8469\n",
      "Epoch 82/1000\n",
      "Epoch 82: Learning rate is 0.0053144097328186035.\n",
      "74/74 [==============================] - 0s 1ms/step - loss: 0.2284 - accuracy: 0.8913 - val_loss: 0.4610 - val_accuracy: 0.8605\n",
      "Epoch 83/1000\n",
      "Epoch 83: Learning rate is 0.0053144097328186035.\n",
      "74/74 [==============================] - 0s 1ms/step - loss: 0.1905 - accuracy: 0.9173 - val_loss: 0.4732 - val_accuracy: 0.8741\n",
      "Epoch 84/1000\n",
      "Epoch 84: Learning rate is 0.0053144097328186035.\n",
      "74/74 [==============================] - 0s 1ms/step - loss: 0.1926 - accuracy: 0.9156 - val_loss: 0.4437 - val_accuracy: 0.8844\n",
      "Epoch 85/1000\n",
      "Epoch 85: Learning rate is 0.0053144097328186035.\n",
      "74/74 [==============================] - 0s 1ms/step - loss: 0.1594 - accuracy: 0.9305 - val_loss: 0.4965 - val_accuracy: 0.8605\n",
      "Epoch 86/1000\n",
      "Epoch 86: Learning rate is 0.0053144097328186035.\n",
      "74/74 [==============================] - 0s 1ms/step - loss: 0.1777 - accuracy: 0.9260 - val_loss: 0.4910 - val_accuracy: 0.8741\n",
      "Epoch 87/1000\n",
      "Epoch 87: Learning rate is 0.0053144097328186035.\n",
      "74/74 [==============================] - 0s 1ms/step - loss: 0.1937 - accuracy: 0.9195 - val_loss: 0.4300 - val_accuracy: 0.8776\n",
      "\n",
      "Epoch 00087: ReduceLROnPlateau reducing learning rate to 0.004782968759536744.\n",
      "Epoch 88/1000\n",
      "Epoch 88: Learning rate is 0.004782968666404486.\n",
      "74/74 [==============================] - 0s 1ms/step - loss: 0.2003 - accuracy: 0.9113 - val_loss: 0.4688 - val_accuracy: 0.8639\n",
      "Epoch 89/1000\n",
      "Epoch 89: Learning rate is 0.004782968666404486.\n",
      "74/74 [==============================] - 0s 1ms/step - loss: 0.1992 - accuracy: 0.9134 - val_loss: 0.4517 - val_accuracy: 0.8844\n",
      "Epoch 90/1000\n",
      "Epoch 90: Learning rate is 0.004782968666404486.\n",
      "74/74 [==============================] - 0s 1ms/step - loss: 0.1768 - accuracy: 0.9171 - val_loss: 0.4448 - val_accuracy: 0.8810\n",
      "Epoch 91/1000\n",
      "Epoch 91: Learning rate is 0.004782968666404486.\n",
      "74/74 [==============================] - 0s 1ms/step - loss: 0.1630 - accuracy: 0.9300 - val_loss: 0.4540 - val_accuracy: 0.8776\n",
      "Epoch 92/1000\n",
      "Epoch 92: Learning rate is 0.004782968666404486.\n",
      "74/74 [==============================] - 0s 1ms/step - loss: 0.1704 - accuracy: 0.9258 - val_loss: 0.4868 - val_accuracy: 0.8741\n",
      "Epoch 93/1000\n",
      "Epoch 93: Learning rate is 0.004782968666404486.\n",
      "74/74 [==============================] - 0s 1ms/step - loss: 0.1809 - accuracy: 0.9242 - val_loss: 0.5026 - val_accuracy: 0.8776\n",
      "Epoch 94/1000\n",
      "Epoch 94: Learning rate is 0.004782968666404486.\n",
      "74/74 [==============================] - 0s 1ms/step - loss: 0.1876 - accuracy: 0.9255 - val_loss: 0.5151 - val_accuracy: 0.8776\n",
      "Epoch 95/1000\n",
      "Epoch 95: Learning rate is 0.004782968666404486.\n",
      "74/74 [==============================] - 0s 1ms/step - loss: 0.1778 - accuracy: 0.9212 - val_loss: 0.4837 - val_accuracy: 0.8844\n",
      "Epoch 96/1000\n",
      "Epoch 96: Learning rate is 0.004782968666404486.\n",
      "74/74 [==============================] - 0s 1ms/step - loss: 0.1904 - accuracy: 0.9299 - val_loss: 0.4825 - val_accuracy: 0.8673\n",
      "Epoch 97/1000\n",
      "Epoch 97: Learning rate is 0.004782968666404486.\n",
      "74/74 [==============================] - 0s 1ms/step - loss: 0.1883 - accuracy: 0.9257 - val_loss: 0.4915 - val_accuracy: 0.8844\n",
      "\n",
      "Epoch 00097: ReduceLROnPlateau reducing learning rate to 0.0043046717997640375.\n",
      "Epoch 98/1000\n",
      "Epoch 98: Learning rate is 0.004304671660065651.\n",
      "74/74 [==============================] - 0s 1ms/step - loss: 0.1876 - accuracy: 0.9228 - val_loss: 0.4866 - val_accuracy: 0.8946\n",
      "Epoch 99/1000\n",
      "Epoch 99: Learning rate is 0.004304671660065651.\n",
      "74/74 [==============================] - 0s 1ms/step - loss: 0.1897 - accuracy: 0.9246 - val_loss: 0.4938 - val_accuracy: 0.8741\n",
      "Epoch 100/1000\n",
      "Epoch 100: Learning rate is 0.004304671660065651.\n",
      "74/74 [==============================] - 0s 1ms/step - loss: 0.1908 - accuracy: 0.9224 - val_loss: 0.4960 - val_accuracy: 0.8707\n",
      "Epoch 101/1000\n",
      "Epoch 101: Learning rate is 0.004304671660065651.\n",
      "74/74 [==============================] - 0s 1ms/step - loss: 0.1928 - accuracy: 0.9180 - val_loss: 0.4821 - val_accuracy: 0.8844\n",
      "Epoch 102/1000\n",
      "Epoch 102: Learning rate is 0.004304671660065651.\n",
      "74/74 [==============================] - 0s 1ms/step - loss: 0.1931 - accuracy: 0.9276 - val_loss: 0.4750 - val_accuracy: 0.8707\n",
      "Epoch 103/1000\n",
      "Epoch 103: Learning rate is 0.004304671660065651.\n",
      "74/74 [==============================] - 0s 1ms/step - loss: 0.1706 - accuracy: 0.9399 - val_loss: 0.5236 - val_accuracy: 0.8810\n",
      "Epoch 104/1000\n",
      "Epoch 104: Learning rate is 0.004304671660065651.\n",
      "74/74 [==============================] - 0s 1ms/step - loss: 0.2114 - accuracy: 0.8917 - val_loss: 0.5255 - val_accuracy: 0.8639\n",
      "Epoch 105/1000\n",
      "Epoch 105: Learning rate is 0.004304671660065651.\n",
      "74/74 [==============================] - 0s 1ms/step - loss: 0.1775 - accuracy: 0.9277 - val_loss: 0.5302 - val_accuracy: 0.8673\n",
      "Epoch 106/1000\n",
      "Epoch 106: Learning rate is 0.004304671660065651.\n",
      "74/74 [==============================] - 0s 1ms/step - loss: 0.1996 - accuracy: 0.9086 - val_loss: 0.5245 - val_accuracy: 0.8673\n",
      "Epoch 107/1000\n",
      "Epoch 107: Learning rate is 0.004304671660065651.\n",
      "74/74 [==============================] - 0s 1ms/step - loss: 0.1751 - accuracy: 0.9325 - val_loss: 0.5228 - val_accuracy: 0.8673\n",
      "\n",
      "Epoch 00107: ReduceLROnPlateau reducing learning rate to 0.0038742044940590858.\n",
      "Epoch 108/1000\n",
      "Epoch 108: Learning rate is 0.0038742045871913433.\n",
      "74/74 [==============================] - 0s 1ms/step - loss: 0.1937 - accuracy: 0.9061 - val_loss: 0.5310 - val_accuracy: 0.8707\n",
      "Epoch 109/1000\n",
      "Epoch 109: Learning rate is 0.0038742045871913433.\n",
      "74/74 [==============================] - 0s 1ms/step - loss: 0.1816 - accuracy: 0.9181 - val_loss: 0.5291 - val_accuracy: 0.8741\n",
      "Epoch 110/1000\n",
      "Epoch 110: Learning rate is 0.0038742045871913433.\n",
      "74/74 [==============================] - 0s 1ms/step - loss: 0.1824 - accuracy: 0.9208 - val_loss: 0.5335 - val_accuracy: 0.8673\n",
      "Epoch 111/1000\n",
      "Epoch 111: Learning rate is 0.0038742045871913433.\n",
      "74/74 [==============================] - 0s 1ms/step - loss: 0.1890 - accuracy: 0.9161 - val_loss: 0.5205 - val_accuracy: 0.8707\n",
      "Epoch 112/1000\n",
      "Epoch 112: Learning rate is 0.0038742045871913433.\n",
      "74/74 [==============================] - 0s 1ms/step - loss: 0.1901 - accuracy: 0.9224 - val_loss: 0.5697 - val_accuracy: 0.8571\n",
      "Epoch 113/1000\n",
      "Epoch 113: Learning rate is 0.0038742045871913433.\n",
      "74/74 [==============================] - 0s 1ms/step - loss: 0.2122 - accuracy: 0.9006 - val_loss: 0.5132 - val_accuracy: 0.8673\n",
      "Epoch 114/1000\n",
      "Epoch 114: Learning rate is 0.0038742045871913433.\n",
      "74/74 [==============================] - 0s 1ms/step - loss: 0.1926 - accuracy: 0.9167 - val_loss: 0.5408 - val_accuracy: 0.8844\n",
      "Epoch 115/1000\n",
      "Epoch 115: Learning rate is 0.0038742045871913433.\n",
      "74/74 [==============================] - 0s 1ms/step - loss: 0.1967 - accuracy: 0.9237 - val_loss: 0.5616 - val_accuracy: 0.8503\n",
      "Epoch 116/1000\n",
      "Epoch 116: Learning rate is 0.0038742045871913433.\n",
      "74/74 [==============================] - 0s 1ms/step - loss: 0.2075 - accuracy: 0.9111 - val_loss: 0.5368 - val_accuracy: 0.8776\n",
      "Epoch 117/1000\n",
      "Epoch 117: Learning rate is 0.0038742045871913433.\n",
      "74/74 [==============================] - 0s 2ms/step - loss: 0.1576 - accuracy: 0.9353 - val_loss: 0.5355 - val_accuracy: 0.8741\n",
      "Restoring model weights from the end of the best epoch.\n",
      "\n",
      "Epoch 00117: ReduceLROnPlateau reducing learning rate to 0.003486784128472209.\n",
      "Epoch 00117: early stopping\n"
     ]
    }
   ],
   "source": [
    "# Pass the callback to the fit method\n",
    "history = model.fit(\n",
    "    X_train,\n",
    "    y_train,\n",
    "    validation_split=0.2,\n",
    "    epochs=1000,\n",
    "    batch_size=16,\n",
    "    callbacks=callbacks  # include it here\n",
    ")"
   ],
   "metadata": {
    "collapsed": false,
    "ExecuteTime": {
     "end_time": "2024-03-04T22:59:12.449835Z",
     "start_time": "2024-03-04T22:58:59.237009Z"
    }
   },
   "id": "bd3f41f1f688e43"
  },
  {
   "cell_type": "code",
   "execution_count": 8,
   "outputs": [
    {
     "name": "stdout",
     "output_type": "stream",
     "text": [
      "12/12 [==============================] - 0s 2ms/step - loss: 0.3844 - accuracy: 0.8202\n",
      "Test accuracy: 0.8201634883880615\n",
      "Test loss: 0.38441339135169983\n"
     ]
    }
   ],
   "source": [
    "# Evaluating the model\n",
    "test_loss, test_acc = model.evaluate(X_test, y_test)\n",
    "print('Test accuracy:', test_acc)\n",
    "print('Test loss:', test_loss)"
   ],
   "metadata": {
    "collapsed": false,
    "ExecuteTime": {
     "end_time": "2024-03-04T22:59:17.671052Z",
     "start_time": "2024-03-04T22:59:17.618103Z"
    }
   },
   "id": "initial_id"
  },
  {
   "cell_type": "code",
   "outputs": [
    {
     "data": {
      "text/plain": "array([[154,   0,   0],\n       [  4,  19,  54],\n       [  0,   8, 128]])"
     },
     "execution_count": 9,
     "metadata": {},
     "output_type": "execute_result"
    }
   ],
   "source": [
    "#confusion matrix\n",
    "from sklearn.metrics import confusion_matrix\n",
    "import numpy as np\n",
    "y_pred = model.predict(X_test)\n",
    "y_pred = np.argmax(y_pred, axis=1)\n",
    "y_test = np.argmax(y_test, axis=1)\n",
    "confusion_matrix(y_test, y_pred)"
   ],
   "metadata": {
    "collapsed": false,
    "ExecuteTime": {
     "end_time": "2024-03-04T22:59:20.241800Z",
     "start_time": "2024-03-04T22:59:20.172726Z"
    }
   },
   "id": "c057b29eba7b9144",
   "execution_count": 9
  },
  {
   "cell_type": "code",
   "execution_count": 10,
   "outputs": [
    {
     "data": {
      "text/plain": "<Figure size 640x480 with 1 Axes>",
      "image/png": "[encoded data removed]"
     },
     "metadata": {},
     "output_type": "display_data"
    },
    {
     "data": {
      "text/plain": "<Figure size 640x480 with 1 Axes>",
      "image/png": "[encoded data removed]"
     },
     "metadata": {},
     "output_type": "display_data"
    },
    {
     "data": {
      "text/plain": "<Figure size 640x480 with 1 Axes>",
      "image/png": "[encoded data removed]"
     },
     "metadata": {},
     "output_type": "display_data"
    }
   ],
   "source": [
    "# Plotting the training and validation loss\n",
    "import matplotlib.pyplot as plt\n",
    "\n",
    "plt.plot(history.history['loss'])\n",
    "plt.plot(history.history['val_loss'])\n",
    "plt.title('Model loss')\n",
    "plt.ylabel('Loss')\n",
    "plt.xlabel('Epochs')\n",
    "plt.legend(['Train', 'Validation'], loc='upper right')\n",
    "plt.show()\n",
    "\n",
    "plt.plot(history.history['accuracy'])\n",
    "plt.plot(history.history['val_accuracy'])\n",
    "plt.title('Model accuracy')\n",
    "plt.ylabel('Accuracy')\n",
    "plt.xlabel('Epochs')\n",
    "plt.legend(['Train', 'Validation'], loc='lower right')\n",
    "plt.show()\n",
    "\n",
    "# Plotting\n",
    "# plt.figure(figsize=(8, 8))\n",
    "plt.plot(lr_tracker.learning_rates)\n",
    "plt.title(\"Learning Rate over Epochs\")\n",
    "plt.xlabel(\"Epoch\")\n",
    "plt.ylabel(\"Learning Rate\")\n",
    "plt.grid(True)"
   ],
   "metadata": {
    "collapsed": false,
    "ExecuteTime": {
     "end_time": "2024-03-04T22:59:25.603882Z",
     "start_time": "2024-03-04T22:59:25.068194Z"
    }
   },
   "id": "1d82547b5da98e0"
  },
  {
   "cell_type": "code",
   "execution_count": 11,
   "outputs": [
    {
     "name": "stderr",
     "output_type": "stream",
     "text": [
      "2024-03-04 22:59:31.667647: W tensorflow/python/util/util.cc:348] Sets are not currently considered sequences, but this may change in the future, so consider avoiding using them.\n"
     ]
    },
    {
     "name": "stdout",
     "output_type": "stream",
     "text": [
      "INFO:tensorflow:Assets written to: /home/adam/FurtherResearch/Model/Exoskeleton/FeatureReduced/exo_model_top10/assets\n"
     ]
    }
   ],
   "source": [
    "# Save the model\n",
    "tf.keras.models.save_model(model, '/home/adam/FurtherResearch/Model/Exoskeleton/FeatureReduced/exo_model_top10')"
   ],
   "metadata": {
    "collapsed": false,
    "ExecuteTime": {
     "end_time": "2024-03-04T22:59:31.935120Z",
     "start_time": "2024-03-04T22:59:31.574287Z"
    }
   },
   "id": "971afc8f1ecd8193"
  },
  {
   "cell_type": "code",
   "execution_count": 12,
   "outputs": [
    {
     "name": "stdout",
     "output_type": "stream",
     "text": [
      "Model: \"sequential\"\n",
      "_________________________________________________________________\n",
      "Layer (type)                 Output Shape              Param #   \n",
      "=================================================================\n",
      "dense_0 (Dense)              (None, 32)                352       \n",
      "_________________________________________________________________\n",
      "dense_1 (Dense)              (None, 16)                528       \n",
      "_________________________________________________________________\n",
      "dense_2 (Dense)              (None, 3)                 51        \n",
      "_________________________________________________________________\n",
      "dense (Dense)                (None, 3)                 12        \n",
      "=================================================================\n",
      "Total params: 943\n",
      "Trainable params: 943\n",
      "Non-trainable params: 0\n",
      "_________________________________________________________________\n"
     ]
    }
   ],
   "source": [
    "from tensorflow.keras.models import Model\n",
    "\n",
    "model.summary()"
   ],
   "metadata": {
    "collapsed": false,
    "ExecuteTime": {
     "end_time": "2024-03-04T22:59:33.289714Z",
     "start_time": "2024-03-04T22:59:33.286757Z"
    }
   },
   "id": "e9eb90f45dcaeaf4"
  },
  {
   "cell_type": "code",
   "outputs": [
    {
     "name": "stdout",
     "output_type": "stream",
     "text": [
      "Model: \"model\"\n",
      "_________________________________________________________________\n",
      "Layer (type)                 Output Shape              Param #   \n",
      "=================================================================\n",
      "dense_0_input (InputLayer)   [(None, 10)]              0         \n",
      "_________________________________________________________________\n",
      "dense_0 (Dense)              (None, 32)                352       \n",
      "_________________________________________________________________\n",
      "dense_1 (Dense)              (None, 16)                528       \n",
      "_________________________________________________________________\n",
      "dense_2 (Dense)              (None, 3)                 51        \n",
      "=================================================================\n",
      "Total params: 931\n",
      "Trainable params: 931\n",
      "Non-trainable params: 0\n",
      "_________________________________________________________________\n"
     ]
    }
   ],
   "source": [
    "# Assume 'original_model' is your pre-trained model\n",
    "model_without_softmax = Model(inputs=model.input, \n",
    "                              outputs=model.get_layer(\"dense_2\").output)\n",
    "model_without_softmax.summary()\n"
   ],
   "metadata": {
    "collapsed": false,
    "ExecuteTime": {
     "end_time": "2024-03-04T22:59:35.087957Z",
     "start_time": "2024-03-04T22:59:35.082223Z"
    }
   },
   "id": "9445a32c75176e7b",
   "execution_count": 13
  },
  {
   "cell_type": "code",
   "execution_count": 14,
   "outputs": [
    {
     "name": "stdout",
     "output_type": "stream",
     "text": [
      "INFO:tensorflow:Assets written to: /home/adam/FurtherResearch/Model/Exoskeleton/FeatureReduced/exo_model_top10_without_softmax/assets\n"
     ]
    }
   ],
   "source": [
    "# Save the model\n",
    "tf.keras.models.save_model(model_without_softmax, '/home/adam/FurtherResearch/Model/Exoskeleton/FeatureReduced/exo_model_top10_without_softmax')"
   ],
   "metadata": {
    "collapsed": false,
    "ExecuteTime": {
     "end_time": "2024-03-04T22:59:56.405074Z",
     "start_time": "2024-03-04T22:59:56.120994Z"
    }
   },
   "id": "61da15b78744777b"
  },
  {
   "cell_type": "code",
   "outputs": [],
   "source": [],
   "metadata": {
    "collapsed": false
   },
   "id": "3385f913d0893823"
  }
 ],
 "metadata": {
  "kernelspec": {
   "display_name": "Python 3",
   "language": "python",
   "name": "python3"
  },
  "language_info": {
   "codemirror_mode": {
    "name": "ipython",
    "version": 2
   },
   "file_extension": ".py",
   "mimetype": "text/x-python",
   "name": "python",
   "nbconvert_exporter": "python",
   "pygments_lexer": "ipython2",
   "version": "2.7.6"
  }
 },
 "nbformat": 4,
 "nbformat_minor": 5
}
