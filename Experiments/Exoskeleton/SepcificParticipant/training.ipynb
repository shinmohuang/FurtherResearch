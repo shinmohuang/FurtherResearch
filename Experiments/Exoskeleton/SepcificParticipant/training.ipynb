{
 "cells": [
  {
   "cell_type": "code",
   "outputs": [
    {
     "name": "stdout",
     "output_type": "stream",
     "text": [
      "   IMU1_GyroX_Mean  IMU1_GyroX_StdDev  IMU1_GyroX_RMS  IMU1_GyroX_Amp  \\\n",
      "0       100.000000         100.000000      100.000000      100.000000   \n",
      "1         7.026579         198.259304      199.601392      184.295571   \n",
      "2     -7082.108609         568.164429      593.320009      727.671625   \n",
      "3      3618.245437        1537.254629     1540.972428     1855.355638   \n",
      "4     -1539.312493        2426.076723     2428.697877     2399.474310   \n",
      "\n",
      "   IMU1_GyroY_Mean  IMU1_GyroY_StdDev  IMU1_GyroY_RMS  IMU1_GyroY_Amp  \\\n",
      "0       100.000000         100.000000      100.000000      100.000000   \n",
      "1       610.020298         175.334986      178.265684      192.958297   \n",
      "2      9456.718907         610.892516      672.664608      744.159826   \n",
      "3      4828.685519        2177.145176     2187.176663     2466.309254   \n",
      "4     -5421.387863        4325.733672     4335.967864     4673.869608   \n",
      "\n",
      "   IMU1_GyroZ_Mean  IMU1_GyroZ_StdDev  ...  EMG_EMG_Amp  EMG_EMG_MNF  \\\n",
      "0       100.000000         100.000000  ...   100.000000     0.293036   \n",
      "1       -30.466274         188.025193  ...    81.656880     0.142451   \n",
      "2      -744.252427         567.506829  ...   514.609792     0.385845   \n",
      "3      -638.476505        1500.476246  ...   968.529167     0.426387   \n",
      "4       173.236814        1786.550574  ...  3969.429341     0.501780   \n",
      "\n",
      "   EMG_EMG_MDF  EMG_EMG_IMNF   Age  Height  Weight        BMI  Fatigue_level  \\\n",
      "0     0.230724     22.334139  24.0   167.0    76.0  27.250887              1   \n",
      "1     0.181664      8.384712  24.0   167.0    76.0  27.250887              1   \n",
      "2     0.234438      8.372799  24.0   167.0    76.0  27.250887              1   \n",
      "3     0.192446      7.684195  24.0   167.0    76.0  27.250887              1   \n",
      "4     0.220765      7.496121  24.0   167.0    76.0  27.250887              1   \n",
      "\n",
      "   Subject  \n",
      "0        1  \n",
      "1        1  \n",
      "2        1  \n",
      "3        1  \n",
      "4        1  \n",
      "\n",
      "[5 rows x 69 columns]\n"
     ]
    }
   ],
   "source": [
    "import pandas as pd\n",
    "\n",
    "# 读取原始CSV文件\n",
    "original_df = pd.read_csv('/home/adam/FurtherResearch/Dataset/Exoskeleton/Original.csv')\n",
    "\n",
    "# 显示前几行以了解其结构\n",
    "print(original_df.head())\n"
   ],
   "metadata": {
    "collapsed": false,
    "ExecuteTime": {
     "end_time": "2024-02-16T22:14:17.109018715Z",
     "start_time": "2024-02-16T22:14:16.419169872Z"
    }
   },
   "id": "113125776582355a",
   "execution_count": 1
  },
  {
   "cell_type": "code",
   "outputs": [
    {
     "name": "stdout",
     "output_type": "stream",
     "text": [
      "Saved: /home/adam/FurtherResearch/Dataset/Exoskeleton/Specific/Subject_1.csv\n",
      "Saved: /home/adam/FurtherResearch/Dataset/Exoskeleton/Specific/Subject_2.csv\n",
      "Saved: /home/adam/FurtherResearch/Dataset/Exoskeleton/Specific/Subject_3.csv\n",
      "Saved: /home/adam/FurtherResearch/Dataset/Exoskeleton/Specific/Subject_4.csv\n",
      "Saved: /home/adam/FurtherResearch/Dataset/Exoskeleton/Specific/Subject_5.csv\n",
      "Saved: /home/adam/FurtherResearch/Dataset/Exoskeleton/Specific/Subject_6.csv\n",
      "Saved: /home/adam/FurtherResearch/Dataset/Exoskeleton/Specific/Subject_7.csv\n",
      "Saved: /home/adam/FurtherResearch/Dataset/Exoskeleton/Specific/Subject_8.csv\n",
      "Saved: /home/adam/FurtherResearch/Dataset/Exoskeleton/Specific/Subject_9.csv\n",
      "Saved: /home/adam/FurtherResearch/Dataset/Exoskeleton/Specific/Subject_10.csv\n",
      "Saved: /home/adam/FurtherResearch/Dataset/Exoskeleton/Specific/Subject_11.csv\n",
      "Saved: /home/adam/FurtherResearch/Dataset/Exoskeleton/Specific/Subject_12.csv\n",
      "Saved: /home/adam/FurtherResearch/Dataset/Exoskeleton/Specific/Subject_13.csv\n",
      "Saved: /home/adam/FurtherResearch/Dataset/Exoskeleton/Specific/Subject_14.csv\n",
      "Saved: /home/adam/FurtherResearch/Dataset/Exoskeleton/Specific/Subject_15.csv\n",
      "Saved: /home/adam/FurtherResearch/Dataset/Exoskeleton/Specific/Subject_16.csv\n",
      "Saved: /home/adam/FurtherResearch/Dataset/Exoskeleton/Specific/Subject_17.csv\n",
      "Saved: /home/adam/FurtherResearch/Dataset/Exoskeleton/Specific/Subject_18.csv\n",
      "Saved: /home/adam/FurtherResearch/Dataset/Exoskeleton/Specific/Subject_19.csv\n",
      "Saved: /home/adam/FurtherResearch/Dataset/Exoskeleton/Specific/Subject_20.csv\n",
      "Saved: /home/adam/FurtherResearch/Dataset/Exoskeleton/Specific/Subject_21.csv\n",
      "Saved: /home/adam/FurtherResearch/Dataset/Exoskeleton/Specific/Subject_22.csv\n",
      "Saved: /home/adam/FurtherResearch/Dataset/Exoskeleton/Specific/Subject_23.csv\n",
      "Saved: /home/adam/FurtherResearch/Dataset/Exoskeleton/Specific/Subject_24.csv\n",
      "Saved: /home/adam/FurtherResearch/Dataset/Exoskeleton/Specific/Subject_25.csv\n",
      "Saved: /home/adam/FurtherResearch/Dataset/Exoskeleton/Specific/Subject_26.csv\n",
      "Saved: /home/adam/FurtherResearch/Dataset/Exoskeleton/Specific/Subject_27.csv\n",
      "Saved: /home/adam/FurtherResearch/Dataset/Exoskeleton/Specific/Subject_28.csv\n",
      "Saved: /home/adam/FurtherResearch/Dataset/Exoskeleton/Specific/Subject_29.csv\n",
      "Saved: /home/adam/FurtherResearch/Dataset/Exoskeleton/Specific/Subject_30.csv\n"
     ]
    }
   ],
   "source": [
    "# 移除Subject列为空的行\n",
    "cleaned_df = original_df.dropna(subset=['Subject'])\n",
    "\n",
    "# 将Subject列转换为整数，确保文件命名一致\n",
    "cleaned_df['Subject'] = cleaned_df['Subject'].astype(int)\n",
    "\n",
    "# 为每个参试者创建和保存一个新的CSV文件\n",
    "for subject_id, data in cleaned_df.groupby('Subject'):\n",
    "    # 创建文件名\n",
    "    filename = f'/home/adam/FurtherResearch/Dataset/Exoskeleton/Specific/Subject_{subject_id}.csv'\n",
    "    # 保存CSV文件\n",
    "    data.to_csv(filename, index=False)\n",
    "    print(f'Saved: {filename}')\n"
   ],
   "metadata": {
    "collapsed": false,
    "ExecuteTime": {
     "end_time": "2024-02-16T22:15:03.322461388Z",
     "start_time": "2024-02-16T22:15:03.096962396Z"
    }
   },
   "id": "b6d03567abfea4e0",
   "execution_count": 2
  },
  {
   "cell_type": "code",
   "execution_count": 3,
   "id": "2ebdbe21c431b276",
   "metadata": {
    "collapsed": true,
    "ExecuteTime": {
     "end_time": "2024-02-16T22:15:27.560626645Z",
     "start_time": "2024-02-16T22:15:22.876688005Z"
    }
   },
   "outputs": [
    {
     "name": "stderr",
     "output_type": "stream",
     "text": [
      "2024-02-16 22:15:22.945794: I tensorflow/stream_executor/platform/default/dso_loader.cc:49] Successfully opened dynamic library libcudart.so.10.1\n"
     ]
    },
    {
     "name": "stdout",
     "output_type": "stream",
     "text": [
      "Physical devices: [PhysicalDevice(name='/physical_device:CPU:0', device_type='CPU'), PhysicalDevice(name='/physical_device:GPU:0', device_type='GPU')]\n",
      "GPU is available.\n"
     ]
    },
    {
     "name": "stderr",
     "output_type": "stream",
     "text": [
      "2024-02-16 22:15:25.985151: I tensorflow/compiler/jit/xla_cpu_device.cc:41] Not creating XLA devices, tf_xla_enable_xla_devices not set\n",
      "2024-02-16 22:15:25.985803: I tensorflow/stream_executor/platform/default/dso_loader.cc:49] Successfully opened dynamic library libcuda.so.1\n",
      "2024-02-16 22:15:26.033882: I tensorflow/stream_executor/cuda/cuda_gpu_executor.cc:941] successful NUMA node read from SysFS had negative value (-1), but there must be at least one NUMA node, so returning NUMA node zero\n",
      "2024-02-16 22:15:26.039904: I tensorflow/core/common_runtime/gpu/gpu_device.cc:1720] Found device 0 with properties: \n",
      "pciBusID: 0000:01:00.0 name: NVIDIA GeForce RTX 2060 SUPER computeCapability: 7.5\n",
      "coreClock: 1.65GHz coreCount: 34 deviceMemorySize: 7.78GiB deviceMemoryBandwidth: 417.29GiB/s\n",
      "2024-02-16 22:15:26.039956: I tensorflow/stream_executor/platform/default/dso_loader.cc:49] Successfully opened dynamic library libcudart.so.10.1\n",
      "2024-02-16 22:15:26.431223: I tensorflow/stream_executor/platform/default/dso_loader.cc:49] Successfully opened dynamic library libcublas.so.10\n",
      "2024-02-16 22:15:26.431317: I tensorflow/stream_executor/platform/default/dso_loader.cc:49] Successfully opened dynamic library libcublasLt.so.10\n",
      "2024-02-16 22:15:26.587468: I tensorflow/stream_executor/platform/default/dso_loader.cc:49] Successfully opened dynamic library libcufft.so.10\n",
      "2024-02-16 22:15:26.644147: I tensorflow/stream_executor/platform/default/dso_loader.cc:49] Successfully opened dynamic library libcurand.so.10\n",
      "2024-02-16 22:15:26.979889: I tensorflow/stream_executor/platform/default/dso_loader.cc:49] Successfully opened dynamic library libcusolver.so.10\n",
      "2024-02-16 22:15:27.025728: I tensorflow/stream_executor/platform/default/dso_loader.cc:49] Successfully opened dynamic library libcusparse.so.10\n",
      "2024-02-16 22:15:27.556344: I tensorflow/stream_executor/platform/default/dso_loader.cc:49] Successfully opened dynamic library libcudnn.so.7\n",
      "2024-02-16 22:15:27.556503: I tensorflow/stream_executor/cuda/cuda_gpu_executor.cc:941] successful NUMA node read from SysFS had negative value (-1), but there must be at least one NUMA node, so returning NUMA node zero\n",
      "2024-02-16 22:15:27.556653: I tensorflow/stream_executor/cuda/cuda_gpu_executor.cc:941] successful NUMA node read from SysFS had negative value (-1), but there must be at least one NUMA node, so returning NUMA node zero\n",
      "2024-02-16 22:15:27.556723: I tensorflow/core/common_runtime/gpu/gpu_device.cc:1862] Adding visible gpu devices: 0\n"
     ]
    }
   ],
   "source": [
    "import pandas as pd\n",
    "import tensorflow as tf\n",
    "from sklearn.model_selection import train_test_split\n",
    "from sklearn.preprocessing import StandardScaler\n",
    "from tensorflow.keras.models import Sequential\n",
    "from tensorflow.keras.layers import Dense\n",
    "from tensorflow.keras.utils import to_categorical\n",
    "from sklearn.utils import shuffle\n",
    "\n",
    "from tensorflow.keras.callbacks import EarlyStopping\n",
    "from tensorflow.keras.optimizers import Adam\n",
    "from tensorflow.keras.callbacks import ReduceLROnPlateau\n",
    "\n",
    "# List all physical devices\n",
    "physical_devices = tf.config.list_physical_devices()\n",
    "print(\"Physical devices:\", physical_devices)\n",
    "\n",
    "# Check for GPU specifically\n",
    "gpus = tf.config.list_physical_devices('GPU')\n",
    "if gpus:\n",
    "    print(\"GPU is available.\")\n",
    "else:\n",
    "    print(\"GPU is NOT available.\")"
   ]
  },
  {
   "cell_type": "code",
   "execution_count": 5,
   "outputs": [
    {
     "data": {
      "text/plain": "     IMU1_GyroX_Mean  IMU1_GyroX_StdDev  IMU1_GyroX_RMS  IMU1_GyroX_Amp  \\\n0         100.000000         100.000000      100.000000      100.000000   \n1       -2437.749092         904.609071      915.581375      722.552959   \n2       -2072.891310        1718.186834     1717.272343      742.717751   \n3         343.242084        2050.246041     2043.831272      897.524470   \n4         791.777246        2332.475331     2328.890906     1107.511923   \n..               ...                ...             ...             ...   \n100        89.235803        3591.285343     3584.059995    10744.178606   \n101      -175.368929        3563.786422     3560.202268    10796.048713   \n102        49.257057        3376.831485     3372.677246    10142.304843   \n103      -148.179084        3289.994979     3282.225842     9818.273010   \n104       298.560159        3312.393059     3317.725409     9927.137767   \n\n     IMU1_GyroY_Mean  IMU1_GyroY_StdDev  IMU1_GyroY_RMS  IMU1_GyroY_Amp  \\\n0         100.000000         100.000000      100.000000      100.000000   \n1        -440.300840         334.238688      334.363252      188.627077   \n2       -8485.759980         702.577964      713.129480      349.485718   \n3        -626.840048         471.500497      472.923256      240.367270   \n4        8937.577528         636.715838      651.911215      419.576474   \n..               ...                ...             ...             ...   \n100         6.996317         531.285760      529.898734     1732.990704   \n101        -5.737480         533.116430      531.801479     1755.569982   \n102        -2.569257         518.032268      517.261430     1818.178283   \n103       -39.942520         535.022174      534.710899     1655.020104   \n104        53.654044         512.790274      514.338052     1699.502178   \n\n     IMU1_GyroZ_Mean  IMU1_GyroZ_StdDev  ...  EMG_EMG_StdDev  EMG_EMG_RMS  \\\n0         100.000000         100.000000  ...      100.000000   100.000000   \n1        2373.487161        1302.030846  ...      437.908473   287.936982   \n2       -1053.459611        2236.294814  ...      550.926496   440.250962   \n3          -5.205702        2556.527391  ...      398.681956   328.210715   \n4        -736.933152        2545.731395  ...      656.231888   390.547692   \n..               ...                ...  ...             ...          ...   \n100        -8.394122         340.813961  ...        2.741858     5.707504   \n101        43.338626         334.238436  ...        6.555719    10.468434   \n102       -19.557108         335.573535  ...        5.268318     9.344168   \n103        10.659379         329.858679  ...        1.498891     4.126149   \n104         1.497501         322.836783  ...        4.522757     8.666408   \n\n     EMG_EMG_Amp  EMG_EMG_MNF  EMG_EMG_MDF  EMG_EMG_IMNF   Age  Height  \\\n0     100.000000     0.130197     0.108926     21.380778  25.0   160.0   \n1     380.186856     0.406147     0.166207      7.207232  25.0   160.0   \n2     460.020571     0.293393     0.243309      7.346401  25.0   160.0   \n3     342.372933     0.234366     0.209569      7.496688  25.0   160.0   \n4     615.333424     0.233095     0.108415      7.447386  25.0   160.0   \n..           ...          ...          ...           ...   ...     ...   \n100     9.149769     0.464101     0.238177      8.464236  25.0   160.0   \n101    22.939835     0.995139     0.266456      8.423295  25.0   160.0   \n102    24.527897     1.067105     0.135075      8.092965  25.0   160.0   \n103     4.938057     0.454695     0.258893      7.952722  25.0   160.0   \n104    18.498593     0.848035     0.216453     18.729214  25.0   160.0   \n\n     Weight        BMI  \n0      61.0  23.828125  \n1      61.0  23.828125  \n2      61.0  23.828125  \n3      61.0  23.828125  \n4      61.0  23.828125  \n..      ...        ...  \n100    61.0  23.828125  \n101    61.0  23.828125  \n102    61.0  23.828125  \n103    61.0  23.828125  \n104    61.0  23.828125  \n\n[105 rows x 67 columns]",
      "text/html": "<div>\n<style scoped>\n    .dataframe tbody tr th:only-of-type {\n        vertical-align: middle;\n    }\n\n    .dataframe tbody tr th {\n        vertical-align: top;\n    }\n\n    .dataframe thead th {\n        text-align: right;\n    }\n</style>\n<table border=\"1\" class=\"dataframe\">\n  <thead>\n    <tr style=\"text-align: right;\">\n      <th></th>\n      <th>IMU1_GyroX_Mean</th>\n      <th>IMU1_GyroX_StdDev</th>\n      <th>IMU1_GyroX_RMS</th>\n      <th>IMU1_GyroX_Amp</th>\n      <th>IMU1_GyroY_Mean</th>\n      <th>IMU1_GyroY_StdDev</th>\n      <th>IMU1_GyroY_RMS</th>\n      <th>IMU1_GyroY_Amp</th>\n      <th>IMU1_GyroZ_Mean</th>\n      <th>IMU1_GyroZ_StdDev</th>\n      <th>...</th>\n      <th>EMG_EMG_StdDev</th>\n      <th>EMG_EMG_RMS</th>\n      <th>EMG_EMG_Amp</th>\n      <th>EMG_EMG_MNF</th>\n      <th>EMG_EMG_MDF</th>\n      <th>EMG_EMG_IMNF</th>\n      <th>Age</th>\n      <th>Height</th>\n      <th>Weight</th>\n      <th>BMI</th>\n    </tr>\n  </thead>\n  <tbody>\n    <tr>\n      <th>0</th>\n      <td>100.000000</td>\n      <td>100.000000</td>\n      <td>100.000000</td>\n      <td>100.000000</td>\n      <td>100.000000</td>\n      <td>100.000000</td>\n      <td>100.000000</td>\n      <td>100.000000</td>\n      <td>100.000000</td>\n      <td>100.000000</td>\n      <td>...</td>\n      <td>100.000000</td>\n      <td>100.000000</td>\n      <td>100.000000</td>\n      <td>0.130197</td>\n      <td>0.108926</td>\n      <td>21.380778</td>\n      <td>25.0</td>\n      <td>160.0</td>\n      <td>61.0</td>\n      <td>23.828125</td>\n    </tr>\n    <tr>\n      <th>1</th>\n      <td>-2437.749092</td>\n      <td>904.609071</td>\n      <td>915.581375</td>\n      <td>722.552959</td>\n      <td>-440.300840</td>\n      <td>334.238688</td>\n      <td>334.363252</td>\n      <td>188.627077</td>\n      <td>2373.487161</td>\n      <td>1302.030846</td>\n      <td>...</td>\n      <td>437.908473</td>\n      <td>287.936982</td>\n      <td>380.186856</td>\n      <td>0.406147</td>\n      <td>0.166207</td>\n      <td>7.207232</td>\n      <td>25.0</td>\n      <td>160.0</td>\n      <td>61.0</td>\n      <td>23.828125</td>\n    </tr>\n    <tr>\n      <th>2</th>\n      <td>-2072.891310</td>\n      <td>1718.186834</td>\n      <td>1717.272343</td>\n      <td>742.717751</td>\n      <td>-8485.759980</td>\n      <td>702.577964</td>\n      <td>713.129480</td>\n      <td>349.485718</td>\n      <td>-1053.459611</td>\n      <td>2236.294814</td>\n      <td>...</td>\n      <td>550.926496</td>\n      <td>440.250962</td>\n      <td>460.020571</td>\n      <td>0.293393</td>\n      <td>0.243309</td>\n      <td>7.346401</td>\n      <td>25.0</td>\n      <td>160.0</td>\n      <td>61.0</td>\n      <td>23.828125</td>\n    </tr>\n    <tr>\n      <th>3</th>\n      <td>343.242084</td>\n      <td>2050.246041</td>\n      <td>2043.831272</td>\n      <td>897.524470</td>\n      <td>-626.840048</td>\n      <td>471.500497</td>\n      <td>472.923256</td>\n      <td>240.367270</td>\n      <td>-5.205702</td>\n      <td>2556.527391</td>\n      <td>...</td>\n      <td>398.681956</td>\n      <td>328.210715</td>\n      <td>342.372933</td>\n      <td>0.234366</td>\n      <td>0.209569</td>\n      <td>7.496688</td>\n      <td>25.0</td>\n      <td>160.0</td>\n      <td>61.0</td>\n      <td>23.828125</td>\n    </tr>\n    <tr>\n      <th>4</th>\n      <td>791.777246</td>\n      <td>2332.475331</td>\n      <td>2328.890906</td>\n      <td>1107.511923</td>\n      <td>8937.577528</td>\n      <td>636.715838</td>\n      <td>651.911215</td>\n      <td>419.576474</td>\n      <td>-736.933152</td>\n      <td>2545.731395</td>\n      <td>...</td>\n      <td>656.231888</td>\n      <td>390.547692</td>\n      <td>615.333424</td>\n      <td>0.233095</td>\n      <td>0.108415</td>\n      <td>7.447386</td>\n      <td>25.0</td>\n      <td>160.0</td>\n      <td>61.0</td>\n      <td>23.828125</td>\n    </tr>\n    <tr>\n      <th>...</th>\n      <td>...</td>\n      <td>...</td>\n      <td>...</td>\n      <td>...</td>\n      <td>...</td>\n      <td>...</td>\n      <td>...</td>\n      <td>...</td>\n      <td>...</td>\n      <td>...</td>\n      <td>...</td>\n      <td>...</td>\n      <td>...</td>\n      <td>...</td>\n      <td>...</td>\n      <td>...</td>\n      <td>...</td>\n      <td>...</td>\n      <td>...</td>\n      <td>...</td>\n      <td>...</td>\n    </tr>\n    <tr>\n      <th>100</th>\n      <td>89.235803</td>\n      <td>3591.285343</td>\n      <td>3584.059995</td>\n      <td>10744.178606</td>\n      <td>6.996317</td>\n      <td>531.285760</td>\n      <td>529.898734</td>\n      <td>1732.990704</td>\n      <td>-8.394122</td>\n      <td>340.813961</td>\n      <td>...</td>\n      <td>2.741858</td>\n      <td>5.707504</td>\n      <td>9.149769</td>\n      <td>0.464101</td>\n      <td>0.238177</td>\n      <td>8.464236</td>\n      <td>25.0</td>\n      <td>160.0</td>\n      <td>61.0</td>\n      <td>23.828125</td>\n    </tr>\n    <tr>\n      <th>101</th>\n      <td>-175.368929</td>\n      <td>3563.786422</td>\n      <td>3560.202268</td>\n      <td>10796.048713</td>\n      <td>-5.737480</td>\n      <td>533.116430</td>\n      <td>531.801479</td>\n      <td>1755.569982</td>\n      <td>43.338626</td>\n      <td>334.238436</td>\n      <td>...</td>\n      <td>6.555719</td>\n      <td>10.468434</td>\n      <td>22.939835</td>\n      <td>0.995139</td>\n      <td>0.266456</td>\n      <td>8.423295</td>\n      <td>25.0</td>\n      <td>160.0</td>\n      <td>61.0</td>\n      <td>23.828125</td>\n    </tr>\n    <tr>\n      <th>102</th>\n      <td>49.257057</td>\n      <td>3376.831485</td>\n      <td>3372.677246</td>\n      <td>10142.304843</td>\n      <td>-2.569257</td>\n      <td>518.032268</td>\n      <td>517.261430</td>\n      <td>1818.178283</td>\n      <td>-19.557108</td>\n      <td>335.573535</td>\n      <td>...</td>\n      <td>5.268318</td>\n      <td>9.344168</td>\n      <td>24.527897</td>\n      <td>1.067105</td>\n      <td>0.135075</td>\n      <td>8.092965</td>\n      <td>25.0</td>\n      <td>160.0</td>\n      <td>61.0</td>\n      <td>23.828125</td>\n    </tr>\n    <tr>\n      <th>103</th>\n      <td>-148.179084</td>\n      <td>3289.994979</td>\n      <td>3282.225842</td>\n      <td>9818.273010</td>\n      <td>-39.942520</td>\n      <td>535.022174</td>\n      <td>534.710899</td>\n      <td>1655.020104</td>\n      <td>10.659379</td>\n      <td>329.858679</td>\n      <td>...</td>\n      <td>1.498891</td>\n      <td>4.126149</td>\n      <td>4.938057</td>\n      <td>0.454695</td>\n      <td>0.258893</td>\n      <td>7.952722</td>\n      <td>25.0</td>\n      <td>160.0</td>\n      <td>61.0</td>\n      <td>23.828125</td>\n    </tr>\n    <tr>\n      <th>104</th>\n      <td>298.560159</td>\n      <td>3312.393059</td>\n      <td>3317.725409</td>\n      <td>9927.137767</td>\n      <td>53.654044</td>\n      <td>512.790274</td>\n      <td>514.338052</td>\n      <td>1699.502178</td>\n      <td>1.497501</td>\n      <td>322.836783</td>\n      <td>...</td>\n      <td>4.522757</td>\n      <td>8.666408</td>\n      <td>18.498593</td>\n      <td>0.848035</td>\n      <td>0.216453</td>\n      <td>18.729214</td>\n      <td>25.0</td>\n      <td>160.0</td>\n      <td>61.0</td>\n      <td>23.828125</td>\n    </tr>\n  </tbody>\n</table>\n<p>105 rows × 67 columns</p>\n</div>"
     },
     "execution_count": 5,
     "metadata": {},
     "output_type": "execute_result"
    }
   ],
   "source": [
    "# Load your dataset\n",
    "dataset = pd.read_csv('../../../Dataset/Exoskeleton/Specific/Subject_12.csv')  # Replace with your dataset path\n",
    "dataset.iloc[:, -1] = dataset.iloc[:, -1] - 1\n",
    "X = dataset.iloc[:, :-2]  # Features\n",
    "y = dataset.iloc[:, -2]-1 # Target\n",
    "X"
   ],
   "metadata": {
    "collapsed": false,
    "ExecuteTime": {
     "end_time": "2024-02-16T22:15:52.281305773Z",
     "start_time": "2024-02-16T22:15:52.232541761Z"
    }
   },
   "id": "7a4346fb480f0f57"
  },
  {
   "cell_type": "code",
   "outputs": [
    {
     "name": "stderr",
     "output_type": "stream",
     "text": [
      "2024-02-16 22:16:17.382925: I tensorflow/core/platform/cpu_feature_guard.cc:142] This TensorFlow binary is optimized with oneAPI Deep Neural Network Library (oneDNN) to use the following CPU instructions in performance-critical operations:  SSE4.1 SSE4.2 AVX AVX2 FMA\n",
      "To enable them in other operations, rebuild TensorFlow with the appropriate compiler flags.\n",
      "2024-02-16 22:16:17.383831: I tensorflow/compiler/jit/xla_gpu_device.cc:99] Not creating XLA devices, tf_xla_enable_xla_devices not set\n",
      "2024-02-16 22:16:17.384015: I tensorflow/stream_executor/cuda/cuda_gpu_executor.cc:941] successful NUMA node read from SysFS had negative value (-1), but there must be at least one NUMA node, so returning NUMA node zero\n",
      "2024-02-16 22:16:17.384116: I tensorflow/core/common_runtime/gpu/gpu_device.cc:1720] Found device 0 with properties: \n",
      "pciBusID: 0000:01:00.0 name: NVIDIA GeForce RTX 2060 SUPER computeCapability: 7.5\n",
      "coreClock: 1.65GHz coreCount: 34 deviceMemorySize: 7.78GiB deviceMemoryBandwidth: 417.29GiB/s\n",
      "2024-02-16 22:16:17.384135: I tensorflow/stream_executor/platform/default/dso_loader.cc:49] Successfully opened dynamic library libcudart.so.10.1\n",
      "2024-02-16 22:16:17.384151: I tensorflow/stream_executor/platform/default/dso_loader.cc:49] Successfully opened dynamic library libcublas.so.10\n",
      "2024-02-16 22:16:17.384162: I tensorflow/stream_executor/platform/default/dso_loader.cc:49] Successfully opened dynamic library libcublasLt.so.10\n",
      "2024-02-16 22:16:17.384172: I tensorflow/stream_executor/platform/default/dso_loader.cc:49] Successfully opened dynamic library libcufft.so.10\n",
      "2024-02-16 22:16:17.384183: I tensorflow/stream_executor/platform/default/dso_loader.cc:49] Successfully opened dynamic library libcurand.so.10\n",
      "2024-02-16 22:16:17.384193: I tensorflow/stream_executor/platform/default/dso_loader.cc:49] Successfully opened dynamic library libcusolver.so.10\n",
      "2024-02-16 22:16:17.384204: I tensorflow/stream_executor/platform/default/dso_loader.cc:49] Successfully opened dynamic library libcusparse.so.10\n",
      "2024-02-16 22:16:17.384214: I tensorflow/stream_executor/platform/default/dso_loader.cc:49] Successfully opened dynamic library libcudnn.so.7\n",
      "2024-02-16 22:16:17.384253: I tensorflow/stream_executor/cuda/cuda_gpu_executor.cc:941] successful NUMA node read from SysFS had negative value (-1), but there must be at least one NUMA node, so returning NUMA node zero\n",
      "2024-02-16 22:16:17.384350: I tensorflow/stream_executor/cuda/cuda_gpu_executor.cc:941] successful NUMA node read from SysFS had negative value (-1), but there must be at least one NUMA node, so returning NUMA node zero\n",
      "2024-02-16 22:16:17.384411: I tensorflow/core/common_runtime/gpu/gpu_device.cc:1862] Adding visible gpu devices: 0\n",
      "2024-02-16 22:16:17.442353: I tensorflow/stream_executor/platform/default/dso_loader.cc:49] Successfully opened dynamic library libcudart.so.10.1\n",
      "2024-02-16 22:16:22.120992: I tensorflow/core/common_runtime/gpu/gpu_device.cc:1261] Device interconnect StreamExecutor with strength 1 edge matrix:\n",
      "2024-02-16 22:16:22.121014: I tensorflow/core/common_runtime/gpu/gpu_device.cc:1267]      0 \n",
      "2024-02-16 22:16:22.121018: I tensorflow/core/common_runtime/gpu/gpu_device.cc:1280] 0:   N \n",
      "2024-02-16 22:16:22.130088: I tensorflow/stream_executor/cuda/cuda_gpu_executor.cc:941] successful NUMA node read from SysFS had negative value (-1), but there must be at least one NUMA node, so returning NUMA node zero\n",
      "2024-02-16 22:16:22.130255: I tensorflow/stream_executor/cuda/cuda_gpu_executor.cc:941] successful NUMA node read from SysFS had negative value (-1), but there must be at least one NUMA node, so returning NUMA node zero\n",
      "2024-02-16 22:16:22.130369: I tensorflow/stream_executor/cuda/cuda_gpu_executor.cc:941] successful NUMA node read from SysFS had negative value (-1), but there must be at least one NUMA node, so returning NUMA node zero\n",
      "2024-02-16 22:16:22.130450: I tensorflow/core/common_runtime/gpu/gpu_device.cc:1406] Created TensorFlow device (/job:localhost/replica:0/task:0/device:GPU:0 with 6724 MB memory) -> physical GPU (device: 0, name: NVIDIA GeForce RTX 2060 SUPER, pci bus id: 0000:01:00.0, compute capability: 7.5)\n"
     ]
    }
   ],
   "source": [
    "\n",
    "# Normalize the features\n",
    "scaler = StandardScaler()\n",
    "X_scaled = scaler.fit_transform(X)\n",
    "\n",
    "# Convert labels to categorical\n",
    "y_categorical = to_categorical(y)\n",
    "\n",
    "# Shuffle the data\n",
    "X_scaled, y_categorical = shuffle(X_scaled, y_categorical, random_state=42)\n",
    "\n",
    "# Split the data\n",
    "X_train, X_test, y_train, y_test = train_test_split(\n",
    "    X_scaled, y_categorical, test_size=0.2, random_state=42)\n",
    "\n",
    "# Number of unique classes in the target variable\n",
    "num_classes = y_train.shape[1]\n",
    "\n",
    "\n",
    "# Building the DNN model\n",
    "model = Sequential([\n",
    "    Dense(128, activation='relu', input_shape=(X_train.shape[1],), name='dense_0'),\n",
    "    Dense(64, activation='relu', name='dense_1'),\n",
    "    Dense(3, activation='relu', name='dense_2'),\n",
    "    # Dense(3, activation='relu', name='dense_3'),\n",
    "    Dense(num_classes, activation='softmax')  # Output layer\n",
    "])"
   ],
   "metadata": {
    "collapsed": false,
    "ExecuteTime": {
     "end_time": "2024-02-16T22:16:22.402947840Z",
     "start_time": "2024-02-16T22:16:16.512720056Z"
    }
   },
   "id": "1e58074cece23a2d",
   "execution_count": 6
  },
  {
   "cell_type": "code",
   "execution_count": 7,
   "outputs": [],
   "source": [
    "# Define the early stopping callback\n",
    "early_stopping = EarlyStopping(\n",
    "    monitor='val_loss',\n",
    "    min_delta=0.001,  # minimium amount of change to count as an improvement\n",
    "    patience=100,  # how many epochs to wait before stopping\n",
    "    verbose=1,\n",
    "    mode='min',\n",
    "    restore_best_weights=True\n",
    ")\n",
    "\n",
    "# Set the learning rate\n",
    "learning_rate = 0.01\n",
    "\n",
    "# Create the ReduceLROnPlateau callback\n",
    "reduce_lr = ReduceLROnPlateau(\n",
    "    monitor='val_loss',\n",
    "    factor=0.9,  # factor by which the learning rate will be reduced\n",
    "    patience=5,  # number of epochs with no improvement after which learning rate will be reduced\n",
    "    min_lr=0.00001,  # lower bound on the learning rate\n",
    "    verbose=1\n",
    ")\n",
    "lr_callback = tf.keras.callbacks.LearningRateScheduler(reduce_lr)\n",
    "\n",
    "class PrintLR(tf.keras.callbacks.Callback):\n",
    "    def __init__(self):\n",
    "        super().__init__()\n",
    "        self.learning_rates = []\n",
    "        \n",
    "    def on_epoch_begin(self, epoch, logs=None):\n",
    "        lr = self.model.optimizer.lr\n",
    "        if hasattr(lr, 'numpy'):\n",
    "            lr = lr.numpy()\n",
    "        elif hasattr(lr, 'eval'):\n",
    "            lr = lr.eval(session=tf.compat.v1.Session())\n",
    "        print(f'Epoch {epoch+1}: Learning rate is {lr}.')\n",
    "    \n",
    "    def on_epoch_end(self, epoch, logs=None):\n",
    "        # Retrieve the current learning rate from the optimizer\n",
    "        current_lr = tf.keras.backend.get_value(self.model.optimizer.lr)\n",
    "        # Append the current learning rate to the list\n",
    "        self.learning_rates.append(current_lr)\n",
    "\n",
    "lr_tracker = PrintLR()\n",
    "callbacks = [lr_tracker, early_stopping, reduce_lr]\n",
    "\n",
    "\n",
    "# Initialize the optimizer with the learning rate\n",
    "optimizer = Adam(learning_rate=learning_rate)\n",
    "\n",
    "# Compiling the model\n",
    "model.compile(optimizer=optimizer,\n",
    "              loss='categorical_crossentropy',\n",
    "              metrics=['accuracy'])"
   ],
   "metadata": {
    "collapsed": false,
    "ExecuteTime": {
     "end_time": "2024-02-16T22:16:28.474492275Z",
     "start_time": "2024-02-16T22:16:28.468414600Z"
    }
   },
   "id": "111da32ccd0d31d1"
  },
  {
   "cell_type": "code",
   "execution_count": 8,
   "outputs": [
    {
     "name": "stderr",
     "output_type": "stream",
     "text": [
      "2024-02-16 22:16:30.379150: I tensorflow/compiler/mlir/mlir_graph_optimization_pass.cc:116] None of the MLIR optimization passes are enabled (registered 2)\n",
      "2024-02-16 22:16:30.404214: I tensorflow/core/platform/profile_utils/cpu_utils.cc:112] CPU Frequency: 2899885000 Hz\n"
     ]
    },
    {
     "name": "stdout",
     "output_type": "stream",
     "text": [
      "Epoch 1/1000\n",
      "Epoch 1: Learning rate is 0.009999999776482582.\n"
     ]
    },
    {
     "name": "stderr",
     "output_type": "stream",
     "text": [
      "2024-02-16 22:16:30.943283: I tensorflow/stream_executor/platform/default/dso_loader.cc:49] Successfully opened dynamic library libcublas.so.10\n"
     ]
    },
    {
     "name": "stdout",
     "output_type": "stream",
     "text": [
      "2/2 [==============================] - 2s 368ms/step - loss: 1.1301 - accuracy: 0.1511 - val_loss: 0.8653 - val_accuracy: 0.2353\n",
      "Epoch 2/1000\n",
      "Epoch 2: Learning rate is 0.009999999776482582.\n",
      "2/2 [==============================] - 0s 23ms/step - loss: 0.6674 - accuracy: 0.5102 - val_loss: 0.8417 - val_accuracy: 0.2353\n",
      "Epoch 3/1000\n",
      "Epoch 3: Learning rate is 0.009999999776482582.\n",
      "2/2 [==============================] - 0s 24ms/step - loss: 0.5663 - accuracy: 0.5201 - val_loss: 0.7777 - val_accuracy: 0.8235\n",
      "Epoch 4/1000\n",
      "Epoch 4: Learning rate is 0.009999999776482582.\n",
      "2/2 [==============================] - 0s 21ms/step - loss: 0.4986 - accuracy: 0.8385 - val_loss: 0.5738 - val_accuracy: 0.8235\n",
      "Epoch 5/1000\n",
      "Epoch 5: Learning rate is 0.009999999776482582.\n",
      "2/2 [==============================] - 0s 25ms/step - loss: 0.4033 - accuracy: 0.8484 - val_loss: 0.5149 - val_accuracy: 0.8235\n",
      "Epoch 6/1000\n",
      "Epoch 6: Learning rate is 0.009999999776482582.\n",
      "2/2 [==============================] - 0s 30ms/step - loss: 0.3422 - accuracy: 0.8536 - val_loss: 0.5041 - val_accuracy: 0.8235\n",
      "Epoch 7/1000\n",
      "Epoch 7: Learning rate is 0.009999999776482582.\n",
      "2/2 [==============================] - 0s 19ms/step - loss: 0.3106 - accuracy: 0.8536 - val_loss: 0.5207 - val_accuracy: 0.8235\n",
      "Epoch 8/1000\n",
      "Epoch 8: Learning rate is 0.009999999776482582.\n",
      "2/2 [==============================] - 0s 19ms/step - loss: 0.2982 - accuracy: 0.8484 - val_loss: 0.5394 - val_accuracy: 0.8235\n",
      "Epoch 9/1000\n",
      "Epoch 9: Learning rate is 0.009999999776482582.\n",
      "2/2 [==============================] - 0s 18ms/step - loss: 0.2737 - accuracy: 0.8536 - val_loss: 0.5613 - val_accuracy: 0.8235\n",
      "Epoch 10/1000\n",
      "Epoch 10: Learning rate is 0.009999999776482582.\n",
      "2/2 [==============================] - 0s 23ms/step - loss: 0.2620 - accuracy: 0.8484 - val_loss: 0.5816 - val_accuracy: 0.8235\n",
      "Epoch 11/1000\n",
      "Epoch 11: Learning rate is 0.009999999776482582.\n",
      "2/2 [==============================] - 0s 25ms/step - loss: 0.2557 - accuracy: 0.8484 - val_loss: 0.5970 - val_accuracy: 0.8235\n",
      "\n",
      "Epoch 00011: ReduceLROnPlateau reducing learning rate to 0.008999999798834325.\n",
      "Epoch 12/1000\n",
      "Epoch 12: Learning rate is 0.008999999612569809.\n",
      "2/2 [==============================] - 0s 24ms/step - loss: 0.2294 - accuracy: 0.8536 - val_loss: 0.5532 - val_accuracy: 0.8235\n",
      "Epoch 13/1000\n",
      "Epoch 13: Learning rate is 0.008999999612569809.\n",
      "2/2 [==============================] - 0s 25ms/step - loss: 0.2486 - accuracy: 0.8484 - val_loss: 0.5397 - val_accuracy: 0.8235\n",
      "Epoch 14/1000\n",
      "Epoch 14: Learning rate is 0.008999999612569809.\n",
      "2/2 [==============================] - 0s 25ms/step - loss: 0.2914 - accuracy: 0.8588 - val_loss: 0.5984 - val_accuracy: 0.8235\n",
      "Epoch 15/1000\n",
      "Epoch 15: Learning rate is 0.008999999612569809.\n",
      "2/2 [==============================] - 0s 33ms/step - loss: 0.3157 - accuracy: 0.8536 - val_loss: 0.6117 - val_accuracy: 0.8235\n",
      "Epoch 16/1000\n",
      "Epoch 16: Learning rate is 0.008999999612569809.\n",
      "2/2 [==============================] - 0s 21ms/step - loss: 0.3222 - accuracy: 0.8636 - val_loss: 0.5273 - val_accuracy: 0.7647\n",
      "\n",
      "Epoch 00016: ReduceLROnPlateau reducing learning rate to 0.008099999651312828.\n",
      "Epoch 17/1000\n",
      "Epoch 17: Learning rate is 0.008099999278783798.\n",
      "2/2 [==============================] - 0s 20ms/step - loss: 0.3034 - accuracy: 0.8787 - val_loss: 0.4892 - val_accuracy: 0.7647\n",
      "Epoch 18/1000\n",
      "Epoch 18: Learning rate is 0.008099999278783798.\n",
      "2/2 [==============================] - 0s 20ms/step - loss: 0.2544 - accuracy: 0.9143 - val_loss: 0.5318 - val_accuracy: 0.8235\n",
      "Epoch 19/1000\n",
      "Epoch 19: Learning rate is 0.008099999278783798.\n",
      "2/2 [==============================] - 0s 20ms/step - loss: 0.2462 - accuracy: 0.9394 - val_loss: 0.5691 - val_accuracy: 0.8824\n",
      "Epoch 20/1000\n",
      "Epoch 20: Learning rate is 0.008099999278783798.\n",
      "2/2 [==============================] - 0s 28ms/step - loss: 0.2048 - accuracy: 0.9294 - val_loss: 0.5587 - val_accuracy: 0.9412\n",
      "Epoch 21/1000\n",
      "Epoch 21: Learning rate is 0.008099999278783798.\n",
      "2/2 [==============================] - 0s 20ms/step - loss: 0.2057 - accuracy: 0.9242 - val_loss: 0.5647 - val_accuracy: 0.8235\n",
      "Epoch 22/1000\n",
      "Epoch 22: Learning rate is 0.008099999278783798.\n",
      "2/2 [==============================] - 0s 25ms/step - loss: 0.2000 - accuracy: 0.9545 - val_loss: 0.5448 - val_accuracy: 0.8235\n",
      "\n",
      "Epoch 00022: ReduceLROnPlateau reducing learning rate to 0.007289999350905419.\n",
      "Epoch 23/1000\n",
      "Epoch 23: Learning rate is 0.0072899991646409035.\n",
      "2/2 [==============================] - 0s 24ms/step - loss: 0.1935 - accuracy: 0.9545 - val_loss: 0.5329 - val_accuracy: 0.8235\n",
      "Epoch 24/1000\n",
      "Epoch 24: Learning rate is 0.0072899991646409035.\n",
      "2/2 [==============================] - 0s 19ms/step - loss: 0.1916 - accuracy: 0.9697 - val_loss: 0.5277 - val_accuracy: 0.8235\n",
      "Epoch 25/1000\n",
      "Epoch 25: Learning rate is 0.0072899991646409035.\n",
      "2/2 [==============================] - 0s 23ms/step - loss: 0.1935 - accuracy: 0.9545 - val_loss: 0.5293 - val_accuracy: 0.8235\n",
      "Epoch 26/1000\n",
      "Epoch 26: Learning rate is 0.0072899991646409035.\n",
      "2/2 [==============================] - 0s 18ms/step - loss: 0.1801 - accuracy: 0.9545 - val_loss: 0.5364 - val_accuracy: 0.8235\n",
      "Epoch 27/1000\n",
      "Epoch 27: Learning rate is 0.0072899991646409035.\n",
      "2/2 [==============================] - 0s 24ms/step - loss: 0.1869 - accuracy: 0.9545 - val_loss: 0.5458 - val_accuracy: 0.8235\n",
      "\n",
      "Epoch 00027: ReduceLROnPlateau reducing learning rate to 0.006560999248176813.\n",
      "Epoch 28/1000\n",
      "Epoch 28: Learning rate is 0.006560999434441328.\n",
      "2/2 [==============================] - 0s 22ms/step - loss: 0.1862 - accuracy: 0.9394 - val_loss: 0.5417 - val_accuracy: 0.8824\n",
      "Epoch 29/1000\n",
      "Epoch 29: Learning rate is 0.006560999434441328.\n",
      "2/2 [==============================] - 0s 28ms/step - loss: 0.1873 - accuracy: 0.9394 - val_loss: 0.5404 - val_accuracy: 0.8824\n",
      "Epoch 30/1000\n",
      "Epoch 30: Learning rate is 0.006560999434441328.\n",
      "2/2 [==============================] - 0s 28ms/step - loss: 0.1808 - accuracy: 0.9394 - val_loss: 0.5399 - val_accuracy: 0.8824\n",
      "Epoch 31/1000\n",
      "Epoch 31: Learning rate is 0.006560999434441328.\n",
      "2/2 [==============================] - 0s 20ms/step - loss: 0.1830 - accuracy: 0.9394 - val_loss: 0.5398 - val_accuracy: 0.8824\n",
      "Epoch 32/1000\n",
      "Epoch 32: Learning rate is 0.006560999434441328.\n",
      "2/2 [==============================] - 0s 20ms/step - loss: 0.1733 - accuracy: 0.9597 - val_loss: 0.4982 - val_accuracy: 0.8235\n",
      "\n",
      "Epoch 00032: ReduceLROnPlateau reducing learning rate to 0.005904899490997195.\n",
      "Epoch 33/1000\n",
      "Epoch 33: Learning rate is 0.0059048994444310665.\n",
      "2/2 [==============================] - 0s 22ms/step - loss: 0.1759 - accuracy: 0.9697 - val_loss: 0.4383 - val_accuracy: 0.8235\n",
      "Epoch 34/1000\n",
      "Epoch 34: Learning rate is 0.0059048994444310665.\n",
      "2/2 [==============================] - 0s 19ms/step - loss: 0.1962 - accuracy: 0.9545 - val_loss: 0.4080 - val_accuracy: 0.8235\n",
      "Epoch 35/1000\n",
      "Epoch 35: Learning rate is 0.0059048994444310665.\n",
      "2/2 [==============================] - 0s 25ms/step - loss: 0.2204 - accuracy: 0.9545 - val_loss: 0.3966 - val_accuracy: 0.8235\n",
      "Epoch 36/1000\n",
      "Epoch 36: Learning rate is 0.0059048994444310665.\n",
      "2/2 [==============================] - 0s 20ms/step - loss: 0.2336 - accuracy: 0.9394 - val_loss: 0.3894 - val_accuracy: 0.8235\n",
      "Epoch 37/1000\n",
      "Epoch 37: Learning rate is 0.0059048994444310665.\n",
      "2/2 [==============================] - 0s 19ms/step - loss: 0.2340 - accuracy: 0.9242 - val_loss: 0.3819 - val_accuracy: 0.8235\n",
      "Epoch 38/1000\n",
      "Epoch 38: Learning rate is 0.0059048994444310665.\n",
      "2/2 [==============================] - 0s 23ms/step - loss: 0.2262 - accuracy: 0.9394 - val_loss: 0.3789 - val_accuracy: 0.8235\n",
      "Epoch 39/1000\n",
      "Epoch 39: Learning rate is 0.0059048994444310665.\n",
      "2/2 [==============================] - 0s 22ms/step - loss: 0.2034 - accuracy: 0.9545 - val_loss: 0.3882 - val_accuracy: 0.8235\n",
      "Epoch 40/1000\n",
      "Epoch 40: Learning rate is 0.0059048994444310665.\n",
      "2/2 [==============================] - 0s 24ms/step - loss: 0.1891 - accuracy: 0.9545 - val_loss: 0.4069 - val_accuracy: 0.8235\n",
      "Epoch 41/1000\n",
      "Epoch 41: Learning rate is 0.0059048994444310665.\n",
      "2/2 [==============================] - 0s 19ms/step - loss: 0.1852 - accuracy: 0.9545 - val_loss: 0.4309 - val_accuracy: 0.8235\n",
      "Epoch 42/1000\n",
      "Epoch 42: Learning rate is 0.0059048994444310665.\n",
      "2/2 [==============================] - 0s 18ms/step - loss: 0.1749 - accuracy: 0.9697 - val_loss: 0.4634 - val_accuracy: 0.8235\n",
      "Epoch 43/1000\n",
      "Epoch 43: Learning rate is 0.0059048994444310665.\n",
      "2/2 [==============================] - 0s 22ms/step - loss: 0.1641 - accuracy: 0.9697 - val_loss: 0.4712 - val_accuracy: 0.9412\n",
      "\n",
      "Epoch 00043: ReduceLROnPlateau reducing learning rate to 0.00531440949998796.\n",
      "Epoch 44/1000\n",
      "Epoch 44: Learning rate is 0.0053144097328186035.\n",
      "2/2 [==============================] - 0s 18ms/step - loss: 0.1577 - accuracy: 0.9143 - val_loss: 0.4540 - val_accuracy: 0.9412\n",
      "Epoch 45/1000\n",
      "Epoch 45: Learning rate is 0.0053144097328186035.\n",
      "2/2 [==============================] - 0s 20ms/step - loss: 0.1669 - accuracy: 0.9394 - val_loss: 0.4656 - val_accuracy: 0.8235\n",
      "Epoch 46/1000\n",
      "Epoch 46: Learning rate is 0.0053144097328186035.\n",
      "2/2 [==============================] - 0s 19ms/step - loss: 0.1512 - accuracy: 0.9749 - val_loss: 0.4616 - val_accuracy: 0.8235\n",
      "Epoch 47/1000\n",
      "Epoch 47: Learning rate is 0.0053144097328186035.\n",
      "2/2 [==============================] - 0s 18ms/step - loss: 0.1553 - accuracy: 0.9697 - val_loss: 0.4447 - val_accuracy: 0.8235\n",
      "Epoch 48/1000\n",
      "Epoch 48: Learning rate is 0.0053144097328186035.\n",
      "2/2 [==============================] - 0s 19ms/step - loss: 0.1618 - accuracy: 0.9697 - val_loss: 0.4330 - val_accuracy: 0.8235\n",
      "\n",
      "Epoch 00048: ReduceLROnPlateau reducing learning rate to 0.004782968759536744.\n",
      "Epoch 49/1000\n",
      "Epoch 49: Learning rate is 0.004782968666404486.\n",
      "2/2 [==============================] - 0s 22ms/step - loss: 0.1576 - accuracy: 0.9697 - val_loss: 0.4263 - val_accuracy: 0.8235\n",
      "Epoch 50/1000\n",
      "Epoch 50: Learning rate is 0.004782968666404486.\n",
      "2/2 [==============================] - 0s 21ms/step - loss: 0.1614 - accuracy: 0.9697 - val_loss: 0.4228 - val_accuracy: 0.8235\n",
      "Epoch 51/1000\n",
      "Epoch 51: Learning rate is 0.004782968666404486.\n",
      "2/2 [==============================] - 0s 20ms/step - loss: 0.1565 - accuracy: 0.9697 - val_loss: 0.4219 - val_accuracy: 0.8235\n",
      "Epoch 52/1000\n",
      "Epoch 52: Learning rate is 0.004782968666404486.\n",
      "2/2 [==============================] - 0s 19ms/step - loss: 0.1555 - accuracy: 0.9697 - val_loss: 0.4234 - val_accuracy: 0.8235\n",
      "Epoch 53/1000\n",
      "Epoch 53: Learning rate is 0.004782968666404486.\n",
      "2/2 [==============================] - 0s 20ms/step - loss: 0.1503 - accuracy: 0.9697 - val_loss: 0.4262 - val_accuracy: 0.8235\n",
      "\n",
      "Epoch 00053: ReduceLROnPlateau reducing learning rate to 0.0043046717997640375.\n",
      "Epoch 54/1000\n",
      "Epoch 54: Learning rate is 0.004304671660065651.\n",
      "2/2 [==============================] - 0s 19ms/step - loss: 0.1558 - accuracy: 0.9697 - val_loss: 0.4348 - val_accuracy: 0.8235\n",
      "Epoch 55/1000\n",
      "Epoch 55: Learning rate is 0.004304671660065651.\n",
      "2/2 [==============================] - 0s 22ms/step - loss: 0.1502 - accuracy: 0.9697 - val_loss: 0.4264 - val_accuracy: 0.8235\n",
      "Epoch 56/1000\n",
      "Epoch 56: Learning rate is 0.004304671660065651.\n",
      "2/2 [==============================] - 0s 20ms/step - loss: 0.1433 - accuracy: 0.9848 - val_loss: 0.4062 - val_accuracy: 0.9412\n",
      "Epoch 57/1000\n",
      "Epoch 57: Learning rate is 0.004304671660065651.\n",
      "2/2 [==============================] - 0s 19ms/step - loss: 0.1380 - accuracy: 0.9545 - val_loss: 0.4163 - val_accuracy: 0.9412\n",
      "Epoch 58/1000\n",
      "Epoch 58: Learning rate is 0.004304671660065651.\n",
      "2/2 [==============================] - 0s 20ms/step - loss: 0.1514 - accuracy: 0.9394 - val_loss: 0.4215 - val_accuracy: 0.8824\n",
      "\n",
      "Epoch 00058: ReduceLROnPlateau reducing learning rate to 0.0038742044940590858.\n",
      "Epoch 59/1000\n",
      "Epoch 59: Learning rate is 0.0038742045871913433.\n",
      "2/2 [==============================] - 0s 20ms/step - loss: 0.1520 - accuracy: 0.9394 - val_loss: 0.4136 - val_accuracy: 0.9412\n",
      "Epoch 60/1000\n",
      "Epoch 60: Learning rate is 0.0038742045871913433.\n",
      "2/2 [==============================] - 0s 23ms/step - loss: 0.1346 - accuracy: 0.9597 - val_loss: 0.4328 - val_accuracy: 0.8824\n",
      "Epoch 61/1000\n",
      "Epoch 61: Learning rate is 0.0038742045871913433.\n",
      "2/2 [==============================] - 0s 19ms/step - loss: 0.1441 - accuracy: 0.9749 - val_loss: 0.4576 - val_accuracy: 0.8235\n",
      "Epoch 62/1000\n",
      "Epoch 62: Learning rate is 0.0038742045871913433.\n",
      "2/2 [==============================] - 0s 22ms/step - loss: 0.1445 - accuracy: 0.9848 - val_loss: 0.4262 - val_accuracy: 0.9412\n",
      "Epoch 63/1000\n",
      "Epoch 63: Learning rate is 0.0038742045871913433.\n",
      "2/2 [==============================] - 0s 24ms/step - loss: 0.1391 - accuracy: 0.9697 - val_loss: 0.4162 - val_accuracy: 0.9412\n",
      "\n",
      "Epoch 00063: ReduceLROnPlateau reducing learning rate to 0.003486784128472209.\n",
      "Epoch 64/1000\n",
      "Epoch 64: Learning rate is 0.0034867841750383377.\n",
      "2/2 [==============================] - 0s 23ms/step - loss: 0.1361 - accuracy: 0.9697 - val_loss: 0.4240 - val_accuracy: 0.9412\n",
      "Epoch 65/1000\n",
      "Epoch 65: Learning rate is 0.0034867841750383377.\n",
      "2/2 [==============================] - 0s 19ms/step - loss: 0.1342 - accuracy: 0.9848 - val_loss: 0.4351 - val_accuracy: 0.8824\n",
      "Epoch 66/1000\n",
      "Epoch 66: Learning rate is 0.0034867841750383377.\n",
      "2/2 [==============================] - 0s 24ms/step - loss: 0.1419 - accuracy: 0.9545 - val_loss: 0.4381 - val_accuracy: 0.8824\n",
      "Epoch 67/1000\n",
      "Epoch 67: Learning rate is 0.0034867841750383377.\n",
      "2/2 [==============================] - 0s 24ms/step - loss: 0.1421 - accuracy: 0.9545 - val_loss: 0.4336 - val_accuracy: 0.9412\n",
      "Epoch 68/1000\n",
      "Epoch 68: Learning rate is 0.0034867841750383377.\n",
      "2/2 [==============================] - 0s 18ms/step - loss: 0.1385 - accuracy: 0.9697 - val_loss: 0.4274 - val_accuracy: 0.9412\n",
      "\n",
      "Epoch 00068: ReduceLROnPlateau reducing learning rate to 0.003138105757534504.\n",
      "Epoch 69/1000\n",
      "Epoch 69: Learning rate is 0.0031381058506667614.\n",
      "2/2 [==============================] - 0s 18ms/step - loss: 0.1337 - accuracy: 0.9848 - val_loss: 0.4251 - val_accuracy: 0.9412\n",
      "Epoch 70/1000\n",
      "Epoch 70: Learning rate is 0.0031381058506667614.\n",
      "2/2 [==============================] - 0s 20ms/step - loss: 0.1313 - accuracy: 0.9848 - val_loss: 0.4280 - val_accuracy: 0.9412\n",
      "Epoch 71/1000\n",
      "Epoch 71: Learning rate is 0.0031381058506667614.\n",
      "2/2 [==============================] - 0s 19ms/step - loss: 0.1268 - accuracy: 0.9848 - val_loss: 0.4317 - val_accuracy: 0.9412\n",
      "Epoch 72/1000\n",
      "Epoch 72: Learning rate is 0.0031381058506667614.\n",
      "2/2 [==============================] - 0s 22ms/step - loss: 0.1262 - accuracy: 0.9697 - val_loss: 0.4362 - val_accuracy: 0.9412\n",
      "Epoch 73/1000\n",
      "Epoch 73: Learning rate is 0.0031381058506667614.\n",
      "2/2 [==============================] - 0s 26ms/step - loss: 0.1253 - accuracy: 0.9697 - val_loss: 0.4405 - val_accuracy: 0.9412\n",
      "\n",
      "Epoch 00073: ReduceLROnPlateau reducing learning rate to 0.0028242952656000854.\n",
      "Epoch 74/1000\n",
      "Epoch 74: Learning rate is 0.002824295312166214.\n",
      "2/2 [==============================] - 0s 20ms/step - loss: 0.1191 - accuracy: 0.9749 - val_loss: 0.4447 - val_accuracy: 0.9412\n",
      "Epoch 75/1000\n",
      "Epoch 75: Learning rate is 0.002824295312166214.\n",
      "2/2 [==============================] - 0s 20ms/step - loss: 0.1253 - accuracy: 0.9848 - val_loss: 0.4961 - val_accuracy: 0.8824\n",
      "Epoch 76/1000\n",
      "Epoch 76: Learning rate is 0.002824295312166214.\n",
      "2/2 [==============================] - 0s 18ms/step - loss: 0.1473 - accuracy: 0.9394 - val_loss: 0.5407 - val_accuracy: 0.8824\n",
      "Epoch 77/1000\n",
      "Epoch 77: Learning rate is 0.002824295312166214.\n",
      "2/2 [==============================] - 0s 24ms/step - loss: 0.1729 - accuracy: 0.9242 - val_loss: 0.5559 - val_accuracy: 0.8824\n",
      "Epoch 78/1000\n",
      "Epoch 78: Learning rate is 0.002824295312166214.\n",
      "2/2 [==============================] - 0s 19ms/step - loss: 0.1691 - accuracy: 0.9294 - val_loss: 0.5012 - val_accuracy: 0.8824\n",
      "\n",
      "Epoch 00078: ReduceLROnPlateau reducing learning rate to 0.0025418657809495927.\n",
      "Epoch 79/1000\n",
      "Epoch 79: Learning rate is 0.002541865687817335.\n",
      "2/2 [==============================] - 0s 20ms/step - loss: 0.1385 - accuracy: 0.9394 - val_loss: 0.4760 - val_accuracy: 0.9412\n",
      "Epoch 80/1000\n",
      "Epoch 80: Learning rate is 0.002541865687817335.\n",
      "2/2 [==============================] - 0s 19ms/step - loss: 0.1180 - accuracy: 1.0000 - val_loss: 0.4951 - val_accuracy: 0.8235\n",
      "Epoch 81/1000\n",
      "Epoch 81: Learning rate is 0.002541865687817335.\n",
      "2/2 [==============================] - 0s 19ms/step - loss: 0.1256 - accuracy: 1.0000 - val_loss: 0.4854 - val_accuracy: 0.8235\n",
      "Epoch 82/1000\n",
      "Epoch 82: Learning rate is 0.002541865687817335.\n",
      "2/2 [==============================] - 0s 22ms/step - loss: 0.1312 - accuracy: 0.9848 - val_loss: 0.4778 - val_accuracy: 0.8235\n",
      "Epoch 83/1000\n",
      "Epoch 83: Learning rate is 0.002541865687817335.\n",
      "2/2 [==============================] - 0s 18ms/step - loss: 0.1344 - accuracy: 0.9848 - val_loss: 0.4763 - val_accuracy: 0.8235\n",
      "\n",
      "Epoch 00083: ReduceLROnPlateau reducing learning rate to 0.0022876791190356016.\n",
      "Epoch 84/1000\n",
      "Epoch 84: Learning rate is 0.0022876791190356016.\n",
      "2/2 [==============================] - 0s 22ms/step - loss: 0.1270 - accuracy: 0.9848 - val_loss: 0.4929 - val_accuracy: 0.8235\n",
      "Epoch 85/1000\n",
      "Epoch 85: Learning rate is 0.0022876791190356016.\n",
      "2/2 [==============================] - 0s 20ms/step - loss: 0.1263 - accuracy: 1.0000 - val_loss: 0.4909 - val_accuracy: 0.8235\n",
      "Epoch 86/1000\n",
      "Epoch 86: Learning rate is 0.0022876791190356016.\n",
      "2/2 [==============================] - 0s 22ms/step - loss: 0.1166 - accuracy: 1.0000 - val_loss: 0.4825 - val_accuracy: 0.9412\n",
      "Epoch 87/1000\n",
      "Epoch 87: Learning rate is 0.0022876791190356016.\n",
      "2/2 [==============================] - 0s 20ms/step - loss: 0.1173 - accuracy: 0.9697 - val_loss: 0.4882 - val_accuracy: 0.9412\n",
      "Epoch 88/1000\n",
      "Epoch 88: Learning rate is 0.0022876791190356016.\n",
      "2/2 [==============================] - 0s 24ms/step - loss: 0.1198 - accuracy: 0.9697 - val_loss: 0.4987 - val_accuracy: 0.8824\n",
      "\n",
      "Epoch 00088: ReduceLROnPlateau reducing learning rate to 0.0020589112071320416.\n",
      "Epoch 89/1000\n",
      "Epoch 89: Learning rate is 0.0020589111372828484.\n",
      "2/2 [==============================] - 0s 19ms/step - loss: 0.1292 - accuracy: 0.9545 - val_loss: 0.5081 - val_accuracy: 0.8824\n",
      "Epoch 90/1000\n",
      "Epoch 90: Learning rate is 0.0020589111372828484.\n",
      "2/2 [==============================] - 0s 20ms/step - loss: 0.1284 - accuracy: 0.9446 - val_loss: 0.4962 - val_accuracy: 0.8824\n",
      "Epoch 91/1000\n",
      "Epoch 91: Learning rate is 0.0020589111372828484.\n",
      "2/2 [==============================] - 0s 23ms/step - loss: 0.1270 - accuracy: 0.9545 - val_loss: 0.4886 - val_accuracy: 0.9412\n",
      "Epoch 92/1000\n",
      "Epoch 92: Learning rate is 0.0020589111372828484.\n",
      "2/2 [==============================] - 0s 27ms/step - loss: 0.1188 - accuracy: 0.9697 - val_loss: 0.4894 - val_accuracy: 0.9412\n",
      "Epoch 93/1000\n",
      "Epoch 93: Learning rate is 0.0020589111372828484.\n",
      "2/2 [==============================] - 0s 20ms/step - loss: 0.1145 - accuracy: 0.9848 - val_loss: 0.4968 - val_accuracy: 0.8235\n",
      "\n",
      "Epoch 00093: ReduceLROnPlateau reducing learning rate to 0.0018530200235545636.\n",
      "Epoch 94/1000\n",
      "Epoch 94: Learning rate is 0.0018530200468376279.\n",
      "2/2 [==============================] - 0s 24ms/step - loss: 0.1133 - accuracy: 1.0000 - val_loss: 0.5027 - val_accuracy: 0.8235\n",
      "Epoch 95/1000\n",
      "Epoch 95: Learning rate is 0.0018530200468376279.\n",
      "2/2 [==============================] - 0s 20ms/step - loss: 0.1103 - accuracy: 1.0000 - val_loss: 0.5084 - val_accuracy: 0.8235\n",
      "Epoch 96/1000\n",
      "Epoch 96: Learning rate is 0.0018530200468376279.\n",
      "2/2 [==============================] - 0s 18ms/step - loss: 0.1149 - accuracy: 1.0000 - val_loss: 0.5128 - val_accuracy: 0.8235\n",
      "Epoch 97/1000\n",
      "Epoch 97: Learning rate is 0.0018530200468376279.\n",
      "2/2 [==============================] - 0s 23ms/step - loss: 0.1159 - accuracy: 1.0000 - val_loss: 0.5153 - val_accuracy: 0.8235\n",
      "Epoch 98/1000\n",
      "Epoch 98: Learning rate is 0.0018530200468376279.\n",
      "2/2 [==============================] - 0s 23ms/step - loss: 0.1163 - accuracy: 1.0000 - val_loss: 0.5168 - val_accuracy: 0.8235\n",
      "\n",
      "Epoch 00098: ReduceLROnPlateau reducing learning rate to 0.0016677180421538651.\n",
      "Epoch 99/1000\n",
      "Epoch 99: Learning rate is 0.0016677180537953973.\n",
      "2/2 [==============================] - 0s 19ms/step - loss: 0.1159 - accuracy: 1.0000 - val_loss: 0.5167 - val_accuracy: 0.8235\n",
      "Epoch 100/1000\n",
      "Epoch 100: Learning rate is 0.0016677180537953973.\n",
      "2/2 [==============================] - 0s 22ms/step - loss: 0.1116 - accuracy: 1.0000 - val_loss: 0.5160 - val_accuracy: 0.8235\n",
      "Epoch 101/1000\n",
      "Epoch 101: Learning rate is 0.0016677180537953973.\n",
      "2/2 [==============================] - 0s 18ms/step - loss: 0.1113 - accuracy: 1.0000 - val_loss: 0.5126 - val_accuracy: 0.8235\n",
      "Epoch 102/1000\n",
      "Epoch 102: Learning rate is 0.0016677180537953973.\n",
      "2/2 [==============================] - 0s 22ms/step - loss: 0.1115 - accuracy: 1.0000 - val_loss: 0.5069 - val_accuracy: 0.8824\n",
      "Epoch 103/1000\n",
      "Epoch 103: Learning rate is 0.0016677180537953973.\n",
      "2/2 [==============================] - 0s 18ms/step - loss: 0.1108 - accuracy: 1.0000 - val_loss: 0.5052 - val_accuracy: 0.9412\n",
      "\n",
      "Epoch 00103: ReduceLROnPlateau reducing learning rate to 0.0015009462484158575.\n",
      "Epoch 104/1000\n",
      "Epoch 104: Learning rate is 0.0015009462367743254.\n",
      "2/2 [==============================] - 0s 21ms/step - loss: 0.1126 - accuracy: 0.9697 - val_loss: 0.5080 - val_accuracy: 0.9412\n",
      "Epoch 105/1000\n",
      "Epoch 105: Learning rate is 0.0015009462367743254.\n",
      "2/2 [==============================] - 0s 19ms/step - loss: 0.1109 - accuracy: 0.9697 - val_loss: 0.5115 - val_accuracy: 0.9412\n",
      "Epoch 106/1000\n",
      "Epoch 106: Learning rate is 0.0015009462367743254.\n",
      "2/2 [==============================] - 0s 18ms/step - loss: 0.1141 - accuracy: 0.9697 - val_loss: 0.5152 - val_accuracy: 0.9412\n",
      "Epoch 107/1000\n",
      "Epoch 107: Learning rate is 0.0015009462367743254.\n",
      "2/2 [==============================] - 0s 17ms/step - loss: 0.1118 - accuracy: 0.9697 - val_loss: 0.5208 - val_accuracy: 0.9412\n",
      "Epoch 108/1000\n",
      "Epoch 108: Learning rate is 0.0015009462367743254.\n",
      "2/2 [==============================] - 0s 22ms/step - loss: 0.1101 - accuracy: 0.9848 - val_loss: 0.5263 - val_accuracy: 0.8824\n",
      "\n",
      "Epoch 00108: ReduceLROnPlateau reducing learning rate to 0.0013508516130968928.\n",
      "Epoch 109/1000\n",
      "Epoch 109: Learning rate is 0.0013508516130968928.\n",
      "2/2 [==============================] - 0s 18ms/step - loss: 0.1025 - accuracy: 1.0000 - val_loss: 0.5307 - val_accuracy: 0.8824\n",
      "Epoch 110/1000\n",
      "Epoch 110: Learning rate is 0.0013508516130968928.\n",
      "2/2 [==============================] - 0s 18ms/step - loss: 0.1053 - accuracy: 1.0000 - val_loss: 0.5347 - val_accuracy: 0.8824\n",
      "Epoch 111/1000\n",
      "Epoch 111: Learning rate is 0.0013508516130968928.\n",
      "2/2 [==============================] - 0s 22ms/step - loss: 0.1048 - accuracy: 1.0000 - val_loss: 0.5383 - val_accuracy: 0.8824\n",
      "Epoch 112/1000\n",
      "Epoch 112: Learning rate is 0.0013508516130968928.\n",
      "2/2 [==============================] - 0s 18ms/step - loss: 0.1012 - accuracy: 1.0000 - val_loss: 0.5412 - val_accuracy: 0.8235\n",
      "Epoch 113/1000\n",
      "Epoch 113: Learning rate is 0.0013508516130968928.\n",
      "2/2 [==============================] - 0s 18ms/step - loss: 0.1042 - accuracy: 1.0000 - val_loss: 0.5441 - val_accuracy: 0.8235\n",
      "\n",
      "Epoch 00113: ReduceLROnPlateau reducing learning rate to 0.0012157664517872036.\n",
      "Epoch 114/1000\n",
      "Epoch 114: Learning rate is 0.001215766416862607.\n",
      "2/2 [==============================] - 0s 22ms/step - loss: 0.1072 - accuracy: 1.0000 - val_loss: 0.5465 - val_accuracy: 0.8235\n",
      "Epoch 115/1000\n",
      "Epoch 115: Learning rate is 0.001215766416862607.\n",
      "2/2 [==============================] - 0s 19ms/step - loss: 0.1069 - accuracy: 1.0000 - val_loss: 0.5486 - val_accuracy: 0.8235\n",
      "Epoch 116/1000\n",
      "Epoch 116: Learning rate is 0.001215766416862607.\n",
      "2/2 [==============================] - 0s 18ms/step - loss: 0.1065 - accuracy: 1.0000 - val_loss: 0.5502 - val_accuracy: 0.8235\n",
      "Epoch 117/1000\n",
      "Epoch 117: Learning rate is 0.001215766416862607.\n",
      "2/2 [==============================] - 0s 18ms/step - loss: 0.1029 - accuracy: 1.0000 - val_loss: 0.5515 - val_accuracy: 0.8235\n",
      "Epoch 118/1000\n",
      "Epoch 118: Learning rate is 0.001215766416862607.\n",
      "2/2 [==============================] - 0s 27ms/step - loss: 0.1058 - accuracy: 1.0000 - val_loss: 0.5524 - val_accuracy: 0.8235\n",
      "\n",
      "Epoch 00118: ReduceLROnPlateau reducing learning rate to 0.0010941897751763463.\n",
      "Epoch 119/1000\n",
      "Epoch 119: Learning rate is 0.001094189821742475.\n",
      "2/2 [==============================] - 0s 35ms/step - loss: 0.1055 - accuracy: 1.0000 - val_loss: 0.5530 - val_accuracy: 0.8824\n",
      "Epoch 120/1000\n",
      "Epoch 120: Learning rate is 0.001094189821742475.\n",
      "2/2 [==============================] - 0s 34ms/step - loss: 0.1052 - accuracy: 1.0000 - val_loss: 0.5535 - val_accuracy: 0.8824\n",
      "Epoch 121/1000\n",
      "Epoch 121: Learning rate is 0.001094189821742475.\n",
      "2/2 [==============================] - 0s 29ms/step - loss: 0.1015 - accuracy: 1.0000 - val_loss: 0.5550 - val_accuracy: 0.8235\n",
      "Epoch 122/1000\n",
      "Epoch 122: Learning rate is 0.001094189821742475.\n",
      "2/2 [==============================] - 0s 18ms/step - loss: 0.1047 - accuracy: 1.0000 - val_loss: 0.5574 - val_accuracy: 0.8235\n",
      "Epoch 123/1000\n",
      "Epoch 123: Learning rate is 0.001094189821742475.\n",
      "2/2 [==============================] - 0s 18ms/step - loss: 0.1051 - accuracy: 1.0000 - val_loss: 0.5592 - val_accuracy: 0.8235\n",
      "\n",
      "Epoch 00123: ReduceLROnPlateau reducing learning rate to 0.0009847708395682275.\n",
      "Epoch 124/1000\n",
      "Epoch 124: Learning rate is 0.0009847708279266953.\n",
      "2/2 [==============================] - 0s 20ms/step - loss: 0.1056 - accuracy: 1.0000 - val_loss: 0.5602 - val_accuracy: 0.8235\n",
      "Epoch 125/1000\n",
      "Epoch 125: Learning rate is 0.0009847708279266953.\n",
      "2/2 [==============================] - 0s 18ms/step - loss: 0.1025 - accuracy: 1.0000 - val_loss: 0.5605 - val_accuracy: 0.8235\n",
      "Epoch 126/1000\n",
      "Epoch 126: Learning rate is 0.0009847708279266953.\n",
      "2/2 [==============================] - 0s 18ms/step - loss: 0.1057 - accuracy: 1.0000 - val_loss: 0.5602 - val_accuracy: 0.8235\n",
      "Epoch 127/1000\n",
      "Epoch 127: Learning rate is 0.0009847708279266953.\n",
      "2/2 [==============================] - 0s 23ms/step - loss: 0.1053 - accuracy: 1.0000 - val_loss: 0.5596 - val_accuracy: 0.8235\n",
      "Epoch 128/1000\n",
      "Epoch 128: Learning rate is 0.0009847708279266953.\n",
      "2/2 [==============================] - 0s 20ms/step - loss: 0.1048 - accuracy: 1.0000 - val_loss: 0.5586 - val_accuracy: 0.8235\n",
      "\n",
      "Epoch 00128: ReduceLROnPlateau reducing learning rate to 0.0008862937451340258.\n",
      "Epoch 129/1000\n",
      "Epoch 129: Learning rate is 0.0008862937684170902.\n",
      "2/2 [==============================] - 0s 28ms/step - loss: 0.1010 - accuracy: 1.0000 - val_loss: 0.5577 - val_accuracy: 0.8824\n",
      "Epoch 130/1000\n",
      "Epoch 130: Learning rate is 0.0008862937684170902.\n",
      "2/2 [==============================] - 0s 28ms/step - loss: 0.1005 - accuracy: 1.0000 - val_loss: 0.5570 - val_accuracy: 0.8824\n",
      "Epoch 131/1000\n",
      "Epoch 131: Learning rate is 0.0008862937684170902.\n",
      "2/2 [==============================] - 0s 23ms/step - loss: 0.1000 - accuracy: 1.0000 - val_loss: 0.5564 - val_accuracy: 0.8824\n",
      "Epoch 132/1000\n",
      "Epoch 132: Learning rate is 0.0008862937684170902.\n",
      "2/2 [==============================] - 0s 21ms/step - loss: 0.1028 - accuracy: 1.0000 - val_loss: 0.5560 - val_accuracy: 0.8824\n",
      "Epoch 133/1000\n",
      "Epoch 133: Learning rate is 0.0008862937684170902.\n",
      "2/2 [==============================] - 0s 18ms/step - loss: 0.1023 - accuracy: 1.0000 - val_loss: 0.5557 - val_accuracy: 0.9412\n",
      "\n",
      "Epoch 00133: ReduceLROnPlateau reducing learning rate to 0.0007976643915753812.\n",
      "Epoch 134/1000\n",
      "Epoch 134: Learning rate is 0.0007976643973961473.\n",
      "2/2 [==============================] - 0s 18ms/step - loss: 0.0987 - accuracy: 1.0000 - val_loss: 0.5554 - val_accuracy: 0.9412\n",
      "Epoch 135/1000\n",
      "Epoch 135: Learning rate is 0.0007976643973961473.\n",
      "2/2 [==============================] - 0s 23ms/step - loss: 0.1015 - accuracy: 1.0000 - val_loss: 0.5554 - val_accuracy: 0.9412\n",
      "Epoch 136/1000\n",
      "Epoch 136: Learning rate is 0.0007976643973961473.\n",
      "2/2 [==============================] - 0s 19ms/step - loss: 0.0981 - accuracy: 1.0000 - val_loss: 0.5556 - val_accuracy: 0.9412\n",
      "Epoch 137/1000\n",
      "Epoch 137: Learning rate is 0.0007976643973961473.\n",
      "2/2 [==============================] - 0s 28ms/step - loss: 0.0980 - accuracy: 1.0000 - val_loss: 0.5560 - val_accuracy: 0.9412\n",
      "Epoch 138/1000\n",
      "Epoch 138: Learning rate is 0.0007976643973961473.\n",
      "2/2 [==============================] - 0s 23ms/step - loss: 0.0978 - accuracy: 1.0000 - val_loss: 0.5564 - val_accuracy: 0.9412\n",
      "Restoring model weights from the end of the best epoch.\n",
      "\n",
      "Epoch 00138: ReduceLROnPlateau reducing learning rate to 0.0007178979576565325.\n",
      "Epoch 00138: early stopping\n"
     ]
    }
   ],
   "source": [
    "# Pass the callback to the fit method\n",
    "history = model.fit(\n",
    "    X_train,\n",
    "    y_train,\n",
    "    validation_split=0.2,\n",
    "    epochs=1000,\n",
    "    batch_size=64,\n",
    "    callbacks=callbacks  # include it here\n",
    ")"
   ],
   "metadata": {
    "collapsed": false,
    "ExecuteTime": {
     "end_time": "2024-02-16T22:16:36.089744003Z",
     "start_time": "2024-02-16T22:16:30.054454693Z"
    }
   },
   "id": "bd3f41f1f688e43"
  },
  {
   "cell_type": "code",
   "execution_count": 9,
   "outputs": [
    {
     "name": "stdout",
     "output_type": "stream",
     "text": [
      "1/1 [==============================] - 0s 10ms/step - loss: 2.1761 - accuracy: 0.9524\n",
      "Test accuracy: 0.9523809552192688\n",
      "Test loss: 2.176074504852295\n"
     ]
    }
   ],
   "source": [
    "# Evaluating the model\n",
    "test_loss, test_acc = model.evaluate(X_test, y_test)\n",
    "print('Test accuracy:', test_acc)\n",
    "print('Test loss:', test_loss)"
   ],
   "metadata": {
    "collapsed": false,
    "ExecuteTime": {
     "end_time": "2024-02-16T22:16:43.032915341Z",
     "start_time": "2024-02-16T22:16:43.004837668Z"
    }
   },
   "id": "initial_id"
  },
  {
   "cell_type": "code",
   "outputs": [
    {
     "data": {
      "text/plain": "array([[ 7,  0,  0],\n       [ 1,  3,  0],\n       [ 0,  0, 10]])"
     },
     "execution_count": 10,
     "metadata": {},
     "output_type": "execute_result"
    }
   ],
   "source": [
    "#confusion matrix\n",
    "from sklearn.metrics import confusion_matrix\n",
    "import numpy as np\n",
    "y_pred = model.predict(X_test)\n",
    "y_pred = np.argmax(y_pred, axis=1)\n",
    "y_test = np.argmax(y_test, axis=1)\n",
    "confusion_matrix(y_test, y_pred)"
   ],
   "metadata": {
    "collapsed": false,
    "ExecuteTime": {
     "end_time": "2024-02-16T22:16:46.308377363Z",
     "start_time": "2024-02-16T22:16:46.249969239Z"
    }
   },
   "id": "1352cb1eded44f03",
   "execution_count": 10
  },
  {
   "cell_type": "code",
   "execution_count": 11,
   "outputs": [
    {
     "data": {
      "text/plain": "<Figure size 640x480 with 1 Axes>",
      "image/png": "[encoded data removed]"
     },
     "metadata": {},
     "output_type": "display_data"
    },
    {
     "data": {
      "text/plain": "<Figure size 640x480 with 1 Axes>",
      "image/png": "[encoded data removed]"
     },
     "metadata": {},
     "output_type": "display_data"
    },
    {
     "data": {
      "text/plain": "<Figure size 640x480 with 1 Axes>",
      "image/png": "[encoded data removed]"
     },
     "metadata": {},
     "output_type": "display_data"
    }
   ],
   "source": [
    "# Plotting the training and validation loss\n",
    "import matplotlib.pyplot as plt\n",
    "\n",
    "plt.plot(history.history['loss'])\n",
    "plt.plot(history.history['val_loss'])\n",
    "plt.title('Model loss')\n",
    "plt.ylabel('Loss')\n",
    "plt.xlabel('Epochs')\n",
    "plt.legend(['Train', 'Validation'], loc='upper right')\n",
    "plt.show()\n",
    "\n",
    "plt.plot(history.history['accuracy'])\n",
    "plt.plot(history.history['val_accuracy'])\n",
    "plt.title('Model accuracy')\n",
    "plt.ylabel('Accuracy')\n",
    "plt.xlabel('Epochs')\n",
    "plt.legend(['Train', 'Validation'], loc='lower right')\n",
    "plt.show()\n",
    "\n",
    "# Plotting\n",
    "# plt.figure(figsize=(8, 8))\n",
    "plt.plot(lr_tracker.learning_rates)\n",
    "plt.title(\"Learning Rate over Epochs\")\n",
    "plt.xlabel(\"Epoch\")\n",
    "plt.ylabel(\"Learning Rate\")\n",
    "plt.grid(True)"
   ],
   "metadata": {
    "collapsed": false,
    "ExecuteTime": {
     "end_time": "2024-02-16T22:16:53.515815048Z",
     "start_time": "2024-02-16T22:16:51.843014355Z"
    }
   },
   "id": "1d82547b5da98e0"
  },
  {
   "cell_type": "code",
   "execution_count": 9,
   "outputs": [
    {
     "name": "stderr",
     "output_type": "stream",
     "text": [
      "2024-02-16 11:47:23.817471: W tensorflow/python/util/util.cc:348] Sets are not currently considered sequences, but this may change in the future, so consider avoiding using them.\n"
     ]
    },
    {
     "name": "stdout",
     "output_type": "stream",
     "text": [
      "INFO:tensorflow:Assets written to: /home/adam/FurtherResearch/Model/Exoskeleton/Specific/exo_model/assets\n"
     ]
    }
   ],
   "source": [
    "# Save the model\n",
    "tf.keras.models.save_model(model, '/home/adam/FurtherResearch/Model/Exoskeleton/Specific/exo_model')"
   ],
   "metadata": {
    "collapsed": false,
    "ExecuteTime": {
     "end_time": "2024-02-16T11:47:25.058685626Z",
     "start_time": "2024-02-16T11:47:23.707556623Z"
    }
   },
   "id": "971afc8f1ecd8193"
  },
  {
   "cell_type": "code",
   "execution_count": 10,
   "outputs": [
    {
     "name": "stdout",
     "output_type": "stream",
     "text": [
      "Model: \"model\"\n",
      "_________________________________________________________________\n",
      "Layer (type)                 Output Shape              Param #   \n",
      "=================================================================\n",
      "dense_0_input (InputLayer)   [(None, 63)]              0         \n",
      "_________________________________________________________________\n",
      "dense_0 (Dense)              (None, 128)               8192      \n",
      "_________________________________________________________________\n",
      "dense_1 (Dense)              (None, 64)                8256      \n",
      "_________________________________________________________________\n",
      "dense_2 (Dense)              (None, 3)                 195       \n",
      "=================================================================\n",
      "Total params: 16,643\n",
      "Trainable params: 16,643\n",
      "Non-trainable params: 0\n",
      "_________________________________________________________________\n"
     ]
    }
   ],
   "source": [
    "from tensorflow.keras.models import Model\n",
    "\n",
    "# model.summary()\n",
    "# Assume 'original_model' is your pre-trained model\n",
    "model_without_softmax = Model(inputs=model.input, \n",
    "                              outputs=model.get_layer(\"dense_2\").output)\n",
    "model_without_softmax.summary()\n"
   ],
   "metadata": {
    "collapsed": false,
    "ExecuteTime": {
     "end_time": "2024-02-16T11:47:33.070412965Z",
     "start_time": "2024-02-16T11:47:33.026840309Z"
    }
   },
   "id": "9445a32c75176e7b"
  },
  {
   "cell_type": "code",
   "execution_count": 11,
   "outputs": [
    {
     "name": "stdout",
     "output_type": "stream",
     "text": [
      "INFO:tensorflow:Assets written to: /home/adam/FurtherResearch/Model/Exoskeleton/Specific/exo_model_without_softmax/assets\n"
     ]
    }
   ],
   "source": [
    "# Save the model\n",
    "tf.keras.models.save_model(model_without_softmax, '/home/adam/FurtherResearch/Model/Exoskeleton/Specific/exo_model_without_softmax')"
   ],
   "metadata": {
    "collapsed": false,
    "ExecuteTime": {
     "end_time": "2024-02-16T11:47:42.775677573Z",
     "start_time": "2024-02-16T11:47:42.556909300Z"
    }
   },
   "id": "61da15b78744777b"
  },
  {
   "cell_type": "code",
   "execution_count": 32,
   "outputs": [
    {
     "name": "stdout",
     "output_type": "stream",
     "text": [
      "WARNING:tensorflow:No training configuration found in save file, so the model was *not* compiled. Compile it manually.\n"
     ]
    },
    {
     "data": {
      "text/plain": "array([[7.91898880e+01, 5.57430792e+00, 6.68306274e+01],\n       [0.00000000e+00, 3.90658832e+00, 0.00000000e+00],\n       [0.00000000e+00, 0.00000000e+00, 0.00000000e+00],\n       [0.00000000e+00, 9.56836033e+00, 0.00000000e+00],\n       [0.00000000e+00, 9.63489592e-01, 0.00000000e+00],\n       [0.00000000e+00, 0.00000000e+00, 0.00000000e+00],\n       [2.05130844e+01, 2.18199577e+01, 6.36735821e+00],\n       [0.00000000e+00, 2.25438766e+01, 0.00000000e+00],\n       [6.59429092e+01, 1.70275002e+01, 5.27950058e+01],\n       [6.52022781e+01, 1.99708233e+01, 5.08618851e+01],\n       [0.00000000e+00, 0.00000000e+00, 0.00000000e+00],\n       [5.90349998e+01, 1.78758469e+01, 4.42702179e+01],\n       [0.00000000e+00, 1.00491638e+01, 0.00000000e+00],\n       [0.00000000e+00, 0.00000000e+00, 0.00000000e+00],\n       [0.00000000e+00, 0.00000000e+00, 0.00000000e+00],\n       [0.00000000e+00, 0.00000000e+00, 0.00000000e+00],\n       [3.45404434e+01, 2.00261917e+01, 1.99619961e+01],\n       [0.00000000e+00, 2.16502213e+00, 0.00000000e+00],\n       [1.49675888e+02, 3.46249886e+01, 1.25935844e+02],\n       [0.00000000e+00, 1.08430662e+01, 0.00000000e+00],\n       [8.10442200e+01, 2.38256493e+01, 6.35654678e+01],\n       [5.99550247e+01, 1.94702454e+01, 4.70332260e+01],\n       [0.00000000e+00, 0.00000000e+00, 0.00000000e+00],\n       [0.00000000e+00, 1.13088453e+00, 0.00000000e+00],\n       [4.14269104e+01, 1.21164799e+01, 3.25735779e+01],\n       [0.00000000e+00, 6.08060312e+00, 0.00000000e+00],\n       [0.00000000e+00, 5.10136414e+00, 0.00000000e+00],\n       [0.00000000e+00, 0.00000000e+00, 0.00000000e+00],\n       [9.67972565e+01, 3.05324192e+01, 8.06252289e+01],\n       [0.00000000e+00, 0.00000000e+00, 0.00000000e+00],\n       [0.00000000e+00, 0.00000000e+00, 0.00000000e+00],\n       [6.63790817e+01, 1.90754166e+01, 5.11629028e+01],\n       [0.00000000e+00, 3.17098069e+00, 0.00000000e+00],\n       [3.38438072e+01, 1.42922382e+01, 2.48223038e+01],\n       [0.00000000e+00, 4.62081194e+00, 0.00000000e+00],\n       [0.00000000e+00, 0.00000000e+00, 0.00000000e+00],\n       [0.00000000e+00, 0.00000000e+00, 0.00000000e+00],\n       [0.00000000e+00, 0.00000000e+00, 0.00000000e+00],\n       [0.00000000e+00, 5.81919193e+00, 0.00000000e+00],\n       [9.12653427e+01, 0.00000000e+00, 7.89331207e+01],\n       [0.00000000e+00, 0.00000000e+00, 0.00000000e+00],\n       [0.00000000e+00, 2.13683224e+00, 0.00000000e+00],\n       [7.52585373e+01, 2.10117760e+01, 6.43474503e+01],\n       [0.00000000e+00, 7.71293592e+00, 0.00000000e+00],\n       [0.00000000e+00, 6.32173395e+00, 0.00000000e+00],\n       [0.00000000e+00, 1.17875376e+01, 0.00000000e+00],\n       [0.00000000e+00, 0.00000000e+00, 0.00000000e+00],\n       [0.00000000e+00, 4.68138266e+00, 0.00000000e+00],\n       [5.09792633e+01, 1.84472122e+01, 4.00433846e+01],\n       [0.00000000e+00, 1.16123753e+01, 0.00000000e+00],\n       [5.52049637e+01, 1.61420593e+01, 4.46497765e+01],\n       [4.09868774e+01, 1.21371727e+01, 3.24046097e+01],\n       [0.00000000e+00, 3.63345194e+00, 0.00000000e+00],\n       [7.50502634e+00, 3.10184517e+01, 4.10724974e+00],\n       [7.27775497e+01, 2.58337898e+01, 5.58700409e+01],\n       [3.58186493e+01, 1.39175682e+01, 2.54058094e+01],\n       [2.32790489e+01, 2.59444809e+00, 1.74767208e+01],\n       [0.00000000e+00, 0.00000000e+00, 0.00000000e+00],\n       [1.17343620e+02, 2.55190830e+01, 1.03485344e+02],\n       [0.00000000e+00, 9.24306512e-01, 0.00000000e+00],\n       [1.40316605e+02, 1.63054047e+01, 1.25644218e+02],\n       [1.45959549e+02, 2.94769821e+01, 1.25607208e+02],\n       [0.00000000e+00, 4.44881248e+00, 0.00000000e+00],\n       [4.33991241e+01, 9.33581543e+00, 3.47576523e+01],\n       [0.00000000e+00, 0.00000000e+00, 0.00000000e+00],\n       [4.22476845e+01, 1.69905701e+01, 3.22868118e+01],\n       [0.00000000e+00, 1.22669029e+01, 0.00000000e+00],\n       [0.00000000e+00, 6.94787502e+00, 0.00000000e+00],\n       [1.53056351e+02, 2.10454025e+01, 1.35984604e+02],\n       [1.27088913e+02, 3.05119133e+01, 1.10100502e+02],\n       [0.00000000e+00, 6.31912804e+00, 0.00000000e+00],\n       [0.00000000e+00, 7.67586184e+00, 0.00000000e+00],\n       [3.47888718e+01, 4.18330050e+00, 2.68960629e+01],\n       [0.00000000e+00, 4.38828975e-01, 0.00000000e+00],\n       [9.75256271e+01, 5.96733379e+00, 8.29090424e+01],\n       [0.00000000e+00, 0.00000000e+00, 0.00000000e+00],\n       [0.00000000e+00, 4.44261885e+00, 0.00000000e+00],\n       [0.00000000e+00, 0.00000000e+00, 0.00000000e+00],\n       [0.00000000e+00, 0.00000000e+00, 0.00000000e+00],\n       [4.30506401e+01, 1.90791283e+01, 3.24760017e+01],\n       [0.00000000e+00, 5.01938009e+00, 0.00000000e+00],\n       [0.00000000e+00, 2.56044292e+00, 0.00000000e+00],\n       [0.00000000e+00, 0.00000000e+00, 0.00000000e+00],\n       [0.00000000e+00, 0.00000000e+00, 0.00000000e+00],\n       [1.24470528e+02, 2.80709801e+01, 1.09591919e+02],\n       [4.77738266e+01, 0.00000000e+00, 3.90330429e+01],\n       [0.00000000e+00, 0.00000000e+00, 0.00000000e+00],\n       [0.00000000e+00, 5.97510958e+00, 0.00000000e+00],\n       [6.08356361e+01, 1.90026283e+01, 5.03472137e+01],\n       [0.00000000e+00, 0.00000000e+00, 0.00000000e+00],\n       [8.90541382e+01, 4.24789696e+01, 5.99780502e+01],\n       [0.00000000e+00, 3.63595295e+00, 0.00000000e+00],\n       [2.20917999e+02, 4.23916435e+01, 1.89910431e+02],\n       [0.00000000e+00, 7.43080282e+00, 0.00000000e+00],\n       [0.00000000e+00, 3.35619259e+00, 0.00000000e+00],\n       [0.00000000e+00, 0.00000000e+00, 0.00000000e+00],\n       [0.00000000e+00, 1.49282014e+00, 0.00000000e+00],\n       [3.47651749e+01, 1.79060421e+01, 2.30381145e+01],\n       [9.54885178e+01, 0.00000000e+00, 7.69791183e+01],\n       [2.63136921e+01, 9.90148067e+00, 1.77368603e+01],\n       [0.00000000e+00, 0.00000000e+00, 0.00000000e+00],\n       [1.31954071e+02, 1.66453247e+01, 1.18146088e+02],\n       [0.00000000e+00, 3.13031912e+00, 0.00000000e+00],\n       [0.00000000e+00, 0.00000000e+00, 0.00000000e+00],\n       [1.19982246e+02, 3.19591255e+01, 9.65410156e+01],\n       [0.00000000e+00, 0.00000000e+00, 0.00000000e+00],\n       [9.27786331e+01, 2.43698597e+01, 7.95628967e+01],\n       [4.81282196e+01, 2.35956879e+01, 3.57844467e+01],\n       [7.27855911e+01, 2.87626953e+01, 5.95355530e+01],\n       [5.31254044e+01, 1.03937035e+01, 4.18373947e+01],\n       [2.64360905e+01, 1.13084545e+01, 1.88435955e+01],\n       [4.36284637e+01, 1.57054892e+01, 3.25612259e+01],\n       [0.00000000e+00, 0.00000000e+00, 0.00000000e+00],\n       [0.00000000e+00, 2.09191155e+00, 0.00000000e+00],\n       [0.00000000e+00, 4.84042215e+00, 0.00000000e+00],\n       [0.00000000e+00, 0.00000000e+00, 0.00000000e+00],\n       [3.12126637e+00, 1.96055412e+01, 0.00000000e+00],\n       [3.46745300e+01, 7.36459351e+00, 2.84451180e+01],\n       [0.00000000e+00, 6.70250082e+00, 0.00000000e+00],\n       [0.00000000e+00, 0.00000000e+00, 0.00000000e+00],\n       [5.96764145e+01, 2.25087357e+01, 4.54719849e+01],\n       [4.56122360e+01, 1.64567642e+01, 3.48950119e+01],\n       [8.00139160e+01, 2.64989662e+01, 6.01479645e+01],\n       [1.32840210e+02, 3.53330193e+01, 1.11737946e+02],\n       [1.43377548e+02, 2.08186302e+01, 1.26568024e+02],\n       [4.11074982e+01, 2.80552387e+00, 3.28321877e+01],\n       [0.00000000e+00, 2.23065996e+00, 0.00000000e+00],\n       [0.00000000e+00, 0.00000000e+00, 0.00000000e+00],\n       [0.00000000e+00, 0.00000000e+00, 0.00000000e+00],\n       [9.58649521e+01, 2.35653496e+01, 7.80518188e+01],\n       [0.00000000e+00, 2.22625470e+00, 0.00000000e+00],\n       [9.34331436e+01, 5.29867554e+00, 8.01641235e+01],\n       [0.00000000e+00, 8.35549545e+00, 0.00000000e+00],\n       [8.39136658e+01, 2.39025726e+01, 6.69991150e+01],\n       [6.27387810e+01, 2.24502659e+00, 5.59911499e+01],\n       [0.00000000e+00, 0.00000000e+00, 0.00000000e+00],\n       [0.00000000e+00, 6.25999165e+00, 0.00000000e+00],\n       [0.00000000e+00, 0.00000000e+00, 0.00000000e+00],\n       [0.00000000e+00, 7.01340437e+00, 0.00000000e+00],\n       [0.00000000e+00, 3.07890725e+00, 0.00000000e+00],\n       [9.47310410e+01, 1.82698879e+01, 8.19715881e+01],\n       [0.00000000e+00, 0.00000000e+00, 0.00000000e+00],\n       [4.02712402e+01, 1.14962463e+01, 3.19702015e+01],\n       [4.26644287e+01, 1.66430054e+01, 3.11320629e+01],\n       [4.80641508e+00, 2.44732265e+01, 2.33881164e+00],\n       [4.97464371e+01, 3.53606224e+00, 4.47060776e+01],\n       [3.14637985e+01, 1.31659660e+01, 2.37390156e+01],\n       [0.00000000e+00, 9.29631805e+00, 0.00000000e+00],\n       [7.66834946e+01, 1.99726963e+01, 5.90892296e+01],\n       [2.57349854e+01, 0.00000000e+00, 2.15979252e+01],\n       [7.54132233e+01, 8.86683941e+00, 6.30738068e+01],\n       [0.00000000e+00, 3.31858850e+00, 0.00000000e+00],\n       [0.00000000e+00, 0.00000000e+00, 0.00000000e+00],\n       [0.00000000e+00, 0.00000000e+00, 0.00000000e+00],\n       [2.62787819e+01, 1.70594120e+01, 1.64683971e+01],\n       [0.00000000e+00, 0.00000000e+00, 0.00000000e+00],\n       [0.00000000e+00, 0.00000000e+00, 0.00000000e+00],\n       [2.99962158e+01, 1.61330795e+01, 2.05886898e+01],\n       [6.21927032e+01, 3.86622262e+00, 5.45226059e+01],\n       [1.01568169e+02, 2.91566229e+00, 8.53578720e+01],\n       [7.32183304e+01, 2.00263176e+01, 5.72897263e+01],\n       [0.00000000e+00, 5.96251154e+00, 0.00000000e+00],\n       [0.00000000e+00, 0.00000000e+00, 0.00000000e+00],\n       [0.00000000e+00, 0.00000000e+00, 0.00000000e+00],\n       [1.49046326e+02, 3.92215424e+01, 1.27941986e+02],\n       [0.00000000e+00, 0.00000000e+00, 0.00000000e+00],\n       [0.00000000e+00, 5.24081326e+00, 0.00000000e+00],\n       [1.36444412e+02, 3.39976768e+01, 1.15721100e+02],\n       [3.74047928e+01, 1.91616917e+01, 2.56294479e+01],\n       [2.44863739e+01, 1.28985138e+01, 1.72310429e+01],\n       [1.02996483e+02, 2.57827187e+01, 9.03926849e+01],\n       [9.30058060e+01, 2.24670811e+01, 7.41154633e+01],\n       [1.57784500e+02, 2.18118477e+01, 1.40912262e+02],\n       [1.43186325e+02, 3.52042732e+01, 1.21823517e+02],\n       [0.00000000e+00, 0.00000000e+00, 0.00000000e+00],\n       [1.17151575e+01, 6.96941948e+00, 5.31190395e+00],\n       [0.00000000e+00, 3.22134876e+00, 0.00000000e+00],\n       [4.99864731e+01, 6.62245417e+00, 4.11240044e+01],\n       [3.85775108e+01, 1.22046804e+01, 3.02527485e+01],\n       [2.17183426e+02, 2.64672089e+01, 1.86885712e+02],\n       [2.99463692e+01, 1.09633799e+01, 2.33181286e+01],\n       [2.49821815e+01, 5.60227489e+00, 1.76061554e+01],\n       [0.00000000e+00, 0.00000000e+00, 0.00000000e+00],\n       [1.59955204e+00, 4.48289537e+00, 0.00000000e+00],\n       [8.07290421e+01, 3.36475563e+01, 6.07211456e+01],\n       [0.00000000e+00, 2.76405067e+01, 0.00000000e+00],\n       [0.00000000e+00, 7.89778519e+00, 0.00000000e+00],\n       [0.00000000e+00, 9.49864006e+00, 0.00000000e+00],\n       [3.92977333e+01, 1.15418148e+01, 3.15516052e+01],\n       [0.00000000e+00, 7.27877235e+00, 0.00000000e+00],\n       [5.81858101e+01, 1.91847191e+01, 4.36680450e+01],\n       [0.00000000e+00, 7.16504991e-01, 0.00000000e+00],\n       [0.00000000e+00, 0.00000000e+00, 0.00000000e+00],\n       [0.00000000e+00, 7.16782856e+00, 0.00000000e+00],\n       [0.00000000e+00, 0.00000000e+00, 0.00000000e+00],\n       [0.00000000e+00, 0.00000000e+00, 0.00000000e+00],\n       [0.00000000e+00, 0.00000000e+00, 0.00000000e+00],\n       [1.73026371e+01, 1.80406303e+01, 7.97268009e+00],\n       [4.32202972e+02, 1.13745705e+02, 3.80422760e+02],\n       [0.00000000e+00, 1.55239372e+01, 0.00000000e+00],\n       [9.06872101e+01, 6.79589510e+00, 7.67478790e+01],\n       [0.00000000e+00, 0.00000000e+00, 0.00000000e+00],\n       [0.00000000e+00, 0.00000000e+00, 0.00000000e+00],\n       [0.00000000e+00, 2.07448125e+00, 0.00000000e+00],\n       [0.00000000e+00, 1.55139008e+01, 0.00000000e+00],\n       [0.00000000e+00, 2.62124926e-01, 0.00000000e+00],\n       [0.00000000e+00, 0.00000000e+00, 0.00000000e+00],\n       [0.00000000e+00, 2.17390633e+00, 0.00000000e+00],\n       [0.00000000e+00, 6.29328346e+00, 0.00000000e+00],\n       [0.00000000e+00, 0.00000000e+00, 0.00000000e+00],\n       [0.00000000e+00, 5.78934145e+00, 0.00000000e+00],\n       [0.00000000e+00, 6.05127621e+00, 0.00000000e+00],\n       [0.00000000e+00, 0.00000000e+00, 0.00000000e+00],\n       [1.30802333e-01, 1.92365627e+01, 0.00000000e+00],\n       [6.92252808e+01, 2.11387463e+01, 5.30371094e+01],\n       [1.11332527e+02, 1.66715736e+01, 9.56428986e+01],\n       [0.00000000e+00, 1.17336998e+01, 0.00000000e+00],\n       [6.74232483e+01, 2.07073231e+01, 5.29878159e+01],\n       [6.39651260e+01, 2.06625214e+01, 5.19123421e+01],\n       [3.73604774e+01, 1.15611992e+01, 2.96032085e+01],\n       [0.00000000e+00, 0.00000000e+00, 0.00000000e+00],\n       [2.00666641e+02, 1.88267155e+01, 1.75686996e+02],\n       [4.17098160e+01, 8.59470081e+00, 3.45317497e+01],\n       [2.94849815e+01, 1.27244129e+01, 2.13794289e+01],\n       [0.00000000e+00, 1.05274849e+01, 0.00000000e+00],\n       [0.00000000e+00, 5.20507288e+00, 0.00000000e+00],\n       [0.00000000e+00, 0.00000000e+00, 0.00000000e+00],\n       [5.69182730e+00, 1.80576336e+00, 6.58461988e-01],\n       [7.03150864e+01, 2.12193050e+01, 5.61152496e+01],\n       [6.96264038e+01, 2.63447781e+01, 5.72682877e+01],\n       [0.00000000e+00, 1.65734329e+01, 0.00000000e+00],\n       [0.00000000e+00, 1.05145302e+01, 0.00000000e+00],\n       [0.00000000e+00, 1.93371344e+00, 0.00000000e+00],\n       [0.00000000e+00, 1.11417758e+00, 0.00000000e+00],\n       [0.00000000e+00, 1.23747044e+01, 0.00000000e+00],\n       [9.21455917e+01, 3.07543468e+01, 7.36630249e+01],\n       [5.97720985e+01, 1.90387421e+01, 4.62519875e+01],\n       [0.00000000e+00, 2.99120235e+00, 0.00000000e+00],\n       [0.00000000e+00, 0.00000000e+00, 0.00000000e+00],\n       [0.00000000e+00, 0.00000000e+00, 0.00000000e+00],\n       [0.00000000e+00, 0.00000000e+00, 0.00000000e+00],\n       [0.00000000e+00, 6.67055750e+00, 0.00000000e+00],\n       [1.48485321e+02, 1.86015682e+01, 1.31223846e+02],\n       [0.00000000e+00, 0.00000000e+00, 0.00000000e+00],\n       [0.00000000e+00, 0.00000000e+00, 0.00000000e+00],\n       [0.00000000e+00, 2.99102669e+01, 0.00000000e+00],\n       [0.00000000e+00, 4.36551905e+00, 0.00000000e+00],\n       [4.26665115e+00, 0.00000000e+00, 8.82118344e-02]], dtype=float32)"
     },
     "execution_count": 32,
     "metadata": {},
     "output_type": "execute_result"
    }
   ],
   "source": [
    "import numpy as np\n",
    "loaded_model = tf.keras.models.load_model('exo_model_without_softmax')\n",
    "predictions = loaded_model.predict(X_test)\n",
    "predictions\n",
    "# predicted_classes = np.argmax(predictions, axis=1)\n",
    "# print(predicted_classes)"
   ],
   "metadata": {
    "collapsed": false,
    "ExecuteTime": {
     "end_time": "2023-11-30T20:48:21.463875700Z",
     "start_time": "2023-11-30T20:48:21.062392200Z"
    }
   },
   "id": "7240933c75a66b7"
  },
  {
   "cell_type": "code",
   "execution_count": 31,
   "outputs": [
    {
     "data": {
      "text/plain": "array([[1., 0., 0.],\n       [0., 0., 1.],\n       [0., 0., 1.],\n       [0., 1., 0.],\n       [0., 0., 1.],\n       [0., 0., 1.],\n       [0., 1., 0.],\n       [0., 1., 0.],\n       [1., 0., 0.],\n       [1., 0., 0.],\n       [0., 0., 1.],\n       [1., 0., 0.],\n       [0., 1., 0.],\n       [0., 0., 1.],\n       [0., 0., 1.],\n       [0., 0., 1.],\n       [0., 1., 0.],\n       [0., 1., 0.],\n       [1., 0., 0.],\n       [0., 1., 0.],\n       [1., 0., 0.],\n       [1., 0., 0.],\n       [0., 0., 1.],\n       [0., 0., 1.],\n       [1., 0., 0.],\n       [0., 1., 0.],\n       [0., 1., 0.],\n       [0., 0., 1.],\n       [1., 0., 0.],\n       [0., 0., 1.],\n       [0., 0., 1.],\n       [1., 0., 0.],\n       [0., 0., 1.],\n       [1., 0., 0.],\n       [0., 1., 0.],\n       [0., 0., 1.],\n       [0., 0., 1.],\n       [0., 0., 1.],\n       [0., 1., 0.],\n       [1., 0., 0.],\n       [0., 0., 1.],\n       [0., 1., 0.],\n       [1., 0., 0.],\n       [0., 0., 1.],\n       [0., 1., 0.],\n       [0., 1., 0.],\n       [0., 1., 0.],\n       [0., 1., 0.],\n       [1., 0., 0.],\n       [0., 1., 0.],\n       [1., 0., 0.],\n       [1., 0., 0.],\n       [0., 1., 0.],\n       [0., 1., 0.],\n       [1., 0., 0.],\n       [1., 0., 0.],\n       [1., 0., 0.],\n       [0., 0., 1.],\n       [1., 0., 0.],\n       [0., 0., 1.],\n       [1., 0., 0.],\n       [1., 0., 0.],\n       [0., 1., 0.],\n       [1., 0., 0.],\n       [0., 0., 1.],\n       [1., 0., 0.],\n       [0., 1., 0.],\n       [0., 1., 0.],\n       [1., 0., 0.],\n       [1., 0., 0.],\n       [0., 1., 0.],\n       [0., 1., 0.],\n       [1., 0., 0.],\n       [0., 0., 1.],\n       [1., 0., 0.],\n       [0., 0., 1.],\n       [0., 1., 0.],\n       [0., 0., 1.],\n       [0., 1., 0.],\n       [1., 0., 0.],\n       [0., 1., 0.],\n       [0., 1., 0.],\n       [0., 0., 1.],\n       [0., 0., 1.],\n       [1., 0., 0.],\n       [1., 0., 0.],\n       [0., 0., 1.],\n       [0., 1., 0.],\n       [1., 0., 0.],\n       [0., 0., 1.],\n       [1., 0., 0.],\n       [0., 0., 1.],\n       [1., 0., 0.],\n       [0., 1., 0.],\n       [0., 1., 0.],\n       [0., 0., 1.],\n       [0., 1., 0.],\n       [1., 0., 0.],\n       [1., 0., 0.],\n       [0., 1., 0.],\n       [0., 0., 1.],\n       [1., 0., 0.],\n       [0., 1., 0.],\n       [0., 0., 1.],\n       [1., 0., 0.],\n       [0., 0., 1.],\n       [1., 0., 0.],\n       [1., 0., 0.],\n       [1., 0., 0.],\n       [1., 0., 0.],\n       [1., 0., 0.],\n       [1., 0., 0.],\n       [0., 0., 1.],\n       [0., 0., 1.],\n       [0., 1., 0.],\n       [0., 0., 1.],\n       [0., 1., 0.],\n       [1., 0., 0.],\n       [0., 1., 0.],\n       [0., 0., 1.],\n       [1., 0., 0.],\n       [1., 0., 0.],\n       [1., 0., 0.],\n       [1., 0., 0.],\n       [1., 0., 0.],\n       [1., 0., 0.],\n       [0., 1., 0.],\n       [0., 0., 1.],\n       [0., 0., 1.],\n       [1., 0., 0.],\n       [0., 0., 1.],\n       [1., 0., 0.],\n       [0., 1., 0.],\n       [1., 0., 0.],\n       [1., 0., 0.],\n       [0., 0., 1.],\n       [0., 1., 0.],\n       [0., 0., 1.],\n       [0., 1., 0.],\n       [0., 1., 0.],\n       [1., 0., 0.],\n       [0., 0., 1.],\n       [1., 0., 0.],\n       [1., 0., 0.],\n       [0., 1., 0.],\n       [1., 0., 0.],\n       [1., 0., 0.],\n       [0., 1., 0.],\n       [1., 0., 0.],\n       [1., 0., 0.],\n       [1., 0., 0.],\n       [0., 0., 1.],\n       [0., 0., 1.],\n       [0., 0., 1.],\n       [1., 0., 0.],\n       [0., 1., 0.],\n       [0., 0., 1.],\n       [1., 0., 0.],\n       [1., 0., 0.],\n       [1., 0., 0.],\n       [1., 0., 0.],\n       [0., 1., 0.],\n       [0., 1., 0.],\n       [0., 0., 1.],\n       [1., 0., 0.],\n       [0., 0., 1.],\n       [0., 1., 0.],\n       [1., 0., 0.],\n       [1., 0., 0.],\n       [1., 0., 0.],\n       [1., 0., 0.],\n       [1., 0., 0.],\n       [1., 0., 0.],\n       [1., 0., 0.],\n       [0., 0., 1.],\n       [1., 0., 0.],\n       [0., 0., 1.],\n       [1., 0., 0.],\n       [1., 0., 0.],\n       [1., 0., 0.],\n       [1., 0., 0.],\n       [1., 0., 0.],\n       [0., 1., 0.],\n       [0., 1., 0.],\n       [1., 0., 0.],\n       [0., 1., 0.],\n       [0., 1., 0.],\n       [0., 1., 0.],\n       [1., 0., 0.],\n       [0., 1., 0.],\n       [1., 0., 0.],\n       [0., 0., 1.],\n       [0., 1., 0.],\n       [0., 1., 0.],\n       [0., 0., 1.],\n       [0., 0., 1.],\n       [0., 0., 1.],\n       [1., 0., 0.],\n       [1., 0., 0.],\n       [0., 1., 0.],\n       [1., 0., 0.],\n       [0., 0., 1.],\n       [0., 0., 1.],\n       [0., 0., 1.],\n       [0., 1., 0.],\n       [0., 1., 0.],\n       [0., 0., 1.],\n       [0., 1., 0.],\n       [0., 0., 1.],\n       [0., 0., 1.],\n       [0., 1., 0.],\n       [0., 1., 0.],\n       [0., 0., 1.],\n       [0., 1., 0.],\n       [1., 0., 0.],\n       [1., 0., 0.],\n       [0., 1., 0.],\n       [1., 0., 0.],\n       [1., 0., 0.],\n       [1., 0., 0.],\n       [0., 0., 1.],\n       [1., 0., 0.],\n       [1., 0., 0.],\n       [1., 0., 0.],\n       [0., 1., 0.],\n       [0., 1., 0.],\n       [0., 0., 1.],\n       [0., 1., 0.],\n       [1., 0., 0.],\n       [1., 0., 0.],\n       [0., 1., 0.],\n       [0., 1., 0.],\n       [0., 0., 1.],\n       [0., 0., 1.],\n       [0., 1., 0.],\n       [1., 0., 0.],\n       [1., 0., 0.],\n       [0., 1., 0.],\n       [0., 0., 1.],\n       [0., 0., 1.],\n       [0., 0., 1.],\n       [0., 1., 0.],\n       [1., 0., 0.],\n       [0., 0., 1.],\n       [0., 0., 1.],\n       [0., 1., 0.],\n       [0., 0., 1.],\n       [0., 1., 0.]], dtype=float32)"
     },
     "execution_count": 31,
     "metadata": {},
     "output_type": "execute_result"
    }
   ],
   "source": [
    "y_test"
   ],
   "metadata": {
    "collapsed": false,
    "ExecuteTime": {
     "end_time": "2023-11-30T20:47:32.983155600Z",
     "start_time": "2023-11-30T20:47:32.926021200Z"
    }
   },
   "id": "cd3fe90cc0416d13"
  },
  {
   "cell_type": "code",
   "execution_count": null,
   "outputs": [],
   "source": [],
   "metadata": {
    "collapsed": false
   },
   "id": "7e106bcce6546135"
  }
 ],
 "metadata": {
  "kernelspec": {
   "display_name": "Python 3",
   "language": "python",
   "name": "python3"
  },
  "language_info": {
   "codemirror_mode": {
    "name": "ipython",
    "version": 2
   },
   "file_extension": ".py",
   "mimetype": "text/x-python",
   "name": "python",
   "nbconvert_exporter": "python",
   "pygments_lexer": "ipython2",
   "version": "2.7.6"
  }
 },
 "nbformat": 4,
 "nbformat_minor": 5
}
