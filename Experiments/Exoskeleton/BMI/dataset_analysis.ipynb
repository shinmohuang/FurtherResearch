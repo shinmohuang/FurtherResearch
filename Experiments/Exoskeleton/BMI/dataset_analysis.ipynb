{
 "cells": [
  {
   "cell_type": "code",
   "execution_count": 1,
   "id": "initial_id",
   "metadata": {
    "collapsed": true,
    "ExecuteTime": {
     "end_time": "2024-02-23T11:56:16.761548425Z",
     "start_time": "2024-02-23T11:56:16.758723963Z"
    }
   },
   "outputs": [],
   "source": [
    "import pandas as pd"
   ]
  },
  {
   "cell_type": "code",
   "outputs": [
    {
     "data": {
      "text/plain": "      IMU1_GyroX_Mean  IMU1_GyroX_StdDev  IMU1_GyroX_RMS  IMU1_GyroX_Amp  \\\n0            0.060205           1.600175        1.580405        1.482825   \n1            0.005207          -0.355646       -0.353418       -0.268892   \n2            0.013564          -0.360963       -0.358499       -0.617468   \n3            0.001029          -0.380835       -0.380480       -0.686132   \n4            0.003832          -0.393587       -0.391205       -0.518997   \n...               ...                ...             ...             ...   \n1828        -0.191094           0.003310        0.005981       -0.187727   \n1829         0.006145          -0.310686       -0.308496       -0.093801   \n1830         0.001828          -0.368291       -0.368424       -0.679880   \n1831         0.004051          -0.385957       -0.383644       -0.490703   \n1832        -0.032306          -0.065337       -0.062681       -0.272709   \n\n      IMU1_GyroY_Mean  IMU1_GyroY_StdDev  IMU1_GyroY_RMS  IMU1_GyroY_Amp  \\\n0            0.243487           0.784506        0.782552        0.506155   \n1            0.001427          -0.468684       -0.469208       -0.551906   \n2           -0.014257           0.078832        0.076034       -0.058071   \n3           -0.013484          -0.319083       -0.321037       -0.541032   \n4            0.001857          -0.468375       -0.468949       -0.520815   \n...               ...                ...             ...             ...   \n1828        -0.013479           0.125478        0.117992       -0.002989   \n1829        -0.000152          -0.364182       -0.364814       -0.089957   \n1830        -0.000216          -0.338638       -0.340269       -0.541742   \n1831         0.001972          -0.411847       -0.412519       -0.304951   \n1832        -0.005254           0.081267        0.074235       -0.029270   \n\n      IMU1_GyroZ_Mean  IMU1_GyroZ_StdDev  ...  EMG_EMG_StdDev  EMG_EMG_RMS  \\\n0            0.161605           1.461694  ...        0.461614     0.824085   \n1            0.025909          -0.508283  ...       -0.326746    -0.392839   \n2           -0.015228          -0.279963  ...       -0.199052    -0.171472   \n3            0.012003          -0.330383  ...       -0.137647     0.002724   \n4            0.025464          -0.478001  ...       -0.325732    -0.391145   \n...               ...                ...  ...             ...          ...   \n1828         0.268696           0.111833  ...       -0.212697    -0.127664   \n1829         0.024601          -0.467105  ...       -0.327097    -0.390855   \n1830         0.022319          -0.360214  ...       -0.178229    -0.096772   \n1831         0.026078          -0.528243  ...       -0.326984    -0.392998   \n1832        -0.022380          -0.027978  ...       -0.239221    -0.205048   \n\n      EMG_EMG_Amp  EMG_EMG_MNF  EMG_EMG_MDF  EMG_EMG_IMNF       Age       BMI  \\\n0        0.352014    -0.478368    -0.383219     -0.236133 -0.623988 -0.257250   \n1       -0.344575    -0.087070    -0.197721     -0.444717 -1.025452 -0.164176   \n2       -0.205983    -0.350451    -0.070816     -0.371881 -0.623988  0.515171   \n3       -0.116573     0.115849    -0.482322     -0.300795 -0.623988 -0.622782   \n4       -0.340646     0.111783     0.335197     -0.373682  2.186259  2.601307   \n...           ...          ...          ...           ...       ...       ...   \n1828    -0.183016    -0.141219    -0.198315     -0.224025 -0.623988 -0.550005   \n1829    -0.345345    -0.629152    -0.553599     -0.164610 -0.222525  0.609808   \n1830    -0.117243     0.419082    -0.639039     -0.372279 -0.623988 -0.622782   \n1831    -0.345335    -0.285879     0.139345      0.008841 -0.623988  1.792315   \n1832    -0.247961    -0.132951    -0.295007     -0.329383 -0.623988 -0.550005   \n\n      Fatigue_level  Subject  \n0                 1        1  \n1                 1        1  \n2                 1        1  \n3                 1        1  \n4                 1        1  \n...             ...      ...  \n1828              3       30  \n1829              3       30  \n1830              3       30  \n1831              3       30  \n1832              3       30  \n\n[1833 rows x 67 columns]",
      "text/html": "<div>\n<style scoped>\n    .dataframe tbody tr th:only-of-type {\n        vertical-align: middle;\n    }\n\n    .dataframe tbody tr th {\n        vertical-align: top;\n    }\n\n    .dataframe thead th {\n        text-align: right;\n    }\n</style>\n<table border=\"1\" class=\"dataframe\">\n  <thead>\n    <tr style=\"text-align: right;\">\n      <th></th>\n      <th>IMU1_GyroX_Mean</th>\n      <th>IMU1_GyroX_StdDev</th>\n      <th>IMU1_GyroX_RMS</th>\n      <th>IMU1_GyroX_Amp</th>\n      <th>IMU1_GyroY_Mean</th>\n      <th>IMU1_GyroY_StdDev</th>\n      <th>IMU1_GyroY_RMS</th>\n      <th>IMU1_GyroY_Amp</th>\n      <th>IMU1_GyroZ_Mean</th>\n      <th>IMU1_GyroZ_StdDev</th>\n      <th>...</th>\n      <th>EMG_EMG_StdDev</th>\n      <th>EMG_EMG_RMS</th>\n      <th>EMG_EMG_Amp</th>\n      <th>EMG_EMG_MNF</th>\n      <th>EMG_EMG_MDF</th>\n      <th>EMG_EMG_IMNF</th>\n      <th>Age</th>\n      <th>BMI</th>\n      <th>Fatigue_level</th>\n      <th>Subject</th>\n    </tr>\n  </thead>\n  <tbody>\n    <tr>\n      <th>0</th>\n      <td>0.060205</td>\n      <td>1.600175</td>\n      <td>1.580405</td>\n      <td>1.482825</td>\n      <td>0.243487</td>\n      <td>0.784506</td>\n      <td>0.782552</td>\n      <td>0.506155</td>\n      <td>0.161605</td>\n      <td>1.461694</td>\n      <td>...</td>\n      <td>0.461614</td>\n      <td>0.824085</td>\n      <td>0.352014</td>\n      <td>-0.478368</td>\n      <td>-0.383219</td>\n      <td>-0.236133</td>\n      <td>-0.623988</td>\n      <td>-0.257250</td>\n      <td>1</td>\n      <td>1</td>\n    </tr>\n    <tr>\n      <th>1</th>\n      <td>0.005207</td>\n      <td>-0.355646</td>\n      <td>-0.353418</td>\n      <td>-0.268892</td>\n      <td>0.001427</td>\n      <td>-0.468684</td>\n      <td>-0.469208</td>\n      <td>-0.551906</td>\n      <td>0.025909</td>\n      <td>-0.508283</td>\n      <td>...</td>\n      <td>-0.326746</td>\n      <td>-0.392839</td>\n      <td>-0.344575</td>\n      <td>-0.087070</td>\n      <td>-0.197721</td>\n      <td>-0.444717</td>\n      <td>-1.025452</td>\n      <td>-0.164176</td>\n      <td>1</td>\n      <td>1</td>\n    </tr>\n    <tr>\n      <th>2</th>\n      <td>0.013564</td>\n      <td>-0.360963</td>\n      <td>-0.358499</td>\n      <td>-0.617468</td>\n      <td>-0.014257</td>\n      <td>0.078832</td>\n      <td>0.076034</td>\n      <td>-0.058071</td>\n      <td>-0.015228</td>\n      <td>-0.279963</td>\n      <td>...</td>\n      <td>-0.199052</td>\n      <td>-0.171472</td>\n      <td>-0.205983</td>\n      <td>-0.350451</td>\n      <td>-0.070816</td>\n      <td>-0.371881</td>\n      <td>-0.623988</td>\n      <td>0.515171</td>\n      <td>1</td>\n      <td>1</td>\n    </tr>\n    <tr>\n      <th>3</th>\n      <td>0.001029</td>\n      <td>-0.380835</td>\n      <td>-0.380480</td>\n      <td>-0.686132</td>\n      <td>-0.013484</td>\n      <td>-0.319083</td>\n      <td>-0.321037</td>\n      <td>-0.541032</td>\n      <td>0.012003</td>\n      <td>-0.330383</td>\n      <td>...</td>\n      <td>-0.137647</td>\n      <td>0.002724</td>\n      <td>-0.116573</td>\n      <td>0.115849</td>\n      <td>-0.482322</td>\n      <td>-0.300795</td>\n      <td>-0.623988</td>\n      <td>-0.622782</td>\n      <td>1</td>\n      <td>1</td>\n    </tr>\n    <tr>\n      <th>4</th>\n      <td>0.003832</td>\n      <td>-0.393587</td>\n      <td>-0.391205</td>\n      <td>-0.518997</td>\n      <td>0.001857</td>\n      <td>-0.468375</td>\n      <td>-0.468949</td>\n      <td>-0.520815</td>\n      <td>0.025464</td>\n      <td>-0.478001</td>\n      <td>...</td>\n      <td>-0.325732</td>\n      <td>-0.391145</td>\n      <td>-0.340646</td>\n      <td>0.111783</td>\n      <td>0.335197</td>\n      <td>-0.373682</td>\n      <td>2.186259</td>\n      <td>2.601307</td>\n      <td>1</td>\n      <td>1</td>\n    </tr>\n    <tr>\n      <th>...</th>\n      <td>...</td>\n      <td>...</td>\n      <td>...</td>\n      <td>...</td>\n      <td>...</td>\n      <td>...</td>\n      <td>...</td>\n      <td>...</td>\n      <td>...</td>\n      <td>...</td>\n      <td>...</td>\n      <td>...</td>\n      <td>...</td>\n      <td>...</td>\n      <td>...</td>\n      <td>...</td>\n      <td>...</td>\n      <td>...</td>\n      <td>...</td>\n      <td>...</td>\n      <td>...</td>\n    </tr>\n    <tr>\n      <th>1828</th>\n      <td>-0.191094</td>\n      <td>0.003310</td>\n      <td>0.005981</td>\n      <td>-0.187727</td>\n      <td>-0.013479</td>\n      <td>0.125478</td>\n      <td>0.117992</td>\n      <td>-0.002989</td>\n      <td>0.268696</td>\n      <td>0.111833</td>\n      <td>...</td>\n      <td>-0.212697</td>\n      <td>-0.127664</td>\n      <td>-0.183016</td>\n      <td>-0.141219</td>\n      <td>-0.198315</td>\n      <td>-0.224025</td>\n      <td>-0.623988</td>\n      <td>-0.550005</td>\n      <td>3</td>\n      <td>30</td>\n    </tr>\n    <tr>\n      <th>1829</th>\n      <td>0.006145</td>\n      <td>-0.310686</td>\n      <td>-0.308496</td>\n      <td>-0.093801</td>\n      <td>-0.000152</td>\n      <td>-0.364182</td>\n      <td>-0.364814</td>\n      <td>-0.089957</td>\n      <td>0.024601</td>\n      <td>-0.467105</td>\n      <td>...</td>\n      <td>-0.327097</td>\n      <td>-0.390855</td>\n      <td>-0.345345</td>\n      <td>-0.629152</td>\n      <td>-0.553599</td>\n      <td>-0.164610</td>\n      <td>-0.222525</td>\n      <td>0.609808</td>\n      <td>3</td>\n      <td>30</td>\n    </tr>\n    <tr>\n      <th>1830</th>\n      <td>0.001828</td>\n      <td>-0.368291</td>\n      <td>-0.368424</td>\n      <td>-0.679880</td>\n      <td>-0.000216</td>\n      <td>-0.338638</td>\n      <td>-0.340269</td>\n      <td>-0.541742</td>\n      <td>0.022319</td>\n      <td>-0.360214</td>\n      <td>...</td>\n      <td>-0.178229</td>\n      <td>-0.096772</td>\n      <td>-0.117243</td>\n      <td>0.419082</td>\n      <td>-0.639039</td>\n      <td>-0.372279</td>\n      <td>-0.623988</td>\n      <td>-0.622782</td>\n      <td>3</td>\n      <td>30</td>\n    </tr>\n    <tr>\n      <th>1831</th>\n      <td>0.004051</td>\n      <td>-0.385957</td>\n      <td>-0.383644</td>\n      <td>-0.490703</td>\n      <td>0.001972</td>\n      <td>-0.411847</td>\n      <td>-0.412519</td>\n      <td>-0.304951</td>\n      <td>0.026078</td>\n      <td>-0.528243</td>\n      <td>...</td>\n      <td>-0.326984</td>\n      <td>-0.392998</td>\n      <td>-0.345335</td>\n      <td>-0.285879</td>\n      <td>0.139345</td>\n      <td>0.008841</td>\n      <td>-0.623988</td>\n      <td>1.792315</td>\n      <td>3</td>\n      <td>30</td>\n    </tr>\n    <tr>\n      <th>1832</th>\n      <td>-0.032306</td>\n      <td>-0.065337</td>\n      <td>-0.062681</td>\n      <td>-0.272709</td>\n      <td>-0.005254</td>\n      <td>0.081267</td>\n      <td>0.074235</td>\n      <td>-0.029270</td>\n      <td>-0.022380</td>\n      <td>-0.027978</td>\n      <td>...</td>\n      <td>-0.239221</td>\n      <td>-0.205048</td>\n      <td>-0.247961</td>\n      <td>-0.132951</td>\n      <td>-0.295007</td>\n      <td>-0.329383</td>\n      <td>-0.623988</td>\n      <td>-0.550005</td>\n      <td>3</td>\n      <td>30</td>\n    </tr>\n  </tbody>\n</table>\n<p>1833 rows × 67 columns</p>\n</div>"
     },
     "execution_count": 2,
     "metadata": {},
     "output_type": "execute_result"
    }
   ],
   "source": [
    "# Load the data\n",
    "data = pd.read_csv('/home/adam/FurtherResearch/Dataset/Exoskeleton/Original_Normalized.csv')\n",
    "data"
   ],
   "metadata": {
    "collapsed": false,
    "ExecuteTime": {
     "end_time": "2024-02-23T11:56:18.620361367Z",
     "start_time": "2024-02-23T11:56:18.573302726Z"
    }
   },
   "id": "f0ab9745a3d4e2c6",
   "execution_count": 2
  },
  {
   "cell_type": "code",
   "outputs": [],
   "source": [
    "import sweetviz as sv\n",
    "feature_config = sv.FeatureConfig(force_num=[\"Fatigue_level\"], skip=\"Subject\")\n",
    "report = sv.analyze(data, pairwise_analysis='on',feat_cfg=feature_config, target_feat='Fatigue_level')\n",
    "report.show_html('/home/adam/FurtherResearch/Experiments/Exoskeleton/BMI/EDA.html')"
   ],
   "metadata": {
    "collapsed": false
   },
   "id": "ac7aa4eab5ccfa41",
   "execution_count": null
  },
  {
   "cell_type": "code",
   "outputs": [],
   "source": [
    "import matplotlib.pyplot as plt\n",
    "import seaborn as sns\n",
    "\n",
    "# 选择要分析的特征，这里以传感器数据的几个统计量和身体测量数据为例\n",
    "features_to_analyze = data.columns\n",
    "\n",
    "# 设定绘图风格\n",
    "sns.set(style=\"whitegrid\")\n",
    "\n",
    "# 为每个特征绘制分布图\n",
    "for feature in features_to_analyze:\n",
    "    plt.figure(figsize=(20, 10))\n",
    "    \n",
    "    # 使用seaborn的violinplot来显示不同subject的特征分布\n",
    "    sns.violinplot(x='Subject', y=feature, data=data)\n",
    "    \n",
    "    plt.title(f'Distribution of {feature} Across Subjects')\n",
    "    plt.xlabel('Subject')\n",
    "    plt.ylabel(feature)\n",
    "    \n",
    "    plt.show()\n"
   ],
   "metadata": {
    "collapsed": false
   },
   "id": "238713d58c5bf62d",
   "execution_count": null
  },
  {
   "cell_type": "code",
   "outputs": [
    {
     "data": {
      "text/plain": "['dataset_statistics_mapped_fatigue_level_low.csv',\n 'dataset_statistics_mapped_fatigue_level_medium.csv',\n 'dataset_statistics_mapped_fatigue_level_high.csv']"
     },
     "execution_count": 3,
     "metadata": {},
     "output_type": "execute_result"
    }
   ],
   "source": [
    "# Split the dataset based on fatigue level\n",
    "# Re-classifying the dataset based on the new fatigue level definitions\n",
    "# Mapping 0 to low fatigue, 1 to medium fatigue, and 2 to high fatigue\n",
    "mapped_fatigue_levels = {1: \"low\", 2: \"medium\", 3: \"high\"}\n",
    "data['Mapped_Fatigue_Level'] = data['Fatigue_level'].map(mapped_fatigue_levels)\n",
    "\n",
    "# Paths for the new output files\n",
    "new_output_paths = []\n",
    "\n",
    "for level, level_name in mapped_fatigue_levels.items():\n",
    "    level_stats = data[data['Fatigue_level'] == level].describe().transpose()[['min', 'max', 'mean', 'std']]\n",
    "    new_output_file_path = f'dataset_statistics_mapped_fatigue_level_{level_name}.csv'\n",
    "    level_stats.to_csv(new_output_file_path)\n",
    "    new_output_paths.append(new_output_file_path)\n",
    "\n",
    "new_output_paths\n"
   ],
   "metadata": {
    "collapsed": false,
    "ExecuteTime": {
     "end_time": "2024-02-23T11:56:27.310438158Z",
     "start_time": "2024-02-23T11:56:27.150173697Z"
    }
   },
   "id": "52f598a62dc328d0",
   "execution_count": 3
  },
  {
   "cell_type": "code",
   "outputs": [],
   "source": [],
   "metadata": {
    "collapsed": false
   },
   "id": "85645e039cd18db4"
  }
 ],
 "metadata": {
  "kernelspec": {
   "display_name": "Python 3",
   "language": "python",
   "name": "python3"
  },
  "language_info": {
   "codemirror_mode": {
    "name": "ipython",
    "version": 2
   },
   "file_extension": ".py",
   "mimetype": "text/x-python",
   "name": "python",
   "nbconvert_exporter": "python",
   "pygments_lexer": "ipython2",
   "version": "2.7.6"
  }
 },
 "nbformat": 4,
 "nbformat_minor": 5
}
