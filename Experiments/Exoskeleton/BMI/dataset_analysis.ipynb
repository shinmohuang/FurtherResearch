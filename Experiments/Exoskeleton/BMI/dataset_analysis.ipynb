{
 "cells": [
  {
   "cell_type": "code",
   "execution_count": null,
   "id": "initial_id",
   "metadata": {
    "collapsed": true
   },
   "outputs": [],
   "source": [
    "import pandas as pd"
   ]
  },
  {
   "cell_type": "code",
   "outputs": [],
   "source": [
    "# Load the data\n",
    "data = pd.read_csv('/home/adam/FurtherResearch/Dataset/Exoskeleton/Original.csv')\n",
    "data"
   ],
   "metadata": {
    "collapsed": false
   },
   "id": "f0ab9745a3d4e2c6",
   "execution_count": null
  },
  {
   "cell_type": "code",
   "outputs": [],
   "source": [
    "import sweetviz as sv\n",
    "feature_config = sv.FeatureConfig(force_num=[\"Fatigue_level\"], skip=\"Subject\")\n",
    "report = sv.analyze(data, pairwise_analysis='on',feat_cfg=feature_config, target_feat='Fatigue_level')\n",
    "report.show_html('/home/adam/FurtherResearch/Experiments/Exoskeleton/BMI/EDA.html')"
   ],
   "metadata": {
    "collapsed": false
   },
   "id": "ac7aa4eab5ccfa41",
   "execution_count": null
  },
  {
   "cell_type": "code",
   "outputs": [],
   "source": [
    "import matplotlib.pyplot as plt\n",
    "import seaborn as sns\n",
    "\n",
    "# 选择要分析的特征，这里以传感器数据的几个统计量和身体测量数据为例\n",
    "features_to_analyze = data.columns\n",
    "\n",
    "# 设定绘图风格\n",
    "sns.set(style=\"whitegrid\")\n",
    "\n",
    "# 为每个特征绘制分布图\n",
    "for feature in features_to_analyze:\n",
    "    plt.figure(figsize=(20, 10))\n",
    "    \n",
    "    # 使用seaborn的violinplot来显示不同subject的特征分布\n",
    "    sns.violinplot(x='Subject', y=feature, data=data)\n",
    "    \n",
    "    plt.title(f'Distribution of {feature} Across Subjects')\n",
    "    plt.xlabel('Subject')\n",
    "    plt.ylabel(feature)\n",
    "    \n",
    "    plt.show()\n"
   ],
   "metadata": {
    "collapsed": false
   },
   "id": "238713d58c5bf62d",
   "execution_count": null
  },
  {
   "cell_type": "code",
   "outputs": [
    {
     "data": {
      "text/plain": "['dataset_statistics_mapped_fatigue_level_low.csv',\n 'dataset_statistics_mapped_fatigue_level_medium.csv',\n 'dataset_statistics_mapped_fatigue_level_high.csv']"
     },
     "execution_count": 13,
     "metadata": {},
     "output_type": "execute_result"
    }
   ],
   "source": [
    "# Split the dataset based on fatigue level\n",
    "# Re-classifying the dataset based on the new fatigue level definitions\n",
    "# Mapping 0 to low fatigue, 1 to medium fatigue, and 2 to high fatigue\n",
    "mapped_fatigue_levels = {1: \"low\", 2: \"medium\", 3: \"high\"}\n",
    "data['Mapped_Fatigue_Level'] = data['Fatigue_level'].map(mapped_fatigue_levels)\n",
    "\n",
    "# Paths for the new output files\n",
    "new_output_paths = []\n",
    "\n",
    "for level, level_name in mapped_fatigue_levels.items():\n",
    "    level_stats = data[data['Fatigue_level'] == level].describe().transpose()[['min', 'max', 'mean', 'std']]\n",
    "    new_output_file_path = f'dataset_statistics_mapped_fatigue_level_{level_name}.csv'\n",
    "    level_stats.to_csv(new_output_file_path)\n",
    "    new_output_paths.append(new_output_file_path)\n",
    "\n",
    "new_output_paths\n"
   ],
   "metadata": {
    "collapsed": false,
    "ExecuteTime": {
     "end_time": "2024-02-19T23:03:05.064431743Z",
     "start_time": "2024-02-19T23:03:04.348831514Z"
    }
   },
   "id": "52f598a62dc328d0",
   "execution_count": 13
  },
  {
   "cell_type": "code",
   "outputs": [],
   "source": [],
   "metadata": {
    "collapsed": false
   },
   "id": "85645e039cd18db4"
  }
 ],
 "metadata": {
  "kernelspec": {
   "display_name": "Python 3",
   "language": "python",
   "name": "python3"
  },
  "language_info": {
   "codemirror_mode": {
    "name": "ipython",
    "version": 2
   },
   "file_extension": ".py",
   "mimetype": "text/x-python",
   "name": "python",
   "nbconvert_exporter": "python",
   "pygments_lexer": "ipython2",
   "version": "2.7.6"
  }
 },
 "nbformat": 4,
 "nbformat_minor": 5
}
