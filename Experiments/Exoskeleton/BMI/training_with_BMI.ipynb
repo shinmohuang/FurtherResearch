{
 "cells": [
  {
   "cell_type": "code",
   "execution_count": 1,
   "id": "2ebdbe21c431b276",
   "metadata": {
    "collapsed": true,
    "ExecuteTime": {
     "end_time": "2024-02-20T21:44:34.764172920Z",
     "start_time": "2024-02-20T21:44:32.949113719Z"
    }
   },
   "outputs": [
    {
     "name": "stderr",
     "output_type": "stream",
     "text": [
      "2024-02-20 21:44:33.307940: I tensorflow/core/util/port.cc:110] oneDNN custom operations are on. You may see slightly different numerical results due to floating-point round-off errors from different computation orders. To turn them off, set the environment variable `TF_ENABLE_ONEDNN_OPTS=0`.\n",
      "2024-02-20 21:44:33.352253: I tensorflow/core/platform/cpu_feature_guard.cc:182] This TensorFlow binary is optimized to use available CPU instructions in performance-critical operations.\n",
      "To enable the following instructions: AVX2 AVX512F AVX512_VNNI FMA, in other operations, rebuild TensorFlow with the appropriate compiler flags.\n",
      "2024-02-20 21:44:33.899347: W tensorflow/compiler/tf2tensorrt/utils/py_utils.cc:38] TF-TRT Warning: Could not find TensorRT\n"
     ]
    },
    {
     "name": "stdout",
     "output_type": "stream",
     "text": [
      "Physical devices: [PhysicalDevice(name='/physical_device:CPU:0', device_type='CPU')]\n",
      "GPU is NOT available.\n"
     ]
    },
    {
     "name": "stderr",
     "output_type": "stream",
     "text": [
      "2024-02-20 21:44:34.758203: E tensorflow/compiler/xla/stream_executor/cuda/cuda_driver.cc:266] failed call to cuInit: CUDA_ERROR_UNKNOWN: unknown error\n",
      "2024-02-20 21:44:34.758242: I tensorflow/compiler/xla/stream_executor/cuda/cuda_diagnostics.cc:168] retrieving CUDA diagnostic information for host: AR-GPU\n",
      "2024-02-20 21:44:34.758266: I tensorflow/compiler/xla/stream_executor/cuda/cuda_diagnostics.cc:175] hostname: AR-GPU\n",
      "2024-02-20 21:44:34.758352: I tensorflow/compiler/xla/stream_executor/cuda/cuda_diagnostics.cc:199] libcuda reported version is: 510.85.2\n",
      "2024-02-20 21:44:34.758366: I tensorflow/compiler/xla/stream_executor/cuda/cuda_diagnostics.cc:203] kernel reported version is: 510.85.2\n",
      "2024-02-20 21:44:34.758369: I tensorflow/compiler/xla/stream_executor/cuda/cuda_diagnostics.cc:309] kernel version seems to match DSO: 510.85.2\n"
     ]
    }
   ],
   "source": [
    "import pandas as pd\n",
    "import tensorflow as tf\n",
    "from sklearn.model_selection import train_test_split\n",
    "from sklearn.preprocessing import StandardScaler\n",
    "from tensorflow.keras.models import Sequential\n",
    "from tensorflow.keras.layers import Dense\n",
    "from tensorflow.keras.utils import to_categorical\n",
    "from sklearn.utils import shuffle\n",
    "\n",
    "from tensorflow.keras.callbacks import EarlyStopping\n",
    "from tensorflow.keras.optimizers import Adam\n",
    "from tensorflow.keras.callbacks import ReduceLROnPlateau\n",
    "\n",
    "# List all physical devices\n",
    "physical_devices = tf.config.list_physical_devices()\n",
    "print(\"Physical devices:\", physical_devices)\n",
    "\n",
    "# Check for GPU specifically\n",
    "gpus = tf.config.list_physical_devices('GPU')\n",
    "if gpus:\n",
    "    print(\"GPU is available.\")\n",
    "else:\n",
    "    print(\"GPU is NOT available.\")"
   ]
  },
  {
   "cell_type": "code",
   "execution_count": 2,
   "outputs": [
    {
     "data": {
      "text/plain": "      IMU1_GyroX_Mean  IMU1_GyroX_StdDev  IMU1_GyroX_RMS  IMU1_GyroX_Amp  \\\n0          100.000000         100.000000      100.000000      100.000000   \n1            7.026579         198.259304      199.601392      184.295571   \n2        -7082.108609         568.164429      593.320009      727.671625   \n3         3618.245437        1537.254629     1540.972428     1855.355638   \n4        -1539.312493        2426.076723     2428.697877     2399.474310   \n...               ...                ...             ...             ...   \n1828         1.764259         368.991733      368.247948     1534.561927   \n1829         0.475102         349.962108      349.301063     1483.874905   \n1830         1.972435         328.861224      328.309039     1336.387882   \n1831        -0.824858         366.299038      365.628259     1428.214854   \n1832       -29.002205         400.172705      399.824304     1648.174141   \n\n      IMU1_GyroY_Mean  IMU1_GyroY_StdDev  IMU1_GyroY_RMS  IMU1_GyroY_Amp  \\\n0          100.000000         100.000000      100.000000      100.000000   \n1          610.020298         175.334986      178.265684      192.958297   \n2         9456.718907         610.892516      672.664608      744.159826   \n3         4828.685519        2177.145176     2187.176663     2466.309254   \n4        -5421.387863        4325.733672     4335.967864     4673.869608   \n...               ...                ...             ...             ...   \n1828        -0.311389         139.779641      139.496687      590.129262   \n1829         0.453211         144.938057      144.665591      602.595420   \n1830         3.336819         162.563803      162.325196      675.185751   \n1831         2.038201         166.471751      166.179372      671.038232   \n1832        21.484176         173.519746      174.241553      651.255248   \n\n      IMU1_GyroZ_Mean  IMU1_GyroZ_StdDev  ...  OFS_FIB_IMNF  EMG_EMG_Mean  \\\n0          100.000000         100.000000  ...      1.282506    100.000000   \n1          -30.466274         188.025193  ...      1.147393    107.150748   \n2         -744.252427         567.506829  ...      0.989183    247.044115   \n3         -638.476505        1500.476246  ...      0.912529    713.389659   \n4          173.236814        1786.550574  ...      0.880923   2214.542677   \n...               ...                ...  ...           ...           ...   \n1828         7.109903         269.971731  ...      0.808654      3.784144   \n1829         0.678974         273.597473  ...      0.807963      3.661929   \n1830        -3.122483         270.265599  ...      0.806151      6.071805   \n1831         3.257283         275.674312  ...      1.029054      5.424234   \n1832         9.533042         290.969664  ...      3.783479      5.539462   \n\n      EMG_EMG_StdDev  EMG_EMG_RMS  EMG_EMG_Amp  EMG_EMG_MNF  EMG_EMG_MDF  \\\n0         100.000000   100.000000   100.000000     0.293036     0.230724   \n1          71.239481   103.936460    81.656880     0.142451     0.181664   \n2         611.569045   306.910586   514.609792     0.385845     0.234438   \n3        1127.501511   767.921875   968.529167     0.426387     0.192446   \n4        4157.944918  2493.259693  3969.429341     0.501780     0.220765   \n...              ...          ...          ...          ...          ...   \n1828        2.975367     4.813325    10.521596     0.407665     0.208658   \n1829        3.194020     4.858676    10.239955     0.395226     0.210199   \n1830        6.055941     8.574721    21.664981     0.400278     0.214340   \n1831        4.958792     7.348506    16.820162     0.440773     0.217625   \n1832        4.086590     6.882678    13.769611     1.456003     0.345457   \n\n      EMG_EMG_IMNF  Age        BMI  \n0        22.334139   24  27.250887  \n1         8.384712   24  27.250887  \n2         8.372799   24  27.250887  \n3         7.684195   24  27.250887  \n4         7.496121   24  27.250887  \n...            ...  ...        ...  \n1828      8.023430   30  30.346074  \n1829      9.214335   30  30.346074  \n1830      7.786317   30  30.346074  \n1831      8.059900   30  30.346074  \n1832     39.071400   30  30.346074  \n\n[1833 rows x 65 columns]",
      "text/html": "<div>\n<style scoped>\n    .dataframe tbody tr th:only-of-type {\n        vertical-align: middle;\n    }\n\n    .dataframe tbody tr th {\n        vertical-align: top;\n    }\n\n    .dataframe thead th {\n        text-align: right;\n    }\n</style>\n<table border=\"1\" class=\"dataframe\">\n  <thead>\n    <tr style=\"text-align: right;\">\n      <th></th>\n      <th>IMU1_GyroX_Mean</th>\n      <th>IMU1_GyroX_StdDev</th>\n      <th>IMU1_GyroX_RMS</th>\n      <th>IMU1_GyroX_Amp</th>\n      <th>IMU1_GyroY_Mean</th>\n      <th>IMU1_GyroY_StdDev</th>\n      <th>IMU1_GyroY_RMS</th>\n      <th>IMU1_GyroY_Amp</th>\n      <th>IMU1_GyroZ_Mean</th>\n      <th>IMU1_GyroZ_StdDev</th>\n      <th>...</th>\n      <th>OFS_FIB_IMNF</th>\n      <th>EMG_EMG_Mean</th>\n      <th>EMG_EMG_StdDev</th>\n      <th>EMG_EMG_RMS</th>\n      <th>EMG_EMG_Amp</th>\n      <th>EMG_EMG_MNF</th>\n      <th>EMG_EMG_MDF</th>\n      <th>EMG_EMG_IMNF</th>\n      <th>Age</th>\n      <th>BMI</th>\n    </tr>\n  </thead>\n  <tbody>\n    <tr>\n      <th>0</th>\n      <td>100.000000</td>\n      <td>100.000000</td>\n      <td>100.000000</td>\n      <td>100.000000</td>\n      <td>100.000000</td>\n      <td>100.000000</td>\n      <td>100.000000</td>\n      <td>100.000000</td>\n      <td>100.000000</td>\n      <td>100.000000</td>\n      <td>...</td>\n      <td>1.282506</td>\n      <td>100.000000</td>\n      <td>100.000000</td>\n      <td>100.000000</td>\n      <td>100.000000</td>\n      <td>0.293036</td>\n      <td>0.230724</td>\n      <td>22.334139</td>\n      <td>24</td>\n      <td>27.250887</td>\n    </tr>\n    <tr>\n      <th>1</th>\n      <td>7.026579</td>\n      <td>198.259304</td>\n      <td>199.601392</td>\n      <td>184.295571</td>\n      <td>610.020298</td>\n      <td>175.334986</td>\n      <td>178.265684</td>\n      <td>192.958297</td>\n      <td>-30.466274</td>\n      <td>188.025193</td>\n      <td>...</td>\n      <td>1.147393</td>\n      <td>107.150748</td>\n      <td>71.239481</td>\n      <td>103.936460</td>\n      <td>81.656880</td>\n      <td>0.142451</td>\n      <td>0.181664</td>\n      <td>8.384712</td>\n      <td>24</td>\n      <td>27.250887</td>\n    </tr>\n    <tr>\n      <th>2</th>\n      <td>-7082.108609</td>\n      <td>568.164429</td>\n      <td>593.320009</td>\n      <td>727.671625</td>\n      <td>9456.718907</td>\n      <td>610.892516</td>\n      <td>672.664608</td>\n      <td>744.159826</td>\n      <td>-744.252427</td>\n      <td>567.506829</td>\n      <td>...</td>\n      <td>0.989183</td>\n      <td>247.044115</td>\n      <td>611.569045</td>\n      <td>306.910586</td>\n      <td>514.609792</td>\n      <td>0.385845</td>\n      <td>0.234438</td>\n      <td>8.372799</td>\n      <td>24</td>\n      <td>27.250887</td>\n    </tr>\n    <tr>\n      <th>3</th>\n      <td>3618.245437</td>\n      <td>1537.254629</td>\n      <td>1540.972428</td>\n      <td>1855.355638</td>\n      <td>4828.685519</td>\n      <td>2177.145176</td>\n      <td>2187.176663</td>\n      <td>2466.309254</td>\n      <td>-638.476505</td>\n      <td>1500.476246</td>\n      <td>...</td>\n      <td>0.912529</td>\n      <td>713.389659</td>\n      <td>1127.501511</td>\n      <td>767.921875</td>\n      <td>968.529167</td>\n      <td>0.426387</td>\n      <td>0.192446</td>\n      <td>7.684195</td>\n      <td>24</td>\n      <td>27.250887</td>\n    </tr>\n    <tr>\n      <th>4</th>\n      <td>-1539.312493</td>\n      <td>2426.076723</td>\n      <td>2428.697877</td>\n      <td>2399.474310</td>\n      <td>-5421.387863</td>\n      <td>4325.733672</td>\n      <td>4335.967864</td>\n      <td>4673.869608</td>\n      <td>173.236814</td>\n      <td>1786.550574</td>\n      <td>...</td>\n      <td>0.880923</td>\n      <td>2214.542677</td>\n      <td>4157.944918</td>\n      <td>2493.259693</td>\n      <td>3969.429341</td>\n      <td>0.501780</td>\n      <td>0.220765</td>\n      <td>7.496121</td>\n      <td>24</td>\n      <td>27.250887</td>\n    </tr>\n    <tr>\n      <th>...</th>\n      <td>...</td>\n      <td>...</td>\n      <td>...</td>\n      <td>...</td>\n      <td>...</td>\n      <td>...</td>\n      <td>...</td>\n      <td>...</td>\n      <td>...</td>\n      <td>...</td>\n      <td>...</td>\n      <td>...</td>\n      <td>...</td>\n      <td>...</td>\n      <td>...</td>\n      <td>...</td>\n      <td>...</td>\n      <td>...</td>\n      <td>...</td>\n      <td>...</td>\n      <td>...</td>\n    </tr>\n    <tr>\n      <th>1828</th>\n      <td>1.764259</td>\n      <td>368.991733</td>\n      <td>368.247948</td>\n      <td>1534.561927</td>\n      <td>-0.311389</td>\n      <td>139.779641</td>\n      <td>139.496687</td>\n      <td>590.129262</td>\n      <td>7.109903</td>\n      <td>269.971731</td>\n      <td>...</td>\n      <td>0.808654</td>\n      <td>3.784144</td>\n      <td>2.975367</td>\n      <td>4.813325</td>\n      <td>10.521596</td>\n      <td>0.407665</td>\n      <td>0.208658</td>\n      <td>8.023430</td>\n      <td>30</td>\n      <td>30.346074</td>\n    </tr>\n    <tr>\n      <th>1829</th>\n      <td>0.475102</td>\n      <td>349.962108</td>\n      <td>349.301063</td>\n      <td>1483.874905</td>\n      <td>0.453211</td>\n      <td>144.938057</td>\n      <td>144.665591</td>\n      <td>602.595420</td>\n      <td>0.678974</td>\n      <td>273.597473</td>\n      <td>...</td>\n      <td>0.807963</td>\n      <td>3.661929</td>\n      <td>3.194020</td>\n      <td>4.858676</td>\n      <td>10.239955</td>\n      <td>0.395226</td>\n      <td>0.210199</td>\n      <td>9.214335</td>\n      <td>30</td>\n      <td>30.346074</td>\n    </tr>\n    <tr>\n      <th>1830</th>\n      <td>1.972435</td>\n      <td>328.861224</td>\n      <td>328.309039</td>\n      <td>1336.387882</td>\n      <td>3.336819</td>\n      <td>162.563803</td>\n      <td>162.325196</td>\n      <td>675.185751</td>\n      <td>-3.122483</td>\n      <td>270.265599</td>\n      <td>...</td>\n      <td>0.806151</td>\n      <td>6.071805</td>\n      <td>6.055941</td>\n      <td>8.574721</td>\n      <td>21.664981</td>\n      <td>0.400278</td>\n      <td>0.214340</td>\n      <td>7.786317</td>\n      <td>30</td>\n      <td>30.346074</td>\n    </tr>\n    <tr>\n      <th>1831</th>\n      <td>-0.824858</td>\n      <td>366.299038</td>\n      <td>365.628259</td>\n      <td>1428.214854</td>\n      <td>2.038201</td>\n      <td>166.471751</td>\n      <td>166.179372</td>\n      <td>671.038232</td>\n      <td>3.257283</td>\n      <td>275.674312</td>\n      <td>...</td>\n      <td>1.029054</td>\n      <td>5.424234</td>\n      <td>4.958792</td>\n      <td>7.348506</td>\n      <td>16.820162</td>\n      <td>0.440773</td>\n      <td>0.217625</td>\n      <td>8.059900</td>\n      <td>30</td>\n      <td>30.346074</td>\n    </tr>\n    <tr>\n      <th>1832</th>\n      <td>-29.002205</td>\n      <td>400.172705</td>\n      <td>399.824304</td>\n      <td>1648.174141</td>\n      <td>21.484176</td>\n      <td>173.519746</td>\n      <td>174.241553</td>\n      <td>651.255248</td>\n      <td>9.533042</td>\n      <td>290.969664</td>\n      <td>...</td>\n      <td>3.783479</td>\n      <td>5.539462</td>\n      <td>4.086590</td>\n      <td>6.882678</td>\n      <td>13.769611</td>\n      <td>1.456003</td>\n      <td>0.345457</td>\n      <td>39.071400</td>\n      <td>30</td>\n      <td>30.346074</td>\n    </tr>\n  </tbody>\n</table>\n<p>1833 rows × 65 columns</p>\n</div>"
     },
     "execution_count": 2,
     "metadata": {},
     "output_type": "execute_result"
    }
   ],
   "source": [
    "# Load your dataset\n",
    "dataset = pd.read_csv('../../../Dataset/Exoskeleton/Original.csv')  # Replace with your dataset path\n",
    "dataset.iloc[:, -1] = dataset.iloc[:, -1] - 1\n",
    "X = dataset.iloc[:, :-2]  # Features\n",
    "y = dataset.iloc[:, -2] -1  # Target\n",
    "X"
   ],
   "metadata": {
    "collapsed": false,
    "ExecuteTime": {
     "end_time": "2024-02-20T21:44:39.270669962Z",
     "start_time": "2024-02-20T21:44:39.232128911Z"
    }
   },
   "id": "63c4933a34c4a3eb"
  },
  {
   "cell_type": "code",
   "outputs": [
    {
     "data": {
      "text/plain": "array([[ 0.06020544,  1.6001754 ,  1.58040524, ..., -0.23613307,\n        -0.6239885 , -0.25724994],\n       [ 0.00520685, -0.35564647, -0.35341826, ..., -0.44471697,\n        -1.02545249, -0.16417599],\n       [ 0.01356361, -0.36096332, -0.35849886, ..., -0.37188082,\n        -0.6239885 ,  0.51517062],\n       ...,\n       [ 0.00182825, -0.36829142, -0.36842377, ..., -0.37227909,\n        -0.6239885 , -0.62278157],\n       [ 0.00405117, -0.38595741, -0.38364444, ...,  0.008841  ,\n        -0.6239885 ,  1.79231515],\n       [-0.03230592, -0.0653375 , -0.06268051, ..., -0.32938259,\n        -0.6239885 , -0.55000462]])"
     },
     "execution_count": 3,
     "metadata": {},
     "output_type": "execute_result"
    }
   ],
   "source": [
    "# Normalize the features\n",
    "scaler = StandardScaler()\n",
    "X_scaled = scaler.fit_transform(X)\n",
    "\n",
    "# Convert labels to categorical\n",
    "y_categorical = to_categorical(y)\n",
    "\n",
    "# Shuffle the data\n",
    "X_scaled, y_categorical = shuffle(X_scaled, y_categorical, random_state=42)\n",
    "\n",
    "# Split the data\n",
    "X_train, X_test, y_train, y_test = train_test_split(\n",
    "    X_scaled, y_categorical, test_size=0.2, random_state=42)\n",
    "\n",
    "X_scaled"
   ],
   "metadata": {
    "collapsed": false,
    "ExecuteTime": {
     "end_time": "2024-02-20T21:44:49.502017473Z",
     "start_time": "2024-02-20T21:44:49.482042380Z"
    }
   },
   "id": "30732feab455c79b",
   "execution_count": 3
  },
  {
   "cell_type": "code",
   "outputs": [
    {
     "data": {
      "text/plain": "3"
     },
     "execution_count": 4,
     "metadata": {},
     "output_type": "execute_result"
    }
   ],
   "source": [
    "# Number of unique classes in the target variable\n",
    "num_classes = y_train.shape[1]\n",
    "num_classes"
   ],
   "metadata": {
    "collapsed": false,
    "ExecuteTime": {
     "end_time": "2024-02-20T21:44:55.047852996Z",
     "start_time": "2024-02-20T21:44:55.043616489Z"
    }
   },
   "id": "7bb8f68f4d9109ed",
   "execution_count": 4
  },
  {
   "cell_type": "code",
   "outputs": [],
   "source": [
    "# Building the DNN model\n",
    "model = Sequential([\n",
    "    Dense(128, activation='relu', input_shape=(X_train.shape[1],), name='dense_0'),\n",
    "    Dense(64, activation='relu', name='dense_1'),\n",
    "    Dense(3, activation='relu', name='dense_2'),\n",
    "    # Dense(3, activation='relu', name='dense_3'),\n",
    "    Dense(num_classes, activation='softmax')  # Output layer\n",
    "])"
   ],
   "metadata": {
    "collapsed": false,
    "ExecuteTime": {
     "end_time": "2024-02-20T21:44:56.200912637Z",
     "start_time": "2024-02-20T21:44:56.111982335Z"
    }
   },
   "id": "1e58074cece23a2d",
   "execution_count": 5
  },
  {
   "cell_type": "code",
   "execution_count": 6,
   "outputs": [],
   "source": [
    "# Define the early stopping callback\n",
    "early_stopping = EarlyStopping(\n",
    "    monitor='val_loss',\n",
    "    min_delta=0.001,  # minimium amount of change to count as an improvement\n",
    "    patience=100,  # how many epochs to wait before stopping\n",
    "    verbose=1,\n",
    "    mode='min',\n",
    "    restore_best_weights=True\n",
    ")\n",
    "\n",
    "# Set the learning rate\n",
    "learning_rate = 0.01\n",
    "\n",
    "# Create the ReduceLROnPlateau callback\n",
    "reduce_lr = ReduceLROnPlateau(\n",
    "    monitor='val_loss',\n",
    "    factor=0.9,  # factor by which the learning rate will be reduced\n",
    "    patience=5,  # number of epochs with no improvement after which learning rate will be reduced\n",
    "    min_lr=0.00001,  # lower bound on the learning rate\n",
    "    verbose=1\n",
    ")\n",
    "lr_callback = tf.keras.callbacks.LearningRateScheduler(reduce_lr)\n",
    "\n",
    "class PrintLR(tf.keras.callbacks.Callback):\n",
    "    def __init__(self):\n",
    "        super().__init__()\n",
    "        self.learning_rates = []\n",
    "        \n",
    "    def on_epoch_begin(self, epoch, logs=None):\n",
    "        lr = self.model.optimizer.lr\n",
    "        if hasattr(lr, 'numpy'):\n",
    "            lr = lr.numpy()\n",
    "        elif hasattr(lr, 'eval'):\n",
    "            lr = lr.eval(session=tf.compat.v1.Session())\n",
    "        print(f'Epoch {epoch+1}: Learning rate is {lr}.')\n",
    "    \n",
    "    def on_epoch_end(self, epoch, logs=None):\n",
    "        # Retrieve the current learning rate from the optimizer\n",
    "        current_lr = tf.keras.backend.get_value(self.model.optimizer.lr)\n",
    "        # Append the current learning rate to the list\n",
    "        self.learning_rates.append(current_lr)\n",
    "\n",
    "lr_tracker = PrintLR()\n",
    "callbacks = [lr_tracker, early_stopping, reduce_lr]\n",
    "\n",
    "\n",
    "# Initialize the optimizer with the learning rate\n",
    "optimizer = Adam(learning_rate=learning_rate)\n",
    "\n",
    "# Compiling the model\n",
    "model.compile(optimizer=optimizer,\n",
    "              loss='categorical_crossentropy',\n",
    "              metrics=['accuracy'])"
   ],
   "metadata": {
    "collapsed": false,
    "ExecuteTime": {
     "end_time": "2024-02-20T21:44:57.769353095Z",
     "start_time": "2024-02-20T21:44:57.750299289Z"
    }
   },
   "id": "111da32ccd0d31d1"
  },
  {
   "cell_type": "code",
   "execution_count": 7,
   "outputs": [
    {
     "name": "stdout",
     "output_type": "stream",
     "text": [
      "Epoch 1: Learning rate is 0.009999999776482582.\n",
      "Epoch 1/1000\n",
      "37/37 [==============================] - 1s 5ms/step - loss: 0.6418 - accuracy: 0.7654 - val_loss: 0.5671 - val_accuracy: 0.7993 - lr: 0.0100\n",
      "Epoch 2: Learning rate is 0.009999999776482582.\n",
      "Epoch 2/1000\n",
      "37/37 [==============================] - 0s 2ms/step - loss: 0.5132 - accuracy: 0.8089 - val_loss: 0.4845 - val_accuracy: 0.8095 - lr: 0.0100\n",
      "Epoch 3: Learning rate is 0.009999999776482582.\n",
      "Epoch 3/1000\n",
      "37/37 [==============================] - 0s 2ms/step - loss: 0.4433 - accuracy: 0.8131 - val_loss: 0.4706 - val_accuracy: 0.8061 - lr: 0.0100\n",
      "Epoch 4: Learning rate is 0.009999999776482582.\n",
      "Epoch 4/1000\n",
      "37/37 [==============================] - 0s 2ms/step - loss: 0.4146 - accuracy: 0.8148 - val_loss: 0.4535 - val_accuracy: 0.8095 - lr: 0.0100\n",
      "Epoch 5: Learning rate is 0.009999999776482582.\n",
      "Epoch 5/1000\n",
      "37/37 [==============================] - 0s 2ms/step - loss: 0.4022 - accuracy: 0.8174 - val_loss: 0.4256 - val_accuracy: 0.8129 - lr: 0.0100\n",
      "Epoch 6: Learning rate is 0.009999999776482582.\n",
      "Epoch 6/1000\n",
      "37/37 [==============================] - 0s 2ms/step - loss: 0.4072 - accuracy: 0.8166 - val_loss: 0.4381 - val_accuracy: 0.8095 - lr: 0.0100\n",
      "Epoch 7: Learning rate is 0.009999999776482582.\n",
      "Epoch 7/1000\n",
      "37/37 [==============================] - 0s 2ms/step - loss: 0.3922 - accuracy: 0.8183 - val_loss: 0.4183 - val_accuracy: 0.8163 - lr: 0.0100\n",
      "Epoch 8: Learning rate is 0.009999999776482582.\n",
      "Epoch 8/1000\n",
      "37/37 [==============================] - 0s 2ms/step - loss: 0.3791 - accuracy: 0.8174 - val_loss: 0.4346 - val_accuracy: 0.8163 - lr: 0.0100\n",
      "Epoch 9: Learning rate is 0.009999999776482582.\n",
      "Epoch 9/1000\n",
      "37/37 [==============================] - 0s 2ms/step - loss: 0.3714 - accuracy: 0.8191 - val_loss: 0.4781 - val_accuracy: 0.8095 - lr: 0.0100\n",
      "Epoch 10: Learning rate is 0.009999999776482582.\n",
      "Epoch 10/1000\n",
      "37/37 [==============================] - 0s 1ms/step - loss: 0.3729 - accuracy: 0.8183 - val_loss: 0.4782 - val_accuracy: 0.8163 - lr: 0.0100\n",
      "Epoch 11: Learning rate is 0.009999999776482582.\n",
      "Epoch 11/1000\n",
      "37/37 [==============================] - 0s 1ms/step - loss: 0.4153 - accuracy: 0.8157 - val_loss: 0.4467 - val_accuracy: 0.7993 - lr: 0.0100\n",
      "Epoch 12: Learning rate is 0.009999999776482582.\n",
      "Epoch 12/1000\n",
      " 1/37 [..............................] - ETA: 0s - loss: 0.3871 - accuracy: 0.8438\n",
      "Epoch 12: ReduceLROnPlateau reducing learning rate to 0.008999999798834325.\n",
      "37/37 [==============================] - 0s 2ms/step - loss: 0.4089 - accuracy: 0.8063 - val_loss: 0.5117 - val_accuracy: 0.8129 - lr: 0.0100\n",
      "Epoch 13: Learning rate is 0.008999999612569809.\n",
      "Epoch 13/1000\n",
      "37/37 [==============================] - 0s 1ms/step - loss: 0.4003 - accuracy: 0.8166 - val_loss: 0.5756 - val_accuracy: 0.8027 - lr: 0.0090\n",
      "Epoch 14: Learning rate is 0.008999999612569809.\n",
      "Epoch 14/1000\n",
      "37/37 [==============================] - 0s 2ms/step - loss: 0.3672 - accuracy: 0.8183 - val_loss: 0.5804 - val_accuracy: 0.8129 - lr: 0.0090\n",
      "Epoch 15: Learning rate is 0.008999999612569809.\n",
      "Epoch 15/1000\n",
      "37/37 [==============================] - 0s 1ms/step - loss: 0.3622 - accuracy: 0.8191 - val_loss: 0.6915 - val_accuracy: 0.8129 - lr: 0.0090\n",
      "Epoch 16: Learning rate is 0.008999999612569809.\n",
      "Epoch 16/1000\n",
      "37/37 [==============================] - 0s 1ms/step - loss: 0.3584 - accuracy: 0.8200 - val_loss: 0.4463 - val_accuracy: 0.8163 - lr: 0.0090\n",
      "Epoch 17: Learning rate is 0.008999999612569809.\n",
      "Epoch 17/1000\n",
      " 1/37 [..............................] - ETA: 0s - loss: 0.4321 - accuracy: 0.7812\n",
      "Epoch 17: ReduceLROnPlateau reducing learning rate to 0.008099999651312828.\n",
      "37/37 [==============================] - 0s 2ms/step - loss: 0.3564 - accuracy: 0.8208 - val_loss: 0.4389 - val_accuracy: 0.8163 - lr: 0.0090\n",
      "Epoch 18: Learning rate is 0.008099999278783798.\n",
      "Epoch 18/1000\n",
      "37/37 [==============================] - 0s 2ms/step - loss: 0.3556 - accuracy: 0.8208 - val_loss: 0.4394 - val_accuracy: 0.8163 - lr: 0.0081\n",
      "Epoch 19: Learning rate is 0.008099999278783798.\n",
      "Epoch 19/1000\n",
      "37/37 [==============================] - 0s 2ms/step - loss: 0.3548 - accuracy: 0.8208 - val_loss: 0.4404 - val_accuracy: 0.8163 - lr: 0.0081\n",
      "Epoch 20: Learning rate is 0.008099999278783798.\n",
      "Epoch 20/1000\n",
      "37/37 [==============================] - 0s 1ms/step - loss: 0.3543 - accuracy: 0.8208 - val_loss: 0.4402 - val_accuracy: 0.8163 - lr: 0.0081\n",
      "Epoch 21: Learning rate is 0.008099999278783798.\n",
      "Epoch 21/1000\n",
      "37/37 [==============================] - 0s 2ms/step - loss: 0.3541 - accuracy: 0.8208 - val_loss: 0.4403 - val_accuracy: 0.8163 - lr: 0.0081\n",
      "Epoch 22: Learning rate is 0.008099999278783798.\n",
      "Epoch 22/1000\n",
      " 1/37 [..............................] - ETA: 0s - loss: 0.3271 - accuracy: 0.9062\n",
      "Epoch 22: ReduceLROnPlateau reducing learning rate to 0.007289999350905419.\n",
      "37/37 [==============================] - 0s 2ms/step - loss: 0.3545 - accuracy: 0.8208 - val_loss: 0.4407 - val_accuracy: 0.8163 - lr: 0.0081\n",
      "Epoch 23: Learning rate is 0.0072899991646409035.\n",
      "Epoch 23/1000\n",
      "37/37 [==============================] - 0s 2ms/step - loss: 0.3528 - accuracy: 0.8208 - val_loss: 0.4409 - val_accuracy: 0.8163 - lr: 0.0073\n",
      "Epoch 24: Learning rate is 0.0072899991646409035.\n",
      "Epoch 24/1000\n",
      "37/37 [==============================] - 0s 2ms/step - loss: 0.3528 - accuracy: 0.8208 - val_loss: 0.4410 - val_accuracy: 0.8163 - lr: 0.0073\n",
      "Epoch 25: Learning rate is 0.0072899991646409035.\n",
      "Epoch 25/1000\n",
      "37/37 [==============================] - 0s 1ms/step - loss: 0.3524 - accuracy: 0.8208 - val_loss: 0.4407 - val_accuracy: 0.8163 - lr: 0.0073\n",
      "Epoch 26: Learning rate is 0.0072899991646409035.\n",
      "Epoch 26/1000\n",
      "37/37 [==============================] - 0s 2ms/step - loss: 0.3521 - accuracy: 0.8208 - val_loss: 0.4409 - val_accuracy: 0.8163 - lr: 0.0073\n",
      "Epoch 27: Learning rate is 0.0072899991646409035.\n",
      "Epoch 27/1000\n",
      " 1/37 [..............................] - ETA: 0s - loss: 0.4142 - accuracy: 0.8125\n",
      "Epoch 27: ReduceLROnPlateau reducing learning rate to 0.006560999248176813.\n",
      "37/37 [==============================] - 0s 1ms/step - loss: 0.3517 - accuracy: 0.8208 - val_loss: 0.4410 - val_accuracy: 0.8163 - lr: 0.0073\n",
      "Epoch 28: Learning rate is 0.006560999434441328.\n",
      "Epoch 28/1000\n",
      "37/37 [==============================] - 0s 1ms/step - loss: 0.3514 - accuracy: 0.8208 - val_loss: 0.4411 - val_accuracy: 0.8163 - lr: 0.0066\n",
      "Epoch 29: Learning rate is 0.006560999434441328.\n",
      "Epoch 29/1000\n",
      "37/37 [==============================] - 0s 2ms/step - loss: 0.3514 - accuracy: 0.8208 - val_loss: 0.4413 - val_accuracy: 0.8163 - lr: 0.0066\n",
      "Epoch 30: Learning rate is 0.006560999434441328.\n",
      "Epoch 30/1000\n",
      "37/37 [==============================] - 0s 2ms/step - loss: 0.3510 - accuracy: 0.8208 - val_loss: 0.4411 - val_accuracy: 0.8163 - lr: 0.0066\n",
      "Epoch 31: Learning rate is 0.006560999434441328.\n",
      "Epoch 31/1000\n",
      "37/37 [==============================] - 0s 1ms/step - loss: 0.3509 - accuracy: 0.8208 - val_loss: 0.4415 - val_accuracy: 0.8163 - lr: 0.0066\n",
      "Epoch 32: Learning rate is 0.006560999434441328.\n",
      "Epoch 32/1000\n",
      " 1/37 [..............................] - ETA: 0s - loss: 0.3981 - accuracy: 0.7812\n",
      "Epoch 32: ReduceLROnPlateau reducing learning rate to 0.005904899490997195.\n",
      "37/37 [==============================] - 0s 2ms/step - loss: 0.3508 - accuracy: 0.8208 - val_loss: 0.4414 - val_accuracy: 0.8163 - lr: 0.0066\n",
      "Epoch 33: Learning rate is 0.0059048994444310665.\n",
      "Epoch 33/1000\n",
      "37/37 [==============================] - 0s 1ms/step - loss: 0.3506 - accuracy: 0.8208 - val_loss: 0.4414 - val_accuracy: 0.8163 - lr: 0.0059\n",
      "Epoch 34: Learning rate is 0.0059048994444310665.\n",
      "Epoch 34/1000\n",
      "37/37 [==============================] - 0s 1ms/step - loss: 0.3504 - accuracy: 0.8208 - val_loss: 0.4417 - val_accuracy: 0.8163 - lr: 0.0059\n",
      "Epoch 35: Learning rate is 0.0059048994444310665.\n",
      "Epoch 35/1000\n",
      "37/37 [==============================] - 0s 2ms/step - loss: 0.3503 - accuracy: 0.8208 - val_loss: 0.4418 - val_accuracy: 0.8163 - lr: 0.0059\n",
      "Epoch 36: Learning rate is 0.0059048994444310665.\n",
      "Epoch 36/1000\n",
      "37/37 [==============================] - 0s 2ms/step - loss: 0.3501 - accuracy: 0.8208 - val_loss: 0.4418 - val_accuracy: 0.8163 - lr: 0.0059\n",
      "Epoch 37: Learning rate is 0.0059048994444310665.\n",
      "Epoch 37/1000\n",
      " 1/37 [..............................] - ETA: 0s - loss: 0.4001 - accuracy: 0.8125\n",
      "Epoch 37: ReduceLROnPlateau reducing learning rate to 0.00531440949998796.\n",
      "37/37 [==============================] - 0s 1ms/step - loss: 0.3501 - accuracy: 0.8208 - val_loss: 0.4418 - val_accuracy: 0.8163 - lr: 0.0059\n",
      "Epoch 38: Learning rate is 0.0053144097328186035.\n",
      "Epoch 38/1000\n",
      "37/37 [==============================] - 0s 1ms/step - loss: 0.3499 - accuracy: 0.8208 - val_loss: 0.4419 - val_accuracy: 0.8163 - lr: 0.0053\n",
      "Epoch 39: Learning rate is 0.0053144097328186035.\n",
      "Epoch 39/1000\n",
      "37/37 [==============================] - 0s 2ms/step - loss: 0.3498 - accuracy: 0.8208 - val_loss: 0.4418 - val_accuracy: 0.8163 - lr: 0.0053\n",
      "Epoch 40: Learning rate is 0.0053144097328186035.\n",
      "Epoch 40/1000\n",
      "37/37 [==============================] - 0s 2ms/step - loss: 0.3498 - accuracy: 0.8208 - val_loss: 0.4421 - val_accuracy: 0.8163 - lr: 0.0053\n",
      "Epoch 41: Learning rate is 0.0053144097328186035.\n",
      "Epoch 41/1000\n",
      "37/37 [==============================] - 0s 1ms/step - loss: 0.3496 - accuracy: 0.8208 - val_loss: 0.4424 - val_accuracy: 0.8163 - lr: 0.0053\n",
      "Epoch 42: Learning rate is 0.0053144097328186035.\n",
      "Epoch 42/1000\n",
      " 1/37 [..............................] - ETA: 0s - loss: 0.4904 - accuracy: 0.7188\n",
      "Epoch 42: ReduceLROnPlateau reducing learning rate to 0.004782968759536744.\n",
      "37/37 [==============================] - 0s 2ms/step - loss: 0.3495 - accuracy: 0.8208 - val_loss: 0.4424 - val_accuracy: 0.8163 - lr: 0.0053\n",
      "Epoch 43: Learning rate is 0.004782968666404486.\n",
      "Epoch 43/1000\n",
      "37/37 [==============================] - 0s 1ms/step - loss: 0.3494 - accuracy: 0.8208 - val_loss: 0.4424 - val_accuracy: 0.8163 - lr: 0.0048\n",
      "Epoch 44: Learning rate is 0.004782968666404486.\n",
      "Epoch 44/1000\n",
      "37/37 [==============================] - 0s 2ms/step - loss: 0.3492 - accuracy: 0.8208 - val_loss: 0.4425 - val_accuracy: 0.8163 - lr: 0.0048\n",
      "Epoch 45: Learning rate is 0.004782968666404486.\n",
      "Epoch 45/1000\n",
      "37/37 [==============================] - 0s 2ms/step - loss: 0.3492 - accuracy: 0.8208 - val_loss: 0.4425 - val_accuracy: 0.8163 - lr: 0.0048\n",
      "Epoch 46: Learning rate is 0.004782968666404486.\n",
      "Epoch 46/1000\n",
      "37/37 [==============================] - 0s 2ms/step - loss: 0.3492 - accuracy: 0.8208 - val_loss: 0.4427 - val_accuracy: 0.8163 - lr: 0.0048\n",
      "Epoch 47: Learning rate is 0.004782968666404486.\n",
      "Epoch 47/1000\n",
      " 1/37 [..............................] - ETA: 0s - loss: 0.4562 - accuracy: 0.7500\n",
      "Epoch 47: ReduceLROnPlateau reducing learning rate to 0.0043046717997640375.\n",
      "37/37 [==============================] - 0s 1ms/step - loss: 0.3491 - accuracy: 0.8208 - val_loss: 0.4428 - val_accuracy: 0.8163 - lr: 0.0048\n",
      "Epoch 48: Learning rate is 0.004304671660065651.\n",
      "Epoch 48/1000\n",
      "37/37 [==============================] - 0s 1ms/step - loss: 0.3490 - accuracy: 0.8208 - val_loss: 0.4429 - val_accuracy: 0.8163 - lr: 0.0043\n",
      "Epoch 49: Learning rate is 0.004304671660065651.\n",
      "Epoch 49/1000\n",
      "37/37 [==============================] - 0s 1ms/step - loss: 0.3489 - accuracy: 0.8208 - val_loss: 0.4428 - val_accuracy: 0.8163 - lr: 0.0043\n",
      "Epoch 50: Learning rate is 0.004304671660065651.\n",
      "Epoch 50/1000\n",
      "37/37 [==============================] - 0s 2ms/step - loss: 0.3491 - accuracy: 0.8208 - val_loss: 0.4430 - val_accuracy: 0.8163 - lr: 0.0043\n",
      "Epoch 51: Learning rate is 0.004304671660065651.\n",
      "Epoch 51/1000\n",
      "37/37 [==============================] - 0s 1ms/step - loss: 0.3487 - accuracy: 0.8208 - val_loss: 0.4432 - val_accuracy: 0.8163 - lr: 0.0043\n",
      "Epoch 52: Learning rate is 0.004304671660065651.\n",
      "Epoch 52/1000\n",
      " 1/37 [..............................] - ETA: 0s - loss: 0.4525 - accuracy: 0.7188\n",
      "Epoch 52: ReduceLROnPlateau reducing learning rate to 0.0038742044940590858.\n",
      "37/37 [==============================] - 0s 2ms/step - loss: 0.3489 - accuracy: 0.8208 - val_loss: 0.4431 - val_accuracy: 0.8163 - lr: 0.0043\n",
      "Epoch 53: Learning rate is 0.0038742045871913433.\n",
      "Epoch 53/1000\n",
      "37/37 [==============================] - 0s 1ms/step - loss: 0.3489 - accuracy: 0.8208 - val_loss: 0.4432 - val_accuracy: 0.8163 - lr: 0.0039\n",
      "Epoch 54: Learning rate is 0.0038742045871913433.\n",
      "Epoch 54/1000\n",
      "37/37 [==============================] - 0s 2ms/step - loss: 0.3488 - accuracy: 0.8208 - val_loss: 0.4434 - val_accuracy: 0.8163 - lr: 0.0039\n",
      "Epoch 55: Learning rate is 0.0038742045871913433.\n",
      "Epoch 55/1000\n",
      "37/37 [==============================] - 0s 1ms/step - loss: 0.3487 - accuracy: 0.8208 - val_loss: 0.4433 - val_accuracy: 0.8163 - lr: 0.0039\n",
      "Epoch 56: Learning rate is 0.0038742045871913433.\n",
      "Epoch 56/1000\n",
      "37/37 [==============================] - 0s 1ms/step - loss: 0.3486 - accuracy: 0.8208 - val_loss: 0.4435 - val_accuracy: 0.8163 - lr: 0.0039\n",
      "Epoch 57: Learning rate is 0.0038742045871913433.\n",
      "Epoch 57/1000\n",
      " 1/37 [..............................] - ETA: 0s - loss: 0.4404 - accuracy: 0.7188\n",
      "Epoch 57: ReduceLROnPlateau reducing learning rate to 0.003486784128472209.\n",
      "37/37 [==============================] - 0s 2ms/step - loss: 0.3485 - accuracy: 0.8208 - val_loss: 0.4434 - val_accuracy: 0.8163 - lr: 0.0039\n",
      "Epoch 58: Learning rate is 0.0034867841750383377.\n",
      "Epoch 58/1000\n",
      "37/37 [==============================] - 0s 2ms/step - loss: 0.3486 - accuracy: 0.8208 - val_loss: 0.4434 - val_accuracy: 0.8163 - lr: 0.0035\n",
      "Epoch 59: Learning rate is 0.0034867841750383377.\n",
      "Epoch 59/1000\n",
      "37/37 [==============================] - 0s 2ms/step - loss: 0.3484 - accuracy: 0.8208 - val_loss: 0.4432 - val_accuracy: 0.8163 - lr: 0.0035\n",
      "Epoch 60: Learning rate is 0.0034867841750383377.\n",
      "Epoch 60/1000\n",
      "37/37 [==============================] - 0s 2ms/step - loss: 0.3484 - accuracy: 0.8208 - val_loss: 0.4432 - val_accuracy: 0.8163 - lr: 0.0035\n",
      "Epoch 61: Learning rate is 0.0034867841750383377.\n",
      "Epoch 61/1000\n",
      "37/37 [==============================] - 0s 2ms/step - loss: 0.3483 - accuracy: 0.8208 - val_loss: 0.4434 - val_accuracy: 0.8163 - lr: 0.0035\n",
      "Epoch 62: Learning rate is 0.0034867841750383377.\n",
      "Epoch 62/1000\n",
      " 1/37 [..............................] - ETA: 0s - loss: 0.4288 - accuracy: 0.7188\n",
      "Epoch 62: ReduceLROnPlateau reducing learning rate to 0.003138105757534504.\n",
      "37/37 [==============================] - 0s 2ms/step - loss: 0.3484 - accuracy: 0.8208 - val_loss: 0.4434 - val_accuracy: 0.8163 - lr: 0.0035\n",
      "Epoch 63: Learning rate is 0.0031381058506667614.\n",
      "Epoch 63/1000\n",
      "37/37 [==============================] - 0s 2ms/step - loss: 0.3483 - accuracy: 0.8208 - val_loss: 0.4435 - val_accuracy: 0.8163 - lr: 0.0031\n",
      "Epoch 64: Learning rate is 0.0031381058506667614.\n",
      "Epoch 64/1000\n",
      "37/37 [==============================] - 0s 2ms/step - loss: 0.3483 - accuracy: 0.8208 - val_loss: 0.4437 - val_accuracy: 0.8163 - lr: 0.0031\n",
      "Epoch 65: Learning rate is 0.0031381058506667614.\n",
      "Epoch 65/1000\n",
      "37/37 [==============================] - 0s 1ms/step - loss: 0.3482 - accuracy: 0.8208 - val_loss: 0.4438 - val_accuracy: 0.8163 - lr: 0.0031\n",
      "Epoch 66: Learning rate is 0.0031381058506667614.\n",
      "Epoch 66/1000\n",
      "37/37 [==============================] - 0s 2ms/step - loss: 0.3482 - accuracy: 0.8208 - val_loss: 0.4440 - val_accuracy: 0.8163 - lr: 0.0031\n",
      "Epoch 67: Learning rate is 0.0031381058506667614.\n",
      "Epoch 67/1000\n",
      " 1/37 [..............................] - ETA: 0s - loss: 0.3599 - accuracy: 0.8125\n",
      "Epoch 67: ReduceLROnPlateau reducing learning rate to 0.0028242952656000854.\n",
      "37/37 [==============================] - 0s 1ms/step - loss: 0.3483 - accuracy: 0.8208 - val_loss: 0.4441 - val_accuracy: 0.8163 - lr: 0.0031\n",
      "Epoch 68: Learning rate is 0.002824295312166214.\n",
      "Epoch 68/1000\n",
      "37/37 [==============================] - 0s 2ms/step - loss: 0.3482 - accuracy: 0.8208 - val_loss: 0.4440 - val_accuracy: 0.8163 - lr: 0.0028\n",
      "Epoch 69: Learning rate is 0.002824295312166214.\n",
      "Epoch 69/1000\n",
      "37/37 [==============================] - 0s 2ms/step - loss: 0.3481 - accuracy: 0.8208 - val_loss: 0.4440 - val_accuracy: 0.8163 - lr: 0.0028\n",
      "Epoch 70: Learning rate is 0.002824295312166214.\n",
      "Epoch 70/1000\n",
      "37/37 [==============================] - 0s 2ms/step - loss: 0.3481 - accuracy: 0.8208 - val_loss: 0.4442 - val_accuracy: 0.8163 - lr: 0.0028\n",
      "Epoch 71: Learning rate is 0.002824295312166214.\n",
      "Epoch 71/1000\n",
      "37/37 [==============================] - 0s 2ms/step - loss: 0.3481 - accuracy: 0.8208 - val_loss: 0.4443 - val_accuracy: 0.8163 - lr: 0.0028\n",
      "Epoch 72: Learning rate is 0.002824295312166214.\n",
      "Epoch 72/1000\n",
      " 1/37 [..............................] - ETA: 0s - loss: 0.3369 - accuracy: 0.8438\n",
      "Epoch 72: ReduceLROnPlateau reducing learning rate to 0.0025418657809495927.\n",
      "37/37 [==============================] - 0s 2ms/step - loss: 0.3481 - accuracy: 0.8208 - val_loss: 0.4445 - val_accuracy: 0.8163 - lr: 0.0028\n",
      "Epoch 73: Learning rate is 0.002541865687817335.\n",
      "Epoch 73/1000\n",
      "37/37 [==============================] - 0s 2ms/step - loss: 0.3480 - accuracy: 0.8208 - val_loss: 0.4445 - val_accuracy: 0.8163 - lr: 0.0025\n",
      "Epoch 74: Learning rate is 0.002541865687817335.\n",
      "Epoch 74/1000\n",
      "37/37 [==============================] - 0s 2ms/step - loss: 0.3480 - accuracy: 0.8208 - val_loss: 0.4445 - val_accuracy: 0.8163 - lr: 0.0025\n",
      "Epoch 75: Learning rate is 0.002541865687817335.\n",
      "Epoch 75/1000\n",
      "37/37 [==============================] - 0s 2ms/step - loss: 0.3480 - accuracy: 0.8208 - val_loss: 0.4446 - val_accuracy: 0.8163 - lr: 0.0025\n",
      "Epoch 76: Learning rate is 0.002541865687817335.\n",
      "Epoch 76/1000\n",
      "37/37 [==============================] - 0s 2ms/step - loss: 0.3480 - accuracy: 0.8208 - val_loss: 0.4447 - val_accuracy: 0.8163 - lr: 0.0025\n",
      "Epoch 77: Learning rate is 0.002541865687817335.\n",
      "Epoch 77/1000\n",
      " 1/37 [..............................] - ETA: 0s - loss: 0.3472 - accuracy: 0.8125\n",
      "Epoch 77: ReduceLROnPlateau reducing learning rate to 0.0022876791190356016.\n",
      "37/37 [==============================] - 0s 2ms/step - loss: 0.3480 - accuracy: 0.8208 - val_loss: 0.4448 - val_accuracy: 0.8163 - lr: 0.0025\n",
      "Epoch 78: Learning rate is 0.0022876791190356016.\n",
      "Epoch 78/1000\n",
      "37/37 [==============================] - 0s 2ms/step - loss: 0.3479 - accuracy: 0.8208 - val_loss: 0.4448 - val_accuracy: 0.8163 - lr: 0.0023\n",
      "Epoch 79: Learning rate is 0.0022876791190356016.\n",
      "Epoch 79/1000\n",
      "37/37 [==============================] - 0s 2ms/step - loss: 0.3479 - accuracy: 0.8208 - val_loss: 0.4450 - val_accuracy: 0.8163 - lr: 0.0023\n",
      "Epoch 80: Learning rate is 0.0022876791190356016.\n",
      "Epoch 80/1000\n",
      "37/37 [==============================] - 0s 1ms/step - loss: 0.3479 - accuracy: 0.8208 - val_loss: 0.4450 - val_accuracy: 0.8163 - lr: 0.0023\n",
      "Epoch 81: Learning rate is 0.0022876791190356016.\n",
      "Epoch 81/1000\n",
      "37/37 [==============================] - 0s 1ms/step - loss: 0.3478 - accuracy: 0.8208 - val_loss: 0.4447 - val_accuracy: 0.8163 - lr: 0.0023\n",
      "Epoch 82: Learning rate is 0.0022876791190356016.\n",
      "Epoch 82/1000\n",
      " 1/37 [..............................] - ETA: 0s - loss: 0.3723 - accuracy: 0.8125\n",
      "Epoch 82: ReduceLROnPlateau reducing learning rate to 0.0020589112071320416.\n",
      "37/37 [==============================] - 0s 1ms/step - loss: 0.3478 - accuracy: 0.8208 - val_loss: 0.4448 - val_accuracy: 0.8163 - lr: 0.0023\n",
      "Epoch 83: Learning rate is 0.0020589111372828484.\n",
      "Epoch 83/1000\n",
      "37/37 [==============================] - 0s 2ms/step - loss: 0.3478 - accuracy: 0.8208 - val_loss: 0.4449 - val_accuracy: 0.8163 - lr: 0.0021\n",
      "Epoch 84: Learning rate is 0.0020589111372828484.\n",
      "Epoch 84/1000\n",
      "37/37 [==============================] - 0s 2ms/step - loss: 0.3478 - accuracy: 0.8208 - val_loss: 0.4450 - val_accuracy: 0.8163 - lr: 0.0021\n",
      "Epoch 85: Learning rate is 0.0020589111372828484.\n",
      "Epoch 85/1000\n",
      "37/37 [==============================] - 0s 2ms/step - loss: 0.3477 - accuracy: 0.8208 - val_loss: 0.4451 - val_accuracy: 0.8163 - lr: 0.0021\n",
      "Epoch 86: Learning rate is 0.0020589111372828484.\n",
      "Epoch 86/1000\n",
      "37/37 [==============================] - 0s 2ms/step - loss: 0.3478 - accuracy: 0.8208 - val_loss: 0.4452 - val_accuracy: 0.8163 - lr: 0.0021\n",
      "Epoch 87: Learning rate is 0.0020589111372828484.\n",
      "Epoch 87/1000\n",
      " 1/37 [..............................] - ETA: 0s - loss: 0.3844 - accuracy: 0.8125\n",
      "Epoch 87: ReduceLROnPlateau reducing learning rate to 0.0018530200235545636.\n",
      "37/37 [==============================] - 0s 1ms/step - loss: 0.3478 - accuracy: 0.8208 - val_loss: 0.4453 - val_accuracy: 0.8163 - lr: 0.0021\n",
      "Epoch 88: Learning rate is 0.0018530200468376279.\n",
      "Epoch 88/1000\n",
      "37/37 [==============================] - 0s 2ms/step - loss: 0.3478 - accuracy: 0.8208 - val_loss: 0.4453 - val_accuracy: 0.8163 - lr: 0.0019\n",
      "Epoch 89: Learning rate is 0.0018530200468376279.\n",
      "Epoch 89/1000\n",
      "37/37 [==============================] - 0s 1ms/step - loss: 0.3477 - accuracy: 0.8208 - val_loss: 0.4453 - val_accuracy: 0.8163 - lr: 0.0019\n",
      "Epoch 90: Learning rate is 0.0018530200468376279.\n",
      "Epoch 90/1000\n",
      "37/37 [==============================] - 0s 2ms/step - loss: 0.3477 - accuracy: 0.8208 - val_loss: 0.4454 - val_accuracy: 0.8163 - lr: 0.0019\n",
      "Epoch 91: Learning rate is 0.0018530200468376279.\n",
      "Epoch 91/1000\n",
      "37/37 [==============================] - 0s 1ms/step - loss: 0.3477 - accuracy: 0.8208 - val_loss: 0.4455 - val_accuracy: 0.8163 - lr: 0.0019\n",
      "Epoch 92: Learning rate is 0.0018530200468376279.\n",
      "Epoch 92/1000\n",
      " 1/37 [..............................] - ETA: 0s - loss: 0.4293 - accuracy: 0.7500\n",
      "Epoch 92: ReduceLROnPlateau reducing learning rate to 0.0016677180421538651.\n",
      "37/37 [==============================] - 0s 2ms/step - loss: 0.3477 - accuracy: 0.8208 - val_loss: 0.4455 - val_accuracy: 0.8163 - lr: 0.0019\n",
      "Epoch 93: Learning rate is 0.0016677180537953973.\n",
      "Epoch 93/1000\n",
      "37/37 [==============================] - 0s 2ms/step - loss: 0.3477 - accuracy: 0.8208 - val_loss: 0.4456 - val_accuracy: 0.8163 - lr: 0.0017\n",
      "Epoch 94: Learning rate is 0.0016677180537953973.\n",
      "Epoch 94/1000\n",
      "37/37 [==============================] - 0s 2ms/step - loss: 0.3476 - accuracy: 0.8208 - val_loss: 0.4457 - val_accuracy: 0.8163 - lr: 0.0017\n",
      "Epoch 95: Learning rate is 0.0016677180537953973.\n",
      "Epoch 95/1000\n",
      "37/37 [==============================] - 0s 2ms/step - loss: 0.3476 - accuracy: 0.8208 - val_loss: 0.4458 - val_accuracy: 0.8163 - lr: 0.0017\n",
      "Epoch 96: Learning rate is 0.0016677180537953973.\n",
      "Epoch 96/1000\n",
      "37/37 [==============================] - 0s 2ms/step - loss: 0.3476 - accuracy: 0.8208 - val_loss: 0.4456 - val_accuracy: 0.8163 - lr: 0.0017\n",
      "Epoch 97: Learning rate is 0.0016677180537953973.\n",
      "Epoch 97/1000\n",
      " 1/37 [..............................] - ETA: 0s - loss: 0.3820 - accuracy: 0.7812\n",
      "Epoch 97: ReduceLROnPlateau reducing learning rate to 0.0015009462484158575.\n",
      "37/37 [==============================] - 0s 2ms/step - loss: 0.3476 - accuracy: 0.8208 - val_loss: 0.4456 - val_accuracy: 0.8163 - lr: 0.0017\n",
      "Epoch 98: Learning rate is 0.0015009462367743254.\n",
      "Epoch 98/1000\n",
      "37/37 [==============================] - 0s 1ms/step - loss: 0.3476 - accuracy: 0.8208 - val_loss: 0.4456 - val_accuracy: 0.8163 - lr: 0.0015\n",
      "Epoch 99: Learning rate is 0.0015009462367743254.\n",
      "Epoch 99/1000\n",
      "37/37 [==============================] - 0s 2ms/step - loss: 0.3475 - accuracy: 0.8208 - val_loss: 0.4457 - val_accuracy: 0.8163 - lr: 0.0015\n",
      "Epoch 100: Learning rate is 0.0015009462367743254.\n",
      "Epoch 100/1000\n",
      "37/37 [==============================] - 0s 2ms/step - loss: 0.3475 - accuracy: 0.8208 - val_loss: 0.4458 - val_accuracy: 0.8163 - lr: 0.0015\n",
      "Epoch 101: Learning rate is 0.0015009462367743254.\n",
      "Epoch 101/1000\n",
      "37/37 [==============================] - 0s 2ms/step - loss: 0.3475 - accuracy: 0.8208 - val_loss: 0.4458 - val_accuracy: 0.8163 - lr: 0.0015\n",
      "Epoch 102: Learning rate is 0.0015009462367743254.\n",
      "Epoch 102/1000\n",
      " 1/37 [..............................] - ETA: 0s - loss: 0.4169 - accuracy: 0.7500\n",
      "Epoch 102: ReduceLROnPlateau reducing learning rate to 0.0013508516130968928.\n",
      "37/37 [==============================] - 0s 2ms/step - loss: 0.3475 - accuracy: 0.8208 - val_loss: 0.4459 - val_accuracy: 0.8163 - lr: 0.0015\n",
      "Epoch 103: Learning rate is 0.0013508516130968928.\n",
      "Epoch 103/1000\n",
      "37/37 [==============================] - 0s 1ms/step - loss: 0.3475 - accuracy: 0.8208 - val_loss: 0.4460 - val_accuracy: 0.8163 - lr: 0.0014\n",
      "Epoch 104: Learning rate is 0.0013508516130968928.\n",
      "Epoch 104/1000\n",
      "37/37 [==============================] - 0s 2ms/step - loss: 0.3475 - accuracy: 0.8208 - val_loss: 0.4460 - val_accuracy: 0.8163 - lr: 0.0014\n",
      "Epoch 105: Learning rate is 0.0013508516130968928.\n",
      "Epoch 105/1000\n",
      "37/37 [==============================] - 0s 1ms/step - loss: 0.3475 - accuracy: 0.8208 - val_loss: 0.4460 - val_accuracy: 0.8163 - lr: 0.0014\n",
      "Epoch 106: Learning rate is 0.0013508516130968928.\n",
      "Epoch 106/1000\n",
      "37/37 [==============================] - 0s 2ms/step - loss: 0.3476 - accuracy: 0.8208 - val_loss: 0.4461 - val_accuracy: 0.8163 - lr: 0.0014\n",
      "Epoch 107: Learning rate is 0.0013508516130968928.\n",
      "Epoch 107/1000\n",
      " 1/37 [..............................] - ETA: 0s - loss: 0.3824 - accuracy: 0.7812Restoring model weights from the end of the best epoch: 7.\n",
      "\n",
      "Epoch 107: ReduceLROnPlateau reducing learning rate to 0.0012157664517872036.\n",
      "37/37 [==============================] - 0s 2ms/step - loss: 0.3475 - accuracy: 0.8208 - val_loss: 0.4462 - val_accuracy: 0.8163 - lr: 0.0014\n",
      "Epoch 107: early stopping\n"
     ]
    }
   ],
   "source": [
    "# Pass the callback to the fit method\n",
    "history = model.fit(\n",
    "    X_train,\n",
    "    y_train,\n",
    "    validation_split=0.2,\n",
    "    epochs=1000,\n",
    "    batch_size=32,\n",
    "    callbacks=callbacks  # include it here\n",
    ")"
   ],
   "metadata": {
    "collapsed": false,
    "ExecuteTime": {
     "end_time": "2024-02-20T21:45:07.590864586Z",
     "start_time": "2024-02-20T21:45:00.560836202Z"
    }
   },
   "id": "bd3f41f1f688e43"
  },
  {
   "cell_type": "code",
   "execution_count": 8,
   "outputs": [
    {
     "name": "stdout",
     "output_type": "stream",
     "text": [
      "12/12 [==============================] - 0s 982us/step - loss: 0.4702 - accuracy: 0.7956\n",
      "Test accuracy: 0.7956403493881226\n",
      "Test loss: 0.4701928496360779\n"
     ]
    }
   ],
   "source": [
    "# Evaluating the model\n",
    "test_loss, test_acc = model.evaluate(X_test, y_test)\n",
    "print('Test accuracy:', test_acc)\n",
    "print('Test loss:', test_loss)"
   ],
   "metadata": {
    "collapsed": false,
    "ExecuteTime": {
     "end_time": "2024-02-20T21:45:13.171731385Z",
     "start_time": "2024-02-20T21:45:13.110380899Z"
    }
   },
   "id": "initial_id"
  },
  {
   "cell_type": "code",
   "outputs": [
    {
     "name": "stdout",
     "output_type": "stream",
     "text": [
      "12/12 [==============================] - 0s 867us/step\n"
     ]
    },
    {
     "data": {
      "text/plain": "array([[154,   0,   0],\n       [  5,   2,  70],\n       [  0,   0, 136]])"
     },
     "execution_count": 9,
     "metadata": {},
     "output_type": "execute_result"
    }
   ],
   "source": [
    "#confusion matrix\n",
    "from sklearn.metrics import confusion_matrix\n",
    "import numpy as np\n",
    "y_pred = model.predict(X_test)\n",
    "y_pred = np.argmax(y_pred, axis=1)\n",
    "y_test = np.argmax(y_test, axis=1)\n",
    "confusion_matrix(y_test, y_pred)"
   ],
   "metadata": {
    "collapsed": false,
    "ExecuteTime": {
     "end_time": "2024-02-20T21:45:15.987469187Z",
     "start_time": "2024-02-20T21:45:15.842488444Z"
    }
   },
   "id": "1352cb1eded44f03",
   "execution_count": 9
  },
  {
   "cell_type": "code",
   "execution_count": 10,
   "outputs": [
    {
     "data": {
      "text/plain": "<Figure size 640x480 with 1 Axes>",
      "image/png": "[encoded data removed]"
     },
     "metadata": {},
     "output_type": "display_data"
    },
    {
     "data": {
      "text/plain": "<Figure size 640x480 with 1 Axes>",
      "image/png": "[encoded data removed]"
     },
     "metadata": {},
     "output_type": "display_data"
    },
    {
     "data": {
      "text/plain": "<Figure size 640x480 with 1 Axes>",
      "image/png": "[encoded data removed]"
     },
     "metadata": {},
     "output_type": "display_data"
    }
   ],
   "source": [
    "# Plotting the training and validation loss\n",
    "import matplotlib.pyplot as plt\n",
    "\n",
    "plt.plot(history.history['loss'])\n",
    "plt.plot(history.history['val_loss'])\n",
    "plt.title('Model loss')\n",
    "plt.ylabel('Loss')\n",
    "plt.xlabel('Epochs')\n",
    "plt.legend(['Train', 'Validation'], loc='upper right')\n",
    "plt.show()\n",
    "\n",
    "plt.plot(history.history['accuracy'])\n",
    "plt.plot(history.history['val_accuracy'])\n",
    "plt.title('Model accuracy')\n",
    "plt.ylabel('Accuracy')\n",
    "plt.xlabel('Epochs')\n",
    "plt.legend(['Train', 'Validation'], loc='lower right')\n",
    "plt.show()\n",
    "\n",
    "# Plotting\n",
    "# plt.figure(figsize=(8, 8))\n",
    "plt.plot(lr_tracker.learning_rates)\n",
    "plt.title(\"Learning Rate over Epochs\")\n",
    "plt.xlabel(\"Epoch\")\n",
    "plt.ylabel(\"Learning Rate\")\n",
    "plt.grid(True)"
   ],
   "metadata": {
    "collapsed": false,
    "ExecuteTime": {
     "end_time": "2024-02-20T21:45:27.667430796Z",
     "start_time": "2024-02-20T21:45:27.071732054Z"
    }
   },
   "id": "1d82547b5da98e0"
  },
  {
   "cell_type": "code",
   "execution_count": 13,
   "outputs": [
    {
     "name": "stderr",
     "output_type": "stream",
     "text": [
      "WARNING:absl:Found untraced functions such as _update_step_xla while saving (showing 1 of 1). These functions will not be directly callable after loading.\n"
     ]
    },
    {
     "name": "stdout",
     "output_type": "stream",
     "text": [
      "INFO:tensorflow:Assets written to: /home/adam/FurtherResearch/Model/Exoskeleton/BMI/Exo_model_with_BMI/assets\n"
     ]
    },
    {
     "name": "stderr",
     "output_type": "stream",
     "text": [
      "INFO:tensorflow:Assets written to: /home/adam/FurtherResearch/Model/Exoskeleton/BMI/Exo_model_with_BMI/assets\n"
     ]
    }
   ],
   "source": [
    "# Save the model\n",
    "tf.keras.models.save_model(model, '/home/adam/FurtherResearch/Model/Exoskeleton/BMI/Exo_model_with_BMI')"
   ],
   "metadata": {
    "collapsed": false,
    "ExecuteTime": {
     "end_time": "2024-02-20T21:47:01.681170328Z",
     "start_time": "2024-02-20T21:47:01.251278262Z"
    }
   },
   "id": "971afc8f1ecd8193"
  },
  {
   "cell_type": "code",
   "execution_count": 14,
   "outputs": [
    {
     "name": "stdout",
     "output_type": "stream",
     "text": [
      "Model: \"model\"\n",
      "_________________________________________________________________\n",
      " Layer (type)                Output Shape              Param #   \n",
      "=================================================================\n",
      " dense_0_input (InputLayer)  [(None, 65)]              0         \n",
      "                                                                 \n",
      " dense_0 (Dense)             (None, 128)               8448      \n",
      "                                                                 \n",
      " dense_1 (Dense)             (None, 64)                8256      \n",
      "                                                                 \n",
      " dense_2 (Dense)             (None, 3)                 195       \n",
      "                                                                 \n",
      "=================================================================\n",
      "Total params: 16,899\n",
      "Trainable params: 16,899\n",
      "Non-trainable params: 0\n",
      "_________________________________________________________________\n"
     ]
    }
   ],
   "source": [
    "from tensorflow.keras.models import Model\n",
    "\n",
    "# model.summary()\n",
    "# Assume 'original_model' is your pre-trained model\n",
    "model_without_softmax = Model(inputs=model.input, \n",
    "                              outputs=model.get_layer(\"dense_2\").output)\n",
    "model_without_softmax.summary()\n"
   ],
   "metadata": {
    "collapsed": false,
    "ExecuteTime": {
     "end_time": "2024-02-20T21:47:04.715820329Z",
     "start_time": "2024-02-20T21:47:04.669071831Z"
    }
   },
   "id": "9445a32c75176e7b"
  },
  {
   "cell_type": "code",
   "execution_count": 16,
   "outputs": [
    {
     "name": "stdout",
     "output_type": "stream",
     "text": [
      "WARNING:tensorflow:Compiled the loaded model, but the compiled metrics have yet to be built. `model.compile_metrics` will be empty until you train or evaluate the model.\n"
     ]
    },
    {
     "name": "stderr",
     "output_type": "stream",
     "text": [
      "WARNING:tensorflow:Compiled the loaded model, but the compiled metrics have yet to be built. `model.compile_metrics` will be empty until you train or evaluate the model.\n"
     ]
    },
    {
     "name": "stdout",
     "output_type": "stream",
     "text": [
      "INFO:tensorflow:Assets written to: /home/adam/FurtherResearch/Model/Exoskeleton/BMI/Exo_model_with_BMI_without_softmax/assets\n"
     ]
    },
    {
     "name": "stderr",
     "output_type": "stream",
     "text": [
      "INFO:tensorflow:Assets written to: /home/adam/FurtherResearch/Model/Exoskeleton/BMI/Exo_model_with_BMI_without_softmax/assets\n"
     ]
    }
   ],
   "source": [
    "# Save the model\n",
    "tf.keras.models.save_model(model_without_softmax, '/home/adam/FurtherResearch/Model/Exoskeleton/BMI/Exo_model_with_BMI_without_softmax')"
   ],
   "metadata": {
    "collapsed": false,
    "ExecuteTime": {
     "end_time": "2024-02-20T21:47:47.105474199Z",
     "start_time": "2024-02-20T21:47:46.848221483Z"
    }
   },
   "id": "61da15b78744777b"
  },
  {
   "cell_type": "code",
   "outputs": [],
   "source": [],
   "metadata": {
    "collapsed": false
   },
   "id": "f0672f700119d08f"
  }
 ],
 "metadata": {
  "kernelspec": {
   "display_name": "Python 3",
   "language": "python",
   "name": "python3"
  },
  "language_info": {
   "codemirror_mode": {
    "name": "ipython",
    "version": 2
   },
   "file_extension": ".py",
   "mimetype": "text/x-python",
   "name": "python",
   "nbconvert_exporter": "python",
   "pygments_lexer": "ipython2",
   "version": "2.7.6"
  }
 },
 "nbformat": 4,
 "nbformat_minor": 5
}
