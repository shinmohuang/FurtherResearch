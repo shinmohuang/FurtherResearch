{
 "cells": [
  {
   "cell_type": "code",
   "execution_count": 1,
   "id": "2ebdbe21c431b276",
   "metadata": {
    "collapsed": true,
    "ExecuteTime": {
     "end_time": "2024-02-19T21:35:18.444985737Z",
     "start_time": "2024-02-19T21:35:17.375049118Z"
    }
   },
   "outputs": [
    {
     "name": "stderr",
     "output_type": "stream",
     "text": [
      "2024-02-19 21:35:17.573442: I tensorflow/stream_executor/platform/default/dso_loader.cc:49] Successfully opened dynamic library libcudart.so.10.1\n"
     ]
    },
    {
     "name": "stdout",
     "output_type": "stream",
     "text": [
      "Physical devices: [PhysicalDevice(name='/physical_device:CPU:0', device_type='CPU'), PhysicalDevice(name='/physical_device:GPU:0', device_type='GPU')]\n",
      "GPU is available.\n"
     ]
    },
    {
     "name": "stderr",
     "output_type": "stream",
     "text": [
      "2024-02-19 21:35:18.401950: I tensorflow/compiler/jit/xla_cpu_device.cc:41] Not creating XLA devices, tf_xla_enable_xla_devices not set\n",
      "2024-02-19 21:35:18.402428: I tensorflow/stream_executor/platform/default/dso_loader.cc:49] Successfully opened dynamic library libcuda.so.1\n",
      "2024-02-19 21:35:18.435258: I tensorflow/stream_executor/cuda/cuda_gpu_executor.cc:941] successful NUMA node read from SysFS had negative value (-1), but there must be at least one NUMA node, so returning NUMA node zero\n",
      "2024-02-19 21:35:18.435376: I tensorflow/core/common_runtime/gpu/gpu_device.cc:1720] Found device 0 with properties: \n",
      "pciBusID: 0000:01:00.0 name: NVIDIA GeForce RTX 2060 SUPER computeCapability: 7.5\n",
      "coreClock: 1.65GHz coreCount: 34 deviceMemorySize: 7.78GiB deviceMemoryBandwidth: 417.29GiB/s\n",
      "2024-02-19 21:35:18.435392: I tensorflow/stream_executor/platform/default/dso_loader.cc:49] Successfully opened dynamic library libcudart.so.10.1\n",
      "2024-02-19 21:35:18.436453: I tensorflow/stream_executor/platform/default/dso_loader.cc:49] Successfully opened dynamic library libcublas.so.10\n",
      "2024-02-19 21:35:18.436480: I tensorflow/stream_executor/platform/default/dso_loader.cc:49] Successfully opened dynamic library libcublasLt.so.10\n",
      "2024-02-19 21:35:18.437411: I tensorflow/stream_executor/platform/default/dso_loader.cc:49] Successfully opened dynamic library libcufft.so.10\n",
      "2024-02-19 21:35:18.437581: I tensorflow/stream_executor/platform/default/dso_loader.cc:49] Successfully opened dynamic library libcurand.so.10\n",
      "2024-02-19 21:35:18.438615: I tensorflow/stream_executor/platform/default/dso_loader.cc:49] Successfully opened dynamic library libcusolver.so.10\n",
      "2024-02-19 21:35:18.439187: I tensorflow/stream_executor/platform/default/dso_loader.cc:49] Successfully opened dynamic library libcusparse.so.10\n",
      "2024-02-19 21:35:18.441342: I tensorflow/stream_executor/platform/default/dso_loader.cc:49] Successfully opened dynamic library libcudnn.so.7\n",
      "2024-02-19 21:35:18.441430: I tensorflow/stream_executor/cuda/cuda_gpu_executor.cc:941] successful NUMA node read from SysFS had negative value (-1), but there must be at least one NUMA node, so returning NUMA node zero\n",
      "2024-02-19 21:35:18.441557: I tensorflow/stream_executor/cuda/cuda_gpu_executor.cc:941] successful NUMA node read from SysFS had negative value (-1), but there must be at least one NUMA node, so returning NUMA node zero\n",
      "2024-02-19 21:35:18.441624: I tensorflow/core/common_runtime/gpu/gpu_device.cc:1862] Adding visible gpu devices: 0\n"
     ]
    }
   ],
   "source": [
    "import pandas as pd\n",
    "import tensorflow as tf\n",
    "from sklearn.model_selection import train_test_split\n",
    "from sklearn.preprocessing import StandardScaler\n",
    "from tensorflow.keras.models import Sequential\n",
    "from tensorflow.keras.layers import Dense\n",
    "from tensorflow.keras.utils import to_categorical\n",
    "from sklearn.utils import shuffle\n",
    "\n",
    "from tensorflow.keras.callbacks import EarlyStopping\n",
    "from tensorflow.keras.optimizers import Adam\n",
    "from tensorflow.keras.callbacks import ReduceLROnPlateau\n",
    "\n",
    "# List all physical devices\n",
    "physical_devices = tf.config.list_physical_devices()\n",
    "print(\"Physical devices:\", physical_devices)\n",
    "\n",
    "# Check for GPU specifically\n",
    "gpus = tf.config.list_physical_devices('GPU')\n",
    "if gpus:\n",
    "    print(\"GPU is available.\")\n",
    "else:\n",
    "    print(\"GPU is NOT available.\")"
   ]
  },
  {
   "cell_type": "code",
   "execution_count": 2,
   "outputs": [
    {
     "data": {
      "text/plain": "      IMU1_GyroX_Mean  IMU1_GyroX_StdDev  IMU1_GyroX_RMS  IMU1_GyroX_Amp  \\\n0          100.000000         100.000000      100.000000      100.000000   \n1            7.026579         198.259304      199.601392      184.295571   \n2        -7082.108609         568.164429      593.320009      727.671625   \n3         3618.245437        1537.254629     1540.972428     1855.355638   \n4        -1539.312493        2426.076723     2428.697877     2399.474310   \n...               ...                ...             ...             ...   \n1828         1.764259         368.991733      368.247948     1534.561927   \n1829         0.475102         349.962108      349.301063     1483.874905   \n1830         1.972435         328.861224      328.309039     1336.387882   \n1831        -0.824858         366.299038      365.628259     1428.214854   \n1832       -29.002205         400.172705      399.824304     1648.174141   \n\n      IMU1_GyroY_Mean  IMU1_GyroY_StdDev  IMU1_GyroY_RMS  IMU1_GyroY_Amp  \\\n0          100.000000         100.000000      100.000000      100.000000   \n1          610.020298         175.334986      178.265684      192.958297   \n2         9456.718907         610.892516      672.664608      744.159826   \n3         4828.685519        2177.145176     2187.176663     2466.309254   \n4        -5421.387863        4325.733672     4335.967864     4673.869608   \n...               ...                ...             ...             ...   \n1828        -0.311389         139.779641      139.496687      590.129262   \n1829         0.453211         144.938057      144.665591      602.595420   \n1830         3.336819         162.563803      162.325196      675.185751   \n1831         2.038201         166.471751      166.179372      671.038232   \n1832        21.484176         173.519746      174.241553      651.255248   \n\n      IMU1_GyroZ_Mean  IMU1_GyroZ_StdDev  ...  OFS_FIB_IMNF  EMG_EMG_Mean  \\\n0          100.000000         100.000000  ...      1.282506    100.000000   \n1          -30.466274         188.025193  ...      1.147393    107.150748   \n2         -744.252427         567.506829  ...      0.989183    247.044115   \n3         -638.476505        1500.476246  ...      0.912529    713.389659   \n4          173.236814        1786.550574  ...      0.880923   2214.542677   \n...               ...                ...  ...           ...           ...   \n1828         7.109903         269.971731  ...      0.808654      3.784144   \n1829         0.678974         273.597473  ...      0.807963      3.661929   \n1830        -3.122483         270.265599  ...      0.806151      6.071805   \n1831         3.257283         275.674312  ...      1.029054      5.424234   \n1832         9.533042         290.969664  ...      3.783479      5.539462   \n\n      EMG_EMG_StdDev  EMG_EMG_RMS  EMG_EMG_Amp  EMG_EMG_MNF  EMG_EMG_MDF  \\\n0         100.000000   100.000000   100.000000     0.293036     0.230724   \n1          71.239481   103.936460    81.656880     0.142451     0.181664   \n2         611.569045   306.910586   514.609792     0.385845     0.234438   \n3        1127.501511   767.921875   968.529167     0.426387     0.192446   \n4        4157.944918  2493.259693  3969.429341     0.501780     0.220765   \n...              ...          ...          ...          ...          ...   \n1828        2.975367     4.813325    10.521596     0.407665     0.208658   \n1829        3.194020     4.858676    10.239955     0.395226     0.210199   \n1830        6.055941     8.574721    21.664981     0.400278     0.214340   \n1831        4.958792     7.348506    16.820162     0.440773     0.217625   \n1832        4.086590     6.882678    13.769611     1.456003     0.345457   \n\n      EMG_EMG_IMNF  Age        BMI  \n0        22.334139   24  27.250887  \n1         8.384712   24  27.250887  \n2         8.372799   24  27.250887  \n3         7.684195   24  27.250887  \n4         7.496121   24  27.250887  \n...            ...  ...        ...  \n1828      8.023430   30  30.346074  \n1829      9.214335   30  30.346074  \n1830      7.786317   30  30.346074  \n1831      8.059900   30  30.346074  \n1832     39.071400   30  30.346074  \n\n[1833 rows x 65 columns]",
      "text/html": "<div>\n<style scoped>\n    .dataframe tbody tr th:only-of-type {\n        vertical-align: middle;\n    }\n\n    .dataframe tbody tr th {\n        vertical-align: top;\n    }\n\n    .dataframe thead th {\n        text-align: right;\n    }\n</style>\n<table border=\"1\" class=\"dataframe\">\n  <thead>\n    <tr style=\"text-align: right;\">\n      <th></th>\n      <th>IMU1_GyroX_Mean</th>\n      <th>IMU1_GyroX_StdDev</th>\n      <th>IMU1_GyroX_RMS</th>\n      <th>IMU1_GyroX_Amp</th>\n      <th>IMU1_GyroY_Mean</th>\n      <th>IMU1_GyroY_StdDev</th>\n      <th>IMU1_GyroY_RMS</th>\n      <th>IMU1_GyroY_Amp</th>\n      <th>IMU1_GyroZ_Mean</th>\n      <th>IMU1_GyroZ_StdDev</th>\n      <th>...</th>\n      <th>OFS_FIB_IMNF</th>\n      <th>EMG_EMG_Mean</th>\n      <th>EMG_EMG_StdDev</th>\n      <th>EMG_EMG_RMS</th>\n      <th>EMG_EMG_Amp</th>\n      <th>EMG_EMG_MNF</th>\n      <th>EMG_EMG_MDF</th>\n      <th>EMG_EMG_IMNF</th>\n      <th>Age</th>\n      <th>BMI</th>\n    </tr>\n  </thead>\n  <tbody>\n    <tr>\n      <th>0</th>\n      <td>100.000000</td>\n      <td>100.000000</td>\n      <td>100.000000</td>\n      <td>100.000000</td>\n      <td>100.000000</td>\n      <td>100.000000</td>\n      <td>100.000000</td>\n      <td>100.000000</td>\n      <td>100.000000</td>\n      <td>100.000000</td>\n      <td>...</td>\n      <td>1.282506</td>\n      <td>100.000000</td>\n      <td>100.000000</td>\n      <td>100.000000</td>\n      <td>100.000000</td>\n      <td>0.293036</td>\n      <td>0.230724</td>\n      <td>22.334139</td>\n      <td>24</td>\n      <td>27.250887</td>\n    </tr>\n    <tr>\n      <th>1</th>\n      <td>7.026579</td>\n      <td>198.259304</td>\n      <td>199.601392</td>\n      <td>184.295571</td>\n      <td>610.020298</td>\n      <td>175.334986</td>\n      <td>178.265684</td>\n      <td>192.958297</td>\n      <td>-30.466274</td>\n      <td>188.025193</td>\n      <td>...</td>\n      <td>1.147393</td>\n      <td>107.150748</td>\n      <td>71.239481</td>\n      <td>103.936460</td>\n      <td>81.656880</td>\n      <td>0.142451</td>\n      <td>0.181664</td>\n      <td>8.384712</td>\n      <td>24</td>\n      <td>27.250887</td>\n    </tr>\n    <tr>\n      <th>2</th>\n      <td>-7082.108609</td>\n      <td>568.164429</td>\n      <td>593.320009</td>\n      <td>727.671625</td>\n      <td>9456.718907</td>\n      <td>610.892516</td>\n      <td>672.664608</td>\n      <td>744.159826</td>\n      <td>-744.252427</td>\n      <td>567.506829</td>\n      <td>...</td>\n      <td>0.989183</td>\n      <td>247.044115</td>\n      <td>611.569045</td>\n      <td>306.910586</td>\n      <td>514.609792</td>\n      <td>0.385845</td>\n      <td>0.234438</td>\n      <td>8.372799</td>\n      <td>24</td>\n      <td>27.250887</td>\n    </tr>\n    <tr>\n      <th>3</th>\n      <td>3618.245437</td>\n      <td>1537.254629</td>\n      <td>1540.972428</td>\n      <td>1855.355638</td>\n      <td>4828.685519</td>\n      <td>2177.145176</td>\n      <td>2187.176663</td>\n      <td>2466.309254</td>\n      <td>-638.476505</td>\n      <td>1500.476246</td>\n      <td>...</td>\n      <td>0.912529</td>\n      <td>713.389659</td>\n      <td>1127.501511</td>\n      <td>767.921875</td>\n      <td>968.529167</td>\n      <td>0.426387</td>\n      <td>0.192446</td>\n      <td>7.684195</td>\n      <td>24</td>\n      <td>27.250887</td>\n    </tr>\n    <tr>\n      <th>4</th>\n      <td>-1539.312493</td>\n      <td>2426.076723</td>\n      <td>2428.697877</td>\n      <td>2399.474310</td>\n      <td>-5421.387863</td>\n      <td>4325.733672</td>\n      <td>4335.967864</td>\n      <td>4673.869608</td>\n      <td>173.236814</td>\n      <td>1786.550574</td>\n      <td>...</td>\n      <td>0.880923</td>\n      <td>2214.542677</td>\n      <td>4157.944918</td>\n      <td>2493.259693</td>\n      <td>3969.429341</td>\n      <td>0.501780</td>\n      <td>0.220765</td>\n      <td>7.496121</td>\n      <td>24</td>\n      <td>27.250887</td>\n    </tr>\n    <tr>\n      <th>...</th>\n      <td>...</td>\n      <td>...</td>\n      <td>...</td>\n      <td>...</td>\n      <td>...</td>\n      <td>...</td>\n      <td>...</td>\n      <td>...</td>\n      <td>...</td>\n      <td>...</td>\n      <td>...</td>\n      <td>...</td>\n      <td>...</td>\n      <td>...</td>\n      <td>...</td>\n      <td>...</td>\n      <td>...</td>\n      <td>...</td>\n      <td>...</td>\n      <td>...</td>\n      <td>...</td>\n    </tr>\n    <tr>\n      <th>1828</th>\n      <td>1.764259</td>\n      <td>368.991733</td>\n      <td>368.247948</td>\n      <td>1534.561927</td>\n      <td>-0.311389</td>\n      <td>139.779641</td>\n      <td>139.496687</td>\n      <td>590.129262</td>\n      <td>7.109903</td>\n      <td>269.971731</td>\n      <td>...</td>\n      <td>0.808654</td>\n      <td>3.784144</td>\n      <td>2.975367</td>\n      <td>4.813325</td>\n      <td>10.521596</td>\n      <td>0.407665</td>\n      <td>0.208658</td>\n      <td>8.023430</td>\n      <td>30</td>\n      <td>30.346074</td>\n    </tr>\n    <tr>\n      <th>1829</th>\n      <td>0.475102</td>\n      <td>349.962108</td>\n      <td>349.301063</td>\n      <td>1483.874905</td>\n      <td>0.453211</td>\n      <td>144.938057</td>\n      <td>144.665591</td>\n      <td>602.595420</td>\n      <td>0.678974</td>\n      <td>273.597473</td>\n      <td>...</td>\n      <td>0.807963</td>\n      <td>3.661929</td>\n      <td>3.194020</td>\n      <td>4.858676</td>\n      <td>10.239955</td>\n      <td>0.395226</td>\n      <td>0.210199</td>\n      <td>9.214335</td>\n      <td>30</td>\n      <td>30.346074</td>\n    </tr>\n    <tr>\n      <th>1830</th>\n      <td>1.972435</td>\n      <td>328.861224</td>\n      <td>328.309039</td>\n      <td>1336.387882</td>\n      <td>3.336819</td>\n      <td>162.563803</td>\n      <td>162.325196</td>\n      <td>675.185751</td>\n      <td>-3.122483</td>\n      <td>270.265599</td>\n      <td>...</td>\n      <td>0.806151</td>\n      <td>6.071805</td>\n      <td>6.055941</td>\n      <td>8.574721</td>\n      <td>21.664981</td>\n      <td>0.400278</td>\n      <td>0.214340</td>\n      <td>7.786317</td>\n      <td>30</td>\n      <td>30.346074</td>\n    </tr>\n    <tr>\n      <th>1831</th>\n      <td>-0.824858</td>\n      <td>366.299038</td>\n      <td>365.628259</td>\n      <td>1428.214854</td>\n      <td>2.038201</td>\n      <td>166.471751</td>\n      <td>166.179372</td>\n      <td>671.038232</td>\n      <td>3.257283</td>\n      <td>275.674312</td>\n      <td>...</td>\n      <td>1.029054</td>\n      <td>5.424234</td>\n      <td>4.958792</td>\n      <td>7.348506</td>\n      <td>16.820162</td>\n      <td>0.440773</td>\n      <td>0.217625</td>\n      <td>8.059900</td>\n      <td>30</td>\n      <td>30.346074</td>\n    </tr>\n    <tr>\n      <th>1832</th>\n      <td>-29.002205</td>\n      <td>400.172705</td>\n      <td>399.824304</td>\n      <td>1648.174141</td>\n      <td>21.484176</td>\n      <td>173.519746</td>\n      <td>174.241553</td>\n      <td>651.255248</td>\n      <td>9.533042</td>\n      <td>290.969664</td>\n      <td>...</td>\n      <td>3.783479</td>\n      <td>5.539462</td>\n      <td>4.086590</td>\n      <td>6.882678</td>\n      <td>13.769611</td>\n      <td>1.456003</td>\n      <td>0.345457</td>\n      <td>39.071400</td>\n      <td>30</td>\n      <td>30.346074</td>\n    </tr>\n  </tbody>\n</table>\n<p>1833 rows × 65 columns</p>\n</div>"
     },
     "execution_count": 2,
     "metadata": {},
     "output_type": "execute_result"
    }
   ],
   "source": [
    "# Load your dataset\n",
    "dataset = pd.read_csv('../../../Dataset/Exoskeleton/Original.csv')  # Replace with your dataset path\n",
    "dataset.iloc[:, -1] = dataset.iloc[:, -1] - 1\n",
    "X = dataset.iloc[:, :-2]  # Features\n",
    "y = dataset.iloc[:, -2] -1  # Target\n",
    "X"
   ],
   "metadata": {
    "collapsed": false,
    "ExecuteTime": {
     "end_time": "2024-02-19T21:35:20.256005780Z",
     "start_time": "2024-02-19T21:35:20.191009413Z"
    }
   },
   "id": "63c4933a34c4a3eb"
  },
  {
   "cell_type": "code",
   "outputs": [
    {
     "data": {
      "text/plain": "array([[ 0.06020544,  1.6001754 ,  1.58040524, ..., -0.23613307,\n        -0.6239885 , -0.25724994],\n       [ 0.00520685, -0.35564647, -0.35341826, ..., -0.44471697,\n        -1.02545249, -0.16417599],\n       [ 0.01356361, -0.36096332, -0.35849886, ..., -0.37188082,\n        -0.6239885 ,  0.51517062],\n       ...,\n       [ 0.00182825, -0.36829142, -0.36842377, ..., -0.37227909,\n        -0.6239885 , -0.62278157],\n       [ 0.00405117, -0.38595741, -0.38364444, ...,  0.008841  ,\n        -0.6239885 ,  1.79231515],\n       [-0.03230592, -0.0653375 , -0.06268051, ..., -0.32938259,\n        -0.6239885 , -0.55000462]])"
     },
     "execution_count": 3,
     "metadata": {},
     "output_type": "execute_result"
    }
   ],
   "source": [
    "\n",
    "# Normalize the features\n",
    "scaler = StandardScaler()\n",
    "X_scaled = scaler.fit_transform(X)\n",
    "\n",
    "# Convert labels to categorical\n",
    "y_categorical = to_categorical(y)\n",
    "\n",
    "# Shuffle the data\n",
    "X_scaled, y_categorical = shuffle(X_scaled, y_categorical, random_state=42)\n",
    "\n",
    "# Split the data\n",
    "X_train, X_test, y_train, y_test = train_test_split(\n",
    "    X_scaled, y_categorical, test_size=0.2, random_state=42)\n",
    "\n",
    "X_scaled"
   ],
   "metadata": {
    "collapsed": false,
    "ExecuteTime": {
     "end_time": "2024-02-19T21:35:26.392276348Z",
     "start_time": "2024-02-19T21:35:26.372820985Z"
    }
   },
   "id": "30732feab455c79b",
   "execution_count": 3
  },
  {
   "cell_type": "code",
   "outputs": [
    {
     "data": {
      "text/plain": "3"
     },
     "execution_count": 4,
     "metadata": {},
     "output_type": "execute_result"
    }
   ],
   "source": [
    "# Number of unique classes in the target variable\n",
    "num_classes = y_train.shape[1]\n",
    "num_classes"
   ],
   "metadata": {
    "collapsed": false,
    "ExecuteTime": {
     "end_time": "2024-02-19T21:35:27.770804473Z",
     "start_time": "2024-02-19T21:35:27.767512871Z"
    }
   },
   "id": "7bb8f68f4d9109ed",
   "execution_count": 4
  },
  {
   "cell_type": "code",
   "outputs": [
    {
     "name": "stderr",
     "output_type": "stream",
     "text": [
      "2024-02-19 21:35:28.680223: I tensorflow/core/platform/cpu_feature_guard.cc:142] This TensorFlow binary is optimized with oneAPI Deep Neural Network Library (oneDNN) to use the following CPU instructions in performance-critical operations:  SSE4.1 SSE4.2 AVX AVX2 FMA\n",
      "To enable them in other operations, rebuild TensorFlow with the appropriate compiler flags.\n",
      "2024-02-19 21:35:28.681101: I tensorflow/compiler/jit/xla_gpu_device.cc:99] Not creating XLA devices, tf_xla_enable_xla_devices not set\n",
      "2024-02-19 21:35:28.681241: I tensorflow/stream_executor/cuda/cuda_gpu_executor.cc:941] successful NUMA node read from SysFS had negative value (-1), but there must be at least one NUMA node, so returning NUMA node zero\n",
      "2024-02-19 21:35:28.681343: I tensorflow/core/common_runtime/gpu/gpu_device.cc:1720] Found device 0 with properties: \n",
      "pciBusID: 0000:01:00.0 name: NVIDIA GeForce RTX 2060 SUPER computeCapability: 7.5\n",
      "coreClock: 1.65GHz coreCount: 34 deviceMemorySize: 7.78GiB deviceMemoryBandwidth: 417.29GiB/s\n",
      "2024-02-19 21:35:28.681365: I tensorflow/stream_executor/platform/default/dso_loader.cc:49] Successfully opened dynamic library libcudart.so.10.1\n",
      "2024-02-19 21:35:28.681387: I tensorflow/stream_executor/platform/default/dso_loader.cc:49] Successfully opened dynamic library libcublas.so.10\n",
      "2024-02-19 21:35:28.681399: I tensorflow/stream_executor/platform/default/dso_loader.cc:49] Successfully opened dynamic library libcublasLt.so.10\n",
      "2024-02-19 21:35:28.681410: I tensorflow/stream_executor/platform/default/dso_loader.cc:49] Successfully opened dynamic library libcufft.so.10\n",
      "2024-02-19 21:35:28.681420: I tensorflow/stream_executor/platform/default/dso_loader.cc:49] Successfully opened dynamic library libcurand.so.10\n",
      "2024-02-19 21:35:28.681431: I tensorflow/stream_executor/platform/default/dso_loader.cc:49] Successfully opened dynamic library libcusolver.so.10\n",
      "2024-02-19 21:35:28.681442: I tensorflow/stream_executor/platform/default/dso_loader.cc:49] Successfully opened dynamic library libcusparse.so.10\n",
      "2024-02-19 21:35:28.681453: I tensorflow/stream_executor/platform/default/dso_loader.cc:49] Successfully opened dynamic library libcudnn.so.7\n",
      "2024-02-19 21:35:28.681508: I tensorflow/stream_executor/cuda/cuda_gpu_executor.cc:941] successful NUMA node read from SysFS had negative value (-1), but there must be at least one NUMA node, so returning NUMA node zero\n",
      "2024-02-19 21:35:28.681612: I tensorflow/stream_executor/cuda/cuda_gpu_executor.cc:941] successful NUMA node read from SysFS had negative value (-1), but there must be at least one NUMA node, so returning NUMA node zero\n",
      "2024-02-19 21:35:28.681680: I tensorflow/core/common_runtime/gpu/gpu_device.cc:1862] Adding visible gpu devices: 0\n",
      "2024-02-19 21:35:28.681700: I tensorflow/stream_executor/platform/default/dso_loader.cc:49] Successfully opened dynamic library libcudart.so.10.1\n",
      "2024-02-19 21:35:29.126405: I tensorflow/core/common_runtime/gpu/gpu_device.cc:1261] Device interconnect StreamExecutor with strength 1 edge matrix:\n",
      "2024-02-19 21:35:29.126426: I tensorflow/core/common_runtime/gpu/gpu_device.cc:1267]      0 \n",
      "2024-02-19 21:35:29.126430: I tensorflow/core/common_runtime/gpu/gpu_device.cc:1280] 0:   N \n",
      "2024-02-19 21:35:29.126601: I tensorflow/stream_executor/cuda/cuda_gpu_executor.cc:941] successful NUMA node read from SysFS had negative value (-1), but there must be at least one NUMA node, so returning NUMA node zero\n",
      "2024-02-19 21:35:29.126751: I tensorflow/stream_executor/cuda/cuda_gpu_executor.cc:941] successful NUMA node read from SysFS had negative value (-1), but there must be at least one NUMA node, so returning NUMA node zero\n",
      "2024-02-19 21:35:29.126854: I tensorflow/stream_executor/cuda/cuda_gpu_executor.cc:941] successful NUMA node read from SysFS had negative value (-1), but there must be at least one NUMA node, so returning NUMA node zero\n",
      "2024-02-19 21:35:29.126939: I tensorflow/core/common_runtime/gpu/gpu_device.cc:1406] Created TensorFlow device (/job:localhost/replica:0/task:0/device:GPU:0 with 6809 MB memory) -> physical GPU (device: 0, name: NVIDIA GeForce RTX 2060 SUPER, pci bus id: 0000:01:00.0, compute capability: 7.5)\n"
     ]
    }
   ],
   "source": [
    "# Building the DNN model\n",
    "model = Sequential([\n",
    "    Dense(128, activation='relu', input_shape=(X_train.shape[1],), name='dense_0'),\n",
    "    Dense(64, activation='relu', name='dense_1'),\n",
    "    Dense(3, activation='relu', name='dense_2'),\n",
    "    # Dense(3, activation='relu', name='dense_3'),\n",
    "    Dense(num_classes, activation='softmax')  # Output layer\n",
    "])"
   ],
   "metadata": {
    "collapsed": false,
    "ExecuteTime": {
     "end_time": "2024-02-19T21:35:29.205289938Z",
     "start_time": "2024-02-19T21:35:28.666396034Z"
    }
   },
   "id": "1e58074cece23a2d",
   "execution_count": 5
  },
  {
   "cell_type": "code",
   "execution_count": 6,
   "outputs": [],
   "source": [
    "# Define the early stopping callback\n",
    "early_stopping = EarlyStopping(\n",
    "    monitor='val_loss',\n",
    "    min_delta=0.001,  # minimium amount of change to count as an improvement\n",
    "    patience=100,  # how many epochs to wait before stopping\n",
    "    verbose=1,\n",
    "    mode='min',\n",
    "    restore_best_weights=True\n",
    ")\n",
    "\n",
    "# Set the learning rate\n",
    "learning_rate = 0.01\n",
    "\n",
    "# Create the ReduceLROnPlateau callback\n",
    "reduce_lr = ReduceLROnPlateau(\n",
    "    monitor='val_loss',\n",
    "    factor=0.9,  # factor by which the learning rate will be reduced\n",
    "    patience=5,  # number of epochs with no improvement after which learning rate will be reduced\n",
    "    min_lr=0.00001,  # lower bound on the learning rate\n",
    "    verbose=1\n",
    ")\n",
    "lr_callback = tf.keras.callbacks.LearningRateScheduler(reduce_lr)\n",
    "\n",
    "class PrintLR(tf.keras.callbacks.Callback):\n",
    "    def __init__(self):\n",
    "        super().__init__()\n",
    "        self.learning_rates = []\n",
    "        \n",
    "    def on_epoch_begin(self, epoch, logs=None):\n",
    "        lr = self.model.optimizer.lr\n",
    "        if hasattr(lr, 'numpy'):\n",
    "            lr = lr.numpy()\n",
    "        elif hasattr(lr, 'eval'):\n",
    "            lr = lr.eval(session=tf.compat.v1.Session())\n",
    "        print(f'Epoch {epoch+1}: Learning rate is {lr}.')\n",
    "    \n",
    "    def on_epoch_end(self, epoch, logs=None):\n",
    "        # Retrieve the current learning rate from the optimizer\n",
    "        current_lr = tf.keras.backend.get_value(self.model.optimizer.lr)\n",
    "        # Append the current learning rate to the list\n",
    "        self.learning_rates.append(current_lr)\n",
    "\n",
    "lr_tracker = PrintLR()\n",
    "callbacks = [lr_tracker, early_stopping, reduce_lr]\n",
    "\n",
    "\n",
    "# Initialize the optimizer with the learning rate\n",
    "optimizer = Adam(learning_rate=learning_rate)\n",
    "\n",
    "# Compiling the model\n",
    "model.compile(optimizer=optimizer,\n",
    "              loss='categorical_crossentropy',\n",
    "              metrics=['accuracy'])"
   ],
   "metadata": {
    "collapsed": false,
    "ExecuteTime": {
     "end_time": "2024-02-19T21:35:30.723400572Z",
     "start_time": "2024-02-19T21:35:30.709406786Z"
    }
   },
   "id": "111da32ccd0d31d1"
  },
  {
   "cell_type": "code",
   "execution_count": 7,
   "outputs": [
    {
     "name": "stderr",
     "output_type": "stream",
     "text": [
      "2024-02-19 21:35:33.623120: I tensorflow/compiler/mlir/mlir_graph_optimization_pass.cc:116] None of the MLIR optimization passes are enabled (registered 2)\n",
      "2024-02-19 21:35:33.623368: I tensorflow/core/platform/profile_utils/cpu_utils.cc:112] CPU Frequency: 2899885000 Hz\n"
     ]
    },
    {
     "name": "stdout",
     "output_type": "stream",
     "text": [
      "Epoch 1/1000\n",
      "Epoch 1: Learning rate is 0.009999999776482582.\n",
      " 1/37 [..............................] - ETA: 12s - loss: 1.1198 - accuracy: 0.3438"
     ]
    },
    {
     "name": "stderr",
     "output_type": "stream",
     "text": [
      "2024-02-19 21:35:33.840064: I tensorflow/stream_executor/platform/default/dso_loader.cc:49] Successfully opened dynamic library libcublas.so.10\n"
     ]
    },
    {
     "name": "stdout",
     "output_type": "stream",
     "text": [
      "37/37 [==============================] - 1s 9ms/step - loss: 0.8883 - accuracy: 0.7496 - val_loss: 0.6713 - val_accuracy: 0.8095\n",
      "Epoch 2/1000\n",
      "Epoch 2: Learning rate is 0.009999999776482582.\n",
      "37/37 [==============================] - 0s 2ms/step - loss: 0.6295 - accuracy: 0.8129 - val_loss: 0.5654 - val_accuracy: 0.8095\n",
      "Epoch 3/1000\n",
      "Epoch 3: Learning rate is 0.009999999776482582.\n",
      "37/37 [==============================] - 0s 2ms/step - loss: 0.5338 - accuracy: 0.8135 - val_loss: 0.4923 - val_accuracy: 0.8095\n",
      "Epoch 4/1000\n",
      "Epoch 4: Learning rate is 0.009999999776482582.\n",
      "37/37 [==============================] - 0s 2ms/step - loss: 0.4675 - accuracy: 0.8059 - val_loss: 0.4467 - val_accuracy: 0.8095\n",
      "Epoch 5/1000\n",
      "Epoch 5: Learning rate is 0.009999999776482582.\n",
      "37/37 [==============================] - 0s 2ms/step - loss: 0.4430 - accuracy: 0.7923 - val_loss: 0.4273 - val_accuracy: 0.8129\n",
      "Epoch 6/1000\n",
      "Epoch 6: Learning rate is 0.009999999776482582.\n",
      "37/37 [==============================] - 0s 2ms/step - loss: 0.3803 - accuracy: 0.8166 - val_loss: 0.4219 - val_accuracy: 0.8129\n",
      "Epoch 7/1000\n",
      "Epoch 7: Learning rate is 0.009999999776482582.\n",
      "37/37 [==============================] - 0s 2ms/step - loss: 0.3585 - accuracy: 0.8404 - val_loss: 0.3969 - val_accuracy: 0.8503\n",
      "Epoch 8/1000\n",
      "Epoch 8: Learning rate is 0.009999999776482582.\n",
      "37/37 [==============================] - 0s 2ms/step - loss: 0.3683 - accuracy: 0.8435 - val_loss: 0.4537 - val_accuracy: 0.8095\n",
      "Epoch 9/1000\n",
      "Epoch 9: Learning rate is 0.009999999776482582.\n",
      "37/37 [==============================] - 0s 2ms/step - loss: 0.3677 - accuracy: 0.8265 - val_loss: 0.3804 - val_accuracy: 0.8265\n",
      "Epoch 10/1000\n",
      "Epoch 10: Learning rate is 0.009999999776482582.\n",
      "37/37 [==============================] - 0s 2ms/step - loss: 0.3501 - accuracy: 0.8385 - val_loss: 0.3971 - val_accuracy: 0.8265\n",
      "Epoch 11/1000\n",
      "Epoch 11: Learning rate is 0.009999999776482582.\n",
      "37/37 [==============================] - 0s 2ms/step - loss: 0.3393 - accuracy: 0.8458 - val_loss: 0.3808 - val_accuracy: 0.8163\n",
      "Epoch 12/1000\n",
      "Epoch 12: Learning rate is 0.009999999776482582.\n",
      "37/37 [==============================] - 0s 2ms/step - loss: 0.3163 - accuracy: 0.8503 - val_loss: 0.3793 - val_accuracy: 0.8299\n",
      "Epoch 13/1000\n",
      "Epoch 13: Learning rate is 0.009999999776482582.\n",
      "37/37 [==============================] - 0s 2ms/step - loss: 0.3231 - accuracy: 0.8424 - val_loss: 0.3517 - val_accuracy: 0.8537\n",
      "Epoch 14/1000\n",
      "Epoch 14: Learning rate is 0.009999999776482582.\n",
      "37/37 [==============================] - 0s 2ms/step - loss: 0.3191 - accuracy: 0.8606 - val_loss: 0.3855 - val_accuracy: 0.8605\n",
      "Epoch 15/1000\n",
      "Epoch 15: Learning rate is 0.009999999776482582.\n",
      "37/37 [==============================] - 0s 2ms/step - loss: 0.2909 - accuracy: 0.8701 - val_loss: 0.3494 - val_accuracy: 0.8435\n",
      "Epoch 16/1000\n",
      "Epoch 16: Learning rate is 0.009999999776482582.\n",
      "37/37 [==============================] - 0s 2ms/step - loss: 0.2813 - accuracy: 0.8760 - val_loss: 0.3358 - val_accuracy: 0.8639\n",
      "Epoch 17/1000\n",
      "Epoch 17: Learning rate is 0.009999999776482582.\n",
      "37/37 [==============================] - 0s 2ms/step - loss: 0.2900 - accuracy: 0.8728 - val_loss: 0.3792 - val_accuracy: 0.8435\n",
      "Epoch 18/1000\n",
      "Epoch 18: Learning rate is 0.009999999776482582.\n",
      "37/37 [==============================] - 0s 2ms/step - loss: 0.2856 - accuracy: 0.8677 - val_loss: 0.3735 - val_accuracy: 0.8367\n",
      "Epoch 19/1000\n",
      "Epoch 19: Learning rate is 0.009999999776482582.\n",
      "37/37 [==============================] - 0s 2ms/step - loss: 0.2646 - accuracy: 0.8900 - val_loss: 0.3321 - val_accuracy: 0.8537\n",
      "Epoch 20/1000\n",
      "Epoch 20: Learning rate is 0.009999999776482582.\n",
      "37/37 [==============================] - 0s 2ms/step - loss: 0.2740 - accuracy: 0.8836 - val_loss: 0.3262 - val_accuracy: 0.8571\n",
      "Epoch 21/1000\n",
      "Epoch 21: Learning rate is 0.009999999776482582.\n",
      "37/37 [==============================] - 0s 2ms/step - loss: 0.2607 - accuracy: 0.8960 - val_loss: 0.3436 - val_accuracy: 0.8469\n",
      "Epoch 22/1000\n",
      "Epoch 22: Learning rate is 0.009999999776482582.\n",
      "37/37 [==============================] - 0s 2ms/step - loss: 0.2336 - accuracy: 0.9029 - val_loss: 0.3579 - val_accuracy: 0.8027\n",
      "Epoch 23/1000\n",
      "Epoch 23: Learning rate is 0.009999999776482582.\n",
      "37/37 [==============================] - 0s 2ms/step - loss: 0.2515 - accuracy: 0.9024 - val_loss: 0.3112 - val_accuracy: 0.8741\n",
      "Epoch 24/1000\n",
      "Epoch 24: Learning rate is 0.009999999776482582.\n",
      "37/37 [==============================] - 0s 2ms/step - loss: 0.2262 - accuracy: 0.9189 - val_loss: 0.3693 - val_accuracy: 0.8435\n",
      "Epoch 25/1000\n",
      "Epoch 25: Learning rate is 0.009999999776482582.\n",
      "37/37 [==============================] - 0s 2ms/step - loss: 0.2688 - accuracy: 0.8933 - val_loss: 0.4481 - val_accuracy: 0.8435\n",
      "Epoch 26/1000\n",
      "Epoch 26: Learning rate is 0.009999999776482582.\n",
      "37/37 [==============================] - 0s 2ms/step - loss: 0.2346 - accuracy: 0.9018 - val_loss: 0.3448 - val_accuracy: 0.8503\n",
      "Epoch 27/1000\n",
      "Epoch 27: Learning rate is 0.009999999776482582.\n",
      "37/37 [==============================] - 0s 2ms/step - loss: 0.2289 - accuracy: 0.9135 - val_loss: 0.4022 - val_accuracy: 0.8639\n",
      "Epoch 28/1000\n",
      "Epoch 28: Learning rate is 0.009999999776482582.\n",
      "37/37 [==============================] - 0s 2ms/step - loss: 0.2298 - accuracy: 0.9230 - val_loss: 0.3464 - val_accuracy: 0.8503\n",
      "\n",
      "Epoch 00028: ReduceLROnPlateau reducing learning rate to 0.008999999798834325.\n",
      "Epoch 29/1000\n",
      "Epoch 29: Learning rate is 0.008999999612569809.\n",
      "37/37 [==============================] - 0s 2ms/step - loss: 0.2274 - accuracy: 0.9054 - val_loss: 0.2941 - val_accuracy: 0.8810\n",
      "Epoch 30/1000\n",
      "Epoch 30: Learning rate is 0.008999999612569809.\n",
      "37/37 [==============================] - 0s 2ms/step - loss: 0.1979 - accuracy: 0.9297 - val_loss: 0.3042 - val_accuracy: 0.8776\n",
      "Epoch 31/1000\n",
      "Epoch 31: Learning rate is 0.008999999612569809.\n",
      "37/37 [==============================] - 0s 2ms/step - loss: 0.2127 - accuracy: 0.9220 - val_loss: 0.3128 - val_accuracy: 0.8707\n",
      "Epoch 32/1000\n",
      "Epoch 32: Learning rate is 0.008999999612569809.\n",
      "37/37 [==============================] - 0s 2ms/step - loss: 0.4249 - accuracy: 0.9196 - val_loss: 0.2894 - val_accuracy: 0.8980\n",
      "Epoch 33/1000\n",
      "Epoch 33: Learning rate is 0.008999999612569809.\n",
      "37/37 [==============================] - 0s 2ms/step - loss: 0.2324 - accuracy: 0.9178 - val_loss: 0.3026 - val_accuracy: 0.8878\n",
      "Epoch 34/1000\n",
      "Epoch 34: Learning rate is 0.008999999612569809.\n",
      "37/37 [==============================] - 0s 2ms/step - loss: 0.2008 - accuracy: 0.9356 - val_loss: 0.2990 - val_accuracy: 0.8741\n",
      "Epoch 35/1000\n",
      "Epoch 35: Learning rate is 0.008999999612569809.\n",
      "37/37 [==============================] - 0s 2ms/step - loss: 0.2008 - accuracy: 0.9313 - val_loss: 0.3105 - val_accuracy: 0.8810\n",
      "Epoch 36/1000\n",
      "Epoch 36: Learning rate is 0.008999999612569809.\n",
      "37/37 [==============================] - 0s 2ms/step - loss: 0.2237 - accuracy: 0.9190 - val_loss: 0.2859 - val_accuracy: 0.8810\n",
      "Epoch 37/1000\n",
      "Epoch 37: Learning rate is 0.008999999612569809.\n",
      "37/37 [==============================] - 0s 2ms/step - loss: 0.2034 - accuracy: 0.9210 - val_loss: 0.3219 - val_accuracy: 0.8741\n",
      "Epoch 38/1000\n",
      "Epoch 38: Learning rate is 0.008999999612569809.\n",
      "37/37 [==============================] - 0s 2ms/step - loss: 0.1960 - accuracy: 0.9260 - val_loss: 0.2919 - val_accuracy: 0.8844\n",
      "Epoch 39/1000\n",
      "Epoch 39: Learning rate is 0.008999999612569809.\n",
      "37/37 [==============================] - 0s 2ms/step - loss: 0.2177 - accuracy: 0.9145 - val_loss: 0.2951 - val_accuracy: 0.8980\n",
      "Epoch 40/1000\n",
      "Epoch 40: Learning rate is 0.008999999612569809.\n",
      "37/37 [==============================] - 0s 2ms/step - loss: 0.2125 - accuracy: 0.9156 - val_loss: 0.3001 - val_accuracy: 0.8844\n",
      "Epoch 41/1000\n",
      "Epoch 41: Learning rate is 0.008999999612569809.\n",
      "37/37 [==============================] - 0s 2ms/step - loss: 0.2115 - accuracy: 0.9289 - val_loss: 0.2825 - val_accuracy: 0.9014\n",
      "Epoch 42/1000\n",
      "Epoch 42: Learning rate is 0.008999999612569809.\n",
      "37/37 [==============================] - 0s 2ms/step - loss: 0.1892 - accuracy: 0.9352 - val_loss: 0.2773 - val_accuracy: 0.9048\n",
      "Epoch 43/1000\n",
      "Epoch 43: Learning rate is 0.008999999612569809.\n",
      "37/37 [==============================] - 0s 2ms/step - loss: 0.1832 - accuracy: 0.9336 - val_loss: 0.2946 - val_accuracy: 0.8844\n",
      "Epoch 44/1000\n",
      "Epoch 44: Learning rate is 0.008999999612569809.\n",
      "37/37 [==============================] - 0s 2ms/step - loss: 0.1842 - accuracy: 0.9450 - val_loss: 0.2919 - val_accuracy: 0.8810\n",
      "Epoch 45/1000\n",
      "Epoch 45: Learning rate is 0.008999999612569809.\n",
      "37/37 [==============================] - 0s 2ms/step - loss: 0.1757 - accuracy: 0.9453 - val_loss: 0.4555 - val_accuracy: 0.9048\n",
      "Epoch 46/1000\n",
      "Epoch 46: Learning rate is 0.008999999612569809.\n",
      "37/37 [==============================] - 0s 2ms/step - loss: 0.2568 - accuracy: 0.9368 - val_loss: 0.3272 - val_accuracy: 0.8946\n",
      "Epoch 47/1000\n",
      "Epoch 47: Learning rate is 0.008999999612569809.\n",
      "37/37 [==============================] - 0s 2ms/step - loss: 0.1589 - accuracy: 0.9498 - val_loss: 0.3222 - val_accuracy: 0.9048\n",
      "\n",
      "Epoch 00047: ReduceLROnPlateau reducing learning rate to 0.008099999651312828.\n",
      "Epoch 48/1000\n",
      "Epoch 48: Learning rate is 0.008099999278783798.\n",
      "37/37 [==============================] - 0s 2ms/step - loss: 0.1802 - accuracy: 0.9387 - val_loss: 0.2973 - val_accuracy: 0.9116\n",
      "Epoch 49/1000\n",
      "Epoch 49: Learning rate is 0.008099999278783798.\n",
      "37/37 [==============================] - 0s 2ms/step - loss: 0.1543 - accuracy: 0.9571 - val_loss: 0.3273 - val_accuracy: 0.8946\n",
      "Epoch 50/1000\n",
      "Epoch 50: Learning rate is 0.008099999278783798.\n",
      "37/37 [==============================] - 0s 2ms/step - loss: 0.1483 - accuracy: 0.9493 - val_loss: 0.3253 - val_accuracy: 0.8912\n",
      "Epoch 51/1000\n",
      "Epoch 51: Learning rate is 0.008099999278783798.\n",
      "37/37 [==============================] - 0s 2ms/step - loss: 0.1591 - accuracy: 0.9451 - val_loss: 0.3297 - val_accuracy: 0.8912\n",
      "Epoch 52/1000\n",
      "Epoch 52: Learning rate is 0.008099999278783798.\n",
      "37/37 [==============================] - 0s 2ms/step - loss: 0.1530 - accuracy: 0.9505 - val_loss: 0.3347 - val_accuracy: 0.8878\n",
      "\n",
      "Epoch 00052: ReduceLROnPlateau reducing learning rate to 0.007289999350905419.\n",
      "Epoch 53/1000\n",
      "Epoch 53: Learning rate is 0.0072899991646409035.\n",
      "37/37 [==============================] - 0s 2ms/step - loss: 0.1680 - accuracy: 0.9423 - val_loss: 0.3484 - val_accuracy: 0.8946\n",
      "Epoch 54/1000\n",
      "Epoch 54: Learning rate is 0.0072899991646409035.\n",
      "37/37 [==============================] - 0s 2ms/step - loss: 0.1590 - accuracy: 0.9418 - val_loss: 0.3047 - val_accuracy: 0.9082\n",
      "Epoch 55/1000\n",
      "Epoch 55: Learning rate is 0.0072899991646409035.\n",
      "37/37 [==============================] - 0s 2ms/step - loss: 0.1397 - accuracy: 0.9566 - val_loss: 0.3144 - val_accuracy: 0.9082\n",
      "Epoch 56/1000\n",
      "Epoch 56: Learning rate is 0.0072899991646409035.\n",
      "37/37 [==============================] - 0s 2ms/step - loss: 0.1513 - accuracy: 0.9583 - val_loss: 0.3371 - val_accuracy: 0.9116\n",
      "Epoch 57/1000\n",
      "Epoch 57: Learning rate is 0.0072899991646409035.\n",
      "37/37 [==============================] - 0s 2ms/step - loss: 0.1390 - accuracy: 0.9558 - val_loss: 0.3864 - val_accuracy: 0.9082\n",
      "\n",
      "Epoch 00057: ReduceLROnPlateau reducing learning rate to 0.006560999248176813.\n",
      "Epoch 58/1000\n",
      "Epoch 58: Learning rate is 0.006560999434441328.\n",
      "37/37 [==============================] - 0s 2ms/step - loss: 0.1650 - accuracy: 0.9528 - val_loss: 0.3648 - val_accuracy: 0.9014\n",
      "Epoch 59/1000\n",
      "Epoch 59: Learning rate is 0.006560999434441328.\n",
      "37/37 [==============================] - 0s 2ms/step - loss: 0.1234 - accuracy: 0.9647 - val_loss: 0.3415 - val_accuracy: 0.8946\n",
      "Epoch 60/1000\n",
      "Epoch 60: Learning rate is 0.006560999434441328.\n",
      "37/37 [==============================] - 0s 2ms/step - loss: 0.1663 - accuracy: 0.9451 - val_loss: 0.3453 - val_accuracy: 0.8946\n",
      "Epoch 61/1000\n",
      "Epoch 61: Learning rate is 0.006560999434441328.\n",
      "37/37 [==============================] - 0s 2ms/step - loss: 0.1473 - accuracy: 0.9423 - val_loss: 0.3724 - val_accuracy: 0.8776\n",
      "Epoch 62/1000\n",
      "Epoch 62: Learning rate is 0.006560999434441328.\n",
      "37/37 [==============================] - 0s 2ms/step - loss: 0.1559 - accuracy: 0.9490 - val_loss: 0.3627 - val_accuracy: 0.9048\n",
      "\n",
      "Epoch 00062: ReduceLROnPlateau reducing learning rate to 0.005904899490997195.\n",
      "Epoch 63/1000\n",
      "Epoch 63: Learning rate is 0.0059048994444310665.\n",
      "37/37 [==============================] - 0s 2ms/step - loss: 0.1239 - accuracy: 0.9629 - val_loss: 0.3619 - val_accuracy: 0.9014\n",
      "Epoch 64/1000\n",
      "Epoch 64: Learning rate is 0.0059048994444310665.\n",
      "37/37 [==============================] - 0s 2ms/step - loss: 0.1291 - accuracy: 0.9590 - val_loss: 0.3954 - val_accuracy: 0.8946\n",
      "Epoch 65/1000\n",
      "Epoch 65: Learning rate is 0.0059048994444310665.\n",
      "37/37 [==============================] - 0s 2ms/step - loss: 0.1255 - accuracy: 0.9678 - val_loss: 0.3917 - val_accuracy: 0.8946\n",
      "Epoch 66/1000\n",
      "Epoch 66: Learning rate is 0.0059048994444310665.\n",
      "37/37 [==============================] - 0s 2ms/step - loss: 0.1229 - accuracy: 0.9686 - val_loss: 0.3887 - val_accuracy: 0.9048\n",
      "Epoch 67/1000\n",
      "Epoch 67: Learning rate is 0.0059048994444310665.\n",
      "37/37 [==============================] - 0s 2ms/step - loss: 0.1260 - accuracy: 0.9632 - val_loss: 0.4429 - val_accuracy: 0.8912\n",
      "\n",
      "Epoch 00067: ReduceLROnPlateau reducing learning rate to 0.00531440949998796.\n",
      "Epoch 68/1000\n",
      "Epoch 68: Learning rate is 0.0053144097328186035.\n",
      "37/37 [==============================] - 0s 2ms/step - loss: 0.1635 - accuracy: 0.9432 - val_loss: 0.4091 - val_accuracy: 0.9082\n",
      "Epoch 69/1000\n",
      "Epoch 69: Learning rate is 0.0053144097328186035.\n",
      "37/37 [==============================] - 0s 2ms/step - loss: 0.1327 - accuracy: 0.9596 - val_loss: 0.3868 - val_accuracy: 0.8980\n",
      "Epoch 70/1000\n",
      "Epoch 70: Learning rate is 0.0053144097328186035.\n",
      "37/37 [==============================] - 0s 2ms/step - loss: 0.1313 - accuracy: 0.9618 - val_loss: 0.4014 - val_accuracy: 0.8980\n",
      "Epoch 71/1000\n",
      "Epoch 71: Learning rate is 0.0053144097328186035.\n",
      "37/37 [==============================] - 0s 2ms/step - loss: 0.1236 - accuracy: 0.9628 - val_loss: 0.3993 - val_accuracy: 0.8980\n",
      "Epoch 72/1000\n",
      "Epoch 72: Learning rate is 0.0053144097328186035.\n",
      "37/37 [==============================] - 0s 2ms/step - loss: 0.0986 - accuracy: 0.9732 - val_loss: 0.4161 - val_accuracy: 0.9014\n",
      "\n",
      "Epoch 00072: ReduceLROnPlateau reducing learning rate to 0.004782968759536744.\n",
      "Epoch 73/1000\n",
      "Epoch 73: Learning rate is 0.004782968666404486.\n",
      "37/37 [==============================] - 0s 2ms/step - loss: 0.1340 - accuracy: 0.9514 - val_loss: 0.4044 - val_accuracy: 0.9014\n",
      "Epoch 74/1000\n",
      "Epoch 74: Learning rate is 0.004782968666404486.\n",
      "37/37 [==============================] - 0s 2ms/step - loss: 0.1115 - accuracy: 0.9677 - val_loss: 0.4003 - val_accuracy: 0.9150\n",
      "Epoch 75/1000\n",
      "Epoch 75: Learning rate is 0.004782968666404486.\n",
      "37/37 [==============================] - 0s 2ms/step - loss: 0.1082 - accuracy: 0.9690 - val_loss: 0.4347 - val_accuracy: 0.9048\n",
      "Epoch 76/1000\n",
      "Epoch 76: Learning rate is 0.004782968666404486.\n",
      "37/37 [==============================] - 0s 2ms/step - loss: 0.1164 - accuracy: 0.9550 - val_loss: 0.4251 - val_accuracy: 0.9048\n",
      "Epoch 77/1000\n",
      "Epoch 77: Learning rate is 0.004782968666404486.\n",
      "37/37 [==============================] - 0s 2ms/step - loss: 0.1157 - accuracy: 0.9648 - val_loss: 0.4298 - val_accuracy: 0.9082\n",
      "\n",
      "Epoch 00077: ReduceLROnPlateau reducing learning rate to 0.0043046717997640375.\n",
      "Epoch 78/1000\n",
      "Epoch 78: Learning rate is 0.004304671660065651.\n",
      "37/37 [==============================] - 0s 2ms/step - loss: 0.1245 - accuracy: 0.9556 - val_loss: 0.4242 - val_accuracy: 0.9116\n",
      "Epoch 79/1000\n",
      "Epoch 79: Learning rate is 0.004304671660065651.\n",
      "37/37 [==============================] - 0s 2ms/step - loss: 0.1077 - accuracy: 0.9634 - val_loss: 0.4513 - val_accuracy: 0.9082\n",
      "Epoch 80/1000\n",
      "Epoch 80: Learning rate is 0.004304671660065651.\n",
      "37/37 [==============================] - 0s 2ms/step - loss: 0.1159 - accuracy: 0.9617 - val_loss: 0.4632 - val_accuracy: 0.8980\n",
      "Epoch 81/1000\n",
      "Epoch 81: Learning rate is 0.004304671660065651.\n",
      "37/37 [==============================] - 0s 2ms/step - loss: 0.0958 - accuracy: 0.9710 - val_loss: 0.4325 - val_accuracy: 0.9218\n",
      "Epoch 82/1000\n",
      "Epoch 82: Learning rate is 0.004304671660065651.\n",
      "37/37 [==============================] - 0s 2ms/step - loss: 0.1177 - accuracy: 0.9647 - val_loss: 0.4361 - val_accuracy: 0.9116\n",
      "\n",
      "Epoch 00082: ReduceLROnPlateau reducing learning rate to 0.0038742044940590858.\n",
      "Epoch 83/1000\n",
      "Epoch 83: Learning rate is 0.0038742045871913433.\n",
      "37/37 [==============================] - 0s 2ms/step - loss: 0.1263 - accuracy: 0.9598 - val_loss: 0.4790 - val_accuracy: 0.9082\n",
      "Epoch 84/1000\n",
      "Epoch 84: Learning rate is 0.0038742045871913433.\n",
      "37/37 [==============================] - 0s 2ms/step - loss: 0.1028 - accuracy: 0.9663 - val_loss: 0.5300 - val_accuracy: 0.9116\n",
      "Epoch 85/1000\n",
      "Epoch 85: Learning rate is 0.0038742045871913433.\n",
      "37/37 [==============================] - 0s 2ms/step - loss: 0.1266 - accuracy: 0.9664 - val_loss: 0.4648 - val_accuracy: 0.9014\n",
      "Epoch 86/1000\n",
      "Epoch 86: Learning rate is 0.0038742045871913433.\n",
      "37/37 [==============================] - 0s 2ms/step - loss: 0.0896 - accuracy: 0.9762 - val_loss: 0.4581 - val_accuracy: 0.9048\n",
      "Epoch 87/1000\n",
      "Epoch 87: Learning rate is 0.0038742045871913433.\n",
      "37/37 [==============================] - 0s 2ms/step - loss: 0.1218 - accuracy: 0.9634 - val_loss: 0.4379 - val_accuracy: 0.9150\n",
      "\n",
      "Epoch 00087: ReduceLROnPlateau reducing learning rate to 0.003486784128472209.\n",
      "Epoch 88/1000\n",
      "Epoch 88: Learning rate is 0.0034867841750383377.\n",
      "37/37 [==============================] - 0s 2ms/step - loss: 0.0912 - accuracy: 0.9719 - val_loss: 0.4464 - val_accuracy: 0.9048\n",
      "Epoch 89/1000\n",
      "Epoch 89: Learning rate is 0.0034867841750383377.\n",
      "37/37 [==============================] - 0s 2ms/step - loss: 0.1076 - accuracy: 0.9721 - val_loss: 0.4736 - val_accuracy: 0.9048\n",
      "Epoch 90/1000\n",
      "Epoch 90: Learning rate is 0.0034867841750383377.\n",
      "37/37 [==============================] - 0s 2ms/step - loss: 0.1078 - accuracy: 0.9681 - val_loss: 0.4882 - val_accuracy: 0.9116\n",
      "Epoch 91/1000\n",
      "Epoch 91: Learning rate is 0.0034867841750383377.\n",
      "37/37 [==============================] - 0s 2ms/step - loss: 0.0944 - accuracy: 0.9764 - val_loss: 0.4862 - val_accuracy: 0.9116\n",
      "Epoch 92/1000\n",
      "Epoch 92: Learning rate is 0.0034867841750383377.\n",
      "37/37 [==============================] - 0s 2ms/step - loss: 0.0998 - accuracy: 0.9731 - val_loss: 0.4765 - val_accuracy: 0.9082\n",
      "\n",
      "Epoch 00092: ReduceLROnPlateau reducing learning rate to 0.003138105757534504.\n",
      "Epoch 93/1000\n",
      "Epoch 93: Learning rate is 0.0031381058506667614.\n",
      "37/37 [==============================] - 0s 2ms/step - loss: 0.1080 - accuracy: 0.9710 - val_loss: 0.4754 - val_accuracy: 0.9082\n",
      "Epoch 94/1000\n",
      "Epoch 94: Learning rate is 0.0031381058506667614.\n",
      "37/37 [==============================] - 0s 2ms/step - loss: 0.1015 - accuracy: 0.9710 - val_loss: 0.4927 - val_accuracy: 0.9082\n",
      "Epoch 95/1000\n",
      "Epoch 95: Learning rate is 0.0031381058506667614.\n",
      "37/37 [==============================] - 0s 2ms/step - loss: 0.0823 - accuracy: 0.9797 - val_loss: 0.5166 - val_accuracy: 0.9082\n",
      "Epoch 96/1000\n",
      "Epoch 96: Learning rate is 0.0031381058506667614.\n",
      "37/37 [==============================] - 0s 2ms/step - loss: 0.1034 - accuracy: 0.9683 - val_loss: 0.5166 - val_accuracy: 0.9082\n",
      "Epoch 97/1000\n",
      "Epoch 97: Learning rate is 0.0031381058506667614.\n",
      "37/37 [==============================] - 0s 2ms/step - loss: 0.0952 - accuracy: 0.9742 - val_loss: 0.5405 - val_accuracy: 0.9048\n",
      "\n",
      "Epoch 00097: ReduceLROnPlateau reducing learning rate to 0.0028242952656000854.\n",
      "Epoch 98/1000\n",
      "Epoch 98: Learning rate is 0.002824295312166214.\n",
      "37/37 [==============================] - 0s 2ms/step - loss: 0.1018 - accuracy: 0.9732 - val_loss: 0.5138 - val_accuracy: 0.9082\n",
      "Epoch 99/1000\n",
      "Epoch 99: Learning rate is 0.002824295312166214.\n",
      "37/37 [==============================] - 0s 2ms/step - loss: 0.0979 - accuracy: 0.9722 - val_loss: 0.5116 - val_accuracy: 0.9048\n",
      "Epoch 100/1000\n",
      "Epoch 100: Learning rate is 0.002824295312166214.\n",
      "37/37 [==============================] - 0s 2ms/step - loss: 0.0919 - accuracy: 0.9792 - val_loss: 0.5351 - val_accuracy: 0.9082\n",
      "Epoch 101/1000\n",
      "Epoch 101: Learning rate is 0.002824295312166214.\n",
      "37/37 [==============================] - 0s 2ms/step - loss: 0.0768 - accuracy: 0.9821 - val_loss: 0.5503 - val_accuracy: 0.9014\n",
      "Epoch 102/1000\n",
      "Epoch 102: Learning rate is 0.002824295312166214.\n",
      "37/37 [==============================] - 0s 2ms/step - loss: 0.0749 - accuracy: 0.9836 - val_loss: 0.5415 - val_accuracy: 0.8980\n",
      "\n",
      "Epoch 00102: ReduceLROnPlateau reducing learning rate to 0.0025418657809495927.\n",
      "Epoch 103/1000\n",
      "Epoch 103: Learning rate is 0.002541865687817335.\n",
      "37/37 [==============================] - 0s 2ms/step - loss: 0.0772 - accuracy: 0.9743 - val_loss: 0.5594 - val_accuracy: 0.9082\n",
      "Epoch 104/1000\n",
      "Epoch 104: Learning rate is 0.002541865687817335.\n",
      "37/37 [==============================] - 0s 2ms/step - loss: 0.0924 - accuracy: 0.9758 - val_loss: 0.5543 - val_accuracy: 0.9082\n",
      "Epoch 105/1000\n",
      "Epoch 105: Learning rate is 0.002541865687817335.\n",
      "37/37 [==============================] - 0s 2ms/step - loss: 0.0738 - accuracy: 0.9827 - val_loss: 0.5517 - val_accuracy: 0.9082\n",
      "Epoch 106/1000\n",
      "Epoch 106: Learning rate is 0.002541865687817335.\n",
      "37/37 [==============================] - 0s 2ms/step - loss: 0.0903 - accuracy: 0.9745 - val_loss: 0.5817 - val_accuracy: 0.9150\n",
      "Epoch 107/1000\n",
      "Epoch 107: Learning rate is 0.002541865687817335.\n",
      "37/37 [==============================] - 0s 2ms/step - loss: 0.0819 - accuracy: 0.9772 - val_loss: 0.5703 - val_accuracy: 0.9082\n",
      "\n",
      "Epoch 00107: ReduceLROnPlateau reducing learning rate to 0.0022876791190356016.\n",
      "Epoch 108/1000\n",
      "Epoch 108: Learning rate is 0.0022876791190356016.\n",
      "37/37 [==============================] - 0s 2ms/step - loss: 0.0720 - accuracy: 0.9834 - val_loss: 0.5570 - val_accuracy: 0.9150\n",
      "Epoch 109/1000\n",
      "Epoch 109: Learning rate is 0.0022876791190356016.\n",
      "37/37 [==============================] - 0s 2ms/step - loss: 0.0622 - accuracy: 0.9884 - val_loss: 0.5795 - val_accuracy: 0.9150\n",
      "Epoch 110/1000\n",
      "Epoch 110: Learning rate is 0.0022876791190356016.\n",
      "37/37 [==============================] - 0s 2ms/step - loss: 0.0683 - accuracy: 0.9859 - val_loss: 0.5752 - val_accuracy: 0.9116\n",
      "Epoch 111/1000\n",
      "Epoch 111: Learning rate is 0.0022876791190356016.\n",
      "37/37 [==============================] - 0s 2ms/step - loss: 0.0543 - accuracy: 0.9894 - val_loss: 0.5772 - val_accuracy: 0.9116\n",
      "Epoch 112/1000\n",
      "Epoch 112: Learning rate is 0.0022876791190356016.\n",
      "37/37 [==============================] - 0s 2ms/step - loss: 0.0840 - accuracy: 0.9822 - val_loss: 0.5812 - val_accuracy: 0.9116\n",
      "\n",
      "Epoch 00112: ReduceLROnPlateau reducing learning rate to 0.0020589112071320416.\n",
      "Epoch 113/1000\n",
      "Epoch 113: Learning rate is 0.0020589111372828484.\n",
      "37/37 [==============================] - 0s 2ms/step - loss: 0.0583 - accuracy: 0.9890 - val_loss: 0.5982 - val_accuracy: 0.9082\n",
      "Epoch 114/1000\n",
      "Epoch 114: Learning rate is 0.0020589111372828484.\n",
      "37/37 [==============================] - 0s 2ms/step - loss: 0.0738 - accuracy: 0.9837 - val_loss: 0.6000 - val_accuracy: 0.9116\n",
      "Epoch 115/1000\n",
      "Epoch 115: Learning rate is 0.0020589111372828484.\n",
      "37/37 [==============================] - 0s 2ms/step - loss: 0.1009 - accuracy: 0.9746 - val_loss: 0.6007 - val_accuracy: 0.9116\n",
      "Epoch 116/1000\n",
      "Epoch 116: Learning rate is 0.0020589111372828484.\n",
      "37/37 [==============================] - 0s 2ms/step - loss: 0.0762 - accuracy: 0.9837 - val_loss: 0.6055 - val_accuracy: 0.9184\n",
      "Epoch 117/1000\n",
      "Epoch 117: Learning rate is 0.0020589111372828484.\n",
      "37/37 [==============================] - 0s 2ms/step - loss: 0.0737 - accuracy: 0.9821 - val_loss: 0.6120 - val_accuracy: 0.9184\n",
      "\n",
      "Epoch 00117: ReduceLROnPlateau reducing learning rate to 0.0018530200235545636.\n",
      "Epoch 118/1000\n",
      "Epoch 118: Learning rate is 0.0018530200468376279.\n",
      "37/37 [==============================] - 0s 2ms/step - loss: 0.0844 - accuracy: 0.9838 - val_loss: 0.5974 - val_accuracy: 0.9116\n",
      "Epoch 119/1000\n",
      "Epoch 119: Learning rate is 0.0018530200468376279.\n",
      "37/37 [==============================] - 0s 2ms/step - loss: 0.0847 - accuracy: 0.9799 - val_loss: 0.6056 - val_accuracy: 0.9150\n",
      "Epoch 120/1000\n",
      "Epoch 120: Learning rate is 0.0018530200468376279.\n",
      "37/37 [==============================] - 0s 2ms/step - loss: 0.0678 - accuracy: 0.9863 - val_loss: 0.6167 - val_accuracy: 0.9082\n",
      "Epoch 121/1000\n",
      "Epoch 121: Learning rate is 0.0018530200468376279.\n",
      "37/37 [==============================] - 0s 2ms/step - loss: 0.0686 - accuracy: 0.9838 - val_loss: 0.6254 - val_accuracy: 0.9116\n",
      "Epoch 122/1000\n",
      "Epoch 122: Learning rate is 0.0018530200468376279.\n",
      "37/37 [==============================] - 0s 2ms/step - loss: 0.0793 - accuracy: 0.9816 - val_loss: 0.6286 - val_accuracy: 0.9116\n",
      "\n",
      "Epoch 00122: ReduceLROnPlateau reducing learning rate to 0.0016677180421538651.\n",
      "Epoch 123/1000\n",
      "Epoch 123: Learning rate is 0.0016677180537953973.\n",
      "37/37 [==============================] - 0s 2ms/step - loss: 0.0720 - accuracy: 0.9812 - val_loss: 0.6287 - val_accuracy: 0.9116\n",
      "Epoch 124/1000\n",
      "Epoch 124: Learning rate is 0.0016677180537953973.\n",
      "37/37 [==============================] - 0s 2ms/step - loss: 0.0547 - accuracy: 0.9867 - val_loss: 0.6506 - val_accuracy: 0.9116\n",
      "Epoch 125/1000\n",
      "Epoch 125: Learning rate is 0.0016677180537953973.\n",
      "37/37 [==============================] - 0s 2ms/step - loss: 0.0784 - accuracy: 0.9825 - val_loss: 0.6570 - val_accuracy: 0.9116\n",
      "Epoch 126/1000\n",
      "Epoch 126: Learning rate is 0.0016677180537953973.\n",
      "37/37 [==============================] - 0s 2ms/step - loss: 0.0747 - accuracy: 0.9848 - val_loss: 0.6533 - val_accuracy: 0.9116\n",
      "Epoch 127/1000\n",
      "Epoch 127: Learning rate is 0.0016677180537953973.\n",
      "37/37 [==============================] - 0s 2ms/step - loss: 0.0659 - accuracy: 0.9882 - val_loss: 0.6596 - val_accuracy: 0.9150\n",
      "\n",
      "Epoch 00127: ReduceLROnPlateau reducing learning rate to 0.0015009462484158575.\n",
      "Epoch 128/1000\n",
      "Epoch 128: Learning rate is 0.0015009462367743254.\n",
      "37/37 [==============================] - 0s 2ms/step - loss: 0.0622 - accuracy: 0.9848 - val_loss: 0.6700 - val_accuracy: 0.9116\n",
      "Epoch 129/1000\n",
      "Epoch 129: Learning rate is 0.0015009462367743254.\n",
      "37/37 [==============================] - 0s 2ms/step - loss: 0.0612 - accuracy: 0.9874 - val_loss: 0.6588 - val_accuracy: 0.9150\n",
      "Epoch 130/1000\n",
      "Epoch 130: Learning rate is 0.0015009462367743254.\n",
      "37/37 [==============================] - 0s 2ms/step - loss: 0.0653 - accuracy: 0.9847 - val_loss: 0.6802 - val_accuracy: 0.9184\n",
      "Epoch 131/1000\n",
      "Epoch 131: Learning rate is 0.0015009462367743254.\n",
      "37/37 [==============================] - 0s 2ms/step - loss: 0.0669 - accuracy: 0.9851 - val_loss: 0.6583 - val_accuracy: 0.9150\n",
      "Epoch 132/1000\n",
      "Epoch 132: Learning rate is 0.0015009462367743254.\n",
      "37/37 [==============================] - 0s 2ms/step - loss: 0.0528 - accuracy: 0.9899 - val_loss: 0.6800 - val_accuracy: 0.9116\n",
      "\n",
      "Epoch 00132: ReduceLROnPlateau reducing learning rate to 0.0013508516130968928.\n",
      "Epoch 133/1000\n",
      "Epoch 133: Learning rate is 0.0013508516130968928.\n",
      "37/37 [==============================] - 0s 2ms/step - loss: 0.0787 - accuracy: 0.9842 - val_loss: 0.6636 - val_accuracy: 0.9150\n",
      "Epoch 134/1000\n",
      "Epoch 134: Learning rate is 0.0013508516130968928.\n",
      "37/37 [==============================] - 0s 2ms/step - loss: 0.0606 - accuracy: 0.9868 - val_loss: 0.6662 - val_accuracy: 0.9150\n",
      "Epoch 135/1000\n",
      "Epoch 135: Learning rate is 0.0013508516130968928.\n",
      "37/37 [==============================] - 0s 2ms/step - loss: 0.0826 - accuracy: 0.9811 - val_loss: 0.6884 - val_accuracy: 0.9150\n",
      "Epoch 136/1000\n",
      "Epoch 136: Learning rate is 0.0013508516130968928.\n",
      "37/37 [==============================] - 0s 2ms/step - loss: 0.0629 - accuracy: 0.9882 - val_loss: 0.6811 - val_accuracy: 0.9150\n",
      "Epoch 137/1000\n",
      "Epoch 137: Learning rate is 0.0013508516130968928.\n",
      "37/37 [==============================] - 0s 2ms/step - loss: 0.0660 - accuracy: 0.9885 - val_loss: 0.6746 - val_accuracy: 0.9184\n",
      "\n",
      "Epoch 00137: ReduceLROnPlateau reducing learning rate to 0.0012157664517872036.\n",
      "Epoch 138/1000\n",
      "Epoch 138: Learning rate is 0.001215766416862607.\n",
      "37/37 [==============================] - 0s 2ms/step - loss: 0.0710 - accuracy: 0.9826 - val_loss: 0.6827 - val_accuracy: 0.9184\n",
      "Epoch 139/1000\n",
      "Epoch 139: Learning rate is 0.001215766416862607.\n",
      "37/37 [==============================] - 0s 2ms/step - loss: 0.0538 - accuracy: 0.9916 - val_loss: 0.6865 - val_accuracy: 0.9184\n",
      "Epoch 140/1000\n",
      "Epoch 140: Learning rate is 0.001215766416862607.\n",
      "37/37 [==============================] - 0s 2ms/step - loss: 0.0634 - accuracy: 0.9887 - val_loss: 0.6956 - val_accuracy: 0.9218\n",
      "Epoch 141/1000\n",
      "Epoch 141: Learning rate is 0.001215766416862607.\n",
      "37/37 [==============================] - 0s 2ms/step - loss: 0.0631 - accuracy: 0.9884 - val_loss: 0.6906 - val_accuracy: 0.9184\n",
      "Epoch 142/1000\n",
      "Epoch 142: Learning rate is 0.001215766416862607.\n",
      "37/37 [==============================] - 0s 2ms/step - loss: 0.0678 - accuracy: 0.9874 - val_loss: 0.6987 - val_accuracy: 0.9184\n",
      "Restoring model weights from the end of the best epoch.\n",
      "\n",
      "Epoch 00142: ReduceLROnPlateau reducing learning rate to 0.0010941897751763463.\n",
      "Epoch 00142: early stopping\n"
     ]
    }
   ],
   "source": [
    "# Pass the callback to the fit method\n",
    "history = model.fit(\n",
    "    X_train,\n",
    "    y_train,\n",
    "    validation_split=0.2,\n",
    "    epochs=1000,\n",
    "    batch_size=32,\n",
    "    callbacks=callbacks  # include it here\n",
    ")"
   ],
   "metadata": {
    "collapsed": false,
    "ExecuteTime": {
     "end_time": "2024-02-19T21:35:43.775128561Z",
     "start_time": "2024-02-19T21:35:33.549671490Z"
    }
   },
   "id": "bd3f41f1f688e43"
  },
  {
   "cell_type": "code",
   "execution_count": 8,
   "outputs": [
    {
     "name": "stdout",
     "output_type": "stream",
     "text": [
      "12/12 [==============================] - 0s 1ms/step - loss: 0.2628 - accuracy: 0.8992\n",
      "Test accuracy: 0.8991825580596924\n",
      "Test loss: 0.26275965571403503\n"
     ]
    }
   ],
   "source": [
    "# Evaluating the model\n",
    "test_loss, test_acc = model.evaluate(X_test, y_test)\n",
    "print('Test accuracy:', test_acc)\n",
    "print('Test loss:', test_loss)"
   ],
   "metadata": {
    "collapsed": false,
    "ExecuteTime": {
     "end_time": "2024-02-19T21:35:45.078525946Z",
     "start_time": "2024-02-19T21:35:45.035551016Z"
    }
   },
   "id": "initial_id"
  },
  {
   "cell_type": "code",
   "outputs": [
    {
     "data": {
      "text/plain": "array([[154,   0,   0],\n       [  8,  62,   7],\n       [  0,  22, 114]])"
     },
     "execution_count": 9,
     "metadata": {},
     "output_type": "execute_result"
    }
   ],
   "source": [
    "#confusion matrix\n",
    "from sklearn.metrics import confusion_matrix\n",
    "import numpy as np\n",
    "y_pred = model.predict(X_test)\n",
    "y_pred = np.argmax(y_pred, axis=1)\n",
    "y_test = np.argmax(y_test, axis=1)\n",
    "confusion_matrix(y_test, y_pred)"
   ],
   "metadata": {
    "collapsed": false,
    "ExecuteTime": {
     "end_time": "2024-02-19T21:35:48.370583321Z",
     "start_time": "2024-02-19T21:35:48.307108630Z"
    }
   },
   "id": "1352cb1eded44f03",
   "execution_count": 9
  },
  {
   "cell_type": "code",
   "execution_count": 10,
   "outputs": [
    {
     "data": {
      "text/plain": "<Figure size 640x480 with 1 Axes>",
      "image/png": "[encoded data removed]"
     },
     "metadata": {},
     "output_type": "display_data"
    },
    {
     "data": {
      "text/plain": "<Figure size 640x480 with 1 Axes>",
      "image/png": "[encoded data removed]"
     },
     "metadata": {},
     "output_type": "display_data"
    },
    {
     "data": {
      "text/plain": "<Figure size 640x480 with 1 Axes>",
      "image/png": "[encoded data removed]"
     },
     "metadata": {},
     "output_type": "display_data"
    }
   ],
   "source": [
    "# Plotting the training and validation loss\n",
    "import matplotlib.pyplot as plt\n",
    "\n",
    "plt.plot(history.history['loss'])\n",
    "plt.plot(history.history['val_loss'])\n",
    "plt.title('Model loss')\n",
    "plt.ylabel('Loss')\n",
    "plt.xlabel('Epochs')\n",
    "plt.legend(['Train', 'Validation'], loc='upper right')\n",
    "plt.show()\n",
    "\n",
    "plt.plot(history.history['accuracy'])\n",
    "plt.plot(history.history['val_accuracy'])\n",
    "plt.title('Model accuracy')\n",
    "plt.ylabel('Accuracy')\n",
    "plt.xlabel('Epochs')\n",
    "plt.legend(['Train', 'Validation'], loc='lower right')\n",
    "plt.show()\n",
    "\n",
    "# Plotting\n",
    "# plt.figure(figsize=(8, 8))\n",
    "plt.plot(lr_tracker.learning_rates)\n",
    "plt.title(\"Learning Rate over Epochs\")\n",
    "plt.xlabel(\"Epoch\")\n",
    "plt.ylabel(\"Learning Rate\")\n",
    "plt.grid(True)"
   ],
   "metadata": {
    "collapsed": false,
    "ExecuteTime": {
     "end_time": "2024-02-19T21:35:53.121313521Z",
     "start_time": "2024-02-19T21:35:52.585179115Z"
    }
   },
   "id": "1d82547b5da98e0"
  },
  {
   "cell_type": "code",
   "execution_count": 11,
   "outputs": [
    {
     "name": "stderr",
     "output_type": "stream",
     "text": [
      "2024-02-19 21:37:46.285575: W tensorflow/python/util/util.cc:348] Sets are not currently considered sequences, but this may change in the future, so consider avoiding using them.\n"
     ]
    },
    {
     "name": "stdout",
     "output_type": "stream",
     "text": [
      "INFO:tensorflow:Assets written to: /home/adam/FurtherResearch/Model/Exoskeleton/Baseline/Exo_model_with_BMI/assets\n"
     ]
    }
   ],
   "source": [
    "# Save the model\n",
    "tf.keras.models.save_model(model, '/home/adam/FurtherResearch/Model/Exoskeleton/Baseline/Exo_model_with_BMI')"
   ],
   "metadata": {
    "collapsed": false,
    "ExecuteTime": {
     "end_time": "2024-02-19T21:37:46.622422716Z",
     "start_time": "2024-02-19T21:37:46.190220722Z"
    }
   },
   "id": "971afc8f1ecd8193"
  },
  {
   "cell_type": "code",
   "execution_count": 12,
   "outputs": [
    {
     "name": "stdout",
     "output_type": "stream",
     "text": [
      "Model: \"model\"\n",
      "_________________________________________________________________\n",
      "Layer (type)                 Output Shape              Param #   \n",
      "=================================================================\n",
      "dense_0_input (InputLayer)   [(None, 65)]              0         \n",
      "_________________________________________________________________\n",
      "dense_0 (Dense)              (None, 128)               8448      \n",
      "_________________________________________________________________\n",
      "dense_1 (Dense)              (None, 64)                8256      \n",
      "_________________________________________________________________\n",
      "dense_2 (Dense)              (None, 3)                 195       \n",
      "=================================================================\n",
      "Total params: 16,899\n",
      "Trainable params: 16,899\n",
      "Non-trainable params: 0\n",
      "_________________________________________________________________\n"
     ]
    }
   ],
   "source": [
    "from tensorflow.keras.models import Model\n",
    "\n",
    "# model.summary()\n",
    "# Assume 'original_model' is your pre-trained model\n",
    "model_without_softmax = Model(inputs=model.input, \n",
    "                              outputs=model.get_layer(\"dense_2\").output)\n",
    "model_without_softmax.summary()\n"
   ],
   "metadata": {
    "collapsed": false,
    "ExecuteTime": {
     "end_time": "2024-02-19T21:41:21.632813571Z",
     "start_time": "2024-02-19T21:41:21.576423855Z"
    }
   },
   "id": "9445a32c75176e7b"
  },
  {
   "cell_type": "code",
   "execution_count": 13,
   "outputs": [
    {
     "name": "stdout",
     "output_type": "stream",
     "text": [
      "INFO:tensorflow:Assets written to: /home/adam/FurtherResearch/Model/Exoskeleton/Baseline/Exo_model_with_BMI_without_softmax/assets\n"
     ]
    }
   ],
   "source": [
    "# Save the model\n",
    "tf.keras.models.save_model(model_without_softmax, '/home/adam/FurtherResearch/Model/Exoskeleton/Baseline/Exo_model_with_BMI_without_softmax')"
   ],
   "metadata": {
    "collapsed": false,
    "ExecuteTime": {
     "end_time": "2024-02-19T21:42:05.788068431Z",
     "start_time": "2024-02-19T21:42:05.573409455Z"
    }
   },
   "id": "61da15b78744777b"
  }
 ],
 "metadata": {
  "kernelspec": {
   "display_name": "Python 3",
   "language": "python",
   "name": "python3"
  },
  "language_info": {
   "codemirror_mode": {
    "name": "ipython",
    "version": 2
   },
   "file_extension": ".py",
   "mimetype": "text/x-python",
   "name": "python",
   "nbconvert_exporter": "python",
   "pygments_lexer": "ipython2",
   "version": "2.7.6"
  }
 },
 "nbformat": 4,
 "nbformat_minor": 5
}
