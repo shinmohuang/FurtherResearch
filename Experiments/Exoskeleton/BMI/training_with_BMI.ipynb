{
 "cells": [
  {
   "cell_type": "code",
   "execution_count": 1,
   "id": "2ebdbe21c431b276",
   "metadata": {
    "collapsed": true,
    "ExecuteTime": {
     "end_time": "2024-02-29T14:55:18.757781Z",
     "start_time": "2024-02-29T14:55:17.661568Z"
    }
   },
   "outputs": [
    {
     "name": "stderr",
     "output_type": "stream",
     "text": [
      "2024-02-29 14:55:17.912807: I tensorflow/stream_executor/platform/default/dso_loader.cc:49] Successfully opened dynamic library libcudart.so.10.1\n"
     ]
    },
    {
     "name": "stdout",
     "output_type": "stream",
     "text": [
      "Physical devices: [PhysicalDevice(name='/physical_device:CPU:0', device_type='CPU'), PhysicalDevice(name='/physical_device:GPU:0', device_type='GPU')]\n",
      "GPU is available.\n"
     ]
    },
    {
     "name": "stderr",
     "output_type": "stream",
     "text": [
      "2024-02-29 14:55:18.739391: I tensorflow/compiler/jit/xla_cpu_device.cc:41] Not creating XLA devices, tf_xla_enable_xla_devices not set\n",
      "2024-02-29 14:55:18.739859: I tensorflow/stream_executor/platform/default/dso_loader.cc:49] Successfully opened dynamic library libcuda.so.1\n",
      "2024-02-29 14:55:18.749961: I tensorflow/stream_executor/cuda/cuda_gpu_executor.cc:941] successful NUMA node read from SysFS had negative value (-1), but there must be at least one NUMA node, so returning NUMA node zero\n",
      "2024-02-29 14:55:18.750059: I tensorflow/core/common_runtime/gpu/gpu_device.cc:1720] Found device 0 with properties: \n",
      "pciBusID: 0000:01:00.0 name: NVIDIA GeForce RTX 2060 SUPER computeCapability: 7.5\n",
      "coreClock: 1.65GHz coreCount: 34 deviceMemorySize: 7.78GiB deviceMemoryBandwidth: 417.29GiB/s\n",
      "2024-02-29 14:55:18.750073: I tensorflow/stream_executor/platform/default/dso_loader.cc:49] Successfully opened dynamic library libcudart.so.10.1\n",
      "2024-02-29 14:55:18.751126: I tensorflow/stream_executor/platform/default/dso_loader.cc:49] Successfully opened dynamic library libcublas.so.10\n",
      "2024-02-29 14:55:18.751155: I tensorflow/stream_executor/platform/default/dso_loader.cc:49] Successfully opened dynamic library libcublasLt.so.10\n",
      "2024-02-29 14:55:18.752077: I tensorflow/stream_executor/platform/default/dso_loader.cc:49] Successfully opened dynamic library libcufft.so.10\n",
      "2024-02-29 14:55:18.752246: I tensorflow/stream_executor/platform/default/dso_loader.cc:49] Successfully opened dynamic library libcurand.so.10\n",
      "2024-02-29 14:55:18.753251: I tensorflow/stream_executor/platform/default/dso_loader.cc:49] Successfully opened dynamic library libcusolver.so.10\n",
      "2024-02-29 14:55:18.753801: I tensorflow/stream_executor/platform/default/dso_loader.cc:49] Successfully opened dynamic library libcusparse.so.10\n",
      "2024-02-29 14:55:18.755904: I tensorflow/stream_executor/platform/default/dso_loader.cc:49] Successfully opened dynamic library libcudnn.so.7\n",
      "2024-02-29 14:55:18.755984: I tensorflow/stream_executor/cuda/cuda_gpu_executor.cc:941] successful NUMA node read from SysFS had negative value (-1), but there must be at least one NUMA node, so returning NUMA node zero\n",
      "2024-02-29 14:55:18.756105: I tensorflow/stream_executor/cuda/cuda_gpu_executor.cc:941] successful NUMA node read from SysFS had negative value (-1), but there must be at least one NUMA node, so returning NUMA node zero\n",
      "2024-02-29 14:55:18.756168: I tensorflow/core/common_runtime/gpu/gpu_device.cc:1862] Adding visible gpu devices: 0\n"
     ]
    }
   ],
   "source": [
    "import pandas as pd\n",
    "import tensorflow as tf\n",
    "from sklearn.model_selection import train_test_split\n",
    "from sklearn.preprocessing import StandardScaler\n",
    "from tensorflow.keras.models import Sequential\n",
    "from tensorflow.keras.layers import Dense\n",
    "from tensorflow.keras.utils import to_categorical\n",
    "from sklearn.utils import shuffle\n",
    "\n",
    "from tensorflow.keras.callbacks import EarlyStopping\n",
    "from tensorflow.keras.optimizers import Adam\n",
    "from tensorflow.keras.callbacks import ReduceLROnPlateau\n",
    "\n",
    "# List all physical devices\n",
    "physical_devices = tf.config.list_physical_devices()\n",
    "print(\"Physical devices:\", physical_devices)\n",
    "\n",
    "# Check for GPU specifically\n",
    "gpus = tf.config.list_physical_devices('GPU')\n",
    "if gpus:\n",
    "    print(\"GPU is available.\")\n",
    "else:\n",
    "    print(\"GPU is NOT available.\")"
   ]
  },
  {
   "cell_type": "code",
   "execution_count": 3,
   "outputs": [
    {
     "data": {
      "text/plain": "      IMU1_GyroX_Mean  IMU1_GyroX_StdDev  IMU1_GyroX_RMS  IMU1_GyroX_Amp  \\\n0          100.000000         100.000000      100.000000      100.000000   \n1            7.026579         198.259304      199.601392      184.295571   \n2        -7082.108609         568.164429      593.320009      727.671625   \n3         3618.245437        1537.254629     1540.972428     1855.355638   \n4        -1539.312493        2426.076723     2428.697877     2399.474310   \n...               ...                ...             ...             ...   \n1828         1.764259         368.991733      368.247948     1534.561927   \n1829         0.475102         349.962108      349.301063     1483.874905   \n1830         1.972435         328.861224      328.309039     1336.387882   \n1831        -0.824858         366.299038      365.628259     1428.214854   \n1832       -29.002205         400.172705      399.824304     1648.174141   \n\n      IMU1_GyroY_Mean  IMU1_GyroY_StdDev  IMU1_GyroY_RMS  IMU1_GyroY_Amp  \\\n0          100.000000         100.000000      100.000000      100.000000   \n1          610.020298         175.334986      178.265684      192.958297   \n2         9456.718907         610.892516      672.664608      744.159826   \n3         4828.685519        2177.145176     2187.176663     2466.309254   \n4        -5421.387863        4325.733672     4335.967864     4673.869608   \n...               ...                ...             ...             ...   \n1828        -0.311389         139.779641      139.496687      590.129262   \n1829         0.453211         144.938057      144.665591      602.595420   \n1830         3.336819         162.563803      162.325196      675.185751   \n1831         2.038201         166.471751      166.179372      671.038232   \n1832        21.484176         173.519746      174.241553      651.255248   \n\n      IMU1_GyroZ_Mean  IMU1_GyroZ_StdDev  ...  OFS_FIB_IMNF  EMG_EMG_Mean  \\\n0          100.000000         100.000000  ...      1.282506    100.000000   \n1          -30.466274         188.025193  ...      1.147393    107.150748   \n2         -744.252427         567.506829  ...      0.989183    247.044115   \n3         -638.476505        1500.476246  ...      0.912529    713.389659   \n4          173.236814        1786.550574  ...      0.880923   2214.542677   \n...               ...                ...  ...           ...           ...   \n1828         7.109903         269.971731  ...      0.808654      3.784144   \n1829         0.678974         273.597473  ...      0.807963      3.661929   \n1830        -3.122483         270.265599  ...      0.806151      6.071805   \n1831         3.257283         275.674312  ...      1.029054      5.424234   \n1832         9.533042         290.969664  ...      3.783479      5.539462   \n\n      EMG_EMG_StdDev  EMG_EMG_RMS  EMG_EMG_Amp  EMG_EMG_MNF  EMG_EMG_MDF  \\\n0         100.000000   100.000000   100.000000     0.293036     0.230724   \n1          71.239481   103.936460    81.656880     0.142451     0.181664   \n2         611.569045   306.910586   514.609792     0.385845     0.234438   \n3        1127.501511   767.921875   968.529167     0.426387     0.192446   \n4        4157.944918  2493.259693  3969.429341     0.501780     0.220765   \n...              ...          ...          ...          ...          ...   \n1828        2.975367     4.813325    10.521596     0.407665     0.208658   \n1829        3.194020     4.858676    10.239955     0.395226     0.210199   \n1830        6.055941     8.574721    21.664981     0.400278     0.214340   \n1831        4.958792     7.348506    16.820162     0.440773     0.217625   \n1832        4.086590     6.882678    13.769611     1.456003     0.345457   \n\n      EMG_EMG_IMNF  Age        BMI  \n0        22.334139   24  27.250887  \n1         8.384712   24  27.250887  \n2         8.372799   24  27.250887  \n3         7.684195   24  27.250887  \n4         7.496121   24  27.250887  \n...            ...  ...        ...  \n1828      8.023430   30  30.346074  \n1829      9.214335   30  30.346074  \n1830      7.786317   30  30.346074  \n1831      8.059900   30  30.346074  \n1832     39.071400   30  30.346074  \n\n[1833 rows x 65 columns]",
      "text/html": "<div>\n<style scoped>\n    .dataframe tbody tr th:only-of-type {\n        vertical-align: middle;\n    }\n\n    .dataframe tbody tr th {\n        vertical-align: top;\n    }\n\n    .dataframe thead th {\n        text-align: right;\n    }\n</style>\n<table border=\"1\" class=\"dataframe\">\n  <thead>\n    <tr style=\"text-align: right;\">\n      <th></th>\n      <th>IMU1_GyroX_Mean</th>\n      <th>IMU1_GyroX_StdDev</th>\n      <th>IMU1_GyroX_RMS</th>\n      <th>IMU1_GyroX_Amp</th>\n      <th>IMU1_GyroY_Mean</th>\n      <th>IMU1_GyroY_StdDev</th>\n      <th>IMU1_GyroY_RMS</th>\n      <th>IMU1_GyroY_Amp</th>\n      <th>IMU1_GyroZ_Mean</th>\n      <th>IMU1_GyroZ_StdDev</th>\n      <th>...</th>\n      <th>OFS_FIB_IMNF</th>\n      <th>EMG_EMG_Mean</th>\n      <th>EMG_EMG_StdDev</th>\n      <th>EMG_EMG_RMS</th>\n      <th>EMG_EMG_Amp</th>\n      <th>EMG_EMG_MNF</th>\n      <th>EMG_EMG_MDF</th>\n      <th>EMG_EMG_IMNF</th>\n      <th>Age</th>\n      <th>BMI</th>\n    </tr>\n  </thead>\n  <tbody>\n    <tr>\n      <th>0</th>\n      <td>100.000000</td>\n      <td>100.000000</td>\n      <td>100.000000</td>\n      <td>100.000000</td>\n      <td>100.000000</td>\n      <td>100.000000</td>\n      <td>100.000000</td>\n      <td>100.000000</td>\n      <td>100.000000</td>\n      <td>100.000000</td>\n      <td>...</td>\n      <td>1.282506</td>\n      <td>100.000000</td>\n      <td>100.000000</td>\n      <td>100.000000</td>\n      <td>100.000000</td>\n      <td>0.293036</td>\n      <td>0.230724</td>\n      <td>22.334139</td>\n      <td>24</td>\n      <td>27.250887</td>\n    </tr>\n    <tr>\n      <th>1</th>\n      <td>7.026579</td>\n      <td>198.259304</td>\n      <td>199.601392</td>\n      <td>184.295571</td>\n      <td>610.020298</td>\n      <td>175.334986</td>\n      <td>178.265684</td>\n      <td>192.958297</td>\n      <td>-30.466274</td>\n      <td>188.025193</td>\n      <td>...</td>\n      <td>1.147393</td>\n      <td>107.150748</td>\n      <td>71.239481</td>\n      <td>103.936460</td>\n      <td>81.656880</td>\n      <td>0.142451</td>\n      <td>0.181664</td>\n      <td>8.384712</td>\n      <td>24</td>\n      <td>27.250887</td>\n    </tr>\n    <tr>\n      <th>2</th>\n      <td>-7082.108609</td>\n      <td>568.164429</td>\n      <td>593.320009</td>\n      <td>727.671625</td>\n      <td>9456.718907</td>\n      <td>610.892516</td>\n      <td>672.664608</td>\n      <td>744.159826</td>\n      <td>-744.252427</td>\n      <td>567.506829</td>\n      <td>...</td>\n      <td>0.989183</td>\n      <td>247.044115</td>\n      <td>611.569045</td>\n      <td>306.910586</td>\n      <td>514.609792</td>\n      <td>0.385845</td>\n      <td>0.234438</td>\n      <td>8.372799</td>\n      <td>24</td>\n      <td>27.250887</td>\n    </tr>\n    <tr>\n      <th>3</th>\n      <td>3618.245437</td>\n      <td>1537.254629</td>\n      <td>1540.972428</td>\n      <td>1855.355638</td>\n      <td>4828.685519</td>\n      <td>2177.145176</td>\n      <td>2187.176663</td>\n      <td>2466.309254</td>\n      <td>-638.476505</td>\n      <td>1500.476246</td>\n      <td>...</td>\n      <td>0.912529</td>\n      <td>713.389659</td>\n      <td>1127.501511</td>\n      <td>767.921875</td>\n      <td>968.529167</td>\n      <td>0.426387</td>\n      <td>0.192446</td>\n      <td>7.684195</td>\n      <td>24</td>\n      <td>27.250887</td>\n    </tr>\n    <tr>\n      <th>4</th>\n      <td>-1539.312493</td>\n      <td>2426.076723</td>\n      <td>2428.697877</td>\n      <td>2399.474310</td>\n      <td>-5421.387863</td>\n      <td>4325.733672</td>\n      <td>4335.967864</td>\n      <td>4673.869608</td>\n      <td>173.236814</td>\n      <td>1786.550574</td>\n      <td>...</td>\n      <td>0.880923</td>\n      <td>2214.542677</td>\n      <td>4157.944918</td>\n      <td>2493.259693</td>\n      <td>3969.429341</td>\n      <td>0.501780</td>\n      <td>0.220765</td>\n      <td>7.496121</td>\n      <td>24</td>\n      <td>27.250887</td>\n    </tr>\n    <tr>\n      <th>...</th>\n      <td>...</td>\n      <td>...</td>\n      <td>...</td>\n      <td>...</td>\n      <td>...</td>\n      <td>...</td>\n      <td>...</td>\n      <td>...</td>\n      <td>...</td>\n      <td>...</td>\n      <td>...</td>\n      <td>...</td>\n      <td>...</td>\n      <td>...</td>\n      <td>...</td>\n      <td>...</td>\n      <td>...</td>\n      <td>...</td>\n      <td>...</td>\n      <td>...</td>\n      <td>...</td>\n    </tr>\n    <tr>\n      <th>1828</th>\n      <td>1.764259</td>\n      <td>368.991733</td>\n      <td>368.247948</td>\n      <td>1534.561927</td>\n      <td>-0.311389</td>\n      <td>139.779641</td>\n      <td>139.496687</td>\n      <td>590.129262</td>\n      <td>7.109903</td>\n      <td>269.971731</td>\n      <td>...</td>\n      <td>0.808654</td>\n      <td>3.784144</td>\n      <td>2.975367</td>\n      <td>4.813325</td>\n      <td>10.521596</td>\n      <td>0.407665</td>\n      <td>0.208658</td>\n      <td>8.023430</td>\n      <td>30</td>\n      <td>30.346074</td>\n    </tr>\n    <tr>\n      <th>1829</th>\n      <td>0.475102</td>\n      <td>349.962108</td>\n      <td>349.301063</td>\n      <td>1483.874905</td>\n      <td>0.453211</td>\n      <td>144.938057</td>\n      <td>144.665591</td>\n      <td>602.595420</td>\n      <td>0.678974</td>\n      <td>273.597473</td>\n      <td>...</td>\n      <td>0.807963</td>\n      <td>3.661929</td>\n      <td>3.194020</td>\n      <td>4.858676</td>\n      <td>10.239955</td>\n      <td>0.395226</td>\n      <td>0.210199</td>\n      <td>9.214335</td>\n      <td>30</td>\n      <td>30.346074</td>\n    </tr>\n    <tr>\n      <th>1830</th>\n      <td>1.972435</td>\n      <td>328.861224</td>\n      <td>328.309039</td>\n      <td>1336.387882</td>\n      <td>3.336819</td>\n      <td>162.563803</td>\n      <td>162.325196</td>\n      <td>675.185751</td>\n      <td>-3.122483</td>\n      <td>270.265599</td>\n      <td>...</td>\n      <td>0.806151</td>\n      <td>6.071805</td>\n      <td>6.055941</td>\n      <td>8.574721</td>\n      <td>21.664981</td>\n      <td>0.400278</td>\n      <td>0.214340</td>\n      <td>7.786317</td>\n      <td>30</td>\n      <td>30.346074</td>\n    </tr>\n    <tr>\n      <th>1831</th>\n      <td>-0.824858</td>\n      <td>366.299038</td>\n      <td>365.628259</td>\n      <td>1428.214854</td>\n      <td>2.038201</td>\n      <td>166.471751</td>\n      <td>166.179372</td>\n      <td>671.038232</td>\n      <td>3.257283</td>\n      <td>275.674312</td>\n      <td>...</td>\n      <td>1.029054</td>\n      <td>5.424234</td>\n      <td>4.958792</td>\n      <td>7.348506</td>\n      <td>16.820162</td>\n      <td>0.440773</td>\n      <td>0.217625</td>\n      <td>8.059900</td>\n      <td>30</td>\n      <td>30.346074</td>\n    </tr>\n    <tr>\n      <th>1832</th>\n      <td>-29.002205</td>\n      <td>400.172705</td>\n      <td>399.824304</td>\n      <td>1648.174141</td>\n      <td>21.484176</td>\n      <td>173.519746</td>\n      <td>174.241553</td>\n      <td>651.255248</td>\n      <td>9.533042</td>\n      <td>290.969664</td>\n      <td>...</td>\n      <td>3.783479</td>\n      <td>5.539462</td>\n      <td>4.086590</td>\n      <td>6.882678</td>\n      <td>13.769611</td>\n      <td>1.456003</td>\n      <td>0.345457</td>\n      <td>39.071400</td>\n      <td>30</td>\n      <td>30.346074</td>\n    </tr>\n  </tbody>\n</table>\n<p>1833 rows × 65 columns</p>\n</div>"
     },
     "execution_count": 3,
     "metadata": {},
     "output_type": "execute_result"
    }
   ],
   "source": [
    "# Load your dataset\n",
    "dataset = pd.read_csv('../../../Dataset/Exoskeleton/Original+age+BMI.csv')  # Replace with your dataset path\n",
    "dataset.iloc[:, -1] = dataset.iloc[:, -1] - 1\n",
    "X = dataset.iloc[:, :-2]  # Features\n",
    "y = dataset.iloc[:, -2] -1 # Target\n",
    "X"
   ],
   "metadata": {
    "collapsed": false,
    "ExecuteTime": {
     "end_time": "2024-02-29T14:55:43.880557Z",
     "start_time": "2024-02-29T14:55:43.852026Z"
    }
   },
   "id": "63c4933a34c4a3eb"
  },
  {
   "cell_type": "code",
   "outputs": [
    {
     "data": {
      "text/plain": "array([[ 0.0044685 , -0.30225856, -0.30002732, ..., -0.34199561,\n        -1.02545249, -0.27712841],\n       [ 0.19181453, -0.05895923, -0.05658093, ..., -0.39261825,\n        -1.02545249, -0.27712841],\n       [ 0.02412372,  0.1542024 ,  0.15704794, ..., -0.18085805,\n         0.17893949,  0.27946876],\n       ...,\n       [-0.38875362, -0.11492464, -0.11219852, ..., -0.26361687,\n        -0.6239885 , -0.55000462],\n       [ 0.00394718, -0.4338231 , -0.43102819, ...,  1.76229968,\n         0.58040348, -0.0726992 ],\n       [ 0.00694754, -0.41545746, -0.41478952, ..., -0.3186896 ,\n         0.17893949, -0.23792439]])"
     },
     "execution_count": 4,
     "metadata": {},
     "output_type": "execute_result"
    }
   ],
   "source": [
    "# Normalize the features\n",
    "scaler = StandardScaler()\n",
    "X_scaled = scaler.fit_transform(X)\n",
    "\n",
    "# Convert labels to categorical\n",
    "y_categorical = to_categorical(y)\n",
    "\n",
    "# Shuffle the data\n",
    "X_scaled, y_categorical = shuffle(X_scaled, y_categorical, random_state=42)\n",
    "\n",
    "# Split the data\n",
    "X_train, X_test, y_train, y_test = train_test_split(\n",
    "    X_scaled, y_categorical, test_size=0.2, random_state=42)\n",
    "X_train"
   ],
   "metadata": {
    "collapsed": false,
    "ExecuteTime": {
     "end_time": "2024-02-29T14:55:52.942324Z",
     "start_time": "2024-02-29T14:55:52.934661Z"
    }
   },
   "id": "30732feab455c79b",
   "execution_count": 4
  },
  {
   "cell_type": "code",
   "outputs": [
    {
     "data": {
      "text/plain": "3"
     },
     "execution_count": 5,
     "metadata": {},
     "output_type": "execute_result"
    }
   ],
   "source": [
    "# Number of unique classes in the target variable\n",
    "num_classes = y_train.shape[1]\n",
    "num_classes"
   ],
   "metadata": {
    "collapsed": false,
    "ExecuteTime": {
     "end_time": "2024-02-29T14:55:55.276985Z",
     "start_time": "2024-02-29T14:55:55.273990Z"
    }
   },
   "id": "7bb8f68f4d9109ed",
   "execution_count": 5
  },
  {
   "cell_type": "code",
   "outputs": [
    {
     "name": "stderr",
     "output_type": "stream",
     "text": [
      "2024-02-29 14:55:56.886048: I tensorflow/core/platform/cpu_feature_guard.cc:142] This TensorFlow binary is optimized with oneAPI Deep Neural Network Library (oneDNN) to use the following CPU instructions in performance-critical operations:  SSE4.1 SSE4.2 AVX AVX2 FMA\n",
      "To enable them in other operations, rebuild TensorFlow with the appropriate compiler flags.\n",
      "2024-02-29 14:55:56.886547: I tensorflow/compiler/jit/xla_gpu_device.cc:99] Not creating XLA devices, tf_xla_enable_xla_devices not set\n",
      "2024-02-29 14:55:56.886688: I tensorflow/stream_executor/cuda/cuda_gpu_executor.cc:941] successful NUMA node read from SysFS had negative value (-1), but there must be at least one NUMA node, so returning NUMA node zero\n",
      "2024-02-29 14:55:56.886795: I tensorflow/core/common_runtime/gpu/gpu_device.cc:1720] Found device 0 with properties: \n",
      "pciBusID: 0000:01:00.0 name: NVIDIA GeForce RTX 2060 SUPER computeCapability: 7.5\n",
      "coreClock: 1.65GHz coreCount: 34 deviceMemorySize: 7.78GiB deviceMemoryBandwidth: 417.29GiB/s\n",
      "2024-02-29 14:55:56.886829: I tensorflow/stream_executor/platform/default/dso_loader.cc:49] Successfully opened dynamic library libcudart.so.10.1\n",
      "2024-02-29 14:55:56.886863: I tensorflow/stream_executor/platform/default/dso_loader.cc:49] Successfully opened dynamic library libcublas.so.10\n",
      "2024-02-29 14:55:56.886880: I tensorflow/stream_executor/platform/default/dso_loader.cc:49] Successfully opened dynamic library libcublasLt.so.10\n",
      "2024-02-29 14:55:56.886895: I tensorflow/stream_executor/platform/default/dso_loader.cc:49] Successfully opened dynamic library libcufft.so.10\n",
      "2024-02-29 14:55:56.886918: I tensorflow/stream_executor/platform/default/dso_loader.cc:49] Successfully opened dynamic library libcurand.so.10\n",
      "2024-02-29 14:55:56.886935: I tensorflow/stream_executor/platform/default/dso_loader.cc:49] Successfully opened dynamic library libcusolver.so.10\n",
      "2024-02-29 14:55:56.886950: I tensorflow/stream_executor/platform/default/dso_loader.cc:49] Successfully opened dynamic library libcusparse.so.10\n",
      "2024-02-29 14:55:56.886966: I tensorflow/stream_executor/platform/default/dso_loader.cc:49] Successfully opened dynamic library libcudnn.so.7\n",
      "2024-02-29 14:55:56.887041: I tensorflow/stream_executor/cuda/cuda_gpu_executor.cc:941] successful NUMA node read from SysFS had negative value (-1), but there must be at least one NUMA node, so returning NUMA node zero\n",
      "2024-02-29 14:55:56.887188: I tensorflow/stream_executor/cuda/cuda_gpu_executor.cc:941] successful NUMA node read from SysFS had negative value (-1), but there must be at least one NUMA node, so returning NUMA node zero\n",
      "2024-02-29 14:55:56.887255: I tensorflow/core/common_runtime/gpu/gpu_device.cc:1862] Adding visible gpu devices: 0\n",
      "2024-02-29 14:55:56.887290: I tensorflow/stream_executor/platform/default/dso_loader.cc:49] Successfully opened dynamic library libcudart.so.10.1\n",
      "2024-02-29 14:55:57.271818: I tensorflow/core/common_runtime/gpu/gpu_device.cc:1261] Device interconnect StreamExecutor with strength 1 edge matrix:\n",
      "2024-02-29 14:55:57.271847: I tensorflow/core/common_runtime/gpu/gpu_device.cc:1267]      0 \n",
      "2024-02-29 14:55:57.271853: I tensorflow/core/common_runtime/gpu/gpu_device.cc:1280] 0:   N \n",
      "2024-02-29 14:55:57.272085: I tensorflow/stream_executor/cuda/cuda_gpu_executor.cc:941] successful NUMA node read from SysFS had negative value (-1), but there must be at least one NUMA node, so returning NUMA node zero\n",
      "2024-02-29 14:55:57.272320: I tensorflow/stream_executor/cuda/cuda_gpu_executor.cc:941] successful NUMA node read from SysFS had negative value (-1), but there must be at least one NUMA node, so returning NUMA node zero\n",
      "2024-02-29 14:55:57.272480: I tensorflow/stream_executor/cuda/cuda_gpu_executor.cc:941] successful NUMA node read from SysFS had negative value (-1), but there must be at least one NUMA node, so returning NUMA node zero\n",
      "2024-02-29 14:55:57.272606: I tensorflow/core/common_runtime/gpu/gpu_device.cc:1406] Created TensorFlow device (/job:localhost/replica:0/task:0/device:GPU:0 with 6871 MB memory) -> physical GPU (device: 0, name: NVIDIA GeForce RTX 2060 SUPER, pci bus id: 0000:01:00.0, compute capability: 7.5)\n"
     ]
    }
   ],
   "source": [
    "# Building the DNN model\n",
    "model = Sequential([\n",
    "    Dense(128, activation='relu', input_shape=(X_train.shape[1],), name='dense_0'),\n",
    "    Dense(64, activation='relu', name='dense_1'),\n",
    "    Dense(3, activation='relu', name='dense_2'),\n",
    "    # Dense(3, activation='relu', name='dense_3'),\n",
    "    Dense(num_classes, activation='softmax')  # Output layer\n",
    "])"
   ],
   "metadata": {
    "collapsed": false,
    "ExecuteTime": {
     "end_time": "2024-02-29T14:55:57.416367Z",
     "start_time": "2024-02-29T14:55:56.879688Z"
    }
   },
   "id": "1e58074cece23a2d",
   "execution_count": 6
  },
  {
   "cell_type": "code",
   "execution_count": 7,
   "outputs": [],
   "source": [
    "# Define the early stopping callback\n",
    "early_stopping = EarlyStopping(\n",
    "    monitor='val_loss',\n",
    "    min_delta=0.001,  # minimium amount of change to count as an improvement\n",
    "    patience=100,  # how many epochs to wait before stopping\n",
    "    verbose=1,\n",
    "    mode='min',\n",
    "    restore_best_weights=True\n",
    ")\n",
    "\n",
    "# Set the learning rate\n",
    "learning_rate = 0.01\n",
    "\n",
    "# Create the ReduceLROnPlateau callback\n",
    "reduce_lr = ReduceLROnPlateau(\n",
    "    monitor='val_loss',\n",
    "    factor=0.9,  # factor by which the learning rate will be reduced\n",
    "    patience=5,  # number of epochs with no improvement after which learning rate will be reduced\n",
    "    min_lr=0.00001,  # lower bound on the learning rate\n",
    "    verbose=1\n",
    ")\n",
    "lr_callback = tf.keras.callbacks.LearningRateScheduler(reduce_lr)\n",
    "\n",
    "class PrintLR(tf.keras.callbacks.Callback):\n",
    "    def __init__(self):\n",
    "        super().__init__()\n",
    "        self.learning_rates = []\n",
    "        \n",
    "    def on_epoch_begin(self, epoch, logs=None):\n",
    "        lr = self.model.optimizer.lr\n",
    "        if hasattr(lr, 'numpy'):\n",
    "            lr = lr.numpy()\n",
    "        elif hasattr(lr, 'eval'):\n",
    "            lr = lr.eval(session=tf.compat.v1.Session())\n",
    "        print(f'Epoch {epoch+1}: Learning rate is {lr}.')\n",
    "    \n",
    "    def on_epoch_end(self, epoch, logs=None):\n",
    "        # Retrieve the current learning rate from the optimizer\n",
    "        current_lr = tf.keras.backend.get_value(self.model.optimizer.lr)\n",
    "        # Append the current learning rate to the list\n",
    "        self.learning_rates.append(current_lr)\n",
    "\n",
    "lr_tracker = PrintLR()\n",
    "callbacks = [lr_tracker, early_stopping, reduce_lr]\n",
    "\n",
    "\n",
    "# Initialize the optimizer with the learning rate\n",
    "optimizer = Adam(learning_rate=learning_rate)\n",
    "\n",
    "# Compiling the model\n",
    "model.compile(optimizer=optimizer,\n",
    "              loss='categorical_crossentropy',\n",
    "              metrics=['accuracy'])"
   ],
   "metadata": {
    "collapsed": false,
    "ExecuteTime": {
     "end_time": "2024-02-29T14:55:59.677573Z",
     "start_time": "2024-02-29T14:55:59.667461Z"
    }
   },
   "id": "111da32ccd0d31d1"
  },
  {
   "cell_type": "code",
   "execution_count": 8,
   "outputs": [
    {
     "name": "stderr",
     "output_type": "stream",
     "text": [
      "2024-02-29 14:56:02.060374: I tensorflow/compiler/mlir/mlir_graph_optimization_pass.cc:116] None of the MLIR optimization passes are enabled (registered 2)\n",
      "2024-02-29 14:56:02.060631: I tensorflow/core/platform/profile_utils/cpu_utils.cc:112] CPU Frequency: 2899885000 Hz\n"
     ]
    },
    {
     "name": "stdout",
     "output_type": "stream",
     "text": [
      "Epoch 1/1000\n",
      "Epoch 1: Learning rate is 0.009999999776482582.\n",
      " 1/37 [..............................] - ETA: 13s - loss: 1.1514 - accuracy: 0.3125"
     ]
    },
    {
     "name": "stderr",
     "output_type": "stream",
     "text": [
      "2024-02-29 14:56:02.285048: I tensorflow/stream_executor/platform/default/dso_loader.cc:49] Successfully opened dynamic library libcublas.so.10\n"
     ]
    },
    {
     "name": "stdout",
     "output_type": "stream",
     "text": [
      "37/37 [==============================] - 1s 9ms/step - loss: 0.9989 - accuracy: 0.5216 - val_loss: 0.6534 - val_accuracy: 0.8163\n",
      "Epoch 2/1000\n",
      "Epoch 2: Learning rate is 0.009999999776482582.\n",
      "37/37 [==============================] - 0s 2ms/step - loss: 0.5804 - accuracy: 0.8563 - val_loss: 0.5263 - val_accuracy: 0.8265\n",
      "Epoch 3/1000\n",
      "Epoch 3: Learning rate is 0.009999999776482582.\n",
      "37/37 [==============================] - 0s 2ms/step - loss: 0.4875 - accuracy: 0.8453 - val_loss: 0.4615 - val_accuracy: 0.8129\n",
      "Epoch 4/1000\n",
      "Epoch 4: Learning rate is 0.009999999776482582.\n",
      "37/37 [==============================] - 0s 2ms/step - loss: 0.3958 - accuracy: 0.8718 - val_loss: 0.4066 - val_accuracy: 0.8537\n",
      "Epoch 5/1000\n",
      "Epoch 5: Learning rate is 0.009999999776482582.\n",
      "37/37 [==============================] - 0s 2ms/step - loss: 0.3492 - accuracy: 0.8772 - val_loss: 0.4233 - val_accuracy: 0.8231\n",
      "Epoch 6/1000\n",
      "Epoch 6: Learning rate is 0.009999999776482582.\n",
      "37/37 [==============================] - 0s 2ms/step - loss: 0.3500 - accuracy: 0.8753 - val_loss: 0.3690 - val_accuracy: 0.8537\n",
      "Epoch 7/1000\n",
      "Epoch 7: Learning rate is 0.009999999776482582.\n",
      "37/37 [==============================] - 0s 2ms/step - loss: 0.2828 - accuracy: 0.8999 - val_loss: 0.3787 - val_accuracy: 0.8503\n",
      "Epoch 8/1000\n",
      "Epoch 8: Learning rate is 0.009999999776482582.\n",
      "37/37 [==============================] - 0s 2ms/step - loss: 0.2890 - accuracy: 0.9001 - val_loss: 0.3350 - val_accuracy: 0.8776\n",
      "Epoch 9/1000\n",
      "Epoch 9: Learning rate is 0.009999999776482582.\n",
      "37/37 [==============================] - 0s 2ms/step - loss: 0.2530 - accuracy: 0.9059 - val_loss: 0.3580 - val_accuracy: 0.8435\n",
      "Epoch 10/1000\n",
      "Epoch 10: Learning rate is 0.009999999776482582.\n",
      "37/37 [==============================] - 0s 2ms/step - loss: 0.2778 - accuracy: 0.8893 - val_loss: 0.3630 - val_accuracy: 0.8776\n",
      "Epoch 11/1000\n",
      "Epoch 11: Learning rate is 0.009999999776482582.\n",
      "37/37 [==============================] - 0s 2ms/step - loss: 0.2574 - accuracy: 0.9098 - val_loss: 0.3234 - val_accuracy: 0.8741\n",
      "Epoch 12/1000\n",
      "Epoch 12: Learning rate is 0.009999999776482582.\n",
      "37/37 [==============================] - 0s 2ms/step - loss: 0.2865 - accuracy: 0.8959 - val_loss: 0.3478 - val_accuracy: 0.8673\n",
      "Epoch 13/1000\n",
      "Epoch 13: Learning rate is 0.009999999776482582.\n",
      "37/37 [==============================] - 0s 2ms/step - loss: 0.2858 - accuracy: 0.8958 - val_loss: 0.3616 - val_accuracy: 0.8673\n",
      "Epoch 14/1000\n",
      "Epoch 14: Learning rate is 0.009999999776482582.\n",
      "37/37 [==============================] - 0s 2ms/step - loss: 0.2662 - accuracy: 0.9167 - val_loss: 0.3816 - val_accuracy: 0.8503\n",
      "Epoch 15/1000\n",
      "Epoch 15: Learning rate is 0.009999999776482582.\n",
      "37/37 [==============================] - 0s 2ms/step - loss: 0.2467 - accuracy: 0.9079 - val_loss: 0.3821 - val_accuracy: 0.8639\n",
      "Epoch 16/1000\n",
      "Epoch 16: Learning rate is 0.009999999776482582.\n",
      "37/37 [==============================] - 0s 2ms/step - loss: 0.2162 - accuracy: 0.9218 - val_loss: 0.3359 - val_accuracy: 0.8707\n",
      "\n",
      "Epoch 00016: ReduceLROnPlateau reducing learning rate to 0.008999999798834325.\n",
      "Epoch 17/1000\n",
      "Epoch 17: Learning rate is 0.008999999612569809.\n",
      "37/37 [==============================] - 0s 2ms/step - loss: 0.2244 - accuracy: 0.9145 - val_loss: 0.3507 - val_accuracy: 0.8639\n",
      "Epoch 18/1000\n",
      "Epoch 18: Learning rate is 0.008999999612569809.\n",
      "37/37 [==============================] - 0s 2ms/step - loss: 0.2000 - accuracy: 0.9261 - val_loss: 0.3186 - val_accuracy: 0.8810\n",
      "Epoch 19/1000\n",
      "Epoch 19: Learning rate is 0.008999999612569809.\n",
      "37/37 [==============================] - 0s 2ms/step - loss: 0.2226 - accuracy: 0.9287 - val_loss: 0.3368 - val_accuracy: 0.8878\n",
      "Epoch 20/1000\n",
      "Epoch 20: Learning rate is 0.008999999612569809.\n",
      "37/37 [==============================] - 0s 2ms/step - loss: 0.1904 - accuracy: 0.9302 - val_loss: 0.3075 - val_accuracy: 0.8810\n",
      "Epoch 21/1000\n",
      "Epoch 21: Learning rate is 0.008999999612569809.\n",
      "37/37 [==============================] - 0s 2ms/step - loss: 0.1963 - accuracy: 0.9241 - val_loss: 0.3350 - val_accuracy: 0.8741\n",
      "Epoch 22/1000\n",
      "Epoch 22: Learning rate is 0.008999999612569809.\n",
      "37/37 [==============================] - 0s 2ms/step - loss: 0.2003 - accuracy: 0.9267 - val_loss: 0.3357 - val_accuracy: 0.8776\n",
      "Epoch 23/1000\n",
      "Epoch 23: Learning rate is 0.008999999612569809.\n",
      "37/37 [==============================] - 0s 2ms/step - loss: 0.2130 - accuracy: 0.9281 - val_loss: 0.2870 - val_accuracy: 0.8946\n",
      "Epoch 24/1000\n",
      "Epoch 24: Learning rate is 0.008999999612569809.\n",
      "37/37 [==============================] - 0s 2ms/step - loss: 0.1741 - accuracy: 0.9457 - val_loss: 0.3364 - val_accuracy: 0.8707\n",
      "Epoch 25/1000\n",
      "Epoch 25: Learning rate is 0.008999999612569809.\n",
      "37/37 [==============================] - 0s 2ms/step - loss: 0.1768 - accuracy: 0.9406 - val_loss: 0.3458 - val_accuracy: 0.8844\n",
      "Epoch 26/1000\n",
      "Epoch 26: Learning rate is 0.008999999612569809.\n",
      "37/37 [==============================] - 0s 2ms/step - loss: 0.1913 - accuracy: 0.9406 - val_loss: 0.3234 - val_accuracy: 0.8946\n",
      "Epoch 27/1000\n",
      "Epoch 27: Learning rate is 0.008999999612569809.\n",
      "37/37 [==============================] - 0s 2ms/step - loss: 0.1794 - accuracy: 0.9467 - val_loss: 0.3711 - val_accuracy: 0.9048\n",
      "Epoch 28/1000\n",
      "Epoch 28: Learning rate is 0.008999999612569809.\n",
      "37/37 [==============================] - 0s 2ms/step - loss: 0.1558 - accuracy: 0.9466 - val_loss: 0.3441 - val_accuracy: 0.8946\n",
      "\n",
      "Epoch 00028: ReduceLROnPlateau reducing learning rate to 0.008099999651312828.\n",
      "Epoch 29/1000\n",
      "Epoch 29: Learning rate is 0.008099999278783798.\n",
      "37/37 [==============================] - 0s 2ms/step - loss: 0.1459 - accuracy: 0.9490 - val_loss: 0.3539 - val_accuracy: 0.8878\n",
      "Epoch 30/1000\n",
      "Epoch 30: Learning rate is 0.008099999278783798.\n",
      "37/37 [==============================] - 0s 2ms/step - loss: 0.1705 - accuracy: 0.9417 - val_loss: 0.3914 - val_accuracy: 0.8810\n",
      "Epoch 31/1000\n",
      "Epoch 31: Learning rate is 0.008099999278783798.\n",
      "37/37 [==============================] - 0s 2ms/step - loss: 0.1600 - accuracy: 0.9333 - val_loss: 0.3332 - val_accuracy: 0.8810\n",
      "Epoch 32/1000\n",
      "Epoch 32: Learning rate is 0.008099999278783798.\n",
      "37/37 [==============================] - 0s 2ms/step - loss: 0.1452 - accuracy: 0.9551 - val_loss: 0.3553 - val_accuracy: 0.8980\n",
      "Epoch 33/1000\n",
      "Epoch 33: Learning rate is 0.008099999278783798.\n",
      "37/37 [==============================] - 0s 2ms/step - loss: 0.2173 - accuracy: 0.9154 - val_loss: 0.3578 - val_accuracy: 0.8741\n",
      "\n",
      "Epoch 00033: ReduceLROnPlateau reducing learning rate to 0.007289999350905419.\n",
      "Epoch 34/1000\n",
      "Epoch 34: Learning rate is 0.0072899991646409035.\n",
      "37/37 [==============================] - 0s 2ms/step - loss: 0.1471 - accuracy: 0.9449 - val_loss: 0.3062 - val_accuracy: 0.8980\n",
      "Epoch 35/1000\n",
      "Epoch 35: Learning rate is 0.0072899991646409035.\n",
      "37/37 [==============================] - 0s 2ms/step - loss: 0.1450 - accuracy: 0.9498 - val_loss: 0.3160 - val_accuracy: 0.9014\n",
      "Epoch 36/1000\n",
      "Epoch 36: Learning rate is 0.0072899991646409035.\n",
      "37/37 [==============================] - 0s 2ms/step - loss: 0.1766 - accuracy: 0.9344 - val_loss: 0.3077 - val_accuracy: 0.9014\n",
      "Epoch 37/1000\n",
      "Epoch 37: Learning rate is 0.0072899991646409035.\n",
      "37/37 [==============================] - 0s 2ms/step - loss: 0.1264 - accuracy: 0.9637 - val_loss: 0.3512 - val_accuracy: 0.8980\n",
      "Epoch 38/1000\n",
      "Epoch 38: Learning rate is 0.0072899991646409035.\n",
      "37/37 [==============================] - 0s 2ms/step - loss: 0.1447 - accuracy: 0.9451 - val_loss: 0.3347 - val_accuracy: 0.8980\n",
      "\n",
      "Epoch 00038: ReduceLROnPlateau reducing learning rate to 0.006560999248176813.\n",
      "Epoch 39/1000\n",
      "Epoch 39: Learning rate is 0.006560999434441328.\n",
      "37/37 [==============================] - 0s 2ms/step - loss: 0.1607 - accuracy: 0.9390 - val_loss: 0.3655 - val_accuracy: 0.8912\n",
      "Epoch 40/1000\n",
      "Epoch 40: Learning rate is 0.006560999434441328.\n",
      "37/37 [==============================] - 0s 2ms/step - loss: 0.1193 - accuracy: 0.9612 - val_loss: 0.4265 - val_accuracy: 0.8810\n",
      "Epoch 41/1000\n",
      "Epoch 41: Learning rate is 0.006560999434441328.\n",
      "37/37 [==============================] - 0s 2ms/step - loss: 0.1430 - accuracy: 0.9469 - val_loss: 0.3578 - val_accuracy: 0.9014\n",
      "Epoch 42/1000\n",
      "Epoch 42: Learning rate is 0.006560999434441328.\n",
      "37/37 [==============================] - 0s 2ms/step - loss: 0.1350 - accuracy: 0.9515 - val_loss: 0.4173 - val_accuracy: 0.8844\n",
      "Epoch 43/1000\n",
      "Epoch 43: Learning rate is 0.006560999434441328.\n",
      "37/37 [==============================] - 0s 2ms/step - loss: 0.1222 - accuracy: 0.9598 - val_loss: 0.5310 - val_accuracy: 0.8878\n",
      "\n",
      "Epoch 00043: ReduceLROnPlateau reducing learning rate to 0.005904899490997195.\n",
      "Epoch 44/1000\n",
      "Epoch 44: Learning rate is 0.0059048994444310665.\n",
      "37/37 [==============================] - 0s 2ms/step - loss: 0.1568 - accuracy: 0.9512 - val_loss: 0.3728 - val_accuracy: 0.9048\n",
      "Epoch 45/1000\n",
      "Epoch 45: Learning rate is 0.0059048994444310665.\n",
      "37/37 [==============================] - 0s 2ms/step - loss: 0.1345 - accuracy: 0.9677 - val_loss: 0.3998 - val_accuracy: 0.9014\n",
      "Epoch 46/1000\n",
      "Epoch 46: Learning rate is 0.0059048994444310665.\n",
      "37/37 [==============================] - 0s 2ms/step - loss: 0.1033 - accuracy: 0.9726 - val_loss: 0.4604 - val_accuracy: 0.8810\n",
      "Epoch 47/1000\n",
      "Epoch 47: Learning rate is 0.0059048994444310665.\n",
      "37/37 [==============================] - 0s 2ms/step - loss: 0.1180 - accuracy: 0.9646 - val_loss: 0.4039 - val_accuracy: 0.9116\n",
      "Epoch 48/1000\n",
      "Epoch 48: Learning rate is 0.0059048994444310665.\n",
      "37/37 [==============================] - 0s 2ms/step - loss: 0.1112 - accuracy: 0.9664 - val_loss: 0.4208 - val_accuracy: 0.8912\n",
      "\n",
      "Epoch 00048: ReduceLROnPlateau reducing learning rate to 0.00531440949998796.\n",
      "Epoch 49/1000\n",
      "Epoch 49: Learning rate is 0.0053144097328186035.\n",
      "37/37 [==============================] - 0s 2ms/step - loss: 0.1218 - accuracy: 0.9659 - val_loss: 0.4044 - val_accuracy: 0.8912\n",
      "Epoch 50/1000\n",
      "Epoch 50: Learning rate is 0.0053144097328186035.\n",
      "37/37 [==============================] - 0s 2ms/step - loss: 0.0970 - accuracy: 0.9698 - val_loss: 0.4786 - val_accuracy: 0.8980\n",
      "Epoch 51/1000\n",
      "Epoch 51: Learning rate is 0.0053144097328186035.\n",
      "37/37 [==============================] - 0s 2ms/step - loss: 0.1364 - accuracy: 0.9538 - val_loss: 0.4298 - val_accuracy: 0.8980\n",
      "Epoch 52/1000\n",
      "Epoch 52: Learning rate is 0.0053144097328186035.\n",
      "37/37 [==============================] - 0s 2ms/step - loss: 0.1117 - accuracy: 0.9632 - val_loss: 0.4509 - val_accuracy: 0.9082\n",
      "Epoch 53/1000\n",
      "Epoch 53: Learning rate is 0.0053144097328186035.\n",
      "37/37 [==============================] - 0s 2ms/step - loss: 0.1268 - accuracy: 0.9625 - val_loss: 0.4772 - val_accuracy: 0.9048\n",
      "\n",
      "Epoch 00053: ReduceLROnPlateau reducing learning rate to 0.004782968759536744.\n",
      "Epoch 54/1000\n",
      "Epoch 54: Learning rate is 0.004782968666404486.\n",
      "37/37 [==============================] - 0s 2ms/step - loss: 0.1026 - accuracy: 0.9668 - val_loss: 0.4781 - val_accuracy: 0.9014\n",
      "Epoch 55/1000\n",
      "Epoch 55: Learning rate is 0.004782968666404486.\n",
      "37/37 [==============================] - 0s 2ms/step - loss: 0.0892 - accuracy: 0.9696 - val_loss: 0.4693 - val_accuracy: 0.9014\n",
      "Epoch 56/1000\n",
      "Epoch 56: Learning rate is 0.004782968666404486.\n",
      "37/37 [==============================] - 0s 2ms/step - loss: 0.1016 - accuracy: 0.9771 - val_loss: 0.4852 - val_accuracy: 0.9048\n",
      "Epoch 57/1000\n",
      "Epoch 57: Learning rate is 0.004782968666404486.\n",
      "37/37 [==============================] - 0s 2ms/step - loss: 0.0793 - accuracy: 0.9799 - val_loss: 0.5078 - val_accuracy: 0.9048\n",
      "Epoch 58/1000\n",
      "Epoch 58: Learning rate is 0.004782968666404486.\n",
      "37/37 [==============================] - 0s 2ms/step - loss: 0.1243 - accuracy: 0.9586 - val_loss: 0.5178 - val_accuracy: 0.8980\n",
      "\n",
      "Epoch 00058: ReduceLROnPlateau reducing learning rate to 0.0043046717997640375.\n",
      "Epoch 59/1000\n",
      "Epoch 59: Learning rate is 0.004304671660065651.\n",
      "37/37 [==============================] - 0s 2ms/step - loss: 0.0849 - accuracy: 0.9721 - val_loss: 0.5151 - val_accuracy: 0.9014\n",
      "Epoch 60/1000\n",
      "Epoch 60: Learning rate is 0.004304671660065651.\n",
      "37/37 [==============================] - 0s 2ms/step - loss: 0.0951 - accuracy: 0.9702 - val_loss: 0.5523 - val_accuracy: 0.9014\n",
      "Epoch 61/1000\n",
      "Epoch 61: Learning rate is 0.004304671660065651.\n",
      "37/37 [==============================] - 0s 2ms/step - loss: 0.1281 - accuracy: 0.9617 - val_loss: 0.5226 - val_accuracy: 0.9048\n",
      "Epoch 62/1000\n",
      "Epoch 62: Learning rate is 0.004304671660065651.\n",
      "37/37 [==============================] - 0s 2ms/step - loss: 0.1033 - accuracy: 0.9689 - val_loss: 0.4994 - val_accuracy: 0.9048\n",
      "Epoch 63/1000\n",
      "Epoch 63: Learning rate is 0.004304671660065651.\n",
      "37/37 [==============================] - 0s 2ms/step - loss: 0.0973 - accuracy: 0.9723 - val_loss: 0.5459 - val_accuracy: 0.9048\n",
      "\n",
      "Epoch 00063: ReduceLROnPlateau reducing learning rate to 0.0038742044940590858.\n",
      "Epoch 64/1000\n",
      "Epoch 64: Learning rate is 0.0038742045871913433.\n",
      "37/37 [==============================] - 0s 2ms/step - loss: 0.0883 - accuracy: 0.9773 - val_loss: 0.5198 - val_accuracy: 0.8946\n",
      "Epoch 65/1000\n",
      "Epoch 65: Learning rate is 0.0038742045871913433.\n",
      "37/37 [==============================] - 0s 2ms/step - loss: 0.0846 - accuracy: 0.9743 - val_loss: 0.5854 - val_accuracy: 0.9014\n",
      "Epoch 66/1000\n",
      "Epoch 66: Learning rate is 0.0038742045871913433.\n",
      "37/37 [==============================] - 0s 2ms/step - loss: 0.0913 - accuracy: 0.9727 - val_loss: 0.5245 - val_accuracy: 0.8946\n",
      "Epoch 67/1000\n",
      "Epoch 67: Learning rate is 0.0038742045871913433.\n",
      "37/37 [==============================] - 0s 2ms/step - loss: 0.0968 - accuracy: 0.9728 - val_loss: 0.5260 - val_accuracy: 0.9116\n",
      "Epoch 68/1000\n",
      "Epoch 68: Learning rate is 0.0038742045871913433.\n",
      "37/37 [==============================] - 0s 2ms/step - loss: 0.0986 - accuracy: 0.9735 - val_loss: 0.5907 - val_accuracy: 0.9048\n",
      "\n",
      "Epoch 00068: ReduceLROnPlateau reducing learning rate to 0.003486784128472209.\n",
      "Epoch 69/1000\n",
      "Epoch 69: Learning rate is 0.0034867841750383377.\n",
      "37/37 [==============================] - 0s 2ms/step - loss: 0.0997 - accuracy: 0.9720 - val_loss: 0.5664 - val_accuracy: 0.9014\n",
      "Epoch 70/1000\n",
      "Epoch 70: Learning rate is 0.0034867841750383377.\n",
      "37/37 [==============================] - 0s 2ms/step - loss: 0.0750 - accuracy: 0.9758 - val_loss: 0.5798 - val_accuracy: 0.8980\n",
      "Epoch 71/1000\n",
      "Epoch 71: Learning rate is 0.0034867841750383377.\n",
      "37/37 [==============================] - 0s 2ms/step - loss: 0.0918 - accuracy: 0.9748 - val_loss: 0.6033 - val_accuracy: 0.9014\n",
      "Epoch 72/1000\n",
      "Epoch 72: Learning rate is 0.0034867841750383377.\n",
      "37/37 [==============================] - 0s 2ms/step - loss: 0.0748 - accuracy: 0.9757 - val_loss: 0.5997 - val_accuracy: 0.9014\n",
      "Epoch 73/1000\n",
      "Epoch 73: Learning rate is 0.0034867841750383377.\n",
      "37/37 [==============================] - 0s 2ms/step - loss: 0.1016 - accuracy: 0.9742 - val_loss: 0.6048 - val_accuracy: 0.9082\n",
      "\n",
      "Epoch 00073: ReduceLROnPlateau reducing learning rate to 0.003138105757534504.\n",
      "Epoch 74/1000\n",
      "Epoch 74: Learning rate is 0.0031381058506667614.\n",
      "37/37 [==============================] - 0s 2ms/step - loss: 0.0691 - accuracy: 0.9798 - val_loss: 0.5625 - val_accuracy: 0.8980\n",
      "Epoch 75/1000\n",
      "Epoch 75: Learning rate is 0.0031381058506667614.\n",
      "37/37 [==============================] - 0s 2ms/step - loss: 0.0840 - accuracy: 0.9769 - val_loss: 0.5740 - val_accuracy: 0.9048\n",
      "Epoch 76/1000\n",
      "Epoch 76: Learning rate is 0.0031381058506667614.\n",
      "37/37 [==============================] - 0s 2ms/step - loss: 0.0858 - accuracy: 0.9738 - val_loss: 0.6142 - val_accuracy: 0.9048\n",
      "Epoch 77/1000\n",
      "Epoch 77: Learning rate is 0.0031381058506667614.\n",
      "37/37 [==============================] - 0s 2ms/step - loss: 0.0759 - accuracy: 0.9774 - val_loss: 0.6144 - val_accuracy: 0.9082\n",
      "Epoch 78/1000\n",
      "Epoch 78: Learning rate is 0.0031381058506667614.\n",
      "37/37 [==============================] - 0s 2ms/step - loss: 0.0647 - accuracy: 0.9854 - val_loss: 0.5995 - val_accuracy: 0.9082\n",
      "\n",
      "Epoch 00078: ReduceLROnPlateau reducing learning rate to 0.0028242952656000854.\n",
      "Epoch 79/1000\n",
      "Epoch 79: Learning rate is 0.002824295312166214.\n",
      "37/37 [==============================] - 0s 2ms/step - loss: 0.0966 - accuracy: 0.9729 - val_loss: 0.6482 - val_accuracy: 0.9014\n",
      "Epoch 80/1000\n",
      "Epoch 80: Learning rate is 0.002824295312166214.\n",
      "37/37 [==============================] - 0s 2ms/step - loss: 0.0709 - accuracy: 0.9762 - val_loss: 0.6285 - val_accuracy: 0.9048\n",
      "Epoch 81/1000\n",
      "Epoch 81: Learning rate is 0.002824295312166214.\n",
      "37/37 [==============================] - 0s 2ms/step - loss: 0.0898 - accuracy: 0.9749 - val_loss: 0.6245 - val_accuracy: 0.9048\n",
      "Epoch 82/1000\n",
      "Epoch 82: Learning rate is 0.002824295312166214.\n",
      "37/37 [==============================] - 0s 2ms/step - loss: 0.0596 - accuracy: 0.9803 - val_loss: 0.6424 - val_accuracy: 0.9116\n",
      "Epoch 83/1000\n",
      "Epoch 83: Learning rate is 0.002824295312166214.\n",
      "37/37 [==============================] - 0s 2ms/step - loss: 0.0763 - accuracy: 0.9764 - val_loss: 0.6560 - val_accuracy: 0.9150\n",
      "\n",
      "Epoch 00083: ReduceLROnPlateau reducing learning rate to 0.0025418657809495927.\n",
      "Epoch 84/1000\n",
      "Epoch 84: Learning rate is 0.002541865687817335.\n",
      "37/37 [==============================] - 0s 2ms/step - loss: 0.0581 - accuracy: 0.9830 - val_loss: 0.6475 - val_accuracy: 0.9014\n",
      "Epoch 85/1000\n",
      "Epoch 85: Learning rate is 0.002541865687817335.\n",
      "37/37 [==============================] - 0s 2ms/step - loss: 0.0700 - accuracy: 0.9819 - val_loss: 0.7095 - val_accuracy: 0.8912\n",
      "Epoch 86/1000\n",
      "Epoch 86: Learning rate is 0.002541865687817335.\n",
      "37/37 [==============================] - 0s 2ms/step - loss: 0.0837 - accuracy: 0.9782 - val_loss: 0.7005 - val_accuracy: 0.9014\n",
      "Epoch 87/1000\n",
      "Epoch 87: Learning rate is 0.002541865687817335.\n",
      "37/37 [==============================] - 0s 2ms/step - loss: 0.0861 - accuracy: 0.9784 - val_loss: 0.6854 - val_accuracy: 0.8946\n",
      "Epoch 88/1000\n",
      "Epoch 88: Learning rate is 0.002541865687817335.\n",
      "37/37 [==============================] - 0s 2ms/step - loss: 0.0659 - accuracy: 0.9826 - val_loss: 0.7009 - val_accuracy: 0.9048\n",
      "\n",
      "Epoch 00088: ReduceLROnPlateau reducing learning rate to 0.0022876791190356016.\n",
      "Epoch 89/1000\n",
      "Epoch 89: Learning rate is 0.0022876791190356016.\n",
      "37/37 [==============================] - 0s 2ms/step - loss: 0.0685 - accuracy: 0.9832 - val_loss: 0.6934 - val_accuracy: 0.9116\n",
      "Epoch 90/1000\n",
      "Epoch 90: Learning rate is 0.0022876791190356016.\n",
      "37/37 [==============================] - 0s 2ms/step - loss: 0.0703 - accuracy: 0.9792 - val_loss: 0.7070 - val_accuracy: 0.9082\n",
      "Epoch 91/1000\n",
      "Epoch 91: Learning rate is 0.0022876791190356016.\n",
      "37/37 [==============================] - 0s 2ms/step - loss: 0.0799 - accuracy: 0.9758 - val_loss: 0.7681 - val_accuracy: 0.8946\n",
      "Epoch 92/1000\n",
      "Epoch 92: Learning rate is 0.0022876791190356016.\n",
      "37/37 [==============================] - 0s 2ms/step - loss: 0.0910 - accuracy: 0.9756 - val_loss: 0.7301 - val_accuracy: 0.9014\n",
      "Epoch 93/1000\n",
      "Epoch 93: Learning rate is 0.0022876791190356016.\n",
      "37/37 [==============================] - 0s 2ms/step - loss: 0.0577 - accuracy: 0.9877 - val_loss: 0.7356 - val_accuracy: 0.9116\n",
      "\n",
      "Epoch 00093: ReduceLROnPlateau reducing learning rate to 0.0020589112071320416.\n",
      "Epoch 94/1000\n",
      "Epoch 94: Learning rate is 0.0020589111372828484.\n",
      "37/37 [==============================] - 0s 2ms/step - loss: 0.0614 - accuracy: 0.9789 - val_loss: 0.7448 - val_accuracy: 0.9082\n",
      "Epoch 95/1000\n",
      "Epoch 95: Learning rate is 0.0020589111372828484.\n",
      "37/37 [==============================] - 0s 2ms/step - loss: 0.0751 - accuracy: 0.9804 - val_loss: 0.7602 - val_accuracy: 0.9150\n",
      "Epoch 96/1000\n",
      "Epoch 96: Learning rate is 0.0020589111372828484.\n",
      "37/37 [==============================] - 0s 2ms/step - loss: 0.0600 - accuracy: 0.9851 - val_loss: 0.7520 - val_accuracy: 0.9048\n",
      "Epoch 97/1000\n",
      "Epoch 97: Learning rate is 0.0020589111372828484.\n",
      "37/37 [==============================] - 0s 2ms/step - loss: 0.0911 - accuracy: 0.9764 - val_loss: 0.7670 - val_accuracy: 0.9082\n",
      "Epoch 98/1000\n",
      "Epoch 98: Learning rate is 0.0020589111372828484.\n",
      "37/37 [==============================] - 0s 2ms/step - loss: 0.0708 - accuracy: 0.9784 - val_loss: 0.7754 - val_accuracy: 0.9150\n",
      "\n",
      "Epoch 00098: ReduceLROnPlateau reducing learning rate to 0.0018530200235545636.\n",
      "Epoch 99/1000\n",
      "Epoch 99: Learning rate is 0.0018530200468376279.\n",
      "37/37 [==============================] - 0s 2ms/step - loss: 0.0604 - accuracy: 0.9821 - val_loss: 0.7889 - val_accuracy: 0.9082\n",
      "Epoch 100/1000\n",
      "Epoch 100: Learning rate is 0.0018530200468376279.\n",
      "37/37 [==============================] - 0s 2ms/step - loss: 0.0611 - accuracy: 0.9859 - val_loss: 0.7662 - val_accuracy: 0.9048\n",
      "Epoch 101/1000\n",
      "Epoch 101: Learning rate is 0.0018530200468376279.\n",
      "37/37 [==============================] - 0s 2ms/step - loss: 0.0633 - accuracy: 0.9835 - val_loss: 0.7969 - val_accuracy: 0.8980\n",
      "Epoch 102/1000\n",
      "Epoch 102: Learning rate is 0.0018530200468376279.\n",
      "37/37 [==============================] - 0s 2ms/step - loss: 0.0539 - accuracy: 0.9837 - val_loss: 0.7989 - val_accuracy: 0.9048\n",
      "Epoch 103/1000\n",
      "Epoch 103: Learning rate is 0.0018530200468376279.\n",
      "37/37 [==============================] - 0s 2ms/step - loss: 0.0495 - accuracy: 0.9900 - val_loss: 0.7913 - val_accuracy: 0.9014\n",
      "\n",
      "Epoch 00103: ReduceLROnPlateau reducing learning rate to 0.0016677180421538651.\n",
      "Epoch 104/1000\n",
      "Epoch 104: Learning rate is 0.0016677180537953973.\n",
      "37/37 [==============================] - 0s 2ms/step - loss: 0.0721 - accuracy: 0.9837 - val_loss: 0.8171 - val_accuracy: 0.9082\n",
      "Epoch 105/1000\n",
      "Epoch 105: Learning rate is 0.0016677180537953973.\n",
      "37/37 [==============================] - 0s 2ms/step - loss: 0.0590 - accuracy: 0.9867 - val_loss: 0.7996 - val_accuracy: 0.9082\n",
      "Epoch 106/1000\n",
      "Epoch 106: Learning rate is 0.0016677180537953973.\n",
      "37/37 [==============================] - 0s 2ms/step - loss: 0.0712 - accuracy: 0.9824 - val_loss: 0.8062 - val_accuracy: 0.9082\n",
      "Epoch 107/1000\n",
      "Epoch 107: Learning rate is 0.0016677180537953973.\n",
      "37/37 [==============================] - 0s 2ms/step - loss: 0.0516 - accuracy: 0.9857 - val_loss: 0.8306 - val_accuracy: 0.9150\n",
      "Epoch 108/1000\n",
      "Epoch 108: Learning rate is 0.0016677180537953973.\n",
      "37/37 [==============================] - 0s 2ms/step - loss: 0.0608 - accuracy: 0.9868 - val_loss: 0.8377 - val_accuracy: 0.9082\n",
      "\n",
      "Epoch 00108: ReduceLROnPlateau reducing learning rate to 0.0015009462484158575.\n",
      "Epoch 109/1000\n",
      "Epoch 109: Learning rate is 0.0015009462367743254.\n",
      "37/37 [==============================] - 0s 2ms/step - loss: 0.0810 - accuracy: 0.9782 - val_loss: 0.8454 - val_accuracy: 0.9116\n",
      "Epoch 110/1000\n",
      "Epoch 110: Learning rate is 0.0015009462367743254.\n",
      "37/37 [==============================] - 0s 2ms/step - loss: 0.0552 - accuracy: 0.9889 - val_loss: 1.0236 - val_accuracy: 0.8980\n",
      "Epoch 111/1000\n",
      "Epoch 111: Learning rate is 0.0015009462367743254.\n",
      "37/37 [==============================] - 0s 2ms/step - loss: 0.0780 - accuracy: 0.9862 - val_loss: 0.7368 - val_accuracy: 0.9116\n",
      "Epoch 112/1000\n",
      "Epoch 112: Learning rate is 0.0015009462367743254.\n",
      "37/37 [==============================] - 0s 2ms/step - loss: 0.0650 - accuracy: 0.9867 - val_loss: 0.6967 - val_accuracy: 0.9150\n",
      "Epoch 113/1000\n",
      "Epoch 113: Learning rate is 0.0015009462367743254.\n",
      "37/37 [==============================] - 0s 2ms/step - loss: 0.0695 - accuracy: 0.9818 - val_loss: 0.6681 - val_accuracy: 0.9150\n",
      "\n",
      "Epoch 00113: ReduceLROnPlateau reducing learning rate to 0.0013508516130968928.\n",
      "Epoch 114/1000\n",
      "Epoch 114: Learning rate is 0.0013508516130968928.\n",
      "37/37 [==============================] - 0s 2ms/step - loss: 0.0556 - accuracy: 0.9866 - val_loss: 0.6721 - val_accuracy: 0.9014\n",
      "Epoch 115/1000\n",
      "Epoch 115: Learning rate is 0.0013508516130968928.\n",
      "37/37 [==============================] - 0s 2ms/step - loss: 0.0537 - accuracy: 0.9845 - val_loss: 0.6663 - val_accuracy: 0.9048\n",
      "Epoch 116/1000\n",
      "Epoch 116: Learning rate is 0.0013508516130968928.\n",
      "37/37 [==============================] - 0s 2ms/step - loss: 0.0673 - accuracy: 0.9878 - val_loss: 0.6822 - val_accuracy: 0.9048\n",
      "Epoch 117/1000\n",
      "Epoch 117: Learning rate is 0.0013508516130968928.\n",
      "37/37 [==============================] - 0s 2ms/step - loss: 0.0736 - accuracy: 0.9833 - val_loss: 0.6913 - val_accuracy: 0.9116\n",
      "Epoch 118/1000\n",
      "Epoch 118: Learning rate is 0.0013508516130968928.\n",
      "37/37 [==============================] - 0s 2ms/step - loss: 0.0779 - accuracy: 0.9824 - val_loss: 0.7007 - val_accuracy: 0.8980\n",
      "\n",
      "Epoch 00118: ReduceLROnPlateau reducing learning rate to 0.0012157664517872036.\n",
      "Epoch 119/1000\n",
      "Epoch 119: Learning rate is 0.001215766416862607.\n",
      "37/37 [==============================] - 0s 2ms/step - loss: 0.0541 - accuracy: 0.9844 - val_loss: 0.6593 - val_accuracy: 0.9116\n",
      "Epoch 120/1000\n",
      "Epoch 120: Learning rate is 0.001215766416862607.\n",
      "37/37 [==============================] - 0s 2ms/step - loss: 0.0573 - accuracy: 0.9844 - val_loss: 0.6906 - val_accuracy: 0.9116\n",
      "Epoch 121/1000\n",
      "Epoch 121: Learning rate is 0.001215766416862607.\n",
      "37/37 [==============================] - 0s 2ms/step - loss: 0.0580 - accuracy: 0.9845 - val_loss: 0.7044 - val_accuracy: 0.9116\n",
      "Epoch 122/1000\n",
      "Epoch 122: Learning rate is 0.001215766416862607.\n",
      "37/37 [==============================] - 0s 2ms/step - loss: 0.0637 - accuracy: 0.9857 - val_loss: 0.6966 - val_accuracy: 0.9048\n",
      "Epoch 123/1000\n",
      "Epoch 123: Learning rate is 0.001215766416862607.\n",
      "37/37 [==============================] - 0s 2ms/step - loss: 0.0555 - accuracy: 0.9864 - val_loss: 0.7166 - val_accuracy: 0.9082\n",
      "Restoring model weights from the end of the best epoch.\n",
      "\n",
      "Epoch 00123: ReduceLROnPlateau reducing learning rate to 0.0010941897751763463.\n",
      "Epoch 00123: early stopping\n"
     ]
    }
   ],
   "source": [
    "# Pass the callback to the fit method\n",
    "history = model.fit(\n",
    "    X_train,\n",
    "    y_train,\n",
    "    validation_split=0.2,\n",
    "    epochs=1000,\n",
    "    batch_size=32,\n",
    "    callbacks=callbacks  # include it here\n",
    ")"
   ],
   "metadata": {
    "collapsed": false,
    "ExecuteTime": {
     "end_time": "2024-02-29T14:56:10.931981Z",
     "start_time": "2024-02-29T14:56:02.027633Z"
    }
   },
   "id": "bd3f41f1f688e43"
  },
  {
   "cell_type": "code",
   "execution_count": 9,
   "outputs": [
    {
     "name": "stdout",
     "output_type": "stream",
     "text": [
      "12/12 [==============================] - 0s 1ms/step - loss: 0.3100 - accuracy: 0.8774\n",
      "Test accuracy: 0.8773841857910156\n",
      "Test loss: 0.30997538566589355\n"
     ]
    }
   ],
   "source": [
    "# Evaluating the model\n",
    "test_loss, test_acc = model.evaluate(X_test, y_test)\n",
    "print('Test accuracy:', test_acc)\n",
    "print('Test loss:', test_loss)"
   ],
   "metadata": {
    "collapsed": false,
    "ExecuteTime": {
     "end_time": "2024-02-29T14:56:13.886160Z",
     "start_time": "2024-02-29T14:56:13.847744Z"
    }
   },
   "id": "initial_id"
  },
  {
   "cell_type": "code",
   "outputs": [
    {
     "data": {
      "text/plain": "array([[154,   0,   0],\n       [  7,  57,  13],\n       [  0,  25, 111]])"
     },
     "execution_count": 10,
     "metadata": {},
     "output_type": "execute_result"
    }
   ],
   "source": [
    "#confusion matrix\n",
    "from sklearn.metrics import confusion_matrix\n",
    "import numpy as np\n",
    "y_pred = model.predict(X_test)\n",
    "y_pred = np.argmax(y_pred, axis=1)\n",
    "y_test = np.argmax(y_test, axis=1)\n",
    "confusion_matrix(y_test, y_pred)"
   ],
   "metadata": {
    "collapsed": false,
    "ExecuteTime": {
     "end_time": "2024-02-29T14:56:17.533679Z",
     "start_time": "2024-02-29T14:56:17.460548Z"
    }
   },
   "id": "1352cb1eded44f03",
   "execution_count": 10
  },
  {
   "cell_type": "code",
   "execution_count": 11,
   "outputs": [
    {
     "data": {
      "text/plain": "<Figure size 640x480 with 1 Axes>",
      "image/png": "[encoded data removed]"
     },
     "metadata": {},
     "output_type": "display_data"
    },
    {
     "data": {
      "text/plain": "<Figure size 640x480 with 1 Axes>",
      "image/png": "[encoded data removed]"
     },
     "metadata": {},
     "output_type": "display_data"
    },
    {
     "data": {
      "text/plain": "<Figure size 640x480 with 1 Axes>",
      "image/png": "[encoded data removed]"
     },
     "metadata": {},
     "output_type": "display_data"
    }
   ],
   "source": [
    "# Plotting the training and validation loss\n",
    "import matplotlib.pyplot as plt\n",
    "\n",
    "plt.plot(history.history['loss'])\n",
    "plt.plot(history.history['val_loss'])\n",
    "plt.title('Model loss')\n",
    "plt.ylabel('Loss')\n",
    "plt.xlabel('Epochs')\n",
    "plt.legend(['Train', 'Validation'], loc='upper right')\n",
    "plt.show()\n",
    "\n",
    "plt.plot(history.history['accuracy'])\n",
    "plt.plot(history.history['val_accuracy'])\n",
    "plt.title('Model accuracy')\n",
    "plt.ylabel('Accuracy')\n",
    "plt.xlabel('Epochs')\n",
    "plt.legend(['Train', 'Validation'], loc='lower right')\n",
    "plt.show()\n",
    "\n",
    "# Plotting\n",
    "# plt.figure(figsize=(8, 8))\n",
    "plt.plot(lr_tracker.learning_rates)\n",
    "plt.title(\"Learning Rate over Epochs\")\n",
    "plt.xlabel(\"Epoch\")\n",
    "plt.ylabel(\"Learning Rate\")\n",
    "plt.grid(True)"
   ],
   "metadata": {
    "collapsed": false,
    "ExecuteTime": {
     "end_time": "2024-02-29T14:56:20.532396Z",
     "start_time": "2024-02-29T14:56:20.015127Z"
    }
   },
   "id": "1d82547b5da98e0"
  },
  {
   "cell_type": "code",
   "execution_count": 12,
   "outputs": [
    {
     "name": "stderr",
     "output_type": "stream",
     "text": [
      "2024-02-29 14:56:38.870917: W tensorflow/python/util/util.cc:348] Sets are not currently considered sequences, but this may change in the future, so consider avoiding using them.\n"
     ]
    },
    {
     "name": "stdout",
     "output_type": "stream",
     "text": [
      "INFO:tensorflow:Assets written to: /home/adam/FurtherResearch/Model/Exoskeleton/BMI/Exo_model_with_BMI/assets\n"
     ]
    }
   ],
   "source": [
    "# Save the model\n",
    "tf.keras.models.save_model(model, '/home/adam/FurtherResearch/Model/Exoskeleton/BMI/Exo_model_with_BMI')"
   ],
   "metadata": {
    "collapsed": false,
    "ExecuteTime": {
     "end_time": "2024-02-29T14:56:39.151569Z",
     "start_time": "2024-02-29T14:56:38.715196Z"
    }
   },
   "id": "971afc8f1ecd8193"
  },
  {
   "cell_type": "code",
   "execution_count": 13,
   "outputs": [
    {
     "name": "stdout",
     "output_type": "stream",
     "text": [
      "Model: \"model\"\n",
      "_________________________________________________________________\n",
      "Layer (type)                 Output Shape              Param #   \n",
      "=================================================================\n",
      "dense_0_input (InputLayer)   [(None, 65)]              0         \n",
      "_________________________________________________________________\n",
      "dense_0 (Dense)              (None, 128)               8448      \n",
      "_________________________________________________________________\n",
      "dense_1 (Dense)              (None, 64)                8256      \n",
      "_________________________________________________________________\n",
      "dense_2 (Dense)              (None, 3)                 195       \n",
      "=================================================================\n",
      "Total params: 16,899\n",
      "Trainable params: 16,899\n",
      "Non-trainable params: 0\n",
      "_________________________________________________________________\n"
     ]
    }
   ],
   "source": [
    "from tensorflow.keras.models import Model\n",
    "\n",
    "# model.summary()\n",
    "# Assume 'original_model' is your pre-trained model\n",
    "model_without_softmax = Model(inputs=model.input, \n",
    "                              outputs=model.get_layer(\"dense_2\").output)\n",
    "model_without_softmax.summary()\n"
   ],
   "metadata": {
    "collapsed": false,
    "ExecuteTime": {
     "end_time": "2024-02-29T14:56:41.479715Z",
     "start_time": "2024-02-29T14:56:41.474784Z"
    }
   },
   "id": "9445a32c75176e7b"
  },
  {
   "cell_type": "code",
   "execution_count": 14,
   "outputs": [
    {
     "name": "stdout",
     "output_type": "stream",
     "text": [
      "INFO:tensorflow:Assets written to: /home/adam/FurtherResearch/Model/Exoskeleton/BMI/Exo_model_with_BMI_without_softmax/assets\n"
     ]
    }
   ],
   "source": [
    "# Save the model\n",
    "tf.keras.models.save_model(model_without_softmax, '/home/adam/FurtherResearch/Model/Exoskeleton/BMI/Exo_model_with_BMI_without_softmax')"
   ],
   "metadata": {
    "collapsed": false,
    "ExecuteTime": {
     "end_time": "2024-02-29T14:56:43.330762Z",
     "start_time": "2024-02-29T14:56:43.122833Z"
    }
   },
   "id": "61da15b78744777b"
  },
  {
   "cell_type": "code",
   "outputs": [],
   "source": [],
   "metadata": {
    "collapsed": false
   },
   "id": "f0672f700119d08f"
  }
 ],
 "metadata": {
  "kernelspec": {
   "display_name": "Python 3",
   "language": "python",
   "name": "python3"
  },
  "language_info": {
   "codemirror_mode": {
    "name": "ipython",
    "version": 2
   },
   "file_extension": ".py",
   "mimetype": "text/x-python",
   "name": "python",
   "nbconvert_exporter": "python",
   "pygments_lexer": "ipython2",
   "version": "2.7.6"
  }
 },
 "nbformat": 4,
 "nbformat_minor": 5
}
