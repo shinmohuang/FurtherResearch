{
 "cells": [
  {
   "cell_type": "code",
   "execution_count": 1,
   "id": "2ebdbe21c431b276",
   "metadata": {
    "collapsed": true,
    "ExecuteTime": {
     "end_time": "2024-03-04T22:11:17.663292Z",
     "start_time": "2024-03-04T22:11:14.089314Z"
    }
   },
   "outputs": [
    {
     "name": "stderr",
     "output_type": "stream",
     "text": [
      "2024-03-04 22:11:14.159513: I tensorflow/stream_executor/platform/default/dso_loader.cc:49] Successfully opened dynamic library libcudart.so.10.1\n"
     ]
    },
    {
     "name": "stdout",
     "output_type": "stream",
     "text": [
      "Physical devices: [PhysicalDevice(name='/physical_device:CPU:0', device_type='CPU'), PhysicalDevice(name='/physical_device:GPU:0', device_type='GPU')]\n",
      "GPU is available.\n"
     ]
    },
    {
     "name": "stderr",
     "output_type": "stream",
     "text": [
      "2024-03-04 22:11:15.680889: I tensorflow/compiler/jit/xla_cpu_device.cc:41] Not creating XLA devices, tf_xla_enable_xla_devices not set\n",
      "2024-03-04 22:11:15.757445: I tensorflow/stream_executor/platform/default/dso_loader.cc:49] Successfully opened dynamic library libcuda.so.1\n",
      "2024-03-04 22:11:15.939991: I tensorflow/stream_executor/cuda/cuda_gpu_executor.cc:941] successful NUMA node read from SysFS had negative value (-1), but there must be at least one NUMA node, so returning NUMA node zero\n",
      "2024-03-04 22:11:15.940496: I tensorflow/core/common_runtime/gpu/gpu_device.cc:1720] Found device 0 with properties: \n",
      "pciBusID: 0000:01:00.0 name: NVIDIA GeForce RTX 2060 SUPER computeCapability: 7.5\n",
      "coreClock: 1.65GHz coreCount: 34 deviceMemorySize: 7.78GiB deviceMemoryBandwidth: 417.29GiB/s\n",
      "2024-03-04 22:11:15.940528: I tensorflow/stream_executor/platform/default/dso_loader.cc:49] Successfully opened dynamic library libcudart.so.10.1\n",
      "2024-03-04 22:11:16.274182: I tensorflow/stream_executor/platform/default/dso_loader.cc:49] Successfully opened dynamic library libcublas.so.10\n",
      "2024-03-04 22:11:16.274267: I tensorflow/stream_executor/platform/default/dso_loader.cc:49] Successfully opened dynamic library libcublasLt.so.10\n",
      "2024-03-04 22:11:16.685651: I tensorflow/stream_executor/platform/default/dso_loader.cc:49] Successfully opened dynamic library libcufft.so.10\n",
      "2024-03-04 22:11:16.732678: I tensorflow/stream_executor/platform/default/dso_loader.cc:49] Successfully opened dynamic library libcurand.so.10\n",
      "2024-03-04 22:11:17.052020: I tensorflow/stream_executor/platform/default/dso_loader.cc:49] Successfully opened dynamic library libcusolver.so.10\n",
      "2024-03-04 22:11:17.109100: I tensorflow/stream_executor/platform/default/dso_loader.cc:49] Successfully opened dynamic library libcusparse.so.10\n",
      "2024-03-04 22:11:17.661041: I tensorflow/stream_executor/platform/default/dso_loader.cc:49] Successfully opened dynamic library libcudnn.so.7\n",
      "2024-03-04 22:11:17.661199: I tensorflow/stream_executor/cuda/cuda_gpu_executor.cc:941] successful NUMA node read from SysFS had negative value (-1), but there must be at least one NUMA node, so returning NUMA node zero\n",
      "2024-03-04 22:11:17.661347: I tensorflow/stream_executor/cuda/cuda_gpu_executor.cc:941] successful NUMA node read from SysFS had negative value (-1), but there must be at least one NUMA node, so returning NUMA node zero\n",
      "2024-03-04 22:11:17.661414: I tensorflow/core/common_runtime/gpu/gpu_device.cc:1862] Adding visible gpu devices: 0\n"
     ]
    }
   ],
   "source": [
    "import pandas as pd\n",
    "import tensorflow as tf\n",
    "from sklearn.model_selection import train_test_split\n",
    "from sklearn.preprocessing import StandardScaler\n",
    "from tensorflow.keras.models import Sequential\n",
    "from tensorflow.keras.layers import Dense\n",
    "from tensorflow.keras.utils import to_categorical\n",
    "from sklearn.utils import shuffle\n",
    "\n",
    "from tensorflow.keras.callbacks import EarlyStopping\n",
    "from tensorflow.keras.optimizers import Adam\n",
    "from tensorflow.keras.callbacks import ReduceLROnPlateau\n",
    "\n",
    "# List all physical devices\n",
    "physical_devices = tf.config.list_physical_devices()\n",
    "print(\"Physical devices:\", physical_devices)\n",
    "\n",
    "# Check for GPU specifically\n",
    "gpus = tf.config.list_physical_devices('GPU')\n",
    "if gpus:\n",
    "    print(\"GPU is available.\")\n",
    "else:\n",
    "    print(\"GPU is NOT available.\")"
   ]
  },
  {
   "cell_type": "code",
   "execution_count": 4,
   "outputs": [
    {
     "data": {
      "text/plain": "0       0\n1       0\n2       0\n3       0\n4       0\n       ..\n1828    2\n1829    2\n1830    2\n1831    2\n1832    2\nName: Fatigue_level, Length: 1833, dtype: int64"
     },
     "execution_count": 4,
     "metadata": {},
     "output_type": "execute_result"
    }
   ],
   "source": [
    "# Load your dataset\n",
    "dataset = pd.read_csv('../../../Dataset/Exoskeleton/Original.csv')  # Replace with your dataset path\n",
    "dataset.iloc[:, -1] = dataset.iloc[:, -1] - 1\n",
    "X = dataset.iloc[:, :-2]  # Features\n",
    "y = dataset.iloc[:, -2] -1 # Target\n",
    "y"
   ],
   "metadata": {
    "collapsed": false,
    "ExecuteTime": {
     "end_time": "2024-03-04T22:12:25.023069Z",
     "start_time": "2024-03-04T22:12:24.999245Z"
    }
   },
   "id": "5baa062abf10bdaa"
  },
  {
   "cell_type": "code",
   "outputs": [
    {
     "data": {
      "text/plain": "array([[ 0.0045, -0.3023, -0.3   , ..., -0.2532, -0.6346, -0.342 ],\n       [ 0.1918, -0.059 , -0.0566, ..., -0.7787, -0.6022, -0.3926],\n       [ 0.0241,  0.1542,  0.157 , ..., -0.4528, -0.0166, -0.1809],\n       ...,\n       [-0.3888, -0.1149, -0.1122, ..., -0.3723, -0.3454, -0.2636],\n       [ 0.0039, -0.4338, -0.431 , ..., -0.551 ,  0.8586,  1.7623],\n       [ 0.0069, -0.4155, -0.4148, ..., -0.2839, -0.635 , -0.3187]])"
     },
     "execution_count": 6,
     "metadata": {},
     "output_type": "execute_result"
    }
   ],
   "source": [
    "\n",
    "# Normalize the features\n",
    "scaler = StandardScaler()\n",
    "X_scaled = scaler.fit_transform(X)\n",
    "\n",
    "# Convert labels to categorical\n",
    "y_categorical = to_categorical(y)\n",
    "\n",
    "# Shuffle the data\n",
    "X_scaled, y_categorical = shuffle(X_scaled.round(4), y_categorical, random_state=42)\n",
    "\n",
    "# Split the data\n",
    "X_train, X_test, y_train, y_test = train_test_split(\n",
    "    X_scaled, y_categorical, test_size=0.2, random_state=42)\n",
    "\n",
    "# Number of unique classes in the target variable\n",
    "num_classes = y_train.shape[1]\n",
    "X_train"
   ],
   "metadata": {
    "collapsed": false,
    "ExecuteTime": {
     "end_time": "2024-03-04T22:13:08.587416Z",
     "start_time": "2024-03-04T22:13:08.579012Z"
    }
   },
   "id": "95bdb42c86627d10",
   "execution_count": 6
  },
  {
   "cell_type": "code",
   "outputs": [
    {
     "name": "stderr",
     "output_type": "stream",
     "text": [
      "2024-03-04 22:13:16.490622: I tensorflow/core/platform/cpu_feature_guard.cc:142] This TensorFlow binary is optimized with oneAPI Deep Neural Network Library (oneDNN) to use the following CPU instructions in performance-critical operations:  SSE4.1 SSE4.2 AVX AVX2 FMA\n",
      "To enable them in other operations, rebuild TensorFlow with the appropriate compiler flags.\n",
      "2024-03-04 22:13:16.491372: I tensorflow/compiler/jit/xla_gpu_device.cc:99] Not creating XLA devices, tf_xla_enable_xla_devices not set\n",
      "2024-03-04 22:13:16.491529: I tensorflow/stream_executor/cuda/cuda_gpu_executor.cc:941] successful NUMA node read from SysFS had negative value (-1), but there must be at least one NUMA node, so returning NUMA node zero\n",
      "2024-03-04 22:13:16.491636: I tensorflow/core/common_runtime/gpu/gpu_device.cc:1720] Found device 0 with properties: \n",
      "pciBusID: 0000:01:00.0 name: NVIDIA GeForce RTX 2060 SUPER computeCapability: 7.5\n",
      "coreClock: 1.65GHz coreCount: 34 deviceMemorySize: 7.78GiB deviceMemoryBandwidth: 417.29GiB/s\n",
      "2024-03-04 22:13:16.491664: I tensorflow/stream_executor/platform/default/dso_loader.cc:49] Successfully opened dynamic library libcudart.so.10.1\n",
      "2024-03-04 22:13:16.491680: I tensorflow/stream_executor/platform/default/dso_loader.cc:49] Successfully opened dynamic library libcublas.so.10\n",
      "2024-03-04 22:13:16.491693: I tensorflow/stream_executor/platform/default/dso_loader.cc:49] Successfully opened dynamic library libcublasLt.so.10\n",
      "2024-03-04 22:13:16.491705: I tensorflow/stream_executor/platform/default/dso_loader.cc:49] Successfully opened dynamic library libcufft.so.10\n",
      "2024-03-04 22:13:16.491717: I tensorflow/stream_executor/platform/default/dso_loader.cc:49] Successfully opened dynamic library libcurand.so.10\n",
      "2024-03-04 22:13:16.491729: I tensorflow/stream_executor/platform/default/dso_loader.cc:49] Successfully opened dynamic library libcusolver.so.10\n",
      "2024-03-04 22:13:16.491741: I tensorflow/stream_executor/platform/default/dso_loader.cc:49] Successfully opened dynamic library libcusparse.so.10\n",
      "2024-03-04 22:13:16.491753: I tensorflow/stream_executor/platform/default/dso_loader.cc:49] Successfully opened dynamic library libcudnn.so.7\n",
      "2024-03-04 22:13:16.491797: I tensorflow/stream_executor/cuda/cuda_gpu_executor.cc:941] successful NUMA node read from SysFS had negative value (-1), but there must be at least one NUMA node, so returning NUMA node zero\n",
      "2024-03-04 22:13:16.491899: I tensorflow/stream_executor/cuda/cuda_gpu_executor.cc:941] successful NUMA node read from SysFS had negative value (-1), but there must be at least one NUMA node, so returning NUMA node zero\n",
      "2024-03-04 22:13:16.491964: I tensorflow/core/common_runtime/gpu/gpu_device.cc:1862] Adding visible gpu devices: 0\n",
      "2024-03-04 22:13:16.550008: I tensorflow/stream_executor/platform/default/dso_loader.cc:49] Successfully opened dynamic library libcudart.so.10.1\n",
      "2024-03-04 22:13:20.868882: I tensorflow/core/common_runtime/gpu/gpu_device.cc:1261] Device interconnect StreamExecutor with strength 1 edge matrix:\n",
      "2024-03-04 22:13:20.868900: I tensorflow/core/common_runtime/gpu/gpu_device.cc:1267]      0 \n",
      "2024-03-04 22:13:20.868904: I tensorflow/core/common_runtime/gpu/gpu_device.cc:1280] 0:   N \n",
      "2024-03-04 22:13:20.877749: I tensorflow/stream_executor/cuda/cuda_gpu_executor.cc:941] successful NUMA node read from SysFS had negative value (-1), but there must be at least one NUMA node, so returning NUMA node zero\n",
      "2024-03-04 22:13:20.877935: I tensorflow/stream_executor/cuda/cuda_gpu_executor.cc:941] successful NUMA node read from SysFS had negative value (-1), but there must be at least one NUMA node, so returning NUMA node zero\n",
      "2024-03-04 22:13:20.878037: I tensorflow/stream_executor/cuda/cuda_gpu_executor.cc:941] successful NUMA node read from SysFS had negative value (-1), but there must be at least one NUMA node, so returning NUMA node zero\n",
      "2024-03-04 22:13:20.878113: I tensorflow/core/common_runtime/gpu/gpu_device.cc:1406] Created TensorFlow device (/job:localhost/replica:0/task:0/device:GPU:0 with 6907 MB memory) -> physical GPU (device: 0, name: NVIDIA GeForce RTX 2060 SUPER, pci bus id: 0000:01:00.0, compute capability: 7.5)\n"
     ]
    }
   ],
   "source": [
    "\n",
    "# Building the DNN model\n",
    "model = Sequential([\n",
    "    Dense(128, activation='relu', input_shape=(X_train.shape[1],), name='dense_0'),\n",
    "    Dense(64, activation='relu', name='dense_1'),\n",
    "    Dense(3, activation='relu', name='dense_2'),\n",
    "    # Dense(3, activation='relu', name='dense_3'),\n",
    "    Dense(num_classes, activation='softmax')  # Output layer\n",
    "])"
   ],
   "metadata": {
    "collapsed": false,
    "ExecuteTime": {
     "end_time": "2024-03-04T22:13:21.226138Z",
     "start_time": "2024-03-04T22:13:15.546977Z"
    }
   },
   "id": "1e58074cece23a2d",
   "execution_count": 7
  },
  {
   "cell_type": "code",
   "execution_count": 8,
   "outputs": [],
   "source": [
    "# Define the early stopping callback\n",
    "early_stopping = EarlyStopping(\n",
    "    monitor='val_loss',\n",
    "    min_delta=0.001,  # minimium amount of change to count as an improvement\n",
    "    patience=100,  # how many epochs to wait before stopping\n",
    "    verbose=1,\n",
    "    mode='min',\n",
    "    restore_best_weights=True\n",
    ")\n",
    "\n",
    "# Set the learning rate\n",
    "learning_rate = 0.01\n",
    "\n",
    "# Create the ReduceLROnPlateau callback\n",
    "reduce_lr = ReduceLROnPlateau(\n",
    "    monitor='val_loss',\n",
    "    factor=0.9,  # factor by which the learning rate will be reduced\n",
    "    patience=5,  # number of epochs with no improvement after which learning rate will be reduced\n",
    "    min_lr=0.00001,  # lower bound on the learning rate\n",
    "    verbose=1\n",
    ")\n",
    "lr_callback = tf.keras.callbacks.LearningRateScheduler(reduce_lr)\n",
    "\n",
    "class PrintLR(tf.keras.callbacks.Callback):\n",
    "    def __init__(self):\n",
    "        super().__init__()\n",
    "        self.learning_rates = []\n",
    "        \n",
    "    def on_epoch_begin(self, epoch, logs=None):\n",
    "        lr = self.model.optimizer.lr\n",
    "        if hasattr(lr, 'numpy'):\n",
    "            lr = lr.numpy()\n",
    "        elif hasattr(lr, 'eval'):\n",
    "            lr = lr.eval(session=tf.compat.v1.Session())\n",
    "        print(f'Epoch {epoch+1}: Learning rate is {lr}.')\n",
    "    \n",
    "    def on_epoch_end(self, epoch, logs=None):\n",
    "        # Retrieve the current learning rate from the optimizer\n",
    "        current_lr = tf.keras.backend.get_value(self.model.optimizer.lr)\n",
    "        # Append the current learning rate to the list\n",
    "        self.learning_rates.append(current_lr)\n",
    "\n",
    "lr_tracker = PrintLR()\n",
    "callbacks = [lr_tracker, early_stopping, reduce_lr]\n",
    "\n",
    "\n",
    "# Initialize the optimizer with the learning rate\n",
    "optimizer = Adam(learning_rate=learning_rate)\n",
    "\n",
    "# Compiling the model\n",
    "model.compile(optimizer=optimizer,\n",
    "              loss='categorical_crossentropy',\n",
    "              metrics=['accuracy'])"
   ],
   "metadata": {
    "collapsed": false,
    "ExecuteTime": {
     "end_time": "2024-03-04T22:13:30.857897Z",
     "start_time": "2024-03-04T22:13:30.844927Z"
    }
   },
   "id": "111da32ccd0d31d1"
  },
  {
   "cell_type": "code",
   "execution_count": 9,
   "outputs": [
    {
     "name": "stderr",
     "output_type": "stream",
     "text": [
      "2024-03-04 22:13:33.787687: I tensorflow/compiler/mlir/mlir_graph_optimization_pass.cc:116] None of the MLIR optimization passes are enabled (registered 2)\n",
      "2024-03-04 22:13:33.813132: I tensorflow/core/platform/profile_utils/cpu_utils.cc:112] CPU Frequency: 2899885000 Hz\n"
     ]
    },
    {
     "name": "stdout",
     "output_type": "stream",
     "text": [
      "Epoch 1/1000\n",
      "Epoch 1: Learning rate is 0.009999999776482582.\n"
     ]
    },
    {
     "name": "stderr",
     "output_type": "stream",
     "text": [
      "2024-03-04 22:13:34.327401: I tensorflow/stream_executor/platform/default/dso_loader.cc:49] Successfully opened dynamic library libcublas.so.10\n"
     ]
    },
    {
     "name": "stdout",
     "output_type": "stream",
     "text": [
      "19/19 [==============================] - 2s 25ms/step - loss: 0.6049 - accuracy: 0.7594 - val_loss: 0.5524 - val_accuracy: 0.7517\n",
      "Epoch 2/1000\n",
      "Epoch 2: Learning rate is 0.009999999776482582.\n",
      "19/19 [==============================] - 0s 3ms/step - loss: 0.4760 - accuracy: 0.7865 - val_loss: 0.4962 - val_accuracy: 0.8163\n",
      "Epoch 3/1000\n",
      "Epoch 3: Learning rate is 0.009999999776482582.\n",
      "19/19 [==============================] - 0s 3ms/step - loss: 0.3525 - accuracy: 0.8395 - val_loss: 0.3824 - val_accuracy: 0.8333\n",
      "Epoch 4/1000\n",
      "Epoch 4: Learning rate is 0.009999999776482582.\n",
      "19/19 [==============================] - 0s 3ms/step - loss: 0.3228 - accuracy: 0.8434 - val_loss: 0.4282 - val_accuracy: 0.8231\n",
      "Epoch 5/1000\n",
      "Epoch 5: Learning rate is 0.009999999776482582.\n",
      "19/19 [==============================] - 0s 3ms/step - loss: 0.3123 - accuracy: 0.8430 - val_loss: 0.3592 - val_accuracy: 0.8333\n",
      "Epoch 6/1000\n",
      "Epoch 6: Learning rate is 0.009999999776482582.\n",
      "19/19 [==============================] - 0s 4ms/step - loss: 0.3066 - accuracy: 0.8705 - val_loss: 0.3966 - val_accuracy: 0.8673\n",
      "Epoch 7/1000\n",
      "Epoch 7: Learning rate is 0.009999999776482582.\n",
      "19/19 [==============================] - 0s 3ms/step - loss: 0.2732 - accuracy: 0.8698 - val_loss: 0.3496 - val_accuracy: 0.8333\n",
      "Epoch 8/1000\n",
      "Epoch 8: Learning rate is 0.009999999776482582.\n",
      "19/19 [==============================] - 0s 3ms/step - loss: 0.2733 - accuracy: 0.8581 - val_loss: 0.3373 - val_accuracy: 0.8605\n",
      "Epoch 9/1000\n",
      "Epoch 9: Learning rate is 0.009999999776482582.\n",
      "19/19 [==============================] - 0s 2ms/step - loss: 0.2454 - accuracy: 0.8734 - val_loss: 0.3384 - val_accuracy: 0.8639\n",
      "Epoch 10/1000\n",
      "Epoch 10: Learning rate is 0.009999999776482582.\n",
      "19/19 [==============================] - 0s 2ms/step - loss: 0.2463 - accuracy: 0.8814 - val_loss: 0.3350 - val_accuracy: 0.8605\n",
      "Epoch 11/1000\n",
      "Epoch 11: Learning rate is 0.009999999776482582.\n",
      "19/19 [==============================] - 0s 2ms/step - loss: 0.2648 - accuracy: 0.8579 - val_loss: 0.3674 - val_accuracy: 0.8401\n",
      "Epoch 12/1000\n",
      "Epoch 12: Learning rate is 0.009999999776482582.\n",
      "19/19 [==============================] - 0s 2ms/step - loss: 0.2197 - accuracy: 0.8886 - val_loss: 0.3283 - val_accuracy: 0.8673\n",
      "Epoch 13/1000\n",
      "Epoch 13: Learning rate is 0.009999999776482582.\n",
      "19/19 [==============================] - 0s 2ms/step - loss: 0.2006 - accuracy: 0.8938 - val_loss: 0.3721 - val_accuracy: 0.8776\n",
      "Epoch 14/1000\n",
      "Epoch 14: Learning rate is 0.009999999776482582.\n",
      "19/19 [==============================] - 0s 2ms/step - loss: 0.2340 - accuracy: 0.9036 - val_loss: 0.2748 - val_accuracy: 0.8810\n",
      "Epoch 15/1000\n",
      "Epoch 15: Learning rate is 0.009999999776482582.\n",
      "19/19 [==============================] - 0s 2ms/step - loss: 0.2270 - accuracy: 0.8845 - val_loss: 0.3160 - val_accuracy: 0.8673\n",
      "Epoch 16/1000\n",
      "Epoch 16: Learning rate is 0.009999999776482582.\n",
      "19/19 [==============================] - 0s 2ms/step - loss: 0.2079 - accuracy: 0.8971 - val_loss: 0.3063 - val_accuracy: 0.8776\n",
      "Epoch 17/1000\n",
      "Epoch 17: Learning rate is 0.009999999776482582.\n",
      "19/19 [==============================] - 0s 2ms/step - loss: 0.2034 - accuracy: 0.9050 - val_loss: 0.3167 - val_accuracy: 0.8605\n",
      "Epoch 18/1000\n",
      "Epoch 18: Learning rate is 0.009999999776482582.\n",
      "19/19 [==============================] - 0s 2ms/step - loss: 0.1873 - accuracy: 0.9040 - val_loss: 0.2721 - val_accuracy: 0.8946\n",
      "Epoch 19/1000\n",
      "Epoch 19: Learning rate is 0.009999999776482582.\n",
      "19/19 [==============================] - 0s 2ms/step - loss: 0.2067 - accuracy: 0.9056 - val_loss: 0.3040 - val_accuracy: 0.8741\n",
      "Epoch 20/1000\n",
      "Epoch 20: Learning rate is 0.009999999776482582.\n",
      "19/19 [==============================] - 0s 2ms/step - loss: 0.1780 - accuracy: 0.9175 - val_loss: 0.2808 - val_accuracy: 0.8673\n",
      "Epoch 21/1000\n",
      "Epoch 21: Learning rate is 0.009999999776482582.\n",
      "19/19 [==============================] - 0s 2ms/step - loss: 0.1936 - accuracy: 0.9110 - val_loss: 0.2873 - val_accuracy: 0.8776\n",
      "Epoch 22/1000\n",
      "Epoch 22: Learning rate is 0.009999999776482582.\n",
      "19/19 [==============================] - 0s 3ms/step - loss: 0.1900 - accuracy: 0.9134 - val_loss: 0.3655 - val_accuracy: 0.8571\n",
      "Epoch 23/1000\n",
      "Epoch 23: Learning rate is 0.009999999776482582.\n",
      "19/19 [==============================] - 0s 2ms/step - loss: 0.1588 - accuracy: 0.9308 - val_loss: 0.2949 - val_accuracy: 0.9014\n",
      "\n",
      "Epoch 00023: ReduceLROnPlateau reducing learning rate to 0.008999999798834325.\n",
      "Epoch 24/1000\n",
      "Epoch 24: Learning rate is 0.008999999612569809.\n",
      "19/19 [==============================] - 0s 2ms/step - loss: 0.1368 - accuracy: 0.9372 - val_loss: 0.2916 - val_accuracy: 0.8912\n",
      "Epoch 25/1000\n",
      "Epoch 25: Learning rate is 0.008999999612569809.\n",
      "19/19 [==============================] - 0s 2ms/step - loss: 0.1541 - accuracy: 0.9270 - val_loss: 0.3037 - val_accuracy: 0.9014\n",
      "Epoch 26/1000\n",
      "Epoch 26: Learning rate is 0.008999999612569809.\n",
      "19/19 [==============================] - 0s 2ms/step - loss: 0.1379 - accuracy: 0.9435 - val_loss: 0.3130 - val_accuracy: 0.9014\n",
      "Epoch 27/1000\n",
      "Epoch 27: Learning rate is 0.008999999612569809.\n",
      "19/19 [==============================] - 0s 2ms/step - loss: 0.1437 - accuracy: 0.9369 - val_loss: 0.3084 - val_accuracy: 0.8912\n",
      "Epoch 28/1000\n",
      "Epoch 28: Learning rate is 0.008999999612569809.\n",
      "19/19 [==============================] - 0s 2ms/step - loss: 0.1262 - accuracy: 0.9455 - val_loss: 0.3036 - val_accuracy: 0.8946\n",
      "\n",
      "Epoch 00028: ReduceLROnPlateau reducing learning rate to 0.008099999651312828.\n",
      "Epoch 29/1000\n",
      "Epoch 29: Learning rate is 0.008099999278783798.\n",
      "19/19 [==============================] - 0s 2ms/step - loss: 0.1339 - accuracy: 0.9530 - val_loss: 0.3206 - val_accuracy: 0.8810\n",
      "Epoch 30/1000\n",
      "Epoch 30: Learning rate is 0.008099999278783798.\n",
      "19/19 [==============================] - 0s 2ms/step - loss: 0.1373 - accuracy: 0.9364 - val_loss: 0.2894 - val_accuracy: 0.8946\n",
      "Epoch 31/1000\n",
      "Epoch 31: Learning rate is 0.008099999278783798.\n",
      "19/19 [==============================] - 0s 2ms/step - loss: 0.1024 - accuracy: 0.9685 - val_loss: 0.3161 - val_accuracy: 0.8980\n",
      "Epoch 32/1000\n",
      "Epoch 32: Learning rate is 0.008099999278783798.\n",
      "19/19 [==============================] - 0s 2ms/step - loss: 0.1242 - accuracy: 0.9450 - val_loss: 0.4048 - val_accuracy: 0.8776\n",
      "Epoch 33/1000\n",
      "Epoch 33: Learning rate is 0.008099999278783798.\n",
      "19/19 [==============================] - 0s 2ms/step - loss: 0.1153 - accuracy: 0.9492 - val_loss: 0.3355 - val_accuracy: 0.9014\n",
      "\n",
      "Epoch 00033: ReduceLROnPlateau reducing learning rate to 0.007289999350905419.\n",
      "Epoch 34/1000\n",
      "Epoch 34: Learning rate is 0.0072899991646409035.\n",
      "19/19 [==============================] - 0s 3ms/step - loss: 0.1005 - accuracy: 0.9633 - val_loss: 0.3457 - val_accuracy: 0.8844\n",
      "Epoch 35/1000\n",
      "Epoch 35: Learning rate is 0.0072899991646409035.\n",
      "19/19 [==============================] - 0s 2ms/step - loss: 0.1318 - accuracy: 0.9417 - val_loss: 0.3049 - val_accuracy: 0.9116\n",
      "Epoch 36/1000\n",
      "Epoch 36: Learning rate is 0.0072899991646409035.\n",
      "19/19 [==============================] - 0s 2ms/step - loss: 0.1165 - accuracy: 0.9566 - val_loss: 0.3385 - val_accuracy: 0.8673\n",
      "Epoch 37/1000\n",
      "Epoch 37: Learning rate is 0.0072899991646409035.\n",
      "19/19 [==============================] - 0s 2ms/step - loss: 0.1138 - accuracy: 0.9434 - val_loss: 0.3114 - val_accuracy: 0.8980\n",
      "Epoch 38/1000\n",
      "Epoch 38: Learning rate is 0.0072899991646409035.\n",
      "19/19 [==============================] - 0s 3ms/step - loss: 0.0988 - accuracy: 0.9614 - val_loss: 0.3641 - val_accuracy: 0.9184\n",
      "\n",
      "Epoch 00038: ReduceLROnPlateau reducing learning rate to 0.006560999248176813.\n",
      "Epoch 39/1000\n",
      "Epoch 39: Learning rate is 0.006560999434441328.\n",
      "19/19 [==============================] - 0s 3ms/step - loss: 0.1146 - accuracy: 0.9560 - val_loss: 0.4333 - val_accuracy: 0.8810\n",
      "Epoch 40/1000\n",
      "Epoch 40: Learning rate is 0.006560999434441328.\n",
      "19/19 [==============================] - 0s 2ms/step - loss: 0.0824 - accuracy: 0.9670 - val_loss: 0.3014 - val_accuracy: 0.9116\n",
      "Epoch 41/1000\n",
      "Epoch 41: Learning rate is 0.006560999434441328.\n",
      "19/19 [==============================] - 0s 2ms/step - loss: 0.1304 - accuracy: 0.9526 - val_loss: 0.2675 - val_accuracy: 0.9150\n",
      "Epoch 42/1000\n",
      "Epoch 42: Learning rate is 0.006560999434441328.\n",
      "19/19 [==============================] - 0s 3ms/step - loss: 0.0896 - accuracy: 0.9661 - val_loss: 0.3039 - val_accuracy: 0.9218\n",
      "Epoch 43/1000\n",
      "Epoch 43: Learning rate is 0.006560999434441328.\n",
      "19/19 [==============================] - 0s 3ms/step - loss: 0.0712 - accuracy: 0.9727 - val_loss: 0.2895 - val_accuracy: 0.9150\n",
      "Epoch 44/1000\n",
      "Epoch 44: Learning rate is 0.006560999434441328.\n",
      "19/19 [==============================] - 0s 2ms/step - loss: 0.0707 - accuracy: 0.9749 - val_loss: 0.3265 - val_accuracy: 0.9184\n",
      "Epoch 45/1000\n",
      "Epoch 45: Learning rate is 0.006560999434441328.\n",
      "19/19 [==============================] - 0s 2ms/step - loss: 0.0677 - accuracy: 0.9768 - val_loss: 0.3872 - val_accuracy: 0.8946\n",
      "Epoch 46/1000\n",
      "Epoch 46: Learning rate is 0.006560999434441328.\n",
      "19/19 [==============================] - 0s 2ms/step - loss: 0.0610 - accuracy: 0.9819 - val_loss: 0.3722 - val_accuracy: 0.9116\n",
      "\n",
      "Epoch 00046: ReduceLROnPlateau reducing learning rate to 0.005904899490997195.\n",
      "Epoch 47/1000\n",
      "Epoch 47: Learning rate is 0.0059048994444310665.\n",
      "19/19 [==============================] - 0s 2ms/step - loss: 0.0535 - accuracy: 0.9808 - val_loss: 0.3750 - val_accuracy: 0.9082\n",
      "Epoch 48/1000\n",
      "Epoch 48: Learning rate is 0.0059048994444310665.\n",
      "19/19 [==============================] - 0s 3ms/step - loss: 0.0598 - accuracy: 0.9775 - val_loss: 0.3931 - val_accuracy: 0.9116\n",
      "Epoch 49/1000\n",
      "Epoch 49: Learning rate is 0.0059048994444310665.\n",
      "19/19 [==============================] - 0s 2ms/step - loss: 0.0527 - accuracy: 0.9810 - val_loss: 0.6301 - val_accuracy: 0.8605\n",
      "Epoch 50/1000\n",
      "Epoch 50: Learning rate is 0.0059048994444310665.\n",
      "19/19 [==============================] - 0s 2ms/step - loss: 0.1368 - accuracy: 0.9467 - val_loss: 0.4509 - val_accuracy: 0.8673\n",
      "Epoch 51/1000\n",
      "Epoch 51: Learning rate is 0.0059048994444310665.\n",
      "19/19 [==============================] - 0s 2ms/step - loss: 0.1383 - accuracy: 0.9353 - val_loss: 0.3628 - val_accuracy: 0.9150\n",
      "\n",
      "Epoch 00051: ReduceLROnPlateau reducing learning rate to 0.00531440949998796.\n",
      "Epoch 52/1000\n",
      "Epoch 52: Learning rate is 0.0053144097328186035.\n",
      "19/19 [==============================] - 0s 2ms/step - loss: 0.0809 - accuracy: 0.9639 - val_loss: 0.2990 - val_accuracy: 0.9286\n",
      "Epoch 53/1000\n",
      "Epoch 53: Learning rate is 0.0053144097328186035.\n",
      "19/19 [==============================] - 0s 2ms/step - loss: 0.0697 - accuracy: 0.9774 - val_loss: 0.3245 - val_accuracy: 0.9218\n",
      "Epoch 54/1000\n",
      "Epoch 54: Learning rate is 0.0053144097328186035.\n",
      "19/19 [==============================] - 0s 2ms/step - loss: 0.0718 - accuracy: 0.9680 - val_loss: 0.3678 - val_accuracy: 0.9082\n",
      "Epoch 55/1000\n",
      "Epoch 55: Learning rate is 0.0053144097328186035.\n",
      "19/19 [==============================] - 0s 3ms/step - loss: 0.0500 - accuracy: 0.9834 - val_loss: 0.3749 - val_accuracy: 0.9150\n",
      "Epoch 56/1000\n",
      "Epoch 56: Learning rate is 0.0053144097328186035.\n",
      "19/19 [==============================] - 0s 3ms/step - loss: 0.0532 - accuracy: 0.9871 - val_loss: 0.4608 - val_accuracy: 0.8946\n",
      "\n",
      "Epoch 00056: ReduceLROnPlateau reducing learning rate to 0.004782968759536744.\n",
      "Epoch 57/1000\n",
      "Epoch 57: Learning rate is 0.004782968666404486.\n",
      "19/19 [==============================] - 0s 2ms/step - loss: 0.0568 - accuracy: 0.9787 - val_loss: 0.3963 - val_accuracy: 0.9218\n",
      "Epoch 58/1000\n",
      "Epoch 58: Learning rate is 0.004782968666404486.\n",
      "19/19 [==============================] - 0s 3ms/step - loss: 0.0412 - accuracy: 0.9859 - val_loss: 0.4387 - val_accuracy: 0.9150\n",
      "Epoch 59/1000\n",
      "Epoch 59: Learning rate is 0.004782968666404486.\n",
      "19/19 [==============================] - 0s 3ms/step - loss: 0.0573 - accuracy: 0.9806 - val_loss: 0.4539 - val_accuracy: 0.9116\n",
      "Epoch 60/1000\n",
      "Epoch 60: Learning rate is 0.004782968666404486.\n",
      "19/19 [==============================] - 0s 2ms/step - loss: 0.0525 - accuracy: 0.9857 - val_loss: 0.4736 - val_accuracy: 0.9116\n",
      "Epoch 61/1000\n",
      "Epoch 61: Learning rate is 0.004782968666404486.\n",
      "19/19 [==============================] - 0s 2ms/step - loss: 0.0460 - accuracy: 0.9821 - val_loss: 0.4778 - val_accuracy: 0.9184\n",
      "\n",
      "Epoch 00061: ReduceLROnPlateau reducing learning rate to 0.0043046717997640375.\n",
      "Epoch 62/1000\n",
      "Epoch 62: Learning rate is 0.004304671660065651.\n",
      "19/19 [==============================] - 0s 2ms/step - loss: 0.0380 - accuracy: 0.9874 - val_loss: 0.4188 - val_accuracy: 0.9184\n",
      "Epoch 63/1000\n",
      "Epoch 63: Learning rate is 0.004304671660065651.\n",
      "19/19 [==============================] - 0s 2ms/step - loss: 0.0442 - accuracy: 0.9851 - val_loss: 0.5074 - val_accuracy: 0.9082\n",
      "Epoch 64/1000\n",
      "Epoch 64: Learning rate is 0.004304671660065651.\n",
      "19/19 [==============================] - 0s 2ms/step - loss: 0.0329 - accuracy: 0.9897 - val_loss: 0.4980 - val_accuracy: 0.9116\n",
      "Epoch 65/1000\n",
      "Epoch 65: Learning rate is 0.004304671660065651.\n",
      "19/19 [==============================] - 0s 2ms/step - loss: 0.0437 - accuracy: 0.9803 - val_loss: 0.5141 - val_accuracy: 0.9082\n",
      "Epoch 66/1000\n",
      "Epoch 66: Learning rate is 0.004304671660065651.\n",
      "19/19 [==============================] - 0s 2ms/step - loss: 0.0481 - accuracy: 0.9815 - val_loss: 0.5332 - val_accuracy: 0.9082\n",
      "\n",
      "Epoch 00066: ReduceLROnPlateau reducing learning rate to 0.0038742044940590858.\n",
      "Epoch 67/1000\n",
      "Epoch 67: Learning rate is 0.0038742045871913433.\n",
      "19/19 [==============================] - 0s 2ms/step - loss: 0.0433 - accuracy: 0.9826 - val_loss: 0.4483 - val_accuracy: 0.9252\n",
      "Epoch 68/1000\n",
      "Epoch 68: Learning rate is 0.0038742045871913433.\n",
      "19/19 [==============================] - 0s 2ms/step - loss: 0.0534 - accuracy: 0.9842 - val_loss: 0.5214 - val_accuracy: 0.9082\n",
      "Epoch 69/1000\n",
      "Epoch 69: Learning rate is 0.0038742045871913433.\n",
      "19/19 [==============================] - 0s 2ms/step - loss: 0.0548 - accuracy: 0.9782 - val_loss: 0.4538 - val_accuracy: 0.9252\n",
      "Epoch 70/1000\n",
      "Epoch 70: Learning rate is 0.0038742045871913433.\n",
      "19/19 [==============================] - 0s 2ms/step - loss: 0.0366 - accuracy: 0.9909 - val_loss: 0.4887 - val_accuracy: 0.9218\n",
      "Epoch 71/1000\n",
      "Epoch 71: Learning rate is 0.0038742045871913433.\n",
      "19/19 [==============================] - 0s 2ms/step - loss: 0.0322 - accuracy: 0.9876 - val_loss: 0.5496 - val_accuracy: 0.9116\n",
      "\n",
      "Epoch 00071: ReduceLROnPlateau reducing learning rate to 0.003486784128472209.\n",
      "Epoch 72/1000\n",
      "Epoch 72: Learning rate is 0.0034867841750383377.\n",
      "19/19 [==============================] - 0s 2ms/step - loss: 0.0275 - accuracy: 0.9923 - val_loss: 0.5555 - val_accuracy: 0.9116\n",
      "Epoch 73/1000\n",
      "Epoch 73: Learning rate is 0.0034867841750383377.\n",
      "19/19 [==============================] - 0s 2ms/step - loss: 0.0316 - accuracy: 0.9893 - val_loss: 0.6477 - val_accuracy: 0.9048\n",
      "Epoch 74/1000\n",
      "Epoch 74: Learning rate is 0.0034867841750383377.\n",
      "19/19 [==============================] - 0s 2ms/step - loss: 0.0332 - accuracy: 0.9879 - val_loss: 0.5878 - val_accuracy: 0.8946\n",
      "Epoch 75/1000\n",
      "Epoch 75: Learning rate is 0.0034867841750383377.\n",
      "19/19 [==============================] - 0s 2ms/step - loss: 0.0351 - accuracy: 0.9905 - val_loss: 0.5647 - val_accuracy: 0.9082\n",
      "Epoch 76/1000\n",
      "Epoch 76: Learning rate is 0.0034867841750383377.\n",
      "19/19 [==============================] - 0s 2ms/step - loss: 0.0257 - accuracy: 0.9913 - val_loss: 0.5786 - val_accuracy: 0.9082\n",
      "\n",
      "Epoch 00076: ReduceLROnPlateau reducing learning rate to 0.003138105757534504.\n",
      "Epoch 77/1000\n",
      "Epoch 77: Learning rate is 0.0031381058506667614.\n",
      "19/19 [==============================] - 0s 2ms/step - loss: 0.0280 - accuracy: 0.9873 - val_loss: 0.6171 - val_accuracy: 0.9150\n",
      "Epoch 78/1000\n",
      "Epoch 78: Learning rate is 0.0031381058506667614.\n",
      "19/19 [==============================] - 0s 2ms/step - loss: 0.0246 - accuracy: 0.9932 - val_loss: 0.5646 - val_accuracy: 0.9150\n",
      "Epoch 79/1000\n",
      "Epoch 79: Learning rate is 0.0031381058506667614.\n",
      "19/19 [==============================] - 0s 2ms/step - loss: 0.0258 - accuracy: 0.9909 - val_loss: 0.6130 - val_accuracy: 0.9014\n",
      "Epoch 80/1000\n",
      "Epoch 80: Learning rate is 0.0031381058506667614.\n",
      "19/19 [==============================] - 0s 2ms/step - loss: 0.0239 - accuracy: 0.9938 - val_loss: 0.5991 - val_accuracy: 0.9150\n",
      "Epoch 81/1000\n",
      "Epoch 81: Learning rate is 0.0031381058506667614.\n",
      "19/19 [==============================] - 0s 3ms/step - loss: 0.0236 - accuracy: 0.9959 - val_loss: 0.6152 - val_accuracy: 0.9082\n",
      "\n",
      "Epoch 00081: ReduceLROnPlateau reducing learning rate to 0.0028242952656000854.\n",
      "Epoch 82/1000\n",
      "Epoch 82: Learning rate is 0.002824295312166214.\n",
      "19/19 [==============================] - 0s 2ms/step - loss: 0.0316 - accuracy: 0.9920 - val_loss: 0.6209 - val_accuracy: 0.9082\n",
      "Epoch 83/1000\n",
      "Epoch 83: Learning rate is 0.002824295312166214.\n",
      "19/19 [==============================] - 0s 2ms/step - loss: 0.0207 - accuracy: 0.9954 - val_loss: 0.6152 - val_accuracy: 0.9116\n",
      "Epoch 84/1000\n",
      "Epoch 84: Learning rate is 0.002824295312166214.\n",
      "19/19 [==============================] - 0s 2ms/step - loss: 0.0441 - accuracy: 0.9871 - val_loss: 0.5875 - val_accuracy: 0.9184\n",
      "Epoch 85/1000\n",
      "Epoch 85: Learning rate is 0.002824295312166214.\n",
      "19/19 [==============================] - 0s 2ms/step - loss: 0.0497 - accuracy: 0.9829 - val_loss: 0.6085 - val_accuracy: 0.9116\n",
      "Epoch 86/1000\n",
      "Epoch 86: Learning rate is 0.002824295312166214.\n",
      "19/19 [==============================] - 0s 2ms/step - loss: 0.0221 - accuracy: 0.9952 - val_loss: 0.5902 - val_accuracy: 0.9116\n",
      "\n",
      "Epoch 00086: ReduceLROnPlateau reducing learning rate to 0.0025418657809495927.\n",
      "Epoch 87/1000\n",
      "Epoch 87: Learning rate is 0.002541865687817335.\n",
      "19/19 [==============================] - 0s 2ms/step - loss: 0.0225 - accuracy: 0.9944 - val_loss: 0.6266 - val_accuracy: 0.9184\n",
      "Epoch 88/1000\n",
      "Epoch 88: Learning rate is 0.002541865687817335.\n",
      "19/19 [==============================] - 0s 2ms/step - loss: 0.0264 - accuracy: 0.9939 - val_loss: 0.6102 - val_accuracy: 0.9150\n",
      "Epoch 89/1000\n",
      "Epoch 89: Learning rate is 0.002541865687817335.\n",
      "19/19 [==============================] - 0s 2ms/step - loss: 0.0204 - accuracy: 0.9932 - val_loss: 0.6442 - val_accuracy: 0.9116\n",
      "Epoch 90/1000\n",
      "Epoch 90: Learning rate is 0.002541865687817335.\n",
      "19/19 [==============================] - 0s 3ms/step - loss: 0.0120 - accuracy: 0.9972 - val_loss: 0.6747 - val_accuracy: 0.9048\n",
      "Epoch 91/1000\n",
      "Epoch 91: Learning rate is 0.002541865687817335.\n",
      "19/19 [==============================] - 0s 2ms/step - loss: 0.0164 - accuracy: 0.9984 - val_loss: 0.6886 - val_accuracy: 0.9048\n",
      "\n",
      "Epoch 00091: ReduceLROnPlateau reducing learning rate to 0.0022876791190356016.\n",
      "Epoch 92/1000\n",
      "Epoch 92: Learning rate is 0.0022876791190356016.\n",
      "19/19 [==============================] - 0s 2ms/step - loss: 0.0147 - accuracy: 0.9960 - val_loss: 0.7050 - val_accuracy: 0.9116\n",
      "Epoch 93/1000\n",
      "Epoch 93: Learning rate is 0.0022876791190356016.\n",
      "19/19 [==============================] - 0s 2ms/step - loss: 0.0185 - accuracy: 0.9947 - val_loss: 0.6688 - val_accuracy: 0.9116\n",
      "Epoch 94/1000\n",
      "Epoch 94: Learning rate is 0.0022876791190356016.\n",
      "19/19 [==============================] - 0s 2ms/step - loss: 0.0178 - accuracy: 0.9950 - val_loss: 0.6773 - val_accuracy: 0.9048\n",
      "Epoch 95/1000\n",
      "Epoch 95: Learning rate is 0.0022876791190356016.\n",
      "19/19 [==============================] - 0s 2ms/step - loss: 0.0217 - accuracy: 0.9920 - val_loss: 0.6147 - val_accuracy: 0.9150\n",
      "Epoch 96/1000\n",
      "Epoch 96: Learning rate is 0.0022876791190356016.\n",
      "19/19 [==============================] - 0s 2ms/step - loss: 0.0131 - accuracy: 0.9994 - val_loss: 0.6927 - val_accuracy: 0.9082\n",
      "\n",
      "Epoch 00096: ReduceLROnPlateau reducing learning rate to 0.0020589112071320416.\n",
      "Epoch 97/1000\n",
      "Epoch 97: Learning rate is 0.0020589111372828484.\n",
      "19/19 [==============================] - 0s 2ms/step - loss: 0.0126 - accuracy: 0.9960 - val_loss: 0.7191 - val_accuracy: 0.9082\n",
      "Epoch 98/1000\n",
      "Epoch 98: Learning rate is 0.0020589111372828484.\n",
      "19/19 [==============================] - 0s 2ms/step - loss: 0.0132 - accuracy: 0.9984 - val_loss: 0.7092 - val_accuracy: 0.9048\n",
      "Epoch 99/1000\n",
      "Epoch 99: Learning rate is 0.0020589111372828484.\n",
      "19/19 [==============================] - 0s 2ms/step - loss: 0.0093 - accuracy: 0.9991 - val_loss: 0.7276 - val_accuracy: 0.9082\n",
      "Epoch 100/1000\n",
      "Epoch 100: Learning rate is 0.0020589111372828484.\n",
      "19/19 [==============================] - 0s 2ms/step - loss: 0.0074 - accuracy: 0.9997 - val_loss: 0.7268 - val_accuracy: 0.9082\n",
      "Epoch 101/1000\n",
      "Epoch 101: Learning rate is 0.0020589111372828484.\n",
      "19/19 [==============================] - 0s 2ms/step - loss: 0.0125 - accuracy: 0.9984 - val_loss: 0.7613 - val_accuracy: 0.9082\n",
      "\n",
      "Epoch 00101: ReduceLROnPlateau reducing learning rate to 0.0018530200235545636.\n",
      "Epoch 102/1000\n",
      "Epoch 102: Learning rate is 0.0018530200468376279.\n",
      "19/19 [==============================] - 0s 2ms/step - loss: 0.0169 - accuracy: 0.9935 - val_loss: 0.7675 - val_accuracy: 0.9048\n",
      "Epoch 103/1000\n",
      "Epoch 103: Learning rate is 0.0018530200468376279.\n",
      "19/19 [==============================] - 0s 2ms/step - loss: 0.0088 - accuracy: 0.9992 - val_loss: 0.7816 - val_accuracy: 0.9082\n",
      "Epoch 104/1000\n",
      "Epoch 104: Learning rate is 0.0018530200468376279.\n",
      "19/19 [==============================] - 0s 2ms/step - loss: 0.0077 - accuracy: 0.9997 - val_loss: 0.7751 - val_accuracy: 0.9048\n",
      "Epoch 105/1000\n",
      "Epoch 105: Learning rate is 0.0018530200468376279.\n",
      "19/19 [==============================] - 0s 3ms/step - loss: 0.0076 - accuracy: 0.9992 - val_loss: 0.7876 - val_accuracy: 0.9048\n",
      "Epoch 106/1000\n",
      "Epoch 106: Learning rate is 0.0018530200468376279.\n",
      "19/19 [==============================] - 0s 2ms/step - loss: 0.0081 - accuracy: 0.9995 - val_loss: 0.7933 - val_accuracy: 0.9048\n",
      "\n",
      "Epoch 00106: ReduceLROnPlateau reducing learning rate to 0.0016677180421538651.\n",
      "Epoch 107/1000\n",
      "Epoch 107: Learning rate is 0.0016677180537953973.\n",
      "19/19 [==============================] - 0s 2ms/step - loss: 0.0068 - accuracy: 0.9991 - val_loss: 0.7819 - val_accuracy: 0.9048\n",
      "Epoch 108/1000\n",
      "Epoch 108: Learning rate is 0.0016677180537953973.\n",
      "19/19 [==============================] - 0s 2ms/step - loss: 0.0086 - accuracy: 0.9984 - val_loss: 0.7674 - val_accuracy: 0.9082\n",
      "Epoch 109/1000\n",
      "Epoch 109: Learning rate is 0.0016677180537953973.\n",
      "19/19 [==============================] - 0s 2ms/step - loss: 0.0153 - accuracy: 0.9943 - val_loss: 0.7704 - val_accuracy: 0.9014\n",
      "Epoch 110/1000\n",
      "Epoch 110: Learning rate is 0.0016677180537953973.\n",
      "19/19 [==============================] - 0s 2ms/step - loss: 0.0131 - accuracy: 0.9941 - val_loss: 0.7697 - val_accuracy: 0.9048\n",
      "Epoch 111/1000\n",
      "Epoch 111: Learning rate is 0.0016677180537953973.\n",
      "19/19 [==============================] - 0s 2ms/step - loss: 0.0104 - accuracy: 0.9948 - val_loss: 0.8109 - val_accuracy: 0.9014\n",
      "\n",
      "Epoch 00111: ReduceLROnPlateau reducing learning rate to 0.0015009462484158575.\n",
      "Epoch 112/1000\n",
      "Epoch 112: Learning rate is 0.0015009462367743254.\n",
      "19/19 [==============================] - 0s 3ms/step - loss: 0.0069 - accuracy: 0.9990 - val_loss: 0.7855 - val_accuracy: 0.9082\n",
      "Epoch 113/1000\n",
      "Epoch 113: Learning rate is 0.0015009462367743254.\n",
      "19/19 [==============================] - 0s 2ms/step - loss: 0.0091 - accuracy: 0.9986 - val_loss: 0.8140 - val_accuracy: 0.9014\n",
      "Epoch 114/1000\n",
      "Epoch 114: Learning rate is 0.0015009462367743254.\n",
      "19/19 [==============================] - 0s 2ms/step - loss: 0.0065 - accuracy: 0.9986 - val_loss: 0.8188 - val_accuracy: 0.9048\n",
      "Epoch 115/1000\n",
      "Epoch 115: Learning rate is 0.0015009462367743254.\n",
      "19/19 [==============================] - 0s 2ms/step - loss: 0.0059 - accuracy: 0.9998 - val_loss: 0.8441 - val_accuracy: 0.9014\n",
      "Epoch 116/1000\n",
      "Epoch 116: Learning rate is 0.0015009462367743254.\n",
      "19/19 [==============================] - 0s 2ms/step - loss: 0.0049 - accuracy: 0.9998 - val_loss: 0.8587 - val_accuracy: 0.9014\n",
      "\n",
      "Epoch 00116: ReduceLROnPlateau reducing learning rate to 0.0013508516130968928.\n",
      "Epoch 117/1000\n",
      "Epoch 117: Learning rate is 0.0013508516130968928.\n",
      "19/19 [==============================] - 0s 2ms/step - loss: 0.0118 - accuracy: 0.9964 - val_loss: 0.8423 - val_accuracy: 0.9048\n",
      "Epoch 118/1000\n",
      "Epoch 118: Learning rate is 0.0013508516130968928.\n",
      "19/19 [==============================] - 0s 3ms/step - loss: 0.0150 - accuracy: 0.9945 - val_loss: 0.8066 - val_accuracy: 0.9150\n",
      "Epoch 119/1000\n",
      "Epoch 119: Learning rate is 0.0013508516130968928.\n",
      "19/19 [==============================] - 0s 2ms/step - loss: 0.0083 - accuracy: 0.9981 - val_loss: 0.8399 - val_accuracy: 0.9048\n",
      "Epoch 120/1000\n",
      "Epoch 120: Learning rate is 0.0013508516130968928.\n",
      "19/19 [==============================] - 0s 2ms/step - loss: 0.0110 - accuracy: 0.9937 - val_loss: 0.9001 - val_accuracy: 0.8980\n",
      "Epoch 121/1000\n",
      "Epoch 121: Learning rate is 0.0013508516130968928.\n",
      "19/19 [==============================] - 0s 2ms/step - loss: 0.0046 - accuracy: 0.9994 - val_loss: 0.8984 - val_accuracy: 0.9048\n",
      "\n",
      "Epoch 00121: ReduceLROnPlateau reducing learning rate to 0.0012157664517872036.\n",
      "Epoch 122/1000\n",
      "Epoch 122: Learning rate is 0.001215766416862607.\n",
      "19/19 [==============================] - 0s 2ms/step - loss: 0.0047 - accuracy: 0.9997 - val_loss: 0.8591 - val_accuracy: 0.9014\n",
      "Epoch 123/1000\n",
      "Epoch 123: Learning rate is 0.001215766416862607.\n",
      "19/19 [==============================] - 0s 2ms/step - loss: 0.0060 - accuracy: 0.9984 - val_loss: 0.8806 - val_accuracy: 0.9048\n",
      "Epoch 124/1000\n",
      "Epoch 124: Learning rate is 0.001215766416862607.\n",
      "19/19 [==============================] - 0s 3ms/step - loss: 0.0054 - accuracy: 0.9984 - val_loss: 0.8847 - val_accuracy: 0.9014\n",
      "Epoch 125/1000\n",
      "Epoch 125: Learning rate is 0.001215766416862607.\n",
      "19/19 [==============================] - 0s 2ms/step - loss: 0.0046 - accuracy: 0.9997 - val_loss: 0.9014 - val_accuracy: 0.9014\n",
      "Epoch 126/1000\n",
      "Epoch 126: Learning rate is 0.001215766416862607.\n",
      "19/19 [==============================] - 0s 2ms/step - loss: 0.0045 - accuracy: 0.9999 - val_loss: 0.8915 - val_accuracy: 0.9014\n",
      "\n",
      "Epoch 00126: ReduceLROnPlateau reducing learning rate to 0.0010941897751763463.\n",
      "Epoch 127/1000\n",
      "Epoch 127: Learning rate is 0.001094189821742475.\n",
      "19/19 [==============================] - 0s 2ms/step - loss: 0.0032 - accuracy: 1.0000 - val_loss: 0.8929 - val_accuracy: 0.9014\n",
      "Epoch 128/1000\n",
      "Epoch 128: Learning rate is 0.001094189821742475.\n",
      "19/19 [==============================] - 0s 2ms/step - loss: 0.0031 - accuracy: 0.9997 - val_loss: 0.9282 - val_accuracy: 0.9014\n",
      "Epoch 129/1000\n",
      "Epoch 129: Learning rate is 0.001094189821742475.\n",
      "19/19 [==============================] - 0s 2ms/step - loss: 0.0054 - accuracy: 0.9986 - val_loss: 0.8751 - val_accuracy: 0.9150\n",
      "Epoch 130/1000\n",
      "Epoch 130: Learning rate is 0.001094189821742475.\n",
      "19/19 [==============================] - 0s 2ms/step - loss: 0.0061 - accuracy: 1.0000 - val_loss: 0.9150 - val_accuracy: 0.9014\n",
      "Epoch 131/1000\n",
      "Epoch 131: Learning rate is 0.001094189821742475.\n",
      "19/19 [==============================] - 0s 2ms/step - loss: 0.0028 - accuracy: 0.9998 - val_loss: 0.9189 - val_accuracy: 0.9014\n",
      "\n",
      "Epoch 00131: ReduceLROnPlateau reducing learning rate to 0.0009847708395682275.\n",
      "Epoch 132/1000\n",
      "Epoch 132: Learning rate is 0.0009847708279266953.\n",
      "19/19 [==============================] - 0s 2ms/step - loss: 0.0041 - accuracy: 1.0000 - val_loss: 0.9185 - val_accuracy: 0.9014\n",
      "Epoch 133/1000\n",
      "Epoch 133: Learning rate is 0.0009847708279266953.\n",
      "19/19 [==============================] - 0s 2ms/step - loss: 0.0035 - accuracy: 1.0000 - val_loss: 0.9220 - val_accuracy: 0.9014\n",
      "Epoch 134/1000\n",
      "Epoch 134: Learning rate is 0.0009847708279266953.\n",
      "19/19 [==============================] - 0s 2ms/step - loss: 0.0035 - accuracy: 1.0000 - val_loss: 0.9175 - val_accuracy: 0.9014\n",
      "Epoch 135/1000\n",
      "Epoch 135: Learning rate is 0.0009847708279266953.\n",
      "19/19 [==============================] - 0s 2ms/step - loss: 0.0031 - accuracy: 1.0000 - val_loss: 0.9311 - val_accuracy: 0.9014\n",
      "Epoch 136/1000\n",
      "Epoch 136: Learning rate is 0.0009847708279266953.\n",
      "19/19 [==============================] - 0s 2ms/step - loss: 0.0043 - accuracy: 1.0000 - val_loss: 0.9275 - val_accuracy: 0.9014\n",
      "\n",
      "Epoch 00136: ReduceLROnPlateau reducing learning rate to 0.0008862937451340258.\n",
      "Epoch 137/1000\n",
      "Epoch 137: Learning rate is 0.0008862937684170902.\n",
      "19/19 [==============================] - 0s 2ms/step - loss: 0.0030 - accuracy: 1.0000 - val_loss: 0.9514 - val_accuracy: 0.9014\n",
      "Epoch 138/1000\n",
      "Epoch 138: Learning rate is 0.0008862937684170902.\n",
      "19/19 [==============================] - 0s 2ms/step - loss: 0.0041 - accuracy: 1.0000 - val_loss: 0.9196 - val_accuracy: 0.9014\n",
      "Epoch 139/1000\n",
      "Epoch 139: Learning rate is 0.0008862937684170902.\n",
      "19/19 [==============================] - 0s 2ms/step - loss: 0.0040 - accuracy: 0.9988 - val_loss: 0.9521 - val_accuracy: 0.9014\n",
      "Epoch 140/1000\n",
      "Epoch 140: Learning rate is 0.0008862937684170902.\n",
      "19/19 [==============================] - 0s 2ms/step - loss: 0.0026 - accuracy: 1.0000 - val_loss: 0.9367 - val_accuracy: 0.9014\n",
      "Epoch 141/1000\n",
      "Epoch 141: Learning rate is 0.0008862937684170902.\n",
      "19/19 [==============================] - 0s 2ms/step - loss: 0.0039 - accuracy: 1.0000 - val_loss: 0.9388 - val_accuracy: 0.9014\n",
      "Restoring model weights from the end of the best epoch.\n",
      "\n",
      "Epoch 00141: ReduceLROnPlateau reducing learning rate to 0.0007976643915753812.\n",
      "Epoch 00141: early stopping\n"
     ]
    }
   ],
   "source": [
    "# Pass the callback to the fit method\n",
    "history = model.fit(\n",
    "    X_train,\n",
    "    y_train,\n",
    "    validation_split=0.2,\n",
    "    epochs=1000,\n",
    "    batch_size=64,\n",
    "    callbacks=callbacks  # include it here\n",
    ")"
   ],
   "metadata": {
    "collapsed": false,
    "ExecuteTime": {
     "end_time": "2024-03-04T22:13:42.822693Z",
     "start_time": "2024-03-04T22:13:33.489031Z"
    }
   },
   "id": "bd3f41f1f688e43"
  },
  {
   "cell_type": "code",
   "execution_count": 10,
   "outputs": [
    {
     "name": "stdout",
     "output_type": "stream",
     "text": [
      "12/12 [==============================] - 0s 1ms/step - loss: 0.2938 - accuracy: 0.8992\n",
      "Test accuracy: 0.8991825580596924\n",
      "Test loss: 0.2937646508216858\n"
     ]
    }
   ],
   "source": [
    "# Evaluating the model\n",
    "test_loss, test_acc = model.evaluate(X_test, y_test)\n",
    "print('Test accuracy:', test_acc)\n",
    "print('Test loss:', test_loss)"
   ],
   "metadata": {
    "collapsed": false,
    "ExecuteTime": {
     "end_time": "2024-03-04T22:13:46.757979Z",
     "start_time": "2024-03-04T22:13:46.710713Z"
    }
   },
   "id": "initial_id"
  },
  {
   "cell_type": "code",
   "outputs": [
    {
     "data": {
      "text/plain": "array([[154,   0,   0],\n       [  4,  63,  10],\n       [  0,  23, 113]])"
     },
     "execution_count": 11,
     "metadata": {},
     "output_type": "execute_result"
    }
   ],
   "source": [
    "#confusion matrix\n",
    "from sklearn.metrics import confusion_matrix\n",
    "import numpy as np\n",
    "y_pred = model.predict(X_test)\n",
    "y_pred = np.argmax(y_pred, axis=1)\n",
    "y_test = np.argmax(y_test, axis=1)\n",
    "confusion_matrix(y_test, y_pred)"
   ],
   "metadata": {
    "collapsed": false,
    "ExecuteTime": {
     "end_time": "2024-03-04T22:13:52.110411Z",
     "start_time": "2024-03-04T22:13:52.026044Z"
    }
   },
   "id": "1352cb1eded44f03",
   "execution_count": 11
  },
  {
   "cell_type": "code",
   "execution_count": 12,
   "outputs": [
    {
     "data": {
      "text/plain": "<Figure size 640x480 with 1 Axes>",
      "image/png": "[encoded data removed]"
     },
     "metadata": {},
     "output_type": "display_data"
    },
    {
     "data": {
      "text/plain": "<Figure size 640x480 with 1 Axes>",
      "image/png": "[encoded data removed]"
     },
     "metadata": {},
     "output_type": "display_data"
    },
    {
     "data": {
      "text/plain": "<Figure size 640x480 with 1 Axes>",
      "image/png": "[encoded data removed]"
     },
     "metadata": {},
     "output_type": "display_data"
    }
   ],
   "source": [
    "# Plotting the training and validation loss\n",
    "import matplotlib.pyplot as plt\n",
    "\n",
    "plt.plot(history.history['loss'])\n",
    "plt.plot(history.history['val_loss'])\n",
    "plt.title('Model loss')\n",
    "plt.ylabel('Loss')\n",
    "plt.xlabel('Epochs')\n",
    "plt.legend(['Train', 'Validation'], loc='upper right')\n",
    "plt.show()\n",
    "\n",
    "plt.plot(history.history['accuracy'])\n",
    "plt.plot(history.history['val_accuracy'])\n",
    "plt.title('Model accuracy')\n",
    "plt.ylabel('Accuracy')\n",
    "plt.xlabel('Epochs')\n",
    "plt.legend(['Train', 'Validation'], loc='lower right')\n",
    "plt.show()\n",
    "\n",
    "# Plotting\n",
    "# plt.figure(figsize=(8, 8))\n",
    "plt.plot(lr_tracker.learning_rates)\n",
    "plt.title(\"Learning Rate over Epochs\")\n",
    "plt.xlabel(\"Epoch\")\n",
    "plt.ylabel(\"Learning Rate\")\n",
    "plt.grid(True)"
   ],
   "metadata": {
    "collapsed": false,
    "ExecuteTime": {
     "end_time": "2024-03-04T22:14:56.365300Z",
     "start_time": "2024-03-04T22:14:54.926784Z"
    }
   },
   "id": "1d82547b5da98e0"
  },
  {
   "cell_type": "code",
   "execution_count": 13,
   "outputs": [
    {
     "name": "stderr",
     "output_type": "stream",
     "text": [
      "2024-03-04 22:15:03.962438: W tensorflow/python/util/util.cc:348] Sets are not currently considered sequences, but this may change in the future, so consider avoiding using them.\n"
     ]
    },
    {
     "name": "stdout",
     "output_type": "stream",
     "text": [
      "INFO:tensorflow:Assets written to: /home/adam/FurtherResearch/Model/Exoskeleton/Baseline/exo_model/assets\n"
     ]
    }
   ],
   "source": [
    "# Save the model\n",
    "tf.keras.models.save_model(model, '/home/adam/FurtherResearch/Model/Exoskeleton/Baseline/exo_model')"
   ],
   "metadata": {
    "collapsed": false,
    "ExecuteTime": {
     "end_time": "2024-03-04T22:15:04.325838Z",
     "start_time": "2024-03-04T22:15:03.865821Z"
    }
   },
   "id": "971afc8f1ecd8193"
  },
  {
   "cell_type": "code",
   "execution_count": 14,
   "outputs": [
    {
     "name": "stdout",
     "output_type": "stream",
     "text": [
      "Model: \"model\"\n",
      "_________________________________________________________________\n",
      "Layer (type)                 Output Shape              Param #   \n",
      "=================================================================\n",
      "dense_0_input (InputLayer)   [(None, 63)]              0         \n",
      "_________________________________________________________________\n",
      "dense_0 (Dense)              (None, 128)               8192      \n",
      "_________________________________________________________________\n",
      "dense_1 (Dense)              (None, 64)                8256      \n",
      "_________________________________________________________________\n",
      "dense_2 (Dense)              (None, 3)                 195       \n",
      "=================================================================\n",
      "Total params: 16,643\n",
      "Trainable params: 16,643\n",
      "Non-trainable params: 0\n",
      "_________________________________________________________________\n"
     ]
    }
   ],
   "source": [
    "from tensorflow.keras.models import Model\n",
    "\n",
    "# model.summary()\n",
    "# Assume 'original_model' is your pre-trained model\n",
    "model_without_softmax = Model(inputs=model.input, \n",
    "                              outputs=model.get_layer(\"dense_2\").output)\n",
    "model_without_softmax.summary()\n"
   ],
   "metadata": {
    "collapsed": false,
    "ExecuteTime": {
     "end_time": "2024-03-04T22:15:35.543259Z",
     "start_time": "2024-03-04T22:15:35.538291Z"
    }
   },
   "id": "9445a32c75176e7b"
  },
  {
   "cell_type": "code",
   "execution_count": 15,
   "outputs": [
    {
     "name": "stdout",
     "output_type": "stream",
     "text": [
      "INFO:tensorflow:Assets written to: /home/adam/FurtherResearch/Model/Exoskeleton/Baseline/exo_model_without_softmax/assets\n"
     ]
    }
   ],
   "source": [
    "# Save the model\n",
    "tf.keras.models.save_model(model_without_softmax, '/home/adam/FurtherResearch/Model/Exoskeleton/Baseline/exo_model_without_softmax')"
   ],
   "metadata": {
    "collapsed": false,
    "ExecuteTime": {
     "end_time": "2024-03-04T22:15:38.958723Z",
     "start_time": "2024-03-04T22:15:38.724707Z"
    }
   },
   "id": "61da15b78744777b"
  },
  {
   "cell_type": "code",
   "execution_count": 32,
   "outputs": [
    {
     "name": "stdout",
     "output_type": "stream",
     "text": [
      "WARNING:tensorflow:No training configuration found in save file, so the model was *not* compiled. Compile it manually.\n"
     ]
    },
    {
     "data": {
      "text/plain": "array([[7.91898880e+01, 5.57430792e+00, 6.68306274e+01],\n       [0.00000000e+00, 3.90658832e+00, 0.00000000e+00],\n       [0.00000000e+00, 0.00000000e+00, 0.00000000e+00],\n       [0.00000000e+00, 9.56836033e+00, 0.00000000e+00],\n       [0.00000000e+00, 9.63489592e-01, 0.00000000e+00],\n       [0.00000000e+00, 0.00000000e+00, 0.00000000e+00],\n       [2.05130844e+01, 2.18199577e+01, 6.36735821e+00],\n       [0.00000000e+00, 2.25438766e+01, 0.00000000e+00],\n       [6.59429092e+01, 1.70275002e+01, 5.27950058e+01],\n       [6.52022781e+01, 1.99708233e+01, 5.08618851e+01],\n       [0.00000000e+00, 0.00000000e+00, 0.00000000e+00],\n       [5.90349998e+01, 1.78758469e+01, 4.42702179e+01],\n       [0.00000000e+00, 1.00491638e+01, 0.00000000e+00],\n       [0.00000000e+00, 0.00000000e+00, 0.00000000e+00],\n       [0.00000000e+00, 0.00000000e+00, 0.00000000e+00],\n       [0.00000000e+00, 0.00000000e+00, 0.00000000e+00],\n       [3.45404434e+01, 2.00261917e+01, 1.99619961e+01],\n       [0.00000000e+00, 2.16502213e+00, 0.00000000e+00],\n       [1.49675888e+02, 3.46249886e+01, 1.25935844e+02],\n       [0.00000000e+00, 1.08430662e+01, 0.00000000e+00],\n       [8.10442200e+01, 2.38256493e+01, 6.35654678e+01],\n       [5.99550247e+01, 1.94702454e+01, 4.70332260e+01],\n       [0.00000000e+00, 0.00000000e+00, 0.00000000e+00],\n       [0.00000000e+00, 1.13088453e+00, 0.00000000e+00],\n       [4.14269104e+01, 1.21164799e+01, 3.25735779e+01],\n       [0.00000000e+00, 6.08060312e+00, 0.00000000e+00],\n       [0.00000000e+00, 5.10136414e+00, 0.00000000e+00],\n       [0.00000000e+00, 0.00000000e+00, 0.00000000e+00],\n       [9.67972565e+01, 3.05324192e+01, 8.06252289e+01],\n       [0.00000000e+00, 0.00000000e+00, 0.00000000e+00],\n       [0.00000000e+00, 0.00000000e+00, 0.00000000e+00],\n       [6.63790817e+01, 1.90754166e+01, 5.11629028e+01],\n       [0.00000000e+00, 3.17098069e+00, 0.00000000e+00],\n       [3.38438072e+01, 1.42922382e+01, 2.48223038e+01],\n       [0.00000000e+00, 4.62081194e+00, 0.00000000e+00],\n       [0.00000000e+00, 0.00000000e+00, 0.00000000e+00],\n       [0.00000000e+00, 0.00000000e+00, 0.00000000e+00],\n       [0.00000000e+00, 0.00000000e+00, 0.00000000e+00],\n       [0.00000000e+00, 5.81919193e+00, 0.00000000e+00],\n       [9.12653427e+01, 0.00000000e+00, 7.89331207e+01],\n       [0.00000000e+00, 0.00000000e+00, 0.00000000e+00],\n       [0.00000000e+00, 2.13683224e+00, 0.00000000e+00],\n       [7.52585373e+01, 2.10117760e+01, 6.43474503e+01],\n       [0.00000000e+00, 7.71293592e+00, 0.00000000e+00],\n       [0.00000000e+00, 6.32173395e+00, 0.00000000e+00],\n       [0.00000000e+00, 1.17875376e+01, 0.00000000e+00],\n       [0.00000000e+00, 0.00000000e+00, 0.00000000e+00],\n       [0.00000000e+00, 4.68138266e+00, 0.00000000e+00],\n       [5.09792633e+01, 1.84472122e+01, 4.00433846e+01],\n       [0.00000000e+00, 1.16123753e+01, 0.00000000e+00],\n       [5.52049637e+01, 1.61420593e+01, 4.46497765e+01],\n       [4.09868774e+01, 1.21371727e+01, 3.24046097e+01],\n       [0.00000000e+00, 3.63345194e+00, 0.00000000e+00],\n       [7.50502634e+00, 3.10184517e+01, 4.10724974e+00],\n       [7.27775497e+01, 2.58337898e+01, 5.58700409e+01],\n       [3.58186493e+01, 1.39175682e+01, 2.54058094e+01],\n       [2.32790489e+01, 2.59444809e+00, 1.74767208e+01],\n       [0.00000000e+00, 0.00000000e+00, 0.00000000e+00],\n       [1.17343620e+02, 2.55190830e+01, 1.03485344e+02],\n       [0.00000000e+00, 9.24306512e-01, 0.00000000e+00],\n       [1.40316605e+02, 1.63054047e+01, 1.25644218e+02],\n       [1.45959549e+02, 2.94769821e+01, 1.25607208e+02],\n       [0.00000000e+00, 4.44881248e+00, 0.00000000e+00],\n       [4.33991241e+01, 9.33581543e+00, 3.47576523e+01],\n       [0.00000000e+00, 0.00000000e+00, 0.00000000e+00],\n       [4.22476845e+01, 1.69905701e+01, 3.22868118e+01],\n       [0.00000000e+00, 1.22669029e+01, 0.00000000e+00],\n       [0.00000000e+00, 6.94787502e+00, 0.00000000e+00],\n       [1.53056351e+02, 2.10454025e+01, 1.35984604e+02],\n       [1.27088913e+02, 3.05119133e+01, 1.10100502e+02],\n       [0.00000000e+00, 6.31912804e+00, 0.00000000e+00],\n       [0.00000000e+00, 7.67586184e+00, 0.00000000e+00],\n       [3.47888718e+01, 4.18330050e+00, 2.68960629e+01],\n       [0.00000000e+00, 4.38828975e-01, 0.00000000e+00],\n       [9.75256271e+01, 5.96733379e+00, 8.29090424e+01],\n       [0.00000000e+00, 0.00000000e+00, 0.00000000e+00],\n       [0.00000000e+00, 4.44261885e+00, 0.00000000e+00],\n       [0.00000000e+00, 0.00000000e+00, 0.00000000e+00],\n       [0.00000000e+00, 0.00000000e+00, 0.00000000e+00],\n       [4.30506401e+01, 1.90791283e+01, 3.24760017e+01],\n       [0.00000000e+00, 5.01938009e+00, 0.00000000e+00],\n       [0.00000000e+00, 2.56044292e+00, 0.00000000e+00],\n       [0.00000000e+00, 0.00000000e+00, 0.00000000e+00],\n       [0.00000000e+00, 0.00000000e+00, 0.00000000e+00],\n       [1.24470528e+02, 2.80709801e+01, 1.09591919e+02],\n       [4.77738266e+01, 0.00000000e+00, 3.90330429e+01],\n       [0.00000000e+00, 0.00000000e+00, 0.00000000e+00],\n       [0.00000000e+00, 5.97510958e+00, 0.00000000e+00],\n       [6.08356361e+01, 1.90026283e+01, 5.03472137e+01],\n       [0.00000000e+00, 0.00000000e+00, 0.00000000e+00],\n       [8.90541382e+01, 4.24789696e+01, 5.99780502e+01],\n       [0.00000000e+00, 3.63595295e+00, 0.00000000e+00],\n       [2.20917999e+02, 4.23916435e+01, 1.89910431e+02],\n       [0.00000000e+00, 7.43080282e+00, 0.00000000e+00],\n       [0.00000000e+00, 3.35619259e+00, 0.00000000e+00],\n       [0.00000000e+00, 0.00000000e+00, 0.00000000e+00],\n       [0.00000000e+00, 1.49282014e+00, 0.00000000e+00],\n       [3.47651749e+01, 1.79060421e+01, 2.30381145e+01],\n       [9.54885178e+01, 0.00000000e+00, 7.69791183e+01],\n       [2.63136921e+01, 9.90148067e+00, 1.77368603e+01],\n       [0.00000000e+00, 0.00000000e+00, 0.00000000e+00],\n       [1.31954071e+02, 1.66453247e+01, 1.18146088e+02],\n       [0.00000000e+00, 3.13031912e+00, 0.00000000e+00],\n       [0.00000000e+00, 0.00000000e+00, 0.00000000e+00],\n       [1.19982246e+02, 3.19591255e+01, 9.65410156e+01],\n       [0.00000000e+00, 0.00000000e+00, 0.00000000e+00],\n       [9.27786331e+01, 2.43698597e+01, 7.95628967e+01],\n       [4.81282196e+01, 2.35956879e+01, 3.57844467e+01],\n       [7.27855911e+01, 2.87626953e+01, 5.95355530e+01],\n       [5.31254044e+01, 1.03937035e+01, 4.18373947e+01],\n       [2.64360905e+01, 1.13084545e+01, 1.88435955e+01],\n       [4.36284637e+01, 1.57054892e+01, 3.25612259e+01],\n       [0.00000000e+00, 0.00000000e+00, 0.00000000e+00],\n       [0.00000000e+00, 2.09191155e+00, 0.00000000e+00],\n       [0.00000000e+00, 4.84042215e+00, 0.00000000e+00],\n       [0.00000000e+00, 0.00000000e+00, 0.00000000e+00],\n       [3.12126637e+00, 1.96055412e+01, 0.00000000e+00],\n       [3.46745300e+01, 7.36459351e+00, 2.84451180e+01],\n       [0.00000000e+00, 6.70250082e+00, 0.00000000e+00],\n       [0.00000000e+00, 0.00000000e+00, 0.00000000e+00],\n       [5.96764145e+01, 2.25087357e+01, 4.54719849e+01],\n       [4.56122360e+01, 1.64567642e+01, 3.48950119e+01],\n       [8.00139160e+01, 2.64989662e+01, 6.01479645e+01],\n       [1.32840210e+02, 3.53330193e+01, 1.11737946e+02],\n       [1.43377548e+02, 2.08186302e+01, 1.26568024e+02],\n       [4.11074982e+01, 2.80552387e+00, 3.28321877e+01],\n       [0.00000000e+00, 2.23065996e+00, 0.00000000e+00],\n       [0.00000000e+00, 0.00000000e+00, 0.00000000e+00],\n       [0.00000000e+00, 0.00000000e+00, 0.00000000e+00],\n       [9.58649521e+01, 2.35653496e+01, 7.80518188e+01],\n       [0.00000000e+00, 2.22625470e+00, 0.00000000e+00],\n       [9.34331436e+01, 5.29867554e+00, 8.01641235e+01],\n       [0.00000000e+00, 8.35549545e+00, 0.00000000e+00],\n       [8.39136658e+01, 2.39025726e+01, 6.69991150e+01],\n       [6.27387810e+01, 2.24502659e+00, 5.59911499e+01],\n       [0.00000000e+00, 0.00000000e+00, 0.00000000e+00],\n       [0.00000000e+00, 6.25999165e+00, 0.00000000e+00],\n       [0.00000000e+00, 0.00000000e+00, 0.00000000e+00],\n       [0.00000000e+00, 7.01340437e+00, 0.00000000e+00],\n       [0.00000000e+00, 3.07890725e+00, 0.00000000e+00],\n       [9.47310410e+01, 1.82698879e+01, 8.19715881e+01],\n       [0.00000000e+00, 0.00000000e+00, 0.00000000e+00],\n       [4.02712402e+01, 1.14962463e+01, 3.19702015e+01],\n       [4.26644287e+01, 1.66430054e+01, 3.11320629e+01],\n       [4.80641508e+00, 2.44732265e+01, 2.33881164e+00],\n       [4.97464371e+01, 3.53606224e+00, 4.47060776e+01],\n       [3.14637985e+01, 1.31659660e+01, 2.37390156e+01],\n       [0.00000000e+00, 9.29631805e+00, 0.00000000e+00],\n       [7.66834946e+01, 1.99726963e+01, 5.90892296e+01],\n       [2.57349854e+01, 0.00000000e+00, 2.15979252e+01],\n       [7.54132233e+01, 8.86683941e+00, 6.30738068e+01],\n       [0.00000000e+00, 3.31858850e+00, 0.00000000e+00],\n       [0.00000000e+00, 0.00000000e+00, 0.00000000e+00],\n       [0.00000000e+00, 0.00000000e+00, 0.00000000e+00],\n       [2.62787819e+01, 1.70594120e+01, 1.64683971e+01],\n       [0.00000000e+00, 0.00000000e+00, 0.00000000e+00],\n       [0.00000000e+00, 0.00000000e+00, 0.00000000e+00],\n       [2.99962158e+01, 1.61330795e+01, 2.05886898e+01],\n       [6.21927032e+01, 3.86622262e+00, 5.45226059e+01],\n       [1.01568169e+02, 2.91566229e+00, 8.53578720e+01],\n       [7.32183304e+01, 2.00263176e+01, 5.72897263e+01],\n       [0.00000000e+00, 5.96251154e+00, 0.00000000e+00],\n       [0.00000000e+00, 0.00000000e+00, 0.00000000e+00],\n       [0.00000000e+00, 0.00000000e+00, 0.00000000e+00],\n       [1.49046326e+02, 3.92215424e+01, 1.27941986e+02],\n       [0.00000000e+00, 0.00000000e+00, 0.00000000e+00],\n       [0.00000000e+00, 5.24081326e+00, 0.00000000e+00],\n       [1.36444412e+02, 3.39976768e+01, 1.15721100e+02],\n       [3.74047928e+01, 1.91616917e+01, 2.56294479e+01],\n       [2.44863739e+01, 1.28985138e+01, 1.72310429e+01],\n       [1.02996483e+02, 2.57827187e+01, 9.03926849e+01],\n       [9.30058060e+01, 2.24670811e+01, 7.41154633e+01],\n       [1.57784500e+02, 2.18118477e+01, 1.40912262e+02],\n       [1.43186325e+02, 3.52042732e+01, 1.21823517e+02],\n       [0.00000000e+00, 0.00000000e+00, 0.00000000e+00],\n       [1.17151575e+01, 6.96941948e+00, 5.31190395e+00],\n       [0.00000000e+00, 3.22134876e+00, 0.00000000e+00],\n       [4.99864731e+01, 6.62245417e+00, 4.11240044e+01],\n       [3.85775108e+01, 1.22046804e+01, 3.02527485e+01],\n       [2.17183426e+02, 2.64672089e+01, 1.86885712e+02],\n       [2.99463692e+01, 1.09633799e+01, 2.33181286e+01],\n       [2.49821815e+01, 5.60227489e+00, 1.76061554e+01],\n       [0.00000000e+00, 0.00000000e+00, 0.00000000e+00],\n       [1.59955204e+00, 4.48289537e+00, 0.00000000e+00],\n       [8.07290421e+01, 3.36475563e+01, 6.07211456e+01],\n       [0.00000000e+00, 2.76405067e+01, 0.00000000e+00],\n       [0.00000000e+00, 7.89778519e+00, 0.00000000e+00],\n       [0.00000000e+00, 9.49864006e+00, 0.00000000e+00],\n       [3.92977333e+01, 1.15418148e+01, 3.15516052e+01],\n       [0.00000000e+00, 7.27877235e+00, 0.00000000e+00],\n       [5.81858101e+01, 1.91847191e+01, 4.36680450e+01],\n       [0.00000000e+00, 7.16504991e-01, 0.00000000e+00],\n       [0.00000000e+00, 0.00000000e+00, 0.00000000e+00],\n       [0.00000000e+00, 7.16782856e+00, 0.00000000e+00],\n       [0.00000000e+00, 0.00000000e+00, 0.00000000e+00],\n       [0.00000000e+00, 0.00000000e+00, 0.00000000e+00],\n       [0.00000000e+00, 0.00000000e+00, 0.00000000e+00],\n       [1.73026371e+01, 1.80406303e+01, 7.97268009e+00],\n       [4.32202972e+02, 1.13745705e+02, 3.80422760e+02],\n       [0.00000000e+00, 1.55239372e+01, 0.00000000e+00],\n       [9.06872101e+01, 6.79589510e+00, 7.67478790e+01],\n       [0.00000000e+00, 0.00000000e+00, 0.00000000e+00],\n       [0.00000000e+00, 0.00000000e+00, 0.00000000e+00],\n       [0.00000000e+00, 2.07448125e+00, 0.00000000e+00],\n       [0.00000000e+00, 1.55139008e+01, 0.00000000e+00],\n       [0.00000000e+00, 2.62124926e-01, 0.00000000e+00],\n       [0.00000000e+00, 0.00000000e+00, 0.00000000e+00],\n       [0.00000000e+00, 2.17390633e+00, 0.00000000e+00],\n       [0.00000000e+00, 6.29328346e+00, 0.00000000e+00],\n       [0.00000000e+00, 0.00000000e+00, 0.00000000e+00],\n       [0.00000000e+00, 5.78934145e+00, 0.00000000e+00],\n       [0.00000000e+00, 6.05127621e+00, 0.00000000e+00],\n       [0.00000000e+00, 0.00000000e+00, 0.00000000e+00],\n       [1.30802333e-01, 1.92365627e+01, 0.00000000e+00],\n       [6.92252808e+01, 2.11387463e+01, 5.30371094e+01],\n       [1.11332527e+02, 1.66715736e+01, 9.56428986e+01],\n       [0.00000000e+00, 1.17336998e+01, 0.00000000e+00],\n       [6.74232483e+01, 2.07073231e+01, 5.29878159e+01],\n       [6.39651260e+01, 2.06625214e+01, 5.19123421e+01],\n       [3.73604774e+01, 1.15611992e+01, 2.96032085e+01],\n       [0.00000000e+00, 0.00000000e+00, 0.00000000e+00],\n       [2.00666641e+02, 1.88267155e+01, 1.75686996e+02],\n       [4.17098160e+01, 8.59470081e+00, 3.45317497e+01],\n       [2.94849815e+01, 1.27244129e+01, 2.13794289e+01],\n       [0.00000000e+00, 1.05274849e+01, 0.00000000e+00],\n       [0.00000000e+00, 5.20507288e+00, 0.00000000e+00],\n       [0.00000000e+00, 0.00000000e+00, 0.00000000e+00],\n       [5.69182730e+00, 1.80576336e+00, 6.58461988e-01],\n       [7.03150864e+01, 2.12193050e+01, 5.61152496e+01],\n       [6.96264038e+01, 2.63447781e+01, 5.72682877e+01],\n       [0.00000000e+00, 1.65734329e+01, 0.00000000e+00],\n       [0.00000000e+00, 1.05145302e+01, 0.00000000e+00],\n       [0.00000000e+00, 1.93371344e+00, 0.00000000e+00],\n       [0.00000000e+00, 1.11417758e+00, 0.00000000e+00],\n       [0.00000000e+00, 1.23747044e+01, 0.00000000e+00],\n       [9.21455917e+01, 3.07543468e+01, 7.36630249e+01],\n       [5.97720985e+01, 1.90387421e+01, 4.62519875e+01],\n       [0.00000000e+00, 2.99120235e+00, 0.00000000e+00],\n       [0.00000000e+00, 0.00000000e+00, 0.00000000e+00],\n       [0.00000000e+00, 0.00000000e+00, 0.00000000e+00],\n       [0.00000000e+00, 0.00000000e+00, 0.00000000e+00],\n       [0.00000000e+00, 6.67055750e+00, 0.00000000e+00],\n       [1.48485321e+02, 1.86015682e+01, 1.31223846e+02],\n       [0.00000000e+00, 0.00000000e+00, 0.00000000e+00],\n       [0.00000000e+00, 0.00000000e+00, 0.00000000e+00],\n       [0.00000000e+00, 2.99102669e+01, 0.00000000e+00],\n       [0.00000000e+00, 4.36551905e+00, 0.00000000e+00],\n       [4.26665115e+00, 0.00000000e+00, 8.82118344e-02]], dtype=float32)"
     },
     "execution_count": 32,
     "metadata": {},
     "output_type": "execute_result"
    }
   ],
   "source": [
    "import numpy as np\n",
    "loaded_model = tf.keras.models.load_model('exo_model_without_softmax')\n",
    "predictions = loaded_model.predict(X_test)\n",
    "predictions\n",
    "# predicted_classes = np.argmax(predictions, axis=1)\n",
    "# print(predicted_classes)"
   ],
   "metadata": {
    "collapsed": false,
    "ExecuteTime": {
     "end_time": "2023-11-30T20:48:21.463875700Z",
     "start_time": "2023-11-30T20:48:21.062392200Z"
    }
   },
   "id": "7240933c75a66b7"
  },
  {
   "cell_type": "code",
   "execution_count": 31,
   "outputs": [
    {
     "data": {
      "text/plain": "array([[1., 0., 0.],\n       [0., 0., 1.],\n       [0., 0., 1.],\n       [0., 1., 0.],\n       [0., 0., 1.],\n       [0., 0., 1.],\n       [0., 1., 0.],\n       [0., 1., 0.],\n       [1., 0., 0.],\n       [1., 0., 0.],\n       [0., 0., 1.],\n       [1., 0., 0.],\n       [0., 1., 0.],\n       [0., 0., 1.],\n       [0., 0., 1.],\n       [0., 0., 1.],\n       [0., 1., 0.],\n       [0., 1., 0.],\n       [1., 0., 0.],\n       [0., 1., 0.],\n       [1., 0., 0.],\n       [1., 0., 0.],\n       [0., 0., 1.],\n       [0., 0., 1.],\n       [1., 0., 0.],\n       [0., 1., 0.],\n       [0., 1., 0.],\n       [0., 0., 1.],\n       [1., 0., 0.],\n       [0., 0., 1.],\n       [0., 0., 1.],\n       [1., 0., 0.],\n       [0., 0., 1.],\n       [1., 0., 0.],\n       [0., 1., 0.],\n       [0., 0., 1.],\n       [0., 0., 1.],\n       [0., 0., 1.],\n       [0., 1., 0.],\n       [1., 0., 0.],\n       [0., 0., 1.],\n       [0., 1., 0.],\n       [1., 0., 0.],\n       [0., 0., 1.],\n       [0., 1., 0.],\n       [0., 1., 0.],\n       [0., 1., 0.],\n       [0., 1., 0.],\n       [1., 0., 0.],\n       [0., 1., 0.],\n       [1., 0., 0.],\n       [1., 0., 0.],\n       [0., 1., 0.],\n       [0., 1., 0.],\n       [1., 0., 0.],\n       [1., 0., 0.],\n       [1., 0., 0.],\n       [0., 0., 1.],\n       [1., 0., 0.],\n       [0., 0., 1.],\n       [1., 0., 0.],\n       [1., 0., 0.],\n       [0., 1., 0.],\n       [1., 0., 0.],\n       [0., 0., 1.],\n       [1., 0., 0.],\n       [0., 1., 0.],\n       [0., 1., 0.],\n       [1., 0., 0.],\n       [1., 0., 0.],\n       [0., 1., 0.],\n       [0., 1., 0.],\n       [1., 0., 0.],\n       [0., 0., 1.],\n       [1., 0., 0.],\n       [0., 0., 1.],\n       [0., 1., 0.],\n       [0., 0., 1.],\n       [0., 1., 0.],\n       [1., 0., 0.],\n       [0., 1., 0.],\n       [0., 1., 0.],\n       [0., 0., 1.],\n       [0., 0., 1.],\n       [1., 0., 0.],\n       [1., 0., 0.],\n       [0., 0., 1.],\n       [0., 1., 0.],\n       [1., 0., 0.],\n       [0., 0., 1.],\n       [1., 0., 0.],\n       [0., 0., 1.],\n       [1., 0., 0.],\n       [0., 1., 0.],\n       [0., 1., 0.],\n       [0., 0., 1.],\n       [0., 1., 0.],\n       [1., 0., 0.],\n       [1., 0., 0.],\n       [0., 1., 0.],\n       [0., 0., 1.],\n       [1., 0., 0.],\n       [0., 1., 0.],\n       [0., 0., 1.],\n       [1., 0., 0.],\n       [0., 0., 1.],\n       [1., 0., 0.],\n       [1., 0., 0.],\n       [1., 0., 0.],\n       [1., 0., 0.],\n       [1., 0., 0.],\n       [1., 0., 0.],\n       [0., 0., 1.],\n       [0., 0., 1.],\n       [0., 1., 0.],\n       [0., 0., 1.],\n       [0., 1., 0.],\n       [1., 0., 0.],\n       [0., 1., 0.],\n       [0., 0., 1.],\n       [1., 0., 0.],\n       [1., 0., 0.],\n       [1., 0., 0.],\n       [1., 0., 0.],\n       [1., 0., 0.],\n       [1., 0., 0.],\n       [0., 1., 0.],\n       [0., 0., 1.],\n       [0., 0., 1.],\n       [1., 0., 0.],\n       [0., 0., 1.],\n       [1., 0., 0.],\n       [0., 1., 0.],\n       [1., 0., 0.],\n       [1., 0., 0.],\n       [0., 0., 1.],\n       [0., 1., 0.],\n       [0., 0., 1.],\n       [0., 1., 0.],\n       [0., 1., 0.],\n       [1., 0., 0.],\n       [0., 0., 1.],\n       [1., 0., 0.],\n       [1., 0., 0.],\n       [0., 1., 0.],\n       [1., 0., 0.],\n       [1., 0., 0.],\n       [0., 1., 0.],\n       [1., 0., 0.],\n       [1., 0., 0.],\n       [1., 0., 0.],\n       [0., 0., 1.],\n       [0., 0., 1.],\n       [0., 0., 1.],\n       [1., 0., 0.],\n       [0., 1., 0.],\n       [0., 0., 1.],\n       [1., 0., 0.],\n       [1., 0., 0.],\n       [1., 0., 0.],\n       [1., 0., 0.],\n       [0., 1., 0.],\n       [0., 1., 0.],\n       [0., 0., 1.],\n       [1., 0., 0.],\n       [0., 0., 1.],\n       [0., 1., 0.],\n       [1., 0., 0.],\n       [1., 0., 0.],\n       [1., 0., 0.],\n       [1., 0., 0.],\n       [1., 0., 0.],\n       [1., 0., 0.],\n       [1., 0., 0.],\n       [0., 0., 1.],\n       [1., 0., 0.],\n       [0., 0., 1.],\n       [1., 0., 0.],\n       [1., 0., 0.],\n       [1., 0., 0.],\n       [1., 0., 0.],\n       [1., 0., 0.],\n       [0., 1., 0.],\n       [0., 1., 0.],\n       [1., 0., 0.],\n       [0., 1., 0.],\n       [0., 1., 0.],\n       [0., 1., 0.],\n       [1., 0., 0.],\n       [0., 1., 0.],\n       [1., 0., 0.],\n       [0., 0., 1.],\n       [0., 1., 0.],\n       [0., 1., 0.],\n       [0., 0., 1.],\n       [0., 0., 1.],\n       [0., 0., 1.],\n       [1., 0., 0.],\n       [1., 0., 0.],\n       [0., 1., 0.],\n       [1., 0., 0.],\n       [0., 0., 1.],\n       [0., 0., 1.],\n       [0., 0., 1.],\n       [0., 1., 0.],\n       [0., 1., 0.],\n       [0., 0., 1.],\n       [0., 1., 0.],\n       [0., 0., 1.],\n       [0., 0., 1.],\n       [0., 1., 0.],\n       [0., 1., 0.],\n       [0., 0., 1.],\n       [0., 1., 0.],\n       [1., 0., 0.],\n       [1., 0., 0.],\n       [0., 1., 0.],\n       [1., 0., 0.],\n       [1., 0., 0.],\n       [1., 0., 0.],\n       [0., 0., 1.],\n       [1., 0., 0.],\n       [1., 0., 0.],\n       [1., 0., 0.],\n       [0., 1., 0.],\n       [0., 1., 0.],\n       [0., 0., 1.],\n       [0., 1., 0.],\n       [1., 0., 0.],\n       [1., 0., 0.],\n       [0., 1., 0.],\n       [0., 1., 0.],\n       [0., 0., 1.],\n       [0., 0., 1.],\n       [0., 1., 0.],\n       [1., 0., 0.],\n       [1., 0., 0.],\n       [0., 1., 0.],\n       [0., 0., 1.],\n       [0., 0., 1.],\n       [0., 0., 1.],\n       [0., 1., 0.],\n       [1., 0., 0.],\n       [0., 0., 1.],\n       [0., 0., 1.],\n       [0., 1., 0.],\n       [0., 0., 1.],\n       [0., 1., 0.]], dtype=float32)"
     },
     "execution_count": 31,
     "metadata": {},
     "output_type": "execute_result"
    }
   ],
   "source": [
    "y_test"
   ],
   "metadata": {
    "collapsed": false,
    "ExecuteTime": {
     "end_time": "2023-11-30T20:47:32.983155600Z",
     "start_time": "2023-11-30T20:47:32.926021200Z"
    }
   },
   "id": "cd3fe90cc0416d13"
  },
  {
   "cell_type": "code",
   "execution_count": null,
   "outputs": [],
   "source": [],
   "metadata": {
    "collapsed": false
   },
   "id": "7e106bcce6546135"
  }
 ],
 "metadata": {
  "kernelspec": {
   "display_name": "Python 3",
   "language": "python",
   "name": "python3"
  },
  "language_info": {
   "codemirror_mode": {
    "name": "ipython",
    "version": 2
   },
   "file_extension": ".py",
   "mimetype": "text/x-python",
   "name": "python",
   "nbconvert_exporter": "python",
   "pygments_lexer": "ipython2",
   "version": "2.7.6"
  }
 },
 "nbformat": 4,
 "nbformat_minor": 5
}
