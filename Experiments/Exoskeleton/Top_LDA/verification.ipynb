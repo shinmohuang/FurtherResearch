{
 "cells": [
  {
   "cell_type": "code",
   "outputs": [],
   "source": [
    "from maraboupy import Marabou, MarabouCore\n",
    "import pandas as pd"
   ],
   "metadata": {
    "collapsed": false,
    "ExecuteTime": {
     "end_time": "2023-12-26T17:58:29.453274853Z",
     "start_time": "2023-12-26T17:58:29.413051748Z"
    }
   },
   "id": "14c2ecce91079e2f",
   "execution_count": 4
  },
  {
   "cell_type": "code",
   "outputs": [],
   "source": [
    "import os\n",
    "import csv\n",
    "import numpy as np\n",
    "\n",
    "\n",
    "def write_values_to_csv(values, filename, caller_file_path):\n",
    "    \"\"\"\n",
    "    Write values to a csv file in the directory of the caller file.\n",
    "\n",
    "    Args:\n",
    "        values: The values to be written.\n",
    "        filename: The name of the file to be written.\n",
    "        caller_file_path: The file path of the caller.\n",
    "\n",
    "    Returns:\n",
    "        None\n",
    "    \"\"\"\n",
    "    # Get the directory of the caller file\n",
    "    caller_directory = os.path.dirname(os.path.abspath(caller_file_path))\n",
    "    full_path = os.path.join(caller_directory, filename)\n",
    "\n",
    "    with open(full_path, 'a', newline='') as csvfile:\n",
    "        writer = csv.writer(csvfile)\n",
    "\n",
    "        # Check if values is a dictionary or numpy array and convert to list\n",
    "        if isinstance(values, dict):\n",
    "            values = list(values.values())\n",
    "        elif isinstance(values, np.ndarray):\n",
    "            values = values.tolist()\n",
    "\n",
    "        writer.writerow(values)\n",
    "\n",
    "    print(f\"Values written to {full_path}\")\n",
    "\n",
    "\n",
    "\n",
    "\n",
    "def set_input_range(network, inputVars, mean_values, initial_range):\n",
    "    for i, mean_val in enumerate(mean_values):\n",
    "        network.setLowerBound(inputVars[i], mean_val - initial_range[i])\n",
    "        network.setUpperBound(inputVars[i], mean_val + initial_range[i])\n",
    "\n",
    "\n",
    "def define_output_conditions(network, outputVars, desired_output_class):\n",
    "    for i in range(len(outputVars)):\n",
    "        if i != desired_output_class:\n",
    "            network.addInequality([outputVars[0][i], outputVars[0][desired_output_class]], [1, -1], 0)\n",
    "\n",
    "\n",
    "# @debug\n",
    "def check_results(status, initial_range, step_size):\n",
    "    \"\"\"\n",
    "    check the results of the verification\n",
    "\n",
    "    Args:\n",
    "        status: the status of the verification\n",
    "        initial_range: the initial range of the input\n",
    "        step_size: the step size of the input\n",
    "\n",
    "    Returns:\n",
    "        unsat: whether the verification is unsat\n",
    "        initial_range: the updated initial range\n",
    "    \"\"\"\n",
    "    if status == \"unsat\":\n",
    "        for i in range(len(initial_range)):\n",
    "            initial_range[i] += step_size[i]\n",
    "        return True, initial_range\n",
    "    else:\n",
    "        return False, initial_range\n",
    "\n",
    "\n",
    "\n",
    "def block_solution(network, values, inputVars):\n",
    "    \"\"\"\n",
    "    Adds constraints to the network to block the current solution.\n",
    "\n",
    "    Args:\n",
    "    network (MarabouNetwork): The Marabou network object.\n",
    "    values (dict): The current solution values.\n",
    "    inputVars (list): List of input variables.\n",
    "    \"\"\"\n",
    "    for var in inputVars:\n",
    "        # Create a constraint that the variable is less than the current solution\n",
    "        eq1 = MarabouCore.Equation(MarabouCore.Equation.LE)\n",
    "        eq1.addAddend(1, var)\n",
    "        eq1.setScalar(values[var.item()] - 0.05)\n",
    "\n",
    "        # Create a constraint that the variable is greater than the current solution\n",
    "        eq2 = MarabouCore.Equation(MarabouCore.Equation.GE)\n",
    "        eq2.addAddend(1, var)\n",
    "        eq2.setScalar(values[var.item()] + 0.05)\n",
    "\n",
    "        # Add the disjunction of the two constraints to the network\n",
    "        network.addDisjunctionConstraint([[eq1], [eq2]])"
   ],
   "metadata": {
    "collapsed": false,
    "ExecuteTime": {
     "end_time": "2023-12-26T17:58:30.790011327Z",
     "start_time": "2023-12-26T17:58:30.758555533Z"
    }
   },
   "id": "62453553c81c850b",
   "execution_count": 5
  },
  {
   "cell_type": "code",
   "outputs": [
    {
     "name": "stdout",
     "output_type": "stream",
     "text": [
      "[0 1 2 3 4 5 6 7 8 9]\n",
      "[[10 11 12]]\n"
     ]
    }
   ],
   "source": [
    "file_name = '/home/adam/PycharmProjects/FurtherResearch/Model/Top_LDA/exo_model_top10_without_softmax.onnx'\n",
    "network = Marabou.read_onnx(file_name)\n",
    "\n",
    "inputVars = network.inputVars[0][0]\n",
    "outputVars = network.outputVars[0]\n",
    "print(inputVars)\n",
    "print(outputVars)"
   ],
   "metadata": {
    "collapsed": false,
    "ExecuteTime": {
     "end_time": "2023-12-26T18:13:19.323589122Z",
     "start_time": "2023-12-26T18:13:19.244515572Z"
    }
   },
   "id": "654aeba473a52f57",
   "execution_count": 10
  },
  {
   "cell_type": "code",
   "outputs": [],
   "source": [
    "    high_fatigue = pd.read_csv(\n",
    "        '/home/adam/FurtherResearch/Experiments/Top_LDA/dataset_statistics_mapped_fatigue_level_high.csv')\n",
    "    mean_values = high_fatigue['mean'][:-1].values\n",
    "\n",
    "    initial_range = [0.01] * 63\n",
    "    step_size = high_fatigue['std'][:-1].values * 0.1\n",
    "\n",
    "    options = Marabou.createOptions(numWorkers=20, initialTimeout=5, initialSplits=100, onlineSplits=100,\n",
    "                                    timeoutInSeconds=1800, timeoutFactor=1.5,\n",
    "                                    verbosity=2, snc=True, splittingStrategy='auto',\n",
    "                                    sncSplittingStrategy='auto', restoreTreeStates=False,\n",
    "                                    splitThreshold=20, solveWithMILP=True, dumpBounds=False)\n",
    "    sat_counter = 0  # Initialize sat counter\n",
    "    unsat = True\n",
    "    while unsat:\n",
    "        network = Marabou.read_onnx(file_name)\n",
    "        set_input_range(network, inputVars, mean_values, initial_range)\n",
    "        define_output_conditions(network, outputVars, 2)\n",
    "        result = network.solve(verbose=True, options=options)\n",
    "        status, values, stats = result\n",
    "        unsat, initial_range = check_results(status, initial_range, step_size)\n",
    "        if status == \"sat\":\n",
    "            print(\"Solution found!\")\n",
    "        elif status == \"unsat\":\n",
    "            print(\"No solution found.\")\n",
    "            print(\"Time:\", stats.getTotalTimeInMicro())\n",
    "\n",
    "    range = [ir - ss for ir, ss in zip(initial_range, step_size)]\n",
    "    print(f\"最小 UNSAT 范围: {range}\")\n",
    "    write_values_to_csv(range, 'top10_range.csv', __file__)\n",
    "    write_values_to_csv(values, 'top10_values.csv', __file__)\n",
    "\n"
   ],
   "metadata": {
    "collapsed": false
   },
   "id": "215fb08eeac10949"
  }
 ],
 "metadata": {
  "kernelspec": {
   "display_name": "Python 3",
   "language": "python",
   "name": "python3"
  },
  "language_info": {
   "codemirror_mode": {
    "name": "ipython",
    "version": 2
   },
   "file_extension": ".py",
   "mimetype": "text/x-python",
   "name": "python",
   "nbconvert_exporter": "python",
   "pygments_lexer": "ipython2",
   "version": "2.7.6"
  }
 },
 "nbformat": 4,
 "nbformat_minor": 5
}
