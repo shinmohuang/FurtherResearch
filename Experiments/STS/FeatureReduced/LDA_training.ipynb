{
 "cells": [
  {
   "cell_type": "code",
   "execution_count": 1,
   "id": "initial_id",
   "metadata": {
    "collapsed": true,
    "ExecuteTime": {
     "end_time": "2024-01-15T12:45:28.185070800Z",
     "start_time": "2024-01-15T12:45:26.718260Z"
    }
   },
   "outputs": [],
   "source": [
    "import pandas as pd\n",
    "import numpy as np\n",
    "from sklearn.preprocessing import StandardScaler\n",
    "from sklearn.discriminant_analysis import LinearDiscriminantAnalysis as LDA\n",
    "from sklearn.cluster import KMeans\n",
    "import matplotlib.pyplot as plt\n",
    "\n",
    "feature_names = pd.read_csv('../../Dataset/STS/Data_Names.csv')\n",
    "header = feature_names['features'].tolist()\n",
    "#set header for the dataset\n",
    "dataset = pd.read_csv('../../Dataset/STS/Data_STS.csv')\n",
    "dataset.columns = header"
   ]
  },
  {
   "cell_type": "code",
   "outputs": [
    {
     "data": {
      "text/plain": "     Stand-to-stand time  Sit-to-stand time  Stand-to-sit time  \\\n0                1.14940            1.02190            1.04600   \n1                1.21500            1.09940            1.08040   \n2                1.07120            0.99290            1.09650   \n3                1.31060            1.37710            1.21950   \n4                1.27670            1.22980            1.26430   \n..                   ...                ...                ...   \n654              0.95064            0.99793            0.84473   \n655              0.94578            0.98939            0.83705   \n656              1.61660            1.70770            1.46810   \n657              1.61810            1.92470            1.47300   \n658              1.70650            2.13250            1.59530   \n\n     M_hip vertical range  M_hip depth range  M_hip max vertical velocity  \\\n0                 1.01510            0.96060                      0.98215   \n1                 0.87648            0.89024                      0.99210   \n2                 0.89684            0.95366                      1.00890   \n3                 1.08700            1.10530                      1.00650   \n4                 1.12390            1.15170                      0.95774   \n..                    ...                ...                          ...   \n654               1.10850            1.10370                      1.06350   \n655               1.10750            1.10360                      1.03660   \n656               1.03850            1.00710                      0.79126   \n657               0.41024            0.50380                      0.79675   \n658               1.05620            1.05800                      0.93281   \n\n     M_hip min vertical velocity  M_hip max depth velocity  \\\n0                        1.31830                   0.91062   \n1                        1.31770                   0.93530   \n2                        1.12060                   0.95903   \n3                        1.45650                   1.07270   \n4                        1.39200                   1.03950   \n..                           ...                       ...   \n654                      1.27150                   1.02770   \n655                      1.28160                   0.99205   \n656                      0.88634                   1.05220   \n657                      1.28790                   0.67985   \n658                      1.21390                   1.06370   \n\n     M_hip min depth velocity  Knee flexo-extension range  ...  \\\n0                     0.92036                     1.00250  ...   \n1                     0.92490                     0.98812  ...   \n2                     0.93991                     1.06500  ...   \n3                     1.15530                     1.07220  ...   \n4                     1.06770                     1.00600  ...   \n..                        ...                         ...  ...   \n654                   1.08340                     1.12840  ...   \n655                   1.09530                     1.05480  ...   \n656                   1.01580                     0.85009  ...   \n657                   0.25566                     1.14970  ...   \n658                   1.13900                     0.66826  ...   \n\n     M_shoulder max vertical velocity  M_shoulder min vertical velocity  \\\n0                            0.936620                           0.97932   \n1                            0.862600                           0.94320   \n2                            0.870610                           0.97629   \n3                            1.096400                           1.14290   \n4                            0.988140                           1.08630   \n..                                ...                               ...   \n654                          1.053800                           1.02760   \n655                          1.023400                           0.98703   \n656                          0.044172                           1.02330   \n657                          1.050600                           0.74147   \n658                          1.107600                           1.08640   \n\n     M_shoulder max depth velocity  Spine flexo-extension range  \\\n0                          1.00380                      1.21780   \n1                          1.07840                      1.35230   \n2                          1.03280                      1.30740   \n3                          0.94031                      1.42700   \n4                          1.15530                      1.51170   \n..                             ...                          ...   \n654                        0.99755                      1.49780   \n655                        0.94916                      1.47220   \n656                        0.99861                      0.90222   \n657                        0.96685                      1.36710   \n658                        0.84938                      1.36920   \n\n     Spine flexo-extension max velocity  Spine flexo-extension min velocity  \\\n0                               0.97569                             0.98219   \n1                               0.95966                             0.94077   \n2                               0.88624                             0.92409   \n3                               1.00150                             1.01930   \n4                               1.03520                             1.01060   \n..                                  ...                                 ...   \n654                             1.15400                             1.05330   \n655                             1.15010                             1.03400   \n656                             1.12840                             1.15320   \n657                             1.16630                             1.17760   \n658                             1.22830                             1.24710   \n\n     Spine abduction-adduction range  Spine abduction-adduction max velocity  \\\n0                            0.99926                                 1.28480   \n1                            0.96024                                 1.13840   \n2                            0.94021                                 0.96528   \n3                            1.01720                                 1.41930   \n4                            1.01600                                 1.16110   \n..                               ...                                     ...   \n654                          1.01800                                 1.42000   \n655                          1.03100                                 1.48360   \n656                          0.98197                                 1.00220   \n657                          1.04310                                 1.62930   \n658                          1.06000                                 1.33430   \n\n     Spine abduction-adduction min velocity  Heart Rate  \n0                                   1.06290      1.2469  \n1                                   1.01810      1.2537  \n2                                   0.85533      1.2622  \n3                                   1.06020      1.2677  \n4                                   1.04280      1.3722  \n..                                      ...         ...  \n654                                 1.08500      1.7175  \n655                                 1.11320      1.7206  \n656                                 1.23480      1.6203  \n657                                 1.41690      1.8042  \n658                                 1.12830      1.9673  \n\n[659 rows x 33 columns]",
      "text/html": "<div>\n<style scoped>\n    .dataframe tbody tr th:only-of-type {\n        vertical-align: middle;\n    }\n\n    .dataframe tbody tr th {\n        vertical-align: top;\n    }\n\n    .dataframe thead th {\n        text-align: right;\n    }\n</style>\n<table border=\"1\" class=\"dataframe\">\n  <thead>\n    <tr style=\"text-align: right;\">\n      <th></th>\n      <th>Stand-to-stand time</th>\n      <th>Sit-to-stand time</th>\n      <th>Stand-to-sit time</th>\n      <th>M_hip vertical range</th>\n      <th>M_hip depth range</th>\n      <th>M_hip max vertical velocity</th>\n      <th>M_hip min vertical velocity</th>\n      <th>M_hip max depth velocity</th>\n      <th>M_hip min depth velocity</th>\n      <th>Knee flexo-extension range</th>\n      <th>...</th>\n      <th>M_shoulder max vertical velocity</th>\n      <th>M_shoulder min vertical velocity</th>\n      <th>M_shoulder max depth velocity</th>\n      <th>Spine flexo-extension range</th>\n      <th>Spine flexo-extension max velocity</th>\n      <th>Spine flexo-extension min velocity</th>\n      <th>Spine abduction-adduction range</th>\n      <th>Spine abduction-adduction max velocity</th>\n      <th>Spine abduction-adduction min velocity</th>\n      <th>Heart Rate</th>\n    </tr>\n  </thead>\n  <tbody>\n    <tr>\n      <th>0</th>\n      <td>1.14940</td>\n      <td>1.02190</td>\n      <td>1.04600</td>\n      <td>1.01510</td>\n      <td>0.96060</td>\n      <td>0.98215</td>\n      <td>1.31830</td>\n      <td>0.91062</td>\n      <td>0.92036</td>\n      <td>1.00250</td>\n      <td>...</td>\n      <td>0.936620</td>\n      <td>0.97932</td>\n      <td>1.00380</td>\n      <td>1.21780</td>\n      <td>0.97569</td>\n      <td>0.98219</td>\n      <td>0.99926</td>\n      <td>1.28480</td>\n      <td>1.06290</td>\n      <td>1.2469</td>\n    </tr>\n    <tr>\n      <th>1</th>\n      <td>1.21500</td>\n      <td>1.09940</td>\n      <td>1.08040</td>\n      <td>0.87648</td>\n      <td>0.89024</td>\n      <td>0.99210</td>\n      <td>1.31770</td>\n      <td>0.93530</td>\n      <td>0.92490</td>\n      <td>0.98812</td>\n      <td>...</td>\n      <td>0.862600</td>\n      <td>0.94320</td>\n      <td>1.07840</td>\n      <td>1.35230</td>\n      <td>0.95966</td>\n      <td>0.94077</td>\n      <td>0.96024</td>\n      <td>1.13840</td>\n      <td>1.01810</td>\n      <td>1.2537</td>\n    </tr>\n    <tr>\n      <th>2</th>\n      <td>1.07120</td>\n      <td>0.99290</td>\n      <td>1.09650</td>\n      <td>0.89684</td>\n      <td>0.95366</td>\n      <td>1.00890</td>\n      <td>1.12060</td>\n      <td>0.95903</td>\n      <td>0.93991</td>\n      <td>1.06500</td>\n      <td>...</td>\n      <td>0.870610</td>\n      <td>0.97629</td>\n      <td>1.03280</td>\n      <td>1.30740</td>\n      <td>0.88624</td>\n      <td>0.92409</td>\n      <td>0.94021</td>\n      <td>0.96528</td>\n      <td>0.85533</td>\n      <td>1.2622</td>\n    </tr>\n    <tr>\n      <th>3</th>\n      <td>1.31060</td>\n      <td>1.37710</td>\n      <td>1.21950</td>\n      <td>1.08700</td>\n      <td>1.10530</td>\n      <td>1.00650</td>\n      <td>1.45650</td>\n      <td>1.07270</td>\n      <td>1.15530</td>\n      <td>1.07220</td>\n      <td>...</td>\n      <td>1.096400</td>\n      <td>1.14290</td>\n      <td>0.94031</td>\n      <td>1.42700</td>\n      <td>1.00150</td>\n      <td>1.01930</td>\n      <td>1.01720</td>\n      <td>1.41930</td>\n      <td>1.06020</td>\n      <td>1.2677</td>\n    </tr>\n    <tr>\n      <th>4</th>\n      <td>1.27670</td>\n      <td>1.22980</td>\n      <td>1.26430</td>\n      <td>1.12390</td>\n      <td>1.15170</td>\n      <td>0.95774</td>\n      <td>1.39200</td>\n      <td>1.03950</td>\n      <td>1.06770</td>\n      <td>1.00600</td>\n      <td>...</td>\n      <td>0.988140</td>\n      <td>1.08630</td>\n      <td>1.15530</td>\n      <td>1.51170</td>\n      <td>1.03520</td>\n      <td>1.01060</td>\n      <td>1.01600</td>\n      <td>1.16110</td>\n      <td>1.04280</td>\n      <td>1.3722</td>\n    </tr>\n    <tr>\n      <th>...</th>\n      <td>...</td>\n      <td>...</td>\n      <td>...</td>\n      <td>...</td>\n      <td>...</td>\n      <td>...</td>\n      <td>...</td>\n      <td>...</td>\n      <td>...</td>\n      <td>...</td>\n      <td>...</td>\n      <td>...</td>\n      <td>...</td>\n      <td>...</td>\n      <td>...</td>\n      <td>...</td>\n      <td>...</td>\n      <td>...</td>\n      <td>...</td>\n      <td>...</td>\n      <td>...</td>\n    </tr>\n    <tr>\n      <th>654</th>\n      <td>0.95064</td>\n      <td>0.99793</td>\n      <td>0.84473</td>\n      <td>1.10850</td>\n      <td>1.10370</td>\n      <td>1.06350</td>\n      <td>1.27150</td>\n      <td>1.02770</td>\n      <td>1.08340</td>\n      <td>1.12840</td>\n      <td>...</td>\n      <td>1.053800</td>\n      <td>1.02760</td>\n      <td>0.99755</td>\n      <td>1.49780</td>\n      <td>1.15400</td>\n      <td>1.05330</td>\n      <td>1.01800</td>\n      <td>1.42000</td>\n      <td>1.08500</td>\n      <td>1.7175</td>\n    </tr>\n    <tr>\n      <th>655</th>\n      <td>0.94578</td>\n      <td>0.98939</td>\n      <td>0.83705</td>\n      <td>1.10750</td>\n      <td>1.10360</td>\n      <td>1.03660</td>\n      <td>1.28160</td>\n      <td>0.99205</td>\n      <td>1.09530</td>\n      <td>1.05480</td>\n      <td>...</td>\n      <td>1.023400</td>\n      <td>0.98703</td>\n      <td>0.94916</td>\n      <td>1.47220</td>\n      <td>1.15010</td>\n      <td>1.03400</td>\n      <td>1.03100</td>\n      <td>1.48360</td>\n      <td>1.11320</td>\n      <td>1.7206</td>\n    </tr>\n    <tr>\n      <th>656</th>\n      <td>1.61660</td>\n      <td>1.70770</td>\n      <td>1.46810</td>\n      <td>1.03850</td>\n      <td>1.00710</td>\n      <td>0.79126</td>\n      <td>0.88634</td>\n      <td>1.05220</td>\n      <td>1.01580</td>\n      <td>0.85009</td>\n      <td>...</td>\n      <td>0.044172</td>\n      <td>1.02330</td>\n      <td>0.99861</td>\n      <td>0.90222</td>\n      <td>1.12840</td>\n      <td>1.15320</td>\n      <td>0.98197</td>\n      <td>1.00220</td>\n      <td>1.23480</td>\n      <td>1.6203</td>\n    </tr>\n    <tr>\n      <th>657</th>\n      <td>1.61810</td>\n      <td>1.92470</td>\n      <td>1.47300</td>\n      <td>0.41024</td>\n      <td>0.50380</td>\n      <td>0.79675</td>\n      <td>1.28790</td>\n      <td>0.67985</td>\n      <td>0.25566</td>\n      <td>1.14970</td>\n      <td>...</td>\n      <td>1.050600</td>\n      <td>0.74147</td>\n      <td>0.96685</td>\n      <td>1.36710</td>\n      <td>1.16630</td>\n      <td>1.17760</td>\n      <td>1.04310</td>\n      <td>1.62930</td>\n      <td>1.41690</td>\n      <td>1.8042</td>\n    </tr>\n    <tr>\n      <th>658</th>\n      <td>1.70650</td>\n      <td>2.13250</td>\n      <td>1.59530</td>\n      <td>1.05620</td>\n      <td>1.05800</td>\n      <td>0.93281</td>\n      <td>1.21390</td>\n      <td>1.06370</td>\n      <td>1.13900</td>\n      <td>0.66826</td>\n      <td>...</td>\n      <td>1.107600</td>\n      <td>1.08640</td>\n      <td>0.84938</td>\n      <td>1.36920</td>\n      <td>1.22830</td>\n      <td>1.24710</td>\n      <td>1.06000</td>\n      <td>1.33430</td>\n      <td>1.12830</td>\n      <td>1.9673</td>\n    </tr>\n  </tbody>\n</table>\n<p>659 rows × 33 columns</p>\n</div>"
     },
     "execution_count": 2,
     "metadata": {},
     "output_type": "execute_result"
    }
   ],
   "source": [
    "# Separate the features and the target\n",
    "X = dataset.iloc[:, :-1]  # everything except the last column (fatigue_level)\n",
    "y = dataset.iloc[:, -1]  # fatigue_level\n",
    "X"
   ],
   "metadata": {
    "collapsed": false,
    "ExecuteTime": {
     "end_time": "2024-01-15T12:45:28.231466500Z",
     "start_time": "2024-01-15T12:45:28.184799600Z"
    }
   },
   "id": "5361730d4989ebcf",
   "execution_count": 2
  },
  {
   "cell_type": "code",
   "outputs": [
    {
     "data": {
      "text/plain": "Index(['Spine abduction-adduction max velocity', 'Ankle flexo-extension range',\n       'Spine abduction-adduction range', 'Hip flexo-extension max velocity',\n       'M_shoulder depth range', 'Hip flexo-extension range',\n       'Spine flexo-extension min velocity', 'Stand-to-stand time',\n       'Spine abduction-adduction min velocity', 'M_hip depth range'],\n      dtype='object')"
     },
     "execution_count": 3,
     "metadata": {},
     "output_type": "execute_result"
    }
   ],
   "source": [
    "# apply LDA\n",
    "lda = LDA(n_components=None)  # n_components=None \n",
    "X_lda = lda.fit(X, y)\n",
    "\n",
    "# get the feature importance (sum of absolute values of the coefficients)\n",
    "feature_importances = np.abs(X_lda.coef_).sum(axis=0)\n",
    "\n",
    "# get the indices of the top 10 features\n",
    "top_features_indices = np.argsort(feature_importances)[::-1][:10]\n",
    "top_features = dataset.columns[top_features_indices]\n",
    "top_features"
   ],
   "metadata": {
    "collapsed": false,
    "ExecuteTime": {
     "end_time": "2024-01-15T12:45:28.350655700Z",
     "start_time": "2024-01-15T12:45:28.232463600Z"
    }
   },
   "id": "4e280158d2886699",
   "execution_count": 3
  },
  {
   "cell_type": "code",
   "outputs": [
    {
     "data": {
      "text/plain": "     Spine abduction-adduction max velocity  Ankle flexo-extension range  \\\n0                                   1.28480                      1.28480   \n1                                   1.13840                      1.13840   \n2                                   0.96528                      0.96528   \n3                                   1.41930                      1.41930   \n4                                   1.16110                      1.16110   \n..                                      ...                          ...   \n654                                 1.42000                      1.42000   \n655                                 1.48360                      1.48360   \n656                                 1.00220                      1.00970   \n657                                 1.62930                      1.59150   \n658                                 1.33430                      1.35600   \n\n     Spine abduction-adduction range  Hip flexo-extension max velocity  \\\n0                            0.99926                           0.99926   \n1                            0.96024                           0.96024   \n2                            0.94021                           0.94021   \n3                            1.01720                           1.01720   \n4                            1.01600                           1.01600   \n..                               ...                               ...   \n654                          1.01800                           1.01800   \n655                          1.03100                           1.03100   \n656                          0.98197                           0.96650   \n657                          1.04310                           1.05750   \n658                          1.06000                           1.05830   \n\n     M_shoulder depth range  Hip flexo-extension range  \\\n0                   0.92684                    0.98219   \n1                   0.94873                    0.94077   \n2                   0.95089                    0.92409   \n3                   0.87146                    1.01930   \n4                   0.87461                    1.01060   \n..                      ...                        ...   \n654                 0.83422                    1.05330   \n655                 0.84454                    1.03400   \n656                 0.81455                    1.15130   \n657                 0.80206                    1.18210   \n658                 0.72491                    1.25780   \n\n     Spine flexo-extension min velocity  Stand-to-stand time  \\\n0                               0.98219              1.14940   \n1                               0.94077              1.21500   \n2                               0.92409              1.07120   \n3                               1.01930              1.31060   \n4                               1.01060              1.27670   \n..                                  ...                  ...   \n654                             1.05330              0.95064   \n655                             1.03400              0.94578   \n656                             1.15320              1.61660   \n657                             1.17760              1.61810   \n658                             1.24710              1.70650   \n\n     Spine abduction-adduction min velocity  M_hip depth range  \n0                                   1.06290            0.96060  \n1                                   1.01810            0.89024  \n2                                   0.85533            0.95366  \n3                                   1.06020            1.10530  \n4                                   1.04280            1.15170  \n..                                      ...                ...  \n654                                 1.08500            1.10370  \n655                                 1.11320            1.10360  \n656                                 1.23480            1.00710  \n657                                 1.41690            0.50380  \n658                                 1.12830            1.05800  \n\n[659 rows x 10 columns]",
      "text/html": "<div>\n<style scoped>\n    .dataframe tbody tr th:only-of-type {\n        vertical-align: middle;\n    }\n\n    .dataframe tbody tr th {\n        vertical-align: top;\n    }\n\n    .dataframe thead th {\n        text-align: right;\n    }\n</style>\n<table border=\"1\" class=\"dataframe\">\n  <thead>\n    <tr style=\"text-align: right;\">\n      <th></th>\n      <th>Spine abduction-adduction max velocity</th>\n      <th>Ankle flexo-extension range</th>\n      <th>Spine abduction-adduction range</th>\n      <th>Hip flexo-extension max velocity</th>\n      <th>M_shoulder depth range</th>\n      <th>Hip flexo-extension range</th>\n      <th>Spine flexo-extension min velocity</th>\n      <th>Stand-to-stand time</th>\n      <th>Spine abduction-adduction min velocity</th>\n      <th>M_hip depth range</th>\n    </tr>\n  </thead>\n  <tbody>\n    <tr>\n      <th>0</th>\n      <td>1.28480</td>\n      <td>1.28480</td>\n      <td>0.99926</td>\n      <td>0.99926</td>\n      <td>0.92684</td>\n      <td>0.98219</td>\n      <td>0.98219</td>\n      <td>1.14940</td>\n      <td>1.06290</td>\n      <td>0.96060</td>\n    </tr>\n    <tr>\n      <th>1</th>\n      <td>1.13840</td>\n      <td>1.13840</td>\n      <td>0.96024</td>\n      <td>0.96024</td>\n      <td>0.94873</td>\n      <td>0.94077</td>\n      <td>0.94077</td>\n      <td>1.21500</td>\n      <td>1.01810</td>\n      <td>0.89024</td>\n    </tr>\n    <tr>\n      <th>2</th>\n      <td>0.96528</td>\n      <td>0.96528</td>\n      <td>0.94021</td>\n      <td>0.94021</td>\n      <td>0.95089</td>\n      <td>0.92409</td>\n      <td>0.92409</td>\n      <td>1.07120</td>\n      <td>0.85533</td>\n      <td>0.95366</td>\n    </tr>\n    <tr>\n      <th>3</th>\n      <td>1.41930</td>\n      <td>1.41930</td>\n      <td>1.01720</td>\n      <td>1.01720</td>\n      <td>0.87146</td>\n      <td>1.01930</td>\n      <td>1.01930</td>\n      <td>1.31060</td>\n      <td>1.06020</td>\n      <td>1.10530</td>\n    </tr>\n    <tr>\n      <th>4</th>\n      <td>1.16110</td>\n      <td>1.16110</td>\n      <td>1.01600</td>\n      <td>1.01600</td>\n      <td>0.87461</td>\n      <td>1.01060</td>\n      <td>1.01060</td>\n      <td>1.27670</td>\n      <td>1.04280</td>\n      <td>1.15170</td>\n    </tr>\n    <tr>\n      <th>...</th>\n      <td>...</td>\n      <td>...</td>\n      <td>...</td>\n      <td>...</td>\n      <td>...</td>\n      <td>...</td>\n      <td>...</td>\n      <td>...</td>\n      <td>...</td>\n      <td>...</td>\n    </tr>\n    <tr>\n      <th>654</th>\n      <td>1.42000</td>\n      <td>1.42000</td>\n      <td>1.01800</td>\n      <td>1.01800</td>\n      <td>0.83422</td>\n      <td>1.05330</td>\n      <td>1.05330</td>\n      <td>0.95064</td>\n      <td>1.08500</td>\n      <td>1.10370</td>\n    </tr>\n    <tr>\n      <th>655</th>\n      <td>1.48360</td>\n      <td>1.48360</td>\n      <td>1.03100</td>\n      <td>1.03100</td>\n      <td>0.84454</td>\n      <td>1.03400</td>\n      <td>1.03400</td>\n      <td>0.94578</td>\n      <td>1.11320</td>\n      <td>1.10360</td>\n    </tr>\n    <tr>\n      <th>656</th>\n      <td>1.00220</td>\n      <td>1.00970</td>\n      <td>0.98197</td>\n      <td>0.96650</td>\n      <td>0.81455</td>\n      <td>1.15130</td>\n      <td>1.15320</td>\n      <td>1.61660</td>\n      <td>1.23480</td>\n      <td>1.00710</td>\n    </tr>\n    <tr>\n      <th>657</th>\n      <td>1.62930</td>\n      <td>1.59150</td>\n      <td>1.04310</td>\n      <td>1.05750</td>\n      <td>0.80206</td>\n      <td>1.18210</td>\n      <td>1.17760</td>\n      <td>1.61810</td>\n      <td>1.41690</td>\n      <td>0.50380</td>\n    </tr>\n    <tr>\n      <th>658</th>\n      <td>1.33430</td>\n      <td>1.35600</td>\n      <td>1.06000</td>\n      <td>1.05830</td>\n      <td>0.72491</td>\n      <td>1.25780</td>\n      <td>1.24710</td>\n      <td>1.70650</td>\n      <td>1.12830</td>\n      <td>1.05800</td>\n    </tr>\n  </tbody>\n</table>\n<p>659 rows × 10 columns</p>\n</div>"
     },
     "execution_count": 4,
     "metadata": {},
     "output_type": "execute_result"
    }
   ],
   "source": [
    "# use only the top 10 features apply K-means clustering\n",
    "X_top_features = X[top_features]\n",
    "X_top_features"
   ],
   "metadata": {
    "collapsed": false,
    "ExecuteTime": {
     "end_time": "2024-01-15T12:45:28.372597400Z",
     "start_time": "2024-01-15T12:45:28.295296900Z"
    }
   },
   "id": "19d7d1c17740eedb",
   "execution_count": 4
  },
  {
   "cell_type": "code",
   "outputs": [
    {
     "name": "stderr",
     "output_type": "stream",
     "text": [
      "C:\\Users\\shinm\\AppData\\Local\\Temp\\ipykernel_37524\\4026693783.py:2: SettingWithCopyWarning: \n",
      "A value is trying to be set on a copy of a slice from a DataFrame.\n",
      "Try using .loc[row_indexer,col_indexer] = value instead\n",
      "\n",
      "See the caveats in the documentation: https://pandas.pydata.org/pandas-docs/stable/user_guide/indexing.html#returning-a-view-versus-a-copy\n",
      "  X_top_features['fatigue_level'] = y\n"
     ]
    },
    {
     "data": {
      "text/plain": "     Spine abduction-adduction max velocity  Ankle flexo-extension range  \\\n0                                   1.28480                      1.28480   \n1                                   1.13840                      1.13840   \n2                                   0.96528                      0.96528   \n3                                   1.41930                      1.41930   \n4                                   1.16110                      1.16110   \n..                                      ...                          ...   \n654                                 1.42000                      1.42000   \n655                                 1.48360                      1.48360   \n656                                 1.00220                      1.00970   \n657                                 1.62930                      1.59150   \n658                                 1.33430                      1.35600   \n\n     Spine abduction-adduction range  Hip flexo-extension max velocity  \\\n0                            0.99926                           0.99926   \n1                            0.96024                           0.96024   \n2                            0.94021                           0.94021   \n3                            1.01720                           1.01720   \n4                            1.01600                           1.01600   \n..                               ...                               ...   \n654                          1.01800                           1.01800   \n655                          1.03100                           1.03100   \n656                          0.98197                           0.96650   \n657                          1.04310                           1.05750   \n658                          1.06000                           1.05830   \n\n     M_shoulder depth range  Hip flexo-extension range  \\\n0                   0.92684                    0.98219   \n1                   0.94873                    0.94077   \n2                   0.95089                    0.92409   \n3                   0.87146                    1.01930   \n4                   0.87461                    1.01060   \n..                      ...                        ...   \n654                 0.83422                    1.05330   \n655                 0.84454                    1.03400   \n656                 0.81455                    1.15130   \n657                 0.80206                    1.18210   \n658                 0.72491                    1.25780   \n\n     Spine flexo-extension min velocity  Stand-to-stand time  \\\n0                               0.98219              1.14940   \n1                               0.94077              1.21500   \n2                               0.92409              1.07120   \n3                               1.01930              1.31060   \n4                               1.01060              1.27670   \n..                                  ...                  ...   \n654                             1.05330              0.95064   \n655                             1.03400              0.94578   \n656                             1.15320              1.61660   \n657                             1.17760              1.61810   \n658                             1.24710              1.70650   \n\n     Spine abduction-adduction min velocity  M_hip depth range  fatigue_level  \n0                                   1.06290            0.96060              1  \n1                                   1.01810            0.89024              1  \n2                                   0.85533            0.95366              1  \n3                                   1.06020            1.10530              2  \n4                                   1.04280            1.15170              2  \n..                                      ...                ...            ...  \n654                                 1.08500            1.10370              3  \n655                                 1.11320            1.10360              3  \n656                                 1.23480            1.00710              3  \n657                                 1.41690            0.50380              3  \n658                                 1.12830            1.05800              3  \n\n[659 rows x 11 columns]",
      "text/html": "<div>\n<style scoped>\n    .dataframe tbody tr th:only-of-type {\n        vertical-align: middle;\n    }\n\n    .dataframe tbody tr th {\n        vertical-align: top;\n    }\n\n    .dataframe thead th {\n        text-align: right;\n    }\n</style>\n<table border=\"1\" class=\"dataframe\">\n  <thead>\n    <tr style=\"text-align: right;\">\n      <th></th>\n      <th>Spine abduction-adduction max velocity</th>\n      <th>Ankle flexo-extension range</th>\n      <th>Spine abduction-adduction range</th>\n      <th>Hip flexo-extension max velocity</th>\n      <th>M_shoulder depth range</th>\n      <th>Hip flexo-extension range</th>\n      <th>Spine flexo-extension min velocity</th>\n      <th>Stand-to-stand time</th>\n      <th>Spine abduction-adduction min velocity</th>\n      <th>M_hip depth range</th>\n      <th>fatigue_level</th>\n    </tr>\n  </thead>\n  <tbody>\n    <tr>\n      <th>0</th>\n      <td>1.28480</td>\n      <td>1.28480</td>\n      <td>0.99926</td>\n      <td>0.99926</td>\n      <td>0.92684</td>\n      <td>0.98219</td>\n      <td>0.98219</td>\n      <td>1.14940</td>\n      <td>1.06290</td>\n      <td>0.96060</td>\n      <td>1</td>\n    </tr>\n    <tr>\n      <th>1</th>\n      <td>1.13840</td>\n      <td>1.13840</td>\n      <td>0.96024</td>\n      <td>0.96024</td>\n      <td>0.94873</td>\n      <td>0.94077</td>\n      <td>0.94077</td>\n      <td>1.21500</td>\n      <td>1.01810</td>\n      <td>0.89024</td>\n      <td>1</td>\n    </tr>\n    <tr>\n      <th>2</th>\n      <td>0.96528</td>\n      <td>0.96528</td>\n      <td>0.94021</td>\n      <td>0.94021</td>\n      <td>0.95089</td>\n      <td>0.92409</td>\n      <td>0.92409</td>\n      <td>1.07120</td>\n      <td>0.85533</td>\n      <td>0.95366</td>\n      <td>1</td>\n    </tr>\n    <tr>\n      <th>3</th>\n      <td>1.41930</td>\n      <td>1.41930</td>\n      <td>1.01720</td>\n      <td>1.01720</td>\n      <td>0.87146</td>\n      <td>1.01930</td>\n      <td>1.01930</td>\n      <td>1.31060</td>\n      <td>1.06020</td>\n      <td>1.10530</td>\n      <td>2</td>\n    </tr>\n    <tr>\n      <th>4</th>\n      <td>1.16110</td>\n      <td>1.16110</td>\n      <td>1.01600</td>\n      <td>1.01600</td>\n      <td>0.87461</td>\n      <td>1.01060</td>\n      <td>1.01060</td>\n      <td>1.27670</td>\n      <td>1.04280</td>\n      <td>1.15170</td>\n      <td>2</td>\n    </tr>\n    <tr>\n      <th>...</th>\n      <td>...</td>\n      <td>...</td>\n      <td>...</td>\n      <td>...</td>\n      <td>...</td>\n      <td>...</td>\n      <td>...</td>\n      <td>...</td>\n      <td>...</td>\n      <td>...</td>\n      <td>...</td>\n    </tr>\n    <tr>\n      <th>654</th>\n      <td>1.42000</td>\n      <td>1.42000</td>\n      <td>1.01800</td>\n      <td>1.01800</td>\n      <td>0.83422</td>\n      <td>1.05330</td>\n      <td>1.05330</td>\n      <td>0.95064</td>\n      <td>1.08500</td>\n      <td>1.10370</td>\n      <td>3</td>\n    </tr>\n    <tr>\n      <th>655</th>\n      <td>1.48360</td>\n      <td>1.48360</td>\n      <td>1.03100</td>\n      <td>1.03100</td>\n      <td>0.84454</td>\n      <td>1.03400</td>\n      <td>1.03400</td>\n      <td>0.94578</td>\n      <td>1.11320</td>\n      <td>1.10360</td>\n      <td>3</td>\n    </tr>\n    <tr>\n      <th>656</th>\n      <td>1.00220</td>\n      <td>1.00970</td>\n      <td>0.98197</td>\n      <td>0.96650</td>\n      <td>0.81455</td>\n      <td>1.15130</td>\n      <td>1.15320</td>\n      <td>1.61660</td>\n      <td>1.23480</td>\n      <td>1.00710</td>\n      <td>3</td>\n    </tr>\n    <tr>\n      <th>657</th>\n      <td>1.62930</td>\n      <td>1.59150</td>\n      <td>1.04310</td>\n      <td>1.05750</td>\n      <td>0.80206</td>\n      <td>1.18210</td>\n      <td>1.17760</td>\n      <td>1.61810</td>\n      <td>1.41690</td>\n      <td>0.50380</td>\n      <td>3</td>\n    </tr>\n    <tr>\n      <th>658</th>\n      <td>1.33430</td>\n      <td>1.35600</td>\n      <td>1.06000</td>\n      <td>1.05830</td>\n      <td>0.72491</td>\n      <td>1.25780</td>\n      <td>1.24710</td>\n      <td>1.70650</td>\n      <td>1.12830</td>\n      <td>1.05800</td>\n      <td>3</td>\n    </tr>\n  </tbody>\n</table>\n<p>659 rows × 11 columns</p>\n</div>"
     },
     "execution_count": 5,
     "metadata": {},
     "output_type": "execute_result"
    }
   ],
   "source": [
    "# add target colum in the X_top_features\n",
    "X_top_features['fatigue_level'] = y\n",
    "X_top_features"
   ],
   "metadata": {
    "collapsed": false,
    "ExecuteTime": {
     "end_time": "2024-01-15T12:45:28.376587300Z",
     "start_time": "2024-01-15T12:45:28.330709900Z"
    }
   },
   "id": "dc7f8be8c77cdc96",
   "execution_count": 5
  },
  {
   "cell_type": "code",
   "outputs": [],
   "source": [
    "import tensorflow as tf\n",
    "from sklearn.model_selection import train_test_split\n",
    "from sklearn.preprocessing import StandardScaler\n",
    "from tensorflow.keras.models import Sequential\n",
    "from tensorflow.keras.layers import Dense\n",
    "from tensorflow.keras.utils import to_categorical\n",
    "from sklearn.utils import shuffle\n",
    "\n",
    "from tensorflow.keras.callbacks import EarlyStopping\n",
    "from tensorflow.keras.optimizers import Adam\n",
    "from tensorflow.keras.callbacks import ReduceLROnPlateau"
   ],
   "metadata": {
    "collapsed": false,
    "ExecuteTime": {
     "end_time": "2024-01-15T12:45:30.535303400Z",
     "start_time": "2024-01-15T12:45:28.375589700Z"
    }
   },
   "id": "174e44e8f46dd3e0",
   "execution_count": 6
  },
  {
   "cell_type": "code",
   "outputs": [
    {
     "data": {
      "text/plain": "0      0\n1      0\n2      1\n3      1\n4      1\n      ..\n653    2\n654    2\n655    2\n656    2\n657    2\nName: 1, Length: 658, dtype: int64"
     },
     "execution_count": 7,
     "metadata": {},
     "output_type": "execute_result"
    }
   ],
   "source": [
    "dataset = pd.read_csv('../../Dataset/STS/Top_LDA_dataset.csv')\n",
    "dataset.iloc[:, -1] = dataset.iloc[:, -1]\n",
    "X = dataset.iloc[:, :-1]  # Features\n",
    "y = dataset.iloc[:, -1] -1   # Target\n",
    "y"
   ],
   "metadata": {
    "collapsed": false,
    "ExecuteTime": {
     "end_time": "2024-01-15T12:45:30.645315100Z",
     "start_time": "2024-01-15T12:45:30.536300Z"
    }
   },
   "id": "1f329b74abfcb22b",
   "execution_count": 7
  },
  {
   "cell_type": "code",
   "outputs": [
    {
     "data": {
      "text/plain": "array([[1., 0., 0.],\n       [1., 0., 0.],\n       [0., 1., 0.],\n       ...,\n       [0., 0., 1.],\n       [0., 0., 1.],\n       [0., 0., 1.]], dtype=float32)"
     },
     "execution_count": 8,
     "metadata": {},
     "output_type": "execute_result"
    }
   ],
   "source": [
    "# Normalize the features\n",
    "scaler = StandardScaler()\n",
    "X_scaled = scaler.fit_transform(X)\n",
    "\n",
    "# Convert labels to categorical\n",
    "y_categorical = to_categorical(y)\n",
    "y_categorical"
   ],
   "metadata": {
    "collapsed": false,
    "ExecuteTime": {
     "end_time": "2024-01-15T12:45:30.665262Z",
     "start_time": "2024-01-15T12:45:30.646312300Z"
    }
   },
   "id": "ade106bda0edee4c",
   "execution_count": 8
  },
  {
   "cell_type": "code",
   "outputs": [],
   "source": [
    "# Shuffle the data\n",
    "X_scaled, y_categorical = shuffle(X_scaled, y_categorical, random_state=42)\n",
    "\n",
    "# Split the data\n",
    "X_train, X_test, y_train, y_test = train_test_split(\n",
    "    X_scaled, y_categorical, test_size=0.2, random_state=42)\n",
    "\n",
    "# Number of unique classes in the target variable\n",
    "num_classes = y_train.shape[1]\n",
    "\n",
    "\n",
    "# Building the DNN model\n",
    "model = Sequential([\n",
    "    Dense(32, activation='relu', input_shape=(X_train.shape[1],), name='dense_0'),\n",
    "    Dense(16, activation='relu', name='dense_1'),\n",
    "    Dense(3, activation='relu', name='dense_2'),\n",
    "    # Dense(3, activation='relu', name='dense_3'),\n",
    "    Dense(num_classes, activation='softmax')  # Output layer\n",
    "])"
   ],
   "metadata": {
    "collapsed": false,
    "ExecuteTime": {
     "end_time": "2024-01-15T12:45:30.708148800Z",
     "start_time": "2024-01-15T12:45:30.662269700Z"
    }
   },
   "id": "511d0fe9c15e2887",
   "execution_count": 9
  },
  {
   "cell_type": "code",
   "outputs": [],
   "source": [
    "# Define the early stopping callback\n",
    "early_stopping = EarlyStopping(\n",
    "    monitor='val_loss',\n",
    "    min_delta=0.001,  # minimium amount of change to count as an improvement\n",
    "    patience=100,  # how many epochs to wait before stopping\n",
    "    verbose=1,\n",
    "    mode='min',\n",
    "    restore_best_weights=True\n",
    ")\n",
    "\n",
    "# Set the learning rate\n",
    "learning_rate = 0.01\n",
    "\n",
    "# Create the ReduceLROnPlateau callback\n",
    "reduce_lr = ReduceLROnPlateau(\n",
    "    monitor='val_loss',\n",
    "    factor=0.9,  # factor by which the learning rate will be reduced\n",
    "    patience=10,  # number of epochs with no improvement after which learning rate will be reduced\n",
    "    min_lr=0.00001,  # lower bound on the learning rate\n",
    "    verbose=1\n",
    ")\n",
    "lr_callback = tf.keras.callbacks.LearningRateScheduler(reduce_lr)\n",
    "\n",
    "class PrintLR(tf.keras.callbacks.Callback):\n",
    "    def __init__(self):\n",
    "        super().__init__()\n",
    "        self.learning_rates = []\n",
    "        \n",
    "    def on_epoch_begin(self, epoch, logs=None):\n",
    "        lr = self.model.optimizer.lr\n",
    "        if hasattr(lr, 'numpy'):\n",
    "            lr = lr.numpy()\n",
    "        elif hasattr(lr, 'eval'):\n",
    "            lr = lr.eval(session=tf.compat.v1.Session())\n",
    "        print(f'Epoch {epoch+1}: Learning rate is {lr}.')\n",
    "    \n",
    "    def on_epoch_end(self, epoch, logs=None):\n",
    "        # Retrieve the current learning rate from the optimizer\n",
    "        current_lr = tf.keras.backend.get_value(self.model.optimizer.lr)\n",
    "        # Append the current learning rate to the list\n",
    "        self.learning_rates.append(current_lr)\n",
    "\n",
    "lr_tracker = PrintLR()\n",
    "callbacks = [lr_tracker, early_stopping, reduce_lr]\n",
    "\n",
    "\n",
    "# Initialize the optimizer with the learning rate\n",
    "optimizer = Adam(learning_rate=learning_rate)\n",
    "\n",
    "# Compiling the model\n",
    "model.compile(optimizer=optimizer,\n",
    "              loss='categorical_crossentropy',\n",
    "              metrics=['accuracy'])"
   ],
   "metadata": {
    "collapsed": false,
    "ExecuteTime": {
     "end_time": "2024-01-15T12:45:30.723618600Z",
     "start_time": "2024-01-15T12:45:30.717633400Z"
    }
   },
   "id": "2fbc7b7e96769fec",
   "execution_count": 10
  },
  {
   "cell_type": "code",
   "outputs": [
    {
     "name": "stdout",
     "output_type": "stream",
     "text": [
      "Epoch 1: Learning rate is 0.009999999776482582.\n",
      "Epoch 1/1000\n",
      " 1/27 [>.............................] - ETA: 0s - loss: 1.1431 - accuracy: 0.1250WARNING:tensorflow:Callbacks method `on_train_batch_end` is slow compared to the batch time (batch time: 0.0000s vs `on_train_batch_end` time: 0.0010s). Check your callbacks.\n",
      "27/27 [==============================] - 0s 6ms/step - loss: 0.8109 - accuracy: 0.6000 - val_loss: 0.8052 - val_accuracy: 0.5660\n",
      "Epoch 2: Learning rate is 0.009999999776482582.\n",
      "Epoch 2/1000\n",
      "27/27 [==============================] - 0s 960us/step - loss: 0.5608 - accuracy: 0.7786 - val_loss: 0.5511 - val_accuracy: 0.7547\n",
      "Epoch 3: Learning rate is 0.009999999776482582.\n",
      "Epoch 3/1000\n",
      "27/27 [==============================] - 0s 1ms/step - loss: 0.4684 - accuracy: 0.8262 - val_loss: 0.5309 - val_accuracy: 0.7830\n",
      "Epoch 4: Learning rate is 0.009999999776482582.\n",
      "Epoch 4/1000\n",
      "27/27 [==============================] - 0s 1ms/step - loss: 0.4253 - accuracy: 0.8405 - val_loss: 0.4645 - val_accuracy: 0.8019\n",
      "Epoch 5: Learning rate is 0.009999999776482582.\n",
      "Epoch 5/1000\n",
      "27/27 [==============================] - 0s 997us/step - loss: 0.3716 - accuracy: 0.8548 - val_loss: 0.4117 - val_accuracy: 0.7830\n",
      "Epoch 6: Learning rate is 0.009999999776482582.\n",
      "Epoch 6/1000\n",
      "27/27 [==============================] - 0s 997us/step - loss: 0.3447 - accuracy: 0.8548 - val_loss: 0.3875 - val_accuracy: 0.8113\n",
      "Epoch 7: Learning rate is 0.009999999776482582.\n",
      "Epoch 7/1000\n",
      "27/27 [==============================] - 0s 1ms/step - loss: 0.3288 - accuracy: 0.8619 - val_loss: 0.7993 - val_accuracy: 0.7925\n",
      "Epoch 8: Learning rate is 0.009999999776482582.\n",
      "Epoch 8/1000\n",
      "27/27 [==============================] - 0s 997us/step - loss: 0.4726 - accuracy: 0.8476 - val_loss: 0.4934 - val_accuracy: 0.7736\n",
      "Epoch 9: Learning rate is 0.009999999776482582.\n",
      "Epoch 9/1000\n",
      "27/27 [==============================] - 0s 997us/step - loss: 0.3471 - accuracy: 0.8643 - val_loss: 0.4385 - val_accuracy: 0.8019\n",
      "Epoch 10: Learning rate is 0.009999999776482582.\n",
      "Epoch 10/1000\n",
      "27/27 [==============================] - 0s 979us/step - loss: 0.2999 - accuracy: 0.8714 - val_loss: 0.4701 - val_accuracy: 0.8019\n",
      "Epoch 11: Learning rate is 0.009999999776482582.\n",
      "Epoch 11/1000\n",
      "27/27 [==============================] - 0s 1ms/step - loss: 0.2816 - accuracy: 0.8833 - val_loss: 0.4188 - val_accuracy: 0.7830\n",
      "Epoch 12: Learning rate is 0.009999999776482582.\n",
      "Epoch 12/1000\n",
      "27/27 [==============================] - 0s 997us/step - loss: 0.2685 - accuracy: 0.8881 - val_loss: 0.4509 - val_accuracy: 0.8208\n",
      "Epoch 13: Learning rate is 0.009999999776482582.\n",
      "Epoch 13/1000\n",
      "27/27 [==============================] - 0s 924us/step - loss: 0.2572 - accuracy: 0.8881 - val_loss: 0.4813 - val_accuracy: 0.7642\n",
      "Epoch 14: Learning rate is 0.009999999776482582.\n",
      "Epoch 14/1000\n",
      "27/27 [==============================] - 0s 979us/step - loss: 0.2697 - accuracy: 0.9048 - val_loss: 0.4192 - val_accuracy: 0.7830\n",
      "Epoch 15: Learning rate is 0.009999999776482582.\n",
      "Epoch 15/1000\n",
      "27/27 [==============================] - 0s 924us/step - loss: 0.2501 - accuracy: 0.8976 - val_loss: 0.4179 - val_accuracy: 0.8113\n",
      "Epoch 16: Learning rate is 0.009999999776482582.\n",
      "Epoch 16/1000\n",
      " 1/27 [>.............................] - ETA: 0s - loss: 0.2190 - accuracy: 0.8750\n",
      "Epoch 00016: ReduceLROnPlateau reducing learning rate to 0.008999999798834325.\n",
      "27/27 [==============================] - 0s 1ms/step - loss: 0.2712 - accuracy: 0.8786 - val_loss: 0.5381 - val_accuracy: 0.7925\n",
      "Epoch 17: Learning rate is 0.008999999612569809.\n",
      "Epoch 17/1000\n",
      "27/27 [==============================] - 0s 942us/step - loss: 0.2539 - accuracy: 0.8905 - val_loss: 0.4990 - val_accuracy: 0.7736\n",
      "Epoch 18: Learning rate is 0.008999999612569809.\n",
      "Epoch 18/1000\n",
      "27/27 [==============================] - 0s 1ms/step - loss: 0.2251 - accuracy: 0.8952 - val_loss: 0.4913 - val_accuracy: 0.8019\n",
      "Epoch 19: Learning rate is 0.008999999612569809.\n",
      "Epoch 19/1000\n",
      "27/27 [==============================] - 0s 960us/step - loss: 0.2007 - accuracy: 0.9167 - val_loss: 0.5160 - val_accuracy: 0.8019\n",
      "Epoch 20: Learning rate is 0.008999999612569809.\n",
      "Epoch 20/1000\n",
      "27/27 [==============================] - 0s 979us/step - loss: 0.2263 - accuracy: 0.9095 - val_loss: 0.4307 - val_accuracy: 0.8019\n",
      "Epoch 21: Learning rate is 0.008999999612569809.\n",
      "Epoch 21/1000\n",
      "27/27 [==============================] - 0s 1ms/step - loss: 0.1992 - accuracy: 0.9262 - val_loss: 0.4767 - val_accuracy: 0.7736\n",
      "Epoch 22: Learning rate is 0.008999999612569809.\n",
      "Epoch 22/1000\n",
      "27/27 [==============================] - 0s 997us/step - loss: 0.1859 - accuracy: 0.9262 - val_loss: 0.4597 - val_accuracy: 0.8208\n",
      "Epoch 23: Learning rate is 0.008999999612569809.\n",
      "Epoch 23/1000\n",
      "27/27 [==============================] - 0s 923us/step - loss: 0.1893 - accuracy: 0.9286 - val_loss: 0.4683 - val_accuracy: 0.7925\n",
      "Epoch 24: Learning rate is 0.008999999612569809.\n",
      "Epoch 24/1000\n",
      "27/27 [==============================] - 0s 905us/step - loss: 0.1964 - accuracy: 0.9167 - val_loss: 0.4058 - val_accuracy: 0.8208\n",
      "Epoch 25: Learning rate is 0.008999999612569809.\n",
      "Epoch 25/1000\n",
      "27/27 [==============================] - 0s 850us/step - loss: 0.1799 - accuracy: 0.9310 - val_loss: 0.4620 - val_accuracy: 0.7925\n",
      "Epoch 26: Learning rate is 0.008999999612569809.\n",
      "Epoch 26/1000\n",
      " 1/27 [>.............................] - ETA: 0s - loss: 0.1223 - accuracy: 1.0000\n",
      "Epoch 00026: ReduceLROnPlateau reducing learning rate to 0.008099999651312828.\n",
      "27/27 [==============================] - 0s 887us/step - loss: 0.1905 - accuracy: 0.9262 - val_loss: 0.4990 - val_accuracy: 0.8113\n",
      "Epoch 27: Learning rate is 0.008099999278783798.\n",
      "Epoch 27/1000\n",
      "27/27 [==============================] - 0s 887us/step - loss: 0.1612 - accuracy: 0.9429 - val_loss: 0.5382 - val_accuracy: 0.7736\n",
      "Epoch 28: Learning rate is 0.008099999278783798.\n",
      "Epoch 28/1000\n",
      "27/27 [==============================] - 0s 930us/step - loss: 0.1479 - accuracy: 0.9476 - val_loss: 0.4570 - val_accuracy: 0.8113\n",
      "Epoch 29: Learning rate is 0.008099999278783798.\n",
      "Epoch 29/1000\n",
      "27/27 [==============================] - 0s 960us/step - loss: 0.1732 - accuracy: 0.9405 - val_loss: 0.5238 - val_accuracy: 0.8113\n",
      "Epoch 30: Learning rate is 0.008099999278783798.\n",
      "Epoch 30/1000\n",
      "27/27 [==============================] - 0s 887us/step - loss: 0.2314 - accuracy: 0.9143 - val_loss: 0.4979 - val_accuracy: 0.8302\n",
      "Epoch 31: Learning rate is 0.008099999278783798.\n",
      "Epoch 31/1000\n",
      "27/27 [==============================] - 0s 942us/step - loss: 0.2394 - accuracy: 0.9119 - val_loss: 0.4702 - val_accuracy: 0.8302\n",
      "Epoch 32: Learning rate is 0.008099999278783798.\n",
      "Epoch 32/1000\n",
      "27/27 [==============================] - 0s 960us/step - loss: 0.2242 - accuracy: 0.9048 - val_loss: 0.5095 - val_accuracy: 0.8113\n",
      "Epoch 33: Learning rate is 0.008099999278783798.\n",
      "Epoch 33/1000\n",
      "27/27 [==============================] - 0s 813us/step - loss: 0.1902 - accuracy: 0.9214 - val_loss: 0.5050 - val_accuracy: 0.8302\n",
      "Epoch 34: Learning rate is 0.008099999278783798.\n",
      "Epoch 34/1000\n",
      "27/27 [==============================] - 0s 997us/step - loss: 0.2425 - accuracy: 0.9214 - val_loss: 0.5546 - val_accuracy: 0.8208\n",
      "Epoch 35: Learning rate is 0.008099999278783798.\n",
      "Epoch 35/1000\n",
      "27/27 [==============================] - 0s 1000us/step - loss: 0.1857 - accuracy: 0.9310 - val_loss: 0.5036 - val_accuracy: 0.8396\n",
      "Epoch 36: Learning rate is 0.008099999278783798.\n",
      "Epoch 36/1000\n",
      " 1/27 [>.............................] - ETA: 0s - loss: 0.2367 - accuracy: 0.9375\n",
      "Epoch 00036: ReduceLROnPlateau reducing learning rate to 0.007289999350905419.\n",
      "27/27 [==============================] - 0s 923us/step - loss: 0.1724 - accuracy: 0.9333 - val_loss: 0.5690 - val_accuracy: 0.8019\n",
      "Epoch 37: Learning rate is 0.0072899991646409035.\n",
      "Epoch 37/1000\n",
      "27/27 [==============================] - 0s 894us/step - loss: 0.1545 - accuracy: 0.9310 - val_loss: 0.5525 - val_accuracy: 0.8491\n",
      "Epoch 38: Learning rate is 0.0072899991646409035.\n",
      "Epoch 38/1000\n",
      "27/27 [==============================] - 0s 887us/step - loss: 0.1253 - accuracy: 0.9690 - val_loss: 0.5421 - val_accuracy: 0.8491\n",
      "Epoch 39: Learning rate is 0.0072899991646409035.\n",
      "Epoch 39/1000\n",
      "27/27 [==============================] - 0s 897us/step - loss: 0.1130 - accuracy: 0.9762 - val_loss: 0.5318 - val_accuracy: 0.8019\n",
      "Epoch 40: Learning rate is 0.0072899991646409035.\n",
      "Epoch 40/1000\n",
      "27/27 [==============================] - 0s 887us/step - loss: 0.1124 - accuracy: 0.9667 - val_loss: 0.5438 - val_accuracy: 0.8302\n",
      "Epoch 41: Learning rate is 0.0072899991646409035.\n",
      "Epoch 41/1000\n",
      "27/27 [==============================] - 0s 923us/step - loss: 0.1033 - accuracy: 0.9810 - val_loss: 0.5823 - val_accuracy: 0.8302\n",
      "Epoch 42: Learning rate is 0.0072899991646409035.\n",
      "Epoch 42/1000\n",
      "27/27 [==============================] - 0s 894us/step - loss: 0.1040 - accuracy: 0.9762 - val_loss: 0.6521 - val_accuracy: 0.7925\n",
      "Epoch 43: Learning rate is 0.0072899991646409035.\n",
      "Epoch 43/1000\n",
      "27/27 [==============================] - 0s 850us/step - loss: 0.1045 - accuracy: 0.9762 - val_loss: 0.5359 - val_accuracy: 0.8113\n",
      "Epoch 44: Learning rate is 0.0072899991646409035.\n",
      "Epoch 44/1000\n",
      "27/27 [==============================] - 0s 887us/step - loss: 0.0897 - accuracy: 0.9857 - val_loss: 0.6514 - val_accuracy: 0.8113\n",
      "Epoch 45: Learning rate is 0.0072899991646409035.\n",
      "Epoch 45/1000\n",
      "27/27 [==============================] - 0s 887us/step - loss: 0.1000 - accuracy: 0.9786 - val_loss: 0.6354 - val_accuracy: 0.8113\n",
      "Epoch 46: Learning rate is 0.0072899991646409035.\n",
      "Epoch 46/1000\n",
      " 1/27 [>.............................] - ETA: 0s - loss: 0.0697 - accuracy: 1.0000\n",
      "Epoch 00046: ReduceLROnPlateau reducing learning rate to 0.006560999248176813.\n",
      "27/27 [==============================] - 0s 979us/step - loss: 0.0844 - accuracy: 0.9833 - val_loss: 0.4808 - val_accuracy: 0.7925\n",
      "Epoch 47: Learning rate is 0.006560999434441328.\n",
      "Epoch 47/1000\n",
      "27/27 [==============================] - 0s 923us/step - loss: 0.1731 - accuracy: 0.9452 - val_loss: 0.6639 - val_accuracy: 0.7830\n",
      "Epoch 48: Learning rate is 0.006560999434441328.\n",
      "Epoch 48/1000\n",
      "27/27 [==============================] - 0s 850us/step - loss: 0.1587 - accuracy: 0.9452 - val_loss: 0.6501 - val_accuracy: 0.7830\n",
      "Epoch 49: Learning rate is 0.006560999434441328.\n",
      "Epoch 49/1000\n",
      "27/27 [==============================] - 0s 887us/step - loss: 0.0816 - accuracy: 0.9762 - val_loss: 0.6747 - val_accuracy: 0.8019\n",
      "Epoch 50: Learning rate is 0.006560999434441328.\n",
      "Epoch 50/1000\n",
      "27/27 [==============================] - 0s 941us/step - loss: 0.0867 - accuracy: 0.9786 - val_loss: 0.5802 - val_accuracy: 0.7830\n",
      "Epoch 51: Learning rate is 0.006560999434441328.\n",
      "Epoch 51/1000\n",
      "27/27 [==============================] - 0s 901us/step - loss: 0.0687 - accuracy: 0.9857 - val_loss: 0.6380 - val_accuracy: 0.8302\n",
      "Epoch 52: Learning rate is 0.006560999434441328.\n",
      "Epoch 52/1000\n",
      "27/27 [==============================] - 0s 923us/step - loss: 0.0626 - accuracy: 0.9905 - val_loss: 0.5893 - val_accuracy: 0.8396\n",
      "Epoch 53: Learning rate is 0.006560999434441328.\n",
      "Epoch 53/1000\n",
      "27/27 [==============================] - 0s 923us/step - loss: 0.0659 - accuracy: 0.9810 - val_loss: 0.6245 - val_accuracy: 0.8208\n",
      "Epoch 54: Learning rate is 0.006560999434441328.\n",
      "Epoch 54/1000\n",
      "27/27 [==============================] - 0s 869us/step - loss: 0.0615 - accuracy: 0.9881 - val_loss: 0.6302 - val_accuracy: 0.8208\n",
      "Epoch 55: Learning rate is 0.006560999434441328.\n",
      "Epoch 55/1000\n",
      "27/27 [==============================] - 0s 923us/step - loss: 0.0589 - accuracy: 0.9881 - val_loss: 0.6009 - val_accuracy: 0.8208\n",
      "Epoch 56: Learning rate is 0.006560999434441328.\n",
      "Epoch 56/1000\n",
      " 1/27 [>.............................] - ETA: 0s - loss: 0.0218 - accuracy: 1.0000\n",
      "Epoch 00056: ReduceLROnPlateau reducing learning rate to 0.005904899490997195.\n",
      "27/27 [==============================] - 0s 887us/step - loss: 0.0629 - accuracy: 0.9881 - val_loss: 0.6783 - val_accuracy: 0.8208\n",
      "Epoch 57: Learning rate is 0.0059048994444310665.\n",
      "Epoch 57/1000\n",
      "27/27 [==============================] - 0s 887us/step - loss: 0.0580 - accuracy: 0.9857 - val_loss: 0.6511 - val_accuracy: 0.8491\n",
      "Epoch 58: Learning rate is 0.0059048994444310665.\n",
      "Epoch 58/1000\n",
      "27/27 [==============================] - 0s 997us/step - loss: 0.0528 - accuracy: 0.9905 - val_loss: 0.6947 - val_accuracy: 0.8208\n",
      "Epoch 59: Learning rate is 0.0059048994444310665.\n",
      "Epoch 59/1000\n",
      "27/27 [==============================] - 0s 924us/step - loss: 0.0480 - accuracy: 0.9929 - val_loss: 0.6790 - val_accuracy: 0.8396\n",
      "Epoch 60: Learning rate is 0.0059048994444310665.\n",
      "Epoch 60/1000\n",
      "27/27 [==============================] - 0s 887us/step - loss: 0.0467 - accuracy: 0.9929 - val_loss: 0.7529 - val_accuracy: 0.8302\n",
      "Epoch 61: Learning rate is 0.0059048994444310665.\n",
      "Epoch 61/1000\n",
      "27/27 [==============================] - 0s 943us/step - loss: 0.0546 - accuracy: 0.9833 - val_loss: 0.6930 - val_accuracy: 0.8396\n",
      "Epoch 62: Learning rate is 0.0059048994444310665.\n",
      "Epoch 62/1000\n",
      "27/27 [==============================] - 0s 924us/step - loss: 0.0610 - accuracy: 0.9881 - val_loss: 0.7497 - val_accuracy: 0.8491\n",
      "Epoch 63: Learning rate is 0.0059048994444310665.\n",
      "Epoch 63/1000\n",
      "27/27 [==============================] - 0s 1ms/step - loss: 0.0634 - accuracy: 0.9857 - val_loss: 0.6235 - val_accuracy: 0.8396\n",
      "Epoch 64: Learning rate is 0.0059048994444310665.\n",
      "Epoch 64/1000\n",
      "27/27 [==============================] - 0s 888us/step - loss: 0.0713 - accuracy: 0.9810 - val_loss: 0.6344 - val_accuracy: 0.8208\n",
      "Epoch 65: Learning rate is 0.0059048994444310665.\n",
      "Epoch 65/1000\n",
      "27/27 [==============================] - 0s 875us/step - loss: 0.0483 - accuracy: 0.9881 - val_loss: 0.7544 - val_accuracy: 0.8113\n",
      "Epoch 66: Learning rate is 0.0059048994444310665.\n",
      "Epoch 66/1000\n",
      " 1/27 [>.............................] - ETA: 0s - loss: 0.3552 - accuracy: 0.8750\n",
      "Epoch 00066: ReduceLROnPlateau reducing learning rate to 0.00531440949998796.\n",
      "27/27 [==============================] - 0s 887us/step - loss: 0.0436 - accuracy: 0.9929 - val_loss: 0.7127 - val_accuracy: 0.8302\n",
      "Epoch 67: Learning rate is 0.0053144097328186035.\n",
      "Epoch 67/1000\n",
      "27/27 [==============================] - 0s 923us/step - loss: 0.0390 - accuracy: 0.9952 - val_loss: 0.7282 - val_accuracy: 0.8208\n",
      "Epoch 68: Learning rate is 0.0053144097328186035.\n",
      "Epoch 68/1000\n",
      "27/27 [==============================] - 0s 924us/step - loss: 0.0372 - accuracy: 0.9929 - val_loss: 0.7395 - val_accuracy: 0.8396\n",
      "Epoch 69: Learning rate is 0.0053144097328186035.\n",
      "Epoch 69/1000\n",
      "27/27 [==============================] - 0s 868us/step - loss: 0.0362 - accuracy: 0.9929 - val_loss: 0.7059 - val_accuracy: 0.8396\n",
      "Epoch 70: Learning rate is 0.0053144097328186035.\n",
      "Epoch 70/1000\n",
      "27/27 [==============================] - 0s 887us/step - loss: 0.0354 - accuracy: 0.9929 - val_loss: 0.7224 - val_accuracy: 0.8396\n",
      "Epoch 71: Learning rate is 0.0053144097328186035.\n",
      "Epoch 71/1000\n",
      "27/27 [==============================] - 0s 887us/step - loss: 0.0346 - accuracy: 0.9929 - val_loss: 0.7570 - val_accuracy: 0.8491\n",
      "Epoch 72: Learning rate is 0.0053144097328186035.\n",
      "Epoch 72/1000\n",
      "27/27 [==============================] - 0s 924us/step - loss: 0.0341 - accuracy: 0.9952 - val_loss: 0.7481 - val_accuracy: 0.8396\n",
      "Epoch 73: Learning rate is 0.0053144097328186035.\n",
      "Epoch 73/1000\n",
      "27/27 [==============================] - 0s 887us/step - loss: 0.0335 - accuracy: 0.9952 - val_loss: 0.7504 - val_accuracy: 0.8396\n",
      "Epoch 74: Learning rate is 0.0053144097328186035.\n",
      "Epoch 74/1000\n",
      "27/27 [==============================] - 0s 887us/step - loss: 0.0333 - accuracy: 0.9952 - val_loss: 0.7760 - val_accuracy: 0.8302\n",
      "Epoch 75: Learning rate is 0.0053144097328186035.\n",
      "Epoch 75/1000\n",
      "27/27 [==============================] - 0s 923us/step - loss: 0.0325 - accuracy: 0.9952 - val_loss: 0.7777 - val_accuracy: 0.8396\n",
      "Epoch 76: Learning rate is 0.0053144097328186035.\n",
      "Epoch 76/1000\n",
      " 1/27 [>.............................] - ETA: 0s - loss: 0.0081 - accuracy: 1.0000\n",
      "Epoch 00076: ReduceLROnPlateau reducing learning rate to 0.004782968759536744.\n",
      "27/27 [==============================] - 0s 900us/step - loss: 0.0325 - accuracy: 0.9952 - val_loss: 0.7934 - val_accuracy: 0.8396\n",
      "Epoch 77: Learning rate is 0.004782968666404486.\n",
      "Epoch 77/1000\n",
      "27/27 [==============================] - 0s 997us/step - loss: 0.0321 - accuracy: 0.9952 - val_loss: 0.8002 - val_accuracy: 0.8302\n",
      "Epoch 78: Learning rate is 0.004782968666404486.\n",
      "Epoch 78/1000\n",
      "27/27 [==============================] - 0s 923us/step - loss: 0.0314 - accuracy: 0.9952 - val_loss: 0.7984 - val_accuracy: 0.8396\n",
      "Epoch 79: Learning rate is 0.004782968666404486.\n",
      "Epoch 79/1000\n",
      "27/27 [==============================] - 0s 887us/step - loss: 0.0314 - accuracy: 0.9952 - val_loss: 0.8161 - val_accuracy: 0.8396\n",
      "Epoch 80: Learning rate is 0.004782968666404486.\n",
      "Epoch 80/1000\n",
      "27/27 [==============================] - 0s 889us/step - loss: 0.0313 - accuracy: 0.9952 - val_loss: 0.8075 - val_accuracy: 0.8302\n",
      "Epoch 81: Learning rate is 0.004782968666404486.\n",
      "Epoch 81/1000\n",
      "27/27 [==============================] - 0s 997us/step - loss: 0.0307 - accuracy: 0.9952 - val_loss: 0.8351 - val_accuracy: 0.8302\n",
      "Epoch 82: Learning rate is 0.004782968666404486.\n",
      "Epoch 82/1000\n",
      "27/27 [==============================] - 0s 923us/step - loss: 0.0304 - accuracy: 0.9952 - val_loss: 0.8247 - val_accuracy: 0.8396\n",
      "Epoch 83: Learning rate is 0.004782968666404486.\n",
      "Epoch 83/1000\n",
      "27/27 [==============================] - 0s 961us/step - loss: 0.0306 - accuracy: 0.9952 - val_loss: 0.8540 - val_accuracy: 0.8302\n",
      "Epoch 84: Learning rate is 0.004782968666404486.\n",
      "Epoch 84/1000\n",
      "27/27 [==============================] - 0s 868us/step - loss: 0.0301 - accuracy: 0.9952 - val_loss: 0.8367 - val_accuracy: 0.8396\n",
      "Epoch 85: Learning rate is 0.004782968666404486.\n",
      "Epoch 85/1000\n",
      "27/27 [==============================] - 0s 923us/step - loss: 0.0299 - accuracy: 0.9952 - val_loss: 0.8389 - val_accuracy: 0.8396\n",
      "Epoch 86: Learning rate is 0.004782968666404486.\n",
      "Epoch 86/1000\n",
      " 1/27 [>.............................] - ETA: 0s - loss: 0.0075 - accuracy: 1.0000\n",
      "Epoch 00086: ReduceLROnPlateau reducing learning rate to 0.0043046717997640375.\n",
      "27/27 [==============================] - 0s 924us/step - loss: 0.0297 - accuracy: 0.9952 - val_loss: 0.8586 - val_accuracy: 0.8396\n",
      "Epoch 87: Learning rate is 0.004304671660065651.\n",
      "Epoch 87/1000\n",
      "27/27 [==============================] - 0s 906us/step - loss: 0.0294 - accuracy: 0.9952 - val_loss: 0.8645 - val_accuracy: 0.8396\n",
      "Epoch 88: Learning rate is 0.004304671660065651.\n",
      "Epoch 88/1000\n",
      "27/27 [==============================] - 0s 894us/step - loss: 0.0294 - accuracy: 0.9952 - val_loss: 0.8635 - val_accuracy: 0.8396\n",
      "Epoch 89: Learning rate is 0.004304671660065651.\n",
      "Epoch 89/1000\n",
      "27/27 [==============================] - 0s 886us/step - loss: 0.0293 - accuracy: 0.9952 - val_loss: 0.8766 - val_accuracy: 0.8302\n",
      "Epoch 90: Learning rate is 0.004304671660065651.\n",
      "Epoch 90/1000\n",
      "27/27 [==============================] - 0s 997us/step - loss: 0.0293 - accuracy: 0.9952 - val_loss: 0.8822 - val_accuracy: 0.8396\n",
      "Epoch 91: Learning rate is 0.004304671660065651.\n",
      "Epoch 91/1000\n",
      "27/27 [==============================] - 0s 832us/step - loss: 0.0290 - accuracy: 0.9952 - val_loss: 0.8777 - val_accuracy: 0.8396\n",
      "Epoch 92: Learning rate is 0.004304671660065651.\n",
      "Epoch 92/1000\n",
      "27/27 [==============================] - 0s 886us/step - loss: 0.0290 - accuracy: 0.9952 - val_loss: 0.8772 - val_accuracy: 0.8302\n",
      "Epoch 93: Learning rate is 0.004304671660065651.\n",
      "Epoch 93/1000\n",
      "27/27 [==============================] - 0s 960us/step - loss: 0.0289 - accuracy: 0.9952 - val_loss: 0.8867 - val_accuracy: 0.8396\n",
      "Epoch 94: Learning rate is 0.004304671660065651.\n",
      "Epoch 94/1000\n",
      "27/27 [==============================] - 0s 923us/step - loss: 0.0288 - accuracy: 0.9952 - val_loss: 0.9061 - val_accuracy: 0.8396\n",
      "Epoch 95: Learning rate is 0.004304671660065651.\n",
      "Epoch 95/1000\n",
      "27/27 [==============================] - 0s 895us/step - loss: 0.0286 - accuracy: 0.9952 - val_loss: 0.9095 - val_accuracy: 0.8302\n",
      "Epoch 96: Learning rate is 0.004304671660065651.\n",
      "Epoch 96/1000\n",
      " 1/27 [>.............................] - ETA: 0s - loss: 0.0065 - accuracy: 1.0000\n",
      "Epoch 00096: ReduceLROnPlateau reducing learning rate to 0.0038742044940590858.\n",
      "27/27 [==============================] - 0s 850us/step - loss: 0.0284 - accuracy: 0.9952 - val_loss: 0.9197 - val_accuracy: 0.8396\n",
      "Epoch 97: Learning rate is 0.0038742045871913433.\n",
      "Epoch 97/1000\n",
      "27/27 [==============================] - 0s 896us/step - loss: 0.0282 - accuracy: 0.9952 - val_loss: 0.9402 - val_accuracy: 0.8113\n",
      "Epoch 98: Learning rate is 0.0038742045871913433.\n",
      "Epoch 98/1000\n",
      "27/27 [==============================] - 0s 960us/step - loss: 0.0242 - accuracy: 0.9952 - val_loss: 0.8879 - val_accuracy: 0.8302\n",
      "Epoch 99: Learning rate is 0.0038742045871913433.\n",
      "Epoch 99/1000\n",
      "27/27 [==============================] - 0s 852us/step - loss: 0.0236 - accuracy: 0.9952 - val_loss: 0.9167 - val_accuracy: 0.8302\n",
      "Epoch 100: Learning rate is 0.0038742045871913433.\n",
      "Epoch 100/1000\n",
      "27/27 [==============================] - 0s 887us/step - loss: 0.1347 - accuracy: 0.9905 - val_loss: 0.9065 - val_accuracy: 0.8208\n",
      "Epoch 101: Learning rate is 0.0038742045871913433.\n",
      "Epoch 101/1000\n",
      "27/27 [==============================] - 0s 923us/step - loss: 0.1182 - accuracy: 0.9786 - val_loss: 0.9265 - val_accuracy: 0.8208\n",
      "Epoch 102: Learning rate is 0.0038742045871913433.\n",
      "Epoch 102/1000\n",
      "27/27 [==============================] - 0s 887us/step - loss: 0.1005 - accuracy: 0.9786 - val_loss: 0.8825 - val_accuracy: 0.8208\n",
      "Epoch 103: Learning rate is 0.0038742045871913433.\n",
      "Epoch 103/1000\n",
      "27/27 [==============================] - 0s 928us/step - loss: 0.2126 - accuracy: 0.9452 - val_loss: 0.7934 - val_accuracy: 0.8208\n",
      "Epoch 104: Learning rate is 0.0038742045871913433.\n",
      "Epoch 104/1000\n",
      "27/27 [==============================] - 0s 960us/step - loss: 0.1399 - accuracy: 0.9524 - val_loss: 0.8289 - val_accuracy: 0.8491\n",
      "Epoch 105: Learning rate is 0.0038742045871913433.\n",
      "Epoch 105/1000\n",
      "27/27 [==============================] - 0s 887us/step - loss: 0.0909 - accuracy: 0.9690 - val_loss: 0.7151 - val_accuracy: 0.8019\n",
      "Epoch 106: Learning rate is 0.0038742045871913433.\n",
      "Epoch 106/1000\n",
      " 1/27 [>.............................] - ETA: 0s - loss: 0.0253 - accuracy: 1.0000Restoring model weights from the end of the best epoch.\n",
      "\n",
      "Epoch 00106: ReduceLROnPlateau reducing learning rate to 0.003486784128472209.\n",
      "27/27 [==============================] - 0s 868us/step - loss: 0.1028 - accuracy: 0.9738 - val_loss: 1.0463 - val_accuracy: 0.8208\n",
      "Epoch 00106: early stopping\n"
     ]
    }
   ],
   "source": [
    "# Pass the callback to the fit method\n",
    "history = model.fit(\n",
    "    X_train,\n",
    "    y_train,\n",
    "    validation_split=0.2,\n",
    "    epochs=1000,\n",
    "    batch_size=16,\n",
    "    callbacks=callbacks  # include it here\n",
    ")"
   ],
   "metadata": {
    "collapsed": false,
    "ExecuteTime": {
     "end_time": "2024-01-15T12:45:34.336761200Z",
     "start_time": "2024-01-15T12:45:30.725612300Z"
    }
   },
   "id": "28d73ab43787c3a0",
   "execution_count": 11
  },
  {
   "cell_type": "code",
   "outputs": [
    {
     "name": "stdout",
     "output_type": "stream",
     "text": [
      "5/5 [==============================] - 0s 598us/step - loss: 0.4243 - accuracy: 0.8258\n",
      "Test accuracy: 0.8257575631141663\n",
      "Test loss: 0.42429986596107483\n"
     ]
    }
   ],
   "source": [
    "# Evaluating the model\n",
    "test_loss, test_acc = model.evaluate(X_test, y_test)\n",
    "print('Test accuracy:', test_acc)\n",
    "print('Test loss:', test_loss)"
   ],
   "metadata": {
    "collapsed": false,
    "ExecuteTime": {
     "end_time": "2024-01-15T12:45:34.377653Z",
     "start_time": "2024-01-15T12:45:34.329976300Z"
    }
   },
   "id": "d8c2b9850679e9db",
   "execution_count": 12
  },
  {
   "cell_type": "code",
   "outputs": [
    {
     "data": {
      "text/plain": "array([[43,  1,  0],\n       [ 2, 38,  7],\n       [ 0, 13, 28]], dtype=int64)"
     },
     "execution_count": 13,
     "metadata": {},
     "output_type": "execute_result"
    }
   ],
   "source": [
    "#confusion matrix\n",
    "from sklearn.metrics import confusion_matrix\n",
    "import numpy as np\n",
    "y_pred = model.predict(X_test)\n",
    "y_pred = np.argmax(y_pred, axis=1)\n",
    "y_test = np.argmax(y_test, axis=1)\n",
    "confusion_matrix(y_test, y_pred)"
   ],
   "metadata": {
    "collapsed": false,
    "ExecuteTime": {
     "end_time": "2024-01-15T12:45:34.468972500Z",
     "start_time": "2024-01-15T12:45:34.376653900Z"
    }
   },
   "id": "71e7ac8742425ade",
   "execution_count": 13
  },
  {
   "cell_type": "code",
   "outputs": [
    {
     "data": {
      "text/plain": "<Figure size 640x480 with 1 Axes>",
      "image/png": "[encoded data removed]"
     },
     "metadata": {},
     "output_type": "display_data"
    },
    {
     "data": {
      "text/plain": "<Figure size 640x480 with 1 Axes>",
      "image/png": "[encoded data removed]"
     },
     "metadata": {},
     "output_type": "display_data"
    },
    {
     "data": {
      "text/plain": "<Figure size 640x480 with 1 Axes>",
      "image/png": "[encoded data removed]"
     },
     "metadata": {},
     "output_type": "display_data"
    }
   ],
   "source": [
    "# Plotting the training and validation loss\n",
    "import matplotlib.pyplot as plt\n",
    "\n",
    "plt.plot(history.history['loss'])\n",
    "plt.plot(history.history['val_loss'])\n",
    "plt.title('Model loss')\n",
    "plt.ylabel('Loss')\n",
    "plt.xlabel('Epochs')\n",
    "plt.legend(['Train', 'Validation'], loc='upper right')\n",
    "plt.show()\n",
    "\n",
    "plt.plot(history.history['accuracy'])\n",
    "plt.plot(history.history['val_accuracy'])\n",
    "plt.title('Model accuracy')\n",
    "plt.ylabel('Accuracy')\n",
    "plt.xlabel('Epochs')\n",
    "plt.legend(['Train', 'Validation'], loc='lower right')\n",
    "plt.show()\n",
    "\n",
    "# Plotting\n",
    "# plt.figure(figsize=(8, 8))\n",
    "plt.plot(lr_tracker.learning_rates)\n",
    "plt.title(\"Learning Rate over Epochs\")\n",
    "plt.xlabel(\"Epoch\")\n",
    "plt.ylabel(\"Learning Rate\")\n",
    "plt.grid(True)"
   ],
   "metadata": {
    "collapsed": false,
    "ExecuteTime": {
     "end_time": "2024-01-15T12:45:34.818237100Z",
     "start_time": "2024-01-15T12:45:34.473958400Z"
    }
   },
   "id": "f3af2281f531a3d2",
   "execution_count": 14
  },
  {
   "cell_type": "code",
   "outputs": [
    {
     "name": "stdout",
     "output_type": "stream",
     "text": [
      "WARNING:tensorflow:From C:\\Users\\shinm\\miniconda3\\envs\\FurtherResearch\\lib\\site-packages\\tensorflow\\python\\training\\tracking\\tracking.py:111: Model.state_updates (from tensorflow.python.keras.engine.training) is deprecated and will be removed in a future version.\n",
      "Instructions for updating:\n",
      "This property should not be used in TensorFlow 2.0, as updates are applied automatically.\n",
      "WARNING:tensorflow:From C:\\Users\\shinm\\miniconda3\\envs\\FurtherResearch\\lib\\site-packages\\tensorflow\\python\\training\\tracking\\tracking.py:111: Layer.updates (from tensorflow.python.keras.engine.base_layer) is deprecated and will be removed in a future version.\n",
      "Instructions for updating:\n",
      "This property should not be used in TensorFlow 2.0, as updates are applied automatically.\n",
      "INFO:tensorflow:Assets written to: ../../Model/STS/Top_LDA/sts_model_top10\\assets\n"
     ]
    }
   ],
   "source": [
    "# Save the model\n",
    "tf.keras.models.save_model(model, '../../Model/STS/Top_LDA/sts_model_top10')"
   ],
   "metadata": {
    "collapsed": false,
    "ExecuteTime": {
     "end_time": "2024-01-15T12:46:55.173749600Z",
     "start_time": "2024-01-15T12:46:53.433101400Z"
    }
   },
   "id": "18d1020be4683356",
   "execution_count": 15
  },
  {
   "cell_type": "code",
   "outputs": [
    {
     "name": "stdout",
     "output_type": "stream",
     "text": [
      "Model: \"sequential\"\n",
      "_________________________________________________________________\n",
      "Layer (type)                 Output Shape              Param #   \n",
      "=================================================================\n",
      "dense_0 (Dense)              (None, 32)                384       \n",
      "_________________________________________________________________\n",
      "dense_1 (Dense)              (None, 16)                528       \n",
      "_________________________________________________________________\n",
      "dense_2 (Dense)              (None, 3)                 51        \n",
      "_________________________________________________________________\n",
      "dense (Dense)                (None, 3)                 12        \n",
      "=================================================================\n",
      "Total params: 975\n",
      "Trainable params: 975\n",
      "Non-trainable params: 0\n",
      "_________________________________________________________________\n"
     ]
    }
   ],
   "source": [
    "from tensorflow.keras.models import Model\n",
    "\n",
    "model.summary()"
   ],
   "metadata": {
    "collapsed": false,
    "ExecuteTime": {
     "end_time": "2024-01-15T12:47:04.187559200Z",
     "start_time": "2024-01-15T12:47:04.168058300Z"
    }
   },
   "id": "81106a0f3af366ea",
   "execution_count": 16
  },
  {
   "cell_type": "code",
   "outputs": [
    {
     "name": "stdout",
     "output_type": "stream",
     "text": [
      "Model: \"functional_1\"\n",
      "_________________________________________________________________\n",
      "Layer (type)                 Output Shape              Param #   \n",
      "=================================================================\n",
      "dense_0_input (InputLayer)   [(None, 11)]              0         \n",
      "_________________________________________________________________\n",
      "dense_0 (Dense)              (None, 32)                384       \n",
      "_________________________________________________________________\n",
      "dense_1 (Dense)              (None, 16)                528       \n",
      "_________________________________________________________________\n",
      "dense_2 (Dense)              (None, 3)                 51        \n",
      "=================================================================\n",
      "Total params: 963\n",
      "Trainable params: 963\n",
      "Non-trainable params: 0\n",
      "_________________________________________________________________\n"
     ]
    }
   ],
   "source": [
    "# Assume 'original_model' is your pre-trained model\n",
    "model_without_softmax = Model(inputs=model.input, \n",
    "                              outputs=model.get_layer(\"dense_2\").output)\n",
    "model_without_softmax.summary()\n"
   ],
   "metadata": {
    "collapsed": false,
    "ExecuteTime": {
     "end_time": "2024-01-15T12:47:13.696746200Z",
     "start_time": "2024-01-15T12:47:13.658325200Z"
    }
   },
   "id": "4de20c4c08d76d52",
   "execution_count": 17
  },
  {
   "cell_type": "code",
   "outputs": [
    {
     "name": "stdout",
     "output_type": "stream",
     "text": [
      "INFO:tensorflow:Assets written to: ../../Model/STS/Top_LDA/sts_model_top10_without_softmax\\assets\n"
     ]
    }
   ],
   "source": [
    "# Save the model\n",
    "tf.keras.models.save_model(model_without_softmax, '../../Model/STS/Top_LDA/sts_model_top10_without_softmax')"
   ],
   "metadata": {
    "collapsed": false,
    "ExecuteTime": {
     "end_time": "2024-01-15T12:48:08.182909700Z",
     "start_time": "2024-01-15T12:48:07.132572300Z"
    }
   },
   "id": "a8dd7a779653b76f",
   "execution_count": 18
  },
  {
   "cell_type": "code",
   "outputs": [],
   "source": [
    "'''bash\n",
    "python -m tf2onnx.convert --saved-model path_to_my_model --output model.onnx\n",
    "'''"
   ],
   "metadata": {
    "collapsed": false
   },
   "id": "a601903cb011dff7"
  }
 ],
 "metadata": {
  "kernelspec": {
   "display_name": "Python 3",
   "language": "python",
   "name": "python3"
  },
  "language_info": {
   "codemirror_mode": {
    "name": "ipython",
    "version": 2
   },
   "file_extension": ".py",
   "mimetype": "text/x-python",
   "name": "python",
   "nbconvert_exporter": "python",
   "pygments_lexer": "ipython2",
   "version": "2.7.6"
  }
 },
 "nbformat": 4,
 "nbformat_minor": 5
}
